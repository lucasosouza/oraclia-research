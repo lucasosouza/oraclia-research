{
 "cells": [
  {
   "cell_type": "markdown",
   "metadata": {},
   "source": [
    "### Loading up required libraries and configurations"
   ]
  },
  {
   "cell_type": "code",
   "execution_count": 246,
   "metadata": {
    "collapsed": false
   },
   "outputs": [],
   "source": [
    "import quandl\n",
    "import pandas_datareader.data as web\n",
    "import datetime\n",
    "import pandas as pd\n",
    "import sklearn\n",
    "import numpy as np\n",
    "from collections import defaultdict\n",
    "from IPython.display import display\n",
    "import scipy as sp\n",
    "# evaluate usage\n",
    "pd.options.mode.chained_assignment = None  # default='warn'"
   ]
  },
  {
   "cell_type": "code",
   "execution_count": 207,
   "metadata": {
    "collapsed": true
   },
   "outputs": [],
   "source": [
    "\"\"\"\"\n",
    "usage of this API key is monitored\n",
    "please don't use this key for any other work, neither make it available on the web by any means\n",
    "if you would like to access the same API for a different project,\n",
    "please create an account in quandl.com (it is free) and generate your own API key\n",
    "\"\"\" \n",
    "quandl.ApiConfig.api_key = \"1513txcURR4fYyP5VDU3\""
   ]
  },
  {
   "cell_type": "markdown",
   "metadata": {},
   "source": [
    "### Getting the data"
   ]
  },
  {
   "cell_type": "markdown",
   "metadata": {},
   "source": [
    "#### Stock data"
   ]
  },
  {
   "cell_type": "markdown",
   "metadata": {},
   "source": [
    "For the stock market general data, we will use Yahoo API, which contains reliable free access data for a number of stock markets, including Bovespa."
   ]
  },
  {
   "cell_type": "code",
   "execution_count": 208,
   "metadata": {
    "collapsed": true
   },
   "outputs": [],
   "source": [
    "start_date = '2008-1-1'\n",
    "end_date = '2016-6-20'\n",
    "symbol = \"PETR4.SA\"\n",
    "df = web.DataReader(symbol, 'yahoo', start_date, end_date)"
   ]
  },
  {
   "cell_type": "markdown",
   "metadata": {},
   "source": [
    "#### General Market Data"
   ]
  },
  {
   "cell_type": "markdown",
   "metadata": {},
   "source": [
    "For the general market data, there is excelent data made available by Banco Central do Brasil (brazilian central bank). The data is available through a webservice, but there is a neat API quandl which makes it easier to access this same data. With a free profile we have limited access, but it is enough for the following tests.\n",
    "\n",
    "There are over 1,300 different indicators available, from different time periods including daily, weekly, monthly, yearly, etc. At the moment we will stick with 10 relevant indicators which are available daily, and then move on to add more data as we see fit."
   ]
  },
  {
   "cell_type": "code",
   "execution_count": 209,
   "metadata": {
    "collapsed": true
   },
   "outputs": [],
   "source": [
    "daily = {\n",
    "    'Selic': 'BCB/432',\n",
    "    'Exchange Rate USD Sell': 'BCB/1',\n",
    "    'Exchange Rate USD Buy': 'BCB/10813',\n",
    "    'BM&F Gold gramme': 'BCB/4',\n",
    "    'Bovespa total volume': 'BCB/8',\n",
    "    'International Reserves': 'BCB/13621',\n",
    "    'Bovespa index': 'BCB/7',\n",
    "    'Foreign exchange operations balance': 'BCB/13961',\n",
    "    'Nasdaq index': 'BCB/7810',\n",
    "    'Dow Jones index': 'BCB/7809'\n",
    "}\n",
    "\n",
    "## removed montly indicators for now - to be added later\n",
    "# monthly = {\n",
    "#     'IPCA-E': 'BCB/10764',\n",
    "#     'IGP-M': 'BCB/7451',\n",
    "#     'IPCA-15': 'BCB/74/78',\n",
    "#     'Net public debt': 'BCB/4473'\n",
    "# }"
   ]
  },
  {
   "cell_type": "code",
   "execution_count": 210,
   "metadata": {
    "collapsed": false
   },
   "outputs": [],
   "source": [
    "for var, code in daily.items():\n",
    "    df = pd.concat([df, quandl.get(code, start_date=start_date , end_date=end_date)], join='inner', axis=1)\n",
    "    df = df.rename(columns={'Value': var})    "
   ]
  },
  {
   "cell_type": "markdown",
   "metadata": {},
   "source": [
    "### Creating the labels"
   ]
  },
  {
   "cell_type": "markdown",
   "metadata": {},
   "source": [
    "The general approach to the stock market problem is to use non-linear regressors to predict future prices. Although it is easy to predict the price for the day ahead, as you move days further the r2_score sinks and the prediction becomes useless."
   ]
  },
  {
   "cell_type": "markdown",
   "metadata": {},
   "source": [
    "The inovative approach we will follow here is meant to treat this problem as a classification problem. In order to treat this problem as a classifier, we will pre-define a trading strategy, backtest it to the full dataset, and define the label to be whether this trading strategy results in a successful trade or not."
   ]
  },
  {
   "cell_type": "markdown",
   "metadata": {},
   "source": [
    "##### Swing Trade"
   ]
  },
  {
   "cell_type": "markdown",
   "metadata": {},
   "source": [
    "The first and most simple analysis is a swing trade strategy. We will buy the stock, and hold it for n days. If it reaches an upper boundary (+x%), we sell. If it reaches a lower boundary (-y%), we will also short our position.\n",
    "\n",
    "So the challenge is within the next n days the stock needs to reach the upper boundary, before it reaches the lower boundary. That will be counted as a successful trade. If it reaches the lower boundary before, or n days passes without reaching the upper boundary, the trading is considered a failure.\n",
    "\n",
    "The name swing trade means we are speculating on the week/bi-week pattern, the swing, not necessarily on the longer term trend.\n",
    "\n",
    "The parameters n, x, and y, will be optimized through a genetic algorithm to achieve the optimal trading strategy for this setup."
   ]
  },
  {
   "cell_type": "code",
   "execution_count": 211,
   "metadata": {
    "collapsed": true
   },
   "outputs": [],
   "source": [
    "def backtest_strategy(input_df, forward=10, profit_margin=.05, stop_loss=.05):\n",
    "    \n",
    "    df = input_df.copy()\n",
    "    for row in range(df.shape[0]-forward):\n",
    "\n",
    "        # initialize max and min ticks\n",
    "        max_uptick = 0\n",
    "        min_downtick = 0 \n",
    "\n",
    "        # move all days forward\n",
    "        for i in range(1,forward+1):\n",
    "            delta = (df.ix[row+i, 'Adj Close'] / df.ix[row, 'Adj Close'])-1\n",
    "            if delta > max_uptick:\n",
    "                max_uptick = delta\n",
    "            if delta < min_downtick:\n",
    "                min_downtick = delta\n",
    "\n",
    "        # evaluate ticks against predefined strategy parameters\n",
    "        if max_uptick >= profit_margin and min_downtick <= -stop_loss:\n",
    "            df.ix[row,'Label'] = 1\n",
    "        else:\n",
    "            df.ix[row,'Label'] = 0        \n",
    "\n",
    "    return df.dropna()\n"
   ]
  },
  {
   "cell_type": "code",
   "execution_count": 213,
   "metadata": {
    "collapsed": false
   },
   "outputs": [
    {
     "data": {
      "text/html": [
       "<div>\n",
       "<table border=\"1\" class=\"dataframe\">\n",
       "  <thead>\n",
       "    <tr style=\"text-align: right;\">\n",
       "      <th></th>\n",
       "      <th>Open</th>\n",
       "      <th>High</th>\n",
       "      <th>Low</th>\n",
       "      <th>Close</th>\n",
       "      <th>Volume</th>\n",
       "      <th>Adj Close</th>\n",
       "      <th>Dow Jones index</th>\n",
       "      <th>Exchange Rate USD Sell</th>\n",
       "      <th>BM&amp;F Gold gramme</th>\n",
       "      <th>Exchange Rate USD Buy</th>\n",
       "      <th>Selic</th>\n",
       "      <th>Bovespa index</th>\n",
       "      <th>Foreign exchange operations balance</th>\n",
       "      <th>Nasdaq index</th>\n",
       "      <th>Bovespa total volume</th>\n",
       "      <th>International Reserves</th>\n",
       "      <th>Label</th>\n",
       "    </tr>\n",
       "    <tr>\n",
       "      <th>Date</th>\n",
       "      <th></th>\n",
       "      <th></th>\n",
       "      <th></th>\n",
       "      <th></th>\n",
       "      <th></th>\n",
       "      <th></th>\n",
       "      <th></th>\n",
       "      <th></th>\n",
       "      <th></th>\n",
       "      <th></th>\n",
       "      <th></th>\n",
       "      <th></th>\n",
       "      <th></th>\n",
       "      <th></th>\n",
       "      <th></th>\n",
       "      <th></th>\n",
       "      <th></th>\n",
       "    </tr>\n",
       "  </thead>\n",
       "  <tbody>\n",
       "    <tr>\n",
       "      <th>2008-09-02</th>\n",
       "      <td>33.31</td>\n",
       "      <td>33.95</td>\n",
       "      <td>32.90</td>\n",
       "      <td>33.11</td>\n",
       "      <td>19137300</td>\n",
       "      <td>28.63399</td>\n",
       "      <td>11517.0</td>\n",
       "      <td>1.6602</td>\n",
       "      <td>45.00</td>\n",
       "      <td>1.6594</td>\n",
       "      <td>13.0</td>\n",
       "      <td>54404.0</td>\n",
       "      <td>435.0</td>\n",
       "      <td>2349.0</td>\n",
       "      <td>4202.0</td>\n",
       "      <td>205318.0</td>\n",
       "      <td>0.0</td>\n",
       "    </tr>\n",
       "    <tr>\n",
       "      <th>2008-09-03</th>\n",
       "      <td>33.35</td>\n",
       "      <td>33.60</td>\n",
       "      <td>32.00</td>\n",
       "      <td>32.60</td>\n",
       "      <td>19518100</td>\n",
       "      <td>28.19293</td>\n",
       "      <td>11533.0</td>\n",
       "      <td>1.6728</td>\n",
       "      <td>46.70</td>\n",
       "      <td>1.6720</td>\n",
       "      <td>13.0</td>\n",
       "      <td>53527.0</td>\n",
       "      <td>150.0</td>\n",
       "      <td>2334.0</td>\n",
       "      <td>5090.0</td>\n",
       "      <td>205961.0</td>\n",
       "      <td>0.0</td>\n",
       "    </tr>\n",
       "    <tr>\n",
       "      <th>2008-09-04</th>\n",
       "      <td>31.53</td>\n",
       "      <td>33.03</td>\n",
       "      <td>31.10</td>\n",
       "      <td>31.45</td>\n",
       "      <td>20250100</td>\n",
       "      <td>27.19839</td>\n",
       "      <td>11188.0</td>\n",
       "      <td>1.7010</td>\n",
       "      <td>46.69</td>\n",
       "      <td>1.7002</td>\n",
       "      <td>13.0</td>\n",
       "      <td>51408.0</td>\n",
       "      <td>3341.0</td>\n",
       "      <td>2259.0</td>\n",
       "      <td>5222.0</td>\n",
       "      <td>206141.0</td>\n",
       "      <td>0.0</td>\n",
       "    </tr>\n",
       "    <tr>\n",
       "      <th>2008-09-05</th>\n",
       "      <td>31.21</td>\n",
       "      <td>31.86</td>\n",
       "      <td>30.25</td>\n",
       "      <td>31.86</td>\n",
       "      <td>22173000</td>\n",
       "      <td>27.55297</td>\n",
       "      <td>11221.0</td>\n",
       "      <td>1.7305</td>\n",
       "      <td>46.40</td>\n",
       "      <td>1.7297</td>\n",
       "      <td>13.0</td>\n",
       "      <td>51939.0</td>\n",
       "      <td>-191.0</td>\n",
       "      <td>2256.0</td>\n",
       "      <td>4889.0</td>\n",
       "      <td>206575.0</td>\n",
       "      <td>1.0</td>\n",
       "    </tr>\n",
       "    <tr>\n",
       "      <th>2008-09-08</th>\n",
       "      <td>33.00</td>\n",
       "      <td>33.20</td>\n",
       "      <td>30.26</td>\n",
       "      <td>30.26</td>\n",
       "      <td>24248500</td>\n",
       "      <td>26.16927</td>\n",
       "      <td>11511.0</td>\n",
       "      <td>1.7282</td>\n",
       "      <td>46.50</td>\n",
       "      <td>1.7274</td>\n",
       "      <td>13.0</td>\n",
       "      <td>50717.0</td>\n",
       "      <td>-202.0</td>\n",
       "      <td>2270.0</td>\n",
       "      <td>5148.0</td>\n",
       "      <td>205380.0</td>\n",
       "      <td>1.0</td>\n",
       "    </tr>\n",
       "  </tbody>\n",
       "</table>\n",
       "</div>"
      ],
      "text/plain": [
       "             Open   High    Low  Close    Volume  Adj Close  Dow Jones index  \\\n",
       "Date                                                                           \n",
       "2008-09-02  33.31  33.95  32.90  33.11  19137300   28.63399          11517.0   \n",
       "2008-09-03  33.35  33.60  32.00  32.60  19518100   28.19293          11533.0   \n",
       "2008-09-04  31.53  33.03  31.10  31.45  20250100   27.19839          11188.0   \n",
       "2008-09-05  31.21  31.86  30.25  31.86  22173000   27.55297          11221.0   \n",
       "2008-09-08  33.00  33.20  30.26  30.26  24248500   26.16927          11511.0   \n",
       "\n",
       "            Exchange Rate USD Sell  BM&F Gold gramme  Exchange Rate USD Buy  \\\n",
       "Date                                                                          \n",
       "2008-09-02                  1.6602             45.00                 1.6594   \n",
       "2008-09-03                  1.6728             46.70                 1.6720   \n",
       "2008-09-04                  1.7010             46.69                 1.7002   \n",
       "2008-09-05                  1.7305             46.40                 1.7297   \n",
       "2008-09-08                  1.7282             46.50                 1.7274   \n",
       "\n",
       "            Selic  Bovespa index  Foreign exchange operations balance  \\\n",
       "Date                                                                    \n",
       "2008-09-02   13.0        54404.0                                435.0   \n",
       "2008-09-03   13.0        53527.0                                150.0   \n",
       "2008-09-04   13.0        51408.0                               3341.0   \n",
       "2008-09-05   13.0        51939.0                               -191.0   \n",
       "2008-09-08   13.0        50717.0                               -202.0   \n",
       "\n",
       "            Nasdaq index  Bovespa total volume  International Reserves  Label  \n",
       "Date                                                                           \n",
       "2008-09-02        2349.0                4202.0                205318.0    0.0  \n",
       "2008-09-03        2334.0                5090.0                205961.0    0.0  \n",
       "2008-09-04        2259.0                5222.0                206141.0    0.0  \n",
       "2008-09-05        2256.0                4889.0                206575.0    1.0  \n",
       "2008-09-08        2270.0                5148.0                205380.0    1.0  "
      ]
     },
     "execution_count": 213,
     "metadata": {},
     "output_type": "execute_result"
    }
   ],
   "source": [
    "df = backtest_strategy(df)"
   ]
  },
  {
   "cell_type": "markdown",
   "metadata": {},
   "source": [
    "### Rounding up the features"
   ]
  },
  {
   "cell_type": "markdown",
   "metadata": {},
   "source": [
    "Now we've got the main data, and the label, let's start creating our features. There is also some innovation going on here, we are running from the traditional approach of stock price prediction."
   ]
  },
  {
   "cell_type": "markdown",
   "metadata": {},
   "source": [
    "The first and foremost difference is that instead of analyzing the raw data, I want to analyze the trend for each variable. So in a single day I will look at how the variable increased or decreased in the last N days."
   ]
  },
  {
   "cell_type": "markdown",
   "metadata": {},
   "source": [
    "To center at 0, for each variable I will calculate (value / value in n-1). The number of days I will look back may also vary, and it will also depend on the trading strategy to follow. But for simplicity we will start with a round number such as 60 days for the swing trading strategy of around 10 days."
   ]
  },
  {
   "cell_type": "code",
   "execution_count": 214,
   "metadata": {
    "collapsed": true
   },
   "outputs": [],
   "source": [
    "def create_features(input_df, base = 30):\n",
    "    \"\"\" Receives a dataframe as input \n",
    "        Returns a new dataframe with ratios calculated\n",
    "    \"\"\"\n",
    "    # avoid modifying in place\n",
    "    df = input_df.copy() \n",
    "    # get all columns ubt the label\n",
    "    cols = list(df.columns)\n",
    "    cols.remove('Label')\n",
    "    # create the new columns for the number of days\n",
    "    for n in range(1,base+1):\n",
    "        new_cols = list(map(lambda x: \"{}-{}\".format(x,n), cols))\n",
    "        df[new_cols] = (df.loc[:, cols] / df.shift(n).loc[:, cols]) - 1\n",
    "    # remove inf and drop na\n",
    "    df.replace([np.inf, -np.inf], np.nan, inplace=True) \n",
    "    df.dropna(axis=0, inplace=True)\n",
    "\n",
    "    return df.drop(cols, axis=1)\n"
   ]
  },
  {
   "cell_type": "code",
   "execution_count": 215,
   "metadata": {
    "collapsed": false
   },
   "outputs": [
    {
     "data": {
      "text/plain": [
       "(1680, 481)"
      ]
     },
     "execution_count": 215,
     "metadata": {},
     "output_type": "execute_result"
    }
   ],
   "source": [
    "df = create_features(df)\n",
    "df.shape"
   ]
  },
  {
   "cell_type": "markdown",
   "metadata": {},
   "source": [
    "### Understanding the label and features"
   ]
  },
  {
   "cell_type": "markdown",
   "metadata": {},
   "source": [
    "Let's start by analizying the label distribution. This will tell us a lot about the dataset, which optimal classifier to choose, and whether we will need to use a stratified approach when splitting the dataset for testing or cross-validation. "
   ]
  },
  {
   "cell_type": "code",
   "execution_count": 270,
   "metadata": {
    "collapsed": false
   },
   "outputs": [
    {
     "data": {
      "text/plain": [
       "array([ 0.9375,  0.0625])"
      ]
     },
     "execution_count": 270,
     "metadata": {},
     "output_type": "execute_result"
    }
   ],
   "source": [
    "np.bincount(y.astype(int)) / len(y)"
   ]
  },
  {
   "cell_type": "markdown",
   "metadata": {},
   "source": [
    "As expected, there will be only a few occurrences where such a trading strategy results in success. Only 6,25% of the observations have label 1(success), while 93,75% have label 0 (failure). A stratified approach will be required when splitting the dataset later."
   ]
  },
  {
   "cell_type": "markdown",
   "metadata": {},
   "source": [
    "Next step is to take a look at the features we have. I will start standardizing to z-score, then checking and removing outliers, and finally analyse which features are most relevant and attempt to extract principal components."
   ]
  },
  {
   "cell_type": "markdown",
   "metadata": {},
   "source": [
    "For now, I will keep working with the full data, since I'm looking for understanding data, I'm doing predictions at this point. I will come back later to this point to divide the dataset "
   ]
  },
  {
   "cell_type": "code",
   "execution_count": 223,
   "metadata": {
    "collapsed": false
   },
   "outputs": [
    {
     "data": {
      "text/plain": [
       "((1680, 480), (1680,))"
      ]
     },
     "execution_count": 223,
     "metadata": {},
     "output_type": "execute_result"
    }
   ],
   "source": [
    "# break up X and y arrays, convert to numpy array\n",
    "features = [x for x in df.columns if x != \"Label\"]\n",
    "X = df[features].values\n",
    "y = df['Label'].values\n",
    "X.shape, y.shape"
   ]
  },
  {
   "cell_type": "code",
   "execution_count": 221,
   "metadata": {
    "collapsed": false
   },
   "outputs": [],
   "source": [
    "# scaling\n",
    "from sklearn.preprocessing import StandardScaler\n",
    "scaler = StandardScaler()\n",
    "X = scaler.fit_transform(X)"
   ]
  },
  {
   "cell_type": "code",
   "execution_count": 258,
   "metadata": {
    "collapsed": false
   },
   "outputs": [
    {
     "data": {
      "text/plain": [
       "[('International Reserves-22', 73.105023263783295, 2.7223192430074368e-17),\n",
       " ('International Reserves-21', 71.688715533164, 5.4166250890251765e-17),\n",
       " ('International Reserves-23', 71.402105407154792, 6.2263260220743192e-17),\n",
       " ('International Reserves-20', 70.304720529051835, 1.0617197809742767e-16),\n",
       " ('International Reserves-19', 69.483487421653706, 1.5833929055040857e-16),\n",
       " ('International Reserves-24', 68.560239127286778, 2.4823338137001915e-16),\n",
       " ('International Reserves-18', 67.332455584521185, 4.5160419779913923e-16),\n",
       " ('International Reserves-26', 66.976842448222229, 5.3713150325716974e-16),\n",
       " ('International Reserves-17', 65.910476495340632, 9.0380340173091267e-16),\n",
       " ('International Reserves-25', 65.528161950210887, 1.0892898905731457e-15),\n",
       " ('International Reserves-27', 65.220281824748369, 1.2660388002166616e-15),\n",
       " ('International Reserves-30', 64.509815293108474, 1.7914423902281927e-15),\n",
       " ('International Reserves-13', 64.488956832386577, 1.8097981834058216e-15),\n",
       " ('International Reserves-29', 64.452394503821452, 1.842429348856128e-15),\n",
       " ('International Reserves-14', 64.212788771340968, 2.0713572026544707e-15),\n",
       " ('International Reserves-28', 63.797641596020881, 2.5375034705813708e-15),\n",
       " ('International Reserves-15', 63.438419848519175, 3.024871109260786e-15),\n",
       " ('International Reserves-16', 62.747121946717009, 4.2423221930808358e-15),\n",
       " ('International Reserves-12', 62.305046132562921, 5.2672663663984523e-15),\n",
       " ('International Reserves-11', 57.475560096659848, 5.6302870251703185e-14),\n",
       " ('International Reserves-10', 53.054962344201805, 4.9669614240737377e-13),\n",
       " ('Nasdaq index-29', 52.384103072865976, 6.9169033330828481e-13),\n",
       " ('Nasdaq index-26', 51.698058768822065, 9.7068656748866146e-13),\n",
       " ('Nasdaq index-30', 51.681372750602165, 9.7872253368774523e-13),\n",
       " ('Exchange Rate USD Sell-29', 50.810378392920263, 1.505353545965131e-12),\n",
       " ('Exchange Rate USD Buy-29', 50.802363875154526, 1.511331422395738e-12),\n",
       " ('Nasdaq index-28', 50.226316710829792, 2.0095817507374047e-12),\n",
       " ('Exchange Rate USD Sell-28', 50.085331419088561, 2.1547763837255039e-12),\n",
       " ('Exchange Rate USD Buy-28', 50.078403567944918, 2.1621760201386879e-12),\n",
       " ('Exchange Rate USD Sell-27', 48.717540945412331, 4.2416902562182515e-12),\n",
       " ('Exchange Rate USD Buy-27', 48.711557866695081, 4.2542835105278289e-12),\n",
       " ('Nasdaq index-27', 48.668735113357293, 4.3455176367942414e-12),\n",
       " ('Exchange Rate USD Sell-30', 48.529633274181428, 4.655621456271399e-12),\n",
       " ('Exchange Rate USD Buy-30', 48.519778675844776, 4.6784137157364219e-12),\n",
       " ('International Reserves-9', 48.50300526683484, 4.7174655763474424e-12),\n",
       " ('Nasdaq index-25', 47.885675205416455, 6.4064373352955039e-12),\n",
       " ('Exchange Rate USD Sell-26', 45.578484169100314, 2.0139952022895011e-11),\n",
       " ('Exchange Rate USD Buy-26', 45.56950939530315, 2.0229990699633102e-11),\n",
       " ('Nasdaq index-24', 44.746097855366095, 3.046553874760825e-11),\n",
       " ('Exchange Rate USD Sell-15', 44.027873786780489, 4.3554236340141104e-11),\n",
       " ('Exchange Rate USD Buy-15', 44.026902124788265, 4.3575309076124455e-11),\n",
       " ('International Reserves-8', 44.015650538507082, 4.3820071160257823e-11),\n",
       " ('Exchange Rate USD Sell-25', 43.553955010950141, 5.5146353499508968e-11),\n",
       " ('Exchange Rate USD Buy-25', 43.545256243335018, 5.5385797494765061e-11),\n",
       " ('Nasdaq index-23', 42.543885674447786, 9.1226116781050739e-11),\n",
       " ('Exchange Rate USD Sell-24', 42.254967553763365, 1.053637739060438e-10),\n",
       " ('Exchange Rate USD Buy-24', 42.253500632647771, 1.0544089035520827e-10),\n",
       " ('Exchange Rate USD Sell-23', 42.16343388271239, 1.1028570060914263e-10),\n",
       " ('Exchange Rate USD Buy-23', 42.152953214611735, 1.1086376899111778e-10),\n",
       " ('Exchange Rate USD Sell-16', 40.379014482035068, 2.6881685340637033e-10),\n",
       " ('Exchange Rate USD Buy-16', 40.373034657796822, 2.6962146606622517e-10),\n",
       " ('International Reserves-7', 40.008617160090338, 3.2349758655876057e-10),\n",
       " ('Exchange Rate USD Sell-22', 39.157971936977226, 4.9508317395353866e-10),\n",
       " ('Exchange Rate USD Buy-22', 39.149793400387018, 4.971138672647833e-10),\n",
       " ('International Reserves-6', 36.703122520856098, 1.6945247784780938e-09),\n",
       " ('Exchange Rate USD Sell-17', 36.26412530098618, 2.1124043805439084e-09),\n",
       " ('Exchange Rate USD Buy-17', 36.256239818609387, 2.1207871012736112e-09),\n",
       " ('Exchange Rate USD Sell-21', 34.864351030538138, 4.2694519383644285e-09),\n",
       " ('Exchange Rate USD Buy-21', 34.857892925063538, 4.2833476530714136e-09),\n",
       " ('Nasdaq index-22', 34.240550045164838, 5.8443695933422925e-09),\n",
       " ('Exchange Rate USD Sell-19', 33.732744376297255, 7.547963764748402e-09),\n",
       " ('Exchange Rate USD Buy-19', 33.725100819490009, 7.5770920022036854e-09),\n",
       " ('Dow Jones index-30', 33.684701789018426, 7.7329281145951692e-09),\n",
       " ('Exchange Rate USD Sell-14', 33.401580889323284, 8.9190625512504005e-09),\n",
       " ('Exchange Rate USD Buy-14', 33.397152886155567, 8.9389949306364173e-09),\n",
       " ('Dow Jones index-29', 32.811208560726726, 1.2012390051442879e-08),\n",
       " ('Exchange Rate USD Sell-18', 32.731282475944397, 1.2506733996765646e-08),\n",
       " ('Exchange Rate USD Buy-18', 32.723055474600599, 1.2558762173834326e-08),\n",
       " ('Dow Jones index-26', 31.946313759884799, 1.8589251858929931e-08),\n",
       " ('Exchange Rate USD Sell-20', 31.679757925178311, 2.1269282725344406e-08),\n",
       " ('Exchange Rate USD Buy-20', 31.674338508183776, 2.1327614042045994e-08),\n",
       " ('Dow Jones index-25', 31.212888953378656, 2.6931070622976286e-08),\n",
       " ('Dow Jones index-24', 31.077998250145257, 2.8832472710287437e-08),\n",
       " ('International Reserves-5', 31.023099973731952, 2.964434099080642e-08),\n",
       " ('Exchange Rate USD Sell-13', 30.095972010440832, 4.7398134142828094e-08),\n",
       " ('Exchange Rate USD Buy-13', 30.089915160005376, 4.7543782131891224e-08),\n",
       " ('Dow Jones index-28', 29.545493932924924, 6.2649157054796568e-08),\n",
       " ('Nasdaq index-21', 29.189924755255504, 7.5028738326232601e-08),\n",
       " ('Dow Jones index-27', 28.743318766541034, 9.4113854203037508e-08),\n",
       " ('Dow Jones index-23', 28.437318522029198, 1.0993426311062999e-07),\n",
       " ('Bovespa index-14', 26.510542826435383, 2.9297387403241773e-07),\n",
       " ('Bovespa index-15', 26.148105592524836, 3.5242403665493107e-07),\n",
       " ('Exchange Rate USD Sell-12', 25.463023406386977, 4.9989127110376711e-07),\n",
       " ('Exchange Rate USD Buy-12', 25.458496151073057, 5.01048091469518e-07),\n",
       " ('Bovespa index-13', 25.370208370129323, 5.2415264034403719e-07),\n",
       " ('Bovespa index-29', 24.923973109579112, 6.5836052326500915e-07),\n",
       " ('Nasdaq index-20', 24.484345425170741, 8.2430466741963503e-07),\n",
       " ('International Reserves-4', 24.431557519111479, 8.4686770969078106e-07),\n",
       " ('Bovespa index-30', 24.091251003068454, 1.0079774002339174e-06),\n",
       " ('Exchange Rate USD Sell-11', 23.789234782311507, 1.1765748091137306e-06),\n",
       " ('Exchange Rate USD Buy-11', 23.784530303347786, 1.1794136693341647e-06),\n",
       " ('Nasdaq index-19', 22.264423626590574, 2.5727359410994287e-06),\n",
       " ('Nasdaq index-15', 22.099809930563477, 2.7999125480634079e-06),\n",
       " ('Nasdaq index-18', 21.602004814431659, 3.6171105093092648e-06),\n",
       " ('Bovespa index-12', 21.475336839424131, 3.860841683414405e-06),\n",
       " ('Dow Jones index-22', 21.462371568770095, 3.8867018433196122e-06),\n",
       " ('Bovespa index-26', 20.94777935671749, 5.0666958233338308e-06),\n",
       " ('Bovespa index-28', 20.224240415875396, 7.3598568849918683e-06),\n",
       " ('Bovespa index-25', 19.943331785483643, 8.5094524177653782e-06),\n",
       " ('Bovespa total volume-9', 19.714872809047577, 9.5763317226339819e-06),\n",
       " ('Nasdaq index-16', 19.703889393729181, 9.6308840534056568e-06),\n",
       " ('Bovespa index-23', 19.417492894840198, 1.1169125082846906e-05),\n",
       " ('Dow Jones index-21', 19.31238332802425, 1.179369137968608e-05),\n",
       " ('Bovespa index-24', 19.002298571329185, 1.3848500306532399e-05),\n",
       " ('Exchange Rate USD Buy-10', 18.555561324528117, 1.7458349850140931e-05),\n",
       " ('Exchange Rate USD Sell-10', 18.555189009693532, 1.7461722716731331e-05),\n",
       " ('Bovespa index-16', 18.448775026496225, 1.8453111069181217e-05),\n",
       " ('Bovespa index-27', 18.421101176285955, 1.8720079011382998e-05),\n",
       " ('Bovespa index-11', 17.75918234026225, 2.6403906723793448e-05),\n",
       " ('Nasdaq index-14', 17.653812181944026, 2.7891554593882396e-05),\n",
       " ('Adj Close-14', 17.48879142317017, 3.0392679106315703e-05),\n",
       " ('Nasdaq index-17', 17.410160916249293, 3.1662638909603272e-05),\n",
       " ('Adj Close-13', 17.321599299618825, 3.3157058454109027e-05),\n",
       " ('Bovespa index-8', 17.207828668690073, 3.5181512752020003e-05),\n",
       " ('Low-13', 17.067217258301611, 3.7856326556273523e-05),\n",
       " ('Dow Jones index-20', 16.968005521553799, 3.9865893823702287e-05),\n",
       " ('Close-14', 16.808366765008422, 4.3327311949499307e-05),\n",
       " ('Close-13', 16.656480904451655, 4.690120047027744e-05),\n",
       " ('Low-14', 16.52753787296993, 5.0167289195452581e-05),\n",
       " ('Nasdaq index-12', 16.430145120400947, 5.278520567056845e-05),\n",
       " ('Nasdaq index-13', 16.276833172949836, 5.718777630580527e-05),\n",
       " ('Bovespa index-9', 16.174558447622719, 6.0328545251986603e-05),\n",
       " ('Bovespa total volume-24', 16.043989304446388, 6.4591980277060092e-05),\n",
       " ('Bovespa index-17', 15.979869046489002, 6.6795491706053071e-05),\n",
       " ('Dow Jones index-18', 15.917981639467257, 6.8994045822506146e-05),\n",
       " ('Open-13', 15.877511188921115, 7.0471027805601636e-05),\n",
       " ('Bovespa total volume-8', 15.79069044228709, 7.3747910160950863e-05),\n",
       " ('International Reserves-3', 15.710674993765876, 7.6903701444730647e-05),\n",
       " ('Adj Close-15', 15.562542902567046, 8.3109488600611298e-05),\n",
       " ('Dow Jones index-19', 15.548766967346561, 8.3711649952428045e-05),\n",
       " ('Dow Jones index-15', 15.458479161794372, 8.7768515161908592e-05),\n",
       " ('Bovespa total volume-23', 15.305200109630226, 9.5114572826025028e-05),\n",
       " ('Bovespa total volume-25', 15.250625102870595, 9.7877118531391745e-05),\n",
       " ('Bovespa index-10', 15.249476639414063, 9.7936113255339262e-05),\n",
       " ('Bovespa index-18', 15.236822252097578, 9.8588525696513283e-05),\n",
       " ('Open-12', 15.079796373595141, 0.00010705802333828481),\n",
       " ('Bovespa total volume-10', 15.078045232798733, 0.00010715649633013909),\n",
       " ('Bovespa index-7', 15.038811466851378, 0.00010938684172655475),\n",
       " ('Close-15', 14.889305051429766, 0.0001183233149830239),\n",
       " ('Exchange Rate USD Sell-9', 14.670845378910938, 0.00013272184833733157),\n",
       " ('Exchange Rate USD Buy-9', 14.668977486678935, 0.00013285228708380056),\n",
       " ('Open-14', 14.532765071576101, 0.0001427210386659902),\n",
       " ('Nasdaq index-11', 14.388330013823433, 0.00015399442766677297),\n",
       " ('Nasdaq index-10', 14.18765892393626, 0.00017116350421485154),\n",
       " ('Adj Close-12', 14.170426476362637, 0.00017272499301857619),\n",
       " ('High-14', 14.169360906048938, 0.00017282201806715147),\n",
       " ('Bovespa total volume-7', 14.159798918809576, 0.00017369514366794378),\n",
       " ('Bovespa index-19', 14.099220133372627, 0.00017933102933485136),\n",
       " ('Low-12', 14.025254217439134, 0.00018646307071678398),\n",
       " ('Bovespa total volume-26', 13.980640137786729, 0.00019090252058628866),\n",
       " ('Low-15', 13.9638709361053, 0.00019259861757332293),\n",
       " ('Bovespa index-22', 13.903726069807085, 0.00019880787302083128),\n",
       " ('High-13', 13.86793207625853, 0.00020259862035217175),\n",
       " ('Close-12', 13.553840633660137, 0.00023915220796162474),\n",
       " ('Dow Jones index-12', 13.238985446632048, 0.00028248413649737482),\n",
       " ('Dow Jones index-14', 13.139191828919115, 0.00029780965690370825),\n",
       " ('Open-15', 13.093603787645002, 0.00030508734657860246),\n",
       " ('Dow Jones index-16', 12.859659152939962, 0.00034535825764827542),\n",
       " ('High-12', 12.773878142345369, 0.00036143443338212754),\n",
       " ('Nasdaq index-9', 12.752224671144448, 0.00036561060342612649),\n",
       " ('Dow Jones index-13', 12.729499768636783, 0.00037004582790951102),\n",
       " ('International Reserves-2', 12.64182357603964, 0.00038767286935591276),\n",
       " ('Bovespa index-20', 12.59158375193813, 0.00039815315622161382),\n",
       " ('High-15', 12.298372695084243, 0.00046528939763151162),\n",
       " ('Bovespa total volume-13', 12.097140919055821, 0.00051788083575941889),\n",
       " ('Bovespa index-21', 11.685514054900583, 0.00064494981224179522),\n",
       " ('Dow Jones index-17', 11.492368216080786, 0.00071502389855110349),\n",
       " ('Low-6', 11.414617022897289, 0.00074536239350524018),\n",
       " ('Open-11', 11.397046750469597, 0.00075239677147203264),\n",
       " ('Low-11', 11.262018419589726, 0.0008087465751107567),\n",
       " ('Adj Close-9', 10.922380324752451, 0.0009701193140823455),\n",
       " ('Adj Close-7', 10.767283206102785, 0.0010543016842792647),\n",
       " ('Low-16', 10.733303331013179, 0.0010737117046628853),\n",
       " ('High-11', 10.709615574657423, 0.0010874563395524423),\n",
       " ('Dow Jones index-11', 10.653527568608757, 0.0011207157464751187),\n",
       " ('International Reserves-1', 10.629855735410885, 0.0011350602275580729),\n",
       " ('BM&F Gold gramme-25', 10.626045106967824, 0.0011373866790675422),\n",
       " ('Low-7', 10.438689085420858, 0.0012579335948848),\n",
       " ('BM&F Gold gramme-23', 10.420727318685174, 0.001270149949707798),\n",
       " ('Close-9', 10.420214194255266, 0.0012705007020775638),\n",
       " ('Adj Close-16', 10.412241951902596, 0.0012759628485002356),\n",
       " ('Close-7', 10.321534997436522, 0.0013398117610972744),\n",
       " ('Adj Close-8', 10.277664366217934, 0.001371844727747459),\n",
       " ('Nasdaq index-8', 10.202990220343167, 0.0014281652940898236),\n",
       " ('BM&F Gold gramme-24', 10.098414408204784, 0.0015110018830523239),\n",
       " ('Low-8', 9.9723336912022837, 0.001617381079530914),\n",
       " ('Adj Close-11', 9.9649262827153127, 0.0016238622291888578),\n",
       " ('BM&F Gold gramme-26', 9.8259358180903433, 0.0017504782021181904),\n",
       " ('Close-8', 9.8167236471053911, 0.0017592159153547481),\n",
       " ('Close-16', 9.8048540174000411, 0.0017705394869890886),\n",
       " ('BM&F Gold gramme-29', 9.7793326098847579, 0.0017951378618566282),\n",
       " ('Adj Close-17', 9.6988923663755955, 0.0018749613018999745),\n",
       " ('Open-16', 9.585354451675812, 0.0019938004633185051),\n",
       " ('Close-11', 9.438383222455009, 0.0021590704146946748),\n",
       " ('BM&F Gold gramme-27', 9.3944327263551166, 0.0022111456225427061),\n",
       " ('Low-9', 9.3307227111129283, 0.0022889067876235708),\n",
       " ('Dow Jones index-10', 9.2838150612642902, 0.0023479303955846586),\n",
       " ('Open-6', 9.2153704583584535, 0.002436839829963385),\n",
       " ('BM&F Gold gramme-22', 9.1850952016081333, 0.0024772511776971328),\n",
       " ('Close-17', 9.0906366780658203, 0.0026077648487017003),\n",
       " ('Adj Close-25', 9.0795698246438654, 0.0026235064562549707),\n",
       " ('Low-17', 9.0232504650983802, 0.0027051248486983544),\n",
       " ('BM&F Gold gramme-28', 8.9088537119853601, 0.00287894693169419),\n",
       " ('BM&F Gold gramme-30', 8.9087443835891502, 0.0028791183728374744),\n",
       " ('Adj Close-10', 8.7055339791311876, 0.0032164268318928203),\n",
       " ('Dow Jones index-9', 8.6692916838337393, 0.0032806838809887142),\n",
       " ('High-16', 8.656857860959823, 0.0033030285147252199),\n",
       " ('Low-29', 8.6547311051315532, 0.0033068659548988496),\n",
       " ('Adj Close-30', 8.510162578268968, 0.0035786478385761229),\n",
       " ('Open-8', 8.5054220892278227, 0.0035879350653296154),\n",
       " ('Adj Close-6', 8.4927305110752265, 0.003612920455985593),\n",
       " ('Close-25', 8.3627750258296789, 0.0038791832224099451),\n",
       " ('Open-29', 8.3042283051269781, 0.0040055869827273364),\n",
       " ('Close-10', 8.2236161335988633, 0.0041865292679549035),\n",
       " ('Low-30', 8.1770334739891162, 0.0042948638468394747),\n",
       " ('Close-6', 8.1129157964702401, 0.0044486688825174639),\n",
       " ('Open-10', 8.0925284668868045, 0.0044987411576627133),\n",
       " ('Open-9', 8.0814916928755594, 0.0045260873193511391),\n",
       " ('Adj Close-23', 8.0475704823901744, 0.0046112004868528247),\n",
       " ('Adj Close-29', 8.0367203876856514, 0.0046387679738521641),\n",
       " ('High-17', 8.0241262866687677, 0.0046709773712666647),\n",
       " ('BM&F Gold gramme-21', 8.0160787253367545, 0.0046916783194684382),\n",
       " ('Bovespa total volume-18', 7.95104217637377, 0.0048624443295915854),\n",
       " ('Low-10', 7.9140844110636097, 0.0049622953896735367),\n",
       " ('Open-7', 7.8531907928500226, 0.0051314003993852544),\n",
       " ('Close-30', 7.7575007225217734, 0.0054091047595613648),\n",
       " ('Adj Close-18', 7.646910754877398, 0.0057492349825523457),\n",
       " ('Adj Close-24', 7.5971058509588074, 0.0059094720074727419),\n",
       " ('Low-24', 7.5831909994887186, 0.0059550501448499505),\n",
       " ('Exchange Rate USD Sell-8', 7.4896552383196999, 0.0062708920732191427),\n",
       " ('Exchange Rate USD Buy-8', 7.4845321169376495, 0.006288677791093219),\n",
       " ('Low-28', 7.4237771851475873, 0.0065035709963134711),\n",
       " ('Low-25', 7.4084098222181467, 0.006559105751783605),\n",
       " ('Close-23', 7.3909595097700231, 0.0066227559426799473),\n",
       " ('Low-23', 7.3899831899877517, 0.0066263356735356748),\n",
       " ('Nasdaq index-7', 7.3271915142658779, 0.006860769391054275),\n",
       " ('Close-29', 7.3133316361642455, 0.0069136479944626756),\n",
       " ('Open-24', 7.1327123178337857, 0.0076421320283941241),\n",
       " ('High-6', 7.1240179822530747, 0.0076791182933052737),\n",
       " ('Close-18', 7.0738772502027425, 0.0078960246152644468),\n",
       " ('High-9', 7.0611815900762247, 0.0079519338497288736),\n",
       " ('High-29', 7.0138722540045748, 0.0081638690132167738),\n",
       " ('Close-24', 6.9402115596812228, 0.0085054337690399547),\n",
       " ('BM&F Gold gramme-20', 6.9019128726311028, 0.0086887746582993784),\n",
       " ('Adj Close-26', 6.864066511622215, 0.0088739297169736463),\n",
       " ('Open-28', 6.669885411485196, 0.0098895629578375378),\n",
       " ('High-10', 6.6607431080143646, 0.0099402203395511212),\n",
       " ('Bovespa index-6', 6.6083076487625201, 0.010235951648629098),\n",
       " ('Open-30', 6.6054244992618401, 0.010252471866448376),\n",
       " ('Dow Jones index-8', 6.5860689541015924, 0.01036408840540754),\n",
       " ('High-8', 6.504705202441242, 0.010847098730134192),\n",
       " ('Adj Close-28', 6.4455732271921891, 0.011212589076198641),\n",
       " ('High-24', 6.4339738359303817, 0.011285755488663445),\n",
       " ('Open-17', 6.3450922683465611, 0.011862936464567384),\n",
       " ('Close-26', 6.2037853771031948, 0.012843780973840969),\n",
       " ('High-25', 6.1618895928616251, 0.013150341005647444),\n",
       " ('Low-27', 6.1047355750411239, 0.013580737972050677),\n",
       " ('Low-22', 6.0912765287621147, 0.013684184099097618),\n",
       " ('High-30', 6.0668808412527158, 0.013873762254127692),\n",
       " ('Low-26', 5.9541866410332105, 0.014785261146397647),\n",
       " ('Open-25', 5.8884146337897905, 0.015345547383970478),\n",
       " ('Close-28', 5.7922191990085912, 0.01620471913978818),\n",
       " ('High-7', 5.7418783712697072, 0.01667397383310432),\n",
       " ('Open-23', 5.6914103499734017, 0.017158508963316527),\n",
       " ('Low-18', 5.6730562052474287, 0.017338309615414698),\n",
       " ('Adj Close-27', 5.6402039817723253, 0.01766501147567184),\n",
       " ('Exchange Rate USD Sell-7', 5.6303519151153143, 0.017764220860801802),\n",
       " ('Exchange Rate USD Buy-7', 5.6260167855055458, 0.017808057436612311),\n",
       " ('High-18', 5.6169339126001905, 0.017900265740076454),\n",
       " ('Adj Close-19', 5.5136619686857413, 0.018984055509021037),\n",
       " ('Dow Jones index-7', 5.4210551265671976, 0.020013630761758761),\n",
       " ('High-23', 5.418011442789199, 0.020048434305970655),\n",
       " ('Open-27', 5.2459907216855672, 0.022120941188822806),\n",
       " ('Adj Close-22', 5.1488421997656975, 0.023388358198572396),\n",
       " ('Close-27', 5.0178804277196125, 0.025217321882183792),\n",
       " ('Close-19', 4.9972744759463419, 0.025518357385259958),\n",
       " ('High-28', 4.9921930897823401, 0.025593164776364655),\n",
       " ('BM&F Gold gramme-19', 4.9079421092831499, 0.026867292078911687),\n",
       " ('Open-22', 4.9077118727739286, 0.026870862957933707),\n",
       " ('Close-22', 4.6090551534737134, 0.031946496599668549),\n",
       " ('High-26', 4.5809528134046031, 0.03247303244734942),\n",
       " ('Adj Close-20', 4.4399265344769265, 0.03525582163344803),\n",
       " ('High-27', 4.3827282836566539, 0.036454620818411998),\n",
       " ('Low-19', 4.3437217606611309, 0.037296584584922562),\n",
       " ('High-19', 4.322787347355022, 0.03775684203123502),\n",
       " ('Open-26', 4.2218601409461725, 0.040060935754650286),\n",
       " ('Bovespa total volume-21', 4.045972616248644, 0.044436483163043786),\n",
       " ('Open-5', 4.0077864109324794, 0.045451281874314728),\n",
       " ('Close-20', 3.9557544904150008, 0.046873534964838717),\n",
       " ('High-22', 3.8771094630390768, 0.049113087641406795),\n",
       " ('Low-21', 3.7929123866568624, 0.051636607513773969),\n",
       " ('Low-20', 3.7669672328399839, 0.052441606722543062),\n",
       " ('Exchange Rate USD Sell-6', 3.5375204934662472, 0.060168125813442705),\n",
       " ('Exchange Rate USD Buy-6', 3.5352634701596015, 0.06024988459097666),\n",
       " ('Adj Close-21', 3.4220286291048545, 0.064507630231548693),\n",
       " ('Open-18', 3.2957133765028357, 0.069639361330612479),\n",
       " ('Foreign exchange operations balance-11',\n",
       "  3.2758594336771583,\n",
       "  0.070484930696853396),\n",
       " ('BM&F Gold gramme-15', 3.2747996410846039, 0.070530375033277359),\n",
       " ('Low-5', 3.1857963627676424, 0.074461390059825855),\n",
       " ('Open-21', 3.1566017152289407, 0.07580158212361833),\n",
       " ('Open-19', 3.0766668388212457, 0.079605676754908886),\n",
       " ('BM&F Gold gramme-16', 3.0464262035002325, 0.081098050250820661),\n",
       " ('Close-21', 2.9775248793605238, 0.084612397707822959),\n",
       " ('High-20', 2.8819354757082905, 0.089763715382234405),\n",
       " ('Foreign exchange operations balance-10',\n",
       "  2.7353652580370889,\n",
       "  0.098336096354812372),\n",
       " ('BM&F Gold gramme-18', 2.725730159351778, 0.098930081351034399),\n",
       " ('Nasdaq index-6', 2.7247974577139153, 0.098987788281560865),\n",
       " ('Bovespa total volume-20', 2.6949712476795153, 0.10085269460000768),\n",
       " ('Bovespa total volume-27', 2.6614287921480142, 0.10299599618615098),\n",
       " ('Open-20', 2.6460358571411913, 0.10399623099563157),\n",
       " ('Adj Close-2', 2.5208651140689118, 0.11253733163642214),\n",
       " ('High-21', 2.4650650023668081, 0.11659142155901323),\n",
       " ('Bovespa index-2', 2.4348267511134449, 0.11885557343651708),\n",
       " ('Close-2', 2.3924446212082877, 0.12211140138773123),\n",
       " ('Adj Close-1', 2.3570523224477018, 0.1249061718787951),\n",
       " ('BM&F Gold gramme-17', 2.3496303844200677, 0.1255012211371625),\n",
       " ('BM&F Gold gramme-14', 2.3063799661502937, 0.12903218686929685),\n",
       " ('Close-1', 2.2638554874475774, 0.13261220432895726),\n",
       " ('High-1', 2.2153408590696593, 0.13683277906331395),\n",
       " ('Bovespa total volume-28', 2.1490203129605456, 0.14284825387778671),\n",
       " ('BM&F Gold gramme-8', 1.9836729269940081, 0.15918925802697165),\n",
       " ('Bovespa index-1', 1.9742008110083424, 0.16018777189161498),\n",
       " ('BM&F Gold gramme-13', 1.7921288958723205, 0.1808483300455862),\n",
       " ('High-5', 1.7783247865251504, 0.18253615643309468),\n",
       " ('Bovespa total volume-22', 1.7300961958340255, 0.18857831295182348),\n",
       " ('BM&F Gold gramme-9', 1.6697691229221556, 0.1964673859954566),\n",
       " ('BM&F Gold gramme-10', 1.6470027067086175, 0.19954457639739659),\n",
       " ('Bovespa total volume-5', 1.5220014355678739, 0.21748963934984145),\n",
       " ('Exchange Rate USD Sell-2', 1.4216053494714544, 0.23330793405382771),\n",
       " ('Exchange Rate USD Buy-2', 1.4174895287321108, 0.23398545548256505),\n",
       " ('Dow Jones index-6', 1.3554380176012379, 0.24449518134605158),\n",
       " ('Selic-30', 1.3410409884617449, 0.24701526675327823),\n",
       " ('BM&F Gold gramme-12', 1.3284651584119453, 0.24924262029078631),\n",
       " ('Low-1', 1.2764262448982211, 0.25872604590207193),\n",
       " ('BM&F Gold gramme-11', 1.2522533079922538, 0.26328270564658396),\n",
       " ('Nasdaq index-3', 1.2102657180565404, 0.27143730053899584),\n",
       " ('Selic-29', 1.2053287797768644, 0.27241673373959702),\n",
       " ('High-2', 1.1450129003201734, 0.28474945612778857),\n",
       " ('Selic-28', 1.1259293622493209, 0.28879797963602699),\n",
       " ('Bovespa total volume-3', 1.0762588245013613, 0.29968546294093779),\n",
       " ('Adj Close-5', 1.0634299719523794, 0.30258279865734261),\n",
       " ('Low-2', 1.0515399965328434, 0.30530047888682371),\n",
       " ('Selic-27', 1.0262334959073796, 0.31119100250223986),\n",
       " ('Bovespa total volume-30', 1.0171546476540252, 0.31334029314223572),\n",
       " ('Close-5', 0.93362428539597941, 0.33406215950085327),\n",
       " ('Bovespa total volume-2', 0.88804015034274131, 0.34614461116303452),\n",
       " ('Bovespa total volume-29', 0.83979565379475829, 0.35958690188237841),\n",
       " ('Foreign exchange operations balance-28',\n",
       "  0.8313145741397675,\n",
       "  0.36202364655847874),\n",
       " ('Exchange Rate USD Sell-1', 0.82037496021442391, 0.36520059186938458),\n",
       " ('Exchange Rate USD Buy-1', 0.81805326391191091, 0.36587979486069833),\n",
       " ('Bovespa total volume-11', 0.75620217522076016, 0.38464403179254425),\n",
       " ('Selic-9', 0.59771771525663198, 0.43955903903096971),\n",
       " ('Selic-26', 0.59767541873877061, 0.43957522233560031),\n",
       " ('Bovespa total volume-19', 0.52391381303100593, 0.46927781215001418),\n",
       " ('Exchange Rate USD Sell-3', 0.46288292925769886, 0.49637356360772189),\n",
       " ('Exchange Rate USD Buy-3', 0.46270781044805553, 0.49645502332422486),\n",
       " ('Bovespa total volume-12', 0.43429191556261132, 0.50998087041930296),\n",
       " ('Foreign exchange operations balance-16',\n",
       "  0.43239800288018004,\n",
       "  0.51090481347313943),\n",
       " ('Selic-25', 0.38749316693169966, 0.53370463060364393),\n",
       " ('Bovespa total volume-6', 0.38720322799030271, 0.5338577214221405),\n",
       " ('Foreign exchange operations balance-18',\n",
       "  0.38281275979195156,\n",
       "  0.53618570535164767),\n",
       " ('Bovespa total volume-4', 0.37019348619472325, 0.54298116853754896),\n",
       " ('Selic-10', 0.34325100968516487, 0.55803745174432562),\n",
       " ('Exchange Rate USD Sell-5', 0.33455658548559364, 0.56306586332007225),\n",
       " ('BM&F Gold gramme-7', 0.33426169954407092, 0.56323793456999938),\n",
       " ('Exchange Rate USD Buy-5', 0.33364026060534868, 0.56360088723638246),\n",
       " ('Foreign exchange operations balance-30',\n",
       "  0.33291526514764852,\n",
       "  0.56402489252546661),\n",
       " ('Open-2', 0.31821540989593461, 0.57275748347118638),\n",
       " ('Foreign exchange operations balance-17',\n",
       "  0.31816952086041944,\n",
       "  0.57278515799182084),\n",
       " ('Foreign exchange operations balance-24',\n",
       "  0.31722968822492609,\n",
       "  0.57335252688665794),\n",
       " ('Selic-5', 0.31025971270517755, 0.57759514273591295),\n",
       " ('Nasdaq index-1', 0.29288141511224569, 0.58845177883471222),\n",
       " ('Foreign exchange operations balance-3',\n",
       "  0.28811741509992461,\n",
       "  0.59150062609608112),\n",
       " ('Bovespa total volume-14', 0.26271144023920578, 0.60833090831850833),\n",
       " ('Foreign exchange operations balance-22',\n",
       "  0.25962002270692541,\n",
       "  0.61044832538096094),\n",
       " ('Low-4', 0.23082142513446358, 0.63097804866750606),\n",
       " ('Bovespa total volume-16', 0.230507880420568, 0.63121007632305381),\n",
       " ('Foreign exchange operations balance-20',\n",
       "  0.22559283181503509,\n",
       "  0.63487292117612171),\n",
       " ('Nasdaq index-2', 0.20639606553264167, 0.64966567462595592),\n",
       " ('Dow Jones index-5', 0.20436599564734798, 0.65127801207354652),\n",
       " ('Volume-1', 0.20348106448744624, 0.65198386845205969),\n",
       " ('Dow Jones index-4', 0.19938017239666508, 0.65527923610565542),\n",
       " ('Dow Jones index-3', 0.19334498578574472, 0.6602036988906923),\n",
       " ('BM&F Gold gramme-6', 0.19190475650462702, 0.66139239597748933),\n",
       " ('Foreign exchange operations balance-14',\n",
       "  0.18902588542371901,\n",
       "  0.66378450977588177),\n",
       " ('BM&F Gold gramme-2', 0.17972109979669873, 0.67166737055504755),\n",
       " ('Selic-6', 0.17874686456767439, 0.67250655647479196),\n",
       " ('Foreign exchange operations balance-6',\n",
       "  0.17292620463053388,\n",
       "  0.67757735821080134),\n",
       " ('Foreign exchange operations balance-9',\n",
       "  0.16903904884872509,\n",
       "  0.68101975207350596),\n",
       " ('Exchange Rate USD Sell-4', 0.168961800346525, 0.68108862896470301),\n",
       " ('Nasdaq index-4', 0.16823583967752731, 0.68173681657324159),\n",
       " ('Exchange Rate USD Buy-4', 0.16821217053830792, 0.68175797749228251),\n",
       " ('Low-3', 0.15914615372539645, 0.68999461262379036),\n",
       " ('Open-1', 0.15899855388326833, 0.69013093678811288),\n",
       " ('Open-4', 0.15782820100000081, 0.69121448736168878),\n",
       " ('Adj Close-4', 0.14510342566551601, 0.70330753993352635),\n",
       " ('Open-3', 0.14448654248705806, 0.70390900802257717),\n",
       " ('BM&F Gold gramme-3', 0.13464350342109238, 0.7137115244250759),\n",
       " ('Volume-14', 0.13342860034605783, 0.71494933919273329),\n",
       " ('Volume-13', 0.13058855430908176, 0.71786807835188715),\n",
       " ('Volume-17', 0.13048118492341931, 0.71797912398743713),\n",
       " ('Bovespa index-4', 0.13039668892890971, 0.71806654938806913),\n",
       " ('Volume-15', 0.12946216182026513, 0.71903561846661868),\n",
       " ('Nasdaq index-5', 0.12847989631461695, 0.72005845849438954),\n",
       " ('Volume-16', 0.12830447806482911, 0.72024158672851091),\n",
       " ('Selic-23', 0.12684166025321719, 0.72177422776647826),\n",
       " ('High-4', 0.12475839132890632, 0.72397422433095526),\n",
       " ('Volume-2', 0.12251405192919219, 0.72636756005160763),\n",
       " ('Volume-5', 0.12209644516450043, 0.72681560068746465),\n",
       " ('Volume-4', 0.1209715739962179, 0.72802674236867926),\n",
       " ('Selic-8', 0.12072610272837091, 0.72829187804072792),\n",
       " ('Foreign exchange operations balance-27',\n",
       "  0.11991776863737481,\n",
       "  0.72916710826527664),\n",
       " ('Volume-6', 0.11973644621656652, 0.72936388994482937),\n",
       " ('Volume-18', 0.1195802599007272, 0.72953352625541856),\n",
       " ('Volume-12', 0.11935731386512639, 0.72977588633492441),\n",
       " ('Volume-10', 0.11895266650871311, 0.73021641831725981),\n",
       " ('Foreign exchange operations balance-2',\n",
       "  0.11599997689637165,\n",
       "  0.73345662941688472),\n",
       " ('Selic-11', 0.11373454490634476, 0.73597399821779907),\n",
       " ('Foreign exchange operations balance-29',\n",
       "  0.11353365587741693,\n",
       "  0.73619857150013002),\n",
       " ('Volume-9', 0.11351552077201414, 0.73621885556877031),\n",
       " ('Volume-11', 0.11042027673825726, 0.73970766690391887),\n",
       " ('Foreign exchange operations balance-19',\n",
       "  0.10958873685982445,\n",
       "  0.74065417299372527),\n",
       " ('Selic-24', 0.10947670776446441, 0.7407819951497534),\n",
       " ('Volume-3', 0.10683435076132559, 0.7438181386591658),\n",
       " ('Volume-7', 0.10488003383772539, 0.7460905427811948),\n",
       " ('Close-4', 0.10357379761539738, 0.74762245562381247),\n",
       " ('Volume-22', 0.10241549718676268, 0.74898981743542969),\n",
       " ('Volume-19', 0.10207382136548097, 0.74939478920959268),\n",
       " ('Volume-8', 0.10031842695245242, 0.7514872417455476),\n",
       " ('Adj Close-3', 0.098591102145327097, 0.75356599238840882),\n",
       " ('Bovespa index-5', 0.095900003633027739, 0.7568448503850107),\n",
       " ('Foreign exchange operations balance-5',\n",
       "  0.093192996867747194,\n",
       "  0.76019436338163315),\n",
       " ('Foreign exchange operations balance-26',\n",
       "  0.08966944081058012,\n",
       "  0.76463489952357877),\n",
       " ('Foreign exchange operations balance-8',\n",
       "  0.088487216749986733,\n",
       "  0.76614604938992636),\n",
       " ('Volume-24', 0.084735717566777058, 0.77101540349366227),\n",
       " ('Volume-23', 0.084592968379850045, 0.77120297793137571),\n",
       " ('Volume-21', 0.084422036813503562, 0.77142781039255492),\n",
       " ('Volume-20', 0.082069266889221226, 0.77454791118387345),\n",
       " ('Volume-26', 0.07909878158859257, 0.77855712448122971),\n",
       " ('BM&F Gold gramme-1', 0.077287792406132858, 0.78104137264883111),\n",
       " ('Foreign exchange operations balance-4',\n",
       "  0.076170660040568897,\n",
       "  0.78258948162420183),\n",
       " ('Bovespa index-3', 0.075561016286328761, 0.78343947546799153),\n",
       " ('Bovespa total volume-17', 0.069970417774549223, 0.79141234209483968),\n",
       " ('Close-3', 0.069253970701139159, 0.79245841879523649),\n",
       " ('Foreign exchange operations balance-12',\n",
       "  0.065260923181218553,\n",
       "  0.79839746279926316),\n",
       " ('Foreign exchange operations balance-7',\n",
       "  0.062449957952608388,\n",
       "  0.80269535294466721),\n",
       " ('Bovespa total volume-1', 0.054374508946084456, 0.8156474179645411),\n",
       " ('Foreign exchange operations balance-21',\n",
       "  0.053874200456773255,\n",
       "  0.81648230612418971),\n",
       " ('Selic-7', 0.050816132898573153, 0.82167662891226589),\n",
       " ('Dow Jones index-1', 0.048036455754667827, 0.8265425611718844),\n",
       " ('Foreign exchange operations balance-13',\n",
       "  0.046778870289763401,\n",
       "  0.82879248608497247),\n",
       " ('Volume-28', 0.046526618262804367, 0.82924758460889825),\n",
       " ('Selic-1', 0.044420595678520046, 0.833098628636328),\n",
       " ('BM&F Gold gramme-5', 0.042673765233218065, 0.83636583766623318),\n",
       " ('Volume-29', 0.040073377791811103, 0.84136143767911309),\n",
       " ('Volume-25', 0.038312038639143967, 0.84484159036825301),\n",
       " ('Volume-27', 0.036299088782291038, 0.84892221365770615),\n",
       " ('Selic-17', 0.03411961698878558, 0.85347493182858913),\n",
       " ('Volume-30', 0.029404250968825141, 0.86386964312313053),\n",
       " ('Selic-18', 0.029032479314430044, 0.86472460649094085),\n",
       " ('Selic-19', 0.02463136929737067, 0.87530798838547674),\n",
       " ('Dow Jones index-2', 0.024161020380024181, 0.87649460085208952),\n",
       " ('Selic-20', 0.020815465895357353, 0.88530012327501517),\n",
       " ('Selic-21', 0.017502782712389763, 0.89476438523608082),\n",
       " ('Foreign exchange operations balance-1',\n",
       "  0.015278062912627045,\n",
       "  0.90164326302816056),\n",
       " ('Selic-22', 0.014625966055099788, 0.9037547333600876),\n",
       " ('High-3', 0.013402208133556826, 0.90785033858594855),\n",
       " ('Selic-12', 0.012315163220789077, 0.91165046962666707),\n",
       " ('Selic-2', 0.011854498200991433, 0.91331198534132363),\n",
       " ('Foreign exchange operations balance-23',\n",
       "  0.0099132140255857783,\n",
       "  0.92070147585784134),\n",
       " ('Selic-16', 0.0086829230769213464, 0.92576993621564985),\n",
       " ('Foreign exchange operations balance-25',\n",
       "  0.008423453979158264,\n",
       "  0.92688428499143705),\n",
       " ('Foreign exchange operations balance-15',\n",
       "  0.0063417994486783397,\n",
       "  0.93653672269582722),\n",
       " ('Bovespa total volume-15', 0.0048554678228213324, 0.94445571869282752),\n",
       " ('Selic-3', 0.0031488091953387836, 0.95525747148017914),\n",
       " ('BM&F Gold gramme-4', 0.0022686767160621625, 0.96201629022128987),\n",
       " ('Selic-13', 0.00051804474081346, 0.98184394567685152),\n",
       " ('Selic-4', 0.00040818017256065398, 0.98388346231868851),\n",
       " ('Selic-15', 6.6256646401251207e-05, 0.99350640372481047),\n",
       " ('Selic-14', 4.5613688114223423e-05, 0.9946120984940946)]"
      ]
     },
     "execution_count": 258,
     "metadata": {},
     "output_type": "execute_result"
    }
   ],
   "source": [
    "# feature selection\n",
    "from sklearn.feature_selection import SelectKBest\n",
    "f_selector = SelectKBest()\n",
    "f_selector.fit(X, y)\n",
    "sorted(zip(features, f_selector.scores_, f_selector.pvalues_), key=lambda x: -x[1])"
   ]
  },
  {
   "cell_type": "markdown",
   "metadata": {},
   "source": [
    "Strangely enough, it shows an incredible high importance for International Reserves features, as well for other features related to the outside market, such as Nasdaq, and Exchange Rate.\n",
    "\n",
    "Petrobras, the company being analyzed, is very influenced by the price and availability of USD in brazilian market. It is debts are most in dollar and the price of its main product, oil, is set globally. So these findings that my be accurate, just random noise, or due to some mistake in the data preprocessing\n",
    "\n",
    "Will come back later to this point if this correlation is not confirmed with other analysis."
   ]
  },
  {
   "cell_type": "code",
   "execution_count": 236,
   "metadata": {
    "collapsed": false
   },
   "outputs": [
    {
     "data": {
      "text/plain": [
       "0.80744003636667461"
      ]
     },
     "execution_count": 236,
     "metadata": {},
     "output_type": "execute_result"
    }
   ],
   "source": [
    "# pca conversion\n",
    "# okay, I've got all these data points\n",
    "from sklearn.decomposition import PCA\n",
    "pca = PCA(n_components = 32)\n",
    "pca.fit(X)\n",
    "sum(pca.explained_variance_ratio_)\n",
    "\n",
    "# why 32? I'm aiming at 80% explained variance, with the minimum number of components\n",
    "# I just tried a few and got to the required number of components\n",
    "# this could also be optimized later, aimed at performance"
   ]
  },
  {
   "cell_type": "code",
   "execution_count": 273,
   "metadata": {
    "collapsed": true
   },
   "outputs": [],
   "source": [
    "X_transformed = pca.transform(X)"
   ]
  },
  {
   "cell_type": "markdown",
   "metadata": {},
   "source": [
    "Okay, now we've transformed into fewer principal components, thus helping to avoid the curse of dimensionality, let's take a step back and see which are the main variables impacting each of the first components. Are they the same variables which stand out in the Anova F-value tests conducted before?"
   ]
  },
  {
   "cell_type": "code",
   "execution_count": 256,
   "metadata": {
    "collapsed": false
   },
   "outputs": [
    {
     "data": {
      "text/plain": [
       "[('Foreign exchange operations balance-27', -3.1929377959919663),\n",
       " ('Foreign exchange operations balance-18', -3.2304749537212607),\n",
       " ('Foreign exchange operations balance-22', -3.2409205257252447),\n",
       " ('Volume-2', -3.2438714954691519),\n",
       " ('Foreign exchange operations balance-12', -3.2445853472859905),\n",
       " ('Foreign exchange operations balance-11', -3.2462736049626573),\n",
       " ('Foreign exchange operations balance-29', -3.2468366671088233),\n",
       " ('Foreign exchange operations balance-30', -3.2470432047139046),\n",
       " ('Foreign exchange operations balance-7', -3.2476873657166223),\n",
       " ('Foreign exchange operations balance-8', -3.2477383771085941),\n",
       " ('Foreign exchange operations balance-28', -3.2484924751996389),\n",
       " ('Foreign exchange operations balance-10', -3.2485374722696605),\n",
       " ('Volume-10', -3.2491402699503529),\n",
       " ('Bovespa total volume-10', -3.249830594864946),\n",
       " ('Bovespa total volume-13', -3.2499129862039053),\n",
       " ('Bovespa total volume-14', -3.2499452237580413),\n",
       " ('Volume-28', -3.2499536978341332),\n",
       " ('Bovespa total volume-5', -3.2499548595834877),\n",
       " ('Bovespa total volume-12', -3.2499664620159665),\n",
       " ('Bovespa total volume-28', -3.2499678622642327),\n",
       " ('Bovespa total volume-23', -3.2499747677766875),\n",
       " ('Bovespa total volume-15', -3.2499808732135862),\n",
       " ('Bovespa total volume-22', -3.2499850481857724),\n",
       " ('Foreign exchange operations balance-5', -3.2499854582831977),\n",
       " ('Foreign exchange operations balance-15', -3.2499864610575444),\n",
       " ('Bovespa total volume-2', -3.2499901928063584),\n",
       " ('Bovespa total volume-11', -3.2499903923080598),\n",
       " ('Bovespa total volume-8', -3.2499911626808413),\n",
       " ('Bovespa total volume-9', -3.2499997633985291),\n",
       " ('Bovespa total volume-7', -3.2500104057734314),\n",
       " ('Bovespa total volume-17', -3.250026447965753),\n",
       " ('Bovespa total volume-1', -3.2500314047374999),\n",
       " ('Bovespa total volume-29', -3.250034632723815),\n",
       " ('Bovespa total volume-16', -3.2500371837531064),\n",
       " ('Open-29', -3.2500403133880655),\n",
       " ('Bovespa total volume-27', -3.2500432555801719),\n",
       " ('Open-27', -3.2500432936170909),\n",
       " ('High-27', -3.2500436785670712),\n",
       " ('High-30', -3.2500439934622949),\n",
       " ('Open-30', -3.2500447958810259),\n",
       " ('Open-28', -3.2500460718770987),\n",
       " ('High-29', -3.2500467880477348),\n",
       " ('Bovespa total volume-6', -3.2500475211829407),\n",
       " ('Low-29', -3.2500490285078047),\n",
       " ('Close-30', -3.2500491497806587),\n",
       " ('Bovespa total volume-24', -3.2500492712154392),\n",
       " ('Adj Close-30', -3.250049516796893),\n",
       " ('Low-30', -3.2500500150090792),\n",
       " ('Close-28', -3.2500503553572662),\n",
       " ('Adj Close-28', -3.2500506772758677),\n",
       " ('High-28', -3.250050753779373),\n",
       " ('Low-28', -3.2500508954215044),\n",
       " ('Close-27', -3.250050932503953),\n",
       " ('Adj Close-27', -3.2500512082450208),\n",
       " ('Low-27', -3.2500514824010458),\n",
       " ('Close-29', -3.2500550021796086),\n",
       " ('Adj Close-29', -3.250055351336631),\n",
       " ('Dow Jones index-30', -3.2500599362852571),\n",
       " ('Dow Jones index-29', -3.250060270008253),\n",
       " ('Open-26', -3.2500604841978271),\n",
       " ('Open-4', -3.2500621920616171),\n",
       " ('Dow Jones index-28', -3.2500624271169012),\n",
       " ('Bovespa total volume-21', -3.2500626947454041),\n",
       " ('Nasdaq index-30', -3.2500638513347355),\n",
       " ('Nasdaq index-29', -3.250064246899067),\n",
       " ('Volume-13', -3.2500642768511878),\n",
       " ('Dow Jones index-27', -3.2500645393026462),\n",
       " ('Open-6', -3.2500645826629628),\n",
       " ('Dow Jones index-19', -3.2500652719468603),\n",
       " ('Low-26', -3.2500653899659904),\n",
       " ('Dow Jones index-26', -3.2500655355515535),\n",
       " ('Dow Jones index-18', -3.2500658790825483),\n",
       " ('Dow Jones index-21', -3.2500660453627508),\n",
       " ('Dow Jones index-23', -3.2500662350443674),\n",
       " ('Dow Jones index-25', -3.2500664193239652),\n",
       " ('Bovespa total volume-20', -3.250066420129563),\n",
       " ('Dow Jones index-15', -3.2500664310182916),\n",
       " ('Dow Jones index-20', -3.2500665513494233),\n",
       " ('Dow Jones index-22', -3.25006679217109),\n",
       " ('Dow Jones index-24', -3.250067046401786),\n",
       " ('Dow Jones index-17', -3.2500674937806684),\n",
       " ('Nasdaq index-28', -3.2500675749989312),\n",
       " ('Adj Close-5', -3.2500676292609771),\n",
       " ('High-5', -3.2500676408019853),\n",
       " ('Open-8', -3.250067740774373),\n",
       " ('Close-5', -3.2500677672960236),\n",
       " ('Nasdaq index-19', -3.2500678753224017),\n",
       " ('High-6', -3.2500678921947173),\n",
       " ('Dow Jones index-13', -3.2500679739705935),\n",
       " ('Nasdaq index-15', -3.2500684892156491),\n",
       " ('Nasdaq index-18', -3.2500687860436197),\n",
       " ('Dow Jones index-16', -3.2500687963178629),\n",
       " ('Open-5', -3.2500688403531464),\n",
       " ('Dow Jones index-11', -3.250068973685599),\n",
       " ('Dow Jones index-14', -3.2500690473228837),\n",
       " ('Low-5', -3.2500692599054668),\n",
       " ('High-26', -3.2500696439786969),\n",
       " ('Nasdaq index-20', -3.2500699256712604),\n",
       " ('Nasdaq index-17', -3.2500699289705675),\n",
       " ('Dow Jones index-12', -3.2500699642542239),\n",
       " ('Nasdaq index-26', -3.2500700322126224),\n",
       " ('Dow Jones index-10', -3.250070216540498),\n",
       " ('Nasdaq index-21', -3.250070289883547),\n",
       " ('Nasdaq index-27', -3.2500704813698804),\n",
       " ('Nasdaq index-13', -3.2500708176931488),\n",
       " ('Nasdaq index-23', -3.2500710025852277),\n",
       " ('Open-23', -3.2500710071932044),\n",
       " ('Open-7', -3.2500710477384538),\n",
       " ('Nasdaq index-14', -3.2500711306218744),\n",
       " ('Nasdaq index-22', -3.2500712242533378),\n",
       " ('High-8', -3.2500712657998054),\n",
       " ('Nasdaq index-25', -3.2500712953950255),\n",
       " ('Dow Jones index-8', -3.2500713517519757),\n",
       " ('Open-25', -3.2500715205648949),\n",
       " ('Low-4', -3.2500716879887031),\n",
       " ('Nasdaq index-8', -3.2500718662259094),\n",
       " ('Nasdaq index-24', -3.2500719657570722),\n",
       " ('Nasdaq index-16', -3.25007210940224),\n",
       " ('Nasdaq index-5', -3.2500721892971334),\n",
       " ('Nasdaq index-10', -3.2500722725880311),\n",
       " ('Dow Jones index-5', -3.250072562612659),\n",
       " ('Nasdaq index-12', -3.2500725662373489),\n",
       " ('Nasdaq index-4', -3.2500726118370928),\n",
       " ('Dow Jones index-7', -3.2500727107280936),\n",
       " ('Nasdaq index-7', -3.250072739345113),\n",
       " ('Dow Jones index-6', -3.2500730302752676),\n",
       " ('Nasdaq index-6', -3.2500731069105715),\n",
       " ('Dow Jones index-4', -3.2500732593363519),\n",
       " ('Nasdaq index-11', -3.2500733629395477),\n",
       " ('High-7', -3.2500734414682011),\n",
       " ('High-4', -3.2500735253476476),\n",
       " ('Open-14', -3.2500738613899349),\n",
       " ('Low-23', -3.2500738625504195),\n",
       " ('Dow Jones index-9', -3.2500740529687437),\n",
       " ('Open-10', -3.2500743313755756),\n",
       " ('Low-6', -3.2500746155121174),\n",
       " ('High-10', -3.250074619555877),\n",
       " ('Adj Close-6', -3.2500748315765997),\n",
       " ('Close-6', -3.250074899345972),\n",
       " ('Close-9', -3.2500749596521152),\n",
       " ('Selic-11', -3.2500750651499004),\n",
       " ('Open-1', -3.2500750656952273),\n",
       " ('Selic-9', -3.250075071242116),\n",
       " ('Adj Close-7', -3.2500750794909061),\n",
       " ('Selic-8', -3.2500750973377692),\n",
       " ('Close-7', -3.2500751266534764),\n",
       " ('Selic-12', -3.2500751365896998),\n",
       " ('Selic-7', -3.2500751579283169),\n",
       " ('Adj Close-9', -3.2500751830620476),\n",
       " ('International Reserves-30', -3.2500752247820199),\n",
       " ('Selic-10', -3.2500752284273711),\n",
       " ('Low-9', -3.2500752593199551),\n",
       " ('Selic-13', -3.2500752897269041),\n",
       " ('International Reserves-7', -3.2500752912329363),\n",
       " ('Selic-1', -3.2500753597874201),\n",
       " ('International Reserves-11', -3.250075462430722),\n",
       " ('Selic-2', -3.2500754739032205),\n",
       " ('High-14', -3.2500755124629874),\n",
       " ('Open-9', -3.2500755348244219),\n",
       " ('International Reserves-13', -3.2500755426919112),\n",
       " ('Close-26', -3.2500755624247732),\n",
       " ('International Reserves-12', -3.2500755633696818),\n",
       " ('High-1', -3.250075619760874),\n",
       " ('International Reserves-6', -3.2500756511306497),\n",
       " ('International Reserves-1', -3.2500756564645599),\n",
       " ('International Reserves-5', -3.2500756740604198),\n",
       " ('Selic-6', -3.2500757102040732),\n",
       " ('International Reserves-8', -3.2500757389059571),\n",
       " ('International Reserves-3', -3.2500757821981408),\n",
       " ('Adj Close-26', -3.2500757952549977),\n",
       " ('Selic-3', -3.2500758754995127),\n",
       " ('International Reserves-4', -3.2500758886640542),\n",
       " ('International Reserves-17', -3.2500758946803199),\n",
       " ('International Reserves-20', -3.2500759082832662),\n",
       " ('International Reserves-18', -3.2500759084035606),\n",
       " ('Selic-5', -3.2500759176706113),\n",
       " ('International Reserves-21', -3.2500759447009702),\n",
       " ('International Reserves-10', -3.2500759466227143),\n",
       " ('Nasdaq index-9', -3.250075960919228),\n",
       " ('Selic-4', -3.2500759950388636),\n",
       " ('International Reserves-2', -3.250075997660788),\n",
       " ('International Reserves-19', -3.2500760003384204),\n",
       " ('Low-7', -3.2500760100828785),\n",
       " ('International Reserves-23', -3.250076045696344),\n",
       " ('International Reserves-9', -3.2500760631197556),\n",
       " ('Dow Jones index-3', -3.2500760651418656),\n",
       " ('International Reserves-14', -3.250076093635212),\n",
       " ('International Reserves-22', -3.2500760948408201),\n",
       " ('International Reserves-16', -3.2500760975507803),\n",
       " ('International Reserves-15', -3.2500761083927818),\n",
       " ('Low-8', -3.2500763727035533),\n",
       " ('International Reserves-24', -3.2500763761931588),\n",
       " ('Exchange Rate USD Sell-1', -3.2500765802995351),\n",
       " ('Exchange Rate USD Buy-1', -3.2500765820445103),\n",
       " ('International Reserves-26', -3.250076614848679),\n",
       " ('International Reserves-25', -3.2500766793416269),\n",
       " ('International Reserves-29', -3.2500768212819136),\n",
       " ('International Reserves-28', -3.2500768820780168),\n",
       " ('Open-3', -3.2500769674849987),\n",
       " ('High-9', -3.2500769892173382),\n",
       " ('International Reserves-27', -3.2500769898105029),\n",
       " ('Exchange Rate USD Sell-2', -3.2500770189669637),\n",
       " ('Exchange Rate USD Buy-2', -3.2500770342238354),\n",
       " ('Adj Close-10', -3.2500770825440304),\n",
       " ('Dow Jones index-2', -3.2500772241846465),\n",
       " ('Close-10', -3.2500773633021045),\n",
       " ('Selic-16', -3.2500774014431326),\n",
       " ('Exchange Rate USD Sell-24', -3.2500774174493463),\n",
       " ('Exchange Rate USD Buy-24', -3.250077419989013),\n",
       " ('Open-21', -3.2500774314446677),\n",
       " ('Selic-15', -3.2500774508356476),\n",
       " ('Selic-14', -3.2500775214657289),\n",
       " ('Exchange Rate USD Sell-23', -3.2500778247825868),\n",
       " ('Exchange Rate USD Buy-23', -3.2500778259592504),\n",
       " ('Open-12', -3.2500779417928212),\n",
       " ('Open-13', -3.2500779692701736),\n",
       " ('Exchange Rate USD Sell-3', -3.2500780347252141),\n",
       " ('Exchange Rate USD Buy-3', -3.2500780374559741),\n",
       " ('Low-24', -3.2500780820485398),\n",
       " ('Bovespa index-7', -3.2500780936751448),\n",
       " ('Close-24', -3.2500781914134325),\n",
       " ('Adj Close-24', -3.2500783609577759),\n",
       " ('Close-8', -3.2500784227995974),\n",
       " ('High-13', -3.2500784317326903),\n",
       " ('Dow Jones index-1', -3.2500785168231059),\n",
       " ('Exchange Rate USD Sell-22', -3.2500785270229491),\n",
       " ('Exchange Rate USD Buy-22', -3.2500785292280918),\n",
       " ('Nasdaq index-2', -3.2500786363147816),\n",
       " ('Adj Close-8', -3.2500786535132185),\n",
       " ('Selic-20', -3.2500786646149686),\n",
       " ('Bovespa index-8', -3.2500786687581242),\n",
       " ('Nasdaq index-3', -3.2500786711058933),\n",
       " ('Bovespa index-13', -3.2500786779925055),\n",
       " ('Selic-21', -3.2500786786581397),\n",
       " ('Exchange Rate USD Sell-21', -3.2500787451434054),\n",
       " ('Exchange Rate USD Buy-21', -3.2500787637805026),\n",
       " ('Selic-19', -3.2500788646637333),\n",
       " ('Low-1', -3.2500788900303434),\n",
       " ('Selic-18', -3.2500789362604907),\n",
       " ('Exchange Rate USD Sell-25', -3.2500789432647461),\n",
       " ('Exchange Rate USD Buy-25', -3.2500789449350629),\n",
       " ('High-23', -3.2500789670479016),\n",
       " ('Open-24', -3.2500791567092708),\n",
       " ('Selic-25', -3.2500791973400687),\n",
       " ('High-15', -3.250079269026465),\n",
       " ('Open-22', -3.2500793170861124),\n",
       " ('Exchange Rate USD Sell-26', -3.2500793405972463),\n",
       " ('Exchange Rate USD Buy-26', -3.2500793581655332),\n",
       " ('Exchange Rate USD Sell-4', -3.2500794276177998),\n",
       " ('Selic-23', -3.2500794288516852),\n",
       " ('Exchange Rate USD Buy-4', -3.2500794296788711),\n",
       " ('Selic-27', -3.250079469635637),\n",
       " ('Selic-17', -3.2500794743275621),\n",
       " ('Selic-24', -3.2500794812749318),\n",
       " ('Selic-26', -3.2500794978012739),\n",
       " ('Selic-22', -3.2500795390235373),\n",
       " ('Selic-28', -3.2500795740656061),\n",
       " ('High-11', -3.2500797524738601),\n",
       " ('Selic-29', -3.2500797757104625),\n",
       " ('Exchange Rate USD Sell-5', -3.2500798042647747),\n",
       " ('Exchange Rate USD Buy-5', -3.2500798207344301),\n",
       " ('Nasdaq index-1', -3.2500800134527568),\n",
       " ('Exchange Rate USD Sell-20', -3.2500801106836326),\n",
       " ('High-2', -3.2500801244989002),\n",
       " ('Exchange Rate USD Buy-20', -3.2500801267901323),\n",
       " ('Selic-30', -3.2500802250781202),\n",
       " ('Bovespa index-9', -3.2500803151058251),\n",
       " ('Low-10', -3.2500803541935239),\n",
       " ('Bovespa index-5', -3.2500805003198101),\n",
       " ('Exchange Rate USD Sell-19', -3.2500806695324442),\n",
       " ('Exchange Rate USD Buy-19', -3.250080671860224),\n",
       " ('Bovespa index-14', -3.2500807619387904),\n",
       " ('Low-25', -3.250080776645075),\n",
       " ('Bovespa index-6', -3.2500808208337872),\n",
       " ('Open-15', -3.2500808257249765),\n",
       " ('Exchange Rate USD Sell-27', -3.2500809254872789),\n",
       " ('Exchange Rate USD Buy-27', -3.2500809420002379),\n",
       " ('High-3', -3.2500809999453124),\n",
       " ('Bovespa total volume-4', -3.2500810490616732),\n",
       " ('Open-20', -3.2500810503197535),\n",
       " ('High-22', -3.2500811140995864),\n",
       " ('Exchange Rate USD Sell-6', -3.2500812558367222),\n",
       " ('Exchange Rate USD Buy-6', -3.2500812596945541),\n",
       " ('Low-2', -3.250081276780179),\n",
       " ('Open-2', -3.2500812898499931),\n",
       " ('Open-11', -3.2500813100719226),\n",
       " ('Exchange Rate USD Sell-16', -3.2500813567164624),\n",
       " ('Exchange Rate USD Buy-16', -3.2500813597204412),\n",
       " ('Adj Close-4', -3.2500813658166536),\n",
       " ('Exchange Rate USD Sell-17', -3.2500814869860215),\n",
       " ('Exchange Rate USD Buy-17', -3.2500814898733847),\n",
       " ('Open-17', -3.2500815044458018),\n",
       " ('Close-4', -3.2500815058742618),\n",
       " ('Open-18', -3.2500816763630991),\n",
       " ('Exchange Rate USD Sell-15', -3.2500817118940755),\n",
       " ('Exchange Rate USD Buy-15', -3.2500817150896815),\n",
       " ('High-12', -3.2500821086248743),\n",
       " ('High-21', -3.2500821257273782),\n",
       " ('Bovespa index-12', -3.2500826256183015),\n",
       " ('Bovespa index-15', -3.2500826891724084),\n",
       " ('Exchange Rate USD Sell-18', -3.250082810011854),\n",
       " ('Low-14', -3.2500828113096722),\n",
       " ('Exchange Rate USD Buy-18', -3.2500828133067556),\n",
       " ('Close-1', -3.250082900129283),\n",
       " ('Adj Close-2', -3.2500829192446816),\n",
       " ('Adj Close-1', -3.2500829206667818),\n",
       " ('Close-2', -3.2500830394677345),\n",
       " ('Low-13', -3.2500832346262034),\n",
       " ('Exchange Rate USD Sell-28', -3.2500832509137378),\n",
       " ('Exchange Rate USD Buy-28', -3.2500832677878657),\n",
       " ('Adj Close-15', -3.2500832773746198),\n",
       " ('Open-16', -3.2500833695534479),\n",
       " ('Close-15', -3.2500834058169623),\n",
       " ('Exchange Rate USD Sell-30', -3.2500834196315771),\n",
       " ('Exchange Rate USD Buy-30', -3.2500834375492933),\n",
       " ('Exchange Rate USD Sell-11', -3.2500834700601002),\n",
       " ('Exchange Rate USD Buy-11', -3.2500834756077288),\n",
       " ('Exchange Rate USD Sell-12', -3.2500834981170246),\n",
       " ('Exchange Rate USD Buy-12', -3.2500835015553142),\n",
       " ('Low-20', -3.250083594161802),\n",
       " ('Exchange Rate USD Sell-29', -3.250083715792929),\n",
       " ('Exchange Rate USD Buy-29', -3.2500837343168283),\n",
       " ('Adj Close-14', -3.2500837632321149),\n",
       " ('Exchange Rate USD Sell-9', -3.2500838189007779),\n",
       " ('Exchange Rate USD Buy-9', -3.2500838218719301),\n",
       " ('Close-22', -3.2500838844110387),\n",
       " ('Close-14', -3.2500839142757063),\n",
       " ('Bovespa index-2', -3.250083966279965),\n",
       " ('Adj Close-22', -3.2500839991946284),\n",
       " ('Exchange Rate USD Sell-13', -3.2500840592358244),\n",
       " ('Exchange Rate USD Buy-13', -3.2500840628059104),\n",
       " ('Exchange Rate USD Sell-7', -3.250084185364392),\n",
       " ('Exchange Rate USD Buy-7', -3.2500841920029351),\n",
       " ('Bovespa index-4', -3.2500842613072445),\n",
       " ('High-16', -3.2500842774214678),\n",
       " ('Exchange Rate USD Sell-14', -3.2500843598863463),\n",
       " ('Exchange Rate USD Buy-14', -3.2500843631319412),\n",
       " ('Exchange Rate USD Sell-10', -3.2500844089510106),\n",
       " ('Exchange Rate USD Buy-10', -3.2500844123630062),\n",
       " ('Exchange Rate USD Sell-8', -3.2500844377724709),\n",
       " ('Exchange Rate USD Buy-8', -3.2500844411134397),\n",
       " ('Adj Close-13', -3.2500845218824135),\n",
       " ('High-24', -3.2500845833203469),\n",
       " ('High-20', -3.2500846179114964),\n",
       " ('Low-22', -3.2500846410560511),\n",
       " ('Close-13', -3.2500847552179826),\n",
       " ('Adj Close-11', -3.2500847725724054),\n",
       " ('Close-11', -3.2500850496980527),\n",
       " ('Low-3', -3.2500850976519149),\n",
       " ('Close-21', -3.2500852403596667),\n",
       " ('Adj Close-21', -3.2500853021677898),\n",
       " ('Bovespa index-1', -3.2500853654119974),\n",
       " ('Bovespa index-11', -3.2500853896967463),\n",
       " ('Bovespa index-16', -3.250085655627275),\n",
       " ('Low-21', -3.2500859210679911),\n",
       " ('High-17', -3.2500859235172541),\n",
       " ('Bovespa index-3', -3.2500859258310837),\n",
       " ('Low-12', -3.2500859685659238),\n",
       " ('Bovespa index-10', -3.2500859877828794),\n",
       " ('Adj Close-12', -3.2500860596935865),\n",
       " ('Low-11', -3.2500860707967663),\n",
       " ('Close-12', -3.250086316229698),\n",
       " ('Bovespa index-27', -3.2500863848839452),\n",
       " ('Low-15', -3.2500864233865903),\n",
       " ('Close-23', -3.250086569212757),\n",
       " ('Adj Close-3', -3.250086645236419),\n",
       " ('Adj Close-23', -3.2500867163726412),\n",
       " ('Close-3', -3.2500867271825009),\n",
       " ('High-18', -3.250087054792397),\n",
       " ('Low-16', -3.2500872651528714),\n",
       " ('Open-19', -3.2500877570531874),\n",
       " ('Adj Close-16', -3.2500878078686704),\n",
       " ('Close-16', -3.2500879188226812),\n",
       " ('Bovespa index-19', -3.2500881788093166),\n",
       " ('Close-25', -3.2500882249471199),\n",
       " ('Adj Close-25', -3.2500884566649275),\n",
       " ('High-19', -3.2500885484150928),\n",
       " ('Low-17', -3.25008866792707),\n",
       " ('Adj Close-19', -3.250088728692841),\n",
       " ('Close-19', -3.2500887471771542),\n",
       " ('High-25', -3.2500887656875941),\n",
       " ('Bovespa index-17', -3.2500887662825968),\n",
       " ('Bovespa index-28', -3.2500892842449245),\n",
       " ('Low-18', -3.2500893227532135),\n",
       " ('Low-19', -3.2500897125753601),\n",
       " ('Bovespa index-18', -3.2500902861625884),\n",
       " ('Bovespa index-29', -3.2500905214653613),\n",
       " ('Bovespa total volume-26', -3.2500905333430579),\n",
       " ('Bovespa index-20', -3.2500908747800423),\n",
       " ('Adj Close-17', -3.2500909831454896),\n",
       " ('Close-17', -3.2500910699375849),\n",
       " ('Close-20', -3.2500917119082162),\n",
       " ('Adj Close-20', -3.2500917563577278),\n",
       " ('Adj Close-18', -3.2500918172655848),\n",
       " ('Close-18', -3.2500918593373518),\n",
       " ('Bovespa index-30', -3.2500929606952114),\n",
       " ('Bovespa total volume-19', -3.2500938864079081),\n",
       " ('Bovespa index-21', -3.250094043425706),\n",
       " ('Bovespa index-26', -3.2500957508871267),\n",
       " ('Bovespa index-24', -3.2500972161956612),\n",
       " ('Bovespa index-23', -3.250097553281416),\n",
       " ('Bovespa index-22', -3.2500976298159152),\n",
       " ('BM&F Gold gramme-1', -3.2500981290321311),\n",
       " ('Bovespa index-25', -3.2500997787689609),\n",
       " ('BM&F Gold gramme-2', -3.2501087487484592),\n",
       " ('BM&F Gold gramme-3', -3.25011026026643),\n",
       " ('BM&F Gold gramme-7', -3.2501137562008293),\n",
       " ('BM&F Gold gramme-5', -3.2501143618206996),\n",
       " ('BM&F Gold gramme-25', -3.2501152502903197),\n",
       " ('BM&F Gold gramme-6', -3.2501156210524358),\n",
       " ('BM&F Gold gramme-4', -3.2501158526213865),\n",
       " ('BM&F Gold gramme-19', -3.2501160131932347),\n",
       " ('BM&F Gold gramme-24', -3.2501160528875719),\n",
       " ('Bovespa total volume-18', -3.2501161084531072),\n",
       " ('BM&F Gold gramme-26', -3.2501168781609437),\n",
       " ('BM&F Gold gramme-23', -3.2501172548388872),\n",
       " ('BM&F Gold gramme-8', -3.2501175270609859),\n",
       " ('BM&F Gold gramme-9', -3.2501185806599189),\n",
       " ('BM&F Gold gramme-22', -3.2501187280410373),\n",
       " ('BM&F Gold gramme-27', -3.2501189158761647),\n",
       " ('BM&F Gold gramme-21', -3.2501190483972811),\n",
       " ('BM&F Gold gramme-20', -3.2501193207765469),\n",
       " ('BM&F Gold gramme-18', -3.2501196470570175),\n",
       " ('BM&F Gold gramme-30', -3.2501207534760561),\n",
       " ('BM&F Gold gramme-28', -3.2501213033340912),\n",
       " ('BM&F Gold gramme-13', -3.250121476770393),\n",
       " ('BM&F Gold gramme-15', -3.2501216144185747),\n",
       " ('BM&F Gold gramme-16', -3.2501216230015153),\n",
       " ('BM&F Gold gramme-29', -3.2501219706966267),\n",
       " ('BM&F Gold gramme-12', -3.2501222772840701),\n",
       " ('BM&F Gold gramme-17', -3.2501223897468359),\n",
       " ('BM&F Gold gramme-10', -3.2501228495200056),\n",
       " ('BM&F Gold gramme-14', -3.2501231913704833),\n",
       " ('BM&F Gold gramme-11', -3.2501254420185259),\n",
       " ('Bovespa total volume-3', -3.2501393348899019),\n",
       " ('Bovespa total volume-30', -3.2501630846079044),\n",
       " ('Bovespa total volume-25', -3.2501793332025346),\n",
       " ('Volume-27', -3.250190311927875),\n",
       " ('Volume-6', -3.2502752310354053),\n",
       " ('Volume-30', -3.2502756414424794),\n",
       " ('Volume-12', -3.2503071947725002),\n",
       " ('Volume-29', -3.2503194371666893),\n",
       " ('Volume-19', -3.2503326763005176),\n",
       " ('Foreign exchange operations balance-2', -3.2503506430940825),\n",
       " ('Volume-25', -3.2503630314032188),\n",
       " ('Volume-24', -3.250381513624653),\n",
       " ('Volume-9', -3.2504024861877574),\n",
       " ('Volume-14', -3.2504036789686377),\n",
       " ('Volume-21', -3.2504074017825455),\n",
       " ('Volume-20', -3.2504378111353938),\n",
       " ('Volume-22', -3.2505450445311492),\n",
       " ('Volume-4', -3.2505933199536368),\n",
       " ('Volume-7', -3.2506170124303249),\n",
       " ('Volume-26', -3.2506765927050276),\n",
       " ('Volume-3', -3.2507444320268397),\n",
       " ('Volume-23', -3.2509693601642056),\n",
       " ('Volume-17', -3.2509863690030341),\n",
       " ('Volume-5', -3.2510201590165986),\n",
       " ('Volume-1', -3.2510423237001085),\n",
       " ('Foreign exchange operations balance-26', -3.2512073133776171),\n",
       " ('Volume-15', -3.2512346311381779),\n",
       " ('Volume-16', -3.2512408517352251),\n",
       " ('Foreign exchange operations balance-6', -3.2515691865810945),\n",
       " ('Volume-18', -3.252003938664962),\n",
       " ('Foreign exchange operations balance-1', -3.2520318174067357),\n",
       " ('Volume-11', -3.2522989080802356),\n",
       " ('Foreign exchange operations balance-3', -3.2524671155291722),\n",
       " ('Foreign exchange operations balance-4', -3.2525173211438547),\n",
       " ('Volume-8', -3.252741626123528),\n",
       " ('Foreign exchange operations balance-17', -3.2528763606826123),\n",
       " ('Foreign exchange operations balance-20', -3.2528916621066331),\n",
       " ('Foreign exchange operations balance-24', -3.2530858883723885),\n",
       " ('Foreign exchange operations balance-25', -3.2532463023988516),\n",
       " ('Foreign exchange operations balance-21', -3.2535148423740119),\n",
       " ('Foreign exchange operations balance-13', -3.2545340091734789),\n",
       " ('Foreign exchange operations balance-19', -3.2556812393587542),\n",
       " ('Foreign exchange operations balance-16', -3.2577383316114026),\n",
       " ('Foreign exchange operations balance-9', -3.2596049131285727),\n",
       " ('Foreign exchange operations balance-23', -3.2674509890929944),\n",
       " ('Foreign exchange operations balance-14', -4.247849987231243)]"
      ]
     },
     "execution_count": 256,
     "metadata": {},
     "output_type": "execute_result"
    }
   ],
   "source": [
    "# checking the variables with most impact on the first component\n",
    "i = np.identity(len(features)) # identity matrix\n",
    "coef = pca.transform(i)\n",
    "sorted(zip(features, coef[:, 0]), key=lambda x:-x[1])"
   ]
  },
  {
   "cell_type": "markdown",
   "metadata": {},
   "source": [
    "The results hardly show something relevant. The coefficientes between the features are very similar for the first principal component"
   ]
  },
  {
   "cell_type": "code",
   "execution_count": 251,
   "metadata": {
    "collapsed": false
   },
   "outputs": [
    {
     "data": {
      "text/plain": [
       "[(0.38306356729468438, 0.53605222186588608),\n",
       " (0.27039670384386066, 0.60313437579740936),\n",
       " (0.24258226556740586, 0.62241169164577381),\n",
       " (0.22391025014647079, 0.63613806841335152),\n",
       " (0.18274742855316572, 0.66907754955651977),\n",
       " (0.17692834840793795, 0.67408022918883337),\n",
       " (0.15230140607407305, 0.69639521612559763),\n",
       " (0.12898208858990537, 0.71953497271245093),\n",
       " (0.12742899332312183, 0.72115766894094835),\n",
       " (0.12704399566398031, 0.72156164280376878),\n",
       " (0.12603096482992765, 0.72262791179609898),\n",
       " (0.12038729338869847, 0.72865832571119804),\n",
       " (0.11562249541106677, 0.73387417473185868),\n",
       " (0.10934725337762698, 0.74092978949613597),\n",
       " (0.1038814275522051, 0.74726072106381447),\n",
       " (0.10365848350293451, 0.74752281646880059),\n",
       " (0.10293094890441956, 0.74838028431293346),\n",
       " (0.1019858756949695, 0.74949914779588844),\n",
       " (0.10157638532044154, 0.74998571369382705),\n",
       " (0.099653157932066305, 0.75228551251603082),\n",
       " (0.094450891981003773, 0.75863137615570531),\n",
       " (0.092778517840049993, 0.76071189503679104),\n",
       " (0.087480916248612345, 0.76744100993824138),\n",
       " (0.058667495796617786, 0.80864414782433736),\n",
       " (0.058405838248743312, 0.8090630826713775),\n",
       " (0.044980817828608625, 0.83206506231596544),\n",
       " (0.037990770168157877, 0.84548527016119324),\n",
       " (0.037679180233982666, 0.84611226278942087),\n",
       " (0.02356426938225643, 0.87801726139026093),\n",
       " (0.0052192739394853228, 0.9424159075707067),\n",
       " (0.0050892312980372429, 0.94313657860338285),\n",
       " (0.0015119917385918152, 0.96898722911698298)]"
      ]
     },
     "execution_count": 251,
     "metadata": {},
     "output_type": "execute_result"
    }
   ],
   "source": [
    "# I will try feature selection again, with the components\n",
    "from sklearn.feature_selection import f_classif\n",
    "f_selector = SelectKBest(f_classif)\n",
    "f_selector.fit(X_transformed,y)\n",
    "sorted(zip(f_selector.scores_, f_selector.pvalues_), key=lambda x: -x[0])"
   ]
  },
  {
   "cell_type": "markdown",
   "metadata": {},
   "source": [
    "The p values for the Anova F-value test, all above 0.5, tell a worrisome story. None has a verifiable correlation with the label. Nevertheless, let's push forward and see how good a prediction we can make with this data"
   ]
  },
  {
   "cell_type": "markdown",
   "metadata": {},
   "source": [
    "### Predicting"
   ]
  },
  {
   "cell_type": "markdown",
   "metadata": {},
   "source": [
    "Let's move on to prediction and see which results we can get with the work that is already done.\n",
    "\n",
    "A previous work was done using several classifiers, and Gradient Boosting was the most promising. It is a model that can fit well complex models, and is one of the top perfomer algorithms used in the wide. Let's start with it and check the results"
   ]
  },
  {
   "cell_type": "code",
   "execution_count": 259,
   "metadata": {
    "collapsed": false
   },
   "outputs": [
    {
     "name": "stderr",
     "output_type": "stream",
     "text": [
      "/Users/lucasosouza/anaconda/envs/python3/lib/python3.4/site-packages/sklearn/metrics/classification.py:1113: UndefinedMetricWarning: Precision is ill-defined and being set to 0.0 due to no predicted samples.\n",
      "  'precision', 'predicted', average, warn_for)\n"
     ]
    }
   ],
   "source": [
    "# first, use a cross validation strategy\n",
    "from sklearn.ensemble import GradientBoostingClassifier as GBC\n",
    "from sklearn.model_selection import cross_val_score\n",
    "\n",
    "clf = GBC()\n",
    "scores = cross_val_score(clf, X, y, cv=10, scoring='precision')"
   ]
  },
  {
   "cell_type": "code",
   "execution_count": 272,
   "metadata": {
    "collapsed": false
   },
   "outputs": [
    {
     "name": "stdout",
     "output_type": "stream",
     "text": [
      "Precision: 0.12 (+/- 0.59)\n"
     ]
    }
   ],
   "source": [
    "print(\"Precision: %0.2f (+/- %0.2f)\" % (scores.mean(), scores.std() * 2))"
   ]
  },
  {
   "cell_type": "markdown",
   "metadata": {},
   "source": [
    "That is just a horrible precision. Hideous. What if I try with the principal components?"
   ]
  },
  {
   "cell_type": "code",
   "execution_count": 274,
   "metadata": {
    "collapsed": false
   },
   "outputs": [
    {
     "name": "stderr",
     "output_type": "stream",
     "text": [
      "/Users/lucasosouza/anaconda/envs/python3/lib/python3.4/site-packages/sklearn/metrics/classification.py:1113: UndefinedMetricWarning: Precision is ill-defined and being set to 0.0 due to no predicted samples.\n",
      "  'precision', 'predicted', average, warn_for)\n",
      "/Users/lucasosouza/anaconda/envs/python3/lib/python3.4/site-packages/sklearn/metrics/classification.py:1113: UndefinedMetricWarning: Precision is ill-defined and being set to 0.0 due to no predicted samples.\n",
      "  'precision', 'predicted', average, warn_for)\n",
      "/Users/lucasosouza/anaconda/envs/python3/lib/python3.4/site-packages/sklearn/metrics/classification.py:1113: UndefinedMetricWarning: Precision is ill-defined and being set to 0.0 due to no predicted samples.\n",
      "  'precision', 'predicted', average, warn_for)\n",
      "/Users/lucasosouza/anaconda/envs/python3/lib/python3.4/site-packages/sklearn/metrics/classification.py:1113: UndefinedMetricWarning: Precision is ill-defined and being set to 0.0 due to no predicted samples.\n",
      "  'precision', 'predicted', average, warn_for)\n",
      "/Users/lucasosouza/anaconda/envs/python3/lib/python3.4/site-packages/sklearn/metrics/classification.py:1113: UndefinedMetricWarning: Precision is ill-defined and being set to 0.0 due to no predicted samples.\n",
      "  'precision', 'predicted', average, warn_for)\n",
      "/Users/lucasosouza/anaconda/envs/python3/lib/python3.4/site-packages/sklearn/metrics/classification.py:1113: UndefinedMetricWarning: Precision is ill-defined and being set to 0.0 due to no predicted samples.\n",
      "  'precision', 'predicted', average, warn_for)\n"
     ]
    },
    {
     "name": "stdout",
     "output_type": "stream",
     "text": [
      "Precision: 0.03 (+/- 0.20)\n"
     ]
    },
    {
     "name": "stderr",
     "output_type": "stream",
     "text": [
      "/Users/lucasosouza/anaconda/envs/python3/lib/python3.4/site-packages/sklearn/metrics/classification.py:1113: UndefinedMetricWarning: Precision is ill-defined and being set to 0.0 due to no predicted samples.\n",
      "  'precision', 'predicted', average, warn_for)\n"
     ]
    }
   ],
   "source": [
    "clf = GBC()\n",
    "scores = cross_val_score(clf, X_transformed, y, cv=10, scoring='precision')\n",
    "print(\"Precision: %0.2f (+/- %0.2f)\" % (scores.mean(), scores.std() * 2))"
   ]
  },
  {
   "cell_type": "markdown",
   "metadata": {},
   "source": []
  },
  {
   "cell_type": "code",
   "execution_count": 260,
   "metadata": {
    "collapsed": true
   },
   "outputs": [],
   "source": [
    "# results with 10 folds (stratified), precision"
   ]
  },
  {
   "cell_type": "markdown",
   "metadata": {},
   "source": [
    "### Removed code"
   ]
  },
  {
   "cell_type": "code",
   "execution_count": 192,
   "metadata": {
    "collapsed": false
   },
   "outputs": [
    {
     "data": {
      "text/plain": [
       "Open-1                                     0.156083\n",
       "High-1                                     0.120690\n",
       "Low-1                                      0.132010\n",
       "Close-1                                    0.147989\n",
       "Volume-1                                   2.367895\n",
       "Adj Close-1                                0.147519\n",
       "Dow Jones index-1                          0.051414\n",
       "Exchange Rate USD Sell-1                   0.050253\n",
       "BM&F Gold gramme-1                         0.083007\n",
       "Exchange Rate USD Buy-1                    0.050178\n",
       "Selic-1                                    0.000000\n",
       "Bovespa index-1                            0.093836\n",
       "Foreign exchange operations balance-1      9.747550\n",
       "Nasdaq index-1                             0.062282\n",
       "Bovespa total volume-1                     1.586686\n",
       "International Reserves-1                   0.007990\n",
       "Open-2                                     0.214939\n",
       "High-2                                     0.203080\n",
       "Low-2                                      0.210523\n",
       "Close-2                                    0.209344\n",
       "Volume-2                                   2.612202\n",
       "Adj Close-2                                0.209776\n",
       "Dow Jones index-2                          0.076956\n",
       "Exchange Rate USD Sell-2                   0.076940\n",
       "BM&F Gold gramme-2                         0.106570\n",
       "Exchange Rate USD Buy-2                    0.076961\n",
       "Selic-2                                    0.000000\n",
       "Bovespa index-2                            0.143908\n",
       "Foreign exchange operations balance-2      9.902256\n",
       "Nasdaq index-2                             0.096183\n",
       "                                            ...    \n",
       "Low-29                                     0.966176\n",
       "Close-29                                   0.952885\n",
       "Volume-29                                  3.405761\n",
       "Adj Close-29                               0.956866\n",
       "Dow Jones index-29                         0.287918\n",
       "Exchange Rate USD Sell-29                  0.360136\n",
       "BM&F Gold gramme-29                        0.378698\n",
       "Exchange Rate USD Buy-29                   0.360311\n",
       "Selic-29                                   0.196078\n",
       "Bovespa index-29                           0.565755\n",
       "Foreign exchange operations balance-29    10.250626\n",
       "Nasdaq index-29                            0.335896\n",
       "Bovespa total volume-29                    2.188822\n",
       "International Reserves-29                  0.109573\n",
       "Open-30                                    0.981839\n",
       "High-30                                    0.976825\n",
       "Low-30                                     0.991814\n",
       "Close-30                                   0.966917\n",
       "Volume-30                                  3.458307\n",
       "Adj Close-30                               0.966178\n",
       "Dow Jones index-30                         0.287483\n",
       "Exchange Rate USD Sell-30                  0.361586\n",
       "BM&F Gold gramme-30                        0.391028\n",
       "Exchange Rate USD Buy-30                   0.361731\n",
       "Selic-30                                   0.196078\n",
       "Bovespa index-30                           0.583165\n",
       "Foreign exchange operations balance-30    10.223273\n",
       "Nasdaq index-30                            0.340875\n",
       "Bovespa total volume-30                    2.248923\n",
       "International Reserves-30                  0.114362\n",
       "dtype: float64"
      ]
     },
     "execution_count": 192,
     "metadata": {},
     "output_type": "execute_result"
    }
   ],
   "source": [
    "# outlier detection\n",
    "# vectorized\n",
    "# calculate step = (q3-q1*1.5)\n",
    "\n",
    "df.quantile(.5)\n",
    "(df.quantile(.75) - df.quantile(.25))*5\n",
    "\n",
    "# don't remove outliers for now. come back to this point later"
   ]
  },
  {
   "cell_type": "code",
   "execution_count": null,
   "metadata": {
    "collapsed": true
   },
   "outputs": [],
   "source": [
    "# okay, I've got a all this data - is a lot - I need to drop the original columns, they are irrelevant. \n",
    "# drop or scale. I will drop for now"
   ]
  },
  {
   "cell_type": "code",
   "execution_count": 94,
   "metadata": {
    "collapsed": false
   },
   "outputs": [
    {
     "name": "stdout",
     "output_type": "stream",
     "text": [
      "Open\n",
      "High\n",
      "Low\n",
      "Close\n",
      "Volume\n",
      "Adj Close\n",
      "Bovespa total volume\n",
      "Foreign exchange operations balance\n",
      "BM&F Gold gramme\n",
      "Bovespa index\n",
      "Exchange Rate USD Buy\n",
      "Dow Jones index\n",
      "International Reserves\n",
      "Selic\n",
      "Exchange Rate USD Sell\n",
      "Nasdaq index\n"
     ]
    }
   ],
   "source": [
    "for a,b in new_row.items():\n",
    "    print(a)"
   ]
  },
  {
   "cell_type": "code",
   "execution_count": null,
   "metadata": {
    "collapsed": true
   },
   "outputs": [],
   "source": []
  },
  {
   "cell_type": "code",
   "execution_count": 112,
   "metadata": {
    "collapsed": false
   },
   "outputs": [],
   "source": [
    "#testing\n",
    "#inspection_cols = ['Open', 'High', 'Low']\n",
    "#cols = list(inspection_cols) + \\\n",
    "#        list(map(lambda x: \"{}-{}\".format(x,1), inspection_cols)) + \\\n",
    "#        list(map(lambda x: \"{}-{}\".format(x,2), inspection_cols))"
   ]
  },
  {
   "cell_type": "code",
   "execution_count": 12,
   "metadata": {
    "collapsed": false
   },
   "outputs": [],
   "source": [
    "# will run forever. this will not work\n",
    "def create_features(df, base = 7):\n",
    "    \"\"\" - Get a basis, X days before, and calculate all the other variables on that basis\n",
    "        - Lookup_idx calculation: will look to 7 days before, including this one.\n",
    "            7 - (7-1) = 7 - 6 = 1\n",
    "            7 - (7-2) = 7 - 5 = 2\n",
    "            ...\n",
    "            7 - (7-7) = 7 -0 = 7  \n",
    "            \n",
    "        - Should not return n/as\n",
    "    \"\"\"\n",
    "    for idx, row in enumerate(df.iterrows()):\n",
    "        if idx>=base:\n",
    "            base_row = df.iloc[idx-base, :]\n",
    "            for n in range(1,base+1):\n",
    "                lookup_idx = idx-(base-n)\n",
    "                new_row = df.iloc[lookup_idx, :] / base_row\n",
    "                for col, value in new_row.items():\n",
    "                    df.ix[idx, col+\"-\"+str(n)] = value\n",
    "    return df\n"
   ]
  },
  {
   "cell_type": "code",
   "execution_count": 180,
   "metadata": {
    "collapsed": true
   },
   "outputs": [
    {
     "name": "stdout",
     "output_type": "stream",
     "text": [
      "Data points considered outliers for the feature 'Open-1':\n"
     ]
    },
    {
     "data": {
      "text/plain": [
       "(77, 480)"
      ]
     },
     "metadata": {},
     "output_type": "display_data"
    },
    {
     "name": "stdout",
     "output_type": "stream",
     "text": [
      "Data points considered outliers for the feature 'High-1':\n"
     ]
    },
    {
     "data": {
      "text/plain": [
       "(127, 480)"
      ]
     },
     "metadata": {},
     "output_type": "display_data"
    },
    {
     "name": "stdout",
     "output_type": "stream",
     "text": [
      "Data points considered outliers for the feature 'Low-1':\n"
     ]
    },
    {
     "data": {
      "text/plain": [
       "(93, 480)"
      ]
     },
     "metadata": {},
     "output_type": "display_data"
    },
    {
     "name": "stdout",
     "output_type": "stream",
     "text": [
      "Data points considered outliers for the feature 'Close-1':\n"
     ]
    },
    {
     "data": {
      "text/plain": [
       "(95, 480)"
      ]
     },
     "metadata": {},
     "output_type": "display_data"
    },
    {
     "name": "stdout",
     "output_type": "stream",
     "text": [
      "Data points considered outliers for the feature 'Volume-1':\n"
     ]
    },
    {
     "data": {
      "text/plain": [
       "(63, 480)"
      ]
     },
     "metadata": {},
     "output_type": "display_data"
    },
    {
     "name": "stdout",
     "output_type": "stream",
     "text": [
      "Data points considered outliers for the feature 'Adj Close-1':\n"
     ]
    },
    {
     "data": {
      "text/plain": [
       "(94, 480)"
      ]
     },
     "metadata": {},
     "output_type": "display_data"
    },
    {
     "name": "stdout",
     "output_type": "stream",
     "text": [
      "Data points considered outliers for the feature 'Dow Jones index-1':\n"
     ]
    },
    {
     "data": {
      "text/plain": [
       "(131, 480)"
      ]
     },
     "metadata": {},
     "output_type": "display_data"
    },
    {
     "name": "stdout",
     "output_type": "stream",
     "text": [
      "Data points considered outliers for the feature 'Exchange Rate USD Sell-1':\n"
     ]
    },
    {
     "data": {
      "text/plain": [
       "(94, 480)"
      ]
     },
     "metadata": {},
     "output_type": "display_data"
    },
    {
     "name": "stdout",
     "output_type": "stream",
     "text": [
      "Data points considered outliers for the feature 'BM&F Gold gramme-1':\n"
     ]
    },
    {
     "data": {
      "text/plain": [
       "(60, 480)"
      ]
     },
     "metadata": {},
     "output_type": "display_data"
    },
    {
     "name": "stdout",
     "output_type": "stream",
     "text": [
      "Data points considered outliers for the feature 'Exchange Rate USD Buy-1':\n"
     ]
    },
    {
     "data": {
      "text/plain": [
       "(96, 480)"
      ]
     },
     "metadata": {},
     "output_type": "display_data"
    },
    {
     "name": "stdout",
     "output_type": "stream",
     "text": [
      "Data points considered outliers for the feature 'Selic-1':\n"
     ]
    },
    {
     "data": {
      "text/plain": [
       "(38, 480)"
      ]
     },
     "metadata": {},
     "output_type": "display_data"
    },
    {
     "name": "stdout",
     "output_type": "stream",
     "text": [
      "Data points considered outliers for the feature 'Bovespa index-1':\n"
     ]
    },
    {
     "data": {
      "text/plain": [
       "(62, 480)"
      ]
     },
     "metadata": {},
     "output_type": "display_data"
    },
    {
     "name": "stdout",
     "output_type": "stream",
     "text": [
      "Data points considered outliers for the feature 'Foreign exchange operations balance-1':\n"
     ]
    },
    {
     "data": {
      "text/plain": [
       "(255, 480)"
      ]
     },
     "metadata": {},
     "output_type": "display_data"
    },
    {
     "name": "stdout",
     "output_type": "stream",
     "text": [
      "Data points considered outliers for the feature 'Nasdaq index-1':\n"
     ]
    },
    {
     "data": {
      "text/plain": [
       "(130, 480)"
      ]
     },
     "metadata": {},
     "output_type": "display_data"
    },
    {
     "name": "stdout",
     "output_type": "stream",
     "text": [
      "Data points considered outliers for the feature 'Bovespa total volume-1':\n"
     ]
    },
    {
     "data": {
      "text/plain": [
       "(95, 480)"
      ]
     },
     "metadata": {},
     "output_type": "display_data"
    },
    {
     "name": "stdout",
     "output_type": "stream",
     "text": [
      "Data points considered outliers for the feature 'International Reserves-1':\n"
     ]
    },
    {
     "data": {
      "text/plain": [
       "(158, 480)"
      ]
     },
     "metadata": {},
     "output_type": "display_data"
    },
    {
     "name": "stdout",
     "output_type": "stream",
     "text": [
      "Data points considered outliers for the feature 'Open-2':\n"
     ]
    },
    {
     "data": {
      "text/plain": [
       "(76, 480)"
      ]
     },
     "metadata": {},
     "output_type": "display_data"
    },
    {
     "name": "stdout",
     "output_type": "stream",
     "text": [
      "Data points considered outliers for the feature 'High-2':\n"
     ]
    },
    {
     "data": {
      "text/plain": [
       "(79, 480)"
      ]
     },
     "metadata": {},
     "output_type": "display_data"
    },
    {
     "name": "stdout",
     "output_type": "stream",
     "text": [
      "Data points considered outliers for the feature 'Low-2':\n"
     ]
    },
    {
     "data": {
      "text/plain": [
       "(77, 480)"
      ]
     },
     "metadata": {},
     "output_type": "display_data"
    },
    {
     "name": "stdout",
     "output_type": "stream",
     "text": [
      "Data points considered outliers for the feature 'Close-2':\n"
     ]
    },
    {
     "data": {
      "text/plain": [
       "(105, 480)"
      ]
     },
     "metadata": {},
     "output_type": "display_data"
    },
    {
     "name": "stdout",
     "output_type": "stream",
     "text": [
      "Data points considered outliers for the feature 'Volume-2':\n"
     ]
    },
    {
     "data": {
      "text/plain": [
       "(69, 480)"
      ]
     },
     "metadata": {},
     "output_type": "display_data"
    },
    {
     "name": "stdout",
     "output_type": "stream",
     "text": [
      "Data points considered outliers for the feature 'Adj Close-2':\n"
     ]
    },
    {
     "data": {
      "text/plain": [
       "(105, 480)"
      ]
     },
     "metadata": {},
     "output_type": "display_data"
    },
    {
     "name": "stdout",
     "output_type": "stream",
     "text": [
      "Data points considered outliers for the feature 'Dow Jones index-2':\n"
     ]
    },
    {
     "data": {
      "text/plain": [
       "(108, 480)"
      ]
     },
     "metadata": {},
     "output_type": "display_data"
    },
    {
     "name": "stdout",
     "output_type": "stream",
     "text": [
      "Data points considered outliers for the feature 'Exchange Rate USD Sell-2':\n"
     ]
    },
    {
     "data": {
      "text/plain": [
       "(82, 480)"
      ]
     },
     "metadata": {},
     "output_type": "display_data"
    },
    {
     "name": "stdout",
     "output_type": "stream",
     "text": [
      "Data points considered outliers for the feature 'BM&F Gold gramme-2':\n"
     ]
    },
    {
     "data": {
      "text/plain": [
       "(68, 480)"
      ]
     },
     "metadata": {},
     "output_type": "display_data"
    },
    {
     "name": "stdout",
     "output_type": "stream",
     "text": [
      "Data points considered outliers for the feature 'Exchange Rate USD Buy-2':\n"
     ]
    },
    {
     "data": {
      "text/plain": [
       "(82, 480)"
      ]
     },
     "metadata": {},
     "output_type": "display_data"
    },
    {
     "name": "stdout",
     "output_type": "stream",
     "text": [
      "Data points considered outliers for the feature 'Selic-2':\n"
     ]
    },
    {
     "data": {
      "text/plain": [
       "(76, 480)"
      ]
     },
     "metadata": {},
     "output_type": "display_data"
    },
    {
     "name": "stdout",
     "output_type": "stream",
     "text": [
      "Data points considered outliers for the feature 'Bovespa index-2':\n"
     ]
    },
    {
     "data": {
      "text/plain": [
       "(50, 480)"
      ]
     },
     "metadata": {},
     "output_type": "display_data"
    },
    {
     "name": "stdout",
     "output_type": "stream",
     "text": [
      "Data points considered outliers for the feature 'Foreign exchange operations balance-2':\n"
     ]
    },
    {
     "data": {
      "text/plain": [
       "(294, 480)"
      ]
     },
     "metadata": {},
     "output_type": "display_data"
    },
    {
     "name": "stdout",
     "output_type": "stream",
     "text": [
      "Data points considered outliers for the feature 'Nasdaq index-2':\n"
     ]
    },
    {
     "data": {
      "text/plain": [
       "(100, 480)"
      ]
     },
     "metadata": {},
     "output_type": "display_data"
    },
    {
     "name": "stdout",
     "output_type": "stream",
     "text": [
      "Data points considered outliers for the feature 'Bovespa total volume-2':\n"
     ]
    },
    {
     "data": {
      "text/plain": [
       "(88, 480)"
      ]
     },
     "metadata": {},
     "output_type": "display_data"
    },
    {
     "name": "stdout",
     "output_type": "stream",
     "text": [
      "Data points considered outliers for the feature 'International Reserves-2':\n"
     ]
    },
    {
     "data": {
      "text/plain": [
       "(137, 480)"
      ]
     },
     "metadata": {},
     "output_type": "display_data"
    },
    {
     "name": "stdout",
     "output_type": "stream",
     "text": [
      "Data points considered outliers for the feature 'Open-3':\n"
     ]
    },
    {
     "data": {
      "text/plain": [
       "(78, 480)"
      ]
     },
     "metadata": {},
     "output_type": "display_data"
    },
    {
     "name": "stdout",
     "output_type": "stream",
     "text": [
      "Data points considered outliers for the feature 'High-3':\n"
     ]
    },
    {
     "data": {
      "text/plain": [
       "(99, 480)"
      ]
     },
     "metadata": {},
     "output_type": "display_data"
    },
    {
     "name": "stdout",
     "output_type": "stream",
     "text": [
      "Data points considered outliers for the feature 'Low-3':\n"
     ]
    },
    {
     "data": {
      "text/plain": [
       "(75, 480)"
      ]
     },
     "metadata": {},
     "output_type": "display_data"
    },
    {
     "name": "stdout",
     "output_type": "stream",
     "text": [
      "Data points considered outliers for the feature 'Close-3':\n"
     ]
    },
    {
     "data": {
      "text/plain": [
       "(81, 480)"
      ]
     },
     "metadata": {},
     "output_type": "display_data"
    },
    {
     "name": "stdout",
     "output_type": "stream",
     "text": [
      "Data points considered outliers for the feature 'Volume-3':\n"
     ]
    },
    {
     "data": {
      "text/plain": [
       "(64, 480)"
      ]
     },
     "metadata": {},
     "output_type": "display_data"
    },
    {
     "name": "stdout",
     "output_type": "stream",
     "text": [
      "Data points considered outliers for the feature 'Adj Close-3':\n"
     ]
    },
    {
     "data": {
      "text/plain": [
       "(78, 480)"
      ]
     },
     "metadata": {},
     "output_type": "display_data"
    },
    {
     "name": "stdout",
     "output_type": "stream",
     "text": [
      "Data points considered outliers for the feature 'Dow Jones index-3':\n"
     ]
    },
    {
     "data": {
      "text/plain": [
       "(100, 480)"
      ]
     },
     "metadata": {},
     "output_type": "display_data"
    },
    {
     "name": "stdout",
     "output_type": "stream",
     "text": [
      "Data points considered outliers for the feature 'Exchange Rate USD Sell-3':\n"
     ]
    },
    {
     "data": {
      "text/plain": [
       "(80, 480)"
      ]
     },
     "metadata": {},
     "output_type": "display_data"
    },
    {
     "name": "stdout",
     "output_type": "stream",
     "text": [
      "Data points considered outliers for the feature 'BM&F Gold gramme-3':\n"
     ]
    },
    {
     "data": {
      "text/plain": [
       "(64, 480)"
      ]
     },
     "metadata": {},
     "output_type": "display_data"
    },
    {
     "name": "stdout",
     "output_type": "stream",
     "text": [
      "Data points considered outliers for the feature 'Exchange Rate USD Buy-3':\n"
     ]
    },
    {
     "data": {
      "text/plain": [
       "(80, 480)"
      ]
     },
     "metadata": {},
     "output_type": "display_data"
    },
    {
     "name": "stdout",
     "output_type": "stream",
     "text": [
      "Data points considered outliers for the feature 'Selic-3':\n"
     ]
    },
    {
     "data": {
      "text/plain": [
       "(114, 480)"
      ]
     },
     "metadata": {},
     "output_type": "display_data"
    },
    {
     "name": "stdout",
     "output_type": "stream",
     "text": [
      "Data points considered outliers for the feature 'Bovespa index-3':\n"
     ]
    },
    {
     "data": {
      "text/plain": [
       "(46, 480)"
      ]
     },
     "metadata": {},
     "output_type": "display_data"
    },
    {
     "name": "stdout",
     "output_type": "stream",
     "text": [
      "Data points considered outliers for the feature 'Foreign exchange operations balance-3':\n"
     ]
    },
    {
     "data": {
      "text/plain": [
       "(286, 480)"
      ]
     },
     "metadata": {},
     "output_type": "display_data"
    },
    {
     "name": "stdout",
     "output_type": "stream",
     "text": [
      "Data points considered outliers for the feature 'Nasdaq index-3':\n"
     ]
    },
    {
     "data": {
      "text/plain": [
       "(76, 480)"
      ]
     },
     "metadata": {},
     "output_type": "display_data"
    },
    {
     "name": "stdout",
     "output_type": "stream",
     "text": [
      "Data points considered outliers for the feature 'Bovespa total volume-3':\n"
     ]
    },
    {
     "data": {
      "text/plain": [
       "(76, 480)"
      ]
     },
     "metadata": {},
     "output_type": "display_data"
    },
    {
     "name": "stdout",
     "output_type": "stream",
     "text": [
      "Data points considered outliers for the feature 'International Reserves-3':\n"
     ]
    },
    {
     "data": {
      "text/plain": [
       "(115, 480)"
      ]
     },
     "metadata": {},
     "output_type": "display_data"
    },
    {
     "name": "stdout",
     "output_type": "stream",
     "text": [
      "Data points considered outliers for the feature 'Open-4':\n"
     ]
    },
    {
     "data": {
      "text/plain": [
       "(85, 480)"
      ]
     },
     "metadata": {},
     "output_type": "display_data"
    },
    {
     "name": "stdout",
     "output_type": "stream",
     "text": [
      "Data points considered outliers for the feature 'High-4':\n"
     ]
    },
    {
     "data": {
      "text/plain": [
       "(100, 480)"
      ]
     },
     "metadata": {},
     "output_type": "display_data"
    },
    {
     "name": "stdout",
     "output_type": "stream",
     "text": [
      "Data points considered outliers for the feature 'Low-4':\n"
     ]
    },
    {
     "data": {
      "text/plain": [
       "(70, 480)"
      ]
     },
     "metadata": {},
     "output_type": "display_data"
    },
    {
     "name": "stdout",
     "output_type": "stream",
     "text": [
      "Data points considered outliers for the feature 'Close-4':\n"
     ]
    },
    {
     "data": {
      "text/plain": [
       "(82, 480)"
      ]
     },
     "metadata": {},
     "output_type": "display_data"
    },
    {
     "name": "stdout",
     "output_type": "stream",
     "text": [
      "Data points considered outliers for the feature 'Volume-4':\n"
     ]
    },
    {
     "data": {
      "text/plain": [
       "(65, 480)"
      ]
     },
     "metadata": {},
     "output_type": "display_data"
    },
    {
     "name": "stdout",
     "output_type": "stream",
     "text": [
      "Data points considered outliers for the feature 'Adj Close-4':\n"
     ]
    },
    {
     "data": {
      "text/plain": [
       "(82, 480)"
      ]
     },
     "metadata": {},
     "output_type": "display_data"
    },
    {
     "name": "stdout",
     "output_type": "stream",
     "text": [
      "Data points considered outliers for the feature 'Dow Jones index-4':\n"
     ]
    },
    {
     "data": {
      "text/plain": [
       "(96, 480)"
      ]
     },
     "metadata": {},
     "output_type": "display_data"
    },
    {
     "name": "stdout",
     "output_type": "stream",
     "text": [
      "Data points considered outliers for the feature 'Exchange Rate USD Sell-4':\n"
     ]
    },
    {
     "data": {
      "text/plain": [
       "(68, 480)"
      ]
     },
     "metadata": {},
     "output_type": "display_data"
    },
    {
     "name": "stdout",
     "output_type": "stream",
     "text": [
      "Data points considered outliers for the feature 'BM&F Gold gramme-4':\n"
     ]
    },
    {
     "data": {
      "text/plain": [
       "(64, 480)"
      ]
     },
     "metadata": {},
     "output_type": "display_data"
    },
    {
     "name": "stdout",
     "output_type": "stream",
     "text": [
      "Data points considered outliers for the feature 'Exchange Rate USD Buy-4':\n"
     ]
    },
    {
     "data": {
      "text/plain": [
       "(68, 480)"
      ]
     },
     "metadata": {},
     "output_type": "display_data"
    },
    {
     "name": "stdout",
     "output_type": "stream",
     "text": [
      "Data points considered outliers for the feature 'Selic-4':\n"
     ]
    },
    {
     "data": {
      "text/plain": [
       "(152, 480)"
      ]
     },
     "metadata": {},
     "output_type": "display_data"
    },
    {
     "name": "stdout",
     "output_type": "stream",
     "text": [
      "Data points considered outliers for the feature 'Bovespa index-4':\n"
     ]
    },
    {
     "data": {
      "text/plain": [
       "(43, 480)"
      ]
     },
     "metadata": {},
     "output_type": "display_data"
    },
    {
     "name": "stdout",
     "output_type": "stream",
     "text": [
      "Data points considered outliers for the feature 'Foreign exchange operations balance-4':\n"
     ]
    },
    {
     "data": {
      "text/plain": [
       "(257, 480)"
      ]
     },
     "metadata": {},
     "output_type": "display_data"
    },
    {
     "name": "stdout",
     "output_type": "stream",
     "text": [
      "Data points considered outliers for the feature 'Nasdaq index-4':\n"
     ]
    },
    {
     "data": {
      "text/plain": [
       "(81, 480)"
      ]
     },
     "metadata": {},
     "output_type": "display_data"
    },
    {
     "name": "stdout",
     "output_type": "stream",
     "text": [
      "Data points considered outliers for the feature 'Bovespa total volume-4':\n"
     ]
    },
    {
     "data": {
      "text/plain": [
       "(85, 480)"
      ]
     },
     "metadata": {},
     "output_type": "display_data"
    },
    {
     "name": "stdout",
     "output_type": "stream",
     "text": [
      "Data points considered outliers for the feature 'International Reserves-4':\n"
     ]
    },
    {
     "data": {
      "text/plain": [
       "(124, 480)"
      ]
     },
     "metadata": {},
     "output_type": "display_data"
    },
    {
     "name": "stdout",
     "output_type": "stream",
     "text": [
      "Data points considered outliers for the feature 'Open-5':\n"
     ]
    },
    {
     "data": {
      "text/plain": [
       "(77, 480)"
      ]
     },
     "metadata": {},
     "output_type": "display_data"
    },
    {
     "name": "stdout",
     "output_type": "stream",
     "text": [
      "Data points considered outliers for the feature 'High-5':\n"
     ]
    },
    {
     "data": {
      "text/plain": [
       "(95, 480)"
      ]
     },
     "metadata": {},
     "output_type": "display_data"
    },
    {
     "name": "stdout",
     "output_type": "stream",
     "text": [
      "Data points considered outliers for the feature 'Low-5':\n"
     ]
    },
    {
     "data": {
      "text/plain": [
       "(68, 480)"
      ]
     },
     "metadata": {},
     "output_type": "display_data"
    },
    {
     "name": "stdout",
     "output_type": "stream",
     "text": [
      "Data points considered outliers for the feature 'Close-5':\n"
     ]
    },
    {
     "data": {
      "text/plain": [
       "(70, 480)"
      ]
     },
     "metadata": {},
     "output_type": "display_data"
    },
    {
     "name": "stdout",
     "output_type": "stream",
     "text": [
      "Data points considered outliers for the feature 'Volume-5':\n"
     ]
    },
    {
     "data": {
      "text/plain": [
       "(70, 480)"
      ]
     },
     "metadata": {},
     "output_type": "display_data"
    },
    {
     "name": "stdout",
     "output_type": "stream",
     "text": [
      "Data points considered outliers for the feature 'Adj Close-5':\n"
     ]
    },
    {
     "data": {
      "text/plain": [
       "(71, 480)"
      ]
     },
     "metadata": {},
     "output_type": "display_data"
    },
    {
     "name": "stdout",
     "output_type": "stream",
     "text": [
      "Data points considered outliers for the feature 'Dow Jones index-5':\n"
     ]
    },
    {
     "data": {
      "text/plain": [
       "(89, 480)"
      ]
     },
     "metadata": {},
     "output_type": "display_data"
    },
    {
     "name": "stdout",
     "output_type": "stream",
     "text": [
      "Data points considered outliers for the feature 'Exchange Rate USD Sell-5':\n"
     ]
    },
    {
     "data": {
      "text/plain": [
       "(67, 480)"
      ]
     },
     "metadata": {},
     "output_type": "display_data"
    },
    {
     "name": "stdout",
     "output_type": "stream",
     "text": [
      "Data points considered outliers for the feature 'BM&F Gold gramme-5':\n"
     ]
    },
    {
     "data": {
      "text/plain": [
       "(59, 480)"
      ]
     },
     "metadata": {},
     "output_type": "display_data"
    },
    {
     "name": "stdout",
     "output_type": "stream",
     "text": [
      "Data points considered outliers for the feature 'Exchange Rate USD Buy-5':\n"
     ]
    },
    {
     "data": {
      "text/plain": [
       "(67, 480)"
      ]
     },
     "metadata": {},
     "output_type": "display_data"
    },
    {
     "name": "stdout",
     "output_type": "stream",
     "text": [
      "Data points considered outliers for the feature 'Selic-5':\n"
     ]
    },
    {
     "data": {
      "text/plain": [
       "(190, 480)"
      ]
     },
     "metadata": {},
     "output_type": "display_data"
    },
    {
     "name": "stdout",
     "output_type": "stream",
     "text": [
      "Data points considered outliers for the feature 'Bovespa index-5':\n"
     ]
    },
    {
     "data": {
      "text/plain": [
       "(29, 480)"
      ]
     },
     "metadata": {},
     "output_type": "display_data"
    },
    {
     "name": "stdout",
     "output_type": "stream",
     "text": [
      "Data points considered outliers for the feature 'Foreign exchange operations balance-5':\n"
     ]
    },
    {
     "data": {
      "text/plain": [
       "(251, 480)"
      ]
     },
     "metadata": {},
     "output_type": "display_data"
    },
    {
     "name": "stdout",
     "output_type": "stream",
     "text": [
      "Data points considered outliers for the feature 'Nasdaq index-5':\n"
     ]
    },
    {
     "data": {
      "text/plain": [
       "(71, 480)"
      ]
     },
     "metadata": {},
     "output_type": "display_data"
    },
    {
     "name": "stdout",
     "output_type": "stream",
     "text": [
      "Data points considered outliers for the feature 'Bovespa total volume-5':\n"
     ]
    },
    {
     "data": {
      "text/plain": [
       "(83, 480)"
      ]
     },
     "metadata": {},
     "output_type": "display_data"
    },
    {
     "name": "stdout",
     "output_type": "stream",
     "text": [
      "Data points considered outliers for the feature 'International Reserves-5':\n"
     ]
    },
    {
     "data": {
      "text/plain": [
       "(117, 480)"
      ]
     },
     "metadata": {},
     "output_type": "display_data"
    },
    {
     "name": "stdout",
     "output_type": "stream",
     "text": [
      "Data points considered outliers for the feature 'Open-6':\n"
     ]
    },
    {
     "data": {
      "text/plain": [
       "(71, 480)"
      ]
     },
     "metadata": {},
     "output_type": "display_data"
    },
    {
     "name": "stdout",
     "output_type": "stream",
     "text": [
      "Data points considered outliers for the feature 'High-6':\n"
     ]
    },
    {
     "data": {
      "text/plain": [
       "(76, 480)"
      ]
     },
     "metadata": {},
     "output_type": "display_data"
    },
    {
     "name": "stdout",
     "output_type": "stream",
     "text": [
      "Data points considered outliers for the feature 'Low-6':\n"
     ]
    },
    {
     "data": {
      "text/plain": [
       "(62, 480)"
      ]
     },
     "metadata": {},
     "output_type": "display_data"
    },
    {
     "name": "stdout",
     "output_type": "stream",
     "text": [
      "Data points considered outliers for the feature 'Close-6':\n"
     ]
    },
    {
     "data": {
      "text/plain": [
       "(67, 480)"
      ]
     },
     "metadata": {},
     "output_type": "display_data"
    },
    {
     "name": "stdout",
     "output_type": "stream",
     "text": [
      "Data points considered outliers for the feature 'Volume-6':\n"
     ]
    },
    {
     "data": {
      "text/plain": [
       "(69, 480)"
      ]
     },
     "metadata": {},
     "output_type": "display_data"
    },
    {
     "name": "stdout",
     "output_type": "stream",
     "text": [
      "Data points considered outliers for the feature 'Adj Close-6':\n"
     ]
    },
    {
     "data": {
      "text/plain": [
       "(67, 480)"
      ]
     },
     "metadata": {},
     "output_type": "display_data"
    },
    {
     "name": "stdout",
     "output_type": "stream",
     "text": [
      "Data points considered outliers for the feature 'Dow Jones index-6':\n"
     ]
    },
    {
     "data": {
      "text/plain": [
       "(90, 480)"
      ]
     },
     "metadata": {},
     "output_type": "display_data"
    },
    {
     "name": "stdout",
     "output_type": "stream",
     "text": [
      "Data points considered outliers for the feature 'Exchange Rate USD Sell-6':\n"
     ]
    },
    {
     "data": {
      "text/plain": [
       "(68, 480)"
      ]
     },
     "metadata": {},
     "output_type": "display_data"
    },
    {
     "name": "stdout",
     "output_type": "stream",
     "text": [
      "Data points considered outliers for the feature 'BM&F Gold gramme-6':\n"
     ]
    },
    {
     "data": {
      "text/plain": [
       "(58, 480)"
      ]
     },
     "metadata": {},
     "output_type": "display_data"
    },
    {
     "name": "stdout",
     "output_type": "stream",
     "text": [
      "Data points considered outliers for the feature 'Exchange Rate USD Buy-6':\n"
     ]
    },
    {
     "data": {
      "text/plain": [
       "(68, 480)"
      ]
     },
     "metadata": {},
     "output_type": "display_data"
    },
    {
     "name": "stdout",
     "output_type": "stream",
     "text": [
      "Data points considered outliers for the feature 'Selic-6':\n"
     ]
    },
    {
     "data": {
      "text/plain": [
       "(228, 480)"
      ]
     },
     "metadata": {},
     "output_type": "display_data"
    },
    {
     "name": "stdout",
     "output_type": "stream",
     "text": [
      "Data points considered outliers for the feature 'Bovespa index-6':\n"
     ]
    },
    {
     "data": {
      "text/plain": [
       "(30, 480)"
      ]
     },
     "metadata": {},
     "output_type": "display_data"
    },
    {
     "name": "stdout",
     "output_type": "stream",
     "text": [
      "Data points considered outliers for the feature 'Foreign exchange operations balance-6':\n"
     ]
    },
    {
     "data": {
      "text/plain": [
       "(271, 480)"
      ]
     },
     "metadata": {},
     "output_type": "display_data"
    },
    {
     "name": "stdout",
     "output_type": "stream",
     "text": [
      "Data points considered outliers for the feature 'Nasdaq index-6':\n"
     ]
    },
    {
     "data": {
      "text/plain": [
       "(74, 480)"
      ]
     },
     "metadata": {},
     "output_type": "display_data"
    },
    {
     "name": "stdout",
     "output_type": "stream",
     "text": [
      "Data points considered outliers for the feature 'Bovespa total volume-6':\n"
     ]
    },
    {
     "data": {
      "text/plain": [
       "(77, 480)"
      ]
     },
     "metadata": {},
     "output_type": "display_data"
    },
    {
     "name": "stdout",
     "output_type": "stream",
     "text": [
      "Data points considered outliers for the feature 'International Reserves-6':\n"
     ]
    },
    {
     "data": {
      "text/plain": [
       "(124, 480)"
      ]
     },
     "metadata": {},
     "output_type": "display_data"
    },
    {
     "name": "stdout",
     "output_type": "stream",
     "text": [
      "Data points considered outliers for the feature 'Open-7':\n"
     ]
    },
    {
     "data": {
      "text/plain": [
       "(74, 480)"
      ]
     },
     "metadata": {},
     "output_type": "display_data"
    },
    {
     "name": "stdout",
     "output_type": "stream",
     "text": [
      "Data points considered outliers for the feature 'High-7':\n"
     ]
    },
    {
     "data": {
      "text/plain": [
       "(83, 480)"
      ]
     },
     "metadata": {},
     "output_type": "display_data"
    },
    {
     "name": "stdout",
     "output_type": "stream",
     "text": [
      "Data points considered outliers for the feature 'Low-7':\n"
     ]
    },
    {
     "data": {
      "text/plain": [
       "(64, 480)"
      ]
     },
     "metadata": {},
     "output_type": "display_data"
    },
    {
     "name": "stdout",
     "output_type": "stream",
     "text": [
      "Data points considered outliers for the feature 'Close-7':\n"
     ]
    },
    {
     "data": {
      "text/plain": [
       "(71, 480)"
      ]
     },
     "metadata": {},
     "output_type": "display_data"
    },
    {
     "name": "stdout",
     "output_type": "stream",
     "text": [
      "Data points considered outliers for the feature 'Volume-7':\n"
     ]
    },
    {
     "data": {
      "text/plain": [
       "(73, 480)"
      ]
     },
     "metadata": {},
     "output_type": "display_data"
    },
    {
     "name": "stdout",
     "output_type": "stream",
     "text": [
      "Data points considered outliers for the feature 'Adj Close-7':\n"
     ]
    },
    {
     "data": {
      "text/plain": [
       "(70, 480)"
      ]
     },
     "metadata": {},
     "output_type": "display_data"
    },
    {
     "name": "stdout",
     "output_type": "stream",
     "text": [
      "Data points considered outliers for the feature 'Dow Jones index-7':\n"
     ]
    },
    {
     "data": {
      "text/plain": [
       "(92, 480)"
      ]
     },
     "metadata": {},
     "output_type": "display_data"
    },
    {
     "name": "stdout",
     "output_type": "stream",
     "text": [
      "Data points considered outliers for the feature 'Exchange Rate USD Sell-7':\n"
     ]
    },
    {
     "data": {
      "text/plain": [
       "(67, 480)"
      ]
     },
     "metadata": {},
     "output_type": "display_data"
    },
    {
     "name": "stdout",
     "output_type": "stream",
     "text": [
      "Data points considered outliers for the feature 'BM&F Gold gramme-7':\n"
     ]
    },
    {
     "data": {
      "text/plain": [
       "(59, 480)"
      ]
     },
     "metadata": {},
     "output_type": "display_data"
    },
    {
     "name": "stdout",
     "output_type": "stream",
     "text": [
      "Data points considered outliers for the feature 'Exchange Rate USD Buy-7':\n"
     ]
    },
    {
     "data": {
      "text/plain": [
       "(67, 480)"
      ]
     },
     "metadata": {},
     "output_type": "display_data"
    },
    {
     "name": "stdout",
     "output_type": "stream",
     "text": [
      "Data points considered outliers for the feature 'Selic-7':\n"
     ]
    },
    {
     "data": {
      "text/plain": [
       "(266, 480)"
      ]
     },
     "metadata": {},
     "output_type": "display_data"
    },
    {
     "name": "stdout",
     "output_type": "stream",
     "text": [
      "Data points considered outliers for the feature 'Bovespa index-7':\n"
     ]
    },
    {
     "data": {
      "text/plain": [
       "(27, 480)"
      ]
     },
     "metadata": {},
     "output_type": "display_data"
    },
    {
     "name": "stdout",
     "output_type": "stream",
     "text": [
      "Data points considered outliers for the feature 'Foreign exchange operations balance-7':\n"
     ]
    },
    {
     "data": {
      "text/plain": [
       "(272, 480)"
      ]
     },
     "metadata": {},
     "output_type": "display_data"
    },
    {
     "name": "stdout",
     "output_type": "stream",
     "text": [
      "Data points considered outliers for the feature 'Nasdaq index-7':\n"
     ]
    },
    {
     "data": {
      "text/plain": [
       "(80, 480)"
      ]
     },
     "metadata": {},
     "output_type": "display_data"
    },
    {
     "name": "stdout",
     "output_type": "stream",
     "text": [
      "Data points considered outliers for the feature 'Bovespa total volume-7':\n"
     ]
    },
    {
     "data": {
      "text/plain": [
       "(75, 480)"
      ]
     },
     "metadata": {},
     "output_type": "display_data"
    },
    {
     "name": "stdout",
     "output_type": "stream",
     "text": [
      "Data points considered outliers for the feature 'International Reserves-7':\n"
     ]
    },
    {
     "data": {
      "text/plain": [
       "(121, 480)"
      ]
     },
     "metadata": {},
     "output_type": "display_data"
    },
    {
     "name": "stdout",
     "output_type": "stream",
     "text": [
      "Data points considered outliers for the feature 'Open-8':\n"
     ]
    },
    {
     "data": {
      "text/plain": [
       "(72, 480)"
      ]
     },
     "metadata": {},
     "output_type": "display_data"
    },
    {
     "name": "stdout",
     "output_type": "stream",
     "text": [
      "Data points considered outliers for the feature 'High-8':\n"
     ]
    },
    {
     "data": {
      "text/plain": [
       "(85, 480)"
      ]
     },
     "metadata": {},
     "output_type": "display_data"
    },
    {
     "name": "stdout",
     "output_type": "stream",
     "text": [
      "Data points considered outliers for the feature 'Low-8':\n"
     ]
    },
    {
     "data": {
      "text/plain": [
       "(74, 480)"
      ]
     },
     "metadata": {},
     "output_type": "display_data"
    },
    {
     "name": "stdout",
     "output_type": "stream",
     "text": [
      "Data points considered outliers for the feature 'Close-8':\n"
     ]
    },
    {
     "data": {
      "text/plain": [
       "(70, 480)"
      ]
     },
     "metadata": {},
     "output_type": "display_data"
    },
    {
     "name": "stdout",
     "output_type": "stream",
     "text": [
      "Data points considered outliers for the feature 'Volume-8':\n"
     ]
    },
    {
     "data": {
      "text/plain": [
       "(72, 480)"
      ]
     },
     "metadata": {},
     "output_type": "display_data"
    },
    {
     "name": "stdout",
     "output_type": "stream",
     "text": [
      "Data points considered outliers for the feature 'Adj Close-8':\n"
     ]
    },
    {
     "data": {
      "text/plain": [
       "(70, 480)"
      ]
     },
     "metadata": {},
     "output_type": "display_data"
    },
    {
     "name": "stdout",
     "output_type": "stream",
     "text": [
      "Data points considered outliers for the feature 'Dow Jones index-8':\n"
     ]
    },
    {
     "data": {
      "text/plain": [
       "(82, 480)"
      ]
     },
     "metadata": {},
     "output_type": "display_data"
    },
    {
     "name": "stdout",
     "output_type": "stream",
     "text": [
      "Data points considered outliers for the feature 'Exchange Rate USD Sell-8':\n"
     ]
    },
    {
     "data": {
      "text/plain": [
       "(61, 480)"
      ]
     },
     "metadata": {},
     "output_type": "display_data"
    },
    {
     "name": "stdout",
     "output_type": "stream",
     "text": [
      "Data points considered outliers for the feature 'BM&F Gold gramme-8':\n"
     ]
    },
    {
     "data": {
      "text/plain": [
       "(58, 480)"
      ]
     },
     "metadata": {},
     "output_type": "display_data"
    },
    {
     "name": "stdout",
     "output_type": "stream",
     "text": [
      "Data points considered outliers for the feature 'Exchange Rate USD Buy-8':\n"
     ]
    },
    {
     "data": {
      "text/plain": [
       "(61, 480)"
      ]
     },
     "metadata": {},
     "output_type": "display_data"
    },
    {
     "name": "stdout",
     "output_type": "stream",
     "text": [
      "Data points considered outliers for the feature 'Selic-8':\n"
     ]
    },
    {
     "data": {
      "text/plain": [
       "(304, 480)"
      ]
     },
     "metadata": {},
     "output_type": "display_data"
    },
    {
     "name": "stdout",
     "output_type": "stream",
     "text": [
      "Data points considered outliers for the feature 'Bovespa index-8':\n"
     ]
    },
    {
     "data": {
      "text/plain": [
       "(30, 480)"
      ]
     },
     "metadata": {},
     "output_type": "display_data"
    },
    {
     "name": "stdout",
     "output_type": "stream",
     "text": [
      "Data points considered outliers for the feature 'Foreign exchange operations balance-8':\n"
     ]
    },
    {
     "data": {
      "text/plain": [
       "(297, 480)"
      ]
     },
     "metadata": {},
     "output_type": "display_data"
    },
    {
     "name": "stdout",
     "output_type": "stream",
     "text": [
      "Data points considered outliers for the feature 'Nasdaq index-8':\n"
     ]
    },
    {
     "data": {
      "text/plain": [
       "(78, 480)"
      ]
     },
     "metadata": {},
     "output_type": "display_data"
    },
    {
     "name": "stdout",
     "output_type": "stream",
     "text": [
      "Data points considered outliers for the feature 'Bovespa total volume-8':\n"
     ]
    },
    {
     "data": {
      "text/plain": [
       "(86, 480)"
      ]
     },
     "metadata": {},
     "output_type": "display_data"
    },
    {
     "name": "stdout",
     "output_type": "stream",
     "text": [
      "Data points considered outliers for the feature 'International Reserves-8':\n"
     ]
    },
    {
     "data": {
      "text/plain": [
       "(130, 480)"
      ]
     },
     "metadata": {},
     "output_type": "display_data"
    },
    {
     "name": "stdout",
     "output_type": "stream",
     "text": [
      "Data points considered outliers for the feature 'Open-9':\n"
     ]
    },
    {
     "data": {
      "text/plain": [
       "(75, 480)"
      ]
     },
     "metadata": {},
     "output_type": "display_data"
    },
    {
     "name": "stdout",
     "output_type": "stream",
     "text": [
      "Data points considered outliers for the feature 'High-9':\n"
     ]
    },
    {
     "data": {
      "text/plain": [
       "(71, 480)"
      ]
     },
     "metadata": {},
     "output_type": "display_data"
    },
    {
     "name": "stdout",
     "output_type": "stream",
     "text": [
      "Data points considered outliers for the feature 'Low-9':\n"
     ]
    },
    {
     "data": {
      "text/plain": [
       "(66, 480)"
      ]
     },
     "metadata": {},
     "output_type": "display_data"
    },
    {
     "name": "stdout",
     "output_type": "stream",
     "text": [
      "Data points considered outliers for the feature 'Close-9':\n"
     ]
    },
    {
     "data": {
      "text/plain": [
       "(67, 480)"
      ]
     },
     "metadata": {},
     "output_type": "display_data"
    },
    {
     "name": "stdout",
     "output_type": "stream",
     "text": [
      "Data points considered outliers for the feature 'Volume-9':\n"
     ]
    },
    {
     "data": {
      "text/plain": [
       "(67, 480)"
      ]
     },
     "metadata": {},
     "output_type": "display_data"
    },
    {
     "name": "stdout",
     "output_type": "stream",
     "text": [
      "Data points considered outliers for the feature 'Adj Close-9':\n"
     ]
    },
    {
     "data": {
      "text/plain": [
       "(69, 480)"
      ]
     },
     "metadata": {},
     "output_type": "display_data"
    },
    {
     "name": "stdout",
     "output_type": "stream",
     "text": [
      "Data points considered outliers for the feature 'Dow Jones index-9':\n"
     ]
    },
    {
     "data": {
      "text/plain": [
       "(80, 480)"
      ]
     },
     "metadata": {},
     "output_type": "display_data"
    },
    {
     "name": "stdout",
     "output_type": "stream",
     "text": [
      "Data points considered outliers for the feature 'Exchange Rate USD Sell-9':\n"
     ]
    },
    {
     "data": {
      "text/plain": [
       "(65, 480)"
      ]
     },
     "metadata": {},
     "output_type": "display_data"
    },
    {
     "name": "stdout",
     "output_type": "stream",
     "text": [
      "Data points considered outliers for the feature 'BM&F Gold gramme-9':\n"
     ]
    },
    {
     "data": {
      "text/plain": [
       "(64, 480)"
      ]
     },
     "metadata": {},
     "output_type": "display_data"
    },
    {
     "name": "stdout",
     "output_type": "stream",
     "text": [
      "Data points considered outliers for the feature 'Exchange Rate USD Buy-9':\n"
     ]
    },
    {
     "data": {
      "text/plain": [
       "(65, 480)"
      ]
     },
     "metadata": {},
     "output_type": "display_data"
    },
    {
     "name": "stdout",
     "output_type": "stream",
     "text": [
      "Data points considered outliers for the feature 'Selic-9':\n"
     ]
    },
    {
     "data": {
      "text/plain": [
       "(342, 480)"
      ]
     },
     "metadata": {},
     "output_type": "display_data"
    },
    {
     "name": "stdout",
     "output_type": "stream",
     "text": [
      "Data points considered outliers for the feature 'Bovespa index-9':\n"
     ]
    },
    {
     "data": {
      "text/plain": [
       "(27, 480)"
      ]
     },
     "metadata": {},
     "output_type": "display_data"
    },
    {
     "name": "stdout",
     "output_type": "stream",
     "text": [
      "Data points considered outliers for the feature 'Foreign exchange operations balance-9':\n"
     ]
    },
    {
     "data": {
      "text/plain": [
       "(287, 480)"
      ]
     },
     "metadata": {},
     "output_type": "display_data"
    },
    {
     "name": "stdout",
     "output_type": "stream",
     "text": [
      "Data points considered outliers for the feature 'Nasdaq index-9':\n"
     ]
    },
    {
     "data": {
      "text/plain": [
       "(82, 480)"
      ]
     },
     "metadata": {},
     "output_type": "display_data"
    },
    {
     "name": "stdout",
     "output_type": "stream",
     "text": [
      "Data points considered outliers for the feature 'Bovespa total volume-9':\n"
     ]
    },
    {
     "data": {
      "text/plain": [
       "(89, 480)"
      ]
     },
     "metadata": {},
     "output_type": "display_data"
    },
    {
     "name": "stdout",
     "output_type": "stream",
     "text": [
      "Data points considered outliers for the feature 'International Reserves-9':\n"
     ]
    },
    {
     "data": {
      "text/plain": [
       "(133, 480)"
      ]
     },
     "metadata": {},
     "output_type": "display_data"
    },
    {
     "name": "stdout",
     "output_type": "stream",
     "text": [
      "Data points considered outliers for the feature 'Open-10':\n"
     ]
    },
    {
     "data": {
      "text/plain": [
       "(75, 480)"
      ]
     },
     "metadata": {},
     "output_type": "display_data"
    },
    {
     "name": "stdout",
     "output_type": "stream",
     "text": [
      "Data points considered outliers for the feature 'High-10':\n"
     ]
    },
    {
     "data": {
      "text/plain": [
       "(81, 480)"
      ]
     },
     "metadata": {},
     "output_type": "display_data"
    },
    {
     "name": "stdout",
     "output_type": "stream",
     "text": [
      "Data points considered outliers for the feature 'Low-10':\n"
     ]
    },
    {
     "data": {
      "text/plain": [
       "(72, 480)"
      ]
     },
     "metadata": {},
     "output_type": "display_data"
    },
    {
     "name": "stdout",
     "output_type": "stream",
     "text": [
      "Data points considered outliers for the feature 'Close-10':\n"
     ]
    },
    {
     "data": {
      "text/plain": [
       "(73, 480)"
      ]
     },
     "metadata": {},
     "output_type": "display_data"
    },
    {
     "name": "stdout",
     "output_type": "stream",
     "text": [
      "Data points considered outliers for the feature 'Volume-10':\n"
     ]
    },
    {
     "data": {
      "text/plain": [
       "(89, 480)"
      ]
     },
     "metadata": {},
     "output_type": "display_data"
    },
    {
     "name": "stdout",
     "output_type": "stream",
     "text": [
      "Data points considered outliers for the feature 'Adj Close-10':\n"
     ]
    },
    {
     "data": {
      "text/plain": [
       "(73, 480)"
      ]
     },
     "metadata": {},
     "output_type": "display_data"
    },
    {
     "name": "stdout",
     "output_type": "stream",
     "text": [
      "Data points considered outliers for the feature 'Dow Jones index-10':\n"
     ]
    },
    {
     "data": {
      "text/plain": [
       "(80, 480)"
      ]
     },
     "metadata": {},
     "output_type": "display_data"
    },
    {
     "name": "stdout",
     "output_type": "stream",
     "text": [
      "Data points considered outliers for the feature 'Exchange Rate USD Sell-10':\n"
     ]
    },
    {
     "data": {
      "text/plain": [
       "(65, 480)"
      ]
     },
     "metadata": {},
     "output_type": "display_data"
    },
    {
     "name": "stdout",
     "output_type": "stream",
     "text": [
      "Data points considered outliers for the feature 'BM&F Gold gramme-10':\n"
     ]
    },
    {
     "data": {
      "text/plain": [
       "(65, 480)"
      ]
     },
     "metadata": {},
     "output_type": "display_data"
    },
    {
     "name": "stdout",
     "output_type": "stream",
     "text": [
      "Data points considered outliers for the feature 'Exchange Rate USD Buy-10':\n"
     ]
    },
    {
     "data": {
      "text/plain": [
       "(65, 480)"
      ]
     },
     "metadata": {},
     "output_type": "display_data"
    },
    {
     "name": "stdout",
     "output_type": "stream",
     "text": [
      "Data points considered outliers for the feature 'Selic-10':\n"
     ]
    },
    {
     "data": {
      "text/plain": [
       "(380, 480)"
      ]
     },
     "metadata": {},
     "output_type": "display_data"
    },
    {
     "name": "stdout",
     "output_type": "stream",
     "text": [
      "Data points considered outliers for the feature 'Bovespa index-10':\n"
     ]
    },
    {
     "data": {
      "text/plain": [
       "(26, 480)"
      ]
     },
     "metadata": {},
     "output_type": "display_data"
    },
    {
     "name": "stdout",
     "output_type": "stream",
     "text": [
      "Data points considered outliers for the feature 'Foreign exchange operations balance-10':\n"
     ]
    },
    {
     "data": {
      "text/plain": [
       "(284, 480)"
      ]
     },
     "metadata": {},
     "output_type": "display_data"
    },
    {
     "name": "stdout",
     "output_type": "stream",
     "text": [
      "Data points considered outliers for the feature 'Nasdaq index-10':\n"
     ]
    },
    {
     "data": {
      "text/plain": [
       "(67, 480)"
      ]
     },
     "metadata": {},
     "output_type": "display_data"
    },
    {
     "name": "stdout",
     "output_type": "stream",
     "text": [
      "Data points considered outliers for the feature 'Bovespa total volume-10':\n"
     ]
    },
    {
     "data": {
      "text/plain": [
       "(91, 480)"
      ]
     },
     "metadata": {},
     "output_type": "display_data"
    },
    {
     "name": "stdout",
     "output_type": "stream",
     "text": [
      "Data points considered outliers for the feature 'International Reserves-10':\n"
     ]
    },
    {
     "data": {
      "text/plain": [
       "(134, 480)"
      ]
     },
     "metadata": {},
     "output_type": "display_data"
    },
    {
     "name": "stdout",
     "output_type": "stream",
     "text": [
      "Data points considered outliers for the feature 'Open-11':\n"
     ]
    },
    {
     "data": {
      "text/plain": [
       "(71, 480)"
      ]
     },
     "metadata": {},
     "output_type": "display_data"
    },
    {
     "name": "stdout",
     "output_type": "stream",
     "text": [
      "Data points considered outliers for the feature 'High-11':\n"
     ]
    },
    {
     "data": {
      "text/plain": [
       "(75, 480)"
      ]
     },
     "metadata": {},
     "output_type": "display_data"
    },
    {
     "name": "stdout",
     "output_type": "stream",
     "text": [
      "Data points considered outliers for the feature 'Low-11':\n"
     ]
    },
    {
     "data": {
      "text/plain": [
       "(64, 480)"
      ]
     },
     "metadata": {},
     "output_type": "display_data"
    },
    {
     "name": "stdout",
     "output_type": "stream",
     "text": [
      "Data points considered outliers for the feature 'Close-11':\n"
     ]
    },
    {
     "data": {
      "text/plain": [
       "(69, 480)"
      ]
     },
     "metadata": {},
     "output_type": "display_data"
    },
    {
     "name": "stdout",
     "output_type": "stream",
     "text": [
      "Data points considered outliers for the feature 'Volume-11':\n"
     ]
    },
    {
     "data": {
      "text/plain": [
       "(66, 480)"
      ]
     },
     "metadata": {},
     "output_type": "display_data"
    },
    {
     "name": "stdout",
     "output_type": "stream",
     "text": [
      "Data points considered outliers for the feature 'Adj Close-11':\n"
     ]
    },
    {
     "data": {
      "text/plain": [
       "(72, 480)"
      ]
     },
     "metadata": {},
     "output_type": "display_data"
    },
    {
     "name": "stdout",
     "output_type": "stream",
     "text": [
      "Data points considered outliers for the feature 'Dow Jones index-11':\n"
     ]
    },
    {
     "data": {
      "text/plain": [
       "(80, 480)"
      ]
     },
     "metadata": {},
     "output_type": "display_data"
    },
    {
     "name": "stdout",
     "output_type": "stream",
     "text": [
      "Data points considered outliers for the feature 'Exchange Rate USD Sell-11':\n"
     ]
    },
    {
     "data": {
      "text/plain": [
       "(65, 480)"
      ]
     },
     "metadata": {},
     "output_type": "display_data"
    },
    {
     "name": "stdout",
     "output_type": "stream",
     "text": [
      "Data points considered outliers for the feature 'BM&F Gold gramme-11':\n"
     ]
    },
    {
     "data": {
      "text/plain": [
       "(58, 480)"
      ]
     },
     "metadata": {},
     "output_type": "display_data"
    },
    {
     "name": "stdout",
     "output_type": "stream",
     "text": [
      "Data points considered outliers for the feature 'Exchange Rate USD Buy-11':\n"
     ]
    },
    {
     "data": {
      "text/plain": [
       "(65, 480)"
      ]
     },
     "metadata": {},
     "output_type": "display_data"
    },
    {
     "name": "stdout",
     "output_type": "stream",
     "text": [
      "Data points considered outliers for the feature 'Selic-11':\n"
     ]
    },
    {
     "data": {
      "text/plain": [
       "(418, 480)"
      ]
     },
     "metadata": {},
     "output_type": "display_data"
    },
    {
     "name": "stdout",
     "output_type": "stream",
     "text": [
      "Data points considered outliers for the feature 'Bovespa index-11':\n"
     ]
    },
    {
     "data": {
      "text/plain": [
       "(23, 480)"
      ]
     },
     "metadata": {},
     "output_type": "display_data"
    },
    {
     "name": "stdout",
     "output_type": "stream",
     "text": [
      "Data points considered outliers for the feature 'Foreign exchange operations balance-11':\n"
     ]
    },
    {
     "data": {
      "text/plain": [
       "(256, 480)"
      ]
     },
     "metadata": {},
     "output_type": "display_data"
    },
    {
     "name": "stdout",
     "output_type": "stream",
     "text": [
      "Data points considered outliers for the feature 'Nasdaq index-11':\n"
     ]
    },
    {
     "data": {
      "text/plain": [
       "(73, 480)"
      ]
     },
     "metadata": {},
     "output_type": "display_data"
    },
    {
     "name": "stdout",
     "output_type": "stream",
     "text": [
      "Data points considered outliers for the feature 'Bovespa total volume-11':\n"
     ]
    },
    {
     "data": {
      "text/plain": [
       "(64, 480)"
      ]
     },
     "metadata": {},
     "output_type": "display_data"
    },
    {
     "name": "stdout",
     "output_type": "stream",
     "text": [
      "Data points considered outliers for the feature 'International Reserves-11':\n"
     ]
    },
    {
     "data": {
      "text/plain": [
       "(133, 480)"
      ]
     },
     "metadata": {},
     "output_type": "display_data"
    },
    {
     "name": "stdout",
     "output_type": "stream",
     "text": [
      "Data points considered outliers for the feature 'Open-12':\n"
     ]
    },
    {
     "data": {
      "text/plain": [
       "(62, 480)"
      ]
     },
     "metadata": {},
     "output_type": "display_data"
    },
    {
     "name": "stdout",
     "output_type": "stream",
     "text": [
      "Data points considered outliers for the feature 'High-12':\n"
     ]
    },
    {
     "data": {
      "text/plain": [
       "(70, 480)"
      ]
     },
     "metadata": {},
     "output_type": "display_data"
    },
    {
     "name": "stdout",
     "output_type": "stream",
     "text": [
      "Data points considered outliers for the feature 'Low-12':\n"
     ]
    },
    {
     "data": {
      "text/plain": [
       "(55, 480)"
      ]
     },
     "metadata": {},
     "output_type": "display_data"
    },
    {
     "name": "stdout",
     "output_type": "stream",
     "text": [
      "Data points considered outliers for the feature 'Close-12':\n"
     ]
    },
    {
     "data": {
      "text/plain": [
       "(60, 480)"
      ]
     },
     "metadata": {},
     "output_type": "display_data"
    },
    {
     "name": "stdout",
     "output_type": "stream",
     "text": [
      "Data points considered outliers for the feature 'Volume-12':\n"
     ]
    },
    {
     "data": {
      "text/plain": [
       "(88, 480)"
      ]
     },
     "metadata": {},
     "output_type": "display_data"
    },
    {
     "name": "stdout",
     "output_type": "stream",
     "text": [
      "Data points considered outliers for the feature 'Adj Close-12':\n"
     ]
    },
    {
     "data": {
      "text/plain": [
       "(64, 480)"
      ]
     },
     "metadata": {},
     "output_type": "display_data"
    },
    {
     "name": "stdout",
     "output_type": "stream",
     "text": [
      "Data points considered outliers for the feature 'Dow Jones index-12':\n"
     ]
    },
    {
     "data": {
      "text/plain": [
       "(77, 480)"
      ]
     },
     "metadata": {},
     "output_type": "display_data"
    },
    {
     "name": "stdout",
     "output_type": "stream",
     "text": [
      "Data points considered outliers for the feature 'Exchange Rate USD Sell-12':\n"
     ]
    },
    {
     "data": {
      "text/plain": [
       "(67, 480)"
      ]
     },
     "metadata": {},
     "output_type": "display_data"
    },
    {
     "name": "stdout",
     "output_type": "stream",
     "text": [
      "Data points considered outliers for the feature 'BM&F Gold gramme-12':\n"
     ]
    },
    {
     "data": {
      "text/plain": [
       "(53, 480)"
      ]
     },
     "metadata": {},
     "output_type": "display_data"
    },
    {
     "name": "stdout",
     "output_type": "stream",
     "text": [
      "Data points considered outliers for the feature 'Exchange Rate USD Buy-12':\n"
     ]
    },
    {
     "data": {
      "text/plain": [
       "(67, 480)"
      ]
     },
     "metadata": {},
     "output_type": "display_data"
    },
    {
     "name": "stdout",
     "output_type": "stream",
     "text": [
      "Data points considered outliers for the feature 'Selic-12':\n"
     ]
    },
    {
     "data": {
      "text/plain": [
       "(456, 480)"
      ]
     },
     "metadata": {},
     "output_type": "display_data"
    },
    {
     "name": "stdout",
     "output_type": "stream",
     "text": [
      "Data points considered outliers for the feature 'Bovespa index-12':\n"
     ]
    },
    {
     "data": {
      "text/plain": [
       "(28, 480)"
      ]
     },
     "metadata": {},
     "output_type": "display_data"
    },
    {
     "name": "stdout",
     "output_type": "stream",
     "text": [
      "Data points considered outliers for the feature 'Foreign exchange operations balance-12':\n"
     ]
    },
    {
     "data": {
      "text/plain": [
       "(258, 480)"
      ]
     },
     "metadata": {},
     "output_type": "display_data"
    },
    {
     "name": "stdout",
     "output_type": "stream",
     "text": [
      "Data points considered outliers for the feature 'Nasdaq index-12':\n"
     ]
    },
    {
     "data": {
      "text/plain": [
       "(74, 480)"
      ]
     },
     "metadata": {},
     "output_type": "display_data"
    },
    {
     "name": "stdout",
     "output_type": "stream",
     "text": [
      "Data points considered outliers for the feature 'Bovespa total volume-12':\n"
     ]
    },
    {
     "data": {
      "text/plain": [
       "(73, 480)"
      ]
     },
     "metadata": {},
     "output_type": "display_data"
    },
    {
     "name": "stdout",
     "output_type": "stream",
     "text": [
      "Data points considered outliers for the feature 'International Reserves-12':\n"
     ]
    },
    {
     "data": {
      "text/plain": [
       "(141, 480)"
      ]
     },
     "metadata": {},
     "output_type": "display_data"
    },
    {
     "name": "stdout",
     "output_type": "stream",
     "text": [
      "Data points considered outliers for the feature 'Open-13':\n"
     ]
    },
    {
     "data": {
      "text/plain": [
       "(62, 480)"
      ]
     },
     "metadata": {},
     "output_type": "display_data"
    },
    {
     "name": "stdout",
     "output_type": "stream",
     "text": [
      "Data points considered outliers for the feature 'High-13':\n"
     ]
    },
    {
     "data": {
      "text/plain": [
       "(68, 480)"
      ]
     },
     "metadata": {},
     "output_type": "display_data"
    },
    {
     "name": "stdout",
     "output_type": "stream",
     "text": [
      "Data points considered outliers for the feature 'Low-13':\n"
     ]
    },
    {
     "data": {
      "text/plain": [
       "(59, 480)"
      ]
     },
     "metadata": {},
     "output_type": "display_data"
    },
    {
     "name": "stdout",
     "output_type": "stream",
     "text": [
      "Data points considered outliers for the feature 'Close-13':\n"
     ]
    },
    {
     "data": {
      "text/plain": [
       "(64, 480)"
      ]
     },
     "metadata": {},
     "output_type": "display_data"
    },
    {
     "name": "stdout",
     "output_type": "stream",
     "text": [
      "Data points considered outliers for the feature 'Volume-13':\n"
     ]
    },
    {
     "data": {
      "text/plain": [
       "(63, 480)"
      ]
     },
     "metadata": {},
     "output_type": "display_data"
    },
    {
     "name": "stdout",
     "output_type": "stream",
     "text": [
      "Data points considered outliers for the feature 'Adj Close-13':\n"
     ]
    },
    {
     "data": {
      "text/plain": [
       "(66, 480)"
      ]
     },
     "metadata": {},
     "output_type": "display_data"
    },
    {
     "name": "stdout",
     "output_type": "stream",
     "text": [
      "Data points considered outliers for the feature 'Dow Jones index-13':\n"
     ]
    },
    {
     "data": {
      "text/plain": [
       "(75, 480)"
      ]
     },
     "metadata": {},
     "output_type": "display_data"
    },
    {
     "name": "stdout",
     "output_type": "stream",
     "text": [
      "Data points considered outliers for the feature 'Exchange Rate USD Sell-13':\n"
     ]
    },
    {
     "data": {
      "text/plain": [
       "(68, 480)"
      ]
     },
     "metadata": {},
     "output_type": "display_data"
    },
    {
     "name": "stdout",
     "output_type": "stream",
     "text": [
      "Data points considered outliers for the feature 'BM&F Gold gramme-13':\n"
     ]
    },
    {
     "data": {
      "text/plain": [
       "(53, 480)"
      ]
     },
     "metadata": {},
     "output_type": "display_data"
    },
    {
     "name": "stdout",
     "output_type": "stream",
     "text": [
      "Data points considered outliers for the feature 'Exchange Rate USD Buy-13':\n"
     ]
    },
    {
     "data": {
      "text/plain": [
       "(68, 480)"
      ]
     },
     "metadata": {},
     "output_type": "display_data"
    },
    {
     "name": "stdout",
     "output_type": "stream",
     "text": [
      "Data points considered outliers for the feature 'Selic-13':\n"
     ]
    },
    {
     "data": {
      "text/plain": [
       "(494, 480)"
      ]
     },
     "metadata": {},
     "output_type": "display_data"
    },
    {
     "name": "stdout",
     "output_type": "stream",
     "text": [
      "Data points considered outliers for the feature 'Bovespa index-13':\n"
     ]
    },
    {
     "data": {
      "text/plain": [
       "(29, 480)"
      ]
     },
     "metadata": {},
     "output_type": "display_data"
    },
    {
     "name": "stdout",
     "output_type": "stream",
     "text": [
      "Data points considered outliers for the feature 'Foreign exchange operations balance-13':\n"
     ]
    },
    {
     "data": {
      "text/plain": [
       "(259, 480)"
      ]
     },
     "metadata": {},
     "output_type": "display_data"
    },
    {
     "name": "stdout",
     "output_type": "stream",
     "text": [
      "Data points considered outliers for the feature 'Nasdaq index-13':\n"
     ]
    },
    {
     "data": {
      "text/plain": [
       "(67, 480)"
      ]
     },
     "metadata": {},
     "output_type": "display_data"
    },
    {
     "name": "stdout",
     "output_type": "stream",
     "text": [
      "Data points considered outliers for the feature 'Bovespa total volume-13':\n"
     ]
    },
    {
     "data": {
      "text/plain": [
       "(86, 480)"
      ]
     },
     "metadata": {},
     "output_type": "display_data"
    },
    {
     "name": "stdout",
     "output_type": "stream",
     "text": [
      "Data points considered outliers for the feature 'International Reserves-13':\n"
     ]
    },
    {
     "data": {
      "text/plain": [
       "(149, 480)"
      ]
     },
     "metadata": {},
     "output_type": "display_data"
    },
    {
     "name": "stdout",
     "output_type": "stream",
     "text": [
      "Data points considered outliers for the feature 'Open-14':\n"
     ]
    },
    {
     "data": {
      "text/plain": [
       "(64, 480)"
      ]
     },
     "metadata": {},
     "output_type": "display_data"
    },
    {
     "name": "stdout",
     "output_type": "stream",
     "text": [
      "Data points considered outliers for the feature 'High-14':\n"
     ]
    },
    {
     "data": {
      "text/plain": [
       "(64, 480)"
      ]
     },
     "metadata": {},
     "output_type": "display_data"
    },
    {
     "name": "stdout",
     "output_type": "stream",
     "text": [
      "Data points considered outliers for the feature 'Low-14':\n"
     ]
    },
    {
     "data": {
      "text/plain": [
       "(67, 480)"
      ]
     },
     "metadata": {},
     "output_type": "display_data"
    },
    {
     "name": "stdout",
     "output_type": "stream",
     "text": [
      "Data points considered outliers for the feature 'Close-14':\n"
     ]
    },
    {
     "data": {
      "text/plain": [
       "(65, 480)"
      ]
     },
     "metadata": {},
     "output_type": "display_data"
    },
    {
     "name": "stdout",
     "output_type": "stream",
     "text": [
      "Data points considered outliers for the feature 'Volume-14':\n"
     ]
    },
    {
     "data": {
      "text/plain": [
       "(79, 480)"
      ]
     },
     "metadata": {},
     "output_type": "display_data"
    },
    {
     "name": "stdout",
     "output_type": "stream",
     "text": [
      "Data points considered outliers for the feature 'Adj Close-14':\n"
     ]
    },
    {
     "data": {
      "text/plain": [
       "(64, 480)"
      ]
     },
     "metadata": {},
     "output_type": "display_data"
    },
    {
     "name": "stdout",
     "output_type": "stream",
     "text": [
      "Data points considered outliers for the feature 'Dow Jones index-14':\n"
     ]
    },
    {
     "data": {
      "text/plain": [
       "(81, 480)"
      ]
     },
     "metadata": {},
     "output_type": "display_data"
    },
    {
     "name": "stdout",
     "output_type": "stream",
     "text": [
      "Data points considered outliers for the feature 'Exchange Rate USD Sell-14':\n"
     ]
    },
    {
     "data": {
      "text/plain": [
       "(76, 480)"
      ]
     },
     "metadata": {},
     "output_type": "display_data"
    },
    {
     "name": "stdout",
     "output_type": "stream",
     "text": [
      "Data points considered outliers for the feature 'BM&F Gold gramme-14':\n"
     ]
    },
    {
     "data": {
      "text/plain": [
       "(48, 480)"
      ]
     },
     "metadata": {},
     "output_type": "display_data"
    },
    {
     "name": "stdout",
     "output_type": "stream",
     "text": [
      "Data points considered outliers for the feature 'Exchange Rate USD Buy-14':\n"
     ]
    },
    {
     "data": {
      "text/plain": [
       "(75, 480)"
      ]
     },
     "metadata": {},
     "output_type": "display_data"
    },
    {
     "name": "stdout",
     "output_type": "stream",
     "text": [
      "Data points considered outliers for the feature 'Selic-14':\n"
     ]
    },
    {
     "data": {
      "text/plain": [
       "(532, 480)"
      ]
     },
     "metadata": {},
     "output_type": "display_data"
    },
    {
     "name": "stdout",
     "output_type": "stream",
     "text": [
      "Data points considered outliers for the feature 'Bovespa index-14':\n"
     ]
    },
    {
     "data": {
      "text/plain": [
       "(25, 480)"
      ]
     },
     "metadata": {},
     "output_type": "display_data"
    },
    {
     "name": "stdout",
     "output_type": "stream",
     "text": [
      "Data points considered outliers for the feature 'Foreign exchange operations balance-14':\n"
     ]
    },
    {
     "data": {
      "text/plain": [
       "(267, 480)"
      ]
     },
     "metadata": {},
     "output_type": "display_data"
    },
    {
     "name": "stdout",
     "output_type": "stream",
     "text": [
      "Data points considered outliers for the feature 'Nasdaq index-14':\n"
     ]
    },
    {
     "data": {
      "text/plain": [
       "(68, 480)"
      ]
     },
     "metadata": {},
     "output_type": "display_data"
    },
    {
     "name": "stdout",
     "output_type": "stream",
     "text": [
      "Data points considered outliers for the feature 'Bovespa total volume-14':\n"
     ]
    },
    {
     "data": {
      "text/plain": [
       "(76, 480)"
      ]
     },
     "metadata": {},
     "output_type": "display_data"
    },
    {
     "name": "stdout",
     "output_type": "stream",
     "text": [
      "Data points considered outliers for the feature 'International Reserves-14':\n"
     ]
    },
    {
     "data": {
      "text/plain": [
       "(136, 480)"
      ]
     },
     "metadata": {},
     "output_type": "display_data"
    },
    {
     "name": "stdout",
     "output_type": "stream",
     "text": [
      "Data points considered outliers for the feature 'Open-15':\n"
     ]
    },
    {
     "data": {
      "text/plain": [
       "(64, 480)"
      ]
     },
     "metadata": {},
     "output_type": "display_data"
    },
    {
     "name": "stdout",
     "output_type": "stream",
     "text": [
      "Data points considered outliers for the feature 'High-15':\n"
     ]
    },
    {
     "data": {
      "text/plain": [
       "(61, 480)"
      ]
     },
     "metadata": {},
     "output_type": "display_data"
    },
    {
     "name": "stdout",
     "output_type": "stream",
     "text": [
      "Data points considered outliers for the feature 'Low-15':\n"
     ]
    },
    {
     "data": {
      "text/plain": [
       "(61, 480)"
      ]
     },
     "metadata": {},
     "output_type": "display_data"
    },
    {
     "name": "stdout",
     "output_type": "stream",
     "text": [
      "Data points considered outliers for the feature 'Close-15':\n"
     ]
    },
    {
     "data": {
      "text/plain": [
       "(57, 480)"
      ]
     },
     "metadata": {},
     "output_type": "display_data"
    },
    {
     "name": "stdout",
     "output_type": "stream",
     "text": [
      "Data points considered outliers for the feature 'Volume-15':\n"
     ]
    },
    {
     "data": {
      "text/plain": [
       "(82, 480)"
      ]
     },
     "metadata": {},
     "output_type": "display_data"
    },
    {
     "name": "stdout",
     "output_type": "stream",
     "text": [
      "Data points considered outliers for the feature 'Adj Close-15':\n"
     ]
    },
    {
     "data": {
      "text/plain": [
       "(61, 480)"
      ]
     },
     "metadata": {},
     "output_type": "display_data"
    },
    {
     "name": "stdout",
     "output_type": "stream",
     "text": [
      "Data points considered outliers for the feature 'Dow Jones index-15':\n"
     ]
    },
    {
     "data": {
      "text/plain": [
       "(89, 480)"
      ]
     },
     "metadata": {},
     "output_type": "display_data"
    },
    {
     "name": "stdout",
     "output_type": "stream",
     "text": [
      "Data points considered outliers for the feature 'Exchange Rate USD Sell-15':\n"
     ]
    },
    {
     "data": {
      "text/plain": [
       "(75, 480)"
      ]
     },
     "metadata": {},
     "output_type": "display_data"
    },
    {
     "name": "stdout",
     "output_type": "stream",
     "text": [
      "Data points considered outliers for the feature 'BM&F Gold gramme-15':\n"
     ]
    },
    {
     "data": {
      "text/plain": [
       "(52, 480)"
      ]
     },
     "metadata": {},
     "output_type": "display_data"
    },
    {
     "name": "stdout",
     "output_type": "stream",
     "text": [
      "Data points considered outliers for the feature 'Exchange Rate USD Buy-15':\n"
     ]
    },
    {
     "data": {
      "text/plain": [
       "(75, 480)"
      ]
     },
     "metadata": {},
     "output_type": "display_data"
    },
    {
     "name": "stdout",
     "output_type": "stream",
     "text": [
      "Data points considered outliers for the feature 'Selic-15':\n"
     ]
    },
    {
     "data": {
      "text/plain": [
       "(570, 480)"
      ]
     },
     "metadata": {},
     "output_type": "display_data"
    },
    {
     "name": "stdout",
     "output_type": "stream",
     "text": [
      "Data points considered outliers for the feature 'Bovespa index-15':\n"
     ]
    },
    {
     "data": {
      "text/plain": [
       "(29, 480)"
      ]
     },
     "metadata": {},
     "output_type": "display_data"
    },
    {
     "name": "stdout",
     "output_type": "stream",
     "text": [
      "Data points considered outliers for the feature 'Foreign exchange operations balance-15':\n"
     ]
    },
    {
     "data": {
      "text/plain": [
       "(289, 480)"
      ]
     },
     "metadata": {},
     "output_type": "display_data"
    },
    {
     "name": "stdout",
     "output_type": "stream",
     "text": [
      "Data points considered outliers for the feature 'Nasdaq index-15':\n"
     ]
    },
    {
     "data": {
      "text/plain": [
       "(74, 480)"
      ]
     },
     "metadata": {},
     "output_type": "display_data"
    },
    {
     "name": "stdout",
     "output_type": "stream",
     "text": [
      "Data points considered outliers for the feature 'Bovespa total volume-15':\n"
     ]
    },
    {
     "data": {
      "text/plain": [
       "(96, 480)"
      ]
     },
     "metadata": {},
     "output_type": "display_data"
    },
    {
     "name": "stdout",
     "output_type": "stream",
     "text": [
      "Data points considered outliers for the feature 'International Reserves-15':\n"
     ]
    },
    {
     "data": {
      "text/plain": [
       "(146, 480)"
      ]
     },
     "metadata": {},
     "output_type": "display_data"
    },
    {
     "name": "stdout",
     "output_type": "stream",
     "text": [
      "Data points considered outliers for the feature 'Open-16':\n"
     ]
    },
    {
     "data": {
      "text/plain": [
       "(67, 480)"
      ]
     },
     "metadata": {},
     "output_type": "display_data"
    },
    {
     "name": "stdout",
     "output_type": "stream",
     "text": [
      "Data points considered outliers for the feature 'High-16':\n"
     ]
    },
    {
     "data": {
      "text/plain": [
       "(63, 480)"
      ]
     },
     "metadata": {},
     "output_type": "display_data"
    },
    {
     "name": "stdout",
     "output_type": "stream",
     "text": [
      "Data points considered outliers for the feature 'Low-16':\n"
     ]
    },
    {
     "data": {
      "text/plain": [
       "(63, 480)"
      ]
     },
     "metadata": {},
     "output_type": "display_data"
    },
    {
     "name": "stdout",
     "output_type": "stream",
     "text": [
      "Data points considered outliers for the feature 'Close-16':\n"
     ]
    },
    {
     "data": {
      "text/plain": [
       "(63, 480)"
      ]
     },
     "metadata": {},
     "output_type": "display_data"
    },
    {
     "name": "stdout",
     "output_type": "stream",
     "text": [
      "Data points considered outliers for the feature 'Volume-16':\n"
     ]
    },
    {
     "data": {
      "text/plain": [
       "(72, 480)"
      ]
     },
     "metadata": {},
     "output_type": "display_data"
    },
    {
     "name": "stdout",
     "output_type": "stream",
     "text": [
      "Data points considered outliers for the feature 'Adj Close-16':\n"
     ]
    },
    {
     "data": {
      "text/plain": [
       "(61, 480)"
      ]
     },
     "metadata": {},
     "output_type": "display_data"
    },
    {
     "name": "stdout",
     "output_type": "stream",
     "text": [
      "Data points considered outliers for the feature 'Dow Jones index-16':\n"
     ]
    },
    {
     "data": {
      "text/plain": [
       "(93, 480)"
      ]
     },
     "metadata": {},
     "output_type": "display_data"
    },
    {
     "name": "stdout",
     "output_type": "stream",
     "text": [
      "Data points considered outliers for the feature 'Exchange Rate USD Sell-16':\n"
     ]
    },
    {
     "data": {
      "text/plain": [
       "(78, 480)"
      ]
     },
     "metadata": {},
     "output_type": "display_data"
    },
    {
     "name": "stdout",
     "output_type": "stream",
     "text": [
      "Data points considered outliers for the feature 'BM&F Gold gramme-16':\n"
     ]
    },
    {
     "data": {
      "text/plain": [
       "(49, 480)"
      ]
     },
     "metadata": {},
     "output_type": "display_data"
    },
    {
     "name": "stdout",
     "output_type": "stream",
     "text": [
      "Data points considered outliers for the feature 'Exchange Rate USD Buy-16':\n"
     ]
    },
    {
     "data": {
      "text/plain": [
       "(78, 480)"
      ]
     },
     "metadata": {},
     "output_type": "display_data"
    },
    {
     "name": "stdout",
     "output_type": "stream",
     "text": [
      "Data points considered outliers for the feature 'Selic-16':\n"
     ]
    },
    {
     "data": {
      "text/plain": [
       "(607, 480)"
      ]
     },
     "metadata": {},
     "output_type": "display_data"
    },
    {
     "name": "stdout",
     "output_type": "stream",
     "text": [
      "Data points considered outliers for the feature 'Bovespa index-16':\n"
     ]
    },
    {
     "data": {
      "text/plain": [
       "(26, 480)"
      ]
     },
     "metadata": {},
     "output_type": "display_data"
    },
    {
     "name": "stdout",
     "output_type": "stream",
     "text": [
      "Data points considered outliers for the feature 'Foreign exchange operations balance-16':\n"
     ]
    },
    {
     "data": {
      "text/plain": [
       "(284, 480)"
      ]
     },
     "metadata": {},
     "output_type": "display_data"
    },
    {
     "name": "stdout",
     "output_type": "stream",
     "text": [
      "Data points considered outliers for the feature 'Nasdaq index-16':\n"
     ]
    },
    {
     "data": {
      "text/plain": [
       "(80, 480)"
      ]
     },
     "metadata": {},
     "output_type": "display_data"
    },
    {
     "name": "stdout",
     "output_type": "stream",
     "text": [
      "Data points considered outliers for the feature 'Bovespa total volume-16':\n"
     ]
    },
    {
     "data": {
      "text/plain": [
       "(78, 480)"
      ]
     },
     "metadata": {},
     "output_type": "display_data"
    },
    {
     "name": "stdout",
     "output_type": "stream",
     "text": [
      "Data points considered outliers for the feature 'International Reserves-16':\n"
     ]
    },
    {
     "data": {
      "text/plain": [
       "(158, 480)"
      ]
     },
     "metadata": {},
     "output_type": "display_data"
    },
    {
     "name": "stdout",
     "output_type": "stream",
     "text": [
      "Data points considered outliers for the feature 'Open-17':\n"
     ]
    },
    {
     "data": {
      "text/plain": [
       "(72, 480)"
      ]
     },
     "metadata": {},
     "output_type": "display_data"
    },
    {
     "name": "stdout",
     "output_type": "stream",
     "text": [
      "Data points considered outliers for the feature 'High-17':\n"
     ]
    },
    {
     "data": {
      "text/plain": [
       "(72, 480)"
      ]
     },
     "metadata": {},
     "output_type": "display_data"
    },
    {
     "name": "stdout",
     "output_type": "stream",
     "text": [
      "Data points considered outliers for the feature 'Low-17':\n"
     ]
    },
    {
     "data": {
      "text/plain": [
       "(67, 480)"
      ]
     },
     "metadata": {},
     "output_type": "display_data"
    },
    {
     "name": "stdout",
     "output_type": "stream",
     "text": [
      "Data points considered outliers for the feature 'Close-17':\n"
     ]
    },
    {
     "data": {
      "text/plain": [
       "(68, 480)"
      ]
     },
     "metadata": {},
     "output_type": "display_data"
    },
    {
     "name": "stdout",
     "output_type": "stream",
     "text": [
      "Data points considered outliers for the feature 'Volume-17':\n"
     ]
    },
    {
     "data": {
      "text/plain": [
       "(77, 480)"
      ]
     },
     "metadata": {},
     "output_type": "display_data"
    },
    {
     "name": "stdout",
     "output_type": "stream",
     "text": [
      "Data points considered outliers for the feature 'Adj Close-17':\n"
     ]
    },
    {
     "data": {
      "text/plain": [
       "(74, 480)"
      ]
     },
     "metadata": {},
     "output_type": "display_data"
    },
    {
     "name": "stdout",
     "output_type": "stream",
     "text": [
      "Data points considered outliers for the feature 'Dow Jones index-17':\n"
     ]
    },
    {
     "data": {
      "text/plain": [
       "(99, 480)"
      ]
     },
     "metadata": {},
     "output_type": "display_data"
    },
    {
     "name": "stdout",
     "output_type": "stream",
     "text": [
      "Data points considered outliers for the feature 'Exchange Rate USD Sell-17':\n"
     ]
    },
    {
     "data": {
      "text/plain": [
       "(75, 480)"
      ]
     },
     "metadata": {},
     "output_type": "display_data"
    },
    {
     "name": "stdout",
     "output_type": "stream",
     "text": [
      "Data points considered outliers for the feature 'BM&F Gold gramme-17':\n"
     ]
    },
    {
     "data": {
      "text/plain": [
       "(56, 480)"
      ]
     },
     "metadata": {},
     "output_type": "display_data"
    },
    {
     "name": "stdout",
     "output_type": "stream",
     "text": [
      "Data points considered outliers for the feature 'Exchange Rate USD Buy-17':\n"
     ]
    },
    {
     "data": {
      "text/plain": [
       "(75, 480)"
      ]
     },
     "metadata": {},
     "output_type": "display_data"
    },
    {
     "name": "stdout",
     "output_type": "stream",
     "text": [
      "Data points considered outliers for the feature 'Selic-17':\n"
     ]
    },
    {
     "data": {
      "text/plain": [
       "(645, 480)"
      ]
     },
     "metadata": {},
     "output_type": "display_data"
    },
    {
     "name": "stdout",
     "output_type": "stream",
     "text": [
      "Data points considered outliers for the feature 'Bovespa index-17':\n"
     ]
    },
    {
     "data": {
      "text/plain": [
       "(27, 480)"
      ]
     },
     "metadata": {},
     "output_type": "display_data"
    },
    {
     "name": "stdout",
     "output_type": "stream",
     "text": [
      "Data points considered outliers for the feature 'Foreign exchange operations balance-17':\n"
     ]
    },
    {
     "data": {
      "text/plain": [
       "(291, 480)"
      ]
     },
     "metadata": {},
     "output_type": "display_data"
    },
    {
     "name": "stdout",
     "output_type": "stream",
     "text": [
      "Data points considered outliers for the feature 'Nasdaq index-17':\n"
     ]
    },
    {
     "data": {
      "text/plain": [
       "(74, 480)"
      ]
     },
     "metadata": {},
     "output_type": "display_data"
    },
    {
     "name": "stdout",
     "output_type": "stream",
     "text": [
      "Data points considered outliers for the feature 'Bovespa total volume-17':\n"
     ]
    },
    {
     "data": {
      "text/plain": [
       "(77, 480)"
      ]
     },
     "metadata": {},
     "output_type": "display_data"
    },
    {
     "name": "stdout",
     "output_type": "stream",
     "text": [
      "Data points considered outliers for the feature 'International Reserves-17':\n"
     ]
    },
    {
     "data": {
      "text/plain": [
       "(160, 480)"
      ]
     },
     "metadata": {},
     "output_type": "display_data"
    },
    {
     "name": "stdout",
     "output_type": "stream",
     "text": [
      "Data points considered outliers for the feature 'Open-18':\n"
     ]
    },
    {
     "data": {
      "text/plain": [
       "(69, 480)"
      ]
     },
     "metadata": {},
     "output_type": "display_data"
    },
    {
     "name": "stdout",
     "output_type": "stream",
     "text": [
      "Data points considered outliers for the feature 'High-18':\n"
     ]
    },
    {
     "data": {
      "text/plain": [
       "(67, 480)"
      ]
     },
     "metadata": {},
     "output_type": "display_data"
    },
    {
     "name": "stdout",
     "output_type": "stream",
     "text": [
      "Data points considered outliers for the feature 'Low-18':\n"
     ]
    },
    {
     "data": {
      "text/plain": [
       "(69, 480)"
      ]
     },
     "metadata": {},
     "output_type": "display_data"
    },
    {
     "name": "stdout",
     "output_type": "stream",
     "text": [
      "Data points considered outliers for the feature 'Close-18':\n"
     ]
    },
    {
     "data": {
      "text/plain": [
       "(69, 480)"
      ]
     },
     "metadata": {},
     "output_type": "display_data"
    },
    {
     "name": "stdout",
     "output_type": "stream",
     "text": [
      "Data points considered outliers for the feature 'Volume-18':\n"
     ]
    },
    {
     "data": {
      "text/plain": [
       "(76, 480)"
      ]
     },
     "metadata": {},
     "output_type": "display_data"
    },
    {
     "name": "stdout",
     "output_type": "stream",
     "text": [
      "Data points considered outliers for the feature 'Adj Close-18':\n"
     ]
    },
    {
     "data": {
      "text/plain": [
       "(75, 480)"
      ]
     },
     "metadata": {},
     "output_type": "display_data"
    },
    {
     "name": "stdout",
     "output_type": "stream",
     "text": [
      "Data points considered outliers for the feature 'Dow Jones index-18':\n"
     ]
    },
    {
     "data": {
      "text/plain": [
       "(88, 480)"
      ]
     },
     "metadata": {},
     "output_type": "display_data"
    },
    {
     "name": "stdout",
     "output_type": "stream",
     "text": [
      "Data points considered outliers for the feature 'Exchange Rate USD Sell-18':\n"
     ]
    },
    {
     "data": {
      "text/plain": [
       "(68, 480)"
      ]
     },
     "metadata": {},
     "output_type": "display_data"
    },
    {
     "name": "stdout",
     "output_type": "stream",
     "text": [
      "Data points considered outliers for the feature 'BM&F Gold gramme-18':\n"
     ]
    },
    {
     "data": {
      "text/plain": [
       "(57, 480)"
      ]
     },
     "metadata": {},
     "output_type": "display_data"
    },
    {
     "name": "stdout",
     "output_type": "stream",
     "text": [
      "Data points considered outliers for the feature 'Exchange Rate USD Buy-18':\n"
     ]
    },
    {
     "data": {
      "text/plain": [
       "(68, 480)"
      ]
     },
     "metadata": {},
     "output_type": "display_data"
    },
    {
     "name": "stdout",
     "output_type": "stream",
     "text": [
      "Data points considered outliers for the feature 'Selic-18':\n"
     ]
    },
    {
     "data": {
      "text/plain": [
       "(682, 480)"
      ]
     },
     "metadata": {},
     "output_type": "display_data"
    },
    {
     "name": "stdout",
     "output_type": "stream",
     "text": [
      "Data points considered outliers for the feature 'Bovespa index-18':\n"
     ]
    },
    {
     "data": {
      "text/plain": [
       "(36, 480)"
      ]
     },
     "metadata": {},
     "output_type": "display_data"
    },
    {
     "name": "stdout",
     "output_type": "stream",
     "text": [
      "Data points considered outliers for the feature 'Foreign exchange operations balance-18':\n"
     ]
    },
    {
     "data": {
      "text/plain": [
       "(283, 480)"
      ]
     },
     "metadata": {},
     "output_type": "display_data"
    },
    {
     "name": "stdout",
     "output_type": "stream",
     "text": [
      "Data points considered outliers for the feature 'Nasdaq index-18':\n"
     ]
    },
    {
     "data": {
      "text/plain": [
       "(74, 480)"
      ]
     },
     "metadata": {},
     "output_type": "display_data"
    },
    {
     "name": "stdout",
     "output_type": "stream",
     "text": [
      "Data points considered outliers for the feature 'Bovespa total volume-18':\n"
     ]
    },
    {
     "data": {
      "text/plain": [
       "(81, 480)"
      ]
     },
     "metadata": {},
     "output_type": "display_data"
    },
    {
     "name": "stdout",
     "output_type": "stream",
     "text": [
      "Data points considered outliers for the feature 'International Reserves-18':\n"
     ]
    },
    {
     "data": {
      "text/plain": [
       "(172, 480)"
      ]
     },
     "metadata": {},
     "output_type": "display_data"
    },
    {
     "name": "stdout",
     "output_type": "stream",
     "text": [
      "Data points considered outliers for the feature 'Open-19':\n"
     ]
    },
    {
     "data": {
      "text/plain": [
       "(68, 480)"
      ]
     },
     "metadata": {},
     "output_type": "display_data"
    },
    {
     "name": "stdout",
     "output_type": "stream",
     "text": [
      "Data points considered outliers for the feature 'High-19':\n"
     ]
    },
    {
     "data": {
      "text/plain": [
       "(64, 480)"
      ]
     },
     "metadata": {},
     "output_type": "display_data"
    },
    {
     "name": "stdout",
     "output_type": "stream",
     "text": [
      "Data points considered outliers for the feature 'Low-19':\n"
     ]
    },
    {
     "data": {
      "text/plain": [
       "(67, 480)"
      ]
     },
     "metadata": {},
     "output_type": "display_data"
    },
    {
     "name": "stdout",
     "output_type": "stream",
     "text": [
      "Data points considered outliers for the feature 'Close-19':\n"
     ]
    },
    {
     "data": {
      "text/plain": [
       "(67, 480)"
      ]
     },
     "metadata": {},
     "output_type": "display_data"
    },
    {
     "name": "stdout",
     "output_type": "stream",
     "text": [
      "Data points considered outliers for the feature 'Volume-19':\n"
     ]
    },
    {
     "data": {
      "text/plain": [
       "(78, 480)"
      ]
     },
     "metadata": {},
     "output_type": "display_data"
    },
    {
     "name": "stdout",
     "output_type": "stream",
     "text": [
      "Data points considered outliers for the feature 'Adj Close-19':\n"
     ]
    },
    {
     "data": {
      "text/plain": [
       "(70, 480)"
      ]
     },
     "metadata": {},
     "output_type": "display_data"
    },
    {
     "name": "stdout",
     "output_type": "stream",
     "text": [
      "Data points considered outliers for the feature 'Dow Jones index-19':\n"
     ]
    },
    {
     "data": {
      "text/plain": [
       "(88, 480)"
      ]
     },
     "metadata": {},
     "output_type": "display_data"
    },
    {
     "name": "stdout",
     "output_type": "stream",
     "text": [
      "Data points considered outliers for the feature 'Exchange Rate USD Sell-19':\n"
     ]
    },
    {
     "data": {
      "text/plain": [
       "(75, 480)"
      ]
     },
     "metadata": {},
     "output_type": "display_data"
    },
    {
     "name": "stdout",
     "output_type": "stream",
     "text": [
      "Data points considered outliers for the feature 'BM&F Gold gramme-19':\n"
     ]
    },
    {
     "data": {
      "text/plain": [
       "(67, 480)"
      ]
     },
     "metadata": {},
     "output_type": "display_data"
    },
    {
     "name": "stdout",
     "output_type": "stream",
     "text": [
      "Data points considered outliers for the feature 'Exchange Rate USD Buy-19':\n"
     ]
    },
    {
     "data": {
      "text/plain": [
       "(75, 480)"
      ]
     },
     "metadata": {},
     "output_type": "display_data"
    },
    {
     "name": "stdout",
     "output_type": "stream",
     "text": [
      "Data points considered outliers for the feature 'Selic-19':\n"
     ]
    },
    {
     "data": {
      "text/plain": [
       "(416, 480)"
      ]
     },
     "metadata": {},
     "output_type": "display_data"
    },
    {
     "name": "stdout",
     "output_type": "stream",
     "text": [
      "Data points considered outliers for the feature 'Bovespa index-19':\n"
     ]
    },
    {
     "data": {
      "text/plain": [
       "(39, 480)"
      ]
     },
     "metadata": {},
     "output_type": "display_data"
    },
    {
     "name": "stdout",
     "output_type": "stream",
     "text": [
      "Data points considered outliers for the feature 'Foreign exchange operations balance-19':\n"
     ]
    },
    {
     "data": {
      "text/plain": [
       "(266, 480)"
      ]
     },
     "metadata": {},
     "output_type": "display_data"
    },
    {
     "name": "stdout",
     "output_type": "stream",
     "text": [
      "Data points considered outliers for the feature 'Nasdaq index-19':\n"
     ]
    },
    {
     "data": {
      "text/plain": [
       "(75, 480)"
      ]
     },
     "metadata": {},
     "output_type": "display_data"
    },
    {
     "name": "stdout",
     "output_type": "stream",
     "text": [
      "Data points considered outliers for the feature 'Bovespa total volume-19':\n"
     ]
    },
    {
     "data": {
      "text/plain": [
       "(87, 480)"
      ]
     },
     "metadata": {},
     "output_type": "display_data"
    },
    {
     "name": "stdout",
     "output_type": "stream",
     "text": [
      "Data points considered outliers for the feature 'International Reserves-19':\n"
     ]
    },
    {
     "data": {
      "text/plain": [
       "(177, 480)"
      ]
     },
     "metadata": {},
     "output_type": "display_data"
    },
    {
     "name": "stdout",
     "output_type": "stream",
     "text": [
      "Data points considered outliers for the feature 'Open-20':\n"
     ]
    },
    {
     "data": {
      "text/plain": [
       "(66, 480)"
      ]
     },
     "metadata": {},
     "output_type": "display_data"
    },
    {
     "name": "stdout",
     "output_type": "stream",
     "text": [
      "Data points considered outliers for the feature 'High-20':\n"
     ]
    },
    {
     "data": {
      "text/plain": [
       "(70, 480)"
      ]
     },
     "metadata": {},
     "output_type": "display_data"
    },
    {
     "name": "stdout",
     "output_type": "stream",
     "text": [
      "Data points considered outliers for the feature 'Low-20':\n"
     ]
    },
    {
     "data": {
      "text/plain": [
       "(59, 480)"
      ]
     },
     "metadata": {},
     "output_type": "display_data"
    },
    {
     "name": "stdout",
     "output_type": "stream",
     "text": [
      "Data points considered outliers for the feature 'Close-20':\n"
     ]
    },
    {
     "data": {
      "text/plain": [
       "(64, 480)"
      ]
     },
     "metadata": {},
     "output_type": "display_data"
    },
    {
     "name": "stdout",
     "output_type": "stream",
     "text": [
      "Data points considered outliers for the feature 'Volume-20':\n"
     ]
    },
    {
     "data": {
      "text/plain": [
       "(82, 480)"
      ]
     },
     "metadata": {},
     "output_type": "display_data"
    },
    {
     "name": "stdout",
     "output_type": "stream",
     "text": [
      "Data points considered outliers for the feature 'Adj Close-20':\n"
     ]
    },
    {
     "data": {
      "text/plain": [
       "(66, 480)"
      ]
     },
     "metadata": {},
     "output_type": "display_data"
    },
    {
     "name": "stdout",
     "output_type": "stream",
     "text": [
      "Data points considered outliers for the feature 'Dow Jones index-20':\n"
     ]
    },
    {
     "data": {
      "text/plain": [
       "(87, 480)"
      ]
     },
     "metadata": {},
     "output_type": "display_data"
    },
    {
     "name": "stdout",
     "output_type": "stream",
     "text": [
      "Data points considered outliers for the feature 'Exchange Rate USD Sell-20':\n"
     ]
    },
    {
     "data": {
      "text/plain": [
       "(69, 480)"
      ]
     },
     "metadata": {},
     "output_type": "display_data"
    },
    {
     "name": "stdout",
     "output_type": "stream",
     "text": [
      "Data points considered outliers for the feature 'BM&F Gold gramme-20':\n"
     ]
    },
    {
     "data": {
      "text/plain": [
       "(56, 480)"
      ]
     },
     "metadata": {},
     "output_type": "display_data"
    },
    {
     "name": "stdout",
     "output_type": "stream",
     "text": [
      "Data points considered outliers for the feature 'Exchange Rate USD Buy-20':\n"
     ]
    },
    {
     "data": {
      "text/plain": [
       "(68, 480)"
      ]
     },
     "metadata": {},
     "output_type": "display_data"
    },
    {
     "name": "stdout",
     "output_type": "stream",
     "text": [
      "Data points considered outliers for the feature 'Selic-20':\n"
     ]
    },
    {
     "data": {
      "text/plain": [
       "(437, 480)"
      ]
     },
     "metadata": {},
     "output_type": "display_data"
    },
    {
     "name": "stdout",
     "output_type": "stream",
     "text": [
      "Data points considered outliers for the feature 'Bovespa index-20':\n"
     ]
    },
    {
     "data": {
      "text/plain": [
       "(36, 480)"
      ]
     },
     "metadata": {},
     "output_type": "display_data"
    },
    {
     "name": "stdout",
     "output_type": "stream",
     "text": [
      "Data points considered outliers for the feature 'Foreign exchange operations balance-20':\n"
     ]
    },
    {
     "data": {
      "text/plain": [
       "(270, 480)"
      ]
     },
     "metadata": {},
     "output_type": "display_data"
    },
    {
     "name": "stdout",
     "output_type": "stream",
     "text": [
      "Data points considered outliers for the feature 'Nasdaq index-20':\n"
     ]
    },
    {
     "data": {
      "text/plain": [
       "(70, 480)"
      ]
     },
     "metadata": {},
     "output_type": "display_data"
    },
    {
     "name": "stdout",
     "output_type": "stream",
     "text": [
      "Data points considered outliers for the feature 'Bovespa total volume-20':\n"
     ]
    },
    {
     "data": {
      "text/plain": [
       "(94, 480)"
      ]
     },
     "metadata": {},
     "output_type": "display_data"
    },
    {
     "name": "stdout",
     "output_type": "stream",
     "text": [
      "Data points considered outliers for the feature 'International Reserves-20':\n"
     ]
    },
    {
     "data": {
      "text/plain": [
       "(174, 480)"
      ]
     },
     "metadata": {},
     "output_type": "display_data"
    },
    {
     "name": "stdout",
     "output_type": "stream",
     "text": [
      "Data points considered outliers for the feature 'Open-21':\n"
     ]
    },
    {
     "data": {
      "text/plain": [
       "(60, 480)"
      ]
     },
     "metadata": {},
     "output_type": "display_data"
    },
    {
     "name": "stdout",
     "output_type": "stream",
     "text": [
      "Data points considered outliers for the feature 'High-21':\n"
     ]
    },
    {
     "data": {
      "text/plain": [
       "(63, 480)"
      ]
     },
     "metadata": {},
     "output_type": "display_data"
    },
    {
     "name": "stdout",
     "output_type": "stream",
     "text": [
      "Data points considered outliers for the feature 'Low-21':\n"
     ]
    },
    {
     "data": {
      "text/plain": [
       "(60, 480)"
      ]
     },
     "metadata": {},
     "output_type": "display_data"
    },
    {
     "name": "stdout",
     "output_type": "stream",
     "text": [
      "Data points considered outliers for the feature 'Close-21':\n"
     ]
    },
    {
     "data": {
      "text/plain": [
       "(64, 480)"
      ]
     },
     "metadata": {},
     "output_type": "display_data"
    },
    {
     "name": "stdout",
     "output_type": "stream",
     "text": [
      "Data points considered outliers for the feature 'Volume-21':\n"
     ]
    },
    {
     "data": {
      "text/plain": [
       "(65, 480)"
      ]
     },
     "metadata": {},
     "output_type": "display_data"
    },
    {
     "name": "stdout",
     "output_type": "stream",
     "text": [
      "Data points considered outliers for the feature 'Adj Close-21':\n"
     ]
    },
    {
     "data": {
      "text/plain": [
       "(69, 480)"
      ]
     },
     "metadata": {},
     "output_type": "display_data"
    },
    {
     "name": "stdout",
     "output_type": "stream",
     "text": [
      "Data points considered outliers for the feature 'Dow Jones index-21':\n"
     ]
    },
    {
     "data": {
      "text/plain": [
       "(87, 480)"
      ]
     },
     "metadata": {},
     "output_type": "display_data"
    },
    {
     "name": "stdout",
     "output_type": "stream",
     "text": [
      "Data points considered outliers for the feature 'Exchange Rate USD Sell-21':\n"
     ]
    },
    {
     "data": {
      "text/plain": [
       "(73, 480)"
      ]
     },
     "metadata": {},
     "output_type": "display_data"
    },
    {
     "name": "stdout",
     "output_type": "stream",
     "text": [
      "Data points considered outliers for the feature 'BM&F Gold gramme-21':\n"
     ]
    },
    {
     "data": {
      "text/plain": [
       "(58, 480)"
      ]
     },
     "metadata": {},
     "output_type": "display_data"
    },
    {
     "name": "stdout",
     "output_type": "stream",
     "text": [
      "Data points considered outliers for the feature 'Exchange Rate USD Buy-21':\n"
     ]
    },
    {
     "data": {
      "text/plain": [
       "(73, 480)"
      ]
     },
     "metadata": {},
     "output_type": "display_data"
    },
    {
     "name": "stdout",
     "output_type": "stream",
     "text": [
      "Data points considered outliers for the feature 'Selic-21':\n"
     ]
    },
    {
     "data": {
      "text/plain": [
       "(395, 480)"
      ]
     },
     "metadata": {},
     "output_type": "display_data"
    },
    {
     "name": "stdout",
     "output_type": "stream",
     "text": [
      "Data points considered outliers for the feature 'Bovespa index-21':\n"
     ]
    },
    {
     "data": {
      "text/plain": [
       "(34, 480)"
      ]
     },
     "metadata": {},
     "output_type": "display_data"
    },
    {
     "name": "stdout",
     "output_type": "stream",
     "text": [
      "Data points considered outliers for the feature 'Foreign exchange operations balance-21':\n"
     ]
    },
    {
     "data": {
      "text/plain": [
       "(254, 480)"
      ]
     },
     "metadata": {},
     "output_type": "display_data"
    },
    {
     "name": "stdout",
     "output_type": "stream",
     "text": [
      "Data points considered outliers for the feature 'Nasdaq index-21':\n"
     ]
    },
    {
     "data": {
      "text/plain": [
       "(71, 480)"
      ]
     },
     "metadata": {},
     "output_type": "display_data"
    },
    {
     "name": "stdout",
     "output_type": "stream",
     "text": [
      "Data points considered outliers for the feature 'Bovespa total volume-21':\n"
     ]
    },
    {
     "data": {
      "text/plain": [
       "(86, 480)"
      ]
     },
     "metadata": {},
     "output_type": "display_data"
    },
    {
     "name": "stdout",
     "output_type": "stream",
     "text": [
      "Data points considered outliers for the feature 'International Reserves-21':\n"
     ]
    },
    {
     "data": {
      "text/plain": [
       "(165, 480)"
      ]
     },
     "metadata": {},
     "output_type": "display_data"
    },
    {
     "name": "stdout",
     "output_type": "stream",
     "text": [
      "Data points considered outliers for the feature 'Open-22':\n"
     ]
    },
    {
     "data": {
      "text/plain": [
       "(54, 480)"
      ]
     },
     "metadata": {},
     "output_type": "display_data"
    },
    {
     "name": "stdout",
     "output_type": "stream",
     "text": [
      "Data points considered outliers for the feature 'High-22':\n"
     ]
    },
    {
     "data": {
      "text/plain": [
       "(60, 480)"
      ]
     },
     "metadata": {},
     "output_type": "display_data"
    },
    {
     "name": "stdout",
     "output_type": "stream",
     "text": [
      "Data points considered outliers for the feature 'Low-22':\n"
     ]
    },
    {
     "data": {
      "text/plain": [
       "(60, 480)"
      ]
     },
     "metadata": {},
     "output_type": "display_data"
    },
    {
     "name": "stdout",
     "output_type": "stream",
     "text": [
      "Data points considered outliers for the feature 'Close-22':\n"
     ]
    },
    {
     "data": {
      "text/plain": [
       "(65, 480)"
      ]
     },
     "metadata": {},
     "output_type": "display_data"
    },
    {
     "name": "stdout",
     "output_type": "stream",
     "text": [
      "Data points considered outliers for the feature 'Volume-22':\n"
     ]
    },
    {
     "data": {
      "text/plain": [
       "(68, 480)"
      ]
     },
     "metadata": {},
     "output_type": "display_data"
    },
    {
     "name": "stdout",
     "output_type": "stream",
     "text": [
      "Data points considered outliers for the feature 'Adj Close-22':\n"
     ]
    },
    {
     "data": {
      "text/plain": [
       "(67, 480)"
      ]
     },
     "metadata": {},
     "output_type": "display_data"
    },
    {
     "name": "stdout",
     "output_type": "stream",
     "text": [
      "Data points considered outliers for the feature 'Dow Jones index-22':\n"
     ]
    },
    {
     "data": {
      "text/plain": [
       "(85, 480)"
      ]
     },
     "metadata": {},
     "output_type": "display_data"
    },
    {
     "name": "stdout",
     "output_type": "stream",
     "text": [
      "Data points considered outliers for the feature 'Exchange Rate USD Sell-22':\n"
     ]
    },
    {
     "data": {
      "text/plain": [
       "(67, 480)"
      ]
     },
     "metadata": {},
     "output_type": "display_data"
    },
    {
     "name": "stdout",
     "output_type": "stream",
     "text": [
      "Data points considered outliers for the feature 'BM&F Gold gramme-22':\n"
     ]
    },
    {
     "data": {
      "text/plain": [
       "(65, 480)"
      ]
     },
     "metadata": {},
     "output_type": "display_data"
    },
    {
     "name": "stdout",
     "output_type": "stream",
     "text": [
      "Data points considered outliers for the feature 'Exchange Rate USD Buy-22':\n"
     ]
    },
    {
     "data": {
      "text/plain": [
       "(66, 480)"
      ]
     },
     "metadata": {},
     "output_type": "display_data"
    },
    {
     "name": "stdout",
     "output_type": "stream",
     "text": [
      "Data points considered outliers for the feature 'Selic-22':\n"
     ]
    },
    {
     "data": {
      "text/plain": [
       "(413, 480)"
      ]
     },
     "metadata": {},
     "output_type": "display_data"
    },
    {
     "name": "stdout",
     "output_type": "stream",
     "text": [
      "Data points considered outliers for the feature 'Bovespa index-22':\n"
     ]
    },
    {
     "data": {
      "text/plain": [
       "(41, 480)"
      ]
     },
     "metadata": {},
     "output_type": "display_data"
    },
    {
     "name": "stdout",
     "output_type": "stream",
     "text": [
      "Data points considered outliers for the feature 'Foreign exchange operations balance-22':\n"
     ]
    },
    {
     "data": {
      "text/plain": [
       "(278, 480)"
      ]
     },
     "metadata": {},
     "output_type": "display_data"
    },
    {
     "name": "stdout",
     "output_type": "stream",
     "text": [
      "Data points considered outliers for the feature 'Nasdaq index-22':\n"
     ]
    },
    {
     "data": {
      "text/plain": [
       "(64, 480)"
      ]
     },
     "metadata": {},
     "output_type": "display_data"
    },
    {
     "name": "stdout",
     "output_type": "stream",
     "text": [
      "Data points considered outliers for the feature 'Bovespa total volume-22':\n"
     ]
    },
    {
     "data": {
      "text/plain": [
       "(82, 480)"
      ]
     },
     "metadata": {},
     "output_type": "display_data"
    },
    {
     "name": "stdout",
     "output_type": "stream",
     "text": [
      "Data points considered outliers for the feature 'International Reserves-22':\n"
     ]
    },
    {
     "data": {
      "text/plain": [
       "(167, 480)"
      ]
     },
     "metadata": {},
     "output_type": "display_data"
    },
    {
     "name": "stdout",
     "output_type": "stream",
     "text": [
      "Data points considered outliers for the feature 'Open-23':\n"
     ]
    },
    {
     "data": {
      "text/plain": [
       "(61, 480)"
      ]
     },
     "metadata": {},
     "output_type": "display_data"
    },
    {
     "name": "stdout",
     "output_type": "stream",
     "text": [
      "Data points considered outliers for the feature 'High-23':\n"
     ]
    },
    {
     "data": {
      "text/plain": [
       "(62, 480)"
      ]
     },
     "metadata": {},
     "output_type": "display_data"
    },
    {
     "name": "stdout",
     "output_type": "stream",
     "text": [
      "Data points considered outliers for the feature 'Low-23':\n"
     ]
    },
    {
     "data": {
      "text/plain": [
       "(57, 480)"
      ]
     },
     "metadata": {},
     "output_type": "display_data"
    },
    {
     "name": "stdout",
     "output_type": "stream",
     "text": [
      "Data points considered outliers for the feature 'Close-23':\n"
     ]
    },
    {
     "data": {
      "text/plain": [
       "(64, 480)"
      ]
     },
     "metadata": {},
     "output_type": "display_data"
    },
    {
     "name": "stdout",
     "output_type": "stream",
     "text": [
      "Data points considered outliers for the feature 'Volume-23':\n"
     ]
    },
    {
     "data": {
      "text/plain": [
       "(92, 480)"
      ]
     },
     "metadata": {},
     "output_type": "display_data"
    },
    {
     "name": "stdout",
     "output_type": "stream",
     "text": [
      "Data points considered outliers for the feature 'Adj Close-23':\n"
     ]
    },
    {
     "data": {
      "text/plain": [
       "(64, 480)"
      ]
     },
     "metadata": {},
     "output_type": "display_data"
    },
    {
     "name": "stdout",
     "output_type": "stream",
     "text": [
      "Data points considered outliers for the feature 'Dow Jones index-23':\n"
     ]
    },
    {
     "data": {
      "text/plain": [
       "(81, 480)"
      ]
     },
     "metadata": {},
     "output_type": "display_data"
    },
    {
     "name": "stdout",
     "output_type": "stream",
     "text": [
      "Data points considered outliers for the feature 'Exchange Rate USD Sell-23':\n"
     ]
    },
    {
     "data": {
      "text/plain": [
       "(64, 480)"
      ]
     },
     "metadata": {},
     "output_type": "display_data"
    },
    {
     "name": "stdout",
     "output_type": "stream",
     "text": [
      "Data points considered outliers for the feature 'BM&F Gold gramme-23':\n"
     ]
    },
    {
     "data": {
      "text/plain": [
       "(67, 480)"
      ]
     },
     "metadata": {},
     "output_type": "display_data"
    },
    {
     "name": "stdout",
     "output_type": "stream",
     "text": [
      "Data points considered outliers for the feature 'Exchange Rate USD Buy-23':\n"
     ]
    },
    {
     "data": {
      "text/plain": [
       "(64, 480)"
      ]
     },
     "metadata": {},
     "output_type": "display_data"
    },
    {
     "name": "stdout",
     "output_type": "stream",
     "text": [
      "Data points considered outliers for the feature 'Selic-23':\n"
     ]
    },
    {
     "data": {
      "text/plain": [
       "(407, 480)"
      ]
     },
     "metadata": {},
     "output_type": "display_data"
    },
    {
     "name": "stdout",
     "output_type": "stream",
     "text": [
      "Data points considered outliers for the feature 'Bovespa index-23':\n"
     ]
    },
    {
     "data": {
      "text/plain": [
       "(40, 480)"
      ]
     },
     "metadata": {},
     "output_type": "display_data"
    },
    {
     "name": "stdout",
     "output_type": "stream",
     "text": [
      "Data points considered outliers for the feature 'Foreign exchange operations balance-23':\n"
     ]
    },
    {
     "data": {
      "text/plain": [
       "(263, 480)"
      ]
     },
     "metadata": {},
     "output_type": "display_data"
    },
    {
     "name": "stdout",
     "output_type": "stream",
     "text": [
      "Data points considered outliers for the feature 'Nasdaq index-23':\n"
     ]
    },
    {
     "data": {
      "text/plain": [
       "(67, 480)"
      ]
     },
     "metadata": {},
     "output_type": "display_data"
    },
    {
     "name": "stdout",
     "output_type": "stream",
     "text": [
      "Data points considered outliers for the feature 'Bovespa total volume-23':\n"
     ]
    },
    {
     "data": {
      "text/plain": [
       "(77, 480)"
      ]
     },
     "metadata": {},
     "output_type": "display_data"
    },
    {
     "name": "stdout",
     "output_type": "stream",
     "text": [
      "Data points considered outliers for the feature 'International Reserves-23':\n"
     ]
    },
    {
     "data": {
      "text/plain": [
       "(173, 480)"
      ]
     },
     "metadata": {},
     "output_type": "display_data"
    },
    {
     "name": "stdout",
     "output_type": "stream",
     "text": [
      "Data points considered outliers for the feature 'Open-24':\n"
     ]
    },
    {
     "data": {
      "text/plain": [
       "(58, 480)"
      ]
     },
     "metadata": {},
     "output_type": "display_data"
    },
    {
     "name": "stdout",
     "output_type": "stream",
     "text": [
      "Data points considered outliers for the feature 'High-24':\n"
     ]
    },
    {
     "data": {
      "text/plain": [
       "(64, 480)"
      ]
     },
     "metadata": {},
     "output_type": "display_data"
    },
    {
     "name": "stdout",
     "output_type": "stream",
     "text": [
      "Data points considered outliers for the feature 'Low-24':\n"
     ]
    },
    {
     "data": {
      "text/plain": [
       "(59, 480)"
      ]
     },
     "metadata": {},
     "output_type": "display_data"
    },
    {
     "name": "stdout",
     "output_type": "stream",
     "text": [
      "Data points considered outliers for the feature 'Close-24':\n"
     ]
    },
    {
     "data": {
      "text/plain": [
       "(57, 480)"
      ]
     },
     "metadata": {},
     "output_type": "display_data"
    },
    {
     "name": "stdout",
     "output_type": "stream",
     "text": [
      "Data points considered outliers for the feature 'Volume-24':\n"
     ]
    },
    {
     "data": {
      "text/plain": [
       "(89, 480)"
      ]
     },
     "metadata": {},
     "output_type": "display_data"
    },
    {
     "name": "stdout",
     "output_type": "stream",
     "text": [
      "Data points considered outliers for the feature 'Adj Close-24':\n"
     ]
    },
    {
     "data": {
      "text/plain": [
       "(61, 480)"
      ]
     },
     "metadata": {},
     "output_type": "display_data"
    },
    {
     "name": "stdout",
     "output_type": "stream",
     "text": [
      "Data points considered outliers for the feature 'Dow Jones index-24':\n"
     ]
    },
    {
     "data": {
      "text/plain": [
       "(86, 480)"
      ]
     },
     "metadata": {},
     "output_type": "display_data"
    },
    {
     "name": "stdout",
     "output_type": "stream",
     "text": [
      "Data points considered outliers for the feature 'Exchange Rate USD Sell-24':\n"
     ]
    },
    {
     "data": {
      "text/plain": [
       "(59, 480)"
      ]
     },
     "metadata": {},
     "output_type": "display_data"
    },
    {
     "name": "stdout",
     "output_type": "stream",
     "text": [
      "Data points considered outliers for the feature 'BM&F Gold gramme-24':\n"
     ]
    },
    {
     "data": {
      "text/plain": [
       "(64, 480)"
      ]
     },
     "metadata": {},
     "output_type": "display_data"
    },
    {
     "name": "stdout",
     "output_type": "stream",
     "text": [
      "Data points considered outliers for the feature 'Exchange Rate USD Buy-24':\n"
     ]
    },
    {
     "data": {
      "text/plain": [
       "(59, 480)"
      ]
     },
     "metadata": {},
     "output_type": "display_data"
    },
    {
     "name": "stdout",
     "output_type": "stream",
     "text": [
      "Data points considered outliers for the feature 'Selic-24':\n"
     ]
    },
    {
     "data": {
      "text/plain": [
       "(242, 480)"
      ]
     },
     "metadata": {},
     "output_type": "display_data"
    },
    {
     "name": "stdout",
     "output_type": "stream",
     "text": [
      "Data points considered outliers for the feature 'Bovespa index-24':\n"
     ]
    },
    {
     "data": {
      "text/plain": [
       "(36, 480)"
      ]
     },
     "metadata": {},
     "output_type": "display_data"
    },
    {
     "name": "stdout",
     "output_type": "stream",
     "text": [
      "Data points considered outliers for the feature 'Foreign exchange operations balance-24':\n"
     ]
    },
    {
     "data": {
      "text/plain": [
       "(271, 480)"
      ]
     },
     "metadata": {},
     "output_type": "display_data"
    },
    {
     "name": "stdout",
     "output_type": "stream",
     "text": [
      "Data points considered outliers for the feature 'Nasdaq index-24':\n"
     ]
    },
    {
     "data": {
      "text/plain": [
       "(67, 480)"
      ]
     },
     "metadata": {},
     "output_type": "display_data"
    },
    {
     "name": "stdout",
     "output_type": "stream",
     "text": [
      "Data points considered outliers for the feature 'Bovespa total volume-24':\n"
     ]
    },
    {
     "data": {
      "text/plain": [
       "(71, 480)"
      ]
     },
     "metadata": {},
     "output_type": "display_data"
    },
    {
     "name": "stdout",
     "output_type": "stream",
     "text": [
      "Data points considered outliers for the feature 'International Reserves-24':\n"
     ]
    },
    {
     "data": {
      "text/plain": [
       "(172, 480)"
      ]
     },
     "metadata": {},
     "output_type": "display_data"
    },
    {
     "name": "stdout",
     "output_type": "stream",
     "text": [
      "Data points considered outliers for the feature 'Open-25':\n"
     ]
    },
    {
     "data": {
      "text/plain": [
       "(68, 480)"
      ]
     },
     "metadata": {},
     "output_type": "display_data"
    },
    {
     "name": "stdout",
     "output_type": "stream",
     "text": [
      "Data points considered outliers for the feature 'High-25':\n"
     ]
    },
    {
     "data": {
      "text/plain": [
       "(65, 480)"
      ]
     },
     "metadata": {},
     "output_type": "display_data"
    },
    {
     "name": "stdout",
     "output_type": "stream",
     "text": [
      "Data points considered outliers for the feature 'Low-25':\n"
     ]
    },
    {
     "data": {
      "text/plain": [
       "(61, 480)"
      ]
     },
     "metadata": {},
     "output_type": "display_data"
    },
    {
     "name": "stdout",
     "output_type": "stream",
     "text": [
      "Data points considered outliers for the feature 'Close-25':\n"
     ]
    },
    {
     "data": {
      "text/plain": [
       "(58, 480)"
      ]
     },
     "metadata": {},
     "output_type": "display_data"
    },
    {
     "name": "stdout",
     "output_type": "stream",
     "text": [
      "Data points considered outliers for the feature 'Volume-25':\n"
     ]
    },
    {
     "data": {
      "text/plain": [
       "(77, 480)"
      ]
     },
     "metadata": {},
     "output_type": "display_data"
    },
    {
     "name": "stdout",
     "output_type": "stream",
     "text": [
      "Data points considered outliers for the feature 'Adj Close-25':\n"
     ]
    },
    {
     "data": {
      "text/plain": [
       "(62, 480)"
      ]
     },
     "metadata": {},
     "output_type": "display_data"
    },
    {
     "name": "stdout",
     "output_type": "stream",
     "text": [
      "Data points considered outliers for the feature 'Dow Jones index-25':\n"
     ]
    },
    {
     "data": {
      "text/plain": [
       "(92, 480)"
      ]
     },
     "metadata": {},
     "output_type": "display_data"
    },
    {
     "name": "stdout",
     "output_type": "stream",
     "text": [
      "Data points considered outliers for the feature 'Exchange Rate USD Sell-25':\n"
     ]
    },
    {
     "data": {
      "text/plain": [
       "(59, 480)"
      ]
     },
     "metadata": {},
     "output_type": "display_data"
    },
    {
     "name": "stdout",
     "output_type": "stream",
     "text": [
      "Data points considered outliers for the feature 'BM&F Gold gramme-25':\n"
     ]
    },
    {
     "data": {
      "text/plain": [
       "(67, 480)"
      ]
     },
     "metadata": {},
     "output_type": "display_data"
    },
    {
     "name": "stdout",
     "output_type": "stream",
     "text": [
      "Data points considered outliers for the feature 'Exchange Rate USD Buy-25':\n"
     ]
    },
    {
     "data": {
      "text/plain": [
       "(59, 480)"
      ]
     },
     "metadata": {},
     "output_type": "display_data"
    },
    {
     "name": "stdout",
     "output_type": "stream",
     "text": [
      "Data points considered outliers for the feature 'Selic-25':\n"
     ]
    },
    {
     "data": {
      "text/plain": [
       "(253, 480)"
      ]
     },
     "metadata": {},
     "output_type": "display_data"
    },
    {
     "name": "stdout",
     "output_type": "stream",
     "text": [
      "Data points considered outliers for the feature 'Bovespa index-25':\n"
     ]
    },
    {
     "data": {
      "text/plain": [
       "(38, 480)"
      ]
     },
     "metadata": {},
     "output_type": "display_data"
    },
    {
     "name": "stdout",
     "output_type": "stream",
     "text": [
      "Data points considered outliers for the feature 'Foreign exchange operations balance-25':\n"
     ]
    },
    {
     "data": {
      "text/plain": [
       "(265, 480)"
      ]
     },
     "metadata": {},
     "output_type": "display_data"
    },
    {
     "name": "stdout",
     "output_type": "stream",
     "text": [
      "Data points considered outliers for the feature 'Nasdaq index-25':\n"
     ]
    },
    {
     "data": {
      "text/plain": [
       "(72, 480)"
      ]
     },
     "metadata": {},
     "output_type": "display_data"
    },
    {
     "name": "stdout",
     "output_type": "stream",
     "text": [
      "Data points considered outliers for the feature 'Bovespa total volume-25':\n"
     ]
    },
    {
     "data": {
      "text/plain": [
       "(85, 480)"
      ]
     },
     "metadata": {},
     "output_type": "display_data"
    },
    {
     "name": "stdout",
     "output_type": "stream",
     "text": [
      "Data points considered outliers for the feature 'International Reserves-25':\n"
     ]
    },
    {
     "data": {
      "text/plain": [
       "(163, 480)"
      ]
     },
     "metadata": {},
     "output_type": "display_data"
    },
    {
     "name": "stdout",
     "output_type": "stream",
     "text": [
      "Data points considered outliers for the feature 'Open-26':\n"
     ]
    },
    {
     "data": {
      "text/plain": [
       "(63, 480)"
      ]
     },
     "metadata": {},
     "output_type": "display_data"
    },
    {
     "name": "stdout",
     "output_type": "stream",
     "text": [
      "Data points considered outliers for the feature 'High-26':\n"
     ]
    },
    {
     "data": {
      "text/plain": [
       "(61, 480)"
      ]
     },
     "metadata": {},
     "output_type": "display_data"
    },
    {
     "name": "stdout",
     "output_type": "stream",
     "text": [
      "Data points considered outliers for the feature 'Low-26':\n"
     ]
    },
    {
     "data": {
      "text/plain": [
       "(58, 480)"
      ]
     },
     "metadata": {},
     "output_type": "display_data"
    },
    {
     "name": "stdout",
     "output_type": "stream",
     "text": [
      "Data points considered outliers for the feature 'Close-26':\n"
     ]
    },
    {
     "data": {
      "text/plain": [
       "(60, 480)"
      ]
     },
     "metadata": {},
     "output_type": "display_data"
    },
    {
     "name": "stdout",
     "output_type": "stream",
     "text": [
      "Data points considered outliers for the feature 'Volume-26':\n"
     ]
    },
    {
     "data": {
      "text/plain": [
       "(89, 480)"
      ]
     },
     "metadata": {},
     "output_type": "display_data"
    },
    {
     "name": "stdout",
     "output_type": "stream",
     "text": [
      "Data points considered outliers for the feature 'Adj Close-26':\n"
     ]
    },
    {
     "data": {
      "text/plain": [
       "(61, 480)"
      ]
     },
     "metadata": {},
     "output_type": "display_data"
    },
    {
     "name": "stdout",
     "output_type": "stream",
     "text": [
      "Data points considered outliers for the feature 'Dow Jones index-26':\n"
     ]
    },
    {
     "data": {
      "text/plain": [
       "(87, 480)"
      ]
     },
     "metadata": {},
     "output_type": "display_data"
    },
    {
     "name": "stdout",
     "output_type": "stream",
     "text": [
      "Data points considered outliers for the feature 'Exchange Rate USD Sell-26':\n"
     ]
    },
    {
     "data": {
      "text/plain": [
       "(57, 480)"
      ]
     },
     "metadata": {},
     "output_type": "display_data"
    },
    {
     "name": "stdout",
     "output_type": "stream",
     "text": [
      "Data points considered outliers for the feature 'BM&F Gold gramme-26':\n"
     ]
    },
    {
     "data": {
      "text/plain": [
       "(66, 480)"
      ]
     },
     "metadata": {},
     "output_type": "display_data"
    },
    {
     "name": "stdout",
     "output_type": "stream",
     "text": [
      "Data points considered outliers for the feature 'Exchange Rate USD Buy-26':\n"
     ]
    },
    {
     "data": {
      "text/plain": [
       "(57, 480)"
      ]
     },
     "metadata": {},
     "output_type": "display_data"
    },
    {
     "name": "stdout",
     "output_type": "stream",
     "text": [
      "Data points considered outliers for the feature 'Selic-26':\n"
     ]
    },
    {
     "data": {
      "text/plain": [
       "(239, 480)"
      ]
     },
     "metadata": {},
     "output_type": "display_data"
    },
    {
     "name": "stdout",
     "output_type": "stream",
     "text": [
      "Data points considered outliers for the feature 'Bovespa index-26':\n"
     ]
    },
    {
     "data": {
      "text/plain": [
       "(38, 480)"
      ]
     },
     "metadata": {},
     "output_type": "display_data"
    },
    {
     "name": "stdout",
     "output_type": "stream",
     "text": [
      "Data points considered outliers for the feature 'Foreign exchange operations balance-26':\n"
     ]
    },
    {
     "data": {
      "text/plain": [
       "(277, 480)"
      ]
     },
     "metadata": {},
     "output_type": "display_data"
    },
    {
     "name": "stdout",
     "output_type": "stream",
     "text": [
      "Data points considered outliers for the feature 'Nasdaq index-26':\n"
     ]
    },
    {
     "data": {
      "text/plain": [
       "(71, 480)"
      ]
     },
     "metadata": {},
     "output_type": "display_data"
    },
    {
     "name": "stdout",
     "output_type": "stream",
     "text": [
      "Data points considered outliers for the feature 'Bovespa total volume-26':\n"
     ]
    },
    {
     "data": {
      "text/plain": [
       "(78, 480)"
      ]
     },
     "metadata": {},
     "output_type": "display_data"
    },
    {
     "name": "stdout",
     "output_type": "stream",
     "text": [
      "Data points considered outliers for the feature 'International Reserves-26':\n"
     ]
    },
    {
     "data": {
      "text/plain": [
       "(160, 480)"
      ]
     },
     "metadata": {},
     "output_type": "display_data"
    },
    {
     "name": "stdout",
     "output_type": "stream",
     "text": [
      "Data points considered outliers for the feature 'Open-27':\n"
     ]
    },
    {
     "data": {
      "text/plain": [
       "(65, 480)"
      ]
     },
     "metadata": {},
     "output_type": "display_data"
    },
    {
     "name": "stdout",
     "output_type": "stream",
     "text": [
      "Data points considered outliers for the feature 'High-27':\n"
     ]
    },
    {
     "data": {
      "text/plain": [
       "(65, 480)"
      ]
     },
     "metadata": {},
     "output_type": "display_data"
    },
    {
     "name": "stdout",
     "output_type": "stream",
     "text": [
      "Data points considered outliers for the feature 'Low-27':\n"
     ]
    },
    {
     "data": {
      "text/plain": [
       "(64, 480)"
      ]
     },
     "metadata": {},
     "output_type": "display_data"
    },
    {
     "name": "stdout",
     "output_type": "stream",
     "text": [
      "Data points considered outliers for the feature 'Close-27':\n"
     ]
    },
    {
     "data": {
      "text/plain": [
       "(63, 480)"
      ]
     },
     "metadata": {},
     "output_type": "display_data"
    },
    {
     "name": "stdout",
     "output_type": "stream",
     "text": [
      "Data points considered outliers for the feature 'Volume-27':\n"
     ]
    },
    {
     "data": {
      "text/plain": [
       "(80, 480)"
      ]
     },
     "metadata": {},
     "output_type": "display_data"
    },
    {
     "name": "stdout",
     "output_type": "stream",
     "text": [
      "Data points considered outliers for the feature 'Adj Close-27':\n"
     ]
    },
    {
     "data": {
      "text/plain": [
       "(67, 480)"
      ]
     },
     "metadata": {},
     "output_type": "display_data"
    },
    {
     "name": "stdout",
     "output_type": "stream",
     "text": [
      "Data points considered outliers for the feature 'Dow Jones index-27':\n"
     ]
    },
    {
     "data": {
      "text/plain": [
       "(82, 480)"
      ]
     },
     "metadata": {},
     "output_type": "display_data"
    },
    {
     "name": "stdout",
     "output_type": "stream",
     "text": [
      "Data points considered outliers for the feature 'Exchange Rate USD Sell-27':\n"
     ]
    },
    {
     "data": {
      "text/plain": [
       "(50, 480)"
      ]
     },
     "metadata": {},
     "output_type": "display_data"
    },
    {
     "name": "stdout",
     "output_type": "stream",
     "text": [
      "Data points considered outliers for the feature 'BM&F Gold gramme-27':\n"
     ]
    },
    {
     "data": {
      "text/plain": [
       "(77, 480)"
      ]
     },
     "metadata": {},
     "output_type": "display_data"
    },
    {
     "name": "stdout",
     "output_type": "stream",
     "text": [
      "Data points considered outliers for the feature 'Exchange Rate USD Buy-27':\n"
     ]
    },
    {
     "data": {
      "text/plain": [
       "(50, 480)"
      ]
     },
     "metadata": {},
     "output_type": "display_data"
    },
    {
     "name": "stdout",
     "output_type": "stream",
     "text": [
      "Data points considered outliers for the feature 'Selic-27':\n"
     ]
    },
    {
     "data": {
      "text/plain": [
       "(249, 480)"
      ]
     },
     "metadata": {},
     "output_type": "display_data"
    },
    {
     "name": "stdout",
     "output_type": "stream",
     "text": [
      "Data points considered outliers for the feature 'Bovespa index-27':\n"
     ]
    },
    {
     "data": {
      "text/plain": [
       "(41, 480)"
      ]
     },
     "metadata": {},
     "output_type": "display_data"
    },
    {
     "name": "stdout",
     "output_type": "stream",
     "text": [
      "Data points considered outliers for the feature 'Foreign exchange operations balance-27':\n"
     ]
    },
    {
     "data": {
      "text/plain": [
       "(250, 480)"
      ]
     },
     "metadata": {},
     "output_type": "display_data"
    },
    {
     "name": "stdout",
     "output_type": "stream",
     "text": [
      "Data points considered outliers for the feature 'Nasdaq index-27':\n"
     ]
    },
    {
     "data": {
      "text/plain": [
       "(73, 480)"
      ]
     },
     "metadata": {},
     "output_type": "display_data"
    },
    {
     "name": "stdout",
     "output_type": "stream",
     "text": [
      "Data points considered outliers for the feature 'Bovespa total volume-27':\n"
     ]
    },
    {
     "data": {
      "text/plain": [
       "(72, 480)"
      ]
     },
     "metadata": {},
     "output_type": "display_data"
    },
    {
     "name": "stdout",
     "output_type": "stream",
     "text": [
      "Data points considered outliers for the feature 'International Reserves-27':\n"
     ]
    },
    {
     "data": {
      "text/plain": [
       "(155, 480)"
      ]
     },
     "metadata": {},
     "output_type": "display_data"
    },
    {
     "name": "stdout",
     "output_type": "stream",
     "text": [
      "Data points considered outliers for the feature 'Open-28':\n"
     ]
    },
    {
     "data": {
      "text/plain": [
       "(60, 480)"
      ]
     },
     "metadata": {},
     "output_type": "display_data"
    },
    {
     "name": "stdout",
     "output_type": "stream",
     "text": [
      "Data points considered outliers for the feature 'High-28':\n"
     ]
    },
    {
     "data": {
      "text/plain": [
       "(59, 480)"
      ]
     },
     "metadata": {},
     "output_type": "display_data"
    },
    {
     "name": "stdout",
     "output_type": "stream",
     "text": [
      "Data points considered outliers for the feature 'Low-28':\n"
     ]
    },
    {
     "data": {
      "text/plain": [
       "(64, 480)"
      ]
     },
     "metadata": {},
     "output_type": "display_data"
    },
    {
     "name": "stdout",
     "output_type": "stream",
     "text": [
      "Data points considered outliers for the feature 'Close-28':\n"
     ]
    },
    {
     "data": {
      "text/plain": [
       "(58, 480)"
      ]
     },
     "metadata": {},
     "output_type": "display_data"
    },
    {
     "name": "stdout",
     "output_type": "stream",
     "text": [
      "Data points considered outliers for the feature 'Volume-28':\n"
     ]
    },
    {
     "data": {
      "text/plain": [
       "(76, 480)"
      ]
     },
     "metadata": {},
     "output_type": "display_data"
    },
    {
     "name": "stdout",
     "output_type": "stream",
     "text": [
      "Data points considered outliers for the feature 'Adj Close-28':\n"
     ]
    },
    {
     "data": {
      "text/plain": [
       "(60, 480)"
      ]
     },
     "metadata": {},
     "output_type": "display_data"
    },
    {
     "name": "stdout",
     "output_type": "stream",
     "text": [
      "Data points considered outliers for the feature 'Dow Jones index-28':\n"
     ]
    },
    {
     "data": {
      "text/plain": [
       "(85, 480)"
      ]
     },
     "metadata": {},
     "output_type": "display_data"
    },
    {
     "name": "stdout",
     "output_type": "stream",
     "text": [
      "Data points considered outliers for the feature 'Exchange Rate USD Sell-28':\n"
     ]
    },
    {
     "data": {
      "text/plain": [
       "(47, 480)"
      ]
     },
     "metadata": {},
     "output_type": "display_data"
    },
    {
     "name": "stdout",
     "output_type": "stream",
     "text": [
      "Data points considered outliers for the feature 'BM&F Gold gramme-28':\n"
     ]
    },
    {
     "data": {
      "text/plain": [
       "(84, 480)"
      ]
     },
     "metadata": {},
     "output_type": "display_data"
    },
    {
     "name": "stdout",
     "output_type": "stream",
     "text": [
      "Data points considered outliers for the feature 'Exchange Rate USD Buy-28':\n"
     ]
    },
    {
     "data": {
      "text/plain": [
       "(47, 480)"
      ]
     },
     "metadata": {},
     "output_type": "display_data"
    },
    {
     "name": "stdout",
     "output_type": "stream",
     "text": [
      "Data points considered outliers for the feature 'Selic-28':\n"
     ]
    },
    {
     "data": {
      "text/plain": [
       "(235, 480)"
      ]
     },
     "metadata": {},
     "output_type": "display_data"
    },
    {
     "name": "stdout",
     "output_type": "stream",
     "text": [
      "Data points considered outliers for the feature 'Bovespa index-28':\n"
     ]
    },
    {
     "data": {
      "text/plain": [
       "(47, 480)"
      ]
     },
     "metadata": {},
     "output_type": "display_data"
    },
    {
     "name": "stdout",
     "output_type": "stream",
     "text": [
      "Data points considered outliers for the feature 'Foreign exchange operations balance-28':\n"
     ]
    },
    {
     "data": {
      "text/plain": [
       "(270, 480)"
      ]
     },
     "metadata": {},
     "output_type": "display_data"
    },
    {
     "name": "stdout",
     "output_type": "stream",
     "text": [
      "Data points considered outliers for the feature 'Nasdaq index-28':\n"
     ]
    },
    {
     "data": {
      "text/plain": [
       "(69, 480)"
      ]
     },
     "metadata": {},
     "output_type": "display_data"
    },
    {
     "name": "stdout",
     "output_type": "stream",
     "text": [
      "Data points considered outliers for the feature 'Bovespa total volume-28':\n"
     ]
    },
    {
     "data": {
      "text/plain": [
       "(80, 480)"
      ]
     },
     "metadata": {},
     "output_type": "display_data"
    },
    {
     "name": "stdout",
     "output_type": "stream",
     "text": [
      "Data points considered outliers for the feature 'International Reserves-28':\n"
     ]
    },
    {
     "data": {
      "text/plain": [
       "(147, 480)"
      ]
     },
     "metadata": {},
     "output_type": "display_data"
    },
    {
     "name": "stdout",
     "output_type": "stream",
     "text": [
      "Data points considered outliers for the feature 'Open-29':\n"
     ]
    },
    {
     "data": {
      "text/plain": [
       "(53, 480)"
      ]
     },
     "metadata": {},
     "output_type": "display_data"
    },
    {
     "name": "stdout",
     "output_type": "stream",
     "text": [
      "Data points considered outliers for the feature 'High-29':\n"
     ]
    },
    {
     "data": {
      "text/plain": [
       "(57, 480)"
      ]
     },
     "metadata": {},
     "output_type": "display_data"
    },
    {
     "name": "stdout",
     "output_type": "stream",
     "text": [
      "Data points considered outliers for the feature 'Low-29':\n"
     ]
    },
    {
     "data": {
      "text/plain": [
       "(53, 480)"
      ]
     },
     "metadata": {},
     "output_type": "display_data"
    },
    {
     "name": "stdout",
     "output_type": "stream",
     "text": [
      "Data points considered outliers for the feature 'Close-29':\n"
     ]
    },
    {
     "data": {
      "text/plain": [
       "(56, 480)"
      ]
     },
     "metadata": {},
     "output_type": "display_data"
    },
    {
     "name": "stdout",
     "output_type": "stream",
     "text": [
      "Data points considered outliers for the feature 'Volume-29':\n"
     ]
    },
    {
     "data": {
      "text/plain": [
       "(76, 480)"
      ]
     },
     "metadata": {},
     "output_type": "display_data"
    },
    {
     "name": "stdout",
     "output_type": "stream",
     "text": [
      "Data points considered outliers for the feature 'Adj Close-29':\n"
     ]
    },
    {
     "data": {
      "text/plain": [
       "(59, 480)"
      ]
     },
     "metadata": {},
     "output_type": "display_data"
    },
    {
     "name": "stdout",
     "output_type": "stream",
     "text": [
      "Data points considered outliers for the feature 'Dow Jones index-29':\n"
     ]
    },
    {
     "data": {
      "text/plain": [
       "(82, 480)"
      ]
     },
     "metadata": {},
     "output_type": "display_data"
    },
    {
     "name": "stdout",
     "output_type": "stream",
     "text": [
      "Data points considered outliers for the feature 'Exchange Rate USD Sell-29':\n"
     ]
    },
    {
     "data": {
      "text/plain": [
       "(41, 480)"
      ]
     },
     "metadata": {},
     "output_type": "display_data"
    },
    {
     "name": "stdout",
     "output_type": "stream",
     "text": [
      "Data points considered outliers for the feature 'BM&F Gold gramme-29':\n"
     ]
    },
    {
     "data": {
      "text/plain": [
       "(81, 480)"
      ]
     },
     "metadata": {},
     "output_type": "display_data"
    },
    {
     "name": "stdout",
     "output_type": "stream",
     "text": [
      "Data points considered outliers for the feature 'Exchange Rate USD Buy-29':\n"
     ]
    },
    {
     "data": {
      "text/plain": [
       "(41, 480)"
      ]
     },
     "metadata": {},
     "output_type": "display_data"
    },
    {
     "name": "stdout",
     "output_type": "stream",
     "text": [
      "Data points considered outliers for the feature 'Selic-29':\n"
     ]
    },
    {
     "data": {
      "text/plain": [
       "(221, 480)"
      ]
     },
     "metadata": {},
     "output_type": "display_data"
    },
    {
     "name": "stdout",
     "output_type": "stream",
     "text": [
      "Data points considered outliers for the feature 'Bovespa index-29':\n"
     ]
    },
    {
     "data": {
      "text/plain": [
       "(43, 480)"
      ]
     },
     "metadata": {},
     "output_type": "display_data"
    },
    {
     "name": "stdout",
     "output_type": "stream",
     "text": [
      "Data points considered outliers for the feature 'Foreign exchange operations balance-29':\n"
     ]
    },
    {
     "data": {
      "text/plain": [
       "(270, 480)"
      ]
     },
     "metadata": {},
     "output_type": "display_data"
    },
    {
     "name": "stdout",
     "output_type": "stream",
     "text": [
      "Data points considered outliers for the feature 'Nasdaq index-29':\n"
     ]
    },
    {
     "data": {
      "text/plain": [
       "(79, 480)"
      ]
     },
     "metadata": {},
     "output_type": "display_data"
    },
    {
     "name": "stdout",
     "output_type": "stream",
     "text": [
      "Data points considered outliers for the feature 'Bovespa total volume-29':\n"
     ]
    },
    {
     "data": {
      "text/plain": [
       "(79, 480)"
      ]
     },
     "metadata": {},
     "output_type": "display_data"
    },
    {
     "name": "stdout",
     "output_type": "stream",
     "text": [
      "Data points considered outliers for the feature 'International Reserves-29':\n"
     ]
    },
    {
     "data": {
      "text/plain": [
       "(136, 480)"
      ]
     },
     "metadata": {},
     "output_type": "display_data"
    },
    {
     "name": "stdout",
     "output_type": "stream",
     "text": [
      "Data points considered outliers for the feature 'Open-30':\n"
     ]
    },
    {
     "data": {
      "text/plain": [
       "(55, 480)"
      ]
     },
     "metadata": {},
     "output_type": "display_data"
    },
    {
     "name": "stdout",
     "output_type": "stream",
     "text": [
      "Data points considered outliers for the feature 'High-30':\n"
     ]
    },
    {
     "data": {
      "text/plain": [
       "(55, 480)"
      ]
     },
     "metadata": {},
     "output_type": "display_data"
    },
    {
     "name": "stdout",
     "output_type": "stream",
     "text": [
      "Data points considered outliers for the feature 'Low-30':\n"
     ]
    },
    {
     "data": {
      "text/plain": [
       "(51, 480)"
      ]
     },
     "metadata": {},
     "output_type": "display_data"
    },
    {
     "name": "stdout",
     "output_type": "stream",
     "text": [
      "Data points considered outliers for the feature 'Close-30':\n"
     ]
    },
    {
     "data": {
      "text/plain": [
       "(57, 480)"
      ]
     },
     "metadata": {},
     "output_type": "display_data"
    },
    {
     "name": "stdout",
     "output_type": "stream",
     "text": [
      "Data points considered outliers for the feature 'Volume-30':\n"
     ]
    },
    {
     "data": {
      "text/plain": [
       "(70, 480)"
      ]
     },
     "metadata": {},
     "output_type": "display_data"
    },
    {
     "name": "stdout",
     "output_type": "stream",
     "text": [
      "Data points considered outliers for the feature 'Adj Close-30':\n"
     ]
    },
    {
     "data": {
      "text/plain": [
       "(63, 480)"
      ]
     },
     "metadata": {},
     "output_type": "display_data"
    },
    {
     "name": "stdout",
     "output_type": "stream",
     "text": [
      "Data points considered outliers for the feature 'Dow Jones index-30':\n"
     ]
    },
    {
     "data": {
      "text/plain": [
       "(89, 480)"
      ]
     },
     "metadata": {},
     "output_type": "display_data"
    },
    {
     "name": "stdout",
     "output_type": "stream",
     "text": [
      "Data points considered outliers for the feature 'Exchange Rate USD Sell-30':\n"
     ]
    },
    {
     "data": {
      "text/plain": [
       "(46, 480)"
      ]
     },
     "metadata": {},
     "output_type": "display_data"
    },
    {
     "name": "stdout",
     "output_type": "stream",
     "text": [
      "Data points considered outliers for the feature 'BM&F Gold gramme-30':\n"
     ]
    },
    {
     "data": {
      "text/plain": [
       "(77, 480)"
      ]
     },
     "metadata": {},
     "output_type": "display_data"
    },
    {
     "name": "stdout",
     "output_type": "stream",
     "text": [
      "Data points considered outliers for the feature 'Exchange Rate USD Buy-30':\n"
     ]
    },
    {
     "data": {
      "text/plain": [
       "(46, 480)"
      ]
     },
     "metadata": {},
     "output_type": "display_data"
    },
    {
     "name": "stdout",
     "output_type": "stream",
     "text": [
      "Data points considered outliers for the feature 'Selic-30':\n"
     ]
    },
    {
     "data": {
      "text/plain": [
       "(235, 480)"
      ]
     },
     "metadata": {},
     "output_type": "display_data"
    },
    {
     "name": "stdout",
     "output_type": "stream",
     "text": [
      "Data points considered outliers for the feature 'Bovespa index-30':\n"
     ]
    },
    {
     "data": {
      "text/plain": [
       "(43, 480)"
      ]
     },
     "metadata": {},
     "output_type": "display_data"
    },
    {
     "name": "stdout",
     "output_type": "stream",
     "text": [
      "Data points considered outliers for the feature 'Foreign exchange operations balance-30':\n"
     ]
    },
    {
     "data": {
      "text/plain": [
       "(260, 480)"
      ]
     },
     "metadata": {},
     "output_type": "display_data"
    },
    {
     "name": "stdout",
     "output_type": "stream",
     "text": [
      "Data points considered outliers for the feature 'Nasdaq index-30':\n"
     ]
    },
    {
     "data": {
      "text/plain": [
       "(81, 480)"
      ]
     },
     "metadata": {},
     "output_type": "display_data"
    },
    {
     "name": "stdout",
     "output_type": "stream",
     "text": [
      "Data points considered outliers for the feature 'Bovespa total volume-30':\n"
     ]
    },
    {
     "data": {
      "text/plain": [
       "(75, 480)"
      ]
     },
     "metadata": {},
     "output_type": "display_data"
    },
    {
     "name": "stdout",
     "output_type": "stream",
     "text": [
      "Data points considered outliers for the feature 'International Reserves-30':\n"
     ]
    },
    {
     "data": {
      "text/plain": [
       "(127, 480)"
      ]
     },
     "metadata": {},
     "output_type": "display_data"
    },
    {
     "name": "stdout",
     "output_type": "stream",
     "text": [
      "Total number of data points identified as outliers: 1652\n"
     ]
    },
    {
     "data": {
      "text/plain": [
       "defaultdict(int,\n",
       "            {numpy.datetime64('2008-10-14T00:00:00.000000000'): 167,\n",
       "             numpy.datetime64('2008-10-15T00:00:00.000000000'): 246,\n",
       "             numpy.datetime64('2009-06-02T00:00:00.000000000'): 45,\n",
       "             numpy.datetime64('2015-03-30T00:00:00.000000000'): 21,\n",
       "             numpy.datetime64('2009-08-20T00:00:00.000000000'): 11,\n",
       "             numpy.datetime64('2015-09-04T00:00:00.000000000'): 41,\n",
       "             numpy.datetime64('2010-07-02T00:00:00.000000000'): 30,\n",
       "             numpy.datetime64('2016-04-28T00:00:00.000000000'): 42,\n",
       "             numpy.datetime64('2010-07-26T00:00:00.000000000'): 28,\n",
       "             numpy.datetime64('2009-06-05T00:00:00.000000000'): 20,\n",
       "             numpy.datetime64('2013-04-24T00:00:00.000000000'): 17,\n",
       "             numpy.datetime64('2014-03-06T00:00:00.000000000'): 18,\n",
       "             numpy.datetime64('2010-01-11T00:00:00.000000000'): 4,\n",
       "             numpy.datetime64('2014-08-11T00:00:00.000000000'): 6,\n",
       "             numpy.datetime64('2014-10-29T00:00:00.000000000'): 70,\n",
       "             numpy.datetime64('2015-01-16T00:00:00.000000000'): 11,\n",
       "             numpy.datetime64('2009-11-13T00:00:00.000000000'): 26,\n",
       "             numpy.datetime64('2015-09-10T00:00:00.000000000'): 38,\n",
       "             numpy.datetime64('2010-07-08T00:00:00.000000000'): 8,\n",
       "             numpy.datetime64('2016-05-04T00:00:00.000000000'): 15,\n",
       "             numpy.datetime64('2010-12-13T00:00:00.000000000'): 18,\n",
       "             numpy.datetime64('2011-03-02T00:00:00.000000000'): 42,\n",
       "             numpy.datetime64('2009-10-08T00:00:00.000000000'): 41,\n",
       "             numpy.datetime64('2009-06-29T00:00:00.000000000'): 36,\n",
       "             numpy.datetime64('2012-06-12T00:00:00.000000000'): 24,\n",
       "             numpy.datetime64('2013-12-23T00:00:00.000000000'): 10,\n",
       "             numpy.datetime64('2010-07-22T00:00:00.000000000'): 34,\n",
       "             numpy.datetime64('2014-05-30T00:00:00.000000000'): 2,\n",
       "             numpy.datetime64('2009-03-27T00:00:00.000000000'): 59,\n",
       "             numpy.datetime64('2015-06-29T00:00:00.000000000'): 22,\n",
       "             numpy.datetime64('2015-03-19T00:00:00.000000000'): 58,\n",
       "             numpy.datetime64('2014-12-01T00:00:00.000000000'): 49,\n",
       "             numpy.datetime64('2010-04-26T00:00:00.000000000'): 15,\n",
       "             numpy.datetime64('2010-10-01T00:00:00.000000000'): 32,\n",
       "             numpy.datetime64('2011-05-26T00:00:00.000000000'): 4,\n",
       "             numpy.datetime64('2012-09-11T00:00:00.000000000'): 28,\n",
       "             numpy.datetime64('2012-11-29T00:00:00.000000000'): 3,\n",
       "             numpy.datetime64('2013-07-24T00:00:00.000000000'): 22,\n",
       "             numpy.datetime64('2009-04-02T00:00:00.000000000'): 74,\n",
       "             numpy.datetime64('2015-01-28T00:00:00.000000000'): 35,\n",
       "             numpy.datetime64('2012-08-30T00:00:00.000000000'): 34,\n",
       "             numpy.datetime64('2015-04-17T00:00:00.000000000'): 131,\n",
       "             numpy.datetime64('2015-09-22T00:00:00.000000000'): 75,\n",
       "             numpy.datetime64('2010-07-20T00:00:00.000000000'): 12,\n",
       "             numpy.datetime64('2016-05-16T00:00:00.000000000'): 6,\n",
       "             numpy.datetime64('2014-10-21T00:00:00.000000000'): 52,\n",
       "             numpy.datetime64('2012-01-24T00:00:00.000000000'): 32,\n",
       "             numpy.datetime64('2012-04-12T00:00:00.000000000'): 10,\n",
       "             numpy.datetime64('2012-12-05T00:00:00.000000000'): 7,\n",
       "             numpy.datetime64('2014-06-11T00:00:00.000000000'): 9,\n",
       "             numpy.datetime64('2014-08-29T00:00:00.000000000'): 23,\n",
       "             numpy.datetime64('2009-04-08T00:00:00.000000000'): 37,\n",
       "             numpy.datetime64('2015-02-03T00:00:00.000000000'): 35,\n",
       "             numpy.datetime64('2015-04-23T00:00:00.000000000'): 113,\n",
       "             numpy.datetime64('2009-05-05T00:00:00.000000000'): 76,\n",
       "             numpy.datetime64('2009-12-01T00:00:00.000000000'): 22,\n",
       "             numpy.datetime64('2010-02-18T00:00:00.000000000'): 5,\n",
       "             numpy.datetime64('2016-03-04T00:00:00.000000000'): 246,\n",
       "             numpy.datetime64('2009-11-25T00:00:00.000000000'): 19,\n",
       "             numpy.datetime64('2015-07-02T00:00:00.000000000'): 12,\n",
       "             numpy.datetime64('2011-06-07T00:00:00.000000000'): 21,\n",
       "             numpy.datetime64('2011-08-25T00:00:00.000000000'): 108,\n",
       "             numpy.datetime64('2012-01-30T00:00:00.000000000'): 19,\n",
       "             numpy.datetime64('2012-04-18T00:00:00.000000000'): 54,\n",
       "             numpy.datetime64('2012-07-06T00:00:00.000000000'): 22,\n",
       "             numpy.datetime64('2012-12-11T00:00:00.000000000'): 7,\n",
       "             numpy.datetime64('2013-02-28T00:00:00.000000000'): 7,\n",
       "             numpy.datetime64('2008-11-07T00:00:00.000000000'): 72,\n",
       "             numpy.datetime64('2015-04-14T00:00:00.000000000'): 124,\n",
       "             numpy.datetime64('2014-09-04T00:00:00.000000000'): 9,\n",
       "             numpy.datetime64('2009-07-02T00:00:00.000000000'): 41,\n",
       "             numpy.datetime64('2015-06-17T00:00:00.000000000'): 25,\n",
       "             numpy.datetime64('2009-12-07T00:00:00.000000000'): 3,\n",
       "             numpy.datetime64('2010-05-14T00:00:00.000000000'): 15,\n",
       "             numpy.datetime64('2016-03-10T00:00:00.000000000'): 195,\n",
       "             numpy.datetime64('2010-10-19T00:00:00.000000000'): 31,\n",
       "             numpy.datetime64('2011-06-13T00:00:00.000000000'): 17,\n",
       "             numpy.datetime64('2011-08-31T00:00:00.000000000'): 56,\n",
       "             numpy.datetime64('2011-11-18T00:00:00.000000000'): 13,\n",
       "             numpy.datetime64('2013-02-04T00:00:00.000000000'): 2,\n",
       "             numpy.datetime64('2012-04-24T00:00:00.000000000'): 30,\n",
       "             numpy.datetime64('2012-07-12T00:00:00.000000000'): 40,\n",
       "             numpy.datetime64('2012-12-17T00:00:00.000000000'): 18,\n",
       "             numpy.datetime64('2013-03-06T00:00:00.000000000'): 34,\n",
       "             numpy.datetime64('2013-05-24T00:00:00.000000000'): 2,\n",
       "             numpy.datetime64('2013-10-29T00:00:00.000000000'): 16,\n",
       "             numpy.datetime64('2014-01-16T00:00:00.000000000'): 22,\n",
       "             numpy.datetime64('2014-06-23T00:00:00.000000000'): 4,\n",
       "             numpy.datetime64('2014-09-10T00:00:00.000000000'): 10,\n",
       "             numpy.datetime64('2014-11-28T00:00:00.000000000'): 17,\n",
       "             numpy.datetime64('2009-07-08T00:00:00.000000000'): 32,\n",
       "             numpy.datetime64('2015-05-05T00:00:00.000000000'): 109,\n",
       "             numpy.datetime64('2015-07-23T00:00:00.000000000'): 20,\n",
       "             numpy.datetime64('2016-03-16T00:00:00.000000000'): 129,\n",
       "             numpy.datetime64('2010-10-25T00:00:00.000000000'): 20,\n",
       "             numpy.datetime64('2011-01-12T00:00:00.000000000'): 28,\n",
       "             numpy.datetime64('2011-09-06T00:00:00.000000000'): 82,\n",
       "             numpy.datetime64('2011-06-16T00:00:00.000000000'): 14,\n",
       "             numpy.datetime64('2012-04-30T00:00:00.000000000'): 32,\n",
       "             numpy.datetime64('2012-07-18T00:00:00.000000000'): 37,\n",
       "             numpy.datetime64('2012-10-05T00:00:00.000000000'): 14,\n",
       "             numpy.datetime64('2013-03-12T00:00:00.000000000'): 4,\n",
       "             numpy.datetime64('2009-11-09T00:00:00.000000000'): 16,\n",
       "             numpy.datetime64('2015-12-10T00:00:00.000000000'): 2,\n",
       "             numpy.datetime64('2013-11-04T00:00:00.000000000'): 3,\n",
       "             numpy.datetime64('2011-11-08T00:00:00.000000000'): 41,\n",
       "             numpy.datetime64('2014-01-22T00:00:00.000000000'): 33,\n",
       "             numpy.datetime64('2014-04-11T00:00:00.000000000'): 23,\n",
       "             numpy.datetime64('2008-11-19T00:00:00.000000000'): 151,\n",
       "             numpy.datetime64('2009-02-06T00:00:00.000000000'): 53,\n",
       "             numpy.datetime64('2014-12-04T00:00:00.000000000'): 21,\n",
       "             numpy.datetime64('2009-07-14T00:00:00.000000000'): 13,\n",
       "             numpy.datetime64('2015-05-11T00:00:00.000000000'): 48,\n",
       "             numpy.datetime64('2015-07-29T00:00:00.000000000'): 33,\n",
       "             numpy.datetime64('2010-03-08T00:00:00.000000000'): 3,\n",
       "             numpy.datetime64('2010-05-26T00:00:00.000000000'): 44,\n",
       "             numpy.datetime64('2016-03-22T00:00:00.000000000'): 124,\n",
       "             numpy.datetime64('2016-06-09T00:00:00.000000000'): 11,\n",
       "             numpy.datetime64('2011-01-18T00:00:00.000000000'): 8,\n",
       "             numpy.datetime64('2009-04-27T00:00:00.000000000'): 15,\n",
       "             numpy.datetime64('2016-03-29T00:00:00.000000000'): 104,\n",
       "             numpy.datetime64('2011-09-12T00:00:00.000000000'): 61,\n",
       "             numpy.datetime64('2011-11-30T00:00:00.000000000'): 29,\n",
       "             numpy.datetime64('2012-02-17T00:00:00.000000000'): 14,\n",
       "             numpy.datetime64('2012-08-24T00:00:00.000000000'): 7,\n",
       "             numpy.datetime64('2012-10-11T00:00:00.000000000'): 34,\n",
       "             numpy.datetime64('2013-06-05T00:00:00.000000000'): 28,\n",
       "             numpy.datetime64('2013-08-23T00:00:00.000000000'): 16,\n",
       "             numpy.datetime64('2014-01-28T00:00:00.000000000'): 13,\n",
       "             numpy.datetime64('2014-04-17T00:00:00.000000000'): 13,\n",
       "             numpy.datetime64('2008-11-25T00:00:00.000000000'): 58,\n",
       "             numpy.datetime64('2014-09-22T00:00:00.000000000'): 6,\n",
       "             numpy.datetime64('2013-07-12T00:00:00.000000000'): 27,\n",
       "             numpy.datetime64('2014-12-10T00:00:00.000000000'): 41,\n",
       "             numpy.datetime64('2009-07-20T00:00:00.000000000'): 28,\n",
       "             numpy.datetime64('2009-10-07T00:00:00.000000000'): 17,\n",
       "             numpy.datetime64('2015-08-04T00:00:00.000000000'): 35,\n",
       "             numpy.datetime64('2010-06-01T00:00:00.000000000'): 27,\n",
       "             numpy.datetime64('2016-03-28T00:00:00.000000000'): 110,\n",
       "             numpy.datetime64('2016-06-15T00:00:00.000000000'): 39,\n",
       "             numpy.datetime64('2011-01-24T00:00:00.000000000'): 23,\n",
       "             numpy.datetime64('2011-07-01T00:00:00.000000000'): 15,\n",
       "             numpy.datetime64('2011-12-06T00:00:00.000000000'): 31,\n",
       "             numpy.datetime64('2012-02-23T00:00:00.000000000'): 4,\n",
       "             numpy.datetime64('2012-07-30T00:00:00.000000000'): 29,\n",
       "             numpy.datetime64('2012-10-17T00:00:00.000000000'): 41,\n",
       "             numpy.datetime64('2013-01-04T00:00:00.000000000'): 12,\n",
       "             numpy.datetime64('2013-06-11T00:00:00.000000000'): 21,\n",
       "             numpy.datetime64('2013-08-29T00:00:00.000000000'): 32,\n",
       "             numpy.datetime64('2014-04-23T00:00:00.000000000'): 10,\n",
       "             numpy.datetime64('2014-07-11T00:00:00.000000000'): 7,\n",
       "             numpy.datetime64('2009-02-18T00:00:00.000000000'): 62,\n",
       "             numpy.datetime64('2014-12-16T00:00:00.000000000'): 147,\n",
       "             numpy.datetime64('2015-03-05T00:00:00.000000000'): 42,\n",
       "             numpy.datetime64('2009-10-13T00:00:00.000000000'): 55,\n",
       "             numpy.datetime64('2015-08-10T00:00:00.000000000'): 29,\n",
       "             numpy.datetime64('2010-06-07T00:00:00.000000000'): 36,\n",
       "             numpy.datetime64('2010-10-07T00:00:00.000000000'): 58,\n",
       "             numpy.datetime64('2010-08-25T00:00:00.000000000'): 4,\n",
       "             numpy.datetime64('2014-08-19T00:00:00.000000000'): 5,\n",
       "             numpy.datetime64('2010-11-12T00:00:00.000000000'): 5,\n",
       "             numpy.datetime64('2011-07-07T00:00:00.000000000'): 3,\n",
       "             numpy.datetime64('2011-09-14T00:00:00.000000000'): 54,\n",
       "             numpy.datetime64('2013-08-06T00:00:00.000000000'): 8,\n",
       "             numpy.datetime64('2012-02-29T00:00:00.000000000'): 8,\n",
       "             numpy.datetime64('2012-05-18T00:00:00.000000000'): 22,\n",
       "             numpy.datetime64('2012-10-23T00:00:00.000000000'): 16,\n",
       "             numpy.datetime64('2013-01-10T00:00:00.000000000'): 2,\n",
       "             numpy.datetime64('2010-10-08T00:00:00.000000000'): 29,\n",
       "             numpy.datetime64('2013-06-17T00:00:00.000000000'): 15,\n",
       "             numpy.datetime64('2013-09-04T00:00:00.000000000'): 24,\n",
       "             numpy.datetime64('2014-04-29T00:00:00.000000000'): 8,\n",
       "             numpy.datetime64('2014-07-17T00:00:00.000000000'): 23,\n",
       "             numpy.datetime64('2015-06-05T00:00:00.000000000'): 19,\n",
       "             numpy.datetime64('2009-05-14T00:00:00.000000000'): 37,\n",
       "             numpy.datetime64('2015-03-11T00:00:00.000000000'): 63,\n",
       "             numpy.datetime64('2015-05-29T00:00:00.000000000'): 4,\n",
       "             numpy.datetime64('2010-01-06T00:00:00.000000000'): 6,\n",
       "             numpy.datetime64('2010-03-26T00:00:00.000000000'): 13,\n",
       "             numpy.datetime64('2010-08-31T00:00:00.000000000'): 4,\n",
       "             numpy.datetime64('2015-02-27T00:00:00.000000000'): 13,\n",
       "             numpy.datetime64('2010-11-18T00:00:00.000000000'): 23,\n",
       "             numpy.datetime64('2011-09-30T00:00:00.000000000'): 47,\n",
       "             numpy.datetime64('2013-12-17T00:00:00.000000000'): 13,\n",
       "             numpy.datetime64('2012-03-06T00:00:00.000000000'): 6,\n",
       "             numpy.datetime64('2012-05-24T00:00:00.000000000'): 20,\n",
       "             numpy.datetime64('2013-01-16T00:00:00.000000000'): 1,\n",
       "             numpy.datetime64('2013-04-05T00:00:00.000000000'): 14,\n",
       "             numpy.datetime64('2013-09-10T00:00:00.000000000'): 18,\n",
       "             numpy.datetime64('2014-05-05T00:00:00.000000000'): 3,\n",
       "             numpy.datetime64('2014-07-23T00:00:00.000000000'): 8,\n",
       "             numpy.datetime64('2014-10-10T00:00:00.000000000'): 18,\n",
       "             numpy.datetime64('2009-05-20T00:00:00.000000000'): 22,\n",
       "             numpy.datetime64('2015-03-17T00:00:00.000000000'): 67,\n",
       "             numpy.datetime64('2010-01-12T00:00:00.000000000'): 11,\n",
       "             numpy.datetime64('2016-04-15T00:00:00.000000000'): 47,\n",
       "             numpy.datetime64('2010-11-24T00:00:00.000000000'): 11,\n",
       "             numpy.datetime64('2011-02-11T00:00:00.000000000'): 24,\n",
       "             numpy.datetime64('2011-07-19T00:00:00.000000000'): 1,\n",
       "             numpy.datetime64('2011-10-06T00:00:00.000000000'): 20,\n",
       "             numpy.datetime64('2012-03-12T00:00:00.000000000'): 34,\n",
       "             numpy.datetime64('2012-05-30T00:00:00.000000000'): 9,\n",
       "             numpy.datetime64('2015-06-01T00:00:00.000000000'): 1,\n",
       "             numpy.datetime64('2012-08-17T00:00:00.000000000'): 10,\n",
       "             numpy.datetime64('2013-01-22T00:00:00.000000000'): 5,\n",
       "             numpy.datetime64('2011-03-14T00:00:00.000000000'): 52,\n",
       "             numpy.datetime64('2013-04-11T00:00:00.000000000'): 10,\n",
       "             numpy.datetime64('2013-09-16T00:00:00.000000000'): 19,\n",
       "             numpy.datetime64('2013-12-04T00:00:00.000000000'): 30,\n",
       "             numpy.datetime64('2014-02-21T00:00:00.000000000'): 6,\n",
       "             numpy.datetime64('2008-12-19T00:00:00.000000000'): 38,\n",
       "             numpy.datetime64('2014-10-16T00:00:00.000000000'): 23,\n",
       "             numpy.datetime64('2009-05-26T00:00:00.000000000'): 22,\n",
       "             numpy.datetime64('2009-08-13T00:00:00.000000000'): 19,\n",
       "             numpy.datetime64('2015-06-10T00:00:00.000000000'): 19,\n",
       "             numpy.datetime64('2015-08-28T00:00:00.000000000'): 25,\n",
       "             numpy.datetime64('2010-04-07T00:00:00.000000000'): 2,\n",
       "             numpy.datetime64('2010-06-25T00:00:00.000000000'): 20,\n",
       "             numpy.datetime64('2010-11-30T00:00:00.000000000'): 9,\n",
       "             numpy.datetime64('2011-02-17T00:00:00.000000000'): 21,\n",
       "             numpy.datetime64('2011-07-25T00:00:00.000000000'): 19,\n",
       "             numpy.datetime64('2012-06-05T00:00:00.000000000'): 30,\n",
       "             numpy.datetime64('2012-08-23T00:00:00.000000000'): 5,\n",
       "             numpy.datetime64('2013-01-28T00:00:00.000000000'): 15,\n",
       "             numpy.datetime64('2013-04-17T00:00:00.000000000'): 53,\n",
       "             numpy.datetime64('2013-07-05T00:00:00.000000000'): 6,\n",
       "             numpy.datetime64('2013-12-10T00:00:00.000000000'): 20,\n",
       "             numpy.datetime64('2014-02-27T00:00:00.000000000'): 24,\n",
       "             numpy.datetime64('2011-06-01T00:00:00.000000000'): 5,\n",
       "             numpy.datetime64('2014-08-04T00:00:00.000000000'): 3,\n",
       "             numpy.datetime64('2014-10-22T00:00:00.000000000'): 33,\n",
       "             numpy.datetime64('2009-06-01T00:00:00.000000000'): 47,\n",
       "             numpy.datetime64('2009-08-19T00:00:00.000000000'): 15,\n",
       "             numpy.datetime64('2015-06-16T00:00:00.000000000'): 21,\n",
       "             numpy.datetime64('2015-09-03T00:00:00.000000000'): 21,\n",
       "             numpy.datetime64('2010-04-13T00:00:00.000000000'): 7,\n",
       "             numpy.datetime64('2010-07-01T00:00:00.000000000'): 33,\n",
       "             numpy.datetime64('2016-04-27T00:00:00.000000000'): 53,\n",
       "             numpy.datetime64('2010-12-06T00:00:00.000000000'): 1,\n",
       "             numpy.datetime64('2011-02-23T00:00:00.000000000'): 46,\n",
       "             numpy.datetime64('2011-10-18T00:00:00.000000000'): 8,\n",
       "             numpy.datetime64('2012-01-05T00:00:00.000000000'): 6,\n",
       "             numpy.datetime64('2012-06-11T00:00:00.000000000'): 25,\n",
       "             numpy.datetime64('2012-08-29T00:00:00.000000000'): 22,\n",
       "             numpy.datetime64('2012-11-16T00:00:00.000000000'): 8,\n",
       "             numpy.datetime64('2013-04-23T00:00:00.000000000'): 21,\n",
       "             numpy.datetime64('2013-07-11T00:00:00.000000000'): 29,\n",
       "             numpy.datetime64('2013-12-16T00:00:00.000000000'): 19,\n",
       "             numpy.datetime64('2014-03-05T00:00:00.000000000'): 21,\n",
       "             numpy.datetime64('2014-05-23T00:00:00.000000000'): 1,\n",
       "             numpy.datetime64('2009-03-20T00:00:00.000000000'): 39,\n",
       "             numpy.datetime64('2015-01-15T00:00:00.000000000'): 17,\n",
       "             numpy.datetime64('2009-08-25T00:00:00.000000000'): 6,\n",
       "             numpy.datetime64('2015-06-22T00:00:00.000000000'): 12,\n",
       "             numpy.datetime64('2015-09-09T00:00:00.000000000'): 6,\n",
       "             numpy.datetime64('2011-08-19T00:00:00.000000000'): 147,\n",
       "             numpy.datetime64('2015-11-27T00:00:00.000000000'): 5,\n",
       "             numpy.datetime64('2010-07-07T00:00:00.000000000'): 19,\n",
       "             numpy.datetime64('2016-05-03T00:00:00.000000000'): 17,\n",
       "             numpy.datetime64('2011-09-02T00:00:00.000000000'): 98,\n",
       "             numpy.datetime64('2011-03-01T00:00:00.000000000'): 39,\n",
       "             numpy.datetime64('2014-12-30T00:00:00.000000000'): 40,\n",
       "             numpy.datetime64('2012-01-11T00:00:00.000000000'): 6,\n",
       "             numpy.datetime64('2012-03-30T00:00:00.000000000'): 25,\n",
       "             numpy.datetime64('2010-10-14T00:00:00.000000000'): 41,\n",
       "             numpy.datetime64('2012-09-04T00:00:00.000000000'): 32,\n",
       "             numpy.datetime64('2013-04-29T00:00:00.000000000'): 48,\n",
       "             numpy.datetime64('2013-07-17T00:00:00.000000000'): 25,\n",
       "             numpy.datetime64('2013-10-04T00:00:00.000000000'): 6,\n",
       "             numpy.datetime64('2009-02-19T00:00:00.000000000'): 73,\n",
       "             numpy.datetime64('2014-03-11T00:00:00.000000000'): 16,\n",
       "             numpy.datetime64('2014-05-29T00:00:00.000000000'): 1,\n",
       "             numpy.datetime64('2009-01-06T00:00:00.000000000'): 151,\n",
       "             numpy.datetime64('2014-11-03T00:00:00.000000000'): 45,\n",
       "             numpy.datetime64('2015-01-21T00:00:00.000000000'): 6,\n",
       "             numpy.datetime64('2015-04-10T00:00:00.000000000'): 86,\n",
       "             numpy.datetime64('2009-11-18T00:00:00.000000000'): 31,\n",
       "             numpy.datetime64('2010-02-05T00:00:00.000000000'): 8,\n",
       "             numpy.datetime64('2015-12-03T00:00:00.000000000'): 6,\n",
       "             numpy.datetime64('2010-07-13T00:00:00.000000000'): 23,\n",
       "             numpy.datetime64('2010-09-30T00:00:00.000000000'): 43,\n",
       "             numpy.datetime64('2015-12-07T00:00:00.000000000'): 2,\n",
       "             numpy.datetime64('2011-05-25T00:00:00.000000000'): 10,\n",
       "             numpy.datetime64('2008-11-13T00:00:00.000000000'): 82,\n",
       "             numpy.datetime64('2012-04-05T00:00:00.000000000'): 22,\n",
       "             numpy.datetime64('2012-09-10T00:00:00.000000000'): 38,\n",
       "             numpy.datetime64('2012-11-28T00:00:00.000000000'): 2,\n",
       "             numpy.datetime64('2013-07-23T00:00:00.000000000'): 15,\n",
       "             numpy.datetime64('2013-10-10T00:00:00.000000000'): 39,\n",
       "             numpy.datetime64('2014-03-17T00:00:00.000000000'): 12,\n",
       "             numpy.datetime64('2014-06-04T00:00:00.000000000'): 3,\n",
       "             numpy.datetime64('2009-01-12T00:00:00.000000000'): 28,\n",
       "             numpy.datetime64('2009-04-01T00:00:00.000000000'): 38,\n",
       "             numpy.datetime64('2015-01-27T00:00:00.000000000'): 18,\n",
       "             numpy.datetime64('2015-04-16T00:00:00.000000000'): 144,\n",
       "             numpy.datetime64('2009-11-24T00:00:00.000000000'): 21,\n",
       "             numpy.datetime64('2015-09-21T00:00:00.000000000'): 44,\n",
       "             numpy.datetime64('2015-12-09T00:00:00.000000000'): 25,\n",
       "             numpy.datetime64('2016-02-26T00:00:00.000000000'): 17,\n",
       "             numpy.datetime64('2010-10-06T00:00:00.000000000'): 56,\n",
       "             numpy.datetime64('2011-05-31T00:00:00.000000000'): 5,\n",
       "             numpy.datetime64('2011-08-18T00:00:00.000000000'): 155,\n",
       "             numpy.datetime64('2012-01-23T00:00:00.000000000'): 35,\n",
       "             numpy.datetime64('2012-04-11T00:00:00.000000000'): 10,\n",
       "             numpy.datetime64('2012-06-29T00:00:00.000000000'): 26,\n",
       "             numpy.datetime64('2009-06-08T00:00:00.000000000'): 8,\n",
       "             numpy.datetime64('2013-02-21T00:00:00.000000000'): 10,\n",
       "             numpy.datetime64('2013-07-29T00:00:00.000000000'): 15,\n",
       "             numpy.datetime64('2013-10-16T00:00:00.000000000'): 54,\n",
       "             numpy.datetime64('2014-01-03T00:00:00.000000000'): 9,\n",
       "             numpy.datetime64('2014-07-21T00:00:00.000000000'): 36,\n",
       "             numpy.datetime64('2008-10-31T00:00:00.000000000'): 123,\n",
       "             numpy.datetime64('2014-08-28T00:00:00.000000000'): 35,\n",
       "             numpy.datetime64('2009-04-07T00:00:00.000000000'): 42,\n",
       "             numpy.datetime64('2009-06-25T00:00:00.000000000'): 23,\n",
       "             numpy.datetime64('2015-04-22T00:00:00.000000000'): 118,\n",
       "             numpy.datetime64('2015-07-10T00:00:00.000000000'): 10,\n",
       "             numpy.datetime64('2010-02-17T00:00:00.000000000'): 1,\n",
       "             numpy.datetime64('2015-12-15T00:00:00.000000000'): 30,\n",
       "             numpy.datetime64('2016-03-03T00:00:00.000000000'): 199,\n",
       "             numpy.datetime64('2010-12-30T00:00:00.000000000'): 17,\n",
       "             numpy.datetime64('2011-06-06T00:00:00.000000000'): 1,\n",
       "             numpy.datetime64('2011-08-24T00:00:00.000000000'): 98,\n",
       "             numpy.datetime64('2011-11-11T00:00:00.000000000'): 26,\n",
       "             numpy.datetime64('2012-04-17T00:00:00.000000000'): 20,\n",
       "             numpy.datetime64('2012-07-05T00:00:00.000000000'): 15,\n",
       "             numpy.datetime64('2012-12-10T00:00:00.000000000'): 5,\n",
       "             numpy.datetime64('2013-02-27T00:00:00.000000000'): 2,\n",
       "             numpy.datetime64('2014-12-22T00:00:00.000000000'): 46,\n",
       "             numpy.datetime64('2013-10-22T00:00:00.000000000'): 21,\n",
       "             numpy.datetime64('2014-01-09T00:00:00.000000000'): 4,\n",
       "             numpy.datetime64('2009-08-26T00:00:00.000000000'): 8,\n",
       "             numpy.datetime64('2008-11-06T00:00:00.000000000'): 87,\n",
       "             numpy.datetime64('2014-09-03T00:00:00.000000000'): 39,\n",
       "             numpy.datetime64('2014-11-21T00:00:00.000000000'): 38,\n",
       "             numpy.datetime64('2009-07-01T00:00:00.000000000'): 47,\n",
       "             numpy.datetime64('2015-04-28T00:00:00.000000000'): 99,\n",
       "             numpy.datetime64('2015-07-16T00:00:00.000000000'): 12,\n",
       "             numpy.datetime64('2010-02-23T00:00:00.000000000'): 3,\n",
       "             numpy.datetime64('2010-05-13T00:00:00.000000000'): 23,\n",
       "             numpy.datetime64('2016-03-09T00:00:00.000000000'): 189,\n",
       "             numpy.datetime64('2016-05-27T00:00:00.000000000'): 2,\n",
       "             numpy.datetime64('2011-01-05T00:00:00.000000000'): 3,\n",
       "             numpy.datetime64('2011-03-25T00:00:00.000000000'): 25,\n",
       "             numpy.datetime64('2011-08-30T00:00:00.000000000'): 73,\n",
       "             numpy.datetime64('2011-11-17T00:00:00.000000000'): 14,\n",
       "             numpy.datetime64('2012-04-23T00:00:00.000000000'): 36,\n",
       "             numpy.datetime64('2012-07-11T00:00:00.000000000'): 3,\n",
       "             numpy.datetime64('2012-09-28T00:00:00.000000000'): 14,\n",
       "             numpy.datetime64('2009-10-19T00:00:00.000000000'): 54,\n",
       "             numpy.datetime64('2013-05-23T00:00:00.000000000'): 5,\n",
       "             numpy.datetime64('2013-10-28T00:00:00.000000000'): 46,\n",
       "             numpy.datetime64('2014-01-15T00:00:00.000000000'): 6,\n",
       "             numpy.datetime64('2014-04-04T00:00:00.000000000'): 25,\n",
       "             numpy.datetime64('2008-11-12T00:00:00.000000000'): 116,\n",
       "             numpy.datetime64('2009-01-30T00:00:00.000000000'): 62,\n",
       "             numpy.datetime64('2014-11-27T00:00:00.000000000'): 6,\n",
       "             numpy.datetime64('2009-07-07T00:00:00.000000000'): 39,\n",
       "             numpy.datetime64('2015-05-04T00:00:00.000000000'): 98,\n",
       "             numpy.datetime64('2015-06-23T00:00:00.000000000'): 7,\n",
       "             numpy.datetime64('2015-07-22T00:00:00.000000000'): 13,\n",
       "             numpy.datetime64('2010-03-01T00:00:00.000000000'): 7,\n",
       "             numpy.datetime64('2010-05-19T00:00:00.000000000'): 12,\n",
       "             numpy.datetime64('2010-08-06T00:00:00.000000000'): 14,\n",
       "             numpy.datetime64('2011-01-11T00:00:00.000000000'): 1,\n",
       "             numpy.datetime64('2010-01-14T00:00:00.000000000'): 14,\n",
       "             numpy.datetime64('2011-11-23T00:00:00.000000000'): 35,\n",
       "             numpy.datetime64('2012-02-10T00:00:00.000000000'): 54,\n",
       "             numpy.datetime64('2012-07-17T00:00:00.000000000'): 46,\n",
       "             numpy.datetime64('2012-10-04T00:00:00.000000000'): 15,\n",
       "             numpy.datetime64('2013-03-11T00:00:00.000000000'): 5,\n",
       "             numpy.datetime64('2013-05-29T00:00:00.000000000'): 2,\n",
       "             numpy.datetime64('2013-08-16T00:00:00.000000000'): 25,\n",
       "             numpy.datetime64('2014-01-21T00:00:00.000000000'): 23,\n",
       "             numpy.datetime64('2014-04-10T00:00:00.000000000'): 30,\n",
       "             numpy.datetime64('2008-11-18T00:00:00.000000000'): 85,\n",
       "             numpy.datetime64('2009-02-05T00:00:00.000000000'): 40,\n",
       "             numpy.datetime64('2014-12-03T00:00:00.000000000'): 8,\n",
       "             numpy.datetime64('2009-07-13T00:00:00.000000000'): 28,\n",
       "             numpy.datetime64('2009-09-30T00:00:00.000000000'): 8,\n",
       "             numpy.datetime64('2009-12-18T00:00:00.000000000'): 4,\n",
       "             numpy.datetime64('2010-05-25T00:00:00.000000000'): 38,\n",
       "             numpy.datetime64('2016-03-21T00:00:00.000000000'): 147,\n",
       "             numpy.datetime64('2016-06-08T00:00:00.000000000'): 28,\n",
       "             numpy.datetime64('2014-10-28T00:00:00.000000000'): 59,\n",
       "             numpy.datetime64('2012-09-17T00:00:00.000000000'): 56,\n",
       "             numpy.datetime64('2009-03-26T00:00:00.000000000'): 63,\n",
       "             numpy.datetime64('2011-06-24T00:00:00.000000000'): 10,\n",
       "             numpy.datetime64('2015-09-11T00:00:00.000000000'): 34,\n",
       "             numpy.datetime64('2011-11-29T00:00:00.000000000'): 10,\n",
       "             numpy.datetime64('2012-02-16T00:00:00.000000000'): 17,\n",
       "             numpy.datetime64('2012-07-23T00:00:00.000000000'): 24,\n",
       "             numpy.datetime64('2012-10-10T00:00:00.000000000'): 44,\n",
       "             numpy.datetime64('2012-12-28T00:00:00.000000000'): 10,\n",
       "             numpy.datetime64('2009-08-07T00:00:00.000000000'): 25,\n",
       "             numpy.datetime64('2013-06-04T00:00:00.000000000'): 24,\n",
       "             numpy.datetime64('2010-02-11T00:00:00.000000000'): 2,\n",
       "             numpy.datetime64('2013-08-22T00:00:00.000000000'): 38,\n",
       "             numpy.datetime64('2014-01-27T00:00:00.000000000'): 17,\n",
       "             numpy.datetime64('2014-04-16T00:00:00.000000000'): 36,\n",
       "             numpy.datetime64('2008-11-24T00:00:00.000000000'): 129,\n",
       "             numpy.datetime64('2009-02-11T00:00:00.000000000'): 30,\n",
       "             numpy.datetime64('2014-12-09T00:00:00.000000000'): 47,\n",
       "             numpy.datetime64('2015-02-26T00:00:00.000000000'): 12,\n",
       "             numpy.datetime64('2009-10-06T00:00:00.000000000'): 12,\n",
       "             numpy.datetime64('2015-08-03T00:00:00.000000000'): 30,\n",
       "             numpy.datetime64('2010-08-18T00:00:00.000000000'): 22,\n",
       "             numpy.datetime64('2010-11-05T00:00:00.000000000'): 6,\n",
       "             numpy.datetime64('2011-06-30T00:00:00.000000000'): 13,\n",
       "             numpy.datetime64('2011-12-05T00:00:00.000000000'): 38,\n",
       "             numpy.datetime64('2012-05-11T00:00:00.000000000'): 17,\n",
       "             numpy.datetime64('2010-04-20T00:00:00.000000000'): 2,\n",
       "             numpy.datetime64('2012-10-16T00:00:00.000000000'): 22,\n",
       "             numpy.datetime64('2013-01-03T00:00:00.000000000'): 5,\n",
       "             numpy.datetime64('2013-06-10T00:00:00.000000000'): 21,\n",
       "             numpy.datetime64('2013-08-28T00:00:00.000000000'): 17,\n",
       "             numpy.datetime64('2014-04-22T00:00:00.000000000'): 11,\n",
       "             numpy.datetime64('2014-07-10T00:00:00.000000000'): 16,\n",
       "             numpy.datetime64('2014-10-24T00:00:00.000000000'): 44,\n",
       "             numpy.datetime64('2009-02-17T00:00:00.000000000'): 70,\n",
       "             numpy.datetime64('2009-05-07T00:00:00.000000000'): 37,\n",
       "             numpy.datetime64('2015-03-04T00:00:00.000000000'): 28,\n",
       "             numpy.datetime64('2015-05-22T00:00:00.000000000'): 8,\n",
       "             numpy.datetime64('2009-12-30T00:00:00.000000000'): 6,\n",
       "             numpy.datetime64('2010-03-19T00:00:00.000000000'): 4,\n",
       "             numpy.datetime64('2010-08-24T00:00:00.000000000'): 1,\n",
       "             numpy.datetime64('2014-07-18T00:00:00.000000000'): 61,\n",
       "             numpy.datetime64('2010-11-11T00:00:00.000000000'): 9,\n",
       "             numpy.datetime64('2011-07-06T00:00:00.000000000'): 16,\n",
       "             numpy.datetime64('2011-09-23T00:00:00.000000000'): 93,\n",
       "             numpy.datetime64('2012-02-28T00:00:00.000000000'): 10,\n",
       "             numpy.datetime64('2012-05-17T00:00:00.000000000'): 23,\n",
       "             numpy.datetime64('2012-10-22T00:00:00.000000000'): 19,\n",
       "             numpy.datetime64('2013-01-09T00:00:00.000000000'): 2,\n",
       "             numpy.datetime64('2013-09-03T00:00:00.000000000'): 23,\n",
       "             numpy.datetime64('2013-02-22T00:00:00.000000000'): 18,\n",
       "             numpy.datetime64('2013-11-21T00:00:00.000000000'): 12,\n",
       "             numpy.datetime64('2014-04-28T00:00:00.000000000'): 6,\n",
       "             numpy.datetime64('2014-07-16T00:00:00.000000000'): 15,\n",
       "             numpy.datetime64('2014-10-03T00:00:00.000000000'): 25,\n",
       "             numpy.datetime64('2009-05-13T00:00:00.000000000'): 29,\n",
       "             numpy.datetime64('2015-03-10T00:00:00.000000000'): 72,\n",
       "             numpy.datetime64('2015-05-28T00:00:00.000000000'): 12,\n",
       "             numpy.datetime64('2010-01-05T00:00:00.000000000'): 10,\n",
       "             numpy.datetime64('2010-08-30T00:00:00.000000000'): 5,\n",
       "             numpy.datetime64('2010-11-17T00:00:00.000000000'): 11,\n",
       "             numpy.datetime64('2011-02-04T00:00:00.000000000'): 30,\n",
       "             numpy.datetime64('2011-07-12T00:00:00.000000000'): 1,\n",
       "             numpy.datetime64('2011-09-29T00:00:00.000000000'): 47,\n",
       "             numpy.datetime64('2012-03-05T00:00:00.000000000'): 1,\n",
       "             numpy.datetime64('2012-05-23T00:00:00.000000000'): 42,\n",
       "             numpy.datetime64('2012-08-10T00:00:00.000000000'): 14,\n",
       "             numpy.datetime64('2009-11-16T00:00:00.000000000'): 26,\n",
       "             numpy.datetime64('2013-01-15T00:00:00.000000000'): 2,\n",
       "             numpy.datetime64('2013-04-04T00:00:00.000000000'): 6,\n",
       "             numpy.datetime64('2013-09-09T00:00:00.000000000'): 21,\n",
       "             numpy.datetime64('2013-11-27T00:00:00.000000000'): 9,\n",
       "             numpy.datetime64('2014-02-14T00:00:00.000000000'): 6,\n",
       "             numpy.datetime64('2014-07-22T00:00:00.000000000'): 37,\n",
       "             numpy.datetime64('2009-05-19T00:00:00.000000000'): 23,\n",
       "             numpy.datetime64('2010-05-20T00:00:00.000000000'): 69,\n",
       "             numpy.datetime64('2015-03-16T00:00:00.000000000'): 68,\n",
       "             numpy.datetime64('2015-06-03T00:00:00.000000000'): 1,\n",
       "             numpy.datetime64('2015-08-21T00:00:00.000000000'): 30,\n",
       "             numpy.datetime64('2010-03-31T00:00:00.000000000'): 4,\n",
       "             numpy.datetime64('2010-06-18T00:00:00.000000000'): 22,\n",
       "             numpy.datetime64('2016-04-14T00:00:00.000000000'): 53,\n",
       "             numpy.datetime64('2010-11-23T00:00:00.000000000'): 16,\n",
       "             numpy.datetime64('2011-07-18T00:00:00.000000000'): 4,\n",
       "             numpy.datetime64('2011-10-05T00:00:00.000000000'): 26,\n",
       "             numpy.datetime64('2011-12-23T00:00:00.000000000'): 11,\n",
       "             numpy.datetime64('2012-05-29T00:00:00.000000000'): 11,\n",
       "             numpy.datetime64('2009-01-26T00:00:00.000000000'): 54,\n",
       "             numpy.datetime64('2012-08-16T00:00:00.000000000'): 12,\n",
       "             numpy.datetime64('2013-04-10T00:00:00.000000000'): 7,\n",
       "             numpy.datetime64('2013-06-28T00:00:00.000000000'): 16,\n",
       "             numpy.datetime64('2013-12-03T00:00:00.000000000'): 35,\n",
       "             numpy.datetime64('2014-02-20T00:00:00.000000000'): 4,\n",
       "             numpy.datetime64('2008-12-18T00:00:00.000000000'): 55,\n",
       "             numpy.datetime64('2014-10-15T00:00:00.000000000'): 59,\n",
       "             numpy.datetime64('2015-01-02T00:00:00.000000000'): 41,\n",
       "             numpy.datetime64('2009-08-12T00:00:00.000000000'): 38,\n",
       "             numpy.datetime64('2009-10-30T00:00:00.000000000'): 21,\n",
       "             numpy.datetime64('2015-08-27T00:00:00.000000000'): 23,\n",
       "             numpy.datetime64('2010-06-24T00:00:00.000000000'): 22,\n",
       "             numpy.datetime64('2016-04-20T00:00:00.000000000'): 27,\n",
       "             numpy.datetime64('2013-07-30T00:00:00.000000000'): 11,\n",
       "             numpy.datetime64('2010-11-29T00:00:00.000000000'): 8,\n",
       "             numpy.datetime64('2011-02-16T00:00:00.000000000'): 34,\n",
       "             numpy.datetime64('2010-04-23T00:00:00.000000000'): 5,\n",
       "             numpy.datetime64('2011-10-11T00:00:00.000000000'): 10,\n",
       "             numpy.datetime64('2012-06-04T00:00:00.000000000'): 31,\n",
       "             numpy.datetime64('2009-08-06T00:00:00.000000000'): 30,\n",
       "             numpy.datetime64('2012-08-22T00:00:00.000000000'): 14,\n",
       "             numpy.datetime64('2012-11-09T00:00:00.000000000'): 13,\n",
       "             numpy.datetime64('2013-04-16T00:00:00.000000000'): 27,\n",
       "             numpy.datetime64('2013-12-09T00:00:00.000000000'): 18,\n",
       "             numpy.datetime64('2014-02-26T00:00:00.000000000'): 7,\n",
       "             numpy.datetime64('2014-05-16T00:00:00.000000000'): 1,\n",
       "             numpy.datetime64('2009-03-13T00:00:00.000000000'): 54,\n",
       "             numpy.datetime64('2015-01-08T00:00:00.000000000'): 35,\n",
       "             numpy.datetime64('2009-08-18T00:00:00.000000000'): 14,\n",
       "             numpy.datetime64('2009-11-05T00:00:00.000000000'): 14,\n",
       "             numpy.datetime64('2015-09-02T00:00:00.000000000'): 16,\n",
       "             numpy.datetime64('2010-04-12T00:00:00.000000000'): 13,\n",
       "             numpy.datetime64('2010-06-30T00:00:00.000000000'): 31,\n",
       "             numpy.datetime64('2010-09-17T00:00:00.000000000'): 29,\n",
       "             numpy.datetime64('2011-01-21T00:00:00.000000000'): 28,\n",
       "             numpy.datetime64('2011-02-22T00:00:00.000000000'): 25,\n",
       "             numpy.datetime64('2011-10-17T00:00:00.000000000'): 16,\n",
       "             numpy.datetime64('2012-01-04T00:00:00.000000000'): 5,\n",
       "             numpy.datetime64('2013-10-17T00:00:00.000000000'): 24,\n",
       "             numpy.datetime64('2012-03-23T00:00:00.000000000'): 28,\n",
       "             numpy.datetime64('2012-08-28T00:00:00.000000000'): 9,\n",
       "             numpy.datetime64('2009-11-12T00:00:00.000000000'): 17,\n",
       "             numpy.datetime64('2013-04-22T00:00:00.000000000'): 17,\n",
       "             numpy.datetime64('2013-07-10T00:00:00.000000000'): 1,\n",
       "             numpy.datetime64('2013-09-27T00:00:00.000000000'): 7,\n",
       "             numpy.datetime64('2008-12-30T00:00:00.000000000'): 40,\n",
       "             numpy.datetime64('2009-03-19T00:00:00.000000000'): 56,\n",
       "             numpy.datetime64('2015-01-14T00:00:00.000000000'): 11,\n",
       "             numpy.datetime64('2009-08-24T00:00:00.000000000'): 7,\n",
       "             numpy.datetime64('2009-11-11T00:00:00.000000000'): 16,\n",
       "             numpy.datetime64('2015-09-08T00:00:00.000000000'): 28,\n",
       "             numpy.datetime64('2010-07-06T00:00:00.000000000'): 20,\n",
       "             numpy.datetime64('2016-05-02T00:00:00.000000000'): 24,\n",
       "             numpy.datetime64('2011-02-28T00:00:00.000000000'): 44,\n",
       "             numpy.datetime64('2012-01-10T00:00:00.000000000'): 5,\n",
       "             numpy.datetime64('2012-03-29T00:00:00.000000000'): 24,\n",
       "             numpy.datetime64('2012-11-21T00:00:00.000000000'): 9,\n",
       "             numpy.datetime64('2013-02-08T00:00:00.000000000'): 7,\n",
       "             numpy.datetime64('2015-01-23T00:00:00.000000000'): 31,\n",
       "             numpy.datetime64('2013-07-16T00:00:00.000000000'): 21,\n",
       "             numpy.datetime64('2014-08-22T00:00:00.000000000'): 8,\n",
       "             numpy.datetime64('2009-09-18T00:00:00.000000000'): 17,\n",
       "             numpy.datetime64('2014-03-10T00:00:00.000000000'): 18,\n",
       "             numpy.datetime64('2014-05-28T00:00:00.000000000'): 2,\n",
       "             numpy.datetime64('2014-08-15T00:00:00.000000000'): 18,\n",
       "             numpy.datetime64('2009-03-25T00:00:00.000000000'): 50,\n",
       "             numpy.datetime64('2015-01-20T00:00:00.000000000'): 13,\n",
       "             numpy.datetime64('2015-04-09T00:00:00.000000000'): 62,\n",
       "             numpy.datetime64('2009-11-17T00:00:00.000000000'): 32,\n",
       "             numpy.datetime64('2015-09-14T00:00:00.000000000'): 28,\n",
       "             numpy.datetime64('2009-06-12T00:00:00.000000000'): 32,\n",
       "             numpy.datetime64('2015-12-02T00:00:00.000000000'): 1,\n",
       "             numpy.datetime64('2016-02-19T00:00:00.000000000'): 9,\n",
       "             numpy.datetime64('2010-09-29T00:00:00.000000000'): 57,\n",
       "             numpy.datetime64('2012-04-04T00:00:00.000000000'): 15,\n",
       "             numpy.datetime64('2012-06-22T00:00:00.000000000'): 13,\n",
       "             numpy.datetime64('2012-11-27T00:00:00.000000000'): 10,\n",
       "             numpy.datetime64('2013-02-14T00:00:00.000000000'): 2,\n",
       "             numpy.datetime64('2013-07-22T00:00:00.000000000'): 22,\n",
       "             numpy.datetime64('2013-10-09T00:00:00.000000000'): 8,\n",
       "             numpy.datetime64('2013-12-27T00:00:00.000000000'): 3,\n",
       "             numpy.datetime64('2008-10-24T00:00:00.000000000'): 254,\n",
       "             numpy.datetime64('2014-08-21T00:00:00.000000000'): 10,\n",
       "             numpy.datetime64('2014-03-24T00:00:00.000000000'): 8,\n",
       "             numpy.datetime64('2009-03-31T00:00:00.000000000'): 40,\n",
       "             numpy.datetime64('2015-01-26T00:00:00.000000000'): 23,\n",
       "             numpy.datetime64('2015-04-15T00:00:00.000000000'): 165,\n",
       "             numpy.datetime64('2009-11-23T00:00:00.000000000'): 26,\n",
       "             numpy.datetime64('2010-02-10T00:00:00.000000000'): 3,\n",
       "             numpy.datetime64('2010-04-30T00:00:00.000000000'): 30,\n",
       "             numpy.datetime64('2016-02-25T00:00:00.000000000'): 20,\n",
       "             numpy.datetime64('2010-10-05T00:00:00.000000000'): 36,\n",
       "             numpy.datetime64('2010-12-23T00:00:00.000000000'): 13,\n",
       "             numpy.datetime64('2011-08-17T00:00:00.000000000'): 163,\n",
       "             numpy.datetime64('2011-11-04T00:00:00.000000000'): 35,\n",
       "             numpy.datetime64('2012-04-10T00:00:00.000000000'): 11,\n",
       "             numpy.datetime64('2012-06-28T00:00:00.000000000'): 13,\n",
       "             numpy.datetime64('2011-09-13T00:00:00.000000000'): 59,\n",
       "             numpy.datetime64('2012-12-03T00:00:00.000000000'): 2,\n",
       "             numpy.datetime64('2013-02-20T00:00:00.000000000'): 5,\n",
       "             numpy.datetime64('2013-05-10T00:00:00.000000000'): 20,\n",
       "             numpy.datetime64('2013-10-15T00:00:00.000000000'): 28,\n",
       "             numpy.datetime64('2016-05-10T00:00:00.000000000'): 13,\n",
       "             numpy.datetime64('2014-01-02T00:00:00.000000000'): 7,\n",
       "             numpy.datetime64('2014-06-09T00:00:00.000000000'): 14,\n",
       "             numpy.datetime64('2014-08-27T00:00:00.000000000'): 26,\n",
       "             numpy.datetime64('2015-07-27T00:00:00.000000000'): 32,\n",
       "             numpy.datetime64('2014-11-14T00:00:00.000000000'): 46,\n",
       "             numpy.datetime64('2009-06-24T00:00:00.000000000'): 35,\n",
       "             numpy.datetime64('2009-09-11T00:00:00.000000000'): 24,\n",
       "             numpy.datetime64('2009-03-02T00:00:00.000000000'): 80,\n",
       "             numpy.datetime64('2015-12-14T00:00:00.000000000'): 3,\n",
       "             numpy.datetime64('2014-02-03T00:00:00.000000000'): 29,\n",
       "             numpy.datetime64('2016-03-02T00:00:00.000000000'): 48,\n",
       "             numpy.datetime64('2010-10-11T00:00:00.000000000'): 20,\n",
       "             numpy.datetime64('2010-12-29T00:00:00.000000000'): 1,\n",
       "             numpy.datetime64('2011-03-18T00:00:00.000000000'): 48,\n",
       "             numpy.datetime64('2011-08-23T00:00:00.000000000'): 111,\n",
       "             numpy.datetime64('2012-04-16T00:00:00.000000000'): 17,\n",
       "             numpy.datetime64('2012-09-21T00:00:00.000000000'): 18,\n",
       "             numpy.datetime64('2013-02-26T00:00:00.000000000'): 18,\n",
       "             numpy.datetime64('2013-05-16T00:00:00.000000000'): 9,\n",
       "             numpy.datetime64('2013-10-21T00:00:00.000000000'): 30,\n",
       "             numpy.datetime64('2014-03-28T00:00:00.000000000'): 26,\n",
       "             numpy.datetime64('2008-11-05T00:00:00.000000000'): 91,\n",
       "             numpy.datetime64('2009-01-23T00:00:00.000000000'): 60,\n",
       "             numpy.datetime64('2009-06-30T00:00:00.000000000'): 35,\n",
       "             numpy.datetime64('2015-04-27T00:00:00.000000000'): 75,\n",
       "             numpy.datetime64('2009-09-10T00:00:00.000000000'): 23,\n",
       "             numpy.datetime64('2015-07-15T00:00:00.000000000'): 4,\n",
       "             numpy.datetime64('2015-10-02T00:00:00.000000000'): 24,\n",
       "             numpy.datetime64('2010-05-12T00:00:00.000000000'): 27,\n",
       "             numpy.datetime64('2016-03-08T00:00:00.000000000'): 196,\n",
       "             numpy.datetime64('2011-01-04T00:00:00.000000000'): 13,\n",
       "             numpy.datetime64('2011-03-24T00:00:00.000000000'): 36,\n",
       "             numpy.datetime64('2015-01-06T00:00:00.000000000'): 106,\n",
       "             numpy.datetime64('2011-08-29T00:00:00.000000000'): 71,\n",
       "             numpy.datetime64('2012-01-12T00:00:00.000000000'): 12,\n",
       "             numpy.datetime64('2012-02-03T00:00:00.000000000'): 38,\n",
       "             numpy.datetime64('2012-07-10T00:00:00.000000000'): 4,\n",
       "             numpy.datetime64('2012-09-27T00:00:00.000000000'): 13,\n",
       "             numpy.datetime64('2013-05-17T00:00:00.000000000'): 7,\n",
       "             numpy.datetime64('2013-03-04T00:00:00.000000000'): 8,\n",
       "             numpy.datetime64('2013-05-22T00:00:00.000000000'): 5,\n",
       "             numpy.datetime64('2013-08-09T00:00:00.000000000'): 6,\n",
       "             numpy.datetime64('2014-01-14T00:00:00.000000000'): 3,\n",
       "             numpy.datetime64('2014-04-03T00:00:00.000000000'): 30,\n",
       "             numpy.datetime64('2008-11-11T00:00:00.000000000'): 63,\n",
       "             numpy.datetime64('2014-09-08T00:00:00.000000000'): 19,\n",
       "             numpy.datetime64('2014-11-26T00:00:00.000000000'): 7,\n",
       "             numpy.datetime64('2015-02-13T00:00:00.000000000'): 33,\n",
       "             numpy.datetime64('2009-09-23T00:00:00.000000000'): 30,\n",
       "             numpy.datetime64('2015-07-21T00:00:00.000000000'): 11,\n",
       "             numpy.datetime64('2015-10-08T00:00:00.000000000'): 51,\n",
       "             numpy.datetime64('2010-05-18T00:00:00.000000000'): 17,\n",
       "             numpy.datetime64('2016-03-14T00:00:00.000000000'): 172,\n",
       "             numpy.datetime64('2011-01-10T00:00:00.000000000'): 12,\n",
       "             numpy.datetime64('2011-06-17T00:00:00.000000000'): 15,\n",
       "             numpy.datetime64('2010-08-13T00:00:00.000000000'): 5,\n",
       "             numpy.datetime64('2011-11-22T00:00:00.000000000'): 11,\n",
       "             numpy.datetime64('2012-02-09T00:00:00.000000000'): 15,\n",
       "             numpy.datetime64('2012-10-03T00:00:00.000000000'): 11,\n",
       "             numpy.datetime64('2012-08-06T00:00:00.000000000'): 32,\n",
       "             numpy.datetime64('2013-05-28T00:00:00.000000000'): 6,\n",
       "             numpy.datetime64('2013-08-15T00:00:00.000000000'): 40,\n",
       "             numpy.datetime64('2014-04-09T00:00:00.000000000'): 23,\n",
       "             numpy.datetime64('2008-11-17T00:00:00.000000000'): 96,\n",
       "             numpy.datetime64('2009-02-04T00:00:00.000000000'): 61,\n",
       "             numpy.datetime64('2014-12-02T00:00:00.000000000'): 38,\n",
       "             numpy.datetime64('2015-02-19T00:00:00.000000000'): 18,\n",
       "             numpy.datetime64('2010-01-29T00:00:00.000000000'): 11,\n",
       "             numpy.datetime64('2009-12-17T00:00:00.000000000'): 4,\n",
       "             numpy.datetime64('2010-05-24T00:00:00.000000000'): 39,\n",
       "             numpy.datetime64('2010-08-11T00:00:00.000000000'): 16,\n",
       "             numpy.datetime64('2016-06-07T00:00:00.000000000'): 4,\n",
       "             numpy.datetime64('2010-08-09T00:00:00.000000000'): 8,\n",
       "             numpy.datetime64('2011-11-28T00:00:00.000000000'): 15,\n",
       "             numpy.datetime64('2012-02-15T00:00:00.000000000'): 50,\n",
       "             numpy.datetime64('2012-05-04T00:00:00.000000000'): 40,\n",
       "             numpy.datetime64('2012-10-09T00:00:00.000000000'): 4,\n",
       "             numpy.datetime64('2012-12-27T00:00:00.000000000'): 12,\n",
       "             numpy.datetime64('2013-06-03T00:00:00.000000000'): 29,\n",
       "             numpy.datetime64('2013-08-21T00:00:00.000000000'): 23,\n",
       "             numpy.datetime64('2013-11-08T00:00:00.000000000'): 10,\n",
       "             numpy.datetime64('2014-04-15T00:00:00.000000000'): 12,\n",
       "             numpy.datetime64('2009-06-26T00:00:00.000000000'): 27,\n",
       "             numpy.datetime64('2014-07-03T00:00:00.000000000'): 9,\n",
       "             numpy.datetime64('2009-02-10T00:00:00.000000000'): 43,\n",
       "             numpy.datetime64('2009-04-30T00:00:00.000000000'): 44,\n",
       "             numpy.datetime64('2015-02-25T00:00:00.000000000'): 19,\n",
       "             numpy.datetime64('2015-05-15T00:00:00.000000000'): 19,\n",
       "             numpy.datetime64('2009-12-23T00:00:00.000000000'): 9,\n",
       "             numpy.datetime64('2010-03-12T00:00:00.000000000'): 3,\n",
       "             numpy.datetime64('2010-08-17T00:00:00.000000000'): 9,\n",
       "             numpy.datetime64('2010-11-04T00:00:00.000000000'): 29,\n",
       "             numpy.datetime64('2015-04-06T00:00:00.000000000'): 31,\n",
       "             numpy.datetime64('2009-09-02T00:00:00.000000000'): 39,\n",
       "             numpy.datetime64('2011-06-29T00:00:00.000000000'): 13,\n",
       "             numpy.datetime64('2011-09-16T00:00:00.000000000'): 31,\n",
       "             numpy.datetime64('2012-05-10T00:00:00.000000000'): 34,\n",
       "             numpy.datetime64('2012-10-15T00:00:00.000000000'): 38,\n",
       "             numpy.datetime64('2013-01-02T00:00:00.000000000'): 8,\n",
       "             numpy.datetime64('2016-04-11T00:00:00.000000000'): 36,\n",
       "             numpy.datetime64('2013-08-27T00:00:00.000000000'): 22,\n",
       "             numpy.datetime64('2013-11-14T00:00:00.000000000'): 9,\n",
       "             numpy.datetime64('2014-09-26T00:00:00.000000000'): 8,\n",
       "             numpy.datetime64('2009-05-06T00:00:00.000000000'): 80,\n",
       "             numpy.datetime64('2009-07-24T00:00:00.000000000'): 45,\n",
       "             numpy.datetime64('2015-05-21T00:00:00.000000000'): 6,\n",
       "             numpy.datetime64('2012-09-05T00:00:00.000000000'): 34,\n",
       "             numpy.datetime64('2010-03-18T00:00:00.000000000'): 10,\n",
       "             numpy.datetime64('2016-04-01T00:00:00.000000000'): 61,\n",
       "             numpy.datetime64('2010-11-10T00:00:00.000000000'): 7,\n",
       "             numpy.datetime64('2011-01-28T00:00:00.000000000'): 37,\n",
       "             numpy.datetime64('2011-07-05T00:00:00.000000000'): 9,\n",
       "             numpy.datetime64('2011-09-22T00:00:00.000000000'): 123,\n",
       "             numpy.datetime64('2012-02-27T00:00:00.000000000'): 8,\n",
       "             numpy.datetime64('2012-05-16T00:00:00.000000000'): 44,\n",
       "             numpy.datetime64('2012-08-03T00:00:00.000000000'): 24,\n",
       "             numpy.datetime64('2009-04-06T00:00:00.000000000'): 64,\n",
       "             numpy.datetime64('2013-01-08T00:00:00.000000000'): 4,\n",
       "             numpy.datetime64('2010-08-05T00:00:00.000000000'): 12,\n",
       "             numpy.datetime64('2014-02-07T00:00:00.000000000'): 18,\n",
       "             numpy.datetime64('2014-07-15T00:00:00.000000000'): 6,\n",
       "             numpy.datetime64('2016-02-22T00:00:00.000000000'): 26,\n",
       "             numpy.datetime64('2014-10-02T00:00:00.000000000'): 29,\n",
       "             numpy.datetime64('2009-05-12T00:00:00.000000000'): 33,\n",
       "             numpy.datetime64('2009-07-30T00:00:00.000000000'): 32,\n",
       "             numpy.datetime64('2015-05-27T00:00:00.000000000'): 10,\n",
       "             numpy.datetime64('2010-01-04T00:00:00.000000000'): 3,\n",
       "             numpy.datetime64('2010-03-24T00:00:00.000000000'): 2,\n",
       "             numpy.datetime64('2010-06-11T00:00:00.000000000'): 27,\n",
       "             numpy.datetime64('2016-04-07T00:00:00.000000000'): 34,\n",
       "             numpy.datetime64('2010-11-16T00:00:00.000000000'): 21,\n",
       "             numpy.datetime64('2015-08-25T00:00:00.000000000'): 70,\n",
       "             numpy.datetime64('2011-02-03T00:00:00.000000000'): 31,\n",
       "             numpy.datetime64('2010-05-07T00:00:00.000000000'): 63,\n",
       "             numpy.datetime64('2012-11-23T00:00:00.000000000'): 3,\n",
       "             numpy.datetime64('2011-07-11T00:00:00.000000000'): 29,\n",
       "             numpy.datetime64('2011-09-28T00:00:00.000000000'): 53,\n",
       "             numpy.datetime64('2011-12-16T00:00:00.000000000'): 18,\n",
       "             numpy.datetime64('2012-05-22T00:00:00.000000000'): 18,\n",
       "             numpy.datetime64('2012-08-09T00:00:00.000000000'): 10,\n",
       "             numpy.datetime64('2013-01-14T00:00:00.000000000'): 5,\n",
       "             numpy.datetime64('2013-04-03T00:00:00.000000000'): 6,\n",
       "             numpy.datetime64('2013-06-21T00:00:00.000000000'): 32,\n",
       "             numpy.datetime64('2013-11-26T00:00:00.000000000'): 4,\n",
       "             numpy.datetime64('2014-02-13T00:00:00.000000000'): 6,\n",
       "             numpy.datetime64('2008-12-11T00:00:00.000000000'): 70,\n",
       "             numpy.datetime64('2014-10-08T00:00:00.000000000'): 24,\n",
       "             numpy.datetime64('2014-12-26T00:00:00.000000000'): 50,\n",
       "             numpy.datetime64('2009-08-05T00:00:00.000000000'): 33,\n",
       "             numpy.datetime64('2015-06-02T00:00:00.000000000'): 2,\n",
       "             numpy.datetime64('2012-11-05T00:00:00.000000000'): 12,\n",
       "             numpy.datetime64('2015-08-20T00:00:00.000000000'): 11,\n",
       "             numpy.datetime64('2010-06-17T00:00:00.000000000'): 26,\n",
       "             numpy.datetime64('2014-11-04T00:00:00.000000000'): 46,\n",
       "             numpy.datetime64('2016-04-13T00:00:00.000000000'): 98,\n",
       "             numpy.datetime64('2010-11-22T00:00:00.000000000'): 15,\n",
       "             numpy.datetime64('2011-10-04T00:00:00.000000000'): 49,\n",
       "             numpy.datetime64('2011-12-22T00:00:00.000000000'): 15,\n",
       "             numpy.datetime64('2014-07-29T00:00:00.000000000'): 6,\n",
       "             numpy.datetime64('2012-08-15T00:00:00.000000000'): 48,\n",
       "             numpy.datetime64('2015-09-28T00:00:00.000000000'): 53,\n",
       "             numpy.datetime64('2010-09-23T00:00:00.000000000'): 60,\n",
       "             numpy.datetime64('2013-04-09T00:00:00.000000000'): 6,\n",
       "             numpy.datetime64('2013-06-27T00:00:00.000000000'): 24,\n",
       "             numpy.datetime64('2013-12-02T00:00:00.000000000'): 65,\n",
       "             numpy.datetime64('2014-02-19T00:00:00.000000000'): 8,\n",
       "             numpy.datetime64('2008-12-17T00:00:00.000000000'): 108,\n",
       "             numpy.datetime64('2009-03-06T00:00:00.000000000'): 59,\n",
       "             numpy.datetime64('2009-08-11T00:00:00.000000000'): 25,\n",
       "             numpy.datetime64('2015-06-08T00:00:00.000000000'): 17,\n",
       "             numpy.datetime64('2015-08-26T00:00:00.000000000'): 32,\n",
       "             numpy.datetime64('2010-04-05T00:00:00.000000000'): 1,\n",
       "             numpy.datetime64('2010-06-23T00:00:00.000000000'): 16,\n",
       "             numpy.datetime64('2016-04-19T00:00:00.000000000'): 37,\n",
       "             numpy.datetime64('2011-02-15T00:00:00.000000000'): 20,\n",
       "             numpy.datetime64('2011-10-10T00:00:00.000000000'): 21,\n",
       "             numpy.datetime64('2011-12-28T00:00:00.000000000'): 10,\n",
       "             numpy.datetime64('2012-03-16T00:00:00.000000000'): 29,\n",
       "             numpy.datetime64('2012-08-21T00:00:00.000000000'): 8,\n",
       "             numpy.datetime64('2012-11-08T00:00:00.000000000'): 17,\n",
       "             numpy.datetime64('2013-04-15T00:00:00.000000000'): 54,\n",
       "             numpy.datetime64('2013-07-03T00:00:00.000000000'): 8,\n",
       "             numpy.datetime64('2013-09-20T00:00:00.000000000'): 14,\n",
       "             numpy.datetime64('2013-04-30T00:00:00.000000000'): 29,\n",
       "             numpy.datetime64('2014-02-25T00:00:00.000000000'): 3,\n",
       "             numpy.datetime64('2014-05-15T00:00:00.000000000'): 2,\n",
       "             numpy.datetime64('2008-12-23T00:00:00.000000000'): 13,\n",
       "             numpy.datetime64('2014-10-20T00:00:00.000000000'): 21,\n",
       "             numpy.datetime64('2015-01-07T00:00:00.000000000'): 84,\n",
       "             numpy.datetime64('2015-03-27T00:00:00.000000000'): 21,\n",
       "             numpy.datetime64('2009-11-04T00:00:00.000000000'): 16,\n",
       "             numpy.datetime64('2010-01-22T00:00:00.000000000'): 11,\n",
       "             numpy.datetime64('2010-06-29T00:00:00.000000000'): 37,\n",
       "             numpy.datetime64('2016-04-25T00:00:00.000000000'): 27,\n",
       "             numpy.datetime64('2012-01-03T00:00:00.000000000'): 15,\n",
       "             numpy.datetime64('2014-12-17T00:00:00.000000000'): 95,\n",
       "             numpy.datetime64('2012-03-22T00:00:00.000000000'): 33,\n",
       "             numpy.datetime64('2015-08-17T00:00:00.000000000'): 11,\n",
       "             numpy.datetime64('2012-01-06T00:00:00.000000000'): 3,\n",
       "             numpy.datetime64('2013-02-01T00:00:00.000000000'): 6,\n",
       "             numpy.datetime64('2013-09-26T00:00:00.000000000'): 24,\n",
       "             numpy.datetime64('2008-12-29T00:00:00.000000000'): 16,\n",
       "             numpy.datetime64('2009-03-18T00:00:00.000000000'): 58,\n",
       "             numpy.datetime64('2015-01-13T00:00:00.000000000'): 20,\n",
       "             numpy.datetime64('2015-04-02T00:00:00.000000000'): 34,\n",
       "             numpy.datetime64('2013-07-18T00:00:00.000000000'): 25,\n",
       "             numpy.datetime64('2009-11-10T00:00:00.000000000'): 21,\n",
       "             numpy.datetime64('2010-01-28T00:00:00.000000000'): 3,\n",
       "             numpy.datetime64('2015-02-02T00:00:00.000000000'): 30,\n",
       "             numpy.datetime64('2016-02-12T00:00:00.000000000'): 22,\n",
       "             numpy.datetime64('2010-09-22T00:00:00.000000000'): 46,\n",
       "             numpy.datetime64('2010-12-10T00:00:00.000000000'): 12,\n",
       "             numpy.datetime64('2014-10-27T00:00:00.000000000'): 133,\n",
       "             numpy.datetime64('2012-01-09T00:00:00.000000000'): 1,\n",
       "             numpy.datetime64('2012-03-28T00:00:00.000000000'): 35,\n",
       "             numpy.datetime64('2012-06-15T00:00:00.000000000'): 28,\n",
       "             numpy.datetime64('2013-02-07T00:00:00.000000000'): 2,\n",
       "             numpy.datetime64('2013-07-15T00:00:00.000000000'): 22,\n",
       "             numpy.datetime64('2013-10-02T00:00:00.000000000'): 10,\n",
       "             numpy.datetime64('2013-12-20T00:00:00.000000000'): 7,\n",
       "             numpy.datetime64('2009-07-06T00:00:00.000000000'): 35,\n",
       "             numpy.datetime64('2008-10-17T00:00:00.000000000'): 234,\n",
       "             numpy.datetime64('2014-08-14T00:00:00.000000000'): 5,\n",
       "             numpy.datetime64('2009-03-24T00:00:00.000000000'): 51,\n",
       "             numpy.datetime64('2015-04-08T00:00:00.000000000'): 25,\n",
       "             numpy.datetime64('2015-06-26T00:00:00.000000000'): 11,\n",
       "             numpy.datetime64('2010-02-03T00:00:00.000000000'): 2,\n",
       "             numpy.datetime64('2014-05-12T00:00:00.000000000'): 2,\n",
       "             numpy.datetime64('2015-12-01T00:00:00.000000000'): 5,\n",
       "             numpy.datetime64('2016-02-18T00:00:00.000000000'): 21,\n",
       "             numpy.datetime64('2010-09-28T00:00:00.000000000'): 33,\n",
       "             numpy.datetime64('2010-12-16T00:00:00.000000000'): 15,\n",
       "             numpy.datetime64('2010-10-13T00:00:00.000000000'): 52,\n",
       "             numpy.datetime64('2011-10-28T00:00:00.000000000'): 97,\n",
       "             numpy.datetime64('2012-04-03T00:00:00.000000000'): 17,\n",
       "             numpy.datetime64('2012-06-21T00:00:00.000000000'): 16,\n",
       "             numpy.datetime64('2012-11-26T00:00:00.000000000'): 5,\n",
       "             numpy.datetime64('2013-02-13T00:00:00.000000000'): 10,\n",
       "             numpy.datetime64('2013-05-03T00:00:00.000000000'): 20,\n",
       "             numpy.datetime64('2013-10-08T00:00:00.000000000'): 5,\n",
       "             numpy.datetime64('2013-12-26T00:00:00.000000000'): 5,\n",
       "             numpy.datetime64('2013-05-31T00:00:00.000000000'): 42,\n",
       "             numpy.datetime64('2014-06-02T00:00:00.000000000'): 7,\n",
       "             numpy.datetime64('2014-08-20T00:00:00.000000000'): 10,\n",
       "             numpy.datetime64('2009-03-30T00:00:00.000000000'): 48,\n",
       "             numpy.datetime64('2009-06-17T00:00:00.000000000'): 45,\n",
       "             numpy.datetime64('2009-09-04T00:00:00.000000000'): 28,\n",
       "             numpy.datetime64('2014-10-23T00:00:00.000000000'): 70,\n",
       "             numpy.datetime64('2010-02-09T00:00:00.000000000'): 3,\n",
       "             numpy.datetime64('2010-04-29T00:00:00.000000000'): 37,\n",
       "             numpy.datetime64('2016-02-24T00:00:00.000000000'): 41,\n",
       "             numpy.datetime64('2010-10-04T00:00:00.000000000'): 34,\n",
       "             numpy.datetime64('2010-12-22T00:00:00.000000000'): 16,\n",
       "             numpy.datetime64('2011-03-11T00:00:00.000000000'): 64,\n",
       "             numpy.datetime64('2011-11-03T00:00:00.000000000'): 44,\n",
       "             numpy.datetime64('2012-04-09T00:00:00.000000000'): 17,\n",
       "             numpy.datetime64('2011-11-16T00:00:00.000000000'): 20,\n",
       "             numpy.datetime64('2012-06-27T00:00:00.000000000'): 11,\n",
       "             numpy.datetime64('2012-09-14T00:00:00.000000000'): 56,\n",
       "             numpy.datetime64('2013-05-09T00:00:00.000000000'): 7,\n",
       "             numpy.datetime64('2013-10-14T00:00:00.000000000'): 26,\n",
       "             numpy.datetime64('2016-04-08T00:00:00.000000000'): 34,\n",
       "             numpy.datetime64('2014-03-21T00:00:00.000000000'): 9,\n",
       "             numpy.datetime64('2008-10-29T00:00:00.000000000'): 193,\n",
       "             numpy.datetime64('2014-08-26T00:00:00.000000000'): 13,\n",
       "             numpy.datetime64('2014-11-13T00:00:00.000000000'): 19,\n",
       "             numpy.datetime64('2009-06-23T00:00:00.000000000'): 38,\n",
       "             numpy.datetime64('2014-09-02T00:00:00.000000000'): 38,\n",
       "             numpy.datetime64('2009-01-29T00:00:00.000000000'): 60,\n",
       "             numpy.datetime64('2015-07-08T00:00:00.000000000'): 4,\n",
       "             numpy.datetime64('2009-09-29T00:00:00.000000000'): 8,\n",
       "             numpy.datetime64('2015-09-25T00:00:00.000000000'): 30,\n",
       "             numpy.datetime64('2010-05-05T00:00:00.000000000'): 42,\n",
       "             numpy.datetime64('2016-03-01T00:00:00.000000000'): 26,\n",
       "             numpy.datetime64('2016-05-19T00:00:00.000000000'): 3,\n",
       "             numpy.datetime64('2010-12-28T00:00:00.000000000'): 10,\n",
       "             numpy.datetime64('2011-03-17T00:00:00.000000000'): 53,\n",
       "             numpy.datetime64('2014-05-27T00:00:00.000000000'): 3,\n",
       "             numpy.datetime64('2008-10-23T00:00:00.000000000'): 214,\n",
       "             numpy.datetime64('2011-11-09T00:00:00.000000000'): 26,\n",
       "             numpy.datetime64('2012-01-27T00:00:00.000000000'): 21,\n",
       "             numpy.datetime64('2010-10-22T00:00:00.000000000'): 15,\n",
       "             numpy.datetime64('2012-07-03T00:00:00.000000000'): 9,\n",
       "             numpy.datetime64('2012-09-20T00:00:00.000000000'): 21,\n",
       "             numpy.datetime64('2013-02-25T00:00:00.000000000'): 2,\n",
       "             numpy.datetime64('2013-05-15T00:00:00.000000000'): 11,\n",
       "             numpy.datetime64('2013-08-02T00:00:00.000000000'): 10,\n",
       "             numpy.datetime64('2014-03-12T00:00:00.000000000'): 14,\n",
       "             numpy.datetime64('2010-07-16T00:00:00.000000000'): 17,\n",
       "             numpy.datetime64('2014-01-07T00:00:00.000000000'): 3,\n",
       "             numpy.datetime64('2014-03-27T00:00:00.000000000'): 45,\n",
       "             numpy.datetime64('2008-11-04T00:00:00.000000000'): 119,\n",
       "             numpy.datetime64('2009-01-22T00:00:00.000000000'): 56,\n",
       "             numpy.datetime64('2014-11-19T00:00:00.000000000'): 27,\n",
       "             numpy.datetime64('2015-02-06T00:00:00.000000000'): 36,\n",
       "             numpy.datetime64('2009-09-16T00:00:00.000000000'): 27,\n",
       "             numpy.datetime64('2015-07-14T00:00:00.000000000'): 4,\n",
       "             numpy.datetime64('2015-10-01T00:00:00.000000000'): 20,\n",
       "             numpy.datetime64('2010-05-11T00:00:00.000000000'): 31,\n",
       "             numpy.datetime64('2016-03-07T00:00:00.000000000'): 190,\n",
       "             numpy.datetime64('2016-05-25T00:00:00.000000000'): 3,\n",
       "             numpy.datetime64('2011-01-03T00:00:00.000000000'): 9,\n",
       "             numpy.datetime64('2011-06-10T00:00:00.000000000'): 18,\n",
       "             numpy.datetime64('2016-04-04T00:00:00.000000000'): 62,\n",
       "             numpy.datetime64('2012-02-02T00:00:00.000000000'): 20,\n",
       "             numpy.datetime64('2014-09-09T00:00:00.000000000'): 13,\n",
       "             numpy.datetime64('2012-09-26T00:00:00.000000000'): 24,\n",
       "             numpy.datetime64('2012-12-14T00:00:00.000000000'): 8,\n",
       "             numpy.datetime64('2013-05-21T00:00:00.000000000'): 5,\n",
       "             numpy.datetime64('2013-08-08T00:00:00.000000000'): 6,\n",
       "             numpy.datetime64('2014-04-02T00:00:00.000000000'): 43,\n",
       "             numpy.datetime64('2014-06-20T00:00:00.000000000'): 4,\n",
       "             numpy.datetime64('2009-01-28T00:00:00.000000000'): 56,\n",
       "             numpy.datetime64('2014-11-25T00:00:00.000000000'): 20,\n",
       "             numpy.datetime64('2008-10-20T00:00:00.000000000'): 181,\n",
       "             numpy.datetime64('2015-02-12T00:00:00.000000000'): 25,\n",
       "             numpy.datetime64('2009-09-22T00:00:00.000000000'): 14,\n",
       "             numpy.datetime64('2009-12-10T00:00:00.000000000'): 3,\n",
       "             numpy.datetime64('2010-10-18T00:00:00.000000000'): 36,\n",
       "             numpy.datetime64('2015-10-07T00:00:00.000000000'): 83,\n",
       "             numpy.datetime64('2010-05-17T00:00:00.000000000'): 21,\n",
       "             numpy.datetime64('2010-08-04T00:00:00.000000000'): 21,\n",
       "             numpy.datetime64('2016-05-31T00:00:00.000000000'): 8,\n",
       "             numpy.datetime64('2011-03-29T00:00:00.000000000'): 20,\n",
       "             numpy.datetime64('2015-01-05T00:00:00.000000000'): 89,\n",
       "             numpy.datetime64('2015-06-15T00:00:00.000000000'): 22,\n",
       "             numpy.datetime64('2010-07-12T00:00:00.000000000'): 7,\n",
       "             numpy.datetime64('2011-11-21T00:00:00.000000000'): 39,\n",
       "             numpy.datetime64('2012-02-08T00:00:00.000000000'): 40,\n",
       "             numpy.datetime64('2012-04-27T00:00:00.000000000'): 27,\n",
       "             numpy.datetime64('2012-10-02T00:00:00.000000000'): 9,\n",
       "             numpy.datetime64('2012-12-20T00:00:00.000000000'): 10,\n",
       "             numpy.datetime64('2008-12-05T00:00:00.000000000'): 74,\n",
       "             numpy.datetime64('2013-08-14T00:00:00.000000000'): 45,\n",
       "             numpy.datetime64('2013-11-01T00:00:00.000000000'): 17,\n",
       "             numpy.datetime64('2014-04-08T00:00:00.000000000'): 60,\n",
       "             numpy.datetime64('2014-06-26T00:00:00.000000000'): 6,\n",
       "             numpy.datetime64('2009-02-03T00:00:00.000000000'): 45,\n",
       "             numpy.datetime64('2009-04-23T00:00:00.000000000'): 20,\n",
       "             numpy.datetime64('2015-02-18T00:00:00.000000000'): 67,\n",
       "             numpy.datetime64('2015-05-08T00:00:00.000000000'): 56,\n",
       "             numpy.datetime64('2009-12-16T00:00:00.000000000'): 33,\n",
       "             numpy.datetime64('2010-03-05T00:00:00.000000000'): 6,\n",
       "             numpy.datetime64('2010-08-10T00:00:00.000000000'): 10,\n",
       "             numpy.datetime64('2009-01-07T00:00:00.000000000'): 67,\n",
       "             numpy.datetime64('2010-10-28T00:00:00.000000000'): 6,\n",
       "             numpy.datetime64('2014-08-25T00:00:00.000000000'): 13,\n",
       "             numpy.datetime64('2011-06-22T00:00:00.000000000'): 10,\n",
       "             numpy.datetime64('2011-09-09T00:00:00.000000000'): 71,\n",
       "             numpy.datetime64('2011-01-20T00:00:00.000000000'): 32,\n",
       "             numpy.datetime64('2012-02-14T00:00:00.000000000'): 23,\n",
       "             numpy.datetime64('2012-10-08T00:00:00.000000000'): 5,\n",
       "             numpy.datetime64('2012-12-26T00:00:00.000000000'): 18,\n",
       "             numpy.datetime64('2013-03-15T00:00:00.000000000'): 4,\n",
       "             numpy.datetime64('2013-08-20T00:00:00.000000000'): 10,\n",
       "             numpy.datetime64('2011-06-14T00:00:00.000000000'): 24,\n",
       "             numpy.datetime64('2014-04-14T00:00:00.000000000'): 26,\n",
       "             numpy.datetime64('2014-07-02T00:00:00.000000000'): 10,\n",
       "             numpy.datetime64('2009-02-09T00:00:00.000000000'): 36,\n",
       "             numpy.datetime64('2009-04-29T00:00:00.000000000'): 15,\n",
       "             numpy.datetime64('2009-07-17T00:00:00.000000000'): 15,\n",
       "             numpy.datetime64('2015-05-14T00:00:00.000000000'): 25,\n",
       "             numpy.datetime64('2009-12-22T00:00:00.000000000'): 8,\n",
       "             numpy.datetime64('2010-08-16T00:00:00.000000000'): 14,\n",
       "             numpy.datetime64('2010-11-03T00:00:00.000000000'): 13,\n",
       "             numpy.datetime64('2008-12-01T00:00:00.000000000'): 62,\n",
       "             numpy.datetime64('2011-06-28T00:00:00.000000000'): 7,\n",
       "             numpy.datetime64('2011-09-15T00:00:00.000000000'): 39,\n",
       "             numpy.datetime64('2009-10-05T00:00:00.000000000'): 4,\n",
       "             numpy.datetime64('2012-05-09T00:00:00.000000000'): 20,\n",
       "             numpy.datetime64('2012-07-27T00:00:00.000000000'): 29,\n",
       "             numpy.datetime64('2015-07-28T00:00:00.000000000'): 27,\n",
       "             numpy.datetime64('2013-03-21T00:00:00.000000000'): 10,\n",
       "             numpy.datetime64('2013-08-26T00:00:00.000000000'): 34,\n",
       "             numpy.datetime64('2013-11-13T00:00:00.000000000'): 12,\n",
       "             numpy.datetime64('2014-01-31T00:00:00.000000000'): 32,\n",
       "             numpy.datetime64('2008-11-28T00:00:00.000000000'): 40,\n",
       "             numpy.datetime64('2014-09-25T00:00:00.000000000'): 14,\n",
       "             numpy.datetime64('2009-09-17T00:00:00.000000000'): 31,\n",
       "             numpy.datetime64('2015-03-02T00:00:00.000000000'): 7,\n",
       "             numpy.datetime64('2015-05-20T00:00:00.000000000'): 8,\n",
       "             numpy.datetime64('2015-08-07T00:00:00.000000000'): 36,\n",
       "             numpy.datetime64('2010-03-17T00:00:00.000000000'): 6,\n",
       "             numpy.datetime64('2010-06-04T00:00:00.000000000'): 24,\n",
       "             numpy.datetime64('2016-03-31T00:00:00.000000000'): 73,\n",
       "             numpy.datetime64('2010-11-09T00:00:00.000000000'): 4,\n",
       "             numpy.datetime64('2011-01-27T00:00:00.000000000'): 31,\n",
       "             numpy.datetime64('2016-05-13T00:00:00.000000000'): 3,\n",
       "             numpy.datetime64('2011-09-21T00:00:00.000000000'): 93,\n",
       "             numpy.datetime64('2011-12-09T00:00:00.000000000'): 26,\n",
       "             numpy.datetime64('2012-05-15T00:00:00.000000000'): 18,\n",
       "             numpy.datetime64('2012-08-02T00:00:00.000000000'): 22,\n",
       "             numpy.datetime64('2014-10-07T00:00:00.000000000'): 34,\n",
       "             numpy.datetime64('2009-03-05T00:00:00.000000000'): 71,\n",
       "             numpy.datetime64('2013-01-07T00:00:00.000000000'): 5,\n",
       "             numpy.datetime64('2013-03-27T00:00:00.000000000'): 5,\n",
       "             numpy.datetime64('2015-01-22T00:00:00.000000000'): 47,\n",
       "             numpy.datetime64('2013-06-14T00:00:00.000000000'): 16,\n",
       "             numpy.datetime64('2013-11-19T00:00:00.000000000'): 19,\n",
       "             numpy.datetime64('2014-02-06T00:00:00.000000000'): 14,\n",
       "             numpy.datetime64('2014-07-01T00:00:00.000000000'): 2,\n",
       "             numpy.datetime64('2014-07-14T00:00:00.000000000'): 29,\n",
       "             numpy.datetime64('2014-10-01T00:00:00.000000000'): 39,\n",
       "             numpy.datetime64('2009-05-11T00:00:00.000000000'): 42,\n",
       "             numpy.datetime64('2009-07-29T00:00:00.000000000'): 30,\n",
       "             numpy.datetime64('2009-10-16T00:00:00.000000000'): 36,\n",
       "             numpy.datetime64('2015-08-13T00:00:00.000000000'): 23,\n",
       "             numpy.datetime64('2010-03-23T00:00:00.000000000'): 22,\n",
       "             numpy.datetime64('2013-07-25T00:00:00.000000000'): 22,\n",
       "             numpy.datetime64('2010-06-10T00:00:00.000000000'): 39,\n",
       "             numpy.datetime64('2016-04-06T00:00:00.000000000'): 40,\n",
       "             numpy.datetime64('2015-07-24T00:00:00.000000000'): 13,\n",
       "             numpy.datetime64('2011-02-02T00:00:00.000000000'): 40,\n",
       "             numpy.datetime64('2011-09-27T00:00:00.000000000'): 45,\n",
       "             numpy.datetime64('2011-12-15T00:00:00.000000000'): 22,\n",
       "             numpy.datetime64('2012-08-08T00:00:00.000000000'): 15,\n",
       "             numpy.datetime64('2012-10-26T00:00:00.000000000'): 23,\n",
       "             numpy.datetime64('2013-04-02T00:00:00.000000000'): 4,\n",
       "             numpy.datetime64('2013-06-20T00:00:00.000000000'): 40,\n",
       "             numpy.datetime64('2013-11-25T00:00:00.000000000'): 7,\n",
       "             numpy.datetime64('2014-02-12T00:00:00.000000000'): 31,\n",
       "             numpy.datetime64('2014-05-02T00:00:00.000000000'): 11,\n",
       "             numpy.datetime64('2015-01-09T00:00:00.000000000'): 24,\n",
       "             numpy.datetime64('2008-12-10T00:00:00.000000000'): 76,\n",
       "             ...})"
      ]
     },
     "execution_count": 180,
     "metadata": {},
     "output_type": "execute_result"
    }
   ],
   "source": [
    "# check and remove outliers\n",
    "# use Turkey's method - 1,5 * IQR\n",
    "\n",
    "outliers_count = defaultdict(int) \n",
    "for feature in df.columns:    \n",
    "    Q1 = np.percentile(df[feature], 25)\n",
    "    Q3 = np.percentile(df[feature], 75)\n",
    "    step = (Q3-Q1)*1.5\n",
    "    \n",
    "    # Display the outliers\n",
    "    print(\"Data points considered outliers for the feature '{}':\".format(feature))\n",
    "    outliers_for_feature = df[~((df[feature] >= Q1 - step) & (df[feature] <= Q3 + step))]\n",
    "    for idx in  outliers_for_feature.index.values:\n",
    "        outliers_count[idx] += 1\n",
    "    \n",
    "    (outliers_for_feature.shape)\n",
    "    \n",
    "# print the total list of outliers\n",
    "print(\"Total number of data points identified as outliers: {}\".format(len(outliers_count)))\n",
    "\n",
    "outliers_count\n",
    "# OPTIONAL: Select the indices for data points you wish to remove\n",
    "#outliers =  list(map(lambda (x,y):x, filter(lambda (x,y):y>1, outliers_count.items())))\n",
    "#print(\"Total number of data points identified as outliers in more than one data entry: {}\".format(len(outliers)))\n",
    "\n",
    "# Remove the outliers, if any were specified\n",
    "# good_data = log_data.drop(log_data.index[outliers]).reset_index(drop = True)\n",
    "#print(outliers)"
   ]
  }
 ],
 "metadata": {
  "anaconda-cloud": {},
  "kernelspec": {
   "display_name": "Python [conda env:python3]",
   "language": "python",
   "name": "conda-env-python3-py"
  },
  "language_info": {
   "codemirror_mode": {
    "name": "ipython",
    "version": 3
   },
   "file_extension": ".py",
   "mimetype": "text/x-python",
   "name": "python",
   "nbconvert_exporter": "python",
   "pygments_lexer": "ipython3",
   "version": "3.4.5"
  }
 },
 "nbformat": 4,
 "nbformat_minor": 1
}
