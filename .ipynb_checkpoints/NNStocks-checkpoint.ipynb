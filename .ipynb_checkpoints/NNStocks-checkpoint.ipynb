{
 "cells": [
  {
   "cell_type": "markdown",
   "metadata": {},
   "source": [
    "Using a neural network to predict stock prices, using only basic data"
   ]
  },
  {
   "cell_type": "code",
   "execution_count": 1,
   "metadata": {
    "collapsed": true
   },
   "outputs": [],
   "source": [
    "%matplotlib inline\n",
    "\n",
    "from sklearn import neural_network\n",
    "from matplotlib import pyplot as plt\n",
    "import datetime\n",
    "import pandas_datareader.data as web\n",
    "import pandas as pd\n",
    "import numpy as np"
   ]
  },
  {
   "cell_type": "code",
   "execution_count": 2,
   "metadata": {
    "collapsed": false
   },
   "outputs": [],
   "source": [
    "# import data from yahoo finance\n",
    "start_date = datetime.datetime(2016,1,1)\n",
    "end_date = datetime.datetime(2016,6,20) \n",
    "symbol = \"PETR4.SA\"\n",
    "df = web.DataReader(symbol, 'yahoo', start_date, end_date)"
   ]
  },
  {
   "cell_type": "code",
   "execution_count": 3,
   "metadata": {
    "collapsed": false
   },
   "outputs": [
    {
     "data": {
      "text/plain": [
       "'0.18.dev0'"
      ]
     },
     "execution_count": 3,
     "metadata": {},
     "output_type": "execute_result"
    }
   ],
   "source": [
    "import sklearn\n",
    "sklearn.__version__\n",
    "# version is outdated. 0.18.1, which has regression neural network, \n",
    "# is still in development stage"
   ]
  },
  {
   "cell_type": "code",
   "execution_count": 4,
   "metadata": {
    "collapsed": false
   },
   "outputs": [],
   "source": [
    "# create a new neural network\n",
    "reg = neural_network.MLPRegressor(hidden_layer_sizes=(100, ), activation='relu', \n",
    "                                          algorithm='adam', alpha=0.0001, batch_size='auto', \n",
    "                                          learning_rate='constant', learning_rate_init=0.001, \n",
    "                                          power_t=0.5, max_iter=200, shuffle=True, \n",
    "                                          random_state=None, tol=0.0001, verbose=False, \n",
    "                                          warm_start=False, momentum=0.9, \n",
    "                                          nesterovs_momentum=True, early_stopping=False, \n",
    "                                          validation_fraction=0.1, beta_1=0.9, beta_2=0.999, \n",
    "                                          epsilon=1e-08)"
   ]
  },
  {
   "cell_type": "code",
   "execution_count": 5,
   "metadata": {
    "collapsed": false
   },
   "outputs": [
    {
     "name": "stderr",
     "output_type": "stream",
     "text": [
      "/Users/lucasosouza/anaconda/lib/python2.7/site-packages/IPython/kernel/__main__.py:3: FutureWarning: using '-' to provide set differences with Indexes is deprecated, use .difference()\n",
      "  app.launch_new_instance()\n"
     ]
    }
   ],
   "source": [
    "# transform df data into X and y\n",
    "## separate X and y\n",
    "X = df[df.columns - ['Adj Close']]\n",
    "y = df['Adj Close']\n",
    "\n",
    "## normalize X\n",
    "X = (X - X.min()) / (X.max() - X.min())\n",
    "\n",
    "# separate training and testing data\n",
    "def split(array, n):\n",
    "    return array[:n], array[n:]\n",
    "\n",
    "def train_test_data(X,y, test_percent=.3):\n",
    "    length = int(X.shape[0] * (1-test_percent))\n",
    "    X_train, X_test = split(X,length)\n",
    "    y_train, y_test = split(y,length)\n",
    "    return X_train, y_train, X_test, y_test\n",
    "\n",
    "X_train, y_train, X_test, y_test = train_test_data(X,y)"
   ]
  },
  {
   "cell_type": "code",
   "execution_count": 7,
   "metadata": {
    "collapsed": false
   },
   "outputs": [],
   "source": [
    "# feed into nn algorithm\n",
    "reg.fit(X_train, y_train)\n",
    "\n",
    "# predict test data\n",
    "y_pred = reg.predict(X_test)\n",
    "\n",
    "# combine y_train and y_pred, and y_train and y_test, and plot them both\n",
    "y_pred_full = list(y_train) + list(y_pred)\n",
    "\n",
    "# turn into a df and index\n",
    "y_pred_full= pd.DataFrame(y_pred_full, index=y)"
   ]
  },
  {
   "cell_type": "code",
   "execution_count": 8,
   "metadata": {
    "collapsed": false
   },
   "outputs": [],
   "source": [
    "# series_predicted.reindex(y.index)\n",
    "y_pred_full = list(y_train) + list(y_pred)\n",
    "y_pred_full = pd.DataFrame(y_pred_full, index=y.index)"
   ]
  },
  {
   "cell_type": "code",
   "execution_count": 10,
   "metadata": {
    "collapsed": false
   },
   "outputs": [
    {
     "data": {
      "text/plain": [
       "<matplotlib.axes._subplots.AxesSubplot at 0x10bd69610>"
      ]
     },
     "execution_count": 10,
     "metadata": {},
     "output_type": "execute_result"
    },
    {
     "data": {
      "image/png": "[encoded data removed]",
      "text/plain": [
       "<matplotlib.figure.Figure at 0x10beb40d0>"
      ]
     },
     "metadata": {},
     "output_type": "display_data"
    }
   ],
   "source": [
    "# plot\n",
    "# \n",
    "ax = y.plot()\n",
    "y_pred_full.plot(ax = ax)\n",
    "# plt.show()\n",
    "\n",
    "# note: I got used to using ggplot2 for plot, but I need to be able to do the same with \n",
    "# matplotlib. That would increase my skills further using pandas, which are natively\n",
    "# integrated with matplotlib package. "
   ]
  },
  {
   "cell_type": "code",
   "execution_count": 21,
   "metadata": {
    "collapsed": false
   },
   "outputs": [
    {
     "name": "stdout",
     "output_type": "stream",
     "text": [
      "Date\n",
      "2016-01-01     NaN\n",
      "2016-01-04     NaN\n",
      "2016-01-05    6.70\n",
      "2016-01-06    6.87\n",
      "2016-01-07    6.68\n",
      "Name: Adj Close, dtype: float64\n",
      "Date\n",
      "2016-06-14    8.78\n",
      "2016-06-15    8.62\n",
      "2016-06-16    8.30\n",
      "2016-06-17    8.51\n",
      "2016-06-20    8.50\n",
      "Name: Adj Close, dtype: float64\n"
     ]
    }
   ],
   "source": [
    "# okay I can use today's data to predict today price.\n",
    "# the question is, can I use today data to predict tomorrow price? how close?\n",
    "# set up new y with a shift\n",
    "\n",
    "X = X[:-1]\n",
    "y = y[1:].reindex(X.index)\n",
    "\n",
    "# now each line corresponds to the price one day after\n",
    "# re run the procedures\n",
    "# how if they are not functions... dumb ass\n",
    "\n",
    "X_train, y_train, X_test, y_test = train_test_data(X,y)\n",
    "\n",
    "\n",
    "print y.head()\n",
    "print y.tail()\n"
   ]
  },
  {
   "cell_type": "code",
   "execution_count": null,
   "metadata": {
    "collapsed": true
   },
   "outputs": [],
   "source": []
  }
 ],
 "metadata": {
  "kernelspec": {
   "display_name": "Python 2",
   "language": "python",
   "name": "python2"
  },
  "language_info": {
   "codemirror_mode": {
    "name": "ipython",
    "version": 2
   },
   "file_extension": ".py",
   "mimetype": "text/x-python",
   "name": "python",
   "nbconvert_exporter": "python",
   "pygments_lexer": "ipython2",
   "version": "2.7.10"
  }
 },
 "nbformat": 4,
 "nbformat_minor": 0
}
