{
 "cells": [
  {
   "cell_type": "markdown",
   "metadata": {},
   "source": [
    "Using a neural network to predict stock prices, using only basic data"
   ]
  },
  {
   "cell_type": "code",
   "execution_count": 11,
   "metadata": {
    "collapsed": false
   },
   "outputs": [
    {
     "name": "stderr",
     "output_type": "stream",
     "text": [
      ":0: FutureWarning: IPython widgets are experimental and may change in the future.\n"
     ]
    }
   ],
   "source": [
    "%matplotlib inline\n",
    "\n",
    "from matplotlib import pyplot as plt\n",
    "import datetime\n",
    "import pandas_datareader.data as web\n",
    "import pandas as pd\n",
    "import numpy as np\n",
    "import seaborn as sns\n",
    "\n",
    "from sklearn.preprocessing import StandardScaler\n",
    "from sklearn.cross_validation import train_test_split\n",
    "from sklearn.metrics import r2_score\n",
    "\n",
    "# increase default figure size for matplotlib\n",
    "from pylab import rcParams\n",
    "rcParams['figure.figsize'] = 20, 10\n",
    "\n",
    "from collections import defaultdict"
   ]
  },
  {
   "cell_type": "code",
   "execution_count": 115,
   "metadata": {
    "collapsed": false
   },
   "outputs": [],
   "source": [
    "start_date = datetime.datetime(2012,1,1)\n",
    "end_date = datetime.datetime(2016,8,31) \n",
    "symbol = \"PETR4.SA\"\n",
    "df = web.DataReader(symbol, 'yahoo', start_date, end_date)"
   ]
  },
  {
   "cell_type": "code",
   "execution_count": 116,
   "metadata": {
    "collapsed": true
   },
   "outputs": [],
   "source": [
    "# df.ix[:,'Adj Close'].plot()"
   ]
  },
  {
   "cell_type": "code",
   "execution_count": 117,
   "metadata": {
    "collapsed": false
   },
   "outputs": [],
   "source": [
    "# first I have to add a signal, either up or down, to each row\n",
    "df['Delta'] = (df['Adj Close'] / df['Adj Close'].shift(1))-1\n",
    "df['Signal'] = df['Delta']>0\n",
    "df = df.dropna()\n",
    "# df.head()"
   ]
  },
  {
   "cell_type": "code",
   "execution_count": 118,
   "metadata": {
    "collapsed": false
   },
   "outputs": [],
   "source": [
    "# done. now I need to do backward filling, then I'm ready to predict\n",
    "backward = 30\n",
    "for column in ['Delta', 'Volume']:\n",
    "    for i in range(1,backward+1):\n",
    "        new_column = \"{} -d{}\".format(column, i)\n",
    "        for row in range(backward, df.shape[0]):\n",
    "            df.ix[row, new_column] = df.ix[row-i, column]"
   ]
  },
  {
   "cell_type": "code",
   "execution_count": 119,
   "metadata": {
    "collapsed": false
   },
   "outputs": [
    {
     "data": {
      "text/plain": [
       "68"
      ]
     },
     "execution_count": 119,
     "metadata": {},
     "output_type": "execute_result"
    }
   ],
   "source": [
    "df = df.dropna()\n",
    "len(df.columns)"
   ]
  },
  {
   "cell_type": "code",
   "execution_count": 120,
   "metadata": {
    "collapsed": false
   },
   "outputs": [],
   "source": [
    "# deprecated: switch to 2 labels - buy or don't  buy\n",
    "# look back for features, ahead for labeling\n",
    "forward = 10\n",
    "# boundaries\n",
    "soft = .05\n",
    "\n",
    "for row in range(df.shape[0]-forward):\n",
    "    # first - construct forward \n",
    "    count_signals = 0\n",
    "    max_uptick = 0\n",
    "    min_downtick = 0 \n",
    "    \n",
    "    for i in range(1,forward+1):\n",
    "        # capture signals\n",
    "        count_signals += df.ix[row+i, 'Signal']\n",
    "        delta = (df.ix[row+i, 'Adj Close'] / df.ix[row, 'Adj Close'])-1\n",
    "        if delta > max_uptick:\n",
    "            max_uptick = delta\n",
    "        if delta < min_downtick:\n",
    "            min_downtick = delta\n",
    "        \n",
    "        # convert to label\n",
    "        signals = count_signals*1.0/forward\n",
    "    \n",
    "    # up\n",
    "    if max_uptick >= soft and min_downtick <= -soft:\n",
    "        df.ix[row,'Label'] = 1\n",
    "    else:\n",
    "        df.ix[row,'Label'] = 0                        \n",
    "            "
   ]
  },
  {
   "cell_type": "code",
   "execution_count": 121,
   "metadata": {
    "collapsed": false
   },
   "outputs": [
    {
     "data": {
      "text/plain": [
       "0.0    0.906278\n",
       "1.0    0.084881\n",
       "Name: Label, dtype: float64"
      ]
     },
     "execution_count": 121,
     "metadata": {},
     "output_type": "execute_result"
    }
   ],
   "source": [
    "df['Label'].value_counts(normalize=True, sort=False)"
   ]
  },
  {
   "cell_type": "code",
   "execution_count": 122,
   "metadata": {
    "collapsed": false
   },
   "outputs": [],
   "source": [
    "df = df.dropna()"
   ]
  },
  {
   "cell_type": "code",
   "execution_count": 123,
   "metadata": {
    "collapsed": true
   },
   "outputs": [],
   "source": [
    "# now to classification\n",
    "# it is far from a minimal necessary\n",
    "# but I will see what values can I get\n",
    "# start with a simple tree\n"
   ]
  },
  {
   "cell_type": "code",
   "execution_count": 124,
   "metadata": {
    "collapsed": true
   },
   "outputs": [],
   "source": [
    "X = df.drop('Label', axis=1)\n",
    "y = df['Label']\n",
    "X_train, X_test, y_train, y_test =  train_test_split(X, y, test_size=0.3, random_state=42, stratify=y)\n",
    "y_pred_random = np.random.random_integers(low=0, high=1, size=len(y_test))"
   ]
  },
  {
   "cell_type": "code",
   "execution_count": 130,
   "metadata": {
    "collapsed": false
   },
   "outputs": [
    {
     "name": "stdout",
     "output_type": "stream",
     "text": [
      "<class 'sklearn.ensemble.gradient_boosting.GradientBoostingClassifier'>\n",
      "0.33\n",
      "[[304   4]\n",
      " [ 27   2]]\n",
      "<class 'sklearn.tree.tree.DecisionTreeClassifier'>\n",
      "0.22\n",
      "[[283  25]\n",
      " [ 22   7]]\n",
      "<class 'sklearn.svm.classes.SVC'>\n",
      "0.00\n",
      "[[308   0]\n",
      " [ 29   0]]\n",
      "<class 'sklearn.naive_bayes.GaussianNB'>\n",
      "0.21\n",
      "[[275  33]\n",
      " [ 20   9]]\n",
      "<class 'sklearn.neural_network.multilayer_perceptron.MLPClassifier'>\n",
      "0.10\n",
      "[[270  38]\n",
      " [ 25   4]]\n",
      "<class 'sklearn.neighbors.classification.KNeighborsClassifier'>\n",
      "0.00\n",
      "[[302   6]\n",
      " [ 29   0]]\n"
     ]
    }
   ],
   "source": [
    "from sklearn.tree import DecisionTreeClassifier as Tree\n",
    "from sklearn.ensemble import GradientBoostingClassifier as GBC\n",
    "from sklearn.cross_validation import train_test_split\n",
    "from sklearn.svm import SVC\n",
    "from sklearn.naive_bayes import GaussianNB\n",
    "from sklearn.neural_network import MLPClassifier as NN\n",
    "from sklearn.neighbors import KNeighborsClassifier as kNN\n",
    "from sklearn.metrics import confusion_matrix\n",
    "from sklearn.metrics import accuracy_score\n",
    "from sklearn.metrics import f1_score\n",
    "from sklearn.metrics import precision_score\n",
    "from sklearn.metrics import recall_score\n",
    "import warnings\n",
    "warnings.filterwarnings(\"ignore\", category=DeprecationWarning)\n",
    "\n",
    "np.random.seed(33)\n",
    "classifiers = [GBC(), Tree(), SVC(), GaussianNB(), NN(), kNN()]\n",
    "# print accuracy_score(y_test, y_pred_random), f1_score(y_test, y_pred_random)\n",
    "for clf in classifiers:    \n",
    "    clf.fit(X_train, y_train)\n",
    "    y_pred = clf.predict(X_test)\n",
    "    print clf.__class__\n",
    "    print \"{:.2f}\".format(precision_score(y_test, y_pred))\n",
    "    print confusion_matrix(y_test, y_pred)"
   ]
  },
  {
   "cell_type": "code",
   "execution_count": 126,
   "metadata": {
    "collapsed": true
   },
   "outputs": [],
   "source": [
    "# kNN and Gradient Boosting are good performers\n",
    "# what happens if I follow this straight\n",
    "# I will buy it. sell it when it values .05\n",
    "# I will be right 60% of the time\n",
    "# so I lose on 40%, win on 60%\n",
    "# when I win, I win 0.05. when I lose, I loose 0.05\n",
    "# it can't variate more than .05 down as well"
   ]
  },
  {
   "cell_type": "code",
   "execution_count": 131,
   "metadata": {
    "collapsed": true
   },
   "outputs": [],
   "source": [
    "# new challenge\n",
    "# implement a qlearning algorithm\n",
    "# in which the goal is to maximize the strategy parameters\n",
    "# the strategy parameters are:\n",
    "# how much days I wait to sell\n",
    "# how  much up it will get\n",
    "# how much down it will get\n",
    "\n",
    "# implement an agent\n",
    "# he will set a strategy\n",
    "# that will be defined by trading period\n",
    "# profit_realization and stop_loss parameters\n",
    "# he will then train an algorithm\n",
    "# and test its precision\n",
    "# if it is greater than the minimum requirement, done, he will apply\n",
    "# if not, he will update the parameters and try again\n",
    "\n",
    "# he doesn't need to apply the strategy to see if it's effective\n",
    "# he only needs to see the precision and he will know the outcome\n",
    "\n",
    "# how does reward works?\n",
    "# he know beforehand how much he is expect to lose if he follow the strategy\n",
    "\n",
    "# what are the states?\n",
    "# the state is a combination of these 3 parameters\n",
    "# it is not a RL problem\n",
    "# but I can solve with GA\n",
    "\n",
    "class Strategy():\n",
    "    \n",
    "    def __init__(self, span = 10, stop_loss = .5, profit_margin = .5):\n",
    "        self.span = span\n",
    "        self.stop_loss = stop_loss\n",
    "        self.profit_margin = profit_margin\n",
    "    \n",
    "\n",
    "class \n",
    "    \n",
    "            "
   ]
  },
  {
   "cell_type": "code",
   "execution_count": 127,
   "metadata": {
    "collapsed": false
   },
   "outputs": [
    {
     "name": "stdout",
     "output_type": "stream",
     "text": [
      "count_signals: 4, signals: 0.4, max_uptick: 0.052, min_downtick: -0.012\n",
      "count_signals: 3, signals: 0.3, max_uptick: 0.004, min_downtick: -0.040\n",
      "count_signals: 7, signals: 0.7, max_uptick: 0.167, min_downtick: -0.007\n",
      "count_signals: 6, signals: 0.6, max_uptick: 0.085, min_downtick: -0.007\n",
      "count_signals: 4, signals: 0.4, max_uptick: 0.026, min_downtick: -0.066\n",
      "count_signals: 5, signals: 0.5, max_uptick: 0.077, min_downtick: -0.081\n",
      "count_signals: 4, signals: 0.4, max_uptick: 0.036, min_downtick: -0.083\n",
      "count_signals: 6, signals: 0.6, max_uptick: 0.053, min_downtick: -0.111\n",
      "count_signals: 4, signals: 0.4, max_uptick: 0.110, min_downtick: -0.068\n",
      "count_signals: 5, signals: 0.5, max_uptick: 0.019, min_downtick: -0.052\n"
     ]
    }
   ],
   "source": [
    "# deprecated: switch to 2 labels - buy or don't  buy\n",
    "# look back for features, ahead for labeling\n",
    "forward = 10\n",
    "# boundaries\n",
    "soft = df['Delta'].std()\n",
    "hard = soft*2                     \n",
    "\n",
    "for row in range(df.shape[0]-forward):\n",
    "    # first - construct forward \n",
    "    count_signals = 0\n",
    "    max_uptick = 0\n",
    "    min_downtick = 0 \n",
    "    \n",
    "    for i in range(1,forward+1):\n",
    "        # capture signals\n",
    "        count_signals += df.ix[row+i, 'Signal']\n",
    "        delta = (df.ix[row+i, 'Adj Close'] / df.ix[row, 'Adj Close'])-1\n",
    "        if delta > max_uptick:\n",
    "            max_uptick = delta\n",
    "        if delta < min_downtick:\n",
    "            min_downtick = delta\n",
    "        \n",
    "        # convert to label\n",
    "        signals = count_signals*1.0/forward\n",
    "\n",
    "    # test\n",
    "    if row%123 == 0:\n",
    "        print \"count_signals: {}, signals: {:.1f}, max_uptick: {:.3f}, min_downtick: {:.3f}\".format(\n",
    "            count_signals, signals, max_uptick, min_downtick)\n",
    "    \n",
    "    # up\n",
    "    if signals >= .8 and max_uptick >= hard:\n",
    "        df.ix[row,'Label'] = 5\n",
    "    elif (signals >= .7 and max_uptick >= soft) or max_uptick >= hard or signals >=.8:\n",
    "        df.ix[row,'Label'] = 4\n",
    "    # down\n",
    "    elif signals <= .2 and min_downtick <= -hard:\n",
    "        df.ix[row,'Label'] = 1\n",
    "    elif (signals <= .3 and min_downtick <= -soft) or min_downtick <= -hard or signals <=.2:\n",
    "        df.ix[row,'Label'] = 2\n",
    "    # neutral\n",
    "    else:\n",
    "        df.ix[row,'Label'] = 3                        \n",
    "            "
   ]
  },
  {
   "cell_type": "code",
   "execution_count": null,
   "metadata": {
    "collapsed": true
   },
   "outputs": [],
   "source": []
  },
  {
   "cell_type": "code",
   "execution_count": null,
   "metadata": {
    "collapsed": true
   },
   "outputs": [],
   "source": []
  }
 ],
 "metadata": {
  "kernelspec": {
   "display_name": "Python 2",
   "language": "python",
   "name": "python2"
  },
  "language_info": {
   "codemirror_mode": {
    "name": "ipython",
    "version": 2
   },
   "file_extension": ".py",
   "mimetype": "text/x-python",
   "name": "python",
   "nbconvert_exporter": "python",
   "pygments_lexer": "ipython2",
   "version": "2.7.10"
  }
 },
 "nbformat": 4,
 "nbformat_minor": 0
}
