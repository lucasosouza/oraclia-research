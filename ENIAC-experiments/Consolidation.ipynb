{
 "cells": [
  {
   "cell_type": "code",
   "execution_count": 1,
   "metadata": {
    "collapsed": true
   },
   "outputs": [],
   "source": [
    "import pandas as pd\n",
    "import pickle\n",
    "import pandas_datareader.data as web\n"
   ]
  },
  {
   "cell_type": "code",
   "execution_count": 4,
   "metadata": {
    "collapsed": false
   },
   "outputs": [
    {
     "data": {
      "text/html": [
       "<div>\n",
       "<table border=\"1\" class=\"dataframe\">\n",
       "  <thead>\n",
       "    <tr style=\"text-align: right;\">\n",
       "      <th></th>\n",
       "      <th>CV_Precision_Mean</th>\n",
       "      <th>CV_Precision_CI</th>\n",
       "      <th>CV_Success%</th>\n",
       "      <th>Test_Precision</th>\n",
       "      <th>Test_Success%</th>\n",
       "      <th>Profits</th>\n",
       "    </tr>\n",
       "  </thead>\n",
       "  <tbody>\n",
       "    <tr>\n",
       "      <th>ITUB4</th>\n",
       "      <td>0.865</td>\n",
       "      <td>0.131</td>\n",
       "      <td>0.128</td>\n",
       "      <td>NaN</td>\n",
       "      <td>NaN</td>\n",
       "      <td>NaN</td>\n",
       "    </tr>\n",
       "    <tr>\n",
       "      <th>BBDC4</th>\n",
       "      <td>0.918</td>\n",
       "      <td>0.105</td>\n",
       "      <td>0.142</td>\n",
       "      <td>NaN</td>\n",
       "      <td>NaN</td>\n",
       "      <td>NaN</td>\n",
       "    </tr>\n",
       "    <tr>\n",
       "      <th>ABEV3</th>\n",
       "      <td>0.853</td>\n",
       "      <td>0.153</td>\n",
       "      <td>0.068</td>\n",
       "      <td>NaN</td>\n",
       "      <td>NaN</td>\n",
       "      <td>NaN</td>\n",
       "    </tr>\n",
       "    <tr>\n",
       "      <th>PETR4</th>\n",
       "      <td>0.876</td>\n",
       "      <td>0.107</td>\n",
       "      <td>0.167</td>\n",
       "      <td>NaN</td>\n",
       "      <td>NaN</td>\n",
       "      <td>NaN</td>\n",
       "    </tr>\n",
       "    <tr>\n",
       "      <th>VALE5</th>\n",
       "      <td>0.881</td>\n",
       "      <td>0.132</td>\n",
       "      <td>0.168</td>\n",
       "      <td>NaN</td>\n",
       "      <td>NaN</td>\n",
       "      <td>NaN</td>\n",
       "    </tr>\n",
       "    <tr>\n",
       "      <th>VALE3</th>\n",
       "      <td>0.861</td>\n",
       "      <td>0.117</td>\n",
       "      <td>0.169</td>\n",
       "      <td>NaN</td>\n",
       "      <td>NaN</td>\n",
       "      <td>NaN</td>\n",
       "    </tr>\n",
       "    <tr>\n",
       "      <th>BBAS3</th>\n",
       "      <td>0.889</td>\n",
       "      <td>0.087</td>\n",
       "      <td>0.189</td>\n",
       "      <td>NaN</td>\n",
       "      <td>NaN</td>\n",
       "      <td>NaN</td>\n",
       "    </tr>\n",
       "    <tr>\n",
       "      <th>PETR3</th>\n",
       "      <td>0.858</td>\n",
       "      <td>0.084</td>\n",
       "      <td>0.183</td>\n",
       "      <td>NaN</td>\n",
       "      <td>NaN</td>\n",
       "      <td>NaN</td>\n",
       "    </tr>\n",
       "  </tbody>\n",
       "</table>\n",
       "</div>"
      ],
      "text/plain": [
       "      CV_Precision_Mean CV_Precision_CI CV_Success% Test_Precision  \\\n",
       "ITUB4             0.865           0.131       0.128            NaN   \n",
       "BBDC4             0.918           0.105       0.142            NaN   \n",
       "ABEV3             0.853           0.153       0.068            NaN   \n",
       "PETR4             0.876           0.107       0.167            NaN   \n",
       "VALE5             0.881           0.132       0.168            NaN   \n",
       "VALE3             0.861           0.117       0.169            NaN   \n",
       "BBAS3             0.889           0.087       0.189            NaN   \n",
       "PETR3             0.858           0.084       0.183            NaN   \n",
       "\n",
       "      Test_Success% Profits  \n",
       "ITUB4           NaN     NaN  \n",
       "BBDC4           NaN     NaN  \n",
       "ABEV3           NaN     NaN  \n",
       "PETR4           NaN     NaN  \n",
       "VALE5           NaN     NaN  \n",
       "VALE3           NaN     NaN  \n",
       "BBAS3           NaN     NaN  \n",
       "PETR3           NaN     NaN  "
      ]
     },
     "execution_count": 4,
     "metadata": {},
     "output_type": "execute_result"
    }
   ],
   "source": [
    "pd.options.display.float_format = '{:,.3f}'.format\n",
    "results = pd.read_pickle(\"experiment_results_gb.p\")\n",
    "results.ix['Conservative']"
   ]
  },
  {
   "cell_type": "code",
   "execution_count": 5,
   "metadata": {
    "collapsed": false
   },
   "outputs": [
    {
     "data": {
      "text/html": [
       "<div>\n",
       "<table border=\"1\" class=\"dataframe\">\n",
       "  <thead>\n",
       "    <tr style=\"text-align: right;\">\n",
       "      <th></th>\n",
       "      <th>CV_Precision_Mean</th>\n",
       "      <th>CV_Precision_CI</th>\n",
       "      <th>CV_Success%</th>\n",
       "      <th>Test_Precision</th>\n",
       "      <th>Test_Success%</th>\n",
       "      <th>Profits</th>\n",
       "    </tr>\n",
       "  </thead>\n",
       "  <tbody>\n",
       "    <tr>\n",
       "      <th>ITUB4</th>\n",
       "      <td>0.806</td>\n",
       "      <td>0.119</td>\n",
       "      <td>0.128</td>\n",
       "      <td>NaN</td>\n",
       "      <td>NaN</td>\n",
       "      <td>NaN</td>\n",
       "    </tr>\n",
       "    <tr>\n",
       "      <th>BBDC4</th>\n",
       "      <td>0.906</td>\n",
       "      <td>0.199</td>\n",
       "      <td>0.142</td>\n",
       "      <td>NaN</td>\n",
       "      <td>NaN</td>\n",
       "      <td>NaN</td>\n",
       "    </tr>\n",
       "    <tr>\n",
       "      <th>ABEV3</th>\n",
       "      <td>0.860</td>\n",
       "      <td>0.191</td>\n",
       "      <td>0.068</td>\n",
       "      <td>NaN</td>\n",
       "      <td>NaN</td>\n",
       "      <td>NaN</td>\n",
       "    </tr>\n",
       "    <tr>\n",
       "      <th>PETR4</th>\n",
       "      <td>0.879</td>\n",
       "      <td>0.125</td>\n",
       "      <td>0.167</td>\n",
       "      <td>NaN</td>\n",
       "      <td>NaN</td>\n",
       "      <td>NaN</td>\n",
       "    </tr>\n",
       "    <tr>\n",
       "      <th>VALE5</th>\n",
       "      <td>0.874</td>\n",
       "      <td>0.122</td>\n",
       "      <td>0.168</td>\n",
       "      <td>NaN</td>\n",
       "      <td>NaN</td>\n",
       "      <td>NaN</td>\n",
       "    </tr>\n",
       "    <tr>\n",
       "      <th>VALE3</th>\n",
       "      <td>0.856</td>\n",
       "      <td>0.075</td>\n",
       "      <td>0.169</td>\n",
       "      <td>NaN</td>\n",
       "      <td>NaN</td>\n",
       "      <td>NaN</td>\n",
       "    </tr>\n",
       "    <tr>\n",
       "      <th>BBAS3</th>\n",
       "      <td>0.862</td>\n",
       "      <td>0.105</td>\n",
       "      <td>0.189</td>\n",
       "      <td>NaN</td>\n",
       "      <td>NaN</td>\n",
       "      <td>NaN</td>\n",
       "    </tr>\n",
       "    <tr>\n",
       "      <th>PETR3</th>\n",
       "      <td>0.887</td>\n",
       "      <td>0.114</td>\n",
       "      <td>0.183</td>\n",
       "      <td>NaN</td>\n",
       "      <td>NaN</td>\n",
       "      <td>NaN</td>\n",
       "    </tr>\n",
       "  </tbody>\n",
       "</table>\n",
       "</div>"
      ],
      "text/plain": [
       "      CV_Precision_Mean CV_Precision_CI CV_Success% Test_Precision  \\\n",
       "ITUB4             0.806           0.119       0.128            NaN   \n",
       "BBDC4             0.906           0.199       0.142            NaN   \n",
       "ABEV3             0.860           0.191       0.068            NaN   \n",
       "PETR4             0.879           0.125       0.167            NaN   \n",
       "VALE5             0.874           0.122       0.168            NaN   \n",
       "VALE3             0.856           0.075       0.169            NaN   \n",
       "BBAS3             0.862           0.105       0.189            NaN   \n",
       "PETR3             0.887           0.114       0.183            NaN   \n",
       "\n",
       "      Test_Success% Profits  \n",
       "ITUB4           NaN     NaN  \n",
       "BBDC4           NaN     NaN  \n",
       "ABEV3           NaN     NaN  \n",
       "PETR4           NaN     NaN  \n",
       "VALE5           NaN     NaN  \n",
       "VALE3           NaN     NaN  \n",
       "BBAS3           NaN     NaN  \n",
       "PETR3           NaN     NaN  "
      ]
     },
     "execution_count": 5,
     "metadata": {},
     "output_type": "execute_result"
    }
   ],
   "source": [
    "results = pd.read_pickle(\"experiment_results_rf.p\")\n",
    "results.ix['Conservative']"
   ]
  },
  {
   "cell_type": "code",
   "execution_count": 6,
   "metadata": {
    "collapsed": false
   },
   "outputs": [
    {
     "data": {
      "text/html": [
       "<div>\n",
       "<table border=\"1\" class=\"dataframe\">\n",
       "  <thead>\n",
       "    <tr style=\"text-align: right;\">\n",
       "      <th></th>\n",
       "      <th>CV_Precision_Mean</th>\n",
       "      <th>CV_Precision_CI</th>\n",
       "      <th>CV_Success%</th>\n",
       "      <th>Test_Precision</th>\n",
       "      <th>Test_Success%</th>\n",
       "      <th>Profits</th>\n",
       "    </tr>\n",
       "  </thead>\n",
       "  <tbody>\n",
       "    <tr>\n",
       "      <th>ITUB4</th>\n",
       "      <td>0.797</td>\n",
       "      <td>0.142</td>\n",
       "      <td>0.128</td>\n",
       "      <td>NaN</td>\n",
       "      <td>NaN</td>\n",
       "      <td>NaN</td>\n",
       "    </tr>\n",
       "    <tr>\n",
       "      <th>BBDC4</th>\n",
       "      <td>0.763</td>\n",
       "      <td>0.116</td>\n",
       "      <td>0.142</td>\n",
       "      <td>NaN</td>\n",
       "      <td>NaN</td>\n",
       "      <td>NaN</td>\n",
       "    </tr>\n",
       "    <tr>\n",
       "      <th>ABEV3</th>\n",
       "      <td>0.787</td>\n",
       "      <td>0.096</td>\n",
       "      <td>0.068</td>\n",
       "      <td>NaN</td>\n",
       "      <td>NaN</td>\n",
       "      <td>NaN</td>\n",
       "    </tr>\n",
       "    <tr>\n",
       "      <th>PETR4</th>\n",
       "      <td>0.791</td>\n",
       "      <td>0.067</td>\n",
       "      <td>0.167</td>\n",
       "      <td>NaN</td>\n",
       "      <td>NaN</td>\n",
       "      <td>NaN</td>\n",
       "    </tr>\n",
       "    <tr>\n",
       "      <th>VALE5</th>\n",
       "      <td>0.806</td>\n",
       "      <td>0.096</td>\n",
       "      <td>0.168</td>\n",
       "      <td>NaN</td>\n",
       "      <td>NaN</td>\n",
       "      <td>NaN</td>\n",
       "    </tr>\n",
       "    <tr>\n",
       "      <th>VALE3</th>\n",
       "      <td>0.806</td>\n",
       "      <td>0.098</td>\n",
       "      <td>0.169</td>\n",
       "      <td>NaN</td>\n",
       "      <td>NaN</td>\n",
       "      <td>NaN</td>\n",
       "    </tr>\n",
       "    <tr>\n",
       "      <th>BBAS3</th>\n",
       "      <td>0.787</td>\n",
       "      <td>0.061</td>\n",
       "      <td>0.189</td>\n",
       "      <td>NaN</td>\n",
       "      <td>NaN</td>\n",
       "      <td>NaN</td>\n",
       "    </tr>\n",
       "    <tr>\n",
       "      <th>PETR3</th>\n",
       "      <td>0.801</td>\n",
       "      <td>0.085</td>\n",
       "      <td>0.183</td>\n",
       "      <td>NaN</td>\n",
       "      <td>NaN</td>\n",
       "      <td>NaN</td>\n",
       "    </tr>\n",
       "  </tbody>\n",
       "</table>\n",
       "</div>"
      ],
      "text/plain": [
       "      CV_Precision_Mean CV_Precision_CI CV_Success% Test_Precision  \\\n",
       "ITUB4             0.797           0.142       0.128            NaN   \n",
       "BBDC4             0.763           0.116       0.142            NaN   \n",
       "ABEV3             0.787           0.096       0.068            NaN   \n",
       "PETR4             0.791           0.067       0.167            NaN   \n",
       "VALE5             0.806           0.096       0.168            NaN   \n",
       "VALE3             0.806           0.098       0.169            NaN   \n",
       "BBAS3             0.787           0.061       0.189            NaN   \n",
       "PETR3             0.801           0.085       0.183            NaN   \n",
       "\n",
       "      Test_Success% Profits  \n",
       "ITUB4           NaN     NaN  \n",
       "BBDC4           NaN     NaN  \n",
       "ABEV3           NaN     NaN  \n",
       "PETR4           NaN     NaN  \n",
       "VALE5           NaN     NaN  \n",
       "VALE3           NaN     NaN  \n",
       "BBAS3           NaN     NaN  \n",
       "PETR3           NaN     NaN  "
      ]
     },
     "execution_count": 6,
     "metadata": {},
     "output_type": "execute_result"
    }
   ],
   "source": [
    "results = pd.read_pickle(\"experiment_results_knn.p\")\n",
    "results.ix['Conservative']"
   ]
  },
  {
   "cell_type": "code",
   "execution_count": 93,
   "metadata": {
    "collapsed": true
   },
   "outputs": [],
   "source": [
    "# clearly overfitting... waaay overfitted\n",
    "# need a lot more regularization in order to perform better"
   ]
  },
  {
   "cell_type": "code",
   "execution_count": 94,
   "metadata": {
    "collapsed": false
   },
   "outputs": [
    {
     "data": {
      "text/plain": [
       "MultiIndex(levels=[['Conservative'], ['ABEV3', 'BBAS3', 'BBDC4', 'ITUB4', 'PETR3', 'PETR4', 'VALE3', 'VALE5']],\n",
       "           labels=[[0, 0, 0, 0, 0, 0, 0, 0], [3, 2, 0, 5, 7, 6, 1, 4]])"
      ]
     },
     "execution_count": 94,
     "metadata": {},
     "output_type": "execute_result"
    }
   ],
   "source": [
    "results.index"
   ]
  },
  {
   "cell_type": "code",
   "execution_count": 95,
   "metadata": {
    "collapsed": false
   },
   "outputs": [],
   "source": [
    "strategy = 'Conservative'\n",
    "symbol = 'PETR4'\n",
    "with open(strategy + '_' + symbol + '_train.p', 'rb') as f:\n",
    "    data = pickle.load(f)"
   ]
  },
  {
   "cell_type": "code",
   "execution_count": null,
   "metadata": {
    "collapsed": false
   },
   "outputs": [],
   "source": []
  },
  {
   "cell_type": "code",
   "execution_count": 75,
   "metadata": {
    "collapsed": false
   },
   "outputs": [
    {
     "data": {
      "text/plain": [
       "0.5886752136752136"
      ]
     },
     "execution_count": 75,
     "metadata": {},
     "output_type": "execute_result"
    }
   ],
   "source": [
    "start_date_test = '2015-01-02'\n",
    "end_date_test='2016-12-30'\n",
    "\n",
    "sd = web.DataReader(symbol + '.SA', 'yahoo', start_date_test, start_date_test)\n",
    "ed = web.DataReader(symbol + '.SA', 'yahoo', end_date_test, end_date_test)\n",
    "float(ed['Adj Close']) / float(sd['Adj Close']) - 1"
   ]
  },
  {
   "cell_type": "code",
   "execution_count": 70,
   "metadata": {
    "collapsed": false
   },
   "outputs": [
    {
     "data": {
      "text/plain": [
       "0.5886752136752136"
      ]
     },
     "execution_count": 70,
     "metadata": {},
     "output_type": "execute_result"
    }
   ],
   "source": []
  },
  {
   "cell_type": "code",
   "execution_count": null,
   "metadata": {
    "collapsed": true
   },
   "outputs": [],
   "source": []
  }
 ],
 "metadata": {
  "anaconda-cloud": {},
  "kernelspec": {
   "display_name": "Python [conda env:udacity]",
   "language": "python",
   "name": "conda-env-udacity-py"
  },
  "language_info": {
   "codemirror_mode": {
    "name": "ipython",
    "version": 3
   },
   "file_extension": ".py",
   "mimetype": "text/x-python",
   "name": "python",
   "nbconvert_exporter": "python",
   "pygments_lexer": "ipython3",
   "version": "3.5.2"
  }
 },
 "nbformat": 4,
 "nbformat_minor": 1
}
