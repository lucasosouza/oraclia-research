{
 "cells": [
  {
   "cell_type": "markdown",
   "metadata": {},
   "source": [
    "## Loading up required libraries and configurations"
   ]
  },
  {
   "cell_type": "code",
   "execution_count": 1,
   "metadata": {
    "collapsed": false
   },
   "outputs": [],
   "source": [
    "import quandl\n",
    "import pandas_datareader.data as web\n",
    "import datetime\n",
    "import pandas as pd\n",
    "import sklearn\n",
    "import numpy as np\n",
    "from collections import defaultdict\n",
    "from IPython.display import display\n",
    "import scipy as sp\n",
    "from operator import methodcaller\n",
    "import time\n",
    "\n",
    "#set reload\n",
    "%reload_ext autoreload\n",
    "%autoreload 1\n",
    "\n",
    "# evaluate usage\n",
    "pd.options.mode.chained_assignment = None  # default='warn'"
   ]
  },
  {
   "cell_type": "code",
   "execution_count": 2,
   "metadata": {
    "collapsed": false
   },
   "outputs": [],
   "source": [
    "import seaborn as sns\n",
    "import matplotlib.pyplot as plt\n",
    "%matplotlib inline"
   ]
  },
  {
   "cell_type": "code",
   "execution_count": 3,
   "metadata": {
    "collapsed": false
   },
   "outputs": [],
   "source": [
    "\"\"\"\"\n",
    "usage of this API key is monitored\n",
    "don't use this key for any other work, neither make it available on the web by any means\n",
    "if you would like to access the same API for a different project,\n",
    "create an account in quandl.com (it is free) and generate your own API key\n",
    "\"\"\" \n",
    "quandl.ApiConfig.api_key = \"1513txcURR4fYyP5VDU3\""
   ]
  },
  {
   "cell_type": "code",
   "execution_count": 4,
   "metadata": {
    "collapsed": true
   },
   "outputs": [],
   "source": [
    "ibx50 = ['ABEV3','BBAS3','BBDC3','BBDC4','BBSE3','BRFS3','BRKM5','BRML3','BVMF3',\n",
    "         'CCRO3','CIEL3','CMIG4','CPFE3','CSAN3','CSNA3','CTIP3','EGIE3','EMBR3',\n",
    "         'ENBR3','EQTL3','ESTC3','FIBR3','GGBR4','GOAU4','HYPE3','ITSA4','ITUB4',\n",
    "         'JBSS3','KLBN1','KROT3','LAME4','LREN3','MRVE3','MULT3','NATU3','PCAR4',\n",
    "         'PETR3','PETR4','QUAL3','RADL3','RUMO3','SBSP3','SMLE3','SUZB5','UGPA3',\n",
    "         'USIM5','VALE3','VALE5','VIVT4','WEGE3']"
   ]
  },
  {
   "cell_type": "markdown",
   "metadata": {},
   "source": [
    "## Generate Dataset"
   ]
  },
  {
   "cell_type": "code",
   "execution_count": 5,
   "metadata": {
    "collapsed": false
   },
   "outputs": [],
   "source": [
    "%aimport data_transform\n",
    "%aimport simulator"
   ]
  },
  {
   "cell_type": "code",
   "execution_count": 6,
   "metadata": {
    "collapsed": false
   },
   "outputs": [],
   "source": [
    "start_date='1992-1-1'\n",
    "end_date='2016-12-31'\n",
    "market_df = data_transform.download_market_data(start_date=start_date, end_date=end_date)"
   ]
  },
  {
   "cell_type": "code",
   "execution_count": 7,
   "metadata": {
    "collapsed": true
   },
   "outputs": [],
   "source": [
    "span = 5 # 10\n",
    "profit = .05 # .09"
   ]
  },
  {
   "cell_type": "code",
   "execution_count": 8,
   "metadata": {
    "collapsed": false
   },
   "outputs": [
    {
     "name": "stdout",
     "output_type": "stream",
     "text": [
      "Bovespa total volume 0.257050282011\n",
      "Bovespa index 0.252970118805\n",
      "Foreign exchange operations balance 0.749429977199\n",
      "International Reserves 0.447257890316\n",
      "IGP-M 0.964118564743\n",
      "Nasdaq index 0.494659786391\n",
      "BM&F Gold gramme 0.258850354014\n",
      "Dow Jones index 0.48721948878\n",
      "Selic 0.21852874115\n",
      "Exchange Rate USD Sell 0.247329893196\n"
     ]
    }
   ],
   "source": [
    "for col in market_df.columns:\n",
    "    print(col, sum(market_df[col] == 0) / market_df.shape[0])"
   ]
  },
  {
   "cell_type": "code",
   "execution_count": 9,
   "metadata": {
    "collapsed": false
   },
   "outputs": [
    {
     "data": {
      "text/plain": [
       "Date\n",
       "2016-12-02    130.49\n",
       "2016-12-03      0.00\n",
       "2016-12-04      0.00\n",
       "2016-12-05    128.70\n",
       "2016-12-06    127.00\n",
       "2016-12-07    127.00\n",
       "2016-12-08    127.00\n",
       "2016-12-09    125.80\n",
       "2016-12-10      0.00\n",
       "2016-12-11      0.00\n",
       "2016-12-12    124.50\n",
       "2016-12-13    123.30\n",
       "2016-12-14    123.90\n",
       "2016-12-15    122.20\n",
       "2016-12-16    123.20\n",
       "2016-12-17    122.65\n",
       "2016-12-18      0.00\n",
       "2016-12-19      0.00\n",
       "2016-12-20    121.40\n",
       "2016-12-21    120.00\n",
       "2016-12-22    119.50\n",
       "2016-12-23    117.71\n",
       "2016-12-24      0.00\n",
       "2016-12-25      0.00\n",
       "2016-12-26    118.50\n",
       "2016-12-27    119.00\n",
       "2016-12-28    119.02\n",
       "2016-12-29    118.80\n",
       "2016-12-30      0.00\n",
       "2016-12-31      0.00\n",
       "Name: BM&F Gold gramme, dtype: float64"
      ]
     },
     "execution_count": 9,
     "metadata": {},
     "output_type": "execute_result"
    }
   ],
   "source": [
    "market_df['BM&F Gold gramme'][-30:]"
   ]
  },
  {
   "cell_type": "code",
   "execution_count": 10,
   "metadata": {
    "collapsed": false
   },
   "outputs": [],
   "source": [
    "# create analysts\n",
    "data = {}\n",
    "# stocks= ['ABEV3', 'BBDC4', 'ITUB4', 'PETR4', 'VALE5'] \n",
    "#stocks = ['ITUB4', 'BBDC4', 'ABEV3', 'PETR4', 'VALE5', 'VALE3', 'BBAS3', 'PETR3', \n",
    "#          'BVMF3', 'ITSA4', 'BRFS3', 'UGPA3', 'CIEL3', 'KROT3', 'BBSE3', 'CCRO3']\n",
    "stocks = ['PETR4', 'VALE5']\n",
    "\n",
    "\n",
    "# represents around 25% of IBOV\n",
    "analysts = []\n",
    "start_date='1992-1-1'\n",
    "end_date_train =  '2014-12-31'\n",
    "start_date_test = '2015-01-01'\n",
    "for symbol in stocks:\n",
    "    data[symbol + '_X'], data[symbol + '_y'], column_names = \\\n",
    "    data_transform.gen_data(symbol, market_df, start_date, end_date_train, span=span, profit=profit)\n",
    "\n",
    "# took about 2 minutes to compute in local machine"
   ]
  },
  {
   "cell_type": "code",
   "execution_count": 11,
   "metadata": {
    "collapsed": false
   },
   "outputs": [
    {
     "data": {
      "text/plain": [
       "((3667, 2074), (3667,))"
      ]
     },
     "execution_count": 11,
     "metadata": {},
     "output_type": "execute_result"
    }
   ],
   "source": [
    "# analyze dimensions\n",
    "data[stocks[0]].shape, data[stocks[0]].shape"
   ]
  },
  {
   "cell_type": "code",
   "execution_count": 12,
   "metadata": {
    "collapsed": false
   },
   "outputs": [],
   "source": [
    "# save dataset\n",
    "import pickle\n",
    "with open('data.p', 'wb') as f:\n",
    "    pickle.dump(data, f)\n",
    "    \n",
    "# 257mb file"
   ]
  },
  {
   "cell_type": "markdown",
   "metadata": {},
   "source": [
    "## Validating"
   ]
  },
  {
   "cell_type": "code",
   "execution_count": 13,
   "metadata": {
    "collapsed": false
   },
   "outputs": [
    {
     "name": "stdout",
     "output_type": "stream",
     "text": [
      "Precision for ABEV3: 0.77 (+/- 0.19)\n",
      "Precision for BBDC4: 0.78 (+/- 0.16)\n",
      "Precision for ITUB4: 0.75 (+/- 0.20)\n",
      "Precision for PETR4: 0.75 (+/- 0.11)\n",
      "Precision for VALE5: 0.77 (+/- 0.12)\n"
     ]
    }
   ],
   "source": [
    "from sklearn.ensemble import RandomForestClassifier\n",
    "from sklearn.model_selection import StratifiedShuffleSplit\n",
    "from sklearn.model_selection import cross_val_score\n",
    "from sklearn.preprocessing import StandardScaler\n",
    "\n",
    "for symbol in stocks:\n",
    "    # get data\n",
    "    X, y = data[symbol + '_X'], data[symbol + '_y']\n",
    "\n",
    "    # scale\n",
    "    scaler = StandardScaler()\n",
    "    X = scaler.fit_transform(X)\n",
    "    data[symbol + '_scaler'] = scaler\n",
    "\n",
    "    # predict\n",
    "    clf = RandomForestClassifier()\n",
    "    clf.fit(X, y)\n",
    "    data[symbol + '_clf'] = clf\n",
    "\n",
    "    # validate\n",
    "    cv = StratifiedShuffleSplit(n_splits=10, test_size=.1, random_state=42)\n",
    "    scores = cross_val_score(clf, X, y, cv=cv, scoring='precision')\n",
    "\n",
    "    # print results\n",
    "    print(\"Precision for {}: {:0.2f} (+/- {:0.2f})\".format(symbol, scores.mean(), scores.std() * 2))"
   ]
  },
  {
   "cell_type": "code",
   "execution_count": 14,
   "metadata": {
    "collapsed": false
   },
   "outputs": [
    {
     "data": {
      "text/plain": [
       "(0.18832264596692541, 0.19979750253121836)"
      ]
     },
     "execution_count": 14,
     "metadata": {},
     "output_type": "execute_result"
    }
   ],
   "source": [
    "pred = clf.predict(X)\n",
    "sum(pred) / len(pred), sum(y)/len(y)\n",
    "# 15% of the cases is true, vs 16% of the second case"
   ]
  },
  {
   "cell_type": "markdown",
   "metadata": {},
   "source": [
    "## Testing"
   ]
  },
  {
   "cell_type": "code",
   "execution_count": 15,
   "metadata": {
    "collapsed": true
   },
   "outputs": [],
   "source": [
    "# what if I try to predict in a set of the data and train in other\n",
    "# this is what I did \n",
    "# now I need to generate data to test\n",
    "# create analysts\n",
    "test_data = {}\n",
    "stocks= ['ABEV3', 'BBDC4', 'ITUB4', 'PETR4', 'VALE5'] # represents around 25% of IBOV\n",
    "start_date_test = '2015-01-01'\n",
    "end_date_test =  '2016-12-31'\n",
    "for symbol in stocks:\n",
    "    test_data[symbol + '_X'], test_data[symbol + '_y'], test_column_names = \\\n",
    "    data_transform.gen_data(symbol, market_df, start_date_test, end_date_test, span=span, profit=profit)\n",
    "\n",
    "# took about 2 minutes to compute in local machine"
   ]
  },
  {
   "cell_type": "code",
   "execution_count": 16,
   "metadata": {
    "collapsed": false
   },
   "outputs": [
    {
     "name": "stdout",
     "output_type": "stream",
     "text": [
      "Precision for ABEV3: 0.02\n",
      "Precision for BBDC4: 0.26\n",
      "Precision for ITUB4: 0.30\n",
      "Precision for PETR4: 0.38\n",
      "Precision for VALE5: 0.37\n"
     ]
    }
   ],
   "source": [
    "from sklearn.metrics import precision_score\n",
    "\n",
    "# get data\n",
    "for symbol in stocks:\n",
    "    X_test, y_test = test_data[symbol + '_X'], test_data[symbol + '_y']\n",
    "\n",
    "    # scale\n",
    "    X_test = data[symbol + '_scaler'].transform(X_test)\n",
    "\n",
    "    # predict\n",
    "    y_pred = data[symbol + '_clf'].predict(X_test)\n",
    "    \n",
    "    # evaluate\n",
    "    precision = precision_score(y_test, y_pred)\n",
    "\n",
    "    print(\"Precision for {}: {:0.2f}\".format(symbol, precision))"
   ]
  },
  {
   "cell_type": "markdown",
   "metadata": {},
   "source": [
    "That is a ridiculous low precision. Which means I can look into the past, I just can't look into the future. How the hell did I get good results, by sheer luck? \n"
   ]
  },
  {
   "cell_type": "code",
   "execution_count": 17,
   "metadata": {
    "collapsed": true
   },
   "outputs": [],
   "source": [
    "# save test_data\n",
    "import pickle\n",
    "with open('test_data.p', 'wb') as f:\n",
    "    pickle.dump(test_data, f)\n",
    "\n"
   ]
  },
  {
   "cell_type": "code",
   "execution_count": null,
   "metadata": {
    "collapsed": true
   },
   "outputs": [],
   "source": []
  }
 ],
 "metadata": {
  "anaconda-cloud": {},
  "kernelspec": {
   "display_name": "Python [conda env:udacity]",
   "language": "python",
   "name": "conda-env-udacity-py"
  },
  "language_info": {
   "codemirror_mode": {
    "name": "ipython",
    "version": 3
   },
   "file_extension": ".py",
   "mimetype": "text/x-python",
   "name": "python",
   "nbconvert_exporter": "python",
   "pygments_lexer": "ipython3",
   "version": "3.5.2"
  }
 },
 "nbformat": 4,
 "nbformat_minor": 1
}
