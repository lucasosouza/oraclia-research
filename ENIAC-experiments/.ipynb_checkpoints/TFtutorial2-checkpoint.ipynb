{
 "cells": [
  {
   "cell_type": "code",
   "execution_count": 1,
   "metadata": {
    "collapsed": true
   },
   "outputs": [],
   "source": [
    "import tensorflow as tf"
   ]
  },
  {
   "cell_type": "code",
   "execution_count": 2,
   "metadata": {
    "collapsed": false
   },
   "outputs": [],
   "source": [
    "with tf.name_scope(\"input\"):\n",
    "    # define variables\n",
    "    x = tf.placeholder(tf.float32, name='x')\n",
    "    y = tf.placeholder(tf.float32, name='y')\n",
    "\n",
    "with tf.name_scope(\"operations\"):\n",
    "    # define expressions\n",
    "    fn1 = x+y\n",
    "    fn2 = fn1*2\n",
    "    tf.identity(fn1, 'one_plus_other')\n",
    "    tf.identity(fn1, 'times2')\n"
   ]
  },
  {
   "cell_type": "code",
   "execution_count": 3,
   "metadata": {
    "collapsed": false
   },
   "outputs": [],
   "source": [
    "# tensorboard\n",
    "\n",
    "# creat a summary for x and y\n",
    "tf.summary.scalar(\"x_scalar\", x)\n",
    "tf.summary.scalar(\"y_scalar\", y)\n",
    "summary_op = tf.summary.merge_all()\n",
    "\n",
    "# no need to specify graph\n",
    "writer = tf.summary.FileWriter('./example', graph=tf.get_default_graph()) "
   ]
  },
  {
   "cell_type": "code",
   "execution_count": 4,
   "metadata": {
    "collapsed": false
   },
   "outputs": [
    {
     "name": "stdout",
     "output_type": "stream",
     "text": [
      "14.0\n",
      "35.4833\n",
      "82.8802\n",
      "183.968\n",
      "395.063\n",
      "829.879\n",
      "1717.37\n",
      "3517.63\n",
      "7153.88\n",
      "14476.9\n"
     ]
    }
   ],
   "source": [
    "# run it\n",
    "epochs=10\n",
    "with tf.Session() as sess:\n",
    "    init = tf.global_variables_initializer()\n",
    "    sess.run(init)\n",
    "    feed_dict = {\n",
    "        x: 3,\n",
    "        y: 4\n",
    "    }\n",
    "    for epoch in range(epochs):\n",
    "        result, summary  = sess.run([fn2, summary_op], feed_dict)\n",
    "        feed_dict[x] = result\n",
    "        feed_dict[y] = result**.5\n",
    "\n",
    "        print(result)\n",
    "        \n",
    "        # log results\n",
    "        writer.add_summary(summary)"
   ]
  },
  {
   "cell_type": "code",
   "execution_count": null,
   "metadata": {
    "collapsed": true
   },
   "outputs": [],
   "source": []
  }
 ],
 "metadata": {
  "anaconda-cloud": {},
  "kernelspec": {
   "display_name": "Python [conda env:udacity]",
   "language": "python",
   "name": "conda-env-udacity-py"
  },
  "language_info": {
   "codemirror_mode": {
    "name": "ipython",
    "version": 3
   },
   "file_extension": ".py",
   "mimetype": "text/x-python",
   "name": "python",
   "nbconvert_exporter": "python",
   "pygments_lexer": "ipython3",
   "version": "3.5.2"
  }
 },
 "nbformat": 4,
 "nbformat_minor": 1
}
