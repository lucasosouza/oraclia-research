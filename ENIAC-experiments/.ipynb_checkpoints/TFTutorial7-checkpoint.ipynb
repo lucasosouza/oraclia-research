{
 "cells": [
  {
   "cell_type": "code",
   "execution_count": 31,
   "metadata": {
    "collapsed": true
   },
   "outputs": [],
   "source": [
    "import tensorflow as tf\n",
    "import numpy as np\n",
    "from sklearn.preprocessing import normalize\n",
    "from sklearn.preprocessing import StandardScaler\n",
    "from sklearn.preprocessing import scale\n",
    "from sklearn.datasets import load_boston\n",
    "from sklearn.datasets import load_breast_cancer\n",
    "from sklearn.metrics import r2_score\n",
    "from sklearn.metrics import accuracy_score\n",
    "from sklearn.model_selection import train_test_split\n",
    "\n",
    "import matplotlib.pyplot as plt\n",
    "%matplotlib inline\n",
    "\n",
    "import seaborn as sns\n"
   ]
  },
  {
   "cell_type": "code",
   "execution_count": 2,
   "metadata": {
    "collapsed": false
   },
   "outputs": [],
   "source": [
    "# dataset = load_breast_cancer()\n",
    "# data = dataset['data']\n",
    "# target = dataset['target']\n",
    "# X_train, X_test, y_train, y_test = \\\n",
    "#     train_test_split(data, target, test_size=.25, random_state=42)\n",
    "    "
   ]
  },
  {
   "cell_type": "code",
   "execution_count": 3,
   "metadata": {
    "collapsed": false
   },
   "outputs": [],
   "source": [
    "# n = X_train.shape[1]\n",
    "# scaler = StandardScaler()\n",
    "# X_train_scaled = scaler.fit_transform(X_train).astype(np.float32)"
   ]
  },
  {
   "cell_type": "code",
   "execution_count": 4,
   "metadata": {
    "collapsed": false
   },
   "outputs": [],
   "source": [
    "# X_train_scaled[0]"
   ]
  },
  {
   "cell_type": "code",
   "execution_count": 103,
   "metadata": {
    "collapsed": false
   },
   "outputs": [
    {
     "data": {
      "text/plain": [
       "(3, 3)"
      ]
     },
     "execution_count": 103,
     "metadata": {},
     "output_type": "execute_result"
    }
   ],
   "source": [
    "X_train = np.array([[1,0.7,0.2],[.9, .1, .3], [.1, .9, .2], [0, 1, .4], [.1, .3, .9], [0, .1, 1]])\n",
    "y_train = np.array([[1,0,0],[1,0,0],[0,1,0], [0,1,0], [0,0,1], [0,0,1]])\n",
    "n_features = X_train.shape[1]\n",
    "n_labels = y_train.shape[1]\n",
    "n_features, n_labels"
   ]
  },
  {
   "cell_type": "code",
   "execution_count": 127,
   "metadata": {
    "collapsed": false
   },
   "outputs": [],
   "source": [
    "tf.reset_default_graph()\n",
    "\n",
    "with tf.name_scope(\"input\"):\n",
    "    # define variables\n",
    "    X = tf.placeholder(tf.float32, shape=[None, n_features], name='x')\n",
    "    y = tf.placeholder(tf.float32, shape=[None, n_labels], name='y')\n",
    "\n",
    "with tf.name_scope(\"regression\"):\n",
    "    # define variables\n",
    "    W = tf.Variable(tf.truncated_normal([n_features,n_labels], dtype=tf.float32, stddev=.05), name='weights')\n",
    "    b = tf.Variable(tf.zeros([n_labels], dtype=tf.float32), name='biases')\n",
    "    \n",
    "with tf.name_scope(\"operations\"):\n",
    "    # regular calculation of pred, similar to linear regression\n",
    "    logits = tf.add(tf.matmul(X ,W), b)\n",
    "    \n",
    "    # softmax will convert to a probability distribution\n",
    "    softmax = tf.nn.softmax(logits)\n",
    "        \n",
    "    # compute regular error functions\n",
    "    # cross_entropy = tf.reduce_mean(-tf.reduce_sum(y_ * tf.log(y), reduction_indices=[1]))\n",
    "    loss = tf.losses.log_loss(softmax, y)\n",
    "    # cross_entropy = tf.nn.softmax_cross_entropy_with_logits(labels=y, logits=logits)\n",
    "    # loss = tf.reduce_mean(cross_entropy)\n",
    "        \n",
    "    # result, needs to be 0 or 1\n",
    "    # correct_prediction = tf.equal(tf.argmax(y,1), tf.argmax(softmax,1))\n",
    "    # y_pred = tf.argmax(softmax, 1)\n",
    "    \n",
    "    # define optimization\n",
    "    learning_rate = tf.placeholder(tf.float32)\n",
    "    optimizer = tf.train.GradientDescentOptimizer(learning_rate=learning_rate)\n",
    "    train_op = optimizer.minimize(loss)\n"
   ]
  },
  {
   "cell_type": "code",
   "execution_count": 128,
   "metadata": {
    "collapsed": false
   },
   "outputs": [],
   "source": [
    "# tensorboard\n",
    "# creat a summary for x and y\n",
    "tf.summary.scalar(\"loss\", loss)\n",
    "summary_op = tf.summary.merge_all()\n",
    "\n",
    "# no need to specify graph\n",
    "writer = tf.summary.FileWriter('./example', graph=tf.get_default_graph()) "
   ]
  },
  {
   "cell_type": "code",
   "execution_count": 129,
   "metadata": {
    "collapsed": false
   },
   "outputs": [
    {
     "name": "stdout",
     "output_type": "stream",
     "text": [
      "Acc: 1.00, loss: 6.41 \n",
      "Acc: 1.00, loss: 5.93 \n",
      "Acc: 1.00, loss: 5.60 \n",
      "Acc: 1.00, loss: 5.35 \n",
      "Acc: 1.00, loss: 5.15 \n",
      "Acc: 1.00, loss: 4.99 \n",
      "Acc: 1.00, loss: 4.85 \n",
      "Acc: 1.00, loss: 4.73 \n",
      "Acc: 1.00, loss: 4.63 \n"
     ]
    }
   ],
   "source": [
    "# run it\n",
    "epochs=10\n",
    "sess = tf.Session()\n",
    "init = tf.global_variables_initializer()\n",
    "sess.run(init)\n",
    "losses = []\n",
    "for epoch in range(1, epochs):\n",
    "    # loss, summary  = sess.run([train_op, summary_op], feed_dict)\n",
    "    feed_dict = {\n",
    "        X: X_train,\n",
    "        y: y_train,\n",
    "        learning_rate: .5/epoch\n",
    "    }\n",
    "    # run\n",
    "    _, summary, loss_ = sess.run([train_op, summary_op, loss], feed_dict)\n",
    "\n",
    "    losses.append(loss_)\n",
    "    \n",
    "    # log results\n",
    "    writer.add_summary(summary)\n",
    "    \n",
    "    # log to console\n",
    "    if epoch%(epochs/10) == 0:\n",
    "        curr_loss, curr_W, curr_b, pred = sess.run([loss, W, b, softmax], feed_dict)\n",
    "        # print(curr_loss)\n",
    "        acc = accuracy_score(np.argmax(y_train, 1), np.argmax(pred, 1))\n",
    "        print(\"Acc: {:.2f}, loss: {:.2f} \".format(acc, curr_loss))\n"
   ]
  },
  {
   "cell_type": "code",
   "execution_count": 130,
   "metadata": {
    "collapsed": false
   },
   "outputs": [
    {
     "data": {
      "text/plain": [
       "(array([0, 0, 1, 1, 2, 2]), array([0, 0, 1, 1, 2, 2]))"
      ]
     },
     "execution_count": 130,
     "metadata": {},
     "output_type": "execute_result"
    }
   ],
   "source": [
    "np.argmax(pred, 1), np.argmax(y_train, 1)"
   ]
  },
  {
   "cell_type": "code",
   "execution_count": 131,
   "metadata": {
    "collapsed": false
   },
   "outputs": [
    {
     "data": {
      "text/plain": [
       "(array([[ 1.00668812, -0.52534395, -0.52977544],\n",
       "        [-0.15931548,  0.7207287 , -0.52323467],\n",
       "        [-0.45268017, -0.37848622,  0.808263  ]], dtype=float32),\n",
       " array([ 0.00804017, -0.04759037,  0.03955023], dtype=float32))"
      ]
     },
     "execution_count": 131,
     "metadata": {},
     "output_type": "execute_result"
    }
   ],
   "source": [
    "curr_W, curr_b"
   ]
  },
  {
   "cell_type": "code",
   "execution_count": 132,
   "metadata": {
    "collapsed": false
   },
   "outputs": [
    {
     "data": {
      "text/plain": [
       "(array([[ 0.6228264 ,  0.23924185,  0.13793182],\n",
       "        [ 0.61332828,  0.16315547,  0.22351627],\n",
       "        [ 0.27477354,  0.49969208,  0.22553432],\n",
       "        [ 0.22041588,  0.51780945,  0.26177472],\n",
       "        [ 0.21748492,  0.24569319,  0.53682184],\n",
       "        [ 0.17780888,  0.19780408,  0.62438709]], dtype=float32),\n",
       " array([[1, 0, 0],\n",
       "        [1, 0, 0],\n",
       "        [0, 1, 0],\n",
       "        [0, 1, 0],\n",
       "        [0, 0, 1],\n",
       "        [0, 0, 1]]))"
      ]
     },
     "execution_count": 132,
     "metadata": {},
     "output_type": "execute_result"
    }
   ],
   "source": [
    "np.bincount(pred.astype(np.int32).reshape(-1))\n",
    "pred[:10], y_train[:10]"
   ]
  },
  {
   "cell_type": "code",
   "execution_count": 133,
   "metadata": {
    "collapsed": false
   },
   "outputs": [
    {
     "data": {
      "text/plain": [
       "(array([ 1. ,  0.7,  0.2]),\n",
       " array([ 1.00668812, -0.15931548, -0.45268017], dtype=float32),\n",
       " array([ 0.80463125, -0.09653111, -0.73438711]))"
      ]
     },
     "execution_count": 133,
     "metadata": {},
     "output_type": "execute_result"
    }
   ],
   "source": [
    "X_train[0], curr_W[:, 0], np.dot(X_train, curr_W)[0]"
   ]
  },
  {
   "cell_type": "code",
   "execution_count": 79,
   "metadata": {
    "collapsed": false
   },
   "outputs": [
    {
     "ename": "NameError",
     "evalue": "name 'scaler' is not defined",
     "output_type": "error",
     "traceback": [
      "\u001b[0;31m---------------------------------------------------------------------------\u001b[0m",
      "\u001b[0;31mNameError\u001b[0m                                 Traceback (most recent call last)",
      "\u001b[0;32m<ipython-input-79-0ba99a0b2c6a>\u001b[0m in \u001b[0;36m<module>\u001b[0;34m()\u001b[0m\n\u001b[1;32m      1\u001b[0m feed_dict = {\n\u001b[0;32m----> 2\u001b[0;31m     \u001b[0mX\u001b[0m\u001b[0;34m:\u001b[0m \u001b[0mscaler\u001b[0m\u001b[0;34m.\u001b[0m\u001b[0mtransform\u001b[0m\u001b[0;34m(\u001b[0m\u001b[0mX_train\u001b[0m\u001b[0;34m)\u001b[0m\u001b[0;34m,\u001b[0m\u001b[0;34m\u001b[0m\u001b[0m\n\u001b[0m\u001b[1;32m      3\u001b[0m     \u001b[0my\u001b[0m\u001b[0;34m:\u001b[0m \u001b[0my_train\u001b[0m\u001b[0;34m.\u001b[0m\u001b[0mreshape\u001b[0m\u001b[0;34m(\u001b[0m\u001b[0;34m-\u001b[0m\u001b[0;36m1\u001b[0m\u001b[0;34m,\u001b[0m\u001b[0;36m1\u001b[0m\u001b[0;34m)\u001b[0m\u001b[0;34m\u001b[0m\u001b[0m\n\u001b[1;32m      4\u001b[0m }\n\u001b[1;32m      5\u001b[0m \u001b[0mcurr_loss\u001b[0m\u001b[0;34m,\u001b[0m \u001b[0mpred\u001b[0m \u001b[0;34m=\u001b[0m \u001b[0msess\u001b[0m\u001b[0;34m.\u001b[0m\u001b[0mrun\u001b[0m\u001b[0;34m(\u001b[0m\u001b[0;34m[\u001b[0m\u001b[0mloss\u001b[0m\u001b[0;34m,\u001b[0m \u001b[0mres\u001b[0m\u001b[0;34m]\u001b[0m\u001b[0;34m,\u001b[0m \u001b[0mfeed_dict\u001b[0m\u001b[0;34m)\u001b[0m\u001b[0;34m\u001b[0m\u001b[0m\n",
      "\u001b[0;31mNameError\u001b[0m: name 'scaler' is not defined"
     ]
    }
   ],
   "source": [
    "feed_dict = {\n",
    "    X: scaler.transform(X_train),\n",
    "    y: y_train.reshape(-1,1)\n",
    "}\n",
    "curr_loss, pred = sess.run([loss, res], feed_dict)\n",
    "acc = accuracy_score(y_train, pred)\n",
    "print(\"Acc: {:.4f}, loss: {:.2f} \".format(acc, curr_loss))\n",
    "\n",
    "feed_dict = {\n",
    "    X: scaler.transform(X_test),\n",
    "    y: y_test.reshape(-1,1)\n",
    "}\n",
    "curr_loss, pred = sess.run([loss, res], feed_dict)\n",
    "acc = accuracy_score(y_test, pred)\n",
    "print(\"Acc: {:.4f}, loss: {:.2f} \".format(acc, curr_loss))\n"
   ]
  },
  {
   "cell_type": "markdown",
   "metadata": {
    "collapsed": true
   },
   "source": [
    "# In scikit-learn"
   ]
  },
  {
   "cell_type": "code",
   "execution_count": 95,
   "metadata": {
    "collapsed": true
   },
   "outputs": [],
   "source": [
    "X_train = np.array([[1,0.7,0.2],[.9, .1, .3], [.1, .9, .2], [0, 1, .4], [.1, .3, .9], [0, .1, 1]])\n",
    "y_train = np.array([0,0,1,1,2,2])"
   ]
  },
  {
   "cell_type": "code",
   "execution_count": 96,
   "metadata": {
    "collapsed": false
   },
   "outputs": [
    {
     "data": {
      "text/plain": [
       "SVC(C=1.0, cache_size=200, class_weight=None, coef0=0.0,\n",
       "  decision_function_shape=None, degree=3, gamma='auto', kernel='linear',\n",
       "  max_iter=-1, probability=False, random_state=None, shrinking=True,\n",
       "  tol=0.001, verbose=False)"
      ]
     },
     "execution_count": 96,
     "metadata": {},
     "output_type": "execute_result"
    }
   ],
   "source": [
    "from sklearn.svm import SVC\n",
    "clf = SVC(kernel='linear')\n",
    "clf.fit(X_train, y_train)"
   ]
  },
  {
   "cell_type": "code",
   "execution_count": 97,
   "metadata": {
    "collapsed": false
   },
   "outputs": [
    {
     "name": "stdout",
     "output_type": "stream",
     "text": [
      "Acc: 1.0000\n"
     ]
    }
   ],
   "source": [
    "pred = clf.predict(X_train)\n",
    "acc = accuracy_score(y_train, pred)\n",
    "print(\"Acc: {:.4f}\".format(acc))\n"
   ]
  },
  {
   "cell_type": "code",
   "execution_count": 85,
   "metadata": {
    "collapsed": false
   },
   "outputs": [
    {
     "data": {
      "text/plain": [
       "array([0, 0, 1, 1, 2, 2])"
      ]
     },
     "execution_count": 85,
     "metadata": {},
     "output_type": "execute_result"
    }
   ],
   "source": [
    "pred"
   ]
  },
  {
   "cell_type": "code",
   "execution_count": 84,
   "metadata": {
    "collapsed": false
   },
   "outputs": [
    {
     "ename": "NameError",
     "evalue": "name 'X_test' is not defined",
     "output_type": "error",
     "traceback": [
      "\u001b[0;31m---------------------------------------------------------------------------\u001b[0m",
      "\u001b[0;31mNameError\u001b[0m                                 Traceback (most recent call last)",
      "\u001b[0;32m<ipython-input-84-8aa6deef6661>\u001b[0m in \u001b[0;36m<module>\u001b[0;34m()\u001b[0m\n\u001b[0;32m----> 1\u001b[0;31m \u001b[0mpred\u001b[0m \u001b[0;34m=\u001b[0m \u001b[0mclf\u001b[0m\u001b[0;34m.\u001b[0m\u001b[0mpredict\u001b[0m\u001b[0;34m(\u001b[0m\u001b[0mX_test\u001b[0m\u001b[0;34m)\u001b[0m\u001b[0;34m\u001b[0m\u001b[0m\n\u001b[0m\u001b[1;32m      2\u001b[0m \u001b[0macc\u001b[0m \u001b[0;34m=\u001b[0m \u001b[0maccuracy_score\u001b[0m\u001b[0;34m(\u001b[0m\u001b[0my_test\u001b[0m\u001b[0;34m,\u001b[0m \u001b[0mpred\u001b[0m\u001b[0;34m)\u001b[0m\u001b[0;34m\u001b[0m\u001b[0m\n\u001b[1;32m      3\u001b[0m \u001b[0mprint\u001b[0m\u001b[0;34m(\u001b[0m\u001b[0;34m\"Acc: {:.4f}\"\u001b[0m\u001b[0;34m.\u001b[0m\u001b[0mformat\u001b[0m\u001b[0;34m(\u001b[0m\u001b[0macc\u001b[0m\u001b[0;34m)\u001b[0m\u001b[0;34m)\u001b[0m\u001b[0;34m\u001b[0m\u001b[0m\n",
      "\u001b[0;31mNameError\u001b[0m: name 'X_test' is not defined"
     ]
    }
   ],
   "source": [
    "pred = clf.predict(X_test)\n",
    "acc = accuracy_score(y_test, pred)\n",
    "print(\"Acc: {:.4f}\".format(acc))\n"
   ]
  },
  {
   "cell_type": "code",
   "execution_count": 83,
   "metadata": {
    "collapsed": false
   },
   "outputs": [
    {
     "data": {
      "text/plain": [
       "(array([  1.28900000e+01,   1.31200000e+01,   8.18900000e+01,\n",
       "          5.15900000e+02,   6.95500000e-02,   3.72900000e-02,\n",
       "          2.26000000e-02,   1.17100000e-02,   1.33700000e-01,\n",
       "          5.58100000e-02,   1.53200000e-01,   4.69000000e-01,\n",
       "          1.11500000e+00,   1.26800000e+01,   4.73100000e-03,\n",
       "          1.34500000e-02,   1.65200000e-02,   5.90500000e-03,\n",
       "          1.61900000e-02,   2.08100000e-03,   1.36200000e+01,\n",
       "          1.55400000e+01,   8.74000000e+01,   5.77000000e+02,\n",
       "          9.61600000e-02,   1.14700000e-01,   1.18600000e-01,\n",
       "          5.36600000e-02,   2.30900000e-01,   6.91500000e-02]),\n",
       " array([[ 1.29403182,  0.18630806, -0.26510877,  0.00381304, -0.23469085,\n",
       "         -0.31661328, -0.63018851, -0.38801023, -0.33400371, -0.05324722,\n",
       "         -0.22329099,  1.98995163,  0.5314017 , -0.1216217 , -0.03877839,\n",
       "          0.03169099, -0.04367506, -0.04633437, -0.0634173 ,  0.00541859,\n",
       "         -0.3640177 , -0.38160754,  0.00858562,  0.00209213, -0.44857988,\n",
       "         -0.96877516, -1.57096602, -0.59976624, -1.27875325, -0.13664597]]),\n",
       " array([ 15.5088185]))"
      ]
     },
     "execution_count": 83,
     "metadata": {},
     "output_type": "execute_result"
    }
   ],
   "source": [
    "X_train[0], clf.coef_, clf.intercept_"
   ]
  },
  {
   "cell_type": "code",
   "execution_count": 84,
   "metadata": {
    "collapsed": false
   },
   "outputs": [
    {
     "data": {
      "text/plain": [
       "([(-0.21686573, 1.2940318166436668),\n",
       "  (-0.17670448, 0.18630805858555277),\n",
       "  (-0.3008979, -0.26510876545417261),\n",
       "  (-0.17692585, 0.0038130407408516476),\n",
       "  (-0.06934768, -0.23469085315994104),\n",
       "  (-0.13862576, -0.31661328459765403),\n",
       "  (-0.26156288, -0.63018850629549483),\n",
       "  (-0.20703599, -0.3880102334466336),\n",
       "  (-0.084949628, -0.33400370586719041),\n",
       "  (0.10557546, -0.053247224516927157),\n",
       "  (-0.17599268, -0.22329098962735511),\n",
       "  (0.051368695, 1.9899516330539277),\n",
       "  (-0.12630957, 0.53140170028773603),\n",
       "  (-0.14625683, -0.12162170000926409),\n",
       "  (0.019871106, -0.038778394675246207),\n",
       "  (0.037249129, 0.031690990788804205),\n",
       "  (0.015065859, -0.043675063950918719),\n",
       "  (-0.037654575, -0.046334366265279987),\n",
       "  (0.0051863068, -0.063417298637916467),\n",
       "  (0.039346531, 0.0054185856164800893),\n",
       "  (-0.26747426, -0.3640177012525676),\n",
       "  (-0.21415108, -0.3816075401627117),\n",
       "  (-0.26601493, 0.0085856164562869708),\n",
       "  (-0.27641252, 0.0020921327178484717),\n",
       "  (-0.21696471, -0.44857988478368283),\n",
       "  (-0.083709277, -0.96877515862296515),\n",
       "  (-0.17215244, -1.570966021673998),\n",
       "  (-0.14835417, -0.59976623623949876),\n",
       "  (-0.20142466, -1.2787532509969386),\n",
       "  (-0.0064950259, -0.13664597069133666)],\n",
       " [(0.16738984, 15.508818500728003)])"
      ]
     },
     "execution_count": 84,
     "metadata": {},
     "output_type": "execute_result"
    }
   ],
   "source": [
    "list(zip(curr_W[:, 0], clf.coef_[0, :])), list(zip(curr_b, clf.intercept_))"
   ]
  },
  {
   "cell_type": "code",
   "execution_count": null,
   "metadata": {
    "collapsed": true
   },
   "outputs": [],
   "source": []
  }
 ],
 "metadata": {
  "anaconda-cloud": {},
  "kernelspec": {
   "display_name": "Python [conda env:udacity]",
   "language": "python",
   "name": "conda-env-udacity-py"
  },
  "language_info": {
   "codemirror_mode": {
    "name": "ipython",
    "version": 3
   },
   "file_extension": ".py",
   "mimetype": "text/x-python",
   "name": "python",
   "nbconvert_exporter": "python",
   "pygments_lexer": "ipython3",
   "version": "3.5.2"
  }
 },
 "nbformat": 4,
 "nbformat_minor": 1
}
