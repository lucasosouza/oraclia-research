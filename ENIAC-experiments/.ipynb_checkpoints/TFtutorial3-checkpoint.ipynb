{
 "cells": [
  {
   "cell_type": "code",
   "execution_count": 1,
   "metadata": {
    "collapsed": true
   },
   "outputs": [],
   "source": [
    "import tensorflow as tf\n",
    "import numpy as np\n",
    "from sklearn.preprocessing import normalize\n",
    "from sklearn.preprocessing import StandardScaler"
   ]
  },
  {
   "cell_type": "code",
   "execution_count": 2,
   "metadata": {
    "collapsed": false
   },
   "outputs": [
    {
     "data": {
      "text/plain": [
       "(array([[ 1,  5, 23],\n",
       "        [ 2, 53, 21],\n",
       "        [ 3, 89, 13],\n",
       "        [ 4, 21, 10],\n",
       "        [ 6, 53, 10]]), array([[100],\n",
       "        [200],\n",
       "        [300],\n",
       "        [400],\n",
       "        [600]]))"
      ]
     },
     "execution_count": 2,
     "metadata": {},
     "output_type": "execute_result"
    }
   ],
   "source": [
    "m = 4 # observations\n",
    "n = 3 # variables\n",
    "\n",
    "# x has 3 features and 4 rows\n",
    "X_train = np.array([[1,5,23],[2,53,21],[3,89,13], [4,21,10],[6,53,10]])\n",
    "y_train = np.array([100,200,300,400, 600]).reshape(-1,1)\n",
    "\n",
    "#scale\n",
    "# scaler = StandardScaler()\n",
    "# X_train_norm = scaler.fit_transform(X_train)\n",
    "\n",
    "# X_train = np.array([1,2,3,4,5,6,7,8,9,10])\n",
    "# y_train = X_train*67\n",
    "# n_samples = X_train.shape[0]\n",
    "X_train, y_train"
   ]
  },
  {
   "cell_type": "code",
   "execution_count": 3,
   "metadata": {
    "collapsed": false
   },
   "outputs": [],
   "source": [
    "with tf.name_scope(\"input\"):\n",
    "    # define variables\n",
    "    X = tf.placeholder(tf.float32, shape=[None, n], name='x')\n",
    "    y = tf.placeholder(tf.float32, shape=[None, 1], name='y')\n",
    "\n",
    "with tf.name_scope(\"regression\"):\n",
    "    # define variables\n",
    "    W = tf.Variable(tf.zeros([n,1], dtype=tf.float32), name='weights')\n",
    "    b = tf.Variable(tf.zeros([1], dtype=tf.float32), name='biases')\n",
    "    \n",
    "with tf.name_scope(\"operations\"):\n",
    "    # define LR expressions\n",
    "    #linear_model = tf.add(tf.matmul(X ,W), b)\n",
    "    linear_model = tf.matmul(X,W)\n",
    "    squared_error = tf.square(tf.subtract(linear_model, y))\n",
    "    loss = tf.reduce_sum(squared_error)\n",
    "    \n",
    "    # define optimization\n",
    "    learning_rate = tf.placeholder(tf.float32)\n",
    "    optimizer = tf.train.GradientDescentOptimizer(learning_rate=learning_rate)\n",
    "    train_op = optimizer.minimize(loss)\n"
   ]
  },
  {
   "cell_type": "code",
   "execution_count": 4,
   "metadata": {
    "collapsed": false
   },
   "outputs": [],
   "source": [
    "# tensorboard\n",
    "\n",
    "# creat a summary for x and y\n",
    "tf.summary.scalar(\"loss\", loss)\n",
    "summary_op = tf.summary.merge_all()\n",
    "\n",
    "# no need to specify graph\n",
    "writer = tf.summary.FileWriter('./example', graph=tf.get_default_graph()) "
   ]
  },
  {
   "cell_type": "code",
   "execution_count": 5,
   "metadata": {
    "collapsed": false
   },
   "outputs": [
    {
     "name": "stdout",
     "output_type": "stream",
     "text": [
      "W: [[ 57.1426506 ]\n",
      " [  1.93152714]\n",
      " [  2.05388403]] b: [ 0.] loss: 38900.5\n",
      "W: [[ 81.55295563]\n",
      " [  0.8313852 ]\n",
      " [  0.88405144]] b: [ 0.] loss: 7207.06\n",
      "W: [[ 92.05989075]\n",
      " [  0.35785076]\n",
      " [  0.38051999]] b: [ 0.] loss: 1335.24\n",
      "W: [[ 96.58232117]\n",
      " [  0.15403056]\n",
      " [  0.16378769]] b: [ 0.] loss: 247.382\n",
      "W: [[  9.85289078e+01]\n",
      " [  6.62999675e-02]\n",
      " [  7.04999417e-02]] b: [ 0.] loss: 45.8332\n",
      "W: [[  9.93667526e+01]\n",
      " [  2.85398792e-02]\n",
      " [  3.03467903e-02]] b: [ 0.] loss: 8.49292\n",
      "W: [[  9.97273483e+01]\n",
      " [  1.22884177e-02]\n",
      " [  1.30646331e-02]] b: [ 0.] loss: 1.57445\n",
      "W: [[  9.98827515e+01]\n",
      " [  5.28267073e-03]\n",
      " [  5.62316971e-03]] b: [ 0.] loss: 0.291096\n",
      "W: [[  9.99491272e+01]\n",
      " [  2.29261769e-03]\n",
      " [  2.44002417e-03]] b: [ 0.] loss: 0.0548082\n"
     ]
    }
   ],
   "source": [
    "# run it\n",
    "epochs=20000\n",
    "\n",
    "sess = tf.Session()\n",
    "init = tf.global_variables_initializer()\n",
    "sess.run(init)\n",
    "for epoch in range(1, epochs):\n",
    "    # loss, summary  = sess.run([train_op, summary_op], feed_dict)\n",
    "    feed_dict = {\n",
    "        X: X_train,\n",
    "        y: y_train,\n",
    "        learning_rate: 1e-5\n",
    "    }\n",
    "    # run\n",
    "    curr_loss, curr_W, curr_b, _, summary = sess.run([loss, W, b, train_op, summary_op], feed_dict)\n",
    "\n",
    "    # log results\n",
    "    writer.add_summary(summary)\n",
    "    \n",
    "    # log to console\n",
    "    if epoch%(epochs/10) == 0:\n",
    "        print(\"W: %s b: %s loss: %s\"%(curr_W, curr_b, curr_loss))\n",
    "\n"
   ]
  },
  {
   "cell_type": "code",
   "execution_count": 6,
   "metadata": {
    "collapsed": false
   },
   "outputs": [
    {
     "name": "stdout",
     "output_type": "stream",
     "text": [
      "[[ 499.97045898]]\n"
     ]
    }
   ],
   "source": [
    "feed_dict = {\n",
    "    X: np.array([5,23,56]).reshape(1,-1)\n",
    "}\n",
    "print(sess.run(linear_model, feed_dict))"
   ]
  },
  {
   "cell_type": "markdown",
   "metadata": {
    "collapsed": true
   },
   "source": [
    "# In scikit-learn"
   ]
  },
  {
   "cell_type": "code",
   "execution_count": 7,
   "metadata": {
    "collapsed": false
   },
   "outputs": [
    {
     "data": {
      "text/plain": [
       "LinearRegression(copy_X=True, fit_intercept=True, n_jobs=1, normalize=False)"
      ]
     },
     "execution_count": 7,
     "metadata": {},
     "output_type": "execute_result"
    }
   ],
   "source": [
    "from sklearn.linear_model import LinearRegression\n",
    "\n",
    "reg = LinearRegression()\n",
    "reg.fit(X_train, y_train)"
   ]
  },
  {
   "cell_type": "code",
   "execution_count": 8,
   "metadata": {
    "collapsed": false
   },
   "outputs": [
    {
     "data": {
      "text/plain": [
       "array([[ 500.]])"
      ]
     },
     "execution_count": 8,
     "metadata": {},
     "output_type": "execute_result"
    }
   ],
   "source": [
    "reg.predict(np.array([5, 23,23]).reshape(1,-1))"
   ]
  },
  {
   "cell_type": "code",
   "execution_count": 9,
   "metadata": {
    "collapsed": false
   },
   "outputs": [
    {
     "data": {
      "text/plain": [
       "(array([[  1.00000000e+02,  -5.52394100e-15,   1.40514784e-15]]),\n",
       " array([  1.70530257e-13]))"
      ]
     },
     "execution_count": 9,
     "metadata": {},
     "output_type": "execute_result"
    }
   ],
   "source": [
    "reg.coef_, reg.intercept_"
   ]
  },
  {
   "cell_type": "code",
   "execution_count": null,
   "metadata": {
    "collapsed": true
   },
   "outputs": [],
   "source": []
  }
 ],
 "metadata": {
  "anaconda-cloud": {},
  "kernelspec": {
   "display_name": "Python [conda env:udacity]",
   "language": "python",
   "name": "conda-env-udacity-py"
  },
  "language_info": {
   "codemirror_mode": {
    "name": "ipython",
    "version": 3
   },
   "file_extension": ".py",
   "mimetype": "text/x-python",
   "name": "python",
   "nbconvert_exporter": "python",
   "pygments_lexer": "ipython3",
   "version": "3.5.2"
  }
 },
 "nbformat": 4,
 "nbformat_minor": 1
}
