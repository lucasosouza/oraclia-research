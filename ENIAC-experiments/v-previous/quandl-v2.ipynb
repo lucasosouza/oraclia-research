{
 "cells": [
  {
   "cell_type": "markdown",
   "metadata": {},
   "source": [
    "### Loading up required libraries and configurations"
   ]
  },
  {
   "cell_type": "code",
   "execution_count": 406,
   "metadata": {
    "collapsed": false
   },
   "outputs": [],
   "source": [
    "import quandl\n",
    "import pandas_datareader.data as web\n",
    "import datetime\n",
    "import pandas as pd\n",
    "import sklearn\n",
    "import numpy as np\n",
    "from collections import defaultdict\n",
    "from IPython.display import display\n",
    "import scipy as sp\n",
    "from operator import methodcaller\n",
    "\n",
    "# evaluate usage\n",
    "pd.options.mode.chained_assignment = None  # default='warn'"
   ]
  },
  {
   "cell_type": "code",
   "execution_count": 407,
   "metadata": {
    "collapsed": true
   },
   "outputs": [],
   "source": [
    "\"\"\"\"\n",
    "usage of this API key is monitored\n",
    "please don't use this key for any other work, neither make it available on the web by any means\n",
    "if you would like to access the same API for a different project,\n",
    "please create an account in quandl.com (it is free) and generate your own API key\n",
    "\"\"\" \n",
    "quandl.ApiConfig.api_key = \"1513txcURR4fYyP5VDU3\""
   ]
  },
  {
   "cell_type": "markdown",
   "metadata": {},
   "source": [
    "### Getting the data"
   ]
  },
  {
   "cell_type": "markdown",
   "metadata": {},
   "source": [
    "#### Stock data"
   ]
  },
  {
   "cell_type": "markdown",
   "metadata": {},
   "source": [
    "For the stock market general data, we will use Yahoo API, which contains reliable free access data for a number of stock markets, including Bovespa."
   ]
  },
  {
   "cell_type": "code",
   "execution_count": 408,
   "metadata": {
    "collapsed": true
   },
   "outputs": [],
   "source": [
    "start_date = '1998-1-1'\n",
    "end_date = '2014-12-31'\n",
    "symbol = \"PETR4.SA\"\n",
    "df = web.DataReader(symbol, 'yahoo', start_date, end_date)"
   ]
  },
  {
   "cell_type": "markdown",
   "metadata": {},
   "source": [
    "#### General Market Data"
   ]
  },
  {
   "cell_type": "markdown",
   "metadata": {},
   "source": [
    "For the general market data, there is excelent data made available by Banco Central do Brasil (brazilian central bank). The data is available through a webservice, but there is a neat API quandl which makes it easier to access this same data. With a free profile we have limited access, but it is enough for the following tests.\n",
    "\n",
    "There are over 1,300 different indicators available, from different time periods including daily, weekly, monthly, yearly, etc. At the moment we will stick with 10 relevant indicators which are available daily, and then move on to add more data as we see fit."
   ]
  },
  {
   "cell_type": "code",
   "execution_count": 409,
   "metadata": {
    "collapsed": true
   },
   "outputs": [],
   "source": [
    "daily = {\n",
    "    'Selic': 'BCB/432',\n",
    "    'Exchange Rate USD Sell': 'BCB/1',\n",
    "    'Exchange Rate USD Buy': 'BCB/10813',\n",
    "    'BM&F Gold gramme': 'BCB/4',\n",
    "    'Bovespa total volume': 'BCB/8',\n",
    "    'International Reserves': 'BCB/13621',\n",
    "    'Bovespa index': 'BCB/7',\n",
    "    'Foreign exchange operations balance': 'BCB/13961',\n",
    "    'Nasdaq index': 'BCB/7810',\n",
    "    'Dow Jones index': 'BCB/7809'\n",
    "}\n",
    "\n",
    "## removed montly indicators for now - to be added later\n",
    "# monthly = {\n",
    "#     'IPCA-E': 'BCB/10764',\n",
    "#     'IGP-M': 'BCB/7451',\n",
    "#     'IPCA-15': 'BCB/74/78',\n",
    "#     'Net public debt': 'BCB/4473'\n",
    "# }"
   ]
  },
  {
   "cell_type": "code",
   "execution_count": 410,
   "metadata": {
    "collapsed": false
   },
   "outputs": [],
   "source": [
    "for var, code in daily.items():\n",
    "    df = pd.concat([df, quandl.get(code, start_date=start_date , end_date=end_date)], join='inner', axis=1)\n",
    "    df = df.rename(columns={'Value': var})    "
   ]
  },
  {
   "cell_type": "markdown",
   "metadata": {},
   "source": [
    "#### Trend indicators"
   ]
  },
  {
   "cell_type": "markdown",
   "metadata": {},
   "source": [
    "The trend indicators are borrowed from the field known as technical analysis, or graphism, that aims to find patterns by analyzing the trend of price and volume.\n",
    "\n",
    "We will start with the most known: Moving Averages (indicator: MACD, moving average convergence divergence), Momentum, Daily Returns, "
   ]
  },
  {
   "cell_type": "markdown",
   "metadata": {},
   "source": [
    "Already included in the dataset\n",
    "* Momentum: momentum is nothing but the current price, divided by the price X days earlier. The momentum is already included the dataset when we analyse the trend for Adj Close and all other variables\n",
    "* Daily Return: it is the same as the momentum, but for one day before."
   ]
  },
  {
   "cell_type": "markdown",
   "metadata": {},
   "source": [
    "To include:\n",
    "* Moving Average: moving average for X days. important to understand longer term trends\n",
    "* Bollinger Bands: 95% confidence interval for the moving averages.\n",
    "* CandleStick\n",
    "* Elliot Waves\n",
    "* Volume/Price"
   ]
  },
  {
   "cell_type": "code",
   "execution_count": 411,
   "metadata": {
    "collapsed": false
   },
   "outputs": [],
   "source": [
    "# moving average and bollinger bands\n",
    "for n in range(10,61,10):\n",
    "    df['sma'+str(n)] = df['Adj Close'].rolling(window=n, center=False).mean()\n",
    "    std =df['Adj Close'].rolling(window=n, center=False).std()\n",
    "    df['bb_lower'+str(n)] = df['sma'+str(n)] - (2 * std)\n",
    "    df['bb_upper'+str(n)] = df['sma'+str(n)] + (2 * std)"
   ]
  },
  {
   "cell_type": "markdown",
   "metadata": {},
   "source": [
    "### Creating the labels"
   ]
  },
  {
   "cell_type": "markdown",
   "metadata": {},
   "source": [
    "The general approach to the stock market problem is to use non-linear regressors to predict future prices. Although it is easy to predict the price for the day ahead, as you move days further the r2_score sinks and the prediction becomes useless."
   ]
  },
  {
   "cell_type": "markdown",
   "metadata": {},
   "source": [
    "The inovative approach we will follow here is meant to treat this problem as a classification problem. In order to treat this problem as a classifier, we will pre-define a trading strategy, backtest it to the full dataset, and define the label to be whether this trading strategy results in a successful trade or not."
   ]
  },
  {
   "cell_type": "markdown",
   "metadata": {},
   "source": [
    "##### Swing Trade"
   ]
  },
  {
   "cell_type": "markdown",
   "metadata": {},
   "source": [
    "The first and most simple analysis is a swing trade strategy. We will buy the stock, and hold it for n days. If it reaches an upper boundary (+x%), we sell. If it reaches a lower boundary (-y%), we will also short our position.\n",
    "\n",
    "So the challenge is within the next n days the stock needs to reach the upper boundary, before it reaches the lower boundary. That will be counted as a successful trade. If it reaches the lower boundary before, or n days passes without reaching the upper boundary, the trading is considered a failure.\n",
    "\n",
    "The name swing trade means we are speculating on the week/bi-week pattern, the swing, not necessarily on the longer term trend.\n",
    "\n",
    "The parameters n, x, and y, will be optimized through a genetic algorithm to achieve the optimal trading strategy for this setup."
   ]
  },
  {
   "cell_type": "code",
   "execution_count": 412,
   "metadata": {
    "collapsed": true
   },
   "outputs": [],
   "source": [
    "def create_labels(input_df, forward=10, profit_margin=.05, stop_loss=.05):\n",
    "    \n",
    "    df = input_df.copy()\n",
    "    for row in range(df.shape[0]-forward):\n",
    "\n",
    "        # initialize max and min ticks\n",
    "        max_uptick = 0\n",
    "        min_downtick = 0 \n",
    "\n",
    "        # move all days forward\n",
    "        for i in range(1,forward+1):\n",
    "            delta = (df.ix[row+i, 'Adj Close'] / df.ix[row, 'Adj Close'])-1\n",
    "            if delta > max_uptick:\n",
    "                max_uptick = delta\n",
    "            if delta < min_downtick:\n",
    "                min_downtick = delta\n",
    "\n",
    "        # evaluate ticks against predefined strategy parameters\n",
    "        if max_uptick >= profit_margin and min_downtick <= -stop_loss:\n",
    "            df.ix[row,'Label'] = 1\n",
    "        else:\n",
    "            df.ix[row,'Label'] = 0        \n",
    "\n",
    "    return df.dropna()\n"
   ]
  },
  {
   "cell_type": "code",
   "execution_count": 413,
   "metadata": {
    "collapsed": false
   },
   "outputs": [],
   "source": [
    "df = create_labels(df)"
   ]
  },
  {
   "cell_type": "markdown",
   "metadata": {},
   "source": [
    "### Rounding up the features"
   ]
  },
  {
   "cell_type": "markdown",
   "metadata": {},
   "source": [
    "Now we've got the main data, and the label, let's start creating our features. There is also some innovation going on here, we are running from the traditional approach of stock price prediction."
   ]
  },
  {
   "cell_type": "markdown",
   "metadata": {},
   "source": [
    "The first and foremost difference is that instead of analyzing the raw data, I want to analyze the trend for each variable. So in a single day I will look at how the variable increased or decreased in the last N days."
   ]
  },
  {
   "cell_type": "markdown",
   "metadata": {},
   "source": [
    "To center at 0, for each variable I will calculate (value / value in n-1). The number of days I will look back may also vary, and it will also depend on the trading strategy to follow. But for simplicity we will start with a round number such as 60 days for the swing trading strategy of around 10 days."
   ]
  },
  {
   "cell_type": "code",
   "execution_count": 414,
   "metadata": {
    "collapsed": true
   },
   "outputs": [],
   "source": [
    "def create_features(input_df, base = 60):\n",
    "    \"\"\" Receives a dataframe as input \n",
    "        Returns a new dataframe with ratios calculated\n",
    "    \"\"\"\n",
    "    # avoid modifying in place\n",
    "    df = input_df.copy() \n",
    "    # get all columns ubt the label\n",
    "    cols = list(df.columns)\n",
    "    cols.remove('Label')\n",
    "    # create the new columns for the number of days\n",
    "    for n in range(1,base+1):\n",
    "        new_cols = list(map(lambda x: \"{}-{}\".format(x,n), cols))\n",
    "        df[new_cols] = (df.loc[:, cols] / df.shift(n).loc[:, cols]) - 1\n",
    "    # remove inf and drop na\n",
    "    df.replace([np.inf, -np.inf], np.nan, inplace=True) \n",
    "    df.dropna(axis=0, inplace=True)\n",
    "   \n",
    "    # leave or remove original columns? for now I will leave them\n",
    "    #return df.drop(cols, axis=1)\n",
    "    return df"
   ]
  },
  {
   "cell_type": "code",
   "execution_count": 415,
   "metadata": {
    "collapsed": false
   },
   "outputs": [
    {
     "data": {
      "text/plain": [
       "(1269, 2075)"
      ]
     },
     "execution_count": 415,
     "metadata": {},
     "output_type": "execute_result"
    }
   ],
   "source": [
    "df = create_features(df)\n",
    "df.shape"
   ]
  },
  {
   "cell_type": "markdown",
   "metadata": {},
   "source": [
    "### Understanding the label and features"
   ]
  },
  {
   "cell_type": "markdown",
   "metadata": {},
   "source": [
    "Let's start by analizying the label distribution. This will tell us a lot about the dataset, which optimal classifier to choose, and whether we will need to use a stratified approach when splitting the dataset for testing or cross-validation. "
   ]
  },
  {
   "cell_type": "code",
   "execution_count": 416,
   "metadata": {
    "collapsed": false
   },
   "outputs": [
    {
     "data": {
      "text/plain": [
       "((1269, 2074), (1269,))"
      ]
     },
     "execution_count": 416,
     "metadata": {},
     "output_type": "execute_result"
    }
   ],
   "source": [
    "# break up X and y arrays, convert to numpy array\n",
    "features = [x for x in df.columns if x != \"Label\"]\n",
    "X = df[features].values\n",
    "y = df['Label'].values\n",
    "X.shape, y.shape"
   ]
  },
  {
   "cell_type": "code",
   "execution_count": 417,
   "metadata": {
    "collapsed": false
   },
   "outputs": [
    {
     "data": {
      "text/plain": [
       "array([ 0.96926714,  0.03073286])"
      ]
     },
     "execution_count": 417,
     "metadata": {},
     "output_type": "execute_result"
    }
   ],
   "source": [
    "np.bincount(y.astype(int)) / len(y)"
   ]
  },
  {
   "cell_type": "markdown",
   "metadata": {},
   "source": [
    "As expected, there will be only a few occurrences where such a trading strategy results in success. Only 6,25% of the observations have label 1(success), while 93,75% have label 0 (failure). A stratified approach will be required when splitting the dataset later."
   ]
  },
  {
   "cell_type": "markdown",
   "metadata": {},
   "source": [
    "Next step is to take a look at the features we have. I will start standardizing to z-score, then checking and removing outliers, and finally analyse which features are most relevant and attempt to extract principal components."
   ]
  },
  {
   "cell_type": "markdown",
   "metadata": {},
   "source": [
    "For now, I will keep working with the full data, since I'm looking for understanding data, I'm doing predictions at this point. I will come back later to this point to divide the dataset "
   ]
  },
  {
   "cell_type": "code",
   "execution_count": 418,
   "metadata": {
    "collapsed": false
   },
   "outputs": [],
   "source": [
    "# scaling\n",
    "from sklearn.preprocessing import StandardScaler\n",
    "scaler = StandardScaler()\n",
    "X = scaler.fit_transform(X)"
   ]
  },
  {
   "cell_type": "code",
   "execution_count": 419,
   "metadata": {
    "collapsed": false
   },
   "outputs": [
    {
     "data": {
      "text/plain": [
       "[('Nasdaq index', 53.873514229481245, 3.809759817575612e-13),\n",
       " ('Dow Jones index', 41.879670714193935, 1.3839673325614666e-10),\n",
       " ('Exchange Rate USD Sell', 37.992278340290589, 9.5286190136062788e-10),\n",
       " ('Exchange Rate USD Buy', 37.986172919811089, 9.5576119787833217e-10),\n",
       " ('Bovespa total volume-54', 29.418168577620794, 6.979577895087298e-08),\n",
       " ('bb_upper60-60', 27.253535893501706, 2.0836233041406523e-07),\n",
       " ('bb_upper60-59', 27.139618913908251, 2.2073415852719978e-07),\n",
       " ('bb_upper60-58', 26.823027730980584, 2.5912955287411278e-07),\n",
       " ('bb_upper60-57', 26.563128201525966, 2.956139168846094e-07),\n",
       " ('bb_upper60-56', 26.444509836843906, 3.1393835469708813e-07),\n",
       " ('bb_upper60-55', 26.296830214208899, 3.3835431247709494e-07),\n",
       " ('bb_upper60-54', 26.192019339370471, 3.5683116552319737e-07),\n",
       " ('bb_upper60-53', 25.9930385229984, 3.9474258830948277e-07),\n",
       " ('bb_upper60-52', 25.855245307671456, 4.2334173361076736e-07),\n",
       " ('bb_upper60-51', 25.382811429836053, 5.3815368603516893e-07),\n",
       " ('bb_upper60-50', 24.904321870690517, 6.8637596916701126e-07),\n",
       " ('bb_upper60-49', 24.542115952374846, 8.2530160044433225e-07),\n",
       " ('bb_upper60-48', 24.439929154064679, 8.6937706234792292e-07),\n",
       " ('bb_upper60-47', 24.285887270009372, 9.4032798269813577e-07),\n",
       " ('bb_upper60-46', 24.111038607270807, 1.0279372205192711e-06),\n",
       " ('bb_upper60-45', 23.874418412019029, 1.1596992321632998e-06),\n",
       " ('bb_upper60-44', 23.643743775790057, 1.3044720784327624e-06),\n",
       " ('Exchange Rate USD Sell-11', 23.609611517224565, 1.3273840817796216e-06),\n",
       " ('Exchange Rate USD Buy-11', 23.592189355022072, 1.3392344649216821e-06),\n",
       " ('Exchange Rate USD Sell-9', 23.533230842451786, 1.3801314692462321e-06),\n",
       " ('Exchange Rate USD Buy-9', 23.523531046126408, 1.3869789732399846e-06),\n",
       " ('bb_upper60-43', 23.447885290314058, 1.4415648127352656e-06),\n",
       " ('bb_upper60-42', 23.24634770432813, 1.597762837029245e-06),\n",
       " ('bb_upper60-41', 22.962545975613352, 1.8469823324266002e-06),\n",
       " ('Exchange Rate USD Sell-10', 22.569950209140167, 2.2574304120304334e-06),\n",
       " ('Exchange Rate USD Buy-10', 22.563013994723701, 2.2654519937977636e-06),\n",
       " ('bb_upper50-60', 22.460037735599478, 2.3879669335616862e-06),\n",
       " ('bb_upper60-40', 22.395601236117599, 2.4679937994780311e-06),\n",
       " ('bb_upper50-59', 22.073275179683591, 2.9106402097673955e-06),\n",
       " ('bb_upper60-39', 22.042347026178803, 2.9571000029259119e-06),\n",
       " ('bb_upper60-38', 21.868192721274749, 3.2329763784267935e-06),\n",
       " ('bb_upper50-58', 21.690855943020591, 3.5404972800782393e-06),\n",
       " ('bb_upper60-37', 21.554242093806682, 3.7973114191119389e-06),\n",
       " ('bb_upper50-57', 21.306041578301567, 4.3127661666692593e-06),\n",
       " ('bb_upper60-36', 21.136374859864308, 4.7050560934245328e-06),\n",
       " ('bb_upper50-56', 21.109619612791029, 4.7701114686280707e-06),\n",
       " ('bb_upper50-55', 20.976994402357519, 5.1061875024487107e-06),\n",
       " ('bb_upper50-54', 20.84778259246557, 5.4564972457597456e-06),\n",
       " ('bb_upper50-53', 20.708603698015633, 5.8609105916195217e-06),\n",
       " ('bb_upper50-52', 20.437957439450731, 6.7356615567652702e-06),\n",
       " ('bb_upper60-35', 20.397837475217852, 6.8760628910332895e-06),\n",
       " ('Exchange Rate USD Sell-8', 20.193192026078403, 7.6393532588764874e-06),\n",
       " ('Exchange Rate USD Buy-8', 20.182742568536309, 7.6805380041854958e-06),\n",
       " ('bb_upper50-51', 19.936747372031377, 8.7172945454973061e-06),\n",
       " ('Exchange Rate USD Sell-12', 19.892798156433589, 8.916823806779001e-06),\n",
       " ('Exchange Rate USD Buy-12', 19.880305714785965, 8.9743731187963635e-06),\n",
       " ('Volume', 19.712940915111663, 9.7823873279196211e-06),\n",
       " ('bb_upper60-34', 19.47001654308837, 1.10871727636639e-05),\n",
       " ('Bovespa index-8', 19.468805482930911, 1.1094097881917919e-05),\n",
       " ('bb_upper50-50', 19.457656470172036, 1.1158055185291265e-05),\n",
       " ('Exchange Rate USD Sell-7', 19.447246463343085, 1.1218107827828848e-05),\n",
       " ('Exchange Rate USD Buy-7', 19.429817197076051, 1.131938134232297e-05),\n",
       " ('Bovespa total volume-57', 19.002115512273456, 1.4114463553424725e-05),\n",
       " ('bb_upper50-49', 18.957785763129927, 1.4441257702145267e-05),\n",
       " ('Exchange Rate USD Sell-15', 18.902206850089289, 1.4861754640576755e-05),\n",
       " ('Exchange Rate USD Buy-15', 18.893281862063333, 1.4930417483252061e-05),\n",
       " ('Exchange Rate USD Sell-16', 18.880668062401408, 1.5028004096136376e-05),\n",
       " ('Exchange Rate USD Buy-16', 18.864033602387366, 1.5157678194435941e-05),\n",
       " ('bb_upper50-48', 18.719323263395214, 1.6334337722243823e-05),\n",
       " ('bb_upper50-47', 18.510226464336512, 1.8198784805503409e-05),\n",
       " ('bb_upper60-33', 18.484829097938931, 1.8439366963646777e-05),\n",
       " ('Bovespa total volume-42', 18.358045492350509, 1.9689071823377053e-05),\n",
       " ('Bovespa index-7', 18.237750193053078, 2.095354691219418e-05),\n",
       " ('Bovespa total volume-56', 18.167091136405212, 2.1734047143786547e-05),\n",
       " ('Exchange Rate USD Sell-23', 18.079210861165933, 2.2745722473064162e-05),\n",
       " ('bb_upper50-46', 18.074419649807584, 2.2802221464348656e-05),\n",
       " ('Exchange Rate USD Buy-23', 18.06250819731185, 2.2943296573629553e-05),\n",
       " ('sma60-60', 17.942611510842337, 2.4413163293659124e-05),\n",
       " ('Exchange Rate USD Sell-17', 17.934520424726141, 2.4515703128561876e-05),\n",
       " ('Exchange Rate USD Buy-17', 17.91849314622246, 2.4720101136445505e-05),\n",
       " ('bb_upper60-32', 17.763538423194735, 2.6786897361819201e-05),\n",
       " ('bb_upper50-45', 17.504460777959935, 3.0638475275329482e-05),\n",
       " ('bb_upper40-60', 17.359309649485681, 3.3035252612861637e-05),\n",
       " ('International Reserves', 17.243671495815988, 3.5079129169976609e-05),\n",
       " ('sma60-59', 17.223664619739953, 3.5445450358566253e-05),\n",
       " ('Exchange Rate USD Sell-19', 17.221974064868469, 3.5476579904648651e-05),\n",
       " ('Exchange Rate USD Buy-19', 17.210231097170436, 3.5693573473658479e-05),\n",
       " ('Exchange Rate USD Sell-22', 17.121490549591631, 3.7377164486602485e-05),\n",
       " ('Exchange Rate USD Buy-22', 17.105556339725823, 3.7687829394061236e-05),\n",
       " ('Low-7', 17.035423967713498, 3.9086378241372805e-05),\n",
       " ('bb_upper50-44', 17.01571727667417, 3.9488682495575238e-05),\n",
       " ('bb_upper60-31', 16.995329861293062, 3.9909271510057669e-05),\n",
       " ('Exchange Rate USD Sell-29', 16.991543479398988, 3.9987879102007114e-05),\n",
       " ('Exchange Rate USD Buy-29', 16.979304318658187, 4.0243039393643947e-05),\n",
       " ('Bovespa total volume-58', 16.967120311476105, 4.0498678019765919e-05),\n",
       " ('Exchange Rate USD Sell-30', 16.878251729433714, 4.2413401328457597e-05),\n",
       " ('bb_upper40-59', 16.873725391053203, 4.2513327704295616e-05),\n",
       " ('Exchange Rate USD Sell-28', 16.86947056816766, 4.2607476053589873e-05),\n",
       " ('Exchange Rate USD Buy-30', 16.863391600657359, 4.274235238972663e-05),\n",
       " ('Exchange Rate USD Buy-28', 16.857481087125201, 4.2873903341279276e-05),\n",
       " ('Bovespa index-9', 16.821738544138732, 4.3678161398564548e-05),\n",
       " ('Bovespa total volume', 16.759221599217501, 4.5121580006478342e-05),\n",
       " ('Exchange Rate USD Sell-24', 16.68768923470736, 4.6832175485126967e-05),\n",
       " ('Exchange Rate USD Buy-24', 16.678593186278892, 4.705432401363326e-05),\n",
       " ('bb_upper50-43', 16.565709708407834, 4.9901157218629664e-05),\n",
       " ('sma60-58', 16.520076724268961, 5.1100647645459277e-05),\n",
       " ('Exchange Rate USD Sell-26', 16.513940094413485, 5.1264152420775534e-05),\n",
       " ('Exchange Rate USD Buy-26', 16.501538688258719, 5.1596186250653774e-05),\n",
       " ('bb_upper40-58', 16.391770351779204, 5.4631178813210047e-05),\n",
       " ('Exchange Rate USD Sell-20', 16.354741579434421, 5.5695038826364217e-05),\n",
       " ('Exchange Rate USD Buy-20', 16.343524962196792, 5.6021398475674865e-05),\n",
       " ('bb_upper50-42', 16.253302518969765, 5.8717561774301997e-05),\n",
       " ('Exchange Rate USD Sell-27', 16.180262609926434, 6.0995716998723578e-05),\n",
       " ('Exchange Rate USD Buy-27', 16.169181844714039, 6.1349026811705835e-05),\n",
       " ('Exchange Rate USD Sell-18', 16.166048964283249, 6.1449291870032362e-05),\n",
       " ('Exchange Rate USD Buy-18', 16.14956553746773, 6.1979554512625769e-05),\n",
       " ('bb_upper60-30', 16.069325958359663, 6.4627395027458528e-05),\n",
       " ('Exchange Rate USD Sell-21', 16.064378890439535, 6.479432485169523e-05),\n",
       " ('Low-8', 16.061596737892316, 6.4888394277123177e-05),\n",
       " ('Bovespa index-15', 16.055544649656103, 6.509350132165332e-05),\n",
       " ('Exchange Rate USD Buy-21', 16.049987054367271, 6.5282425019334007e-05),\n",
       " ('bb_upper40-57', 15.960783579942989, 6.8391499458843658e-05),\n",
       " ('sma60-57', 15.844961327172822, 7.2652044029257123e-05),\n",
       " ('Exchange Rate USD Sell-25', 15.832027063006127, 7.3144136128604486e-05),\n",
       " ('bb_upper50-41', 15.831434455950312, 7.3166762508048764e-05),\n",
       " ('Exchange Rate USD Buy-25', 15.818142241700583, 7.3676130689967641e-05),\n",
       " ('Bovespa index-16', 15.739616846813925, 7.6759032295760252e-05),\n",
       " ('Exchange Rate USD Sell-14', 15.671598747278805, 7.9534299972816228e-05),\n",
       " ('Exchange Rate USD Buy-14', 15.662100621136197, 7.9929804801583246e-05),\n",
       " ('Low', 15.662041536622088, 7.9932271290170023e-05),\n",
       " ('Bovespa index-17', 15.647386525645176, 8.0546420654836401e-05),\n",
       " ('Adj Close-8', 15.557036264382898, 8.4439181618849336e-05),\n",
       " ('bb_upper40-56', 15.532101027596683, 8.5546524612652023e-05),\n",
       " ('Bovespa index-12', 15.490666369264954, 8.7419044470048071e-05),\n",
       " ('Exchange Rate USD Sell-31', 15.473410337592078, 8.8211012861880207e-05),\n",
       " ('Bovespa index-10', 15.467049633566754, 8.8504758684994025e-05),\n",
       " ('Exchange Rate USD Buy-31', 15.456605147839277, 8.8989238753091934e-05),\n",
       " ('Bovespa total volume-53', 15.362050581003905, 9.3498718926451172e-05),\n",
       " ('bb_upper60-29', 15.33359709837417, 9.4900280978040154e-05),\n",
       " ('Close-8', 15.22126106370234, 0.00010064368800803317),\n",
       " ('sma60-56', 15.218948701761654, 0.00010076552189317324),\n",
       " ('Close', 15.147758403180644, 0.00010459003223379425),\n",
       " ('Bovespa index-23', 15.134425540995709, 0.00010532240881658995),\n",
       " ('bb_upper40-55', 15.08999704118124, 0.00010780039391777713),\n",
       " ('bb_upper50-40', 15.076579630998843, 0.00010856023731160417),\n",
       " ('bb_upper30-60', 15.055009018332109, 0.00010979313886503665),\n",
       " ('Adj Close-7', 15.006021794528381, 0.0001126457623122818),\n",
       " ('Exchange Rate USD Sell-13', 14.872637439928765, 0.00012079751565022517),\n",
       " ('Exchange Rate USD Buy-13', 14.859640076375863, 0.00012162298119235274),\n",
       " ('Bovespa index-11', 14.859089562849373, 0.00012165806969370807),\n",
       " ('Open', 14.782638421584327, 0.00012663136267996602),\n",
       " ('bb_upper40-54', 14.770671785048505, 0.00012742816077101948),\n",
       " ('Open-12', 14.711480476511309, 0.00013144438262183622),\n",
       " ('bb_upper60-28', 14.703792654984577, 0.00013197529417047126),\n",
       " ('Close-7', 14.664952524123199, 0.00013469078562699309),\n",
       " ('bb_upper50-39', 14.599122195899072, 0.00013942259084372724),\n",
       " ('sma60-55', 14.598321504790935, 0.00013948116367275374),\n",
       " ('High', 14.524377193150865, 0.00014499875938504481),\n",
       " ('Bovespa total volume-60', 14.479325938889687, 0.00014846777982006131),\n",
       " ('bb_upper30-59', 14.469474508171084, 0.00014923744009158479),\n",
       " ('bb_upper40-53', 14.445090011245528, 0.00015115987271193993),\n",
       " ('Bovespa total volume-55', 14.420157506254515, 0.0001531513364894772),\n",
       " ('Bovespa total volume-34', 14.367152441974621, 0.00015747344399602315),\n",
       " ('bb_upper50-38', 14.269014419800419, 0.00016580320813741991),\n",
       " ('Exchange Rate USD Sell-32', 14.260666300790392, 0.00016653196999712831),\n",
       " ('Exchange Rate USD Buy-32', 14.249203352893659, 0.00016753791254462192),\n",
       " ('Bovespa index-18', 14.192636374484163, 0.00017259248363453813),\n",
       " ('Exchange Rate USD Sell-34', 14.142842032906307, 0.00017716905570343589),\n",
       " ('bb_upper40-52', 14.140842091047036, 0.00017735540510391341),\n",
       " ('Exchange Rate USD Buy-34', 14.132459642557928, 0.00017813861340398778),\n",
       " ('bb_upper60-27', 14.081426951933736, 0.000182982673625963),\n",
       " ('sma60-54', 14.033636098619287, 0.0001876394587583759),\n",
       " ('Bovespa index-13', 14.032814828551254, 0.00018772052045522305),\n",
       " ('Bovespa index-14', 14.006602350391544, 0.00019032640922033605),\n",
       " ('Exchange Rate USD Sell-33', 14.004392219350974, 0.00019054778858122883),\n",
       " ('Exchange Rate USD Buy-33', 13.99246650591378, 0.00019174682671533434),\n",
       " ('sma10-6', 13.969789770773575, 0.00019404783632855183),\n",
       " ('bb_upper30-58', 13.941987585590127, 0.00019690697831626524),\n",
       " ('Bovespa total volume-43', 13.848490923459075, 0.00020683760542093046),\n",
       " ('sma10-5', 13.823829867940253, 0.00020954016623259423),\n",
       " ('Low-9', 13.81431850781636, 0.00021059199526338556),\n",
       " ('Bovespa total volume-52', 13.781532420017635, 0.000214258702581255),\n",
       " ('Adj Close-9', 13.764843055186445, 0.00021614987060051226),\n",
       " ('bb_upper50-37', 13.680785076875207, 0.00022593416660954786),\n",
       " ('sma10-4', 13.654157467309362, 0.00022912589479579307),\n",
       " ('bb_upper40-51', 13.642154041231155, 0.00023057953181869199),\n",
       " ('Exchange Rate USD Sell-36', 13.628580390537207, 0.0002322345424147591),\n",
       " ('Exchange Rate USD Buy-36', 13.617668237899824, 0.00023357373044594794),\n",
       " ('Low-12', 13.589971557792607, 0.00023700789206872159),\n",
       " ('Open-8', 13.572859336327518, 0.00023915509009049717),\n",
       " ('Exchange Rate USD Sell-39', 13.567797483849349, 0.00023979399322945018),\n",
       " ('Exchange Rate USD Buy-39', 13.558678790511221, 0.00024094929770526372),\n",
       " ('sma60-53', 13.527822289484055, 0.00024490053365096163),\n",
       " ('Exchange Rate USD Sell-38', 13.489590654154078, 0.00024988701444552389),\n",
       " ('Exchange Rate USD Buy-38', 13.477532969542931, 0.00025148083621239241),\n",
       " ('Close-9', 13.422393312033472, 0.00025890113684360033),\n",
       " ('Exchange Rate USD Sell-35', 13.402938650978038, 0.00026157162491897696),\n",
       " ('Exchange Rate USD Buy-35', 13.397715766676846, 0.00026229327851501485),\n",
       " ('bb_upper30-57', 13.392158067982983, 0.00026306340118949012),\n",
       " ('Bovespa index-22', 13.382184686379475, 0.00026445112671280894),\n",
       " ('Exchange Rate USD Sell-37', 13.379240655712923, 0.00026486217866227653),\n",
       " ('Exchange Rate USD Buy-37', 13.370232676277277, 0.000266123902404846),\n",
       " ('Exchange Rate USD Sell-46', 13.36753870366354, 0.00026650241727373353),\n",
       " ('Exchange Rate USD Buy-46', 13.357497155184513, 0.00026791809299622044),\n",
       " ('bb_lower60', 13.342388111143965, 0.00027006251143417778),\n",
       " ('Exchange Rate USD Sell-47', 13.3403827645558, 0.00027034842865444214),\n",
       " ('Exchange Rate USD Buy-47', 13.330252927505091, 0.00027179739228403333),\n",
       " ('Bovespa total volume-51', 13.241772639102878, 0.0002847915927544214),\n",
       " ('Bovespa index-19', 13.147003763512489, 0.00029940607090626079),\n",
       " ('bb_upper60-26', 13.140537000560371, 0.00030043049481435103),\n",
       " ('bb_upper50-36', 13.058152354870183, 0.00031379537124656671),\n",
       " ('sma60-52', 13.042856895019693, 0.00031634198832077855),\n",
       " ('bb_upper40-50', 13.040707948217992, 0.00031670144531040928),\n",
       " ('bb_lower10-1', 12.982555709828487, 0.00032658682859594416),\n",
       " ('Selic', 12.97132792201212, 0.00032853105238347653),\n",
       " ('Exchange Rate USD Sell-44', 12.927623923689524, 0.00033621087201613458),\n",
       " ('Exchange Rate USD Buy-44', 12.919694689822494, 0.00033762353480857135),\n",
       " ('bb_upper30-56', 12.871084771530086, 0.00034641580934679643),\n",
       " ('Open-13', 12.860781778596182, 0.00034830885707576396),\n",
       " ('Adj Close-13', 12.780489817785542, 0.00036342407630797003),\n",
       " ('Exchange Rate USD Sell-43', 12.676631989283216, 0.00038396308022781329),\n",
       " ('Exchange Rate USD Buy-43', 12.667406755499623, 0.0003858432358815339),\n",
       " ('Low-13', 12.617097304011814, 0.00039626148015309103),\n",
       " ('Bovespa index-20', 12.600844559822225, 0.00039968752789025936),\n",
       " ('sma60-51', 12.548447610858261, 0.00041093781725448208),\n",
       " ('Low-14', 12.533410172278483, 0.00041422524967476583),\n",
       " ('bb_upper40-49', 12.50096590919807, 0.00042140890517724605),\n",
       " ('sma10-7', 12.48535870575405, 0.00042490929032349203),\n",
       " ('Open-7', 12.462587141937725, 0.00043006927436244129),\n",
       " ('Close-13', 12.461641468217865, 0.00043028492593039276),\n",
       " ('sma10-3', 12.449296949895464, 0.00043311001474218252),\n",
       " ('Bovespa index-24', 12.445926900661153, 0.00043388451470903499),\n",
       " ('Adj Close-12', 12.42530098696977, 0.00043865532300833138),\n",
       " ('Bovespa index-25', 12.420517870401467, 0.00043976921653563161),\n",
       " ('bb_upper30-55', 12.328182563718071, 0.00046184145009065978),\n",
       " ('Exchange Rate USD Sell-40', 12.245068904434477, 0.00048266562146837396),\n",
       " ('sma50-60', 12.237595479779936, 0.00048458397924895088),\n",
       " ('Exchange Rate USD Sell-41', 12.237365519772871, 0.00048464312987388312),\n",
       " ('Exchange Rate USD Buy-40', 12.23561963074944, 0.00048509244790401592),\n",
       " ('Exchange Rate USD Buy-41', 12.228219706270487, 0.00048700155464461044),\n",
       " ('bb_upper50-35', 12.20155092697072, 0.00049394505796745698),\n",
       " ('bb_upper40-48', 12.188776795171822, 0.00049730630038955425),\n",
       " ('sma60-50', 12.108477102723935, 0.00051897150788836625),\n",
       " ('bb_lower50', 12.101302155869426, 0.00052095318034666674),\n",
       " ('Close-12', 12.09052074041869, 0.00052394532850823944),\n",
       " ('Exchange Rate USD Sell-42', 12.01359000957615, 0.00054580619560733157),\n",
       " ('Exchange Rate USD Buy-42', 12.001534064249126, 0.00054931468106519151),\n",
       " ('High-12', 11.985810527326645, 0.00055392478485859925),\n",
       " ('Exchange Rate USD Sell-48', 11.982446067105514, 0.00055491630631830961),\n",
       " ('bb_upper60-25', 11.977683036373797, 0.00055632306195491934),\n",
       " ('bb_lower10-4', 11.972322175811149, 0.00055791069945189137),\n",
       " ('Exchange Rate USD Buy-48', 11.972113258435266, 0.00055797266371570198),\n",
       " ('bb_upper30-54', 11.947789389177059, 0.00056523482515536089),\n",
       " ('Bovespa total volume-44', 11.941877787039765, 0.00056701418916930881),\n",
       " ('bb_lower10-3', 11.919773825273881, 0.00057371770543994459),\n",
       " ('Exchange Rate USD Sell-45', 11.902382507015114, 0.00057904829576861476),\n",
       " ('Exchange Rate USD Buy-45', 11.893637241038824, 0.00058174769146465406),\n",
       " ('Adj Close-14', 11.834112077959709, 0.00060046251386415117),\n",
       " ('bb_upper40-47', 11.831155212796196, 0.00060140787294127806),\n",
       " ('International Reserves-21', 11.781084123294482, 0.00061764695348884313),\n",
       " ('High-13', 11.755720233618399, 0.00062604148282261157),\n",
       " ('Low-11', 11.734797385401086, 0.00063305298233288815),\n",
       " ('International Reserves-22', 11.716594880100756, 0.00063921744178065966),\n",
       " ('Bovespa total volume-40', 11.695462063801839, 0.00064645048972149656),\n",
       " ('sma50-59', 11.691214306505316, 0.00064791431591941214),\n",
       " ('Exchange Rate USD Sell-6', 11.689109508157886, 0.00064864089549815927),\n",
       " ('Exchange Rate USD Buy-6', 11.679893833381618, 0.00065183187679843341),\n",
       " ('sma60-49', 11.661494761685553, 0.00065825024057744152),\n",
       " ('Bovespa index-26', 11.655873723846614, 0.00066022381299337448),\n",
       " ('Bovespa total volume-2', 11.603630147929428, 0.00067885556271735721),\n",
       " ('Close-14', 11.519086875578333, 0.00071014030246873739),\n",
       " ('bb_upper30-53', 11.518968644399516, 0.00071018505938293022),\n",
       " ('Bovespa index-21', 11.506591526269014, 0.00071488629248349226),\n",
       " ('Exchange Rate USD Sell-49', 11.494351725096463, 0.00071956633347756234),\n",
       " ('Exchange Rate USD Buy-49', 11.483091290124253, 0.00072389927546351578),\n",
       " ('International Reserves-20', 11.473273231320073, 0.00072769873889608422),\n",
       " ('sma10-2', 11.390256756325128, 0.0007606425718085795),\n",
       " ('International Reserves-19', 11.338486536380078, 0.00078194683548522446),\n",
       " ('bb_upper40-46', 11.328457681422194, 0.00078614317594003251),\n",
       " ('bb_upper50-34', 11.222629232948714, 0.00083183849277546019),\n",
       " ('sma60-48', 11.22066396862493, 0.00083271202791254456),\n",
       " ('Bovespa total volume-59', 11.132830412924006, 0.00087271606786200285),\n",
       " ('sma50-58', 11.127345358108869, 0.00087527785450900657),\n",
       " ('Open-14', 11.113811943080492, 0.00088163122759241401),\n",
       " ('bb_upper30-52', 11.067578082170643, 0.00090369042909796773),\n",
       " ('Adj Close-15', 10.987465396455562, 0.00094324569770893219),\n",
       " ('Bovespa total volume-41', 10.97514920786435, 0.00094948038027696546),\n",
       " ('sma10-1', 10.952531248312138, 0.00096103890437799534),\n",
       " ('bb_lower10', 10.933888086087547, 0.00097067323666579354),\n",
       " ('bb_upper60-24', 10.911446900213766, 0.00098240012248956604),\n",
       " ('Bovespa total volume-39', 10.89796929932066, 0.00098951184268677907),\n",
       " ('Open-9', 10.878548235149561, 0.00099985154939140623),\n",
       " ('bb_lower30', 10.838611939954641, 0.0010214586800374667),\n",
       " ('High-14', 10.82995147937527, 0.0010262063905192944),\n",
       " ('bb_lower40', 10.788598780903019, 0.0010491861820615172),\n",
       " ('International Reserves-23', 10.785388170381193, 0.0010509919836812619),\n",
       " ('bb_lower10-2', 10.77413956173776, 0.0010573436153284981),\n",
       " ('sma60-47', 10.747859296023417, 0.0010723349780340471),\n",
       " ('Exchange Rate USD Sell-50', 10.747069847296315, 0.0010727886286099144),\n",
       " ('Low-6', 10.737937925749671, 0.0010780503687113328),\n",
       " ('Exchange Rate USD Buy-50', 10.736984300176598, 0.0010786013454932397),\n",
       " ('bb_upper40-45', 10.721213724339107, 0.0010877545982093775),\n",
       " ('High-8', 10.680429024206182, 0.0011117926704718604),\n",
       " ('Open-11', 10.670843800214648, 0.0011175197756426549),\n",
       " ('Close-15', 10.66773508388037, 0.0011193836235637846),\n",
       " ('bb_lower10-6', 10.622937065555202, 0.0011465949160858466),\n",
       " ('High-11', 10.609716065804248, 0.0011547530180390396),\n",
       " ('sma50-57', 10.590301553961758, 0.0011668395897820791),\n",
       " ('International Reserves-15', 10.540368607899957, 0.0011985177286874362),\n",
       " ('High-15', 10.514048555279466, 0.0012155648739734935),\n",
       " ('Bovespa total volume-45', 10.511925038964582, 0.0012169509132274351),\n",
       " ('Open-6', 10.510174598634185, 0.0012180946464097964),\n",
       " ('bb_lower10-5', 10.446666693226982, 0.0012603357202193794),\n",
       " ('International Reserves-24', 10.406577952366758, 0.0012877613812304048),\n",
       " ('Bovespa total volume-33', 10.404524442974733, 0.00128918241281323),\n",
       " ('Adj Close', 10.397073371545551, 0.0012943519253057686),\n",
       " ('bb_upper30-51', 10.372090574743325, 0.0013118386885357318),\n",
       " ('Adj Close-11', 10.357097160421496, 0.0013224481566402589),\n",
       " ('sma10-8', 10.330453398323664, 0.0013415166098391862),\n",
       " ('Adj Close-10', 10.225403646440274, 0.0014194551681066647),\n",
       " ('International Reserves-14', 10.218030203500525, 0.0014250951315298948),\n",
       " ('sma60-46', 10.214299620949305, 0.0014279573137300481),\n",
       " ('bb_upper40-44', 10.21275270095566, 0.0014291458525455855),\n",
       " ('bb_upper50-33', 10.207576953853996, 0.0014331298111226109),\n",
       " ('International Reserves-18', 10.120504480269636, 0.0015018668652820818),\n",
       " ('International Reserves-16', 10.104473498361898, 0.0015148819918225699),\n",
       " ('sma50-56', 10.07128017525371, 0.0015421956057909887),\n",
       " ('International Reserves-25', 10.026353497431776, 0.0015799616715341492),\n",
       " ('Close-11', 10.019838075923515, 0.001585515997432239),\n",
       " ('Open-10', 10.01008212131331, 0.0015938698998137061),\n",
       " ('Low-15', 9.9975056248335878, 0.0016047049143463226),\n",
       " ('International Reserves-17', 9.9742247036510427, 0.0016249596865586678),\n",
       " ('bb_lower20', 9.968196631611038, 0.0016302463488169555),\n",
       " ('bb_lower10-7', 9.9308139003529075, 0.0016634231917039602),\n",
       " ('bb_upper60-23', 9.9218748021242558, 0.0016714575404831846),\n",
       " ('Bovespa total volume-20', 9.919173642302205, 0.0016738930464793389),\n",
       " ('Close-10', 9.8867957326571148, 0.0017033684531791151),\n",
       " ('High-9', 9.8053907972947112, 0.0017798244537106957),\n",
       " ('Exchange Rate USD Sell-51', 9.7894588842174191, 0.0017951905936669029),\n",
       " ('Exchange Rate USD Buy-51', 9.7800386496743812, 0.0018043395680709046),\n",
       " ('International Reserves-13', 9.774656383620993, 0.0018095880771118423),\n",
       " ('bb_upper40-43', 9.7640131344149257, 0.0018200124876712642),\n",
       " ('bb_upper30-50', 9.7599748962994113, 0.0018239836255799688),\n",
       " ('International Reserves-26', 9.7491712400593187, 0.0018346510574505214),\n",
       " ('Low-16', 9.747647217166282, 0.0018361609516684234),\n",
       " ('sma60-45', 9.683670265562986, 0.001900695907515036),\n",
       " ('Open-15', 9.6567099780091574, 0.0019285765087232814),\n",
       " ('Bovespa index-28', 9.5987877719119705, 0.001989888580541224),\n",
       " ('Low-10', 9.5791263454331208, 0.0020111475825827095),\n",
       " ('sma50-55', 9.5587197258808452, 0.0020334562864449276),\n",
       " ('Bovespa total volume-47', 9.5360621247599227, 0.0020585203341395518),\n",
       " ('bb_upper40-42', 9.4135049617713911, 0.0021996362091699466),\n",
       " ('bb_upper50-32', 9.4094720635514495, 0.0022044432717061866),\n",
       " ('Bovespa index-33', 9.3598516959644904, 0.002264469767249022),\n",
       " ('bb_upper30-49', 9.3434007130581822, 0.0022847351563726865),\n",
       " ('Bovespa index-29', 9.3347417905526502, 0.0022954756941902465),\n",
       " ('sma60-44', 9.1937829605936461, 0.0024777185978800153),\n",
       " ('Adj Close-16', 9.1750702415945788, 0.0025029935136470127),\n",
       " ('bb_upper60-22', 9.1736244632096291, 0.0025049571708832818),\n",
       " ('Bovespa index-34', 9.1356896097177955, 0.0025570436895151721),\n",
       " ('High-7', 9.1180584635850614, 0.0025816256013023765),\n",
       " ('sma50-54', 9.07312911060224, 0.0026453593745852026),\n",
       " ('Bovespa index-27', 9.0601785321489636, 0.0026640255210473281),\n",
       " ('bb_upper30-48', 9.0279111278705173, 0.0027111183853459745),\n",
       " ('Exchange Rate USD Sell-52', 8.9106504253208723, 0.0028895002955946886),\n",
       " ('bb_upper40-41', 8.9059370473837536, 0.0028969150265338085),\n",
       " ('Exchange Rate USD Buy-52', 8.9024441048736893, 0.0029024223428679658),\n",
       " ('Bovespa total volume-23', 8.8782922482148319, 0.0029407950648214116),\n",
       " ('Close-16', 8.8408530109354508, 0.0030013017129258638),\n",
       " ('International Reserves-27', 8.8230319429995347, 0.0030305462584312411),\n",
       " ('Bovespa index-6', 8.7907464888647979, 0.0030842674843879307),\n",
       " ('sma60-43', 8.7487616013310809, 0.0031555804075376987),\n",
       " ('High-10', 8.7440798069232741, 0.003163635901620956),\n",
       " ('Exchange Rate USD Sell-57', 8.7057203195450565, 0.0032304303923054367),\n",
       " ('Bovespa index-30', 8.6999768712076424, 0.0032405541412463519),\n",
       " ('Exchange Rate USD Buy-57', 8.6989609085340227, 0.0032423482965193077),\n",
       " ('bb_upper30-47', 8.6725911148510413, 0.0032892718026537732),\n",
       " ('Exchange Rate USD Sell-58', 8.66542367212827, 0.0033021449061286915),\n",
       " ('Exchange Rate USD Buy-58', 8.6587506158760519, 0.0033141761594653748),\n",
       " ('sma50-53', 8.6384481748827469, 0.0033510557484935232),\n",
       " ('Open-16', 8.6362934724851321, 0.0033549942275556029),\n",
       " ('bb_upper50-31', 8.6201992956395319, 0.003384561446045336),\n",
       " ('bb_upper60-21', 8.5980045421219451, 0.0034257719613113137),\n",
       " ('International Reserves-12', 8.5903552382146238, 0.0034400930102933248),\n",
       " ('Bovespa total volume-49', 8.5516013120098897, 0.0035135904324345799),\n",
       " ('bb_lower30-1', 8.544212782135725, 0.0035277833484083274),\n",
       " ('Exchange Rate USD Sell-56', 8.4965973897244993, 0.0036206607587140316),\n",
       " ('Exchange Rate USD Buy-56', 8.4885847833198813, 0.0036365329957735522),\n",
       " ('Bovespa total volume-28', 8.4422982506876423, 0.003729619575556209),\n",
       " ('Bovespa total volume-30', 8.3960084145956984, 0.003825141131055915),\n",
       " ('sma60-42', 8.3901551437596424, 0.0038373958748781421),\n",
       " ('sma10-9', 8.3369693227016999, 0.0039505982749120311),\n",
       " ('Exchange Rate USD Sell-59', 8.3327475155877977, 0.0039597285857911665),\n",
       " ('Exchange Rate USD Buy-59', 8.3251343712523926, 0.0039762475674401275),\n",
       " ('sma50-52', 8.2477207734950824, 0.0041482603195545044),\n",
       " ('Exchange Rate USD Sell-60', 8.2340956792719187, 0.004179311182553257),\n",
       " ('Exchange Rate USD Sell-53', 8.231781690448619, 0.0041846081245665665),\n",
       " ('Exchange Rate USD Buy-60', 8.2264653799580127, 0.0041968036027149108),\n",
       " ('Exchange Rate USD Buy-53', 8.2248463660915849, 0.0042005247697396129),\n",
       " ('sma60', 8.2246844549307969, 0.0042008970938336746),\n",
       " ('bb_upper40-40', 8.2197403361168035, 0.0042122825922917013),\n",
       " ('sma10', 8.2167764649450579, 0.0042191229776587279),\n",
       " ('Bovespa total volume-50', 8.2107059368793518, 0.0042331686526768907),\n",
       " ('bb_lower10-8', 8.2068829910118311, 0.0042420384373536794),\n",
       " ('Adj Close-17', 8.1710588308252863, 0.0043260818418983981),\n",
       " ('bb_upper30-46', 8.144206850200991, 0.0043901880338261664),\n",
       " ('International Reserves-28', 8.1065208502302699, 0.0044817966451922587),\n",
       " ('sma60-41', 8.0651935375082644, 0.0045844999536750978),\n",
       " ('Bovespa total volume-3', 8.0642848223568144, 0.0045867849908853399),\n",
       " ('bb_upper60-20', 8.0230249845332295, 0.0046917693061505061),\n",
       " ('Bovespa index-32', 8.0176161505770942, 0.0047057124505737024),\n",
       " ('International Reserves-30', 7.9998188405119812, 0.0047518902470625284),\n",
       " ('Exchange Rate USD Sell-54', 7.9897913258979285, 0.0047781114664341871),\n",
       " ('Exchange Rate USD Buy-54', 7.9826731333762915, 0.0047968145561676275),\n",
       " ('Exchange Rate USD Sell-55', 7.9787612110896307, 0.0048071249360649351),\n",
       " ('Exchange Rate USD Buy-55', 7.9716377028545278, 0.0048259579734559301),\n",
       " ('Bovespa index-31', 7.9705959680567871, 0.0048287183999737981),\n",
       " ('High-16', 7.9338732271989567, 0.0049270639680526794),\n",
       " ('bb_upper50-30', 7.8849323228551897, 0.0050613159830833632),\n",
       " ('International Reserves-31', 7.8629275734238373, 0.0051228891313749624),\n",
       " ('sma50-51', 7.8424191534087671, 0.0051809635314143771),\n",
       " ('sma40-60', 7.8374960389982586, 0.0051950042202306536),\n",
       " ('Close-17', 7.82903704921128, 0.0052192199643774024),\n",
       " ('bb_upper40-39', 7.8108103266939057, 0.0052717903873517975),\n",
       " ('International Reserves-29', 7.8096036103283302, 0.0052752898778651146),\n",
       " ('Adj Close-6', 7.7980672320231665, 0.0053088654386370757),\n",
       " ('sma50', 7.7583919807459925, 0.0054260110993704751),\n",
       " ('sma60-40', 7.7019334042386669, 0.0055972783382705754),\n",
       " ('bb_upper20-60', 7.681786494296226, 0.0056597220426317964),\n",
       " ('Foreign exchange operations balance-10',\n",
       "  7.5818063294426912,\n",
       "  0.0059802953631154796),\n",
       " ('Bovespa total volume-21', 7.5221016954778692, 0.0061805189889606116),\n",
       " ('Close-6', 7.5160817480584159, 0.0062010838345374032),\n",
       " ('High-6', 7.5085705555784283, 0.0062268410466059529),\n",
       " ('bb_upper30-45', 7.4953672854398459, 0.0062723827550739616),\n",
       " ('Foreign exchange operations balance-11',\n",
       "  7.478256050246209,\n",
       "  0.0063319110761021887),\n",
       " ('Bovespa total volume-46', 7.4609474603195318, 0.0063927136302051341),\n",
       " ('sma50-50', 7.4565464804818529, 0.0064082685855380711),\n",
       " ('Bovespa index', 7.4258538605308377, 0.0065178309084023816),\n",
       " ('bb_upper50-29', 7.4020652176102697, 0.0066040645027586799),\n",
       " ('bb_upper60-19', 7.3872182251295255, 0.0066584751039252535),\n",
       " ('bb_upper40-38', 7.3812301852823152, 0.006680549332908607),\n",
       " ('sma60-39', 7.372453893340122, 0.0067130374360109398),\n",
       " ('sma40', 7.3663346371331446, 0.0067357852786986651),\n",
       " ('sma40-59', 7.3614007428420765, 0.0067541840293795421),\n",
       " ('International Reserves-33', 7.3074922678073664, 0.0069585925275139297),\n",
       " ('bb_upper20-5', 7.2957880350185578, 0.0070038020876848186),\n",
       " ('International Reserves-11', 7.2832879795796996, 0.0070524175656724326),\n",
       " ('International Reserves-32', 7.2732443069887012, 0.0070917296849956997),\n",
       " ('bb_upper20-6', 7.1512326658148053, 0.0075876024064119533),\n",
       " ('bb_upper20-59', 7.1019883568704891, 0.0077976645068411898),\n",
       " ('International Reserves-34', 7.1012935765239744, 0.0078006704640549889),\n",
       " ('sma60-38', 7.0983124811139522, 0.0078135816041755325),\n",
       " ('sma50-49', 7.0752043428289584, 0.0079144082300606107),\n",
       " ('Adj Close-23', 7.058776366295989, 0.0079868971166145008),\n",
       " ('bb_lower30-2', 7.0539841093434195, 0.0080081709238206695),\n",
       " ('Bovespa index-35', 7.0527038563373443, 0.0080138640450903315),\n",
       " ('bb_upper50-28', 6.9364891979620031, 0.0085483176515769831),\n",
       " ('bb_upper30-44', 6.9313849707711395, 0.0085726116641984297),\n",
       " ('sma20', 6.9230711086002845, 0.0086123338018904219),\n",
       " ('Low-17', 6.9168375715652024, 0.0086422402199394198),\n",
       " ('sma40-58', 6.9036837001781066, 0.0087056978502098436),\n",
       " ('sma10-10', 6.8903701126926178, 0.0087704124077053833),\n",
       " ('sma30', 6.8597257652153063, 0.0089212486206763451),\n",
       " ('sma60-37', 6.8141151124863182, 0.0091506929462331042),\n",
       " ('Bovespa total volume-1', 6.7778968508726249, 0.0093371939807365203),\n",
       " ('International Reserves-35', 6.7746092180201929, 0.009354315050254261),\n",
       " ('Bovespa total volume-32', 6.7561282504303257, 0.0094511598191890627),\n",
       " ('bb_upper40-37', 6.7510675286745849, 0.0094778581785639904),\n",
       " ('Bovespa total volume-48', 6.7398202278404948, 0.0095374718686717236),\n",
       " ('sma50-48', 6.7316109355192122, 0.0095812260337923109),\n",
       " ('bb_upper20-7', 6.6948078122007511, 0.0097799261966808083),\n",
       " ('Bovespa total volume-6', 6.6864364583416691, 0.0098257104371050393),\n",
       " ('Bovespa total volume-29', 6.6835473063849573, 0.009841562663367269),\n",
       " ('Close-23', 6.6756073633009043, 0.0098852629276010191),\n",
       " ('Bovespa total volume-9', 6.6397324615311284, 0.010085209630873162),\n",
       " ('sma20-4', 6.6098932727803099, 0.010254676827585607),\n",
       " ('Low-23', 6.6055352433998715, 0.010279671137092029),\n",
       " ('bb_upper20-4', 6.5875040703131083, 0.010383750647668397),\n",
       " ('Bovespa total volume-5', 6.5748271501277298, 0.01045757157222863),\n",
       " ('bb_upper10-6', 6.5652998816228481, 0.010513405805722277),\n",
       " ('bb_upper60-18', 6.5534416983758792, 0.010583328163296449),\n",
       " ('International Reserves-10', 6.5477631397882003, 0.010616980989266904),\n",
       " ('Bovespa total volume-38', 6.5239177711748928, 0.010759499821413556),\n",
       " ('bb_upper20-58', 6.5219655665741056, 0.01077125441993115),\n",
       " ('sma60-36', 6.5105136131850214, 0.010840474976113823),\n",
       " ('sma40-57', 6.4945573349617396, 0.01093768431130487),\n",
       " ('bb_upper50-27', 6.4610724777991573, 0.011144604165023237),\n",
       " ('Bovespa total volume-31', 6.4562541515142806, 0.011174708352217368),\n",
       " ('bb_upper30-43', 6.4136876701300025, 0.011444314841965619),\n",
       " ('sma50-47', 6.3851378901279254, 0.011628880501845296),\n",
       " ('International Reserves-36', 6.3650487726333873, 0.011760582322698165),\n",
       " ('bb_lower30-3', 6.3272394903053337, 0.012012630669574011),\n",
       " ('BM&F Gold gramme', 6.3237416483558269, 0.012036227337106525),\n",
       " ('bb_upper10-7', 6.3193848273978537, 0.012065685411435781),\n",
       " ('High-17', 6.3035855364877067, 0.012173133680858423),\n",
       " ('sma20-5', 6.2991175258807388, 0.012203698008046706),\n",
       " ('sma60-35', 6.1670559526876154, 0.01314366828186664),\n",
       " ('International Reserves-37', 6.1569657326070866, 0.013218483603135661),\n",
       " ('bb_upper10-14', 6.1522343182696169, 0.013253716180719702),\n",
       " ('bb_lower30-4', 6.1413007053532187, 0.013335503918395624),\n",
       " ('Low-18', 6.1316925541415062, 0.01340780563168821),\n",
       " ('sma40-56', 6.1238677013678311, 0.013466986118783407),\n",
       " ('bb_upper40-36', 6.1040100326727664, 0.013618383120239611),\n",
       " ('sma20-6', 6.0885650012270771, 0.013737348945710227),\n",
       " ('bb_upper30-42', 6.0742365777934486, 0.013848671258652185),\n",
       " ('Foreign exchange operations balance-46',\n",
       "  6.0565108451171614,\n",
       "  0.01398767551515546),\n",
       " ('sma50-46', 6.0075795372601331, 0.01437890263220932),\n",
       " ('bb_upper10-10', 5.9974078024243553, 0.014461636010820293),\n",
       " ('bb_upper20-57', 5.9626232554223586, 0.014748288536318118),\n",
       " ('bb_upper10-15', 5.9437817665969446, 0.014905996879310922),\n",
       " ('bb_upper10-11', 5.9374904029013429, 0.014959043685503081),\n",
       " ('BM&F Gold gramme-8', 5.9326422237695757, 0.015000054789455446),\n",
       " ('sma10-11', 5.9220998292880056, 0.015089634343173383),\n",
       " ('Adj Close-22', 5.9013428155458314, 0.015267624419982683),\n",
       " ('Adj Close-18', 5.8862913443126175, 0.015398043188512999),\n",
       " ('Exchange Rate USD Sell-5', 5.8704524136543181, 0.015536526667024941),\n",
       " ('Exchange Rate USD Buy-5', 5.8636790081644641, 0.015596139755492065),\n",
       " ('Bovespa index-36', 5.8379205978165407, 0.015825004580348932),\n",
       " ('bb_upper10', 5.8168308565573277, 0.016014967171534153),\n",
       " ('Dow Jones index-45', 5.7865014118664559, 0.01629229034210505),\n",
       " ('bb_upper30-41', 5.7733945556077844, 0.016413665021256161),\n",
       " ('bb_upper10-8', 5.7677331268681966, 0.016466380436986318),\n",
       " ('sma60-34', 5.7619069361745527, 0.016520812541593984),\n",
       " ('sma40-55', 5.7571420732490877, 0.016565467114348548),\n",
       " ('bb_lower10-9', 5.7524850809815771, 0.016609231200481703),\n",
       " ('bb_upper10-9', 5.7243782479410807, 0.016875912328424059),\n",
       " ('Open-17', 5.7124653780803838, 0.016990273875804745),\n",
       " ('bb_upper50-26', 5.7123513100326546, 0.016991372770697521),\n",
       " ('International Reserves-39', 5.6861815948233367, 0.017245434299809983),\n",
       " ('BM&F Gold gramme-7', 5.6779310517527115, 0.01732634361254486),\n",
       " ('International Reserves-38', 5.6570038919867729, 0.017533330682330036),\n",
       " ('bb_lower60-60', 5.6564372771396663, 0.01753897037307502),\n",
       " ('International Reserves-40', 5.6530162386578686, 0.017573060867113962),\n",
       " ('sma20-3', 5.6512909657590464, 0.017590279101835631),\n",
       " ('sma50-45', 5.6296765326938933, 0.017807474853718783),\n",
       " ('bb_upper10-12', 5.6077493042884612, 0.018030647696097472),\n",
       " ('bb_upper10-5', 5.5774679041680315, 0.018343612564797544),\n",
       " ('Low-22', 5.55838153534346, 0.018543755662896146),\n",
       " ('Close-18', 5.5416206271391246, 0.018721375954387977),\n",
       " ('Close-22', 5.5294943470332285, 0.018850978278708016),\n",
       " ('Nasdaq index-45', 5.5291358296864495, 0.018854824108927741),\n",
       " ('International Reserves-9', 5.516765504632045, 0.018988019512991006),\n",
       " ('bb_upper60-17', 5.4632091253902999, 0.019576009187813076),\n",
       " ('bb_upper20-56', 5.4474529332804229, 0.019752558761886141),\n",
       " ('sma40-54', 5.4357189793555722, 0.019885109189537856),\n",
       " ('Adj Close-25', 5.4315766225036972, 0.019932122215845213),\n",
       " ('bb_upper10-13', 5.4126382501402412, 0.020148530824858152),\n",
       " ('bb_upper30-40', 5.4050127979611169, 0.020236352595547603),\n",
       " ('Bovespa index-40', 5.3796679641388048, 0.020531106844461706),\n",
       " ('sma60-33', 5.3750324715225108, 0.020585495802814702),\n",
       " ('bb_upper40-35', 5.3614968945673116, 0.020745166791694847),\n",
       " ('sma50-44', 5.3042069236207228, 0.021435325867114392),\n",
       " ('Dow Jones index-44', 5.2989773604113308, 0.021499499386690581),\n",
       " ('Bovespa total volume-36', 5.2666587632266095, 0.021900535117889183),\n",
       " ('bb_upper30-39', 5.2654099218121173, 0.021916186552674081),\n",
       " ('bb_upper20-8', 5.2351815178246763, 0.022298592223013915),\n",
       " ('Bovespa total volume-4', 5.2316078971915658, 0.022344255746102052),\n",
       " ('International Reserves-41', 5.2262477670197107, 0.022412929150580952),\n",
       " ('sma20-1', 5.2153727928753728, 0.022552931813174724),\n",
       " ('bb_upper30-38', 5.1988358148074099, 0.022767567747139596),\n",
       " ('bb_lower30-5', 5.1753268159957901, 0.02307635012333718),\n",
       " ('Low-24', 5.1563316404046686, 0.023329018902053945),\n",
       " ('Adj Close-19', 5.1520314567109695, 0.023386616466786359),\n",
       " ('sma40-53', 5.1422271745378838, 0.023518489845557829),\n",
       " ('Bovespa index-46', 5.1341583631028938, 0.023627599268385358),\n",
       " ('Low-19', 5.1111596032167146, 0.023941491015214193),\n",
       " ('International Reserves-42', 5.0963835029981173, 0.024145440871636694),\n",
       " ('sma20-7', 5.0627884568382475, 0.02461588863458649),\n",
       " ('Open-22', 5.0588623034573139, 0.024671486755436293),\n",
       " ('bb_upper30-37', 5.0535648617212177, 0.024746710568033885),\n",
       " ('bb_lower60-59', 5.0500785562390256, 0.024796346230740823),\n",
       " ('sma20-2', 5.035580158449779, 0.025003877274997196),\n",
       " ('sma60-32', 5.0336272125298125, 0.02503196954742061),\n",
       " ('Close-25', 5.0315674566325406, 0.02506163378952837),\n",
       " ('Bovespa index-45', 5.0271661374158256, 0.025125143362004949),\n",
       " ('Nasdaq index-46', 5.0248510745033466, 0.02515861607989214),\n",
       " ('Dow Jones index-47', 5.0229789288052906, 0.025185718711725088),\n",
       " ('sma10-12', 5.0188229978388295, 0.02524599173482878),\n",
       " ('sma50-43', 4.9981642419583405, 0.025547837160465058),\n",
       " ('Adj Close-24', 4.9891798208598352, 0.025680277432445678),\n",
       " ('Bovespa index-39', 4.9656255640237141, 0.026030894470615032),\n",
       " ('Dow Jones index-46', 4.9528863809605097, 0.026222595233027144),\n",
       " ('International Reserves-51', 4.9507235723104577, 0.026255287023315175),\n",
       " ('Bovespa total volume-27', 4.9390770901582695, 0.02643205921177388),\n",
       " ('Bovespa index-43', 4.9090207030207642, 0.026894006755741464),\n",
       " ('bb_upper10-16', 4.9066997396518053, 0.026930026246653083),\n",
       " ('bb_upper50-25', 4.8747996911279161, 0.027430210608414603),\n",
       " ('bb_upper20-55', 4.8715580710468736, 0.027481577025170012),\n",
       " ('Open-24', 4.8566842418176499, 0.027718554065245853),\n",
       " ('sma40-52', 4.8543171283907709, 0.027756463950230154),\n",
       " ('International Reserves-52', 4.8310662419936596, 0.028131716151851033),\n",
       " ('bb_upper30-36', 4.8260148946599442, 0.028213937854529157),\n",
       " ('Bovespa index-41', 4.8108602970393477, 0.028462118051616286),\n",
       " ('Close-19', 4.8066498992049809, 0.028531472989432361),\n",
       " ('International Reserves-50', 4.8058646037036397, 0.028544428091647082),\n",
       " ('sma30-60', 4.7672530020163721, 0.029189031291740518),\n",
       " ('sma60-31', 4.7442782533460086, 0.029579770506491243),\n",
       " ('sma50-42', 4.7313817232738931, 0.02980149325935328),\n",
       " ('Open-23', 4.7079749214549276, 0.030208353930626632),\n",
       " ('Nasdaq index-47', 4.6940696188289364, 0.030452798799974406),\n",
       " ('Bovespa total volume-37', 4.6711798488058713, 0.0308596907493787),\n",
       " ('Nasdaq index-44', 4.6681079518873698, 0.030914727663884083),\n",
       " ('High-22', 4.6562026083676056, 0.031128997119326318),\n",
       " ('Low-25', 4.6494507070719031, 0.031251204807791463),\n",
       " ('BM&F Gold gramme-10', 4.6407527704925693, 0.031409374164104005),\n",
       " ('High-18', 4.6332371958365419, 0.031546715981471428),\n",
       " ('Bovespa total volume-19', 4.6329601776444491, 0.031551790264379403),\n",
       " ('Low-21', 4.6291794915760276, 0.031621128297113048),\n",
       " ('bb_lower30-6', 4.6157198912953996, 0.031869273174880107),\n",
       " ('bb_upper40-34', 4.6121809929712159, 0.031934854473564499),\n",
       " ('Close-24', 4.6040236045657927, 0.032086561313241918),\n",
       " ('High-23', 4.5983143697418818, 0.032193186530934677),\n",
       " ('Bovespa total volume-24', 4.5968303969273165, 0.032220961676255912),\n",
       " ('sma40-51', 4.5523959876400086, 0.0330643399797656),\n",
       " ('bb_lower60-58', 4.5496710469594479, 0.033116805518320289),\n",
       " ('Adj Close-20', 4.5373249892131442, 0.033355607549717746),\n",
       " ('Bovespa index-47', 4.5182137968783005, 0.033728821590558351),\n",
       " ('International Reserves-8', 4.5107512296762033, 0.033875738441703142),\n",
       " ('Bovespa index-44', 4.5083526308127118, 0.033923102141376421),\n",
       " ('International Reserves-49', 4.4945488622320369, 0.034197027183048047),\n",
       " ('bb_upper30-35', 4.4918709463599606, 0.034250435898279467),\n",
       " ('sma50-41', 4.4880010402129127, 0.034327772117687762),\n",
       " ('sma60-30', 4.4797239752737958, 0.034493795175380614),\n",
       " ('Bovespa index-37', 4.4374778407744238, 0.035354370238647674),\n",
       " ('bb_upper20-54', 4.4355861817672739, 0.035393426303358337),\n",
       " ('sma30-59', 4.4352619775118916, 0.035400124509114679),\n",
       " ('Low-20', 4.4282862216792296, 0.035544568874469377),\n",
       " ('Dow Jones index-43', 4.4129943552266173, 0.035863376391148831),\n",
       " ('bb_upper40', 4.3912948479947937, 0.036320923271642498),\n",
       " ('sma10-13', 4.3766675554639924, 0.036632797313887924),\n",
       " ('International Reserves-43', 4.3494875759970162, 0.037219790732854495),\n",
       " ('bb_upper20', 4.3464921177524714, 0.037285083018951622),\n",
       " ('International Reserves-46', 4.3456780711410694, 0.037302847621192653),\n",
       " ('BM&F Gold gramme-9', 4.3382971541788278, 0.037464324061389088),\n",
       " ('Bovespa total volume-26', 4.3369175443784567, 0.037494587799458003),\n",
       " ('Nasdaq index-36', 4.3348405676363457, 0.037540197665524903),\n",
       " ('sma40-50', 4.2975523354798639, 0.038369017112855716),\n",
       " ('bb_upper60-16', 4.2948581170293076, 0.038429641680333346),\n",
       " ('Open-18', 4.2862564799978395, 0.038623867230893401),\n",
       " ('International Reserves-47', 4.2652534437047098, 0.03910246037093798),\n",
       " ('sma50-40', 4.242574916297599, 0.039626232413622738),\n",
       " ('Adj Close-21', 4.2366378834884202, 0.039764564819136268),\n",
       " ('International Reserves-44', 4.2285917237579111, 0.039952849976513057),\n",
       " ('sma60-29', 4.2227560573592751, 0.040089994169091064),\n",
       " ('Bovespa index-42', 4.2150415913144554, 0.040272051812625199),\n",
       " ('Close-20', 4.1905475261033924, 0.040855882026924785),\n",
       " ('Bovespa index-38', 4.185752647572742, 0.040971208496865148),\n",
       " ('bb_upper50-24', 4.181831781089735, 0.041065767607537544),\n",
       " ('Open-5', 4.1678958490399678, 0.041403720760940246),\n",
       " ('Nasdaq index-33', 4.1666103935640209, 0.04143504069378709),\n",
       " ('International Reserves-45', 4.1651847799529413, 0.041469804705098694),\n",
       " ('bb_upper50', 4.1526636771791283, 0.041776456883035495),\n",
       " ('bb_upper30-34', 4.1376197793066289, 0.042148052509752558),\n",
       " ('Open-21', 4.1376098928583618, 0.042148297852871872),\n",
       " ('bb_upper20-3', 4.129894859662449, 0.042340213900873502),\n",
       " ('sma30-58', 4.12109306139872, 0.042560287611500096),\n",
       " ('High-21', 4.1073820791293034, 0.042905509039663066),\n",
       " ('International Reserves-53', 4.1004405888921873, 0.043081408040090828),\n",
       " ('bb_upper60', 4.0892386421075724, 0.043366871400099705),\n",
       " ('Dow Jones index-39', 4.0821386201823007, 0.043548834819188566),\n",
       " ('Dow Jones index-48', 4.0771102844727167, 0.043678190242294947),\n",
       " ('Open-19', 4.0598131253661736, 0.044126264813710903),\n",
       " ('bb_lower60-57', 4.0517392708006224, 0.044337069754922943),\n",
       " ('Nasdaq index-34', 4.0513988967384202, 0.044345980059824951),\n",
       " ('Exchange Rate USD Sell-4', 4.0489630246437489, 0.044409801374435447),\n",
       " ('sma40-49', 4.048292007714382, 0.044427399423371747),\n",
       " ('Exchange Rate USD Buy-4', 4.043342427237743, 0.044557434100389315),\n",
       " ('International Reserves-48', 4.0337695339714958, 0.044810071462546536),\n",
       " ('sma50-39', 4.0273258963140783, 0.044980974953569564),\n",
       " ('Nasdaq index-39', 4.0016720395218108, 0.04566823356156112),\n",
       " ('Bovespa total volume-25', 3.9886241652805663, 0.046022023001896215),\n",
       " ('bb_upper20-53', 3.9869504842599706, 0.046067613210298987),\n",
       " ('sma10-14', 3.9787415674521274, 0.046291910971309018),\n",
       " ('sma60-28', 3.9735972205984198, 0.046433060602512663),\n",
       " ('International Reserves-7', 3.9573771931877442, 0.046881084569278211),\n",
       " ('High-24', 3.9549378965860873, 0.046948855739597208),\n",
       " ('bb_upper40-33', 3.9100237681053436, 0.048215374739304193),\n",
       " ('Nasdaq index-35', 3.8900997482220205, 0.048788717571155056),\n",
       " ('Bovespa index-48', 3.8883215662725346, 0.048840236462343145),\n",
       " ('sma30-57', 3.8875760536201285, 0.048861853150466115),\n",
       " ('Close-21', 3.8872615636155436, 0.048870975052659187),\n",
       " ('High-25', 3.8822549807131135, 0.049016435611501485),\n",
       " ('Adj Close-26', 3.8818941821594226, 0.04902693586856164),\n",
       " ('sma50-38', 3.8564998036701463, 0.049771992442116102),\n",
       " ('Nasdaq index-32', 3.8407575209213398, 0.050239867640190006),\n",
       " ('Open-25', 3.8367087092382035, 0.050360952856578163),\n",
       " ('sma40-48', 3.8289104350370815, 0.050595041929512856),\n",
       " ('bb_upper20-47', 3.801244972102741, 0.051434840020287524),\n",
       " ('High-19', 3.792664103196536, 0.051698305371584624),\n",
       " ('sma60-27', 3.7775549377942239, 0.052165694781852588),\n",
       " ('bb_upper20-46', 3.7737524891025354, 0.052284024011029134),\n",
       " ('Nasdaq index-37', 3.7713803205665544, 0.05235798806607711),\n",
       " ('bb_lower30-7', 3.7280195049214191, 0.053729697708747359),\n",
       " ('bb_upper20-9', 3.7213658225145125, 0.053943535241598131),\n",
       " ('sma50-37', 3.7073157302631348, 0.054398051768691419),\n",
       " ('Nasdaq index-43', 3.7013929409205737, 0.054590868191045042),\n",
       " ('bb_upper30', 3.6886012799018162, 0.055009779887591738),\n",
       " ('International Reserves-54', 3.685404915576, 0.055114988938300372),\n",
       " ('Exchange Rate USD Sell-2', 3.6793457019458615, 0.055315016028688317),\n",
       " ('sma30-56', 3.6771970089445762, 0.05538613379232013),\n",
       " ('bb_upper20-52', 3.6745572172641885, 0.055473638938543908),\n",
       " ('Exchange Rate USD Buy-2', 3.6693770619882029, 0.055645780297823674),\n",
       " ('bb_upper30-33', 3.6504610172018115, 0.056279212015170263),\n",
       " ('bb_upper10-4', 3.6489872304689288, 0.056328884531941903),\n",
       " ('sma40-47', 3.6353770484924182, 0.056789809698428236),\n",
       " ('bb_upper20-45', 3.6311836282506733, 0.056932631299607149),\n",
       " ('Nasdaq index-48', 3.6152901087996483, 0.057477416083525849),\n",
       " ('bb_lower10-10', 3.6016734577668963, 0.05794856500017935),\n",
       " ('bb_upper50-23', 3.6000487317473953, 0.058005055711835452),\n",
       " ('Dow Jones index-42', 3.5972376719973087, 0.058102932890693744),\n",
       " ('bb_upper20-48', 3.5842320527311875, 0.058558062612949623),\n",
       " ('Dow Jones index-40', 3.5821433119349027, 0.058631510580630104),\n",
       " ('Dow Jones index-49', 3.5676958162647328, 0.059142230572257752),\n",
       " ('Bovespa total volume-10', 3.5661626249301843, 0.059196706223536094),\n",
       " ('sma20-8', 3.5511247250028455, 0.059733856286619813),\n",
       " ('bb_upper20-44', 3.5458689489155182, 0.059922813142492225),\n",
       " ('bb_lower60-56', 3.5418970182816172, 0.060066035151264727),\n",
       " ('sma50-36', 3.5373257720240163, 0.060231318981061363),\n",
       " ('Dow Jones index-36', 3.5215460469809519, 0.060805603826463439),\n",
       " ('sma60-26', 3.5143216638930208, 0.061070471270032942),\n",
       " ('Nasdaq index-38', 3.5123415986402069, 0.061143280856421504),\n",
       " ('Nasdaq index-10', 3.5019121960685458, 0.061528313776765993),\n",
       " ('Bovespa index-49', 3.5003656266489074, 0.061585629761697215),\n",
       " ('sma30-55', 3.4938545230792197, 0.061827556807871886),\n",
       " ('Close-26', 3.492739008045088, 0.061869106541412262),\n",
       " ('BM&F Gold gramme-6', 3.4510556018004319, 0.063443243018382431),\n",
       " ('bb_upper40-32', 3.4464935128175735, 0.06361810328569685),\n",
       " ('Bovespa total volume-7', 3.436512500287352, 0.064002462170335173),\n",
       " ('bb_upper20-51', 3.4320900014863125, 0.064173560239105004),\n",
       " ('sma10-15', 3.4264232574183437, 0.064393510061769563),\n",
       " ('bb_upper20-49', 3.4185239438913495, 0.064701459676075476),\n",
       " ('Nasdaq index-31', 3.4164359624739848, 0.064783120887192805),\n",
       " ('sma40-46', 3.4035689316177673, 0.065288788513180165),\n",
       " ('Dow Jones index-33', 3.3911738450589328, 0.065779899576749859),\n",
       " ('Bovespa total volume-11', 3.3773307434529278, 0.066333055340159736),\n",
       " ('bb_upper20-50', 3.3763166343579449, 0.066373773146223336),\n",
       " ('Nasdaq index-49', 3.3741019584879672, 0.066462788237587569),\n",
       " ('sma30-54', 3.3693900299810982, 0.066652601203897877),\n",
       " ('sma50-35', 3.3628031436569827, 0.066918916514136784),\n",
       " ('Dow Jones index-34', 3.3582940578069902, 0.067101880225696464),\n",
       " ('bb_upper20-43', 3.3303682904167666, 0.068247006753548556),\n",
       " ('Bovespa total volume-22', 3.3138698437915703, 0.068933361476921279),\n",
       " ('bb_upper30-32', 3.3134417773498099, 0.068951267649645057),\n",
       " ('Low-5', 3.306697765671057, 0.069234030720968245),\n",
       " ('Dow Jones index-38', 3.2992793792707618, 0.069546504671520099),\n",
       " ('High-20', 3.2870360861755445, 0.070065521654625831),\n",
       " ('bb_upper60-15', 3.2814156858041938, 0.070305170509458351),\n",
       " ('Bovespa index-50', 3.268705941871203, 0.070850349911677532),\n",
       " ('Dow Jones index-37', 3.2683374307527782, 0.070866224529150076),\n",
       " ('sma30-53', 3.2550597407880026, 0.071440750219135679),\n",
       " ('Nasdaq index-40', 3.2517263052456431, 0.071585771437435233),\n",
       " ('Nasdaq index-8', 3.2381063332792053, 0.072181599765171411),\n",
       " ('sma60-25', 3.2366847807567609, 0.072244094059319572),\n",
       " ('Bovespa index-51', 3.2215495727252033, 0.072913081947619154),\n",
       " ('bb_upper50-22', 3.2041524184745196, 0.073690279290832758),\n",
       " ('Dow Jones index-35', 3.2011019618191625, 0.073827469692673606),\n",
       " ('bb_upper10-17', 3.1970869879544797, 0.074008456576320159),\n",
       " ('sma40-45', 3.1920864879446591, 0.074234536100021467),\n",
       " ('sma30-52', 3.1676189830039134, 0.075351502860455333),\n",
       " ('sma50-34', 3.1562168669276724, 0.075878184278285229),\n",
       " ('bb_upper20-42', 3.1413102193359657, 0.076572728968200374),\n",
       " ('Nasdaq index-42', 3.1391477199055835, 0.076674053313222745),\n",
       " ('Selic-9', 3.1325873237168556, 0.076982326316925531),\n",
       " ('Dow Jones index-51', 3.1296608407200242, 0.077120272007634411),\n",
       " ('bb_upper40-31', 3.1137403228454077, 0.07787539702242452),\n",
       " ('International Reserves-6', 3.1114953563365124, 0.077982517147921981),\n",
       " ('Dow Jones index-50', 3.1043130681090507, 0.078326293014812962),\n",
       " ('Nasdaq index-50', 3.0965769079196717, 0.078698407818898336),\n",
       " ('bb_upper20-2', 3.0963849597387183, 0.078707664858827756),\n",
       " ('Dow Jones index-32', 3.0733248458450979, 0.079828370454667105),\n",
       " ('bb_lower60-55', 3.0586390702247841, 0.080551054170930517),\n",
       " ('Open-20', 3.0568748899607749, 0.080638343045280503),\n",
       " ('Dow Jones index-41', 3.0443685392246742, 0.081260073454394816),\n",
       " ('sma40-44', 3.0399423118722035, 0.081481353855019548),\n",
       " ('Dow Jones index-31', 3.0357762741305496, 0.081690221263662849),\n",
       " ('bb_upper30-31', 3.0349450775563747, 0.081731963090006965),\n",
       " ('sma30-51', 3.015943717088319, 0.082692504408533624),\n",
       " ('bb_upper50-21', 3.010495070245399, 0.082970185720923004),\n",
       " ('International Reserves-55', 3.0103863743907424, 0.082975735471571471),\n",
       " ('sma60-24', 2.9945516203923259, 0.083788525095110269),\n",
       " ('sma10-16', 2.9892843932561664, 0.084060794474074496),\n",
       " ('sma50-33', 2.9530049783192061, 0.085962334724612857),\n",
       " ('Nasdaq index-11', 2.9436542245214898, 0.086459958555956257),\n",
       " ('bb_upper20-41', 2.9301613542235114, 0.087183526045344448),\n",
       " ('Nasdaq index-51', 2.90772886176513, 0.088401062602925226),\n",
       " ('Low-26', 2.903602578203488, 0.088627020983646276),\n",
       " ('sma40-43', 2.892527120125195, 0.089236626475178979),\n",
       " ('International Reserves-60', 2.8864416462578828, 0.089573514135031992),\n",
       " ('Bovespa total volume-8', 2.884875354460017, 0.089660446262558313),\n",
       " ('sma30-50', 2.8783623928243163, 0.090022911711987202),\n",
       " ('bb_lower10-19', 2.8672886425958466, 0.090642857682992448),\n",
       " ('bb_upper50-20', 2.8603857714727896, 0.091031649900551639),\n",
       " ('bb_lower10-20', 2.8576756959600051, 0.091184785353782771),\n",
       " ('International Reserves-59', 2.8527623238323798, 0.091463134801946136),\n",
       " ('bb_upper40-30', 2.8521306205822743, 0.091498988646197654),\n",
       " ('sma50-32', 2.8124786920409424, 0.093780422433422175),\n",
       " ('Dow Jones index-56', 2.8072554648864099, 0.094085535152586858),\n",
       " ('sma40-42', 2.8012497558065586, 0.094437693126228198),\n",
       " ('Nasdaq index-41', 2.7628959261360988, 0.096720816734507498),\n",
       " ('Selic-10', 2.7588035705225114, 0.096967957951624092),\n",
       " ('Bovespa index-5', 2.7461187138209087, 0.097738397547185829),\n",
       " ('sma30-49', 2.7432856181941507, 0.09791138248998961),\n",
       " ('Nasdaq index-9', 2.7372409868698666, 0.09828157803649748),\n",
       " ('sma60-23', 2.7142116377635359, 0.099706054213853965),\n",
       " ('International Reserves-57', 2.7110101191040039, 0.099905863670389242),\n",
       " ('bb_upper40-29', 2.7047752660781432, 0.10029624378282274),\n",
       " ('sma40-41', 2.6920397761120025, 0.10109884016058612),\n",
       " ('bb_upper30-30', 2.6887254692305507, 0.10130885974198305),\n",
       " ('sma50-31', 2.6773976959211985, 0.10203028626012242),\n",
       " ('sma20-60', 2.6773863728157137, 0.10203101019696706),\n",
       " ('bb_lower30-8', 2.6650880582510372, 0.1028206275933333),\n",
       " ('International Reserves-56', 2.6557261460387913, 0.10342619971954517),\n",
       " ('Nasdaq index-7', 2.6497365501828263, 0.10381568435706426),\n",
       " ('bb_upper50-19', 2.6453303228784892, 0.10410323391311231),\n",
       " ('bb_lower50-60', 2.6357751464964654, 0.10472980796405276),\n",
       " ('sma30-48', 2.6333529690039232, 0.10488929691630655),\n",
       " ('bb_lower60-54', 2.6285092956509502, 0.10520902970040824),\n",
       " ('bb_upper40-28', 2.6240278129008807, 0.10550580678081461),\n",
       " ('Low-2', 2.6237277105327048, 0.10552571324422477),\n",
       " ('bb_upper40-27', 2.599409017122178, 0.10715261551739755),\n",
       " ('International Reserves-58', 2.5919124475825459, 0.10765967060007001),\n",
       " ('Nasdaq index-29', 2.5840419896017406, 0.10819485411916877),\n",
       " ('International Reserves-5', 2.5708643436693079, 0.10909748240806134),\n",
       " ('Nasdaq index-30', 2.5691564979086787, 0.10921506963558716),\n",
       " ('Dow Jones index-55', 2.5674604453347634, 0.10933198289847695),\n",
       " ('Dow Jones index-8', 2.5571319781057289, 0.11004693057260802),\n",
       " ('sma40-40', 2.556166226558644, 0.11011404356096674),\n",
       " ('BM&F Gold gramme-5', 2.5550030433517255, 0.11019493649429429),\n",
       " ('Dow Jones index-57', 2.5476948817241296, 0.1107046779722292),\n",
       " ('sma50-30', 2.5394080252782554, 0.11128582713170611),\n",
       " ('bb_lower10-11', 2.5319378187190535, 0.11181258696736839),\n",
       " ('sma30-47', 2.5272022560830725, 0.11214793686273428),\n",
       " ('bb_upper20-10', 2.5260576646380262, 0.11222915762560998),\n",
       " ('sma10-17', 2.5205854294639454, 0.11261836735460268),\n",
       " ('Adj Close-33', 2.5165637571716588, 0.11290535547161512),\n",
       " ('Dow Jones index-10', 2.5109724059362852, 0.11330569773933362),\n",
       " ('sma60-22', 2.5044340426036609, 0.11377583402720604),\n",
       " ('sma20-59', 2.4855325130194119, 0.11514708834035733),\n",
       " ('bb_upper30-29', 2.4770897012544251, 0.11576548027629342),\n",
       " ('BM&F Gold gramme-2', 2.4724498910113439, 0.11610688411118412),\n",
       " ('BM&F Gold gramme-11', 2.4610339079840982, 0.11695163642097224),\n",
       " ('sma20-9', 2.4542068812899807, 0.1174600646861489),\n",
       " ('Dow Jones index-52', 2.4511296772436446, 0.1176900319892205),\n",
       " ('sma40-39', 2.448646484700689, 0.11787597055001613),\n",
       " ('bb_upper60-14', 2.4408788178722962, 0.11845970685232567),\n",
       " ('sma50-29', 2.4134058598900774, 0.12055011681232072),\n",
       " ('bb_upper20-40', 2.4022424254429224, 0.12141119518533722),\n",
       " ('bb_lower10-21', 2.387317443784986, 0.12257309498577761),\n",
       " ('sma40-38', 2.3797056976250577, 0.12317041326103473),\n",
       " ('bb_upper50-18', 2.378105912762817, 0.12329636423966342),\n",
       " ('Low-33', 2.3675198963037318, 0.12413341578424235),\n",
       " ('sma30-46', 2.3640195971619438, 0.12441157726552693),\n",
       " ('bb_lower50-59', 2.3556222517165915, 0.12508172657374367),\n",
       " ('Bovespa total volume-35', 2.3446176228463598, 0.1259660361120313),\n",
       " ('Bovespa index-4', 2.3393026549058722, 0.12639562576902336),\n",
       " ('bb_upper40-26', 2.3368745850411332, 0.12659242036623822),\n",
       " ('BM&F Gold gramme-16', 2.3359654384716659, 0.12666619427917361),\n",
       " ('sma60-21', 2.3258890436558617, 0.12748707068775419),\n",
       " ('Exchange Rate USD Sell-3', 2.3208449603743309, 0.1279002127733942),\n",
       " ('Exchange Rate USD Buy-3', 2.3190257014991653, 0.12804958739585082),\n",
       " ('bb_upper30-28', 2.3157546035006433, 0.12831865810281834),\n",
       " ('sma40-37', 2.3128909204715784, 0.12855473352941513),\n",
       " ('sma20-58', 2.3054387943580217, 0.12917134260710669),\n",
       " ('Adj Close-34', 2.3011068526285752, 0.12953129479799588),\n",
       " ('sma50-28', 2.2974975439731669, 0.12983205624527658),\n",
       " ('bb_lower60-53', 2.2902390207616596, 0.13043926691570451),\n",
       " ('Bovespa index-58', 2.2833223386917059, 0.13102083204187678),\n",
       " ('Dow Jones index-7', 2.282608456384339, 0.13108102100601207),\n",
       " ('High-5', 2.2664236064679621, 0.13245392416899537),\n",
       " ('Low-4', 2.2577820134396829, 0.13319353641777915),\n",
       " ('Dow Jones index-9', 2.228009527111626, 0.1357773001119601),\n",
       " ('Bovespa index-57', 2.2155409364523568, 0.13687601028179502),\n",
       " ('sma40-36', 2.2139013317026222, 0.13702122948698781),\n",
       " ('sma50-27', 2.2097539802524047, 0.13738933090080088),\n",
       " ('Dow Jones index-53', 2.2090287234282324, 0.13745381551849511),\n",
       " ('bb_upper10-3', 2.2081901584728079, 0.13752841700940985),\n",
       " ('sma30-45', 2.1924880053440279, 0.13893375780925979),\n",
       " ('Dow Jones index-59', 2.1851327090340065, 0.13959759600215726),\n",
       " ('sma20-57', 2.1837969888907316, 0.13971853077877158),\n",
       " ('Dow Jones index-30', 2.1833329168623123, 0.13976057495097588),\n",
       " ('Bovespa index-59', 2.1670025619688382, 0.14124917329581527),\n",
       " ('bb_upper50-2', 2.1634505112507498, 0.14157531741688414),\n",
       " ('Nasdaq index-28', 2.1600082273910326, 0.14189219154469218),\n",
       " ('sma60-20', 2.1483230390133312, 0.14297382305815812),\n",
       " ('Dow Jones index-28', 2.1460652855264977, 0.14318387899279764),\n",
       " ('Bovespa index-56', 2.1437812078898406, 0.14339673786463455),\n",
       " ('Close-33', 2.1412762947692383, 0.14363058691606392),\n",
       " ('Dow Jones index-58', 2.1384262105969065, 0.14389718257811265),\n",
       " ('Dow Jones index-11', 2.1317440111764845, 0.14452442218923423),\n",
       " ('bb_upper30-27', 2.1241351120389331, 0.14524240530861748),\n",
       " ('BM&F Gold gramme-15', 2.120676354658976, 0.14557010648054655),\n",
       " ('Bovespa index-52', 2.1144862269025544, 0.14615867722223863),\n",
       " ('Dow Jones index-54', 2.108602875861405, 0.14672056994493374),\n",
       " ('Nasdaq index-56', 2.1032752178536791, 0.14723149628593887),\n",
       " ('bb_upper20-39', 2.1017297646932689, 0.14738008222768845),\n",
       " ('bb_upper10-51', 2.0984160245407186, 0.14769924969975734),\n",
       " ('Selic-11', 2.0897218168074958, 0.14854036450282715),\n",
       " ('sma40-35', 2.0866995947278455, 0.14883401461628087),\n",
       " ('bb_lower10-18', 2.0832170445978604, 0.14917320640001838),\n",
       " ('bb_lower50-58', 2.0765790915273388, 0.14982215164415405),\n",
       " ('sma20-56', 2.0672459813025652, 0.15073999522384668),\n",
       " ('bb_upper20-1', 2.0618561654523275, 0.1512729441331617),\n",
       " ('sma50-26', 2.0518481751157962, 0.15226821448144029),\n",
       " ('sma30-44', 2.0514484706525562, 0.15230811799295368),\n",
       " ('Dow Jones index-29', 2.0470574577233078, 0.15274726553370604),\n",
       " ('High-26', 2.0425380363386756, 0.15320075566103042),\n",
       " ('Bovespa index-55', 2.0326569731546571, 0.15419757815769666),\n",
       " ('bb_upper10-50', 2.0120801870729617, 0.15629714157202609),\n",
       " ('bb_upper10-49', 2.0094544077624628, 0.15656739484643195),\n",
       " ('bb_upper50-17', 2.0035800850960164, 0.15717392513669251),\n",
       " ('bb_upper40-25', 1.9961336934792113, 0.15794661987542438),\n",
       " ('bb_lower60-52', 1.9773260821799696, 0.15991757967846057),\n",
       " ('sma60-19', 1.9581615107640316, 0.16195484778960584),\n",
       " ('Low-27', 1.9542666683498511, 0.16237249766243358),\n",
       " ('sma20-55', 1.9412335315900411, 0.16377903580555164),\n",
       " ('Close-34', 1.9301192979572637, 0.16498949892628328),\n",
       " ('bb_lower10-22', 1.9230235197657322, 0.16576766203267795),\n",
       " ('Adj Close-4', 1.922777855202908, 0.16579467816074836),\n",
       " ('sma10-18', 1.9215628324599174, 0.16592837033472635),\n",
       " ('sma30-43', 1.9199439215205105, 0.16610669530128813),\n",
       " ('Nasdaq index-12', 1.9131344753805126, 0.16685917178696197),\n",
       " ('Adj Close-28', 1.9112061224768178, 0.16707297325766016),\n",
       " ('Low-32', 1.9086457213070682, 0.1673573370247888),\n",
       " ('sma40-34', 1.9062070328403409, 0.16762869919798024),\n",
       " ('bb_lower20-1', 1.8827464600109205, 0.17026520025607908),\n",
       " ('Nasdaq index-55', 1.8765183311414859, 0.17097309644778627),\n",
       " ('Adj Close-27', 1.8761135986906439, 0.17101921573994064),\n",
       " ('bb_lower10-12', 1.8742057694867911, 0.17123680573018635),\n",
       " ('Bovespa index-53', 1.8715799034045091, 0.17153680942386204),\n",
       " ('bb_upper10-48', 1.863146027565793, 0.17250447245564968),\n",
       " ('sma50-25', 1.8572380485949205, 0.1731860683660589),\n",
       " ('bb_upper20-38', 1.8531997635304998, 0.17365374453755747),\n",
       " ('Bovespa index-60', 1.8506978718903109, 0.17394421992241818),\n",
       " ('sma30-42', 1.8506873357595386, 0.1739454443746512),\n",
       " ('Nasdaq index-52', 1.8489554411271709, 0.17414685088734946),\n",
       " ('Adj Close-32', 1.8418375189268785, 0.17497743991345621),\n",
       " ('sma20-54', 1.8397209629818729, 0.17522530081761042),\n",
       " ('Open-26', 1.8373777197983627, 0.17550018057487868),\n",
       " ('bb_upper10-60', 1.8227837091845769, 0.1772234100390096),\n",
       " ('bb_lower50-57', 1.8198378342096608, 0.17757361817188472),\n",
       " ('Adj Close-5', 1.8175233352223421, 0.17784932876215021),\n",
       " ('Low-34', 1.8153683750099052, 0.17810647941953722),\n",
       " ('Low-3', 1.8065925407370453, 0.17915814622414566),\n",
       " ('bb_upper10-52', 1.8036548401334274, 0.17951179382930371),\n",
       " ('Open-27', 1.7925128366049408, 0.1808604594986562),\n",
       " ('BM&F Gold gramme-4', 1.7911599443561468, 0.18102501564036214),\n",
       " ('Close-4', 1.7909631395992354, 0.18104896801230883),\n",
       " ('sma30-41', 1.783448519119829, 0.18196629775128964),\n",
       " ('sma60-18', 1.7727324555782582, 0.1832837746967656),\n",
       " ('Low-28', 1.7585770450117331, 0.18504110825290052),\n",
       " ('sma20-53', 1.7525446613668099, 0.1857959464871145),\n",
       " ('bb_upper50-3', 1.7487892504709717, 0.18626767304478553),\n",
       " ('bb_lower60-51', 1.7457978298737811, 0.18664442993144925),\n",
       " ('Nasdaq index-57', 1.7425657770932854, 0.18705249042772293),\n",
       " ('sma40-33', 1.7345376613496648, 0.18807057630661198),\n",
       " ('International Reserves-1', 1.7330135120036414, 0.18826458952379807),\n",
       " ('bb_upper30-26', 1.7245810947342279, 0.18934219965713325),\n",
       " ('bb_upper40-24', 1.7209309602606415, 0.18981089308285931),\n",
       " ('Dow Jones index-60', 1.7209003889373544, 0.18981482428648624),\n",
       " ('bb_lower30-9', 1.7042645325141508, 0.19196821591080024),\n",
       " ('sma20-52', 1.7008979545040097, 0.19240745912166432),\n",
       " ('sma30-40', 1.6961440812477948, 0.19302970750647866),\n",
       " ('sma30-37', 1.6888959337737075, 0.1939829745620244),\n",
       " ('sma20-10', 1.6872128245079969, 0.19420512235789586),\n",
       " ('sma30-38', 1.6797565052362977, 0.19519284581336335),\n",
       " ('BM&F Gold gramme-3', 1.6794838875093461, 0.19522907027119965),\n",
       " ('Close-5', 1.6747067654169032, 0.19586511714667565),\n",
       " ('bb_upper50-4', 1.6729230488658622, 0.19610323143062747),\n",
       " ('bb_upper60-13', 1.6677299844727476, 0.1967984058574502),\n",
       " ('sma50-24', 1.6670087376502876, 0.19689518464566164),\n",
       " ('Adj Close-30', 1.6666000505418963, 0.19695004813268069),\n",
       " ('sma30-36', 1.664947579693774, 0.19717206413889762),\n",
       " ('Adj Close-29', 1.6641648475935331, 0.19727732977889895),\n",
       " ('sma30-39', 1.6612444416662224, 0.19767066275694803),\n",
       " ('Bovespa index-54', 1.6603611889776975, 0.19778980431416085),\n",
       " ('BM&F Gold gramme-17', 1.6593010449651298, 0.19793291799481127),\n",
       " ('sma30-5', 1.6579570984688792, 0.19811451825878618),\n",
       " ('bb_upper10-2', 1.6520207149142507, 0.19891901462119835),\n",
       " ('BM&F Gold gramme-23', 1.6469601621289263, 0.19960785080762095),\n",
       " ('sma40-32', 1.6243382863393574, 0.20272163020099149),\n",
       " ('bb_upper10-47', 1.6169621920786041, 0.20374925502435115),\n",
       " ('sma20-51', 1.6103429713081905, 0.20467666817342986),\n",
       " ('bb_upper20-11', 1.6067941854593, 0.205175936908464),\n",
       " ('sma30-35', 1.6051749878223562, 0.20540421499734995),\n",
       " ('sma30-4', 1.6022961147601376, 0.20581082627263725),\n",
       " ('Close-28', 1.5988197748678203, 0.20630309194420948),\n",
       " ('Low-30', 1.5973461563027467, 0.20651218300716651),\n",
       " ('BM&F Gold gramme-12', 1.5924769446374856, 0.20720485730693056),\n",
       " ('BM&F Gold gramme-22', 1.5873225028218247, 0.20794110396882881),\n",
       " ('sma60-17', 1.5803142272135773, 0.20894712102364313),\n",
       " ('Selic-12', 1.5667540375652951, 0.21091006922780103),\n",
       " ('sma10-19', 1.5639356111058746, 0.21132080031360351),\n",
       " ('sma30-1', 1.5624379186130923, 0.21153944625123006),\n",
       " ('Close-27', 1.5553470678635295, 0.21257828298357656),\n",
       " ('bb_lower60-50', 1.5502055588391501, 0.21333532562364443),\n",
       " ('sma20-50', 1.5436705079818951, 0.21430218693123509),\n",
       " ('Nasdaq index-26', 1.5412712829080353, 0.21465846015838053),\n",
       " ('Nasdaq index-53', 1.5403095440281989, 0.21480147158968629),\n",
       " ('sma40-31', 1.5380028093052955, 0.21514494764133521),\n",
       " ('Bovespa index-3', 1.536559414611705, 0.21536020378347379),\n",
       " ('Open-32', 1.5339687013501135, 0.21574720540800194),\n",
       " ('bb_lower50-56', 1.5277410073196038, 0.21668089561893442),\n",
       " ('bb_upper20-37', 1.5256616155582081, 0.21699372160424235),\n",
       " ('Low-29', 1.519935117532639, 0.21785801079916223),\n",
       " ('sma20-48', 1.5174682974911007, 0.21823158869737819),\n",
       " ...]"
      ]
     },
     "execution_count": 419,
     "metadata": {},
     "output_type": "execute_result"
    }
   ],
   "source": [
    "# feature selection\n",
    "from sklearn.feature_selection import SelectKBest\n",
    "f_selector = SelectKBest()\n",
    "f_selector.fit(X, y)\n",
    "sorted(zip(features, f_selector.scores_, f_selector.pvalues_), key=lambda x: -x[1])"
   ]
  },
  {
   "cell_type": "markdown",
   "metadata": {},
   "source": [
    "Strangely enough, it shows an incredible high importance for International Reserves features, as well for other features related to the outside market, such as Nasdaq, and Exchange Rate.\n",
    "\n",
    "Petrobras, the company being analyzed, is very influenced by the price and availability of USD in brazilian market. It is debts are most in dollar and the price of its main product, oil, is set globally. So these findings that my be accurate, just random noise, or due to some mistake in the data preprocessing\n",
    "\n",
    "Will come back later to this point if this correlation is not confirmed with other analysis."
   ]
  },
  {
   "cell_type": "code",
   "execution_count": 420,
   "metadata": {
    "collapsed": false
   },
   "outputs": [
    {
     "data": {
      "text/plain": [
       "0.88721565823547144"
      ]
     },
     "execution_count": 420,
     "metadata": {},
     "output_type": "execute_result"
    }
   ],
   "source": [
    "# pca conversion\n",
    "# okay, I've got all these data points\n",
    "from sklearn.decomposition import PCA\n",
    "pca = PCA(n_components = 32)\n",
    "pca.fit(X)\n",
    "sum(pca.explained_variance_ratio_)\n",
    "\n",
    "# why 32? I'm aiming at 80% explained variance, with the minimum number of components\n",
    "# I just tried a few and got to the required number of components\n",
    "# this could also be optimized later, aimed at performance"
   ]
  },
  {
   "cell_type": "code",
   "execution_count": 421,
   "metadata": {
    "collapsed": true
   },
   "outputs": [],
   "source": [
    "X_transformed = pca.transform(X)"
   ]
  },
  {
   "cell_type": "markdown",
   "metadata": {},
   "source": [
    "Okay, now we've transformed into fewer principal components, thus helping to avoid the curse of dimensionality, let's take a step back and see which are the main variables impacting each of the first components. Are they the same variables which stand out in the Anova F-value tests conducted before?"
   ]
  },
  {
   "cell_type": "code",
   "execution_count": 422,
   "metadata": {
    "collapsed": false
   },
   "outputs": [
    {
     "data": {
      "text/plain": [
       "[('bb_upper50-54', 0.046177816083727251),\n",
       " ('bb_upper50-55', 0.046170996511345382),\n",
       " ('bb_upper50-53', 0.046170447685310742),\n",
       " ('bb_upper50-56', 0.046145597253140103),\n",
       " ('bb_upper50-52', 0.046142291171171142),\n",
       " ('bb_upper50-57', 0.046109590083007614),\n",
       " ('bb_upper50-51', 0.046081609822043706),\n",
       " ('bb_upper50-58', 0.046063443172692002),\n",
       " ('bb_upper50-59', 0.045998867875628485),\n",
       " ('bb_upper50-50', 0.045974456690196508),\n",
       " ('bb_upper50-60', 0.045918722139537779),\n",
       " ('bb_upper50-49', 0.045817033496697857),\n",
       " ('bb_upper50-48', 0.045596540304411529),\n",
       " ('bb_upper50-47', 0.045311099472770532),\n",
       " ('bb_upper50-46', 0.044975804181486966),\n",
       " ('bb_upper60-51', 0.044896207666904775),\n",
       " ('bb_upper60-50', 0.044886621473150458),\n",
       " ('bb_upper60-52', 0.044885581482109131),\n",
       " ('bb_upper60-53', 0.044861070032750264),\n",
       " ('bb_upper60-49', 0.044854648332790445),\n",
       " ('bb_upper60-54', 0.044819912726440543),\n",
       " ('bb_upper60-48', 0.044798127598935165),\n",
       " ('bb_upper60-55', 0.044753049188749207),\n",
       " ('bb_upper60-47', 0.044712620018920561),\n",
       " ('bb_upper60-56', 0.044657084990836031),\n",
       " ('bb_upper60-46', 0.044603259846278887),\n",
       " ('bb_upper50-45', 0.044600593060013696),\n",
       " ('bb_upper60-57', 0.044532535047514504),\n",
       " ('bb_upper60-45', 0.044468175684457524),\n",
       " ('bb_upper60-58', 0.044380766133550006),\n",
       " ('bb_upper60-44', 0.044308226420274231),\n",
       " ('bb_upper40-60', 0.04422682427554038),\n",
       " ('bb_upper60-59', 0.044199865296593928),\n",
       " ('bb_upper50-44', 0.044187230505809701),\n",
       " ('bb_upper40-59', 0.044153104933703086),\n",
       " ('bb_upper60-43', 0.044124936023096896),\n",
       " ('bb_upper40-58', 0.04402727420895719),\n",
       " ('bb_upper60-60', 0.043989568093731113),\n",
       " ('bb_upper60-42', 0.043904608523928607),\n",
       " ('bb_upper40-57', 0.043852833808664692),\n",
       " ('bb_upper50-43', 0.043730819195693924),\n",
       " ('bb_upper40-56', 0.0436483783167982),\n",
       " ('bb_upper60-41', 0.043643315955362742),\n",
       " ('bb_upper40-55', 0.04342547505419643),\n",
       " ('bb_upper60-40', 0.043336939038378368),\n",
       " ('bb_upper50-42', 0.043229275636412504),\n",
       " ('bb_upper40-54', 0.043176271382319921),\n",
       " ('bb_upper60-39', 0.043001248241095982),\n",
       " ('bb_upper40-53', 0.042899572879307186),\n",
       " ('bb_upper50-41', 0.042687608217042608),\n",
       " ('bb_upper60-38', 0.042620209444897736),\n",
       " ('bb_upper40-52', 0.042599748495368621),\n",
       " ('bb_upper40-51', 0.042268317276215321),\n",
       " ('bb_upper60-37', 0.042195271208682175),\n",
       " ('bb_upper50-40', 0.042108422837093075),\n",
       " ('bb_upper40-50', 0.041893183733001285),\n",
       " ('bb_upper60-36', 0.041739946599771524),\n",
       " ('bb_upper50-39', 0.041509445780184166),\n",
       " ('bb_upper40-49', 0.041471963915161017),\n",
       " ('bb_upper60-35', 0.041265375777768475),\n",
       " ('bb_upper40-48', 0.040997038162040027),\n",
       " ('bb_upper50-38', 0.040878057450010608),\n",
       " ('bb_upper60-34', 0.040772627253289492),\n",
       " ('bb_upper40-47', 0.040466950105447153),\n",
       " ('sma60-53', 0.040359631578793055),\n",
       " ('sma60-54', 0.040352184889243678),\n",
       " ('sma60-52', 0.040348945860878317),\n",
       " ('sma60-55', 0.040326657192982368),\n",
       " ('sma60-51', 0.04032049978529275),\n",
       " ('sma60-56', 0.040283719503865362),\n",
       " ('sma60-50', 0.040271888897853304),\n",
       " ('bb_upper60-33', 0.040266399719445643),\n",
       " ('sma60-57', 0.04022324125707278),\n",
       " ('bb_upper50-37', 0.040213776907854416),\n",
       " ('sma60-49', 0.040201652603342838),\n",
       " ('sma60-58', 0.040145052602028726),\n",
       " ('sma60-48', 0.040106834970062476),\n",
       " ('sma60-59', 0.040051585065803169),\n",
       " ('sma50-58', 0.040048381225970243),\n",
       " ('sma50-59', 0.040044970515780508),\n",
       " ('sma50-57', 0.040031570175233941),\n",
       " ('sma50-60', 0.040022064230417057),\n",
       " ('sma50-56', 0.0399906345069556),\n",
       " ('sma60-47', 0.039984710213751613),\n",
       " ('sma60-60', 0.039943399585924154),\n",
       " ('sma50-55', 0.03992492462224001),\n",
       " ('bb_upper40-46', 0.039880567928483573),\n",
       " ('sma60-46', 0.039833170035650914),\n",
       " ('sma50-54', 0.039831545599642443),\n",
       " ('bb_upper60-32', 0.03975039805670897),\n",
       " ('sma50-53', 0.039709520753744322),\n",
       " ('sma60-45', 0.039651599668212356),\n",
       " ('sma50-52', 0.039557185223714361),\n",
       " ('bb_upper50-36', 0.039516413689248492),\n",
       " ('sma60-44', 0.039439290323395285),\n",
       " ('sma50-51', 0.039374271766014074),\n",
       " ('bb_upper40-45', 0.039240872599278782),\n",
       " ('bb_upper60-31', 0.039223249744809292),\n",
       " ('sma60-43', 0.039196442777002551),\n",
       " ('sma50-50', 0.039157611784017554),\n",
       " ('sma60-42', 0.038920468460275678),\n",
       " ('sma50-49', 0.038906865200222976),\n",
       " ('bb_upper50-35', 0.038791476585962811),\n",
       " ('bb_upper60-30', 0.038686986411839909),\n",
       " ('sma50-48', 0.038623660698777283),\n",
       " ('sma60-41', 0.038611753139143626),\n",
       " ('bb_upper40-44', 0.038553612891293901),\n",
       " ('sma50-47', 0.038304426377582371),\n",
       " ('sma60-40', 0.038269568578289746),\n",
       " ('bb_upper60-29', 0.038151596438091843),\n",
       " ('bb_upper50-34', 0.03804405721150525),\n",
       " ('bb_upper30-60', 0.038008648573418111),\n",
       " ('sma50-46', 0.037949296032173785),\n",
       " ('sma60-39', 0.037895774706439969),\n",
       " ('bb_upper40-43', 0.037818498512565794),\n",
       " ('sma40-60', 0.037780032288211668),\n",
       " ('bb_upper30-59', 0.037688744983348899),\n",
       " ('sma40-59', 0.037634800566797848),\n",
       " ('bb_upper60-28', 0.037609216912529921),\n",
       " ('sma50-45', 0.037557473778271941),\n",
       " ('sma60-38', 0.037492072118089088),\n",
       " ('sma40-58', 0.037459803658311211),\n",
       " ('bb_upper30-58', 0.037327636260065099),\n",
       " ('bb_upper50-33', 0.037281687003229071),\n",
       " ('sma40-57', 0.037254107815574734),\n",
       " ('sma50-44', 0.037129884072245239),\n",
       " ('sma60-37', 0.037059163040481673),\n",
       " ('bb_upper60-27', 0.037054294281581843),\n",
       " ('bb_upper40-42', 0.037034390184762199),\n",
       " ('sma40-56', 0.037016033234754102),\n",
       " ('bb_upper30-57', 0.036931136733019447),\n",
       " ('sma40-55', 0.036745079962422031),\n",
       " ('sma50-43', 0.036665698142215188),\n",
       " ('sma60-36', 0.036598750999882163),\n",
       " ('bb_upper50-32', 0.036511088495064979),\n",
       " ('bb_upper30-56', 0.036499139762241388),\n",
       " ('bb_upper60-26', 0.036474640272869244),\n",
       " ('sma40-54', 0.036439857328062902),\n",
       " ('bb_upper40-41', 0.03620375348920201),\n",
       " ('sma50-42', 0.036166307015913349),\n",
       " ('sma60-35', 0.03611131064119992),\n",
       " ('sma40-53', 0.036098082435533294),\n",
       " ('bb_upper30-55', 0.036033318501207702),\n",
       " ('bb_upper60-25', 0.035869773168275096),\n",
       " ('bb_upper50-31', 0.035731670881812741),\n",
       " ('sma40-52', 0.035721966621488244),\n",
       " ('sma50-41', 0.035631465615005922),\n",
       " ('sma60-34', 0.035594627511081459),\n",
       " ('bb_upper30-54', 0.035530611111672279),\n",
       " ('bb_upper40-40', 0.035336647596567072),\n",
       " ('sma40-51', 0.035309614828596562),\n",
       " ('bb_upper60-24', 0.035241539662883709),\n",
       " ('sma50-40', 0.035064720986670031),\n",
       " ('sma60-33', 0.035050582670045398),\n",
       " ('bb_upper30-53', 0.034996853602800429),\n",
       " ('bb_upper50-30', 0.034954455115008054),\n",
       " ('sma40-50', 0.034861332936713632),\n",
       " ('bb_upper60-23', 0.034587987031316714),\n",
       " ('sma60-32', 0.034478687654210569),\n",
       " ('sma50-39', 0.034467323262995272),\n",
       " ('bb_upper40-39', 0.034455150018256435),\n",
       " ('bb_upper30-52', 0.034436757733219421),\n",
       " ('sma40-49', 0.034375410277673171),\n",
       " ('bb_upper50-29', 0.034190786000666343),\n",
       " ('bb_upper60-22', 0.033912652037938799),\n",
       " ('sma60-31', 0.033875466462849578),\n",
       " ('sma40-48', 0.033849930489891579),\n",
       " ('sma50-38', 0.033837155453490558),\n",
       " ('bb_upper30-51', 0.033836052404068298),\n",
       " ('bb_upper40-38', 0.03354924600540999),\n",
       " ('bb_upper50-28', 0.033435377835842127),\n",
       " ('sma40-47', 0.033284206654319602),\n",
       " ('sma60-30', 0.033242666766910782),\n",
       " ('bb_upper60-21', 0.033215578579346074),\n",
       " ('bb_upper30-50', 0.033193488549013439),\n",
       " ('sma50-37', 0.033177522463987696),\n",
       " ('bb_upper50-27', 0.032681690560254439),\n",
       " ('sma40-46', 0.032679651355094451),\n",
       " ('sma30-60', 0.03266226540955619),\n",
       " ('bb_upper40-37', 0.032617145326590359),\n",
       " ('sma60-29', 0.032581081622265327),\n",
       " ('bb_upper30-49', 0.03251043980731113),\n",
       " ('bb_upper60-20', 0.032507395110991821),\n",
       " ('sma50-36', 0.032491029750895788),\n",
       " ('sma30-59', 0.032311045750236855),\n",
       " ('sma40-45', 0.03203864398054946),\n",
       " ('sma30-58', 0.031925179941611412),\n",
       " ('bb_upper50-26', 0.031911505192472552),\n",
       " ('sma60-28', 0.031888874809351132),\n",
       " ('bb_upper60-19', 0.03179958249771675),\n",
       " ('bb_upper30-48', 0.031788101401005298),\n",
       " ('sma50-35', 0.031781318559707096),\n",
       " ('bb_upper40-36', 0.031659117320874938),\n",
       " ('sma30-57', 0.031507735814579732),\n",
       " ('sma40-44', 0.031361917602776658),\n",
       " ('sma60-27', 0.031169240845646519),\n",
       " ('bb_upper50-25', 0.031114143583131342),\n",
       " ('bb_upper60-18', 0.031088307735936675),\n",
       " ('sma30-56', 0.03105746734986067),\n",
       " ('sma50-34', 0.031045744527630516),\n",
       " ('bb_upper30-47', 0.031021722500718669),\n",
       " ('Exchange Rate USD Sell-21', 0.030862574059288429),\n",
       " ('Exchange Rate USD Buy-21', 0.03086126022591737),\n",
       " ('Exchange Rate USD Sell-22', 0.030829881056844598),\n",
       " ('Exchange Rate USD Buy-22', 0.030828340548912567),\n",
       " ('Exchange Rate USD Sell-20', 0.03080408273673365),\n",
       " ('Exchange Rate USD Buy-20', 0.030802885513224132),\n",
       " ('Exchange Rate USD Sell-23', 0.030697640614748448),\n",
       " ('Exchange Rate USD Buy-23', 0.030695934794901333),\n",
       " ('bb_upper40-35', 0.030670864720829374),\n",
       " ('Exchange Rate USD Sell-19', 0.030656710789206291),\n",
       " ('Exchange Rate USD Buy-19', 0.030655647923211363),\n",
       " ('sma40-43', 0.030649068107567567),\n",
       " ('sma30-55', 0.030576678877103303),\n",
       " ('Exchange Rate USD Sell-24', 0.030492331611955286),\n",
       " ('Exchange Rate USD Buy-24', 0.030490658851120109),\n",
       " ('sma60-26', 0.030420733855044749),\n",
       " ('Exchange Rate USD Sell-18', 0.030388425550116477),\n",
       " ('Exchange Rate USD Buy-18', 0.030387448470091193),\n",
       " ('bb_upper60-17', 0.030364138753778094),\n",
       " ('Exchange Rate USD Sell-25', 0.030355200442220062),\n",
       " ('Exchange Rate USD Buy-25', 0.030353418375837698),\n",
       " ('bb_upper50-24', 0.030288832755336916),\n",
       " ('sma50-33', 0.030285821928150353),\n",
       " ('bb_upper30-46', 0.030208696731520782),\n",
       " ('Exchange Rate USD Sell-26', 0.030157428179482099),\n",
       " ('Exchange Rate USD Buy-26', 0.030155714717821476),\n",
       " ('Exchange Rate USD Sell-17', 0.030099794679176846),\n",
       " ('Exchange Rate USD Buy-17', 0.030098852839792824),\n",
       " ('sma30-54', 0.030061988273221554),\n",
       " ('Exchange Rate USD Sell-27', 0.02996328763289112),\n",
       " ('Exchange Rate USD Buy-27', 0.029961552560432633),\n",
       " ('sma40-42', 0.029903000866698483),\n",
       " ('Exchange Rate USD Sell-16', 0.029768473213144461),\n",
       " ('Exchange Rate USD Buy-16', 0.029767518473254869),\n",
       " ('Exchange Rate USD Sell-28', 0.029738450140429838),\n",
       " ('Exchange Rate USD Buy-28', 0.02973655760896738),\n",
       " ('bb_upper40-34', 0.029657401525496677),\n",
       " ('sma60-25', 0.02964210875822593),\n",
       " ('bb_upper60-16', 0.029616963285867152),\n",
       " ('sma30-53', 0.029510682506605792),\n",
       " ('sma50-32', 0.029502061621028808),\n",
       " ('bb_upper50-23', 0.029436009270041124),\n",
       " ('Exchange Rate USD Sell-29', 0.029395084995084628),\n",
       " ('Exchange Rate USD Buy-29', 0.029392969743163664),\n",
       " ('Exchange Rate USD Sell-15', 0.029381904167653957),\n",
       " ('Exchange Rate USD Buy-15', 0.02938130230744607),\n",
       " ('bb_upper30-45', 0.029341677289911352),\n",
       " ('sma40-41', 0.029126477299205825),\n",
       " ('Exchange Rate USD Sell-30', 0.029049089721814244),\n",
       " ('Exchange Rate USD Sell-14', 0.029048671094766148),\n",
       " ('Exchange Rate USD Buy-14', 0.029048195582293431),\n",
       " ('Exchange Rate USD Buy-30', 0.029046883136259527),\n",
       " ('sma30-52', 0.028925918905369448),\n",
       " ('bb_upper60-15', 0.028844789912634169),\n",
       " ('sma60-24', 0.028830701055799251),\n",
       " ('sma50-31', 0.028693775624497809),\n",
       " ('Exchange Rate USD Sell-31', 0.028666647081464169),\n",
       " ('Exchange Rate USD Buy-31', 0.028664230635132619),\n",
       " ('Exchange Rate USD Sell-13', 0.02863744012537156),\n",
       " ('Exchange Rate USD Buy-13', 0.028637249727173651),\n",
       " ('bb_upper40-33', 0.028623642952676557),\n",
       " ('bb_upper50-22', 0.028548015839114003),\n",
       " ('bb_upper30-44', 0.028428622853622239),\n",
       " ('sma40-40', 0.028318231296913039),\n",
       " ('sma30-51', 0.028307701903886956),\n",
       " ('Exchange Rate USD Sell-32', 0.028242538901695161),\n",
       " ('Exchange Rate USD Buy-32', 0.028239935224116428),\n",
       " ('Exchange Rate USD Sell-12', 0.028065002747148179),\n",
       " ('Exchange Rate USD Buy-12', 0.028064943282293739),\n",
       " ('bb_upper60-14', 0.028045600718207955),\n",
       " ('sma60-23', 0.027982861962833665),\n",
       " ('sma50-30', 0.027856946276539951),\n",
       " ('Exchange Rate USD Sell-33', 0.027781075593453101),\n",
       " ('Exchange Rate USD Buy-33', 0.027778411869260895),\n",
       " ('bb_upper20-60', 0.027658443735445962),\n",
       " ('sma30-50', 0.027649473887984038),\n",
       " ('bb_lower60-60', 0.027638551850807876),\n",
       " ('bb_upper50-21', 0.027617008307461687),\n",
       " ('bb_upper40-32', 0.027567798627221862),\n",
       " ('bb_lower60-59', 0.027551624687033677),\n",
       " ('sma40-39', 0.027478084174911228),\n",
       " ('bb_lower60-58', 0.027460741979751992),\n",
       " ('bb_upper30-43', 0.027460337930973768),\n",
       " ('bb_lower60-57', 0.027365926201998601),\n",
       " ('Exchange Rate USD Sell-34', 0.027295801550120184),\n",
       " ('Exchange Rate USD Buy-34', 0.027293025530641082),\n",
       " ('bb_lower50-60', 0.027292533083709502),\n",
       " ('Exchange Rate USD Buy-11', 0.027288732445693731),\n",
       " ('Exchange Rate USD Sell-11', 0.027288576215281357),\n",
       " ('bb_lower60-56', 0.027259976867626792),\n",
       " ('bb_lower50-59', 0.027227302574715655),\n",
       " ('bb_upper60-13', 0.027223389287483232),\n",
       " ('bb_upper20-59', 0.027153844439342711),\n",
       " ('bb_lower60-55', 0.027142649986956965),\n",
       " ('bb_lower50-58', 0.027140343294483841),\n",
       " ('sma60-22', 0.027101410272185995),\n",
       " ('bb_lower50-57', 0.027034674882088043),\n",
       " ('bb_lower60-54', 0.027012376408039943),\n",
       " ('sma50-29', 0.026990684659180378),\n",
       " ('sma30-49', 0.026946457514132639),\n",
       " ('bb_lower50-56', 0.026890639986500074),\n",
       " ('bb_lower60-53', 0.026866820140547979),\n",
       " ('Exchange Rate USD Sell-35', 0.026775372953148163),\n",
       " ('Exchange Rate USD Buy-35', 0.026772438144892149),\n",
       " ('bb_lower50-55', 0.026703905672455893),\n",
       " ('bb_lower60-52', 0.02669504419545932),\n",
       " ('bb_upper50-20', 0.026647860422687866),\n",
       " ('bb_upper20-58', 0.026624148325896081),\n",
       " ('sma40-38', 0.026605024451473929),\n",
       " ('bb_lower40-60', 0.026547640254758004),\n",
       " ('bb_lower60-51', 0.026491838884559801),\n",
       " ('bb_upper40-31', 0.026484820880104492),\n",
       " ('bb_lower50-54', 0.026475398742394286),\n",
       " ('Exchange Rate USD Buy-10', 0.026469816741101843),\n",
       " ('Exchange Rate USD Sell-10', 0.026469552074939832),\n",
       " ('bb_upper30-42', 0.026424061224108609),\n",
       " ('bb_upper60-12', 0.026378069547296126),\n",
       " ('bb_lower40-59', 0.026328808627114356),\n",
       " ('bb_lower60-50', 0.026257759640327172),\n",
       " ('Exchange Rate USD Sell-36', 0.026218580626856874),\n",
       " ('Exchange Rate USD Buy-36', 0.026215651217832488),\n",
       " ('bb_lower50-53', 0.026199263436683638),\n",
       " ('sma30-48', 0.026198157488623194),\n",
       " ('sma60-21', 0.02618803493577777),\n",
       " ('sma50-28', 0.026094569224742875),\n",
       " ('bb_lower40-58', 0.026089044857232471),\n",
       " ('bb_upper20-57', 0.026074926124851423),\n",
       " ('bb_lower60-49', 0.025993523641995309),\n",
       " ('bb_lower50-52', 0.02587219394029935),\n",
       " ('bb_lower40-57', 0.025827211563483325),\n",
       " ('sma40-37', 0.025698122139116326),\n",
       " ('bb_lower60-48', 0.025697416202154048),\n",
       " ('Exchange Rate USD Sell-37', 0.025656345582499605),\n",
       " ('Exchange Rate USD Buy-37', 0.025653352776101403),\n",
       " ('bb_upper50-19', 0.025644837268891357),\n",
       " ('Exchange Rate USD Buy-9', 0.025527834529959263),\n",
       " ('Exchange Rate USD Sell-9', 0.025527558179555192),\n",
       " ('bb_lower40-56', 0.025524872134626352),\n",
       " ('bb_upper20-56', 0.025509804358129443),\n",
       " ('bb_lower50-51', 0.02549764912022388),\n",
       " ('bb_upper60-11', 0.02548729344860233),\n",
       " ('sma30-47', 0.02539911752631303),\n",
       " ('bb_upper40-30', 0.025381214331465604),\n",
       " ('bb_lower60-47', 0.025370246841495268),\n",
       " ('bb_upper30-41', 0.025324591255971755),\n",
       " ('sma60-20', 0.025241447856095531),\n",
       " ('bb_lower40-55', 0.025169932579087295),\n",
       " ('sma50-27', 0.025166739514722512),\n",
       " ('Exchange Rate USD Sell-38', 0.025086775749680421),\n",
       " ('Exchange Rate USD Buy-38', 0.025083518817011825),\n",
       " ('bb_lower50-50', 0.025082452753535805),\n",
       " ('bb_lower60-46', 0.024999981931958917),\n",
       " ('bb_upper20-55', 0.024919127244314578),\n",
       " ('sma20-60', 0.02478622919318604),\n",
       " ('bb_lower40-54', 0.02476620571143406),\n",
       " ('sma40-36', 0.024759235071363381),\n",
       " ('bb_lower50-49', 0.024631159856140915),\n",
       " ('bb_upper50-18', 0.024612951070631668),\n",
       " ('bb_lower60-45', 0.024585738250357241),\n",
       " ('bb_upper60-10', 0.024550893484972622),\n",
       " ('sma30-46', 0.024550203626241687),\n",
       " ('Exchange Rate USD Sell-39', 0.024466136647061206),\n",
       " ('Exchange Rate USD Buy-39', 0.024462736364578384),\n",
       " ('Exchange Rate USD Buy-8', 0.024372590280853274),\n",
       " ('Exchange Rate USD Sell-8', 0.024372190559330993),\n",
       " ('bb_lower40-53', 0.024313924633282531),\n",
       " ('bb_upper20-54', 0.024297946509304433),\n",
       " ('bb_upper40-29', 0.024266647485399896),\n",
       " ('sma60-19', 0.024266568466784533),\n",
       " ('sma20-59', 0.024261096568769232),\n",
       " ('sma50-26', 0.024203889465016806),\n",
       " ('bb_upper30-40', 0.024167103224663741),\n",
       " ('bb_lower50-48', 0.024153018563787768),\n",
       " ('bb_lower60-44', 0.024127943842596464),\n",
       " ('bb_lower30-60', 0.023838692438598562),\n",
       " ('bb_lower40-52', 0.023815413218614644),\n",
       " ('Exchange Rate USD Sell-40', 0.023809579001530402),\n",
       " ('Exchange Rate USD Buy-40', 0.02380612634239981),\n",
       " ('sma40-35', 0.023790072663763512),\n",
       " ('sma20-58', 0.023694614172756003),\n",
       " ('sma30-45', 0.023652346000225553),\n",
       " ('bb_lower50-47', 0.023649723008412213),\n",
       " ('bb_upper20-53', 0.023635293682907867),\n",
       " ('bb_lower60-43', 0.023625621614770963),\n",
       " ('bb_upper60-9', 0.023564507505979798),\n",
       " ('bb_upper50-17', 0.023550282435077983),\n",
       " ('bb_lower30-59', 0.023463458555864184),\n",
       " ('bb_lower40-51', 0.023275024166998698),\n",
       " ('sma60-18', 0.02326500662967897),\n",
       " ('sma50-25', 0.023202134297862186),\n",
       " ('bb_upper40-28', 0.023147729160418198),\n",
       " ('Exchange Rate USD Sell-41', 0.023129286108663993),\n",
       " ('Exchange Rate USD Buy-41', 0.023125761916265454),\n",
       " ('bb_lower50-46', 0.023113667106664907),\n",
       " ('bb_lower60-42', 0.023086486822744855),\n",
       " ('sma20-57', 0.023084256958924482),\n",
       " ('Exchange Rate USD Buy-7', 0.023081385594864764),\n",
       " ('Exchange Rate USD Sell-7', 0.023080808672625745),\n",
       " ('bb_lower30-58', 0.02306339803544636),\n",
       " ('bb_upper30-39', 0.022972574467239392),\n",
       " ('bb_upper20-52', 0.022916178654501431),\n",
       " ('sma40-34', 0.022792411010160066),\n",
       " ('sma30-44', 0.022711978593973385),\n",
       " ('bb_lower40-50', 0.022704284735941362),\n",
       " ('bb_lower30-57', 0.022641475667855897),\n",
       " ('bb_upper60-8', 0.022556721803767027),\n",
       " ('bb_lower50-45', 0.022539353423591917),\n",
       " ('bb_lower60-41', 0.022517545308300971),\n",
       " ('bb_upper50-16', 0.022448421811562688),\n",
       " ('sma20-56', 0.022426717315693474),\n",
       " ('Exchange Rate USD Sell-42', 0.022405440206900631),\n",
       " ('Exchange Rate USD Buy-42', 0.02240196640504119),\n",
       " ('sma60-17', 0.022231661808780896),\n",
       " ('bb_lower30-56', 0.022194059888183491),\n",
       " ('sma50-24', 0.0221637795516983),\n",
       " ('bb_upper20-51', 0.022132115336326648),\n",
       " ('bb_lower40-49', 0.022101977170550496),\n",
       " ('bb_upper40-27', 0.022030842017408493),\n",
       " ('bb_lower50-44', 0.021929897383441151),\n",
       " ('bb_lower60-40', 0.021924394108365317),\n",
       " ('sma40-33', 0.021768663745880826),\n",
       " ('bb_upper30-38', 0.021738515330173992),\n",
       " ('sma30-43', 0.021729399879433401),\n",
       " ('sma20-55', 0.021723315577199108),\n",
       " ('bb_lower30-55', 0.021720788573436303),\n",
       " ('Exchange Rate USD Sell-43', 0.021672056588152962),\n",
       " ('Exchange Rate USD Buy-43', 0.021668606509061668),\n",
       " ('Exchange Rate USD Buy-6', 0.02163986810773989),\n",
       " ('Exchange Rate USD Sell-6', 0.021639331978450402),\n",
       " ('bb_upper60-7', 0.021535456423332645),\n",
       " ('bb_lower40-48', 0.021474722027407522),\n",
       " ('bb_upper50-15', 0.021307070245046446),\n",
       " ('bb_lower60-39', 0.021299850965535411),\n",
       " ('bb_lower50-43', 0.021290792187967703),\n",
       " ('bb_upper20-50', 0.021266938784283377),\n",
       " ('bb_lower30-54', 0.021216430568547932),\n",
       " ('sma60-16', 0.021163528062552422),\n",
       " ('sma50-23', 0.021086088626466732),\n",
       " ('sma20-54', 0.020977999926931657),\n",
       " ('Exchange Rate USD Sell-44', 0.020903118234410809),\n",
       " ('Exchange Rate USD Buy-44', 0.020899767462784311),\n",
       " ('bb_upper40-26', 0.020898158130360462),\n",
       " ('bb_lower40-47', 0.020828058618748271),\n",
       " ('sma40-32', 0.020719067277252218),\n",
       " ('sma30-42', 0.020707948725608952),\n",
       " ('bb_lower30-53', 0.020671924235502015),\n",
       " ('bb_lower60-38', 0.020663767195609344),\n",
       " ('bb_lower50-42', 0.020633268789582913),\n",
       " ('bb_upper60-6', 0.02049730750479424),\n",
       " ('bb_upper30-37', 0.02048076543331042),\n",
       " ('bb_upper20-49', 0.020320031992190339),\n",
       " ('sma20-53', 0.020187211823107707),\n",
       " ('bb_lower40-46', 0.020165773701337517),\n",
       " ('bb_upper50-14', 0.020125672446896403),\n",
       " ('Exchange Rate USD Sell-45', 0.020123317575447254),\n",
       " ('Exchange Rate USD Buy-45', 0.020119988165591286),\n",
       " ('bb_lower30-52', 0.020086794735153957),\n",
       " ('sma60-15', 0.020058307343153909),\n",
       " ('bb_lower60-37', 0.020020768611424114),\n",
       " ('sma50-22', 0.019971172250966302),\n",
       " ('bb_lower50-41', 0.019956254018875481),\n",
       " ('bb_upper40-25', 0.019745402951708041),\n",
       " ('Exchange Rate USD Buy-5', 0.019666034049025553),\n",
       " ('Exchange Rate USD Sell-5', 0.019665914116248646),\n",
       " ('sma30-41', 0.019655227483881571),\n",
       " ('sma40-31', 0.019646319999346202),\n",
       " ('bb_lower20-60', 0.019619376417031889),\n",
       " ('bb_lower40-45', 0.019489973082866728),\n",
       " ('bb_lower30-51', 0.019473874196678814),\n",
       " ('bb_upper60-5', 0.019471343260320604),\n",
       " ('bb_lower60-36', 0.019364364712062987),\n",
       " ('sma20-52', 0.019354764745593774),\n",
       " ('bb_upper20-48', 0.019299999315315178),\n",
       " ('Exchange Rate USD Sell-46', 0.0192989750335326),\n",
       " ('Exchange Rate USD Buy-46', 0.019295597247818878),\n",
       " ('bb_lower50-40', 0.019264939343573872),\n",
       " ('bb_upper30-36', 0.019201725542360038),\n",
       " ('bb_lower20-59', 0.019140316018978785),\n",
       " ('sma60-14', 0.01891691584839544),\n",
       " ('bb_upper50-13', 0.018901240602744632),\n",
       " ('sma50-21', 0.01882464231124964),\n",
       " ('bb_lower30-50', 0.018824424707790152),\n",
       " ('bb_lower40-44', 0.018795093527744781),\n",
       " ('bb_lower60-35', 0.018687987534402012),\n",
       " ('bb_lower20-58', 0.018609644502368152),\n",
       " ('sma30-40', 0.018570433912256497),\n",
       " ('bb_upper40-24', 0.018569859600719017),\n",
       " ('bb_lower50-39', 0.018547206409646314),\n",
       " ('sma40-30', 0.018546844740359957),\n",
       " ('sma20-51', 0.018487715635501625),\n",
       " ('bb_upper60-4', 0.018467149745351834),\n",
       " ('Exchange Rate USD Sell-47', 0.018432294987416803),\n",
       " ('Exchange Rate USD Buy-47', 0.018428893633149018),\n",
       " ('bb_upper20-47', 0.018224344361863924),\n",
       " ('bb_lower30-49', 0.018131996262220774),\n",
       " ('bb_lower40-43', 0.018080229111370392),\n",
       " ('bb_lower20-57', 0.018017032090395929),\n",
       " ('bb_lower60-34', 0.017990547440151428),\n",
       " ('bb_upper30-35', 0.017905217371304502),\n",
       " ('bb_lower50-38', 0.017814869969735993),\n",
       " ('Exchange Rate USD Sell', 0.017813425348806831),\n",
       " ('Exchange Rate USD Buy', 0.017811204348451851),\n",
       " ('sma60-13', 0.017738805609691436),\n",
       " ('sma50-20', 0.017645851560280035),\n",
       " ('bb_upper50-12', 0.017642177535566392),\n",
       " ('sma20-50', 0.017578278646131585),\n",
       " ('Exchange Rate USD Sell-48', 0.017551315785339389),\n",
       " ('Exchange Rate USD Buy-48', 0.017547827729746335),\n",
       " ('bb_upper60-3', 0.017457231051731494),\n",
       " ('sma30-39', 0.017455839460520102),\n",
       " ('sma40-29', 0.017421362567731601),\n",
       " ('bb_lower30-48', 0.017390422898585129),\n",
       " ('bb_upper40-23', 0.017367268511193783),\n",
       " ('Exchange Rate USD Sell-4', 0.017363728472460063),\n",
       " ('Exchange Rate USD Buy-4', 0.017363418045230686),\n",
       " ('bb_lower40-42', 0.017354887382799916),\n",
       " ('bb_lower20-56', 0.017351117299167797),\n",
       " ('bb_lower60-33', 0.017271729525080777),\n",
       " ('bb_upper20-46', 0.017083705785811334),\n",
       " ('bb_lower50-37', 0.017074917465980333),\n",
       " ('Exchange Rate USD Sell-49', 0.01672498475651937),\n",
       " ('Exchange Rate USD Buy-49', 0.016721573650441426),\n",
       " ('sma20-49', 0.016623868015480686),\n",
       " ('bb_lower40-41', 0.016622535866255422),\n",
       " ('bb_lower20-55', 0.016617505159670646),\n",
       " ('bb_lower30-47', 0.016596377348619112),\n",
       " ('bb_upper30-34', 0.016593956610313657),\n",
       " ('sma60-12', 0.016532034725300116),\n",
       " ('bb_lower60-32', 0.016530888104688002),\n",
       " ('sma50-19', 0.016441379355414679),\n",
       " ('bb_upper60-2', 0.016418086689915286),\n",
       " ('bb_upper50-11', 0.016345052212425312),\n",
       " ('bb_lower50-36', 0.01633323068846591),\n",
       " ('sma30-38', 0.016305467936627373),\n",
       " ('sma40-28', 0.016263698798211431),\n",
       " ('bb_upper40-22', 0.016129754198438893),\n",
       " ('bb_upper20-45', 0.015886707127208705),\n",
       " ('bb_lower40-40', 0.01587245370836754),\n",
       " ('Exchange Rate USD Sell-50', 0.015859261373314476),\n",
       " ('Exchange Rate USD Buy-50', 0.015855914416815994),\n",
       " ('bb_lower20-54', 0.015823084064804861),\n",
       " ('bb_lower60-31', 0.015764940430149896),\n",
       " ('bb_lower30-46', 0.01575190854221711),\n",
       " ('sma20-48', 0.015617148977769106),\n",
       " ('bb_lower50-35', 0.015589853910239352),\n",
       " ('bb_upper60-1', 0.0153633888344095),\n",
       " ('sma60-11', 0.015308515646056032),\n",
       " ('bb_upper30-33', 0.015270255346122233),\n",
       " ('sma50-18', 0.015205834996974544),\n",
       " ('sma30-37', 0.015123264464701048),\n",
       " ('bb_lower40-39', 0.015085163711367427),\n",
       " ('sma40-27', 0.015075586889291719),\n",
       " ('Exchange Rate USD Sell-51', 0.015058468159646709),\n",
       " ('Exchange Rate USD Buy-51', 0.015055232862442041),\n",
       " ('bb_upper50-10', 0.015007976032438678),\n",
       " ('bb_upper10-60', 0.015003727072916978),\n",
       " ('bb_lower60-30', 0.014976366887475613),\n",
       " ('bb_lower20-53', 0.014972146720120419),\n",
       " ('bb_lower30-45', 0.014866179682828565),\n",
       " ('bb_upper40-21', 0.014860968897518164),\n",
       " ('bb_lower50-34', 0.014836560379471364),\n",
       " ('Exchange Rate USD Sell-3', 0.014812040533251547),\n",
       " ('Exchange Rate USD Buy-3', 0.014811643490618568),\n",
       " ('bb_upper20-44', 0.014644133178760555),\n",
       " ('sma20-47', 0.014556759117747238),\n",
       " ('bb_upper10-59', 0.014373757436839395),\n",
       " ('Exchange Rate USD Sell-52', 0.01429921830490636),\n",
       " ('Exchange Rate USD Buy-52', 0.01429609695416584),\n",
       " ('bb_lower40-38', 0.014265754229073651),\n",
       " ('bb_lower60-29', 0.014158663895481238),\n",
       " ('bb_lower20-52', 0.014090035242232214),\n",
       " ('bb_lower50-33', 0.014069489573997698),\n",
       " ('sma60-10', 0.014069260136476519),\n",
       " ('bb_lower30-44', 0.013944689210510064),\n",
       " ('bb_upper30-32', 0.01393870144194995),\n",
       " ('sma50-17', 0.013937806975680719),\n",
       " ('sma30-36', 0.013909167629430112),\n",
       " ('sma10-60', 0.013898501695056296),\n",
       " ('sma40-26', 0.013849478923300766),\n",
       " ('bb_upper10-58', 0.013673733943390127),\n",
       " ('bb_upper50-9', 0.013627424349037146),\n",
       " ('bb_upper40-20', 0.013559953596115223),\n",
       " ('Exchange Rate USD Sell-53', 0.013531499134509548),\n",
       " ('Exchange Rate USD Buy-53', 0.013528403539528708),\n",
       " ('sma20-46', 0.013440264380410512),\n",
       " ('bb_lower40-37', 0.013414789805544867),\n",
       " ('bb_upper20-43', 0.013347509353437452),\n",
       " ('bb_lower60-28', 0.013317113779274338),\n",
       " ('bb_lower50-32', 0.013285386380304966),\n",
       " ('bb_lower20-51', 0.013201270328766983),\n",
       " ('sma10-59', 0.013166785880229277),\n",
       " ('bb_lower30-43', 0.012997027254857829),\n",
       " ('bb_upper10-57', 0.012951364905567083),\n",
       " ('Exchange Rate USD Sell-54', 0.012828812004465572),\n",
       " ('Exchange Rate USD Buy-54', 0.012825739037570809),\n",
       " ('sma60-9', 0.012820010787213324),\n",
       " ('sma30-35', 0.012666681787575799),\n",
       " ('sma50-16', 0.01262975795320348),\n",
       " ('bb_upper30-31', 0.01260936486473441),\n",
       " ('sma40-25', 0.012581275733772719),\n",
       " ('bb_lower40-36', 0.012536415800146691),\n",
       " ('bb_lower50-31', 0.012483863328901369),\n",
       " ('bb_lower60-27', 0.012461565867401407),\n",
       " ('sma10-58', 0.012380952145422197),\n",
       " ('bb_lower20-50', 0.012309495875605449),\n",
       " ('sma20-45', 0.012270666123593874),\n",
       " ('bb_upper40-19', 0.012232031188654445),\n",
       " ('bb_upper50-8', 0.012229161818281986),\n",
       " ('Exchange Rate USD Sell-55', 0.012171349292297833),\n",
       " ('bb_upper10-56', 0.012169680625063179),\n",
       " ('Exchange Rate USD Buy-55', 0.012168410870146331),\n",
       " ('bb_upper40', 0.012153863672103957),\n",
       " ('bb_lower30-42', 0.012049511552203697),\n",
       " ('bb_upper20-42', 0.011991341718484235),\n",
       " ('bb_lower10-60', 0.011879935202585182),\n",
       " ('Exchange Rate USD Sell-2', 0.011803750388721421),\n",
       " ('Exchange Rate USD Buy-2', 0.011803058393041877),\n",
       " ('bb_upper50', 0.011719746355175977),\n",
       " ('bb_lower50-30', 0.011651323705169714),\n",
       " ('bb_lower40-35', 0.011635368889132469),\n",
       " ('bb_lower60-26', 0.011602301039452041),\n",
       " ('Exchange Rate USD Sell-56', 0.011569130043172105),\n",
       " ('Exchange Rate USD Buy-56', 0.011566292229628667),\n",
       " ('sma60-8', 0.011551912902262183),\n",
       " ('sma10-57', 0.011546997523733079),\n",
       " ('bb_lower20-49', 0.01141270772278969),\n",
       " ('sma30-34', 0.011398339145274118),\n",
       " ('bb_upper10-55', 0.011329371730472621),\n",
       " ('sma50-15', 0.011279383885565476),\n",
       " ('bb_upper30-30', 0.011276594462107617),\n",
       " ('sma40-24', 0.011272863857893107),\n",
       " ('bb_lower30-41', 0.011115248202650304),\n",
       " ('bb_lower10-59', 0.011096723287466997),\n",
       " ('sma20-44', 0.011056591957802642),\n",
       " ('Exchange Rate USD Sell-57', 0.010937864897677296),\n",
       " ('Exchange Rate USD Buy-57', 0.010935071361471878),\n",
       " ('bb_upper30', 0.010916625069421525),\n",
       " ('bb_upper40-18', 0.010883080253487144),\n",
       " ('bb_upper50-7', 0.010838360896762277),\n",
       " ('bb_lower50-29', 0.010776683087643272),\n",
       " ('bb_lower60-25', 0.010738048325514733),\n",
       " ('bb_lower40-34', 0.010713538668014253),\n",
       " ('sma10-56', 0.010649790335457666),\n",
       " ('bb_upper20-41', 0.010600395578724359),\n",
       " ('bb_lower20-48', 0.010491305577243266),\n",
       " ('bb_upper10-54', 0.010417376786852669),\n",
       " ('Exchange Rate USD Sell-58', 0.010364515715674759),\n",
       " ('Exchange Rate USD Buy-58', 0.010361827912414476),\n",
       " ('bb_lower10-58', 0.010286480609228035),\n",
       " ('sma60-7', 0.010265909089234932),\n",
       " ('bb_lower30-40', 0.010190480949585926),\n",
       " ('sma30-33', 0.010110237395099753),\n",
       " ('bb_upper30-29', 0.0099478440794089767),\n",
       " ('sma40-23', 0.0099231729698150539),\n",
       " ('sma50-14', 0.0098862239591370714),\n",
       " ('bb_lower60-24', 0.0098627601456850612),\n",
       " ('bb_lower50-28', 0.0098592948274753844),\n",
       " ('Exchange Rate USD Sell-59', 0.0098113366623627917),\n",
       " ('Exchange Rate USD Buy-59', 0.0098086914731912514),\n",
       " ('sma20-43', 0.0098021305196085602),\n",
       " ('bb_lower40-33', 0.0097718883417122794),\n",
       " ('sma10-55', 0.0096939507760735975),\n",
       " ('bb_lower20-47', 0.0095224582450834459),\n",
       " ('bb_upper40-17', 0.0095216887035199458),\n",
       " ('bb_upper50-6', 0.0094338399312440587),\n",
       " ('bb_upper10-53', 0.00942935144846049),\n",
       " ('bb_upper60', 0.0094257297665551656),\n",
       " ('bb_lower10-57', 0.0094074851874358031),\n",
       " ('Exchange Rate USD Sell-60', 0.0093184318701720267),\n",
       " ('Exchange Rate USD Buy-60', 0.0093159251598103759),\n",
       " ('bb_lower30-39', 0.0092590948701563123),\n",
       " ('bb_upper20-40', 0.0091717696366676715),\n",
       " ('bb_lower60-23', 0.0089736786125998724),\n",
       " ('sma60-6', 0.0089521619132937325),\n",
       " ('bb_lower50-27', 0.0089019940130689017),\n",
       " ('bb_lower40-32', 0.0088180944681688755),\n",
       " ('sma30-32', 0.0087992501676412149),\n",
       " ('Nasdaq index', 0.0087952664071734854),\n",
       " ('sma10-54', 0.0086851034433090765),\n",
       " ('bb_upper30-28', 0.0086341783555613991),\n",
       " ('sma40-22', 0.0085295405611660498),\n",
       " ('sma20-42', 0.0085071452679414301),\n",
       " ('bb_lower20-46', 0.0085069723531171152),\n",
       " ('bb_lower10-56', 0.0084589546277978565),\n",
       " ('sma50-13', 0.0084522100410851855),\n",
       " ('bb_upper10-52', 0.0083604641615437694),\n",
       " ('Exchange Rate USD Sell-1', 0.0083490838636850803),\n",
       " ('Exchange Rate USD Buy-1', 0.0083487324912025589),\n",
       " ('bb_lower30-38', 0.0083126740872518021),\n",
       " ('sma40', 0.0082245613107775322),\n",
       " ('bb_upper40-16', 0.0081358675102740311),\n",
       " ('bb_lower60-22', 0.0080733011843655954),\n",
       " ('bb_upper50-5', 0.0080492536035872073),\n",
       " ('bb_lower50-26', 0.0079153737376764094),\n",
       " ('sma50', 0.007905360884902228),\n",
       " ('bb_lower40-31', 0.0078644634481675798),\n",
       " ('bb_upper20', 0.0078067133568126444),\n",
       " ('bb_upper20-39', 0.0077367290901527511),\n",
       " ('sma10-53', 0.0076228250495923282),\n",
       " ('sma60-5', 0.0076143395792473883),\n",
       " ('sma30-31', 0.0074676964960813472),\n",
       " ('bb_lower10-55', 0.0074508440761959522),\n",
       " ('bb_lower20-45', 0.0074475629240293249),\n",
       " ('bb_upper30-27', 0.0073491532595660507),\n",
       " ('bb_lower30-37', 0.0073414621928078209),\n",
       " ('sma30', 0.007315923501294402),\n",
       " ('bb_upper10-51', 0.0072407675468985104),\n",
       " ('Volume', 0.0071947003736935666),\n",
       " ('sma20-41', 0.007180921238590451),\n",
       " ('bb_lower60-21', 0.0071634702200150981),\n",
       " ('sma40-21', 0.0070969861401690175),\n",
       " ('sma50-12', 0.0069774384641509363),\n",
       " ('bb_lower40-30', 0.0069020884305664816),\n",
       " ('bb_lower50-25', 0.0069015795905794392),\n",
       " ('bb_upper40-15', 0.0067273592986141885),\n",
       " ('bb_upper50-4', 0.0066914540254563405),\n",
       " ('Bovespa total volume-57', 0.0066717939060405929),\n",
       " ('Dow Jones index', 0.0066694015360813158),\n",
       " ('sma10-52', 0.0065030448181169487),\n",
       " ('sma60', 0.0064243597944728644),\n",
       " ('bb_lower10-54', 0.0064051056275477233),\n",
       " ('bb_lower20-44', 0.0063484734631352379),\n",
       " ('bb_lower30-36', 0.0063400386620041391),\n",
       " ('bb_upper20-38', 0.006294572576754952),\n",
       " ('sma60-4', 0.0062717520721367595),\n",
       " ('Bovespa total volume-58', 0.0062600767203578453),\n",
       " ('bb_lower60-20', 0.0062336677621503984),\n",
       " ('BM&F Gold gramme-26', 0.0061999245126001827),\n",
       " ('BM&F Gold gramme-25', 0.0061827821713324174),\n",
       " ('BM&F Gold gramme-27', 0.006155639108237649),\n",
       " ('Bovespa total volume-59', 0.0061526669517412173),\n",
       " ('BM&F Gold gramme-28', 0.0061502507639681339),\n",
       " ('sma30-30', 0.0061159602003385983),\n",
       " ('BM&F Gold gramme-24', 0.0060999625973757335),\n",
       " ('bb_upper30-26', 0.0060738573076762285),\n",
       " ('BM&F Gold gramme-29', 0.006066207312980485),\n",
       " ('bb_upper10-50', 0.0060546743419629592),\n",
       " ('BM&F Gold gramme-23', 0.0060395643691227643),\n",
       " ('Bovespa total volume-60', 0.006017344879757738),\n",
       " ('BM&F Gold gramme-22', 0.0059674541938391761),\n",
       " ('BM&F Gold gramme-21', 0.005951149664209095),\n",
       " ('Nasdaq index-60', 0.0059279756634597648),\n",
       " ('bb_lower40-29', 0.0059254476115690145),\n",
       " ('BM&F Gold gramme-30', 0.0059067269581521541),\n",
       " ('BM&F Gold gramme-20', 0.005881385706572287),\n",
       " ('bb_lower50-24', 0.0058657758966340371),\n",
       " ('sma20-40', 0.0058266278549929697),\n",
       " ('BM&F Gold gramme-31', 0.005774612634735359),\n",
       " ('BM&F Gold gramme-19', 0.0056680641831359469),\n",
       " ('sma40-20', 0.0056289815300846289),\n",
       " ('BM&F Gold gramme-32', 0.0055806929915692789),\n",
       " ('Bovespa total volume-56', 0.0054746116397170301),\n",
       " ('sma50-11', 0.0054698623421920636),\n",
       " ('BM&F Gold gramme-18', 0.0054306023190984105),\n",
       " ('Nasdaq index-59', 0.0053986065874647958),\n",
       " ('BM&F Gold gramme-33', 0.0053776015154729066),\n",
       " ('bb_upper50-3', 0.0053753699396936342),\n",
       " ('Bovespa total volume-55', 0.005362610176134772),\n",
       " ('sma10-51', 0.0053409370536013573),\n",
       " ('bb_lower10-53', 0.005325915414953677),\n",
       " ('bb_lower30-35', 0.005308172721975625),\n",
       " ('bb_upper40-14', 0.0053018142057571632),\n",
       " ('bb_lower60-19', 0.0052816834642206894),\n",
       " ('bb_lower20-43', 0.0052277939677226031),\n",
       " ('BM&F Gold gramme-34', 0.0051672724175150023),\n",
       " ('Foreign exchange operations balance-60', 0.0051087867302089885),\n",
       " ('BM&F Gold gramme-17', 0.0050997373748528476),\n",
       " ('sma20', 0.0049741195675518822),\n",
       " ('sma60-3', 0.0049350224607298898),\n",
       " ('Nasdaq index-58', 0.004920648600263082),\n",
       " ('bb_lower40-28', 0.0049184308515377593),\n",
       " ('BM&F Gold gramme-35', 0.0048643098448177399),\n",
       " ('bb_upper20-37', 0.0048642470068910862),\n",
       " ('Bovespa total volume-54', 0.0048237762669981026),\n",
       " ('bb_upper10-49', 0.0048192109219708434),\n",
       " ('bb_lower50-23', 0.0048069852237719243),\n",
       " ('bb_upper30-25', 0.0048063576592703404),\n",
       " ('sma30-29', 0.0047493781079495992),\n",
       " ('BM&F Gold gramme-16', 0.0046399564154616726),\n",
       " ('BM&F Gold gramme-36', 0.0045290979326629843),\n",
       " ('Nasdaq index-57', 0.004482053797971397),\n",
       " ('sma20-39', 0.0044527656866454601),\n",
       " ('Open-60', 0.0044401572760578963),\n",
       " ('BM&F Gold gramme-15', 0.0043156404863837318),\n",
       " ('bb_lower60-18', 0.0043072217293678144),\n",
       " ('bb_lower30-34', 0.0042479935627800199),\n",
       " ('bb_lower10-52', 0.0042115450826810154),\n",
       " ('BM&F Gold gramme-37', 0.004154881293593763),\n",
       " ('sma40-19', 0.0041366703568896449),\n",
       " ('sma10-50', 0.0041300532516121971),\n",
       " ('bb_lower20-42', 0.0040952856972721772),\n",
       " ('BM&F Gold gramme-14', 0.004079188614274018),\n",
       " ('bb_upper50-2', 0.0040783326597701747),\n",
       " ('Nasdaq index-56', 0.00397981157102586),\n",
       " ('sma50-10', 0.0039335633755381207),\n",
       " ('bb_lower40', 0.0039242192319514438),\n",
       " ('bb_lower40-27', 0.0038801941220591978),\n",
       " ('bb_upper40-13', 0.0038737422411953466),\n",
       " ('Bovespa total volume-53', 0.0038493688129322369),\n",
       " ('BM&F Gold gramme-13', 0.0038432207659016),\n",
       " ('bb_lower50-22', 0.0037407315817096134),\n",
       " ('BM&F Gold gramme-38', 0.0037274940142576372),\n",
       " ('bb_lower50', 0.0036764966646692285),\n",
       " ('sma60-2', 0.0036098558201345084),\n",
       " ('bb_upper30-24', 0.003554507079215701),\n",
       " ('bb_upper10-48', 0.0035305867387737328),\n",
       " ('High-60', 0.0035247306809948328),\n",
       " ('Nasdaq index-55', 0.0035058661508520625),\n",
       " ('BM&F Gold gramme-12', 0.0035041542460292068),\n",
       " ('Open-59', 0.0034841574760498262),\n",
       " ('bb_upper20-36', 0.0034447483370951323),\n",
       " ('Foreign exchange operations balance-23', 0.0034431141907260571),\n",
       " ('Foreign exchange operations balance-21', 0.0034408723825116163),\n",
       " ('bb_lower30', 0.0034158098099561643),\n",
       " ('Low-60', 0.0034005312400783648),\n",
       " ('sma30-28', 0.0033680217601424439),\n",
       " ('BM&F Gold gramme-39', 0.0033485383197471397),\n",
       " ('BM&F Gold gramme-11', 0.0033245768057393013),\n",
       " ('bb_lower60-17', 0.0033100141438646034),\n",
       " ('Bovespa total volume-52', 0.0032760139821689294),\n",
       " ('BM&F Gold gramme-10', 0.0032653443733210888),\n",
       " ('BM&F Gold gramme-9', 0.0032292067373653585),\n",
       " ('bb_lower30-33', 0.0031669278566804349),\n",
       " ('BM&F Gold gramme-8', 0.0031525336987855762),\n",
       " ('BM&F Gold gramme-7', 0.003104053461321405),\n",
       " ('bb_lower10-51', 0.0030706520118968903),\n",
       " ('sma20-38', 0.0030599910823187505),\n",
       " ('bb_lower60', 0.0030513681340445481),\n",
       " ('BM&F Gold gramme-40', 0.0030294895341437347),\n",
       " ('Bovespa total volume-51', 0.0029932614243183306),\n",
       " ('Nasdaq index-54', 0.0029706116237862477),\n",
       " ('bb_lower20-41', 0.0029534081195223016),\n",
       " ('bb_upper50-1', 0.0028883416808949984),\n",
       " ('BM&F Gold gramme-6', 0.0028809016383378691),\n",
       " ('sma10-49', 0.0028763308496968869),\n",
       " ('bb_lower40-26', 0.0028144734951062022),\n",
       " ('BM&F Gold gramme-41', 0.0027279445611959473),\n",
       " ('bb_lower50-21', 0.0026854120400098816),\n",
       " ('bb_upper10', 0.0026695756715476499),\n",
       " ('BM&F Gold gramme-5', 0.0026402183650586935),\n",
       " ('sma40-18', 0.002621943617295933),\n",
       " ('Bovespa total volume', 0.0025987760956992104),\n",
       " ('High-59', 0.0025472522477329234),\n",
       " ('BM&F Gold gramme-4', 0.0025128666154909367),\n",
       " ('Close-60', 0.002504001202866174),\n",
       " ('Adj Close-60', 0.0024740411069051837),\n",
       " ('bb_upper40-12', 0.0024514237210515057),\n",
       " ('Open-58', 0.0024199853323339793),\n",
       " ('sma60-1', 0.0023892471296740182),\n",
       " ('Low-59', 0.0023858721379177764),\n",
       " ('sma50-9', 0.0023781728953030223),\n",
       " ('BM&F Gold gramme-42', 0.0023654622322037164),\n",
       " ('Foreign exchange operations balance-24', 0.0023503921124376301),\n",
       " ('Nasdaq index-53', 0.0023406377479638783),\n",
       " ('bb_upper30-23', 0.0023287573344047915),\n",
       " ('BM&F Gold gramme-3', 0.0023102664918785328),\n",
       " ('bb_lower60-16', 0.0022935918459234847),\n",
       " ('Bovespa total volume-49', 0.0022904473693919668),\n",
       " ('Bovespa total volume-50', 0.0022660634434876837),\n",
       " ('bb_upper10-47', 0.0021939167170253828),\n",
       " ('Foreign exchange operations balance-54', 0.002176192134225906),\n",
       " ('bb_lower30-32', 0.0020556739105237888),\n",
       " ('International Reserves', 0.002040626560501219),\n",
       " ('bb_upper20-35', 0.0020336804097256947),\n",
       " ('BM&F Gold gramme-43', 0.0020305471935511098),\n",
       " ('sma30-27', 0.0019743349628973971),\n",
       " ('bb_lower20', 0.0019368323687274187),\n",
       " ('BM&F Gold gramme-2', 0.0019162672045830785),\n",
       " ('bb_lower10-50', 0.0019080819046171579),\n",
       " ('Foreign exchange operations balance-22', 0.0018820413151047536),\n",
       " ('bb_lower20-40', 0.0018088305673982139),\n",
       " ('Bovespa total volume-48', 0.0018075919793520787),\n",
       " ('Foreign exchange operations balance-19', 0.0017935709968886185),\n",
       " ('Foreign exchange operations balance-1', 0.0017733568048457706),\n",
       " ('bb_lower40-25', 0.0017202604012469126),\n",
       " ('BM&F Gold gramme-44', 0.0017107077686225353),\n",
       " ('Nasdaq index-52', 0.0016627511579091784),\n",
       " ('sma20-37', 0.0016535540655606596),\n",
       " ('bb_lower50-20', 0.0016356645410959467),\n",
       " ('sma10-48', 0.0015807892589656744),\n",
       " ('High-58', 0.0015528549832945606),\n",
       " ('Foreign exchange operations balance-20', 0.0015436577223127523),\n",
       " ('Foreign exchange operations balance-57', 0.0015057935751283842),\n",
       " ('Selic', 0.0015022979158142602),\n",
       " ('Foreign exchange operations balance-53', 0.0015013139245859824),\n",
       " ('Close-59', 0.0014676552948402212),\n",
       " ('Foreign exchange operations balance-18', 0.0014632052749986395),\n",
       " ('Volume-28', 0.0014465141735698422),\n",
       " ('Foreign exchange operations balance-42', 0.0014328389418787535),\n",
       " ('Adj Close-59', 0.0014285386382942202),\n",
       " ('Volume-36', 0.0014120228362132206),\n",
       " ('Open-57', 0.0013921169749365665),\n",
       " ('Volume-35', 0.0013867138289649565),\n",
       " ('Volume-29', 0.0013500209269478403),\n",
       " ('Bovespa total volume-47', 0.0013303750565544525),\n",
       " ('BM&F Gold gramme-45', 0.0013222898709153855),\n",
       " ('Low-58', 0.0012998257176368793),\n",
       " ('bb_lower60-15', 0.0012577301006237503),\n",
       " ('Foreign exchange operations balance-14', 0.0011391456220397375),\n",
       " ('bb_upper30-22', 0.001112500765849434),\n",
       " ('Volume-37', 0.0011059088993469921),\n",
       " ('BM&F Gold gramme-1', 0.0010977941415546354),\n",
       " ('Foreign exchange operations balance-16', 0.0010953434288762396),\n",
       " ('sma40-17', 0.00108357577336583),\n",
       " ('Foreign exchange operations balance-25', 0.0010825032481887274),\n",
       " ('bb_upper40-11', 0.0010307014870596634),\n",
       " ('Nasdaq index-51', 0.0010234729379746598),\n",
       " ('Foreign exchange operations balance-10', 0.0010034162391918619),\n",
       " ('Foreign exchange operations balance-15', 0.00099533083175059136),\n",
       " ('sma10', 0.00096063718703041283),\n",
       " ('Bovespa total volume-46', 0.00092644137414283267),\n",
       " ('Foreign exchange operations balance-51', 0.00092640273917880508),\n",
       " ('bb_lower30-31', 0.0009190579725928341),\n",
       " ('Volume-30', 0.00089231189431052008),\n",
       " ('Volume-34', 0.00086434256289688875),\n",
       " ('BM&F Gold gramme-46', 0.00084170161415420192),\n",
       " ('bb_upper10-46', 0.00081339874407170194),\n",
       " ('sma50-8', 0.00080502784450348715),\n",
       " ('Volume-20', 0.00078374868126278557),\n",
       " ('Bovespa total volume-45', 0.00078323635787212558),\n",
       " ('Bovespa total volume-44', 0.00074347199384348537),\n",
       " ('Foreign exchange operations balance-17', 0.00071862432548823441),\n",
       " ('bb_lower10-49', 0.00071786969968185357),\n",
       " ('Volume-19', 0.00069552370912848215),\n",
       " ('Foreign exchange operations balance-32', 0.00069382747479937998),\n",
       " ('Foreign exchange operations balance-6', 0.00069284775052463237),\n",
       " ('Volume-21', 0.0006797074222787443),\n",
       " ('bb_lower20-39', 0.00064728060400656923),\n",
       " ('Dow Jones index-60', 0.0006459999672438426),\n",
       " ('bb_upper20-34', 0.00063577920962787826),\n",
       " ('Foreign exchange operations balance-41', 0.00060334781482505135),\n",
       " ('bb_lower40-24', 0.00060139635063967487),\n",
       " ('bb_lower50-19', 0.00059589810747982721),\n",
       " ('Volume-17', 0.00057332804413220886),\n",
       " ('sma30-26', 0.00056887118282268666),\n",
       " ('Volume-32', 0.00056840931399164819),\n",
       " ('Bovespa total volume-43', 0.00055776319775614346),\n",
       " ('Volume-33', 0.00054401321356237231),\n",
       " ('High-57', 0.0005431717918852354),\n",
       " ('Volume-6', 0.00053247735659375296),\n",
       " ('Volume-22', 0.00052650401549495928),\n",
       " ('Volume-38', 0.00047963231355598057),\n",
       " ('Close-58', 0.00042164951223228899),\n",
       " ('Foreign exchange operations balance-30', 0.000420156970183819),\n",
       " ('Volume-18', 0.00039443221833529023),\n",
       " ('Volume-16', 0.00038548755237646299),\n",
       " ('Adj Close-58', 0.00037542755340465729),\n",
       " ('Foreign exchange operations balance-7', 0.00037527320574122177),\n",
       " ('Volume-27', 0.00036842467679930785),\n",
       " ('Volume-31', 0.00036715863883686744),\n",
       " ('Foreign exchange operations balance-56', 0.00036040926181418916),\n",
       " ('Foreign exchange operations balance-50', 0.00033870774600052269),\n",
       " ('Bovespa total volume-1', 0.00033178954218609499),\n",
       " ('Volume-23', 0.00032671621762389087),\n",
       " ('Volume-11', 0.00031439409360506626),\n",
       " ('Foreign exchange operations balance-44', 0.00030669265607252363),\n",
       " ('Volume-26', 0.00028227957314434765),\n",
       " ('Foreign exchange operations balance-31', 0.00027429822752085981),\n",
       " ('Nasdaq index-50', 0.00027344060789871434),\n",
       " ('Volume-7', 0.00026647050536915054),\n",
       " ('BM&F Gold gramme-47', 0.00026636644886046798),\n",
       " ('Volume-39', 0.00026361249812113547),\n",
       " ('Low-57', 0.00025397403729948302),\n",
       " ('Open-56', 0.00025329778426545199),\n",
       " ('sma20-36', 0.0002443358401086274),\n",
       " ('Bovespa index-60', 0.00024381235910164733),\n",
       " ('Volume-25', 0.00024054528048203007),\n",
       " ('sma10-47', 0.00023944539808817039),\n",
       " ('Volume-5', 0.00023721931823001891),\n",
       " ('bb_lower60-14', 0.00020667991360432531),\n",
       " ('Foreign exchange operations balance-4', 0.00019627246694383106),\n",
       " ('Bovespa total volume-42', 0.00018411996156990227),\n",
       " ('Volume-10', 0.00016293620060809825),\n",
       " ('Volume-24', 0.00011614344754153401),\n",
       " ('Dow Jones index-59', 0.00010978130712514586),\n",
       " ('Foreign exchange operations balance-45', 6.6333178016514497e-05),\n",
       " ('Volume-9', 3.5281678418104371e-05),\n",
       " ('BM&F Gold gramme', 1.4048731879322454e-06),\n",
       " ('Foreign exchange operations balance-37', -1.0648345776468085e-05),\n",
       " ('Volume-15', -2.8351220551519641e-05),\n",
       " ('Foreign exchange operations balance-43', -3.9487454906951203e-05),\n",
       " ('Foreign exchange operations balance-40', -4.5839445047842945e-05),\n",
       " ('Volume-12', -5.6066719873044775e-05),\n",
       " ('Volume-8', -5.7342802632282971e-05),\n",
       " ('Foreign exchange operations balance-39', -5.8912696316186413e-05),\n",
       " ('Foreign exchange operations balance-55', -7.450955589333195e-05),\n",
       " ('Foreign exchange operations balance-35', -9.2006307540310112e-05),\n",
       " ('bb_upper30-21', -9.5470763499353291e-05),\n",
       " ('Foreign exchange operations balance-46', -0.0001015654323569835),\n",
       " ('Bovespa total volume-2', -0.00012041709270230607),\n",
       " ('Volume-13', -0.00015959780664817993),\n",
       " ('Foreign exchange operations balance-27', -0.00016661080457473312),\n",
       " ('Bovespa total volume-3', -0.00019817729348707306),\n",
       " ('Volume-40', -0.00021546944253549803),\n",
       " ('Foreign exchange operations balance-38', -0.00023643154436366409),\n",
       " ('bb_lower30-30', -0.0002419591629704292),\n",
       " ('Volume-14', -0.00026723548412595308),\n",
       " ('Foreign exchange operations balance-29', -0.00026818434884059376),\n",
       " ('Bovespa total volume-40', -0.00032187952242680978),\n",
       " ...]"
      ]
     },
     "execution_count": 422,
     "metadata": {},
     "output_type": "execute_result"
    }
   ],
   "source": [
    "# checking the variables with most impact on the first component\n",
    "i = np.identity(len(features)) # identity matrix\n",
    "coef = pca.transform(i)\n",
    "sorted(zip(features, coef[:, 1]), key=lambda x:-x[1])"
   ]
  },
  {
   "cell_type": "markdown",
   "metadata": {},
   "source": [
    "The results hardly show something relevant. The coefficientes between the features are very similar for the first principal component"
   ]
  },
  {
   "cell_type": "code",
   "execution_count": 423,
   "metadata": {
    "collapsed": false
   },
   "outputs": [
    {
     "data": {
      "text/plain": [
       "[(23.401187849828901, 1.4763336379539638e-06),\n",
       " (14.666417116821084, 0.00013458737429045332),\n",
       " (11.273698781092188, 0.00080946103271752306),\n",
       " (10.81429898551947, 0.0010348439475167633),\n",
       " (10.570407310942562, 0.0011793578231390879),\n",
       " (7.6873892465688183, 0.0056422856897053375),\n",
       " (7.356014114936583, 0.006774329743261069),\n",
       " (4.0947010034098241, 0.043227423987856659),\n",
       " (3.6940148383596645, 0.054832077368895636),\n",
       " (3.0389598561766529, 0.081530557973563636),\n",
       " (2.5331357323567802, 0.11172793171349384),\n",
       " (2.4626068982635028, 0.11683483667197841),\n",
       " (2.3977417129587084, 0.12176028029888256),\n",
       " (2.3611274430969575, 0.12464193356222063),\n",
       " (1.4035744076462182, 0.23634819358929912),\n",
       " (1.3104220937694055, 0.25253444647384182),\n",
       " (0.70023414972077913, 0.40286282704754683),\n",
       " (0.54993706886132476, 0.45848084118851284),\n",
       " (0.52289610035694312, 0.46974236145251513),\n",
       " (0.4439817237883899, 0.50532818540775748),\n",
       " (0.20012425264699454, 0.65469703826560288),\n",
       " (0.17476090978942505, 0.67598567885234151),\n",
       " (0.11247997718994496, 0.73739371270848486),\n",
       " (0.086704999577096792, 0.76845685483839576),\n",
       " (0.034015946396182412, 0.85370241615957032),\n",
       " (0.026766898493140026, 0.87006747322658484),\n",
       " (0.025665630506655945, 0.87274515606512471),\n",
       " (0.023444361176516808, 0.87833156137390844),\n",
       " (0.016714051615949015, 0.8971543722162717),\n",
       " (0.010406325611436576, 0.91876376841386531),\n",
       " (0.0034861876057747125, 0.95292641585446047),\n",
       " (0.00010942986644510852, 0.9916552299170045)]"
      ]
     },
     "execution_count": 423,
     "metadata": {},
     "output_type": "execute_result"
    }
   ],
   "source": [
    "# I will try feature selection again, with the components\n",
    "from sklearn.feature_selection import f_classif\n",
    "f_selector = SelectKBest(f_classif)\n",
    "f_selector.fit(X_transformed,y)\n",
    "sorted(zip(f_selector.scores_, f_selector.pvalues_), key=lambda x: -x[0])"
   ]
  },
  {
   "cell_type": "markdown",
   "metadata": {},
   "source": [
    "The p values for the Anova F-value test, all above 0.5, tell a worrisome story. None has a verifiable correlation with the label. Nevertheless, let's push forward and see how good a prediction we can make with this data"
   ]
  },
  {
   "cell_type": "markdown",
   "metadata": {},
   "source": [
    "### Predicting"
   ]
  },
  {
   "cell_type": "markdown",
   "metadata": {},
   "source": [
    "Let's move on to prediction and see which results we can get with the work that is already done.\n",
    "\n",
    "A previous work was done using several classifiers, and Gradient Boosting was the most promising. It is a model that can fit well complex models, and is one of the top perfomer algorithms used in the wide. Let's start with it and check the results"
   ]
  },
  {
   "cell_type": "code",
   "execution_count": 424,
   "metadata": {
    "collapsed": false
   },
   "outputs": [],
   "source": [
    "from sklearn.model_selection import StratifiedShuffleSplit\n",
    "from sklearn.ensemble import GradientBoostingClassifier as GBC\n",
    "from sklearn.neighbors import KNeighborsClassifier as kNN\n",
    "from sklearn.model_selection import cross_val_score\n",
    "import warnings; warnings.filterwarnings(\"ignore\")"
   ]
  },
  {
   "cell_type": "code",
   "execution_count": 425,
   "metadata": {
    "collapsed": true
   },
   "outputs": [],
   "source": [
    "# define cross validation strategy\n",
    "cv = StratifiedShuffleSplit(n_splits=10, test_size=.1, random_state=42)"
   ]
  },
  {
   "cell_type": "code",
   "execution_count": 426,
   "metadata": {
    "collapsed": false
   },
   "outputs": [
    {
     "name": "stdout",
     "output_type": "stream",
     "text": [
      "Precision: 0.33 (+/- 0.61)\n"
     ]
    }
   ],
   "source": [
    "# initiate, train and evaluate classifier\n",
    "clf = GBC(random_state=42)\n",
    "scores = cross_val_score(clf, X, y, cv=cv, scoring='precision')\n",
    "print(\"Precision: %0.2f (+/- %0.2f)\" % (scores.mean(), scores.std() * 2))"
   ]
  },
  {
   "cell_type": "code",
   "execution_count": 427,
   "metadata": {
    "collapsed": false
   },
   "outputs": [
    {
     "name": "stdout",
     "output_type": "stream",
     "text": [
      "Precision: 0.17 (+/- 0.63)\n"
     ]
    }
   ],
   "source": [
    "# same, with kNN\n",
    "clf = kNN()\n",
    "scores = cross_val_score(clf, X, y, cv=cv, scoring='precision')\n",
    "print(\"Precision: %0.2f (+/- %0.2f)\" % (scores.mean(), scores.std() * 2))"
   ]
  },
  {
   "cell_type": "markdown",
   "metadata": {},
   "source": [
    "40% is a reasonable precision, considering it is a highly skewed dataset, with only 6,25% of the observations with label 'Succeess'. But still a lot of variation - with a 95% confidence interval, the precision can be as low as .17. Let's check with the principal components, to see if we can get better results.\n",
    "\n",
    "I will try with different number of components"
   ]
  },
  {
   "cell_type": "code",
   "execution_count": 428,
   "metadata": {
    "collapsed": false
   },
   "outputs": [
    {
     "name": "stdout",
     "output_type": "stream",
     "text": [
      "Precision 10 components: 0.28 (+/- 0.79)\n",
      "Precision 20 components: 0.20 (+/- 0.49)\n",
      "Precision 50 components: 0.15 (+/- 0.46)\n",
      "Precision 100 components: 0.05 (+/- 0.30)\n",
      "Precision 200 components: 0.00 (+/- 0.00)\n",
      "Precision 300 components: 0.03 (+/- 0.15)\n"
     ]
    }
   ],
   "source": [
    "# components = [20,50,100,150,200,300,400,len(features)]\n",
    "components = [10,20,50,100, 200, 300]\n",
    "for n in components:\n",
    "    # pca\n",
    "    pca = PCA(n_components = n, random_state=42)\n",
    "    X_transformed = pca.fit_transform(X)\n",
    "    \n",
    "    # predict\n",
    "    clf = GBC(random_state=42)\n",
    "    scores = cross_val_score(clf, X_transformed, y, cv=cv, scoring='precision')\n",
    "    print(\"Precision {} components: {:0.2f} (+/- {:0.2f})\".format(\n",
    "            n, scores.mean(), scores.std() * 2))"
   ]
  },
  {
   "cell_type": "code",
   "execution_count": 429,
   "metadata": {
    "collapsed": false
   },
   "outputs": [
    {
     "name": "stdout",
     "output_type": "stream",
     "text": [
      "Precision 10 components: 0.05 (+/- 0.30)\n",
      "Precision 20 components: 0.07 (+/- 0.32)\n",
      "Precision 50 components: 0.07 (+/- 0.32)\n",
      "Precision 100 components: 0.07 (+/- 0.32)\n",
      "Precision 200 components: 0.12 (+/- 0.60)\n",
      "Precision 300 components: 0.23 (+/- 0.79)\n"
     ]
    }
   ],
   "source": [
    "# same, with knn\n",
    "components = [10, 20, 50, 100, 200, 300]\n",
    "for n in components:\n",
    "    # pca\n",
    "    pca = PCA(n_components = n, random_state=42)\n",
    "    X_transformed = pca.fit_transform(X)\n",
    "    \n",
    "    # predict\n",
    "    clf = kNN()\n",
    "    scores = cross_val_score(clf, X_transformed, y, cv=cv, scoring='precision')\n",
    "    print(\"Precision {} components: {:0.2f} (+/- {:0.2f})\".format(\n",
    "            n, scores.mean(), scores.std() * 2))"
   ]
  },
  {
   "cell_type": "markdown",
   "metadata": {},
   "source": [
    "The results with the principal components doesn't seem any better. I've also tried with 20 folds in the cross validation to reduce the margin of error, and between 100 to 200 components I get a precision of around .38 and a margin of error of around .5, which too high."
   ]
  },
  {
   "cell_type": "markdown",
   "metadata": {},
   "source": [
    "### Optimizing parameters with genetic algorithm"
   ]
  },
  {
   "cell_type": "markdown",
   "metadata": {},
   "source": [
    "Well, next step is to change my strategy. In the swing trade strategy, if I set number of days 10, profit margin(x) to 5% and stop loss(y) to 5%, I have to be right at least 51% of the times to actually win some money. That is not the case, as my current precision lower boundary is 17%.\n",
    "\n",
    "But I might have a better chance identifying a different variation of this strategy. So as discussed before, let's try to optimize these 3 parameters: n, x and y. We will use a genetic algorithm which will use precision score from the cross validation function as its own scoring function, to determine which variation will perpetuate. "
   ]
  },
  {
   "cell_type": "markdown",
   "metadata": {},
   "source": [
    "In order to that, we will organize the code to create the dataset into classes and modules, along with the Genetic Algoritm, in the attached files stock.py and strategies.py, and import them to the notebook."
   ]
  },
  {
   "cell_type": "code",
   "execution_count": 454,
   "metadata": {
    "collapsed": true
   },
   "outputs": [],
   "source": [
    "import warnings\n",
    "warnings.filterwarnings(\"ignore\", category=DeprecationWarning)\n",
    "\n",
    "class Backtester():\n",
    "\n",
    "    def __init__(self, df):\n",
    "        self.df = df\n",
    "\n",
    "    def create_labels(self, forward=10, profit_margin=.05, stop_loss=.05):\n",
    "\n",
    "        for row in range(self.df.shape[0]-forward):\n",
    "\n",
    "            # initialize max and min ticks\n",
    "            max_uptick = 0\n",
    "            min_downtick = 0 \n",
    "\n",
    "            # move all days forward\n",
    "            for i in range(1,forward+1):\n",
    "                delta = (self.df.ix[row+i, 'Adj Close'] / self.df.ix[row, 'Adj Close'])-1\n",
    "                if delta > max_uptick:\n",
    "                    max_uptick = delta\n",
    "                if delta < min_downtick:\n",
    "                    min_downtick = delta\n",
    "\n",
    "            # evaluate ticks against predefined strategy parameters\n",
    "            if max_uptick >= profit_margin and min_downtick <= -stop_loss:\n",
    "                self.df.ix[row,'Label'] = 1\n",
    "            else:\n",
    "                self.df.ix[row,'Label'] = 0        \n",
    "\n",
    "        self.df.dropna(inplace=True)\n",
    "\n",
    "    def prep_data(self):\n",
    "        features = [x for x in self.df.columns if x != \"Label\"]\n",
    "        X = self.df[features].values\n",
    "        y = self.df['Label'].values\n",
    "        return X,y\n",
    "\n",
    "    def score(self, X, y):\n",
    "        # apply PCA\n",
    "        pca = PCA(n_components = 10, random_state=42)\n",
    "        X_transformed = pca.fit_transform(X)\n",
    "        \n",
    "        #predict\n",
    "        clf = GBC(random_state=42)\n",
    "        cv = StratifiedShuffleSplit(n_splits=10, test_size=.1, random_state=42)\n",
    "        scores = cross_val_score(clf, X_transformed, y, cv=cv, scoring='precision')\n",
    "\n",
    "        # return score\n",
    "        return (scores.mean())\n",
    "\n",
    "    def evaluate(self, forward, profit_margin, stop_loss):\n",
    "        self.create_labels(forward=forward, profit_margin=profit_margin, stop_loss=stop_loss)\t\t\n",
    "        score = self.score(*self.prep_data())\n",
    "        print(\"span: {}, profit_margin: {:.3f}, stop_loss: {:.3f} --  score: {:.3f}\".format(\n",
    "            forward, profit_margin, stop_loss, score))\n",
    "        return score"
   ]
  },
  {
   "cell_type": "code",
   "execution_count": 455,
   "metadata": {
    "collapsed": true
   },
   "outputs": [],
   "source": [
    "class Strategy():\n",
    "\n",
    "    def __init__(self, span = 7, profit_margin = .06, stop_loss = .04):\n",
    "        self.span = span\n",
    "        self.profit_margin = profit_margin\n",
    "        self.stop_loss = stop_loss\n",
    "        self.mutations = [\n",
    "            self.increase_span,\n",
    "            self.decrease_span,\n",
    "            self.increase_stop_loss,\n",
    "            self.decrease_stop_loss,\n",
    "            self.increase_profit_margin,\n",
    "            self.decrease_profit_margin\n",
    "        ]\n",
    "\n",
    "    def mutate(self):\n",
    "        np.random.choice(self.mutations)()\n",
    "\n",
    "    def inform_params(self):\n",
    "        return self.span, self.profit_margin, self.stop_loss\n",
    "\n",
    "    def report(self):\n",
    "        print(\"span: {}, profit_margin: {:.3f}, stop_loss: {:.3f}\".format(\n",
    "            self.span, self.profit_margin, self.stop_loss))\n",
    "\n",
    "    # add a random component to mutation\n",
    "    # allow 'wild' mutations\n",
    "\n",
    "    def increase_span(self):\n",
    "        self.span += 2\n",
    "\n",
    "    def decrease_span(self):\n",
    "        self.span -= 2\n",
    "\n",
    "    def increase_profit_margin(self):\n",
    "        self.profit_margin = self.profit_margin * 1.3\n",
    "\n",
    "    def decrease_profit_margin(self):\n",
    "        self.profit_margin = self.profit_margin * .7\n",
    "\n",
    "    def increase_stop_loss(self):\n",
    "        self.stop_loss = self.stop_loss * 1.3\n",
    "\n",
    "    def decrease_stop_loss(self):\n",
    "        self.stop_loss = self.stop_loss * .7\n",
    "\n",
    "\n",
    "class GA():\n",
    "\n",
    "    def __init__(self, df):\n",
    "        \"\"\" Seed 2 initial strategies and an instance of backtester \"\"\"\n",
    "\n",
    "        self.backtester = Backtester(df.copy())\n",
    "\n",
    "        self.strategies = pd.DataFrame(np.zeros((2,2)), columns = ['strat', 'score'])\n",
    "        self.strategies['strat'] = self.strategies['strat'].apply(lambda x:Strategy())\n",
    "        self.strategies['score'] = self.strategies['strat'].apply(self.evaluate)\n",
    "\n",
    "\n",
    "    def fit(self, cycles):\n",
    "        \"\"\" Run evolution for n cycles \"\"\"\n",
    "        i = 0\n",
    "        while i < cycles:\n",
    "            self.reproduce()\n",
    "            # self.select()\n",
    "\n",
    "            i += 1\n",
    "\n",
    "    def best_strategy(self):\n",
    "        \"\"\" Sort and return top perform in available strategies \"\"\"\n",
    "\n",
    "        self.strategies =  self.strategies.sort_values(by='score', ascending=False)\n",
    "        self.strategies.iloc[0, 0].report()\n",
    "        print(\"score: {:.4f}\".format(self.strategies.iloc[0, 1]))\n",
    "\n",
    "    def evaluate(self, strat):\n",
    "        \"\"\" To implement: \n",
    "            Should evaluate only for those which value is zero, to avoid the cost of re-evaluating \n",
    "        \"\"\"\n",
    "        return self.backtester.evaluate(*strat.inform_params())\n",
    "\n",
    "    def reproduce(self):\n",
    "        \"\"\" Create new strategy based on its parents. \"\"\"\n",
    "\n",
    "        # sort and take top two performers in the list\n",
    "        parents = self.strategies.sort_values(by='score', ascending=False).iloc[:2, 0]\n",
    "\n",
    "        # create six offsprings\n",
    "        for _ in range(6):\n",
    "            stratN = self.crossover(*parents)\n",
    "            stratN.mutate()\n",
    "            # setting with enlargement using index based selection (not available for position based)\n",
    "            self.strategies.ix[self.strategies.shape[0]] = (stratN, self.evaluate(stratN))\n",
    "\n",
    "            # remove identical offspring, there is no use\n",
    "\n",
    "    def crossover(self, stratA, stratB):\n",
    "        \"\"\" Choose between parents attributes randomly. Return new strategy \"\"\"\n",
    "\n",
    "        span = np.random.choice([stratA.span, stratB.span])\n",
    "        stop_loss = np.random.choice([stratA.stop_loss, stratB.stop_loss])\n",
    "        profit_margin = np.random.choice([stratA.profit_margin, stratB.profit_margin])\n",
    "        return Strategy(span=span, stop_loss=stop_loss, profit_margin=profit_margin)\n",
    "\n",
    "    def select(self):\n",
    "        \"\"\" Remove strategies which are bad performers \n",
    "            Define bad as 50 percent worst than best \"\"\"\n",
    "\n",
    "        # define cut off score as 50% of the max score\n",
    "        cut_off = self.strategies['score'].max() * .75\n",
    "        # remove strategies with scores below the cut-off\n",
    "        self.strategies = self.strategies[self.strategies['score'] >= cut_off]\n",
    "\n"
   ]
  },
  {
   "cell_type": "code",
   "execution_count": 456,
   "metadata": {
    "collapsed": false
   },
   "outputs": [
    {
     "name": "stdout",
     "output_type": "stream",
     "text": [
      "span: 7, profit_margin: 0.060, stop_loss: 0.040 --  score: 0.000\n",
      "span: 7, profit_margin: 0.060, stop_loss: 0.040 --  score: 0.000\n",
      "span: 7, profit_margin: 0.060, stop_loss: 0.052 --  score: 0.000\n",
      "span: 9, profit_margin: 0.060, stop_loss: 0.040 --  score: 0.100\n",
      "span: 7, profit_margin: 0.060, stop_loss: 0.028 --  score: 0.000\n",
      "span: 5, profit_margin: 0.060, stop_loss: 0.040 --  score: 0.000\n",
      "span: 7, profit_margin: 0.060, stop_loss: 0.052 --  score: 0.000\n",
      "span: 9, profit_margin: 0.060, stop_loss: 0.040 --  score: 0.100\n",
      "span: 11, profit_margin: 0.060, stop_loss: 0.040 --  score: 0.000\n",
      "span: 11, profit_margin: 0.060, stop_loss: 0.040 --  score: 0.000\n",
      "span: 9, profit_margin: 0.060, stop_loss: 0.052 --  score: 0.000\n",
      "span: 9, profit_margin: 0.042, stop_loss: 0.040 --  score: 0.153\n",
      "span: 11, profit_margin: 0.060, stop_loss: 0.040 --  score: 0.000\n",
      "span: 9, profit_margin: 0.060, stop_loss: 0.052 --  score: 0.000\n",
      "span: 9, profit_margin: 0.029, stop_loss: 0.040 --  score: 0.025\n",
      "span: 9, profit_margin: 0.042, stop_loss: 0.028 --  score: 0.200\n",
      "span: 9, profit_margin: 0.055, stop_loss: 0.040 --  score: 0.050\n",
      "span: 11, profit_margin: 0.042, stop_loss: 0.040 --  score: 0.142\n",
      "span: 9, profit_margin: 0.029, stop_loss: 0.040 --  score: 0.025\n",
      "span: 7, profit_margin: 0.060, stop_loss: 0.040 --  score: 0.000\n",
      "span: 9, profit_margin: 0.029, stop_loss: 0.028 --  score: 0.158\n",
      "span: 9, profit_margin: 0.055, stop_loss: 0.028 --  score: 0.033\n",
      "span: 9, profit_margin: 0.042, stop_loss: 0.052 --  score: 0.100\n",
      "span: 9, profit_margin: 0.029, stop_loss: 0.028 --  score: 0.158\n",
      "span: 9, profit_margin: 0.042, stop_loss: 0.036 --  score: 0.100\n",
      "span: 9, profit_margin: 0.042, stop_loss: 0.028 --  score: 0.200\n",
      "span: 11, profit_margin: 0.042, stop_loss: 0.028 --  score: 0.335\n",
      "span: 7, profit_margin: 0.042, stop_loss: 0.028 --  score: 0.050\n",
      "span: 9, profit_margin: 0.029, stop_loss: 0.028 --  score: 0.275\n",
      "span: 9, profit_margin: 0.029, stop_loss: 0.028 --  score: 0.275\n",
      "span: 9, profit_margin: 0.042, stop_loss: 0.020 --  score: 0.350\n",
      "span: 9, profit_margin: 0.042, stop_loss: 0.036 --  score: 0.033\n",
      "span: 9, profit_margin: 0.042, stop_loss: 0.020 --  score: 0.350\n",
      "span: 11, profit_margin: 0.055, stop_loss: 0.020 --  score: 0.117\n",
      "span: 11, profit_margin: 0.055, stop_loss: 0.020 --  score: 0.117\n",
      "span: 9, profit_margin: 0.042, stop_loss: 0.014 --  score: 0.193\n",
      "span: 13, profit_margin: 0.042, stop_loss: 0.028 --  score: 0.356\n",
      "span: 9, profit_margin: 0.042, stop_loss: 0.036 --  score: 0.033\n",
      "span: 9, profit_margin: 0.042, stop_loss: 0.036 --  score: 0.033\n",
      "span: 9, profit_margin: 0.042, stop_loss: 0.020 --  score: 0.350\n",
      "span: 13, profit_margin: 0.055, stop_loss: 0.020 --  score: 0.446\n",
      "span: 15, profit_margin: 0.042, stop_loss: 0.020 --  score: 0.489\n",
      "span: 9, profit_margin: 0.042, stop_loss: 0.014 --  score: 0.193\n",
      "span: 13, profit_margin: 0.055, stop_loss: 0.020 --  score: 0.446\n",
      "span: 15, profit_margin: 0.029, stop_loss: 0.020 --  score: 0.394\n",
      "span: 13, profit_margin: 0.029, stop_loss: 0.020 --  score: 0.425\n",
      "span: 13, profit_margin: 0.042, stop_loss: 0.025 --  score: 0.417\n",
      "span: 13, profit_margin: 0.042, stop_loss: 0.025 --  score: 0.417\n",
      "span: 17, profit_margin: 0.055, stop_loss: 0.020 --  score: 0.496\n",
      "span: 13, profit_margin: 0.038, stop_loss: 0.020 --  score: 0.362\n",
      "span: 19, profit_margin: 0.042, stop_loss: 0.020 --  score: 0.615\n",
      "span: 17, profit_margin: 0.055, stop_loss: 0.020 --  score: 0.496\n",
      "span: 19, profit_margin: 0.042, stop_loss: 0.020 --  score: 0.615\n",
      "span: 15, profit_margin: 0.042, stop_loss: 0.025 --  score: 0.447\n",
      "span: 15, profit_margin: 0.055, stop_loss: 0.025 --  score: 0.398\n",
      "span: 17, profit_margin: 0.042, stop_loss: 0.020 --  score: 0.511\n",
      "span: 17, profit_margin: 0.042, stop_loss: 0.020 --  score: 0.511\n",
      "span: 17, profit_margin: 0.042, stop_loss: 0.020 --  score: 0.511\n",
      "span: 19, profit_margin: 0.029, stop_loss: 0.020 --  score: 0.576\n",
      "span: 17, profit_margin: 0.042, stop_loss: 0.020 --  score: 0.511\n",
      "span: 19, profit_margin: 0.055, stop_loss: 0.020 --  score: 0.460\n",
      "span: 19, profit_margin: 0.042, stop_loss: 0.025 --  score: 0.463\n",
      "span: 19, profit_margin: 0.029, stop_loss: 0.020 --  score: 0.576\n",
      "span: 19, profit_margin: 0.042, stop_loss: 0.014 --  score: 0.527\n",
      "span: 19, profit_margin: 0.029, stop_loss: 0.020 --  score: 0.576\n",
      "span: 19, profit_margin: 0.055, stop_loss: 0.020 --  score: 0.460\n",
      "span: 19, profit_margin: 0.029, stop_loss: 0.020 --  score: 0.576\n",
      "span: 19, profit_margin: 0.042, stop_loss: 0.014 --  score: 0.527\n",
      "span: 19, profit_margin: 0.042, stop_loss: 0.025 --  score: 0.463\n",
      "span: 17, profit_margin: 0.042, stop_loss: 0.020 --  score: 0.511\n",
      "span: 17, profit_margin: 0.042, stop_loss: 0.020 --  score: 0.511\n",
      "span: 17, profit_margin: 0.042, stop_loss: 0.020 --  score: 0.511\n",
      "span: 19, profit_margin: 0.042, stop_loss: 0.014 --  score: 0.527\n",
      "span: 19, profit_margin: 0.029, stop_loss: 0.020 --  score: 0.576\n",
      "span: 19, profit_margin: 0.042, stop_loss: 0.025 --  score: 0.463\n",
      "span: 21, profit_margin: 0.042, stop_loss: 0.020 --  score: 0.611\n",
      "span: 19, profit_margin: 0.042, stop_loss: 0.014 --  score: 0.527\n",
      "span: 17, profit_margin: 0.042, stop_loss: 0.020 --  score: 0.511\n",
      "span: 19, profit_margin: 0.042, stop_loss: 0.025 --  score: 0.463\n",
      "span: 19, profit_margin: 0.042, stop_loss: 0.014 --  score: 0.527\n",
      "span: 19, profit_margin: 0.055, stop_loss: 0.020 --  score: 0.460\n",
      "span: 19, profit_margin: 0.042, stop_loss: 0.025 --  score: 0.463\n",
      "span: 19, profit_margin: 0.042, stop_loss: 0.014 --  score: 0.527\n",
      "span: 19, profit_margin: 0.055, stop_loss: 0.020 --  score: 0.460\n",
      "span: 19, profit_margin: 0.042, stop_loss: 0.025 --  score: 0.463\n",
      "span: 19, profit_margin: 0.055, stop_loss: 0.020 --  score: 0.460\n",
      "span: 19, profit_margin: 0.055, stop_loss: 0.020 --  score: 0.460\n",
      "span: 19, profit_margin: 0.055, stop_loss: 0.020 --  score: 0.460\n",
      "span: 19, profit_margin: 0.042, stop_loss: 0.025 --  score: 0.463\n",
      "span: 17, profit_margin: 0.042, stop_loss: 0.020 --  score: 0.511\n",
      "span: 19, profit_margin: 0.055, stop_loss: 0.020 --  score: 0.460\n",
      "span: 19, profit_margin: 0.042, stop_loss: 0.025 --  score: 0.463\n",
      "span: 19, profit_margin: 0.055, stop_loss: 0.020 --  score: 0.460\n",
      "span: 17, profit_margin: 0.042, stop_loss: 0.020 --  score: 0.511\n",
      "span: 21, profit_margin: 0.042, stop_loss: 0.020 --  score: 0.611\n",
      "span: 17, profit_margin: 0.042, stop_loss: 0.020 --  score: 0.511\n",
      "span: 21, profit_margin: 0.042, stop_loss: 0.020 --  score: 0.611\n",
      "span: 19, profit_margin: 0.042, stop_loss: 0.014 --  score: 0.527\n",
      "span: 19, profit_margin: 0.042, stop_loss: 0.014 --  score: 0.527\n",
      "span: 19, profit_margin: 0.042, stop_loss: 0.025 --  score: 0.463\n",
      "span: 19, profit_margin: 0.055, stop_loss: 0.020 --  score: 0.460\n",
      "span: 19, profit_margin: 0.055, stop_loss: 0.020 --  score: 0.460\n",
      "span: 19, profit_margin: 0.042, stop_loss: 0.025 --  score: 0.463\n",
      "span: 19, profit_margin: 0.042, stop_loss: 0.025 --  score: 0.463\n",
      "span: 17, profit_margin: 0.042, stop_loss: 0.020 --  score: 0.511\n",
      "span: 19, profit_margin: 0.055, stop_loss: 0.020 --  score: 0.460\n",
      "span: 21, profit_margin: 0.042, stop_loss: 0.020 --  score: 0.604\n",
      "span: 17, profit_margin: 0.042, stop_loss: 0.020 --  score: 0.511\n",
      "span: 19, profit_margin: 0.029, stop_loss: 0.020 --  score: 0.576\n",
      "span: 19, profit_margin: 0.042, stop_loss: 0.014 --  score: 0.527\n",
      "span: 19, profit_margin: 0.042, stop_loss: 0.025 --  score: 0.463\n",
      "span: 17, profit_margin: 0.042, stop_loss: 0.020 --  score: 0.511\n",
      "span: 19, profit_margin: 0.029, stop_loss: 0.020 --  score: 0.576\n",
      "span: 17, profit_margin: 0.042, stop_loss: 0.020 --  score: 0.511\n",
      "span: 19, profit_margin: 0.042, stop_loss: 0.014 --  score: 0.527\n",
      "span: 17, profit_margin: 0.042, stop_loss: 0.020 --  score: 0.511\n",
      "span: 19, profit_margin: 0.029, stop_loss: 0.020 --  score: 0.576\n",
      "span: 19, profit_margin: 0.055, stop_loss: 0.020 --  score: 0.460\n",
      "span: 19, profit_margin: 0.055, stop_loss: 0.020 --  score: 0.460\n",
      "span: 21, profit_margin: 0.042, stop_loss: 0.020 --  score: 0.604\n",
      "span: 19, profit_margin: 0.042, stop_loss: 0.014 --  score: 0.527\n",
      "span: 21, profit_margin: 0.042, stop_loss: 0.020 --  score: 0.611\n",
      "span: 19, profit_margin: 0.042, stop_loss: 0.020\n",
      "score: 0.6145\n"
     ]
    }
   ],
   "source": [
    "# ga = GA(df)\n",
    "# ga.fit(20)\n",
    "# ga.best_strategy()"
   ]
  },
  {
   "cell_type": "markdown",
   "metadata": {},
   "source": [
    "GA is not helping too much. I will leave this as an option to optimize in the end, but for now, I will go back to the basics.\n",
    "\n",
    "I went in the PCA line. Let's try feature selecting and see what results we can get"
   ]
  },
  {
   "cell_type": "markdown",
   "metadata": {},
   "source": [
    "### Feature Selection"
   ]
  },
  {
   "cell_type": "markdown",
   "metadata": {},
   "source": [
    "How many features is the optimal number?\n",
    "Which classifier should I use?\n",
    "Which parameter can I get?"
   ]
  },
  {
   "cell_type": "code",
   "execution_count": null,
   "metadata": {
    "collapsed": true
   },
   "outputs": [],
   "source": []
  },
  {
   "cell_type": "code",
   "execution_count": null,
   "metadata": {
    "collapsed": true
   },
   "outputs": [],
   "source": []
  },
  {
   "cell_type": "code",
   "execution_count": 260,
   "metadata": {
    "collapsed": true
   },
   "outputs": [],
   "source": [
    "# results with 10 folds (stratified), precision"
   ]
  },
  {
   "cell_type": "markdown",
   "metadata": {},
   "source": [
    "### Removed code"
   ]
  },
  {
   "cell_type": "code",
   "execution_count": 312,
   "metadata": {
    "collapsed": false
   },
   "outputs": [
    {
     "name": "stdout",
     "output_type": "stream",
     "text": [
      "[1417   95]\n",
      "[158  10]\n",
      "[1418   94]\n",
      "[157  11]\n",
      "[1418   94]\n",
      "[157  11]\n",
      "[1417   95]\n",
      "[158  10]\n",
      "[1417   95]\n",
      "[158  10]\n",
      "[1417   95]\n",
      "[158  10]\n",
      "[1417   95]\n",
      "[158  10]\n",
      "[1417   95]\n",
      "[158  10]\n",
      "[1418   94]\n",
      "[157  11]\n",
      "[1417   95]\n",
      "[158  10]\n"
     ]
    }
   ],
   "source": [
    "# this is just a test.\n",
    "# it shows the proportions have been kept in the training label\n",
    "# gotta find another explanation for the errors show in the PCA\n",
    "cv.get_n_splits(X_transformed, y)\n",
    "for train_index, test_index in cv.split(X_transformed, y):\n",
    "    y_train, y_test = y[train_index], y[test_index]\n",
    "    print(np.bincount(y_train.astype(int)))\n",
    "    print(np.bincount(y_test.astype(int)))"
   ]
  },
  {
   "cell_type": "code",
   "execution_count": 192,
   "metadata": {
    "collapsed": false
   },
   "outputs": [
    {
     "data": {
      "text/plain": [
       "Open-1                                     0.156083\n",
       "High-1                                     0.120690\n",
       "Low-1                                      0.132010\n",
       "Close-1                                    0.147989\n",
       "Volume-1                                   2.367895\n",
       "Adj Close-1                                0.147519\n",
       "Dow Jones index-1                          0.051414\n",
       "Exchange Rate USD Sell-1                   0.050253\n",
       "BM&F Gold gramme-1                         0.083007\n",
       "Exchange Rate USD Buy-1                    0.050178\n",
       "Selic-1                                    0.000000\n",
       "Bovespa index-1                            0.093836\n",
       "Foreign exchange operations balance-1      9.747550\n",
       "Nasdaq index-1                             0.062282\n",
       "Bovespa total volume-1                     1.586686\n",
       "International Reserves-1                   0.007990\n",
       "Open-2                                     0.214939\n",
       "High-2                                     0.203080\n",
       "Low-2                                      0.210523\n",
       "Close-2                                    0.209344\n",
       "Volume-2                                   2.612202\n",
       "Adj Close-2                                0.209776\n",
       "Dow Jones index-2                          0.076956\n",
       "Exchange Rate USD Sell-2                   0.076940\n",
       "BM&F Gold gramme-2                         0.106570\n",
       "Exchange Rate USD Buy-2                    0.076961\n",
       "Selic-2                                    0.000000\n",
       "Bovespa index-2                            0.143908\n",
       "Foreign exchange operations balance-2      9.902256\n",
       "Nasdaq index-2                             0.096183\n",
       "                                            ...    \n",
       "Low-29                                     0.966176\n",
       "Close-29                                   0.952885\n",
       "Volume-29                                  3.405761\n",
       "Adj Close-29                               0.956866\n",
       "Dow Jones index-29                         0.287918\n",
       "Exchange Rate USD Sell-29                  0.360136\n",
       "BM&F Gold gramme-29                        0.378698\n",
       "Exchange Rate USD Buy-29                   0.360311\n",
       "Selic-29                                   0.196078\n",
       "Bovespa index-29                           0.565755\n",
       "Foreign exchange operations balance-29    10.250626\n",
       "Nasdaq index-29                            0.335896\n",
       "Bovespa total volume-29                    2.188822\n",
       "International Reserves-29                  0.109573\n",
       "Open-30                                    0.981839\n",
       "High-30                                    0.976825\n",
       "Low-30                                     0.991814\n",
       "Close-30                                   0.966917\n",
       "Volume-30                                  3.458307\n",
       "Adj Close-30                               0.966178\n",
       "Dow Jones index-30                         0.287483\n",
       "Exchange Rate USD Sell-30                  0.361586\n",
       "BM&F Gold gramme-30                        0.391028\n",
       "Exchange Rate USD Buy-30                   0.361731\n",
       "Selic-30                                   0.196078\n",
       "Bovespa index-30                           0.583165\n",
       "Foreign exchange operations balance-30    10.223273\n",
       "Nasdaq index-30                            0.340875\n",
       "Bovespa total volume-30                    2.248923\n",
       "International Reserves-30                  0.114362\n",
       "dtype: float64"
      ]
     },
     "execution_count": 192,
     "metadata": {},
     "output_type": "execute_result"
    }
   ],
   "source": [
    "# outlier detection\n",
    "# vectorized\n",
    "# calculate step = (q3-q1*1.5)\n",
    "\n",
    "df.quantile(.5)\n",
    "(df.quantile(.75) - df.quantile(.25))*5\n",
    "\n",
    "# don't remove outliers for now. come back to this point later"
   ]
  },
  {
   "cell_type": "code",
   "execution_count": null,
   "metadata": {
    "collapsed": true
   },
   "outputs": [],
   "source": [
    "# okay, I've got a all this data - is a lot - I need to drop the original columns, they are irrelevant. \n",
    "# drop or scale. I will drop for now"
   ]
  },
  {
   "cell_type": "code",
   "execution_count": 94,
   "metadata": {
    "collapsed": false
   },
   "outputs": [
    {
     "name": "stdout",
     "output_type": "stream",
     "text": [
      "Open\n",
      "High\n",
      "Low\n",
      "Close\n",
      "Volume\n",
      "Adj Close\n",
      "Bovespa total volume\n",
      "Foreign exchange operations balance\n",
      "BM&F Gold gramme\n",
      "Bovespa index\n",
      "Exchange Rate USD Buy\n",
      "Dow Jones index\n",
      "International Reserves\n",
      "Selic\n",
      "Exchange Rate USD Sell\n",
      "Nasdaq index\n"
     ]
    }
   ],
   "source": [
    "for a,b in new_row.items():\n",
    "    print(a)"
   ]
  },
  {
   "cell_type": "code",
   "execution_count": null,
   "metadata": {
    "collapsed": true
   },
   "outputs": [],
   "source": []
  },
  {
   "cell_type": "code",
   "execution_count": 112,
   "metadata": {
    "collapsed": false
   },
   "outputs": [],
   "source": [
    "#testing\n",
    "#inspection_cols = ['Open', 'High', 'Low']\n",
    "#cols = list(inspection_cols) + \\\n",
    "#        list(map(lambda x: \"{}-{}\".format(x,1), inspection_cols)) + \\\n",
    "#        list(map(lambda x: \"{}-{}\".format(x,2), inspection_cols))"
   ]
  },
  {
   "cell_type": "code",
   "execution_count": 12,
   "metadata": {
    "collapsed": false
   },
   "outputs": [],
   "source": [
    "# will run forever. this will not work\n",
    "def create_features(df, base = 7):\n",
    "    \"\"\" - Get a basis, X days before, and calculate all the other variables on that basis\n",
    "        - Lookup_idx calculation: will look to 7 days before, including this one.\n",
    "            7 - (7-1) = 7 - 6 = 1\n",
    "            7 - (7-2) = 7 - 5 = 2\n",
    "            ...\n",
    "            7 - (7-7) = 7 -0 = 7  \n",
    "            \n",
    "        - Should not return n/as\n",
    "    \"\"\"\n",
    "    for idx, row in enumerate(df.iterrows()):\n",
    "        if idx>=base:\n",
    "            base_row = df.iloc[idx-base, :]\n",
    "            for n in range(1,base+1):\n",
    "                lookup_idx = idx-(base-n)\n",
    "                new_row = df.iloc[lookup_idx, :] / base_row\n",
    "                for col, value in new_row.items():\n",
    "                    df.ix[idx, col+\"-\"+str(n)] = value\n",
    "    return df\n"
   ]
  },
  {
   "cell_type": "code",
   "execution_count": 180,
   "metadata": {
    "collapsed": true
   },
   "outputs": [
    {
     "name": "stdout",
     "output_type": "stream",
     "text": [
      "Data points considered outliers for the feature 'Open-1':\n"
     ]
    },
    {
     "data": {
      "text/plain": [
       "(77, 480)"
      ]
     },
     "metadata": {},
     "output_type": "display_data"
    },
    {
     "name": "stdout",
     "output_type": "stream",
     "text": [
      "Data points considered outliers for the feature 'High-1':\n"
     ]
    },
    {
     "data": {
      "text/plain": [
       "(127, 480)"
      ]
     },
     "metadata": {},
     "output_type": "display_data"
    },
    {
     "name": "stdout",
     "output_type": "stream",
     "text": [
      "Data points considered outliers for the feature 'Low-1':\n"
     ]
    },
    {
     "data": {
      "text/plain": [
       "(93, 480)"
      ]
     },
     "metadata": {},
     "output_type": "display_data"
    },
    {
     "name": "stdout",
     "output_type": "stream",
     "text": [
      "Data points considered outliers for the feature 'Close-1':\n"
     ]
    },
    {
     "data": {
      "text/plain": [
       "(95, 480)"
      ]
     },
     "metadata": {},
     "output_type": "display_data"
    },
    {
     "name": "stdout",
     "output_type": "stream",
     "text": [
      "Data points considered outliers for the feature 'Volume-1':\n"
     ]
    },
    {
     "data": {
      "text/plain": [
       "(63, 480)"
      ]
     },
     "metadata": {},
     "output_type": "display_data"
    },
    {
     "name": "stdout",
     "output_type": "stream",
     "text": [
      "Data points considered outliers for the feature 'Adj Close-1':\n"
     ]
    },
    {
     "data": {
      "text/plain": [
       "(94, 480)"
      ]
     },
     "metadata": {},
     "output_type": "display_data"
    },
    {
     "name": "stdout",
     "output_type": "stream",
     "text": [
      "Data points considered outliers for the feature 'Dow Jones index-1':\n"
     ]
    },
    {
     "data": {
      "text/plain": [
       "(131, 480)"
      ]
     },
     "metadata": {},
     "output_type": "display_data"
    },
    {
     "name": "stdout",
     "output_type": "stream",
     "text": [
      "Data points considered outliers for the feature 'Exchange Rate USD Sell-1':\n"
     ]
    },
    {
     "data": {
      "text/plain": [
       "(94, 480)"
      ]
     },
     "metadata": {},
     "output_type": "display_data"
    },
    {
     "name": "stdout",
     "output_type": "stream",
     "text": [
      "Data points considered outliers for the feature 'BM&F Gold gramme-1':\n"
     ]
    },
    {
     "data": {
      "text/plain": [
       "(60, 480)"
      ]
     },
     "metadata": {},
     "output_type": "display_data"
    },
    {
     "name": "stdout",
     "output_type": "stream",
     "text": [
      "Data points considered outliers for the feature 'Exchange Rate USD Buy-1':\n"
     ]
    },
    {
     "data": {
      "text/plain": [
       "(96, 480)"
      ]
     },
     "metadata": {},
     "output_type": "display_data"
    },
    {
     "name": "stdout",
     "output_type": "stream",
     "text": [
      "Data points considered outliers for the feature 'Selic-1':\n"
     ]
    },
    {
     "data": {
      "text/plain": [
       "(38, 480)"
      ]
     },
     "metadata": {},
     "output_type": "display_data"
    },
    {
     "name": "stdout",
     "output_type": "stream",
     "text": [
      "Data points considered outliers for the feature 'Bovespa index-1':\n"
     ]
    },
    {
     "data": {
      "text/plain": [
       "(62, 480)"
      ]
     },
     "metadata": {},
     "output_type": "display_data"
    },
    {
     "name": "stdout",
     "output_type": "stream",
     "text": [
      "Data points considered outliers for the feature 'Foreign exchange operations balance-1':\n"
     ]
    },
    {
     "data": {
      "text/plain": [
       "(255, 480)"
      ]
     },
     "metadata": {},
     "output_type": "display_data"
    },
    {
     "name": "stdout",
     "output_type": "stream",
     "text": [
      "Data points considered outliers for the feature 'Nasdaq index-1':\n"
     ]
    },
    {
     "data": {
      "text/plain": [
       "(130, 480)"
      ]
     },
     "metadata": {},
     "output_type": "display_data"
    },
    {
     "name": "stdout",
     "output_type": "stream",
     "text": [
      "Data points considered outliers for the feature 'Bovespa total volume-1':\n"
     ]
    },
    {
     "data": {
      "text/plain": [
       "(95, 480)"
      ]
     },
     "metadata": {},
     "output_type": "display_data"
    },
    {
     "name": "stdout",
     "output_type": "stream",
     "text": [
      "Data points considered outliers for the feature 'International Reserves-1':\n"
     ]
    },
    {
     "data": {
      "text/plain": [
       "(158, 480)"
      ]
     },
     "metadata": {},
     "output_type": "display_data"
    },
    {
     "name": "stdout",
     "output_type": "stream",
     "text": [
      "Data points considered outliers for the feature 'Open-2':\n"
     ]
    },
    {
     "data": {
      "text/plain": [
       "(76, 480)"
      ]
     },
     "metadata": {},
     "output_type": "display_data"
    },
    {
     "name": "stdout",
     "output_type": "stream",
     "text": [
      "Data points considered outliers for the feature 'High-2':\n"
     ]
    },
    {
     "data": {
      "text/plain": [
       "(79, 480)"
      ]
     },
     "metadata": {},
     "output_type": "display_data"
    },
    {
     "name": "stdout",
     "output_type": "stream",
     "text": [
      "Data points considered outliers for the feature 'Low-2':\n"
     ]
    },
    {
     "data": {
      "text/plain": [
       "(77, 480)"
      ]
     },
     "metadata": {},
     "output_type": "display_data"
    },
    {
     "name": "stdout",
     "output_type": "stream",
     "text": [
      "Data points considered outliers for the feature 'Close-2':\n"
     ]
    },
    {
     "data": {
      "text/plain": [
       "(105, 480)"
      ]
     },
     "metadata": {},
     "output_type": "display_data"
    },
    {
     "name": "stdout",
     "output_type": "stream",
     "text": [
      "Data points considered outliers for the feature 'Volume-2':\n"
     ]
    },
    {
     "data": {
      "text/plain": [
       "(69, 480)"
      ]
     },
     "metadata": {},
     "output_type": "display_data"
    },
    {
     "name": "stdout",
     "output_type": "stream",
     "text": [
      "Data points considered outliers for the feature 'Adj Close-2':\n"
     ]
    },
    {
     "data": {
      "text/plain": [
       "(105, 480)"
      ]
     },
     "metadata": {},
     "output_type": "display_data"
    },
    {
     "name": "stdout",
     "output_type": "stream",
     "text": [
      "Data points considered outliers for the feature 'Dow Jones index-2':\n"
     ]
    },
    {
     "data": {
      "text/plain": [
       "(108, 480)"
      ]
     },
     "metadata": {},
     "output_type": "display_data"
    },
    {
     "name": "stdout",
     "output_type": "stream",
     "text": [
      "Data points considered outliers for the feature 'Exchange Rate USD Sell-2':\n"
     ]
    },
    {
     "data": {
      "text/plain": [
       "(82, 480)"
      ]
     },
     "metadata": {},
     "output_type": "display_data"
    },
    {
     "name": "stdout",
     "output_type": "stream",
     "text": [
      "Data points considered outliers for the feature 'BM&F Gold gramme-2':\n"
     ]
    },
    {
     "data": {
      "text/plain": [
       "(68, 480)"
      ]
     },
     "metadata": {},
     "output_type": "display_data"
    },
    {
     "name": "stdout",
     "output_type": "stream",
     "text": [
      "Data points considered outliers for the feature 'Exchange Rate USD Buy-2':\n"
     ]
    },
    {
     "data": {
      "text/plain": [
       "(82, 480)"
      ]
     },
     "metadata": {},
     "output_type": "display_data"
    },
    {
     "name": "stdout",
     "output_type": "stream",
     "text": [
      "Data points considered outliers for the feature 'Selic-2':\n"
     ]
    },
    {
     "data": {
      "text/plain": [
       "(76, 480)"
      ]
     },
     "metadata": {},
     "output_type": "display_data"
    },
    {
     "name": "stdout",
     "output_type": "stream",
     "text": [
      "Data points considered outliers for the feature 'Bovespa index-2':\n"
     ]
    },
    {
     "data": {
      "text/plain": [
       "(50, 480)"
      ]
     },
     "metadata": {},
     "output_type": "display_data"
    },
    {
     "name": "stdout",
     "output_type": "stream",
     "text": [
      "Data points considered outliers for the feature 'Foreign exchange operations balance-2':\n"
     ]
    },
    {
     "data": {
      "text/plain": [
       "(294, 480)"
      ]
     },
     "metadata": {},
     "output_type": "display_data"
    },
    {
     "name": "stdout",
     "output_type": "stream",
     "text": [
      "Data points considered outliers for the feature 'Nasdaq index-2':\n"
     ]
    },
    {
     "data": {
      "text/plain": [
       "(100, 480)"
      ]
     },
     "metadata": {},
     "output_type": "display_data"
    },
    {
     "name": "stdout",
     "output_type": "stream",
     "text": [
      "Data points considered outliers for the feature 'Bovespa total volume-2':\n"
     ]
    },
    {
     "data": {
      "text/plain": [
       "(88, 480)"
      ]
     },
     "metadata": {},
     "output_type": "display_data"
    },
    {
     "name": "stdout",
     "output_type": "stream",
     "text": [
      "Data points considered outliers for the feature 'International Reserves-2':\n"
     ]
    },
    {
     "data": {
      "text/plain": [
       "(137, 480)"
      ]
     },
     "metadata": {},
     "output_type": "display_data"
    },
    {
     "name": "stdout",
     "output_type": "stream",
     "text": [
      "Data points considered outliers for the feature 'Open-3':\n"
     ]
    },
    {
     "data": {
      "text/plain": [
       "(78, 480)"
      ]
     },
     "metadata": {},
     "output_type": "display_data"
    },
    {
     "name": "stdout",
     "output_type": "stream",
     "text": [
      "Data points considered outliers for the feature 'High-3':\n"
     ]
    },
    {
     "data": {
      "text/plain": [
       "(99, 480)"
      ]
     },
     "metadata": {},
     "output_type": "display_data"
    },
    {
     "name": "stdout",
     "output_type": "stream",
     "text": [
      "Data points considered outliers for the feature 'Low-3':\n"
     ]
    },
    {
     "data": {
      "text/plain": [
       "(75, 480)"
      ]
     },
     "metadata": {},
     "output_type": "display_data"
    },
    {
     "name": "stdout",
     "output_type": "stream",
     "text": [
      "Data points considered outliers for the feature 'Close-3':\n"
     ]
    },
    {
     "data": {
      "text/plain": [
       "(81, 480)"
      ]
     },
     "metadata": {},
     "output_type": "display_data"
    },
    {
     "name": "stdout",
     "output_type": "stream",
     "text": [
      "Data points considered outliers for the feature 'Volume-3':\n"
     ]
    },
    {
     "data": {
      "text/plain": [
       "(64, 480)"
      ]
     },
     "metadata": {},
     "output_type": "display_data"
    },
    {
     "name": "stdout",
     "output_type": "stream",
     "text": [
      "Data points considered outliers for the feature 'Adj Close-3':\n"
     ]
    },
    {
     "data": {
      "text/plain": [
       "(78, 480)"
      ]
     },
     "metadata": {},
     "output_type": "display_data"
    },
    {
     "name": "stdout",
     "output_type": "stream",
     "text": [
      "Data points considered outliers for the feature 'Dow Jones index-3':\n"
     ]
    },
    {
     "data": {
      "text/plain": [
       "(100, 480)"
      ]
     },
     "metadata": {},
     "output_type": "display_data"
    },
    {
     "name": "stdout",
     "output_type": "stream",
     "text": [
      "Data points considered outliers for the feature 'Exchange Rate USD Sell-3':\n"
     ]
    },
    {
     "data": {
      "text/plain": [
       "(80, 480)"
      ]
     },
     "metadata": {},
     "output_type": "display_data"
    },
    {
     "name": "stdout",
     "output_type": "stream",
     "text": [
      "Data points considered outliers for the feature 'BM&F Gold gramme-3':\n"
     ]
    },
    {
     "data": {
      "text/plain": [
       "(64, 480)"
      ]
     },
     "metadata": {},
     "output_type": "display_data"
    },
    {
     "name": "stdout",
     "output_type": "stream",
     "text": [
      "Data points considered outliers for the feature 'Exchange Rate USD Buy-3':\n"
     ]
    },
    {
     "data": {
      "text/plain": [
       "(80, 480)"
      ]
     },
     "metadata": {},
     "output_type": "display_data"
    },
    {
     "name": "stdout",
     "output_type": "stream",
     "text": [
      "Data points considered outliers for the feature 'Selic-3':\n"
     ]
    },
    {
     "data": {
      "text/plain": [
       "(114, 480)"
      ]
     },
     "metadata": {},
     "output_type": "display_data"
    },
    {
     "name": "stdout",
     "output_type": "stream",
     "text": [
      "Data points considered outliers for the feature 'Bovespa index-3':\n"
     ]
    },
    {
     "data": {
      "text/plain": [
       "(46, 480)"
      ]
     },
     "metadata": {},
     "output_type": "display_data"
    },
    {
     "name": "stdout",
     "output_type": "stream",
     "text": [
      "Data points considered outliers for the feature 'Foreign exchange operations balance-3':\n"
     ]
    },
    {
     "data": {
      "text/plain": [
       "(286, 480)"
      ]
     },
     "metadata": {},
     "output_type": "display_data"
    },
    {
     "name": "stdout",
     "output_type": "stream",
     "text": [
      "Data points considered outliers for the feature 'Nasdaq index-3':\n"
     ]
    },
    {
     "data": {
      "text/plain": [
       "(76, 480)"
      ]
     },
     "metadata": {},
     "output_type": "display_data"
    },
    {
     "name": "stdout",
     "output_type": "stream",
     "text": [
      "Data points considered outliers for the feature 'Bovespa total volume-3':\n"
     ]
    },
    {
     "data": {
      "text/plain": [
       "(76, 480)"
      ]
     },
     "metadata": {},
     "output_type": "display_data"
    },
    {
     "name": "stdout",
     "output_type": "stream",
     "text": [
      "Data points considered outliers for the feature 'International Reserves-3':\n"
     ]
    },
    {
     "data": {
      "text/plain": [
       "(115, 480)"
      ]
     },
     "metadata": {},
     "output_type": "display_data"
    },
    {
     "name": "stdout",
     "output_type": "stream",
     "text": [
      "Data points considered outliers for the feature 'Open-4':\n"
     ]
    },
    {
     "data": {
      "text/plain": [
       "(85, 480)"
      ]
     },
     "metadata": {},
     "output_type": "display_data"
    },
    {
     "name": "stdout",
     "output_type": "stream",
     "text": [
      "Data points considered outliers for the feature 'High-4':\n"
     ]
    },
    {
     "data": {
      "text/plain": [
       "(100, 480)"
      ]
     },
     "metadata": {},
     "output_type": "display_data"
    },
    {
     "name": "stdout",
     "output_type": "stream",
     "text": [
      "Data points considered outliers for the feature 'Low-4':\n"
     ]
    },
    {
     "data": {
      "text/plain": [
       "(70, 480)"
      ]
     },
     "metadata": {},
     "output_type": "display_data"
    },
    {
     "name": "stdout",
     "output_type": "stream",
     "text": [
      "Data points considered outliers for the feature 'Close-4':\n"
     ]
    },
    {
     "data": {
      "text/plain": [
       "(82, 480)"
      ]
     },
     "metadata": {},
     "output_type": "display_data"
    },
    {
     "name": "stdout",
     "output_type": "stream",
     "text": [
      "Data points considered outliers for the feature 'Volume-4':\n"
     ]
    },
    {
     "data": {
      "text/plain": [
       "(65, 480)"
      ]
     },
     "metadata": {},
     "output_type": "display_data"
    },
    {
     "name": "stdout",
     "output_type": "stream",
     "text": [
      "Data points considered outliers for the feature 'Adj Close-4':\n"
     ]
    },
    {
     "data": {
      "text/plain": [
       "(82, 480)"
      ]
     },
     "metadata": {},
     "output_type": "display_data"
    },
    {
     "name": "stdout",
     "output_type": "stream",
     "text": [
      "Data points considered outliers for the feature 'Dow Jones index-4':\n"
     ]
    },
    {
     "data": {
      "text/plain": [
       "(96, 480)"
      ]
     },
     "metadata": {},
     "output_type": "display_data"
    },
    {
     "name": "stdout",
     "output_type": "stream",
     "text": [
      "Data points considered outliers for the feature 'Exchange Rate USD Sell-4':\n"
     ]
    },
    {
     "data": {
      "text/plain": [
       "(68, 480)"
      ]
     },
     "metadata": {},
     "output_type": "display_data"
    },
    {
     "name": "stdout",
     "output_type": "stream",
     "text": [
      "Data points considered outliers for the feature 'BM&F Gold gramme-4':\n"
     ]
    },
    {
     "data": {
      "text/plain": [
       "(64, 480)"
      ]
     },
     "metadata": {},
     "output_type": "display_data"
    },
    {
     "name": "stdout",
     "output_type": "stream",
     "text": [
      "Data points considered outliers for the feature 'Exchange Rate USD Buy-4':\n"
     ]
    },
    {
     "data": {
      "text/plain": [
       "(68, 480)"
      ]
     },
     "metadata": {},
     "output_type": "display_data"
    },
    {
     "name": "stdout",
     "output_type": "stream",
     "text": [
      "Data points considered outliers for the feature 'Selic-4':\n"
     ]
    },
    {
     "data": {
      "text/plain": [
       "(152, 480)"
      ]
     },
     "metadata": {},
     "output_type": "display_data"
    },
    {
     "name": "stdout",
     "output_type": "stream",
     "text": [
      "Data points considered outliers for the feature 'Bovespa index-4':\n"
     ]
    },
    {
     "data": {
      "text/plain": [
       "(43, 480)"
      ]
     },
     "metadata": {},
     "output_type": "display_data"
    },
    {
     "name": "stdout",
     "output_type": "stream",
     "text": [
      "Data points considered outliers for the feature 'Foreign exchange operations balance-4':\n"
     ]
    },
    {
     "data": {
      "text/plain": [
       "(257, 480)"
      ]
     },
     "metadata": {},
     "output_type": "display_data"
    },
    {
     "name": "stdout",
     "output_type": "stream",
     "text": [
      "Data points considered outliers for the feature 'Nasdaq index-4':\n"
     ]
    },
    {
     "data": {
      "text/plain": [
       "(81, 480)"
      ]
     },
     "metadata": {},
     "output_type": "display_data"
    },
    {
     "name": "stdout",
     "output_type": "stream",
     "text": [
      "Data points considered outliers for the feature 'Bovespa total volume-4':\n"
     ]
    },
    {
     "data": {
      "text/plain": [
       "(85, 480)"
      ]
     },
     "metadata": {},
     "output_type": "display_data"
    },
    {
     "name": "stdout",
     "output_type": "stream",
     "text": [
      "Data points considered outliers for the feature 'International Reserves-4':\n"
     ]
    },
    {
     "data": {
      "text/plain": [
       "(124, 480)"
      ]
     },
     "metadata": {},
     "output_type": "display_data"
    },
    {
     "name": "stdout",
     "output_type": "stream",
     "text": [
      "Data points considered outliers for the feature 'Open-5':\n"
     ]
    },
    {
     "data": {
      "text/plain": [
       "(77, 480)"
      ]
     },
     "metadata": {},
     "output_type": "display_data"
    },
    {
     "name": "stdout",
     "output_type": "stream",
     "text": [
      "Data points considered outliers for the feature 'High-5':\n"
     ]
    },
    {
     "data": {
      "text/plain": [
       "(95, 480)"
      ]
     },
     "metadata": {},
     "output_type": "display_data"
    },
    {
     "name": "stdout",
     "output_type": "stream",
     "text": [
      "Data points considered outliers for the feature 'Low-5':\n"
     ]
    },
    {
     "data": {
      "text/plain": [
       "(68, 480)"
      ]
     },
     "metadata": {},
     "output_type": "display_data"
    },
    {
     "name": "stdout",
     "output_type": "stream",
     "text": [
      "Data points considered outliers for the feature 'Close-5':\n"
     ]
    },
    {
     "data": {
      "text/plain": [
       "(70, 480)"
      ]
     },
     "metadata": {},
     "output_type": "display_data"
    },
    {
     "name": "stdout",
     "output_type": "stream",
     "text": [
      "Data points considered outliers for the feature 'Volume-5':\n"
     ]
    },
    {
     "data": {
      "text/plain": [
       "(70, 480)"
      ]
     },
     "metadata": {},
     "output_type": "display_data"
    },
    {
     "name": "stdout",
     "output_type": "stream",
     "text": [
      "Data points considered outliers for the feature 'Adj Close-5':\n"
     ]
    },
    {
     "data": {
      "text/plain": [
       "(71, 480)"
      ]
     },
     "metadata": {},
     "output_type": "display_data"
    },
    {
     "name": "stdout",
     "output_type": "stream",
     "text": [
      "Data points considered outliers for the feature 'Dow Jones index-5':\n"
     ]
    },
    {
     "data": {
      "text/plain": [
       "(89, 480)"
      ]
     },
     "metadata": {},
     "output_type": "display_data"
    },
    {
     "name": "stdout",
     "output_type": "stream",
     "text": [
      "Data points considered outliers for the feature 'Exchange Rate USD Sell-5':\n"
     ]
    },
    {
     "data": {
      "text/plain": [
       "(67, 480)"
      ]
     },
     "metadata": {},
     "output_type": "display_data"
    },
    {
     "name": "stdout",
     "output_type": "stream",
     "text": [
      "Data points considered outliers for the feature 'BM&F Gold gramme-5':\n"
     ]
    },
    {
     "data": {
      "text/plain": [
       "(59, 480)"
      ]
     },
     "metadata": {},
     "output_type": "display_data"
    },
    {
     "name": "stdout",
     "output_type": "stream",
     "text": [
      "Data points considered outliers for the feature 'Exchange Rate USD Buy-5':\n"
     ]
    },
    {
     "data": {
      "text/plain": [
       "(67, 480)"
      ]
     },
     "metadata": {},
     "output_type": "display_data"
    },
    {
     "name": "stdout",
     "output_type": "stream",
     "text": [
      "Data points considered outliers for the feature 'Selic-5':\n"
     ]
    },
    {
     "data": {
      "text/plain": [
       "(190, 480)"
      ]
     },
     "metadata": {},
     "output_type": "display_data"
    },
    {
     "name": "stdout",
     "output_type": "stream",
     "text": [
      "Data points considered outliers for the feature 'Bovespa index-5':\n"
     ]
    },
    {
     "data": {
      "text/plain": [
       "(29, 480)"
      ]
     },
     "metadata": {},
     "output_type": "display_data"
    },
    {
     "name": "stdout",
     "output_type": "stream",
     "text": [
      "Data points considered outliers for the feature 'Foreign exchange operations balance-5':\n"
     ]
    },
    {
     "data": {
      "text/plain": [
       "(251, 480)"
      ]
     },
     "metadata": {},
     "output_type": "display_data"
    },
    {
     "name": "stdout",
     "output_type": "stream",
     "text": [
      "Data points considered outliers for the feature 'Nasdaq index-5':\n"
     ]
    },
    {
     "data": {
      "text/plain": [
       "(71, 480)"
      ]
     },
     "metadata": {},
     "output_type": "display_data"
    },
    {
     "name": "stdout",
     "output_type": "stream",
     "text": [
      "Data points considered outliers for the feature 'Bovespa total volume-5':\n"
     ]
    },
    {
     "data": {
      "text/plain": [
       "(83, 480)"
      ]
     },
     "metadata": {},
     "output_type": "display_data"
    },
    {
     "name": "stdout",
     "output_type": "stream",
     "text": [
      "Data points considered outliers for the feature 'International Reserves-5':\n"
     ]
    },
    {
     "data": {
      "text/plain": [
       "(117, 480)"
      ]
     },
     "metadata": {},
     "output_type": "display_data"
    },
    {
     "name": "stdout",
     "output_type": "stream",
     "text": [
      "Data points considered outliers for the feature 'Open-6':\n"
     ]
    },
    {
     "data": {
      "text/plain": [
       "(71, 480)"
      ]
     },
     "metadata": {},
     "output_type": "display_data"
    },
    {
     "name": "stdout",
     "output_type": "stream",
     "text": [
      "Data points considered outliers for the feature 'High-6':\n"
     ]
    },
    {
     "data": {
      "text/plain": [
       "(76, 480)"
      ]
     },
     "metadata": {},
     "output_type": "display_data"
    },
    {
     "name": "stdout",
     "output_type": "stream",
     "text": [
      "Data points considered outliers for the feature 'Low-6':\n"
     ]
    },
    {
     "data": {
      "text/plain": [
       "(62, 480)"
      ]
     },
     "metadata": {},
     "output_type": "display_data"
    },
    {
     "name": "stdout",
     "output_type": "stream",
     "text": [
      "Data points considered outliers for the feature 'Close-6':\n"
     ]
    },
    {
     "data": {
      "text/plain": [
       "(67, 480)"
      ]
     },
     "metadata": {},
     "output_type": "display_data"
    },
    {
     "name": "stdout",
     "output_type": "stream",
     "text": [
      "Data points considered outliers for the feature 'Volume-6':\n"
     ]
    },
    {
     "data": {
      "text/plain": [
       "(69, 480)"
      ]
     },
     "metadata": {},
     "output_type": "display_data"
    },
    {
     "name": "stdout",
     "output_type": "stream",
     "text": [
      "Data points considered outliers for the feature 'Adj Close-6':\n"
     ]
    },
    {
     "data": {
      "text/plain": [
       "(67, 480)"
      ]
     },
     "metadata": {},
     "output_type": "display_data"
    },
    {
     "name": "stdout",
     "output_type": "stream",
     "text": [
      "Data points considered outliers for the feature 'Dow Jones index-6':\n"
     ]
    },
    {
     "data": {
      "text/plain": [
       "(90, 480)"
      ]
     },
     "metadata": {},
     "output_type": "display_data"
    },
    {
     "name": "stdout",
     "output_type": "stream",
     "text": [
      "Data points considered outliers for the feature 'Exchange Rate USD Sell-6':\n"
     ]
    },
    {
     "data": {
      "text/plain": [
       "(68, 480)"
      ]
     },
     "metadata": {},
     "output_type": "display_data"
    },
    {
     "name": "stdout",
     "output_type": "stream",
     "text": [
      "Data points considered outliers for the feature 'BM&F Gold gramme-6':\n"
     ]
    },
    {
     "data": {
      "text/plain": [
       "(58, 480)"
      ]
     },
     "metadata": {},
     "output_type": "display_data"
    },
    {
     "name": "stdout",
     "output_type": "stream",
     "text": [
      "Data points considered outliers for the feature 'Exchange Rate USD Buy-6':\n"
     ]
    },
    {
     "data": {
      "text/plain": [
       "(68, 480)"
      ]
     },
     "metadata": {},
     "output_type": "display_data"
    },
    {
     "name": "stdout",
     "output_type": "stream",
     "text": [
      "Data points considered outliers for the feature 'Selic-6':\n"
     ]
    },
    {
     "data": {
      "text/plain": [
       "(228, 480)"
      ]
     },
     "metadata": {},
     "output_type": "display_data"
    },
    {
     "name": "stdout",
     "output_type": "stream",
     "text": [
      "Data points considered outliers for the feature 'Bovespa index-6':\n"
     ]
    },
    {
     "data": {
      "text/plain": [
       "(30, 480)"
      ]
     },
     "metadata": {},
     "output_type": "display_data"
    },
    {
     "name": "stdout",
     "output_type": "stream",
     "text": [
      "Data points considered outliers for the feature 'Foreign exchange operations balance-6':\n"
     ]
    },
    {
     "data": {
      "text/plain": [
       "(271, 480)"
      ]
     },
     "metadata": {},
     "output_type": "display_data"
    },
    {
     "name": "stdout",
     "output_type": "stream",
     "text": [
      "Data points considered outliers for the feature 'Nasdaq index-6':\n"
     ]
    },
    {
     "data": {
      "text/plain": [
       "(74, 480)"
      ]
     },
     "metadata": {},
     "output_type": "display_data"
    },
    {
     "name": "stdout",
     "output_type": "stream",
     "text": [
      "Data points considered outliers for the feature 'Bovespa total volume-6':\n"
     ]
    },
    {
     "data": {
      "text/plain": [
       "(77, 480)"
      ]
     },
     "metadata": {},
     "output_type": "display_data"
    },
    {
     "name": "stdout",
     "output_type": "stream",
     "text": [
      "Data points considered outliers for the feature 'International Reserves-6':\n"
     ]
    },
    {
     "data": {
      "text/plain": [
       "(124, 480)"
      ]
     },
     "metadata": {},
     "output_type": "display_data"
    },
    {
     "name": "stdout",
     "output_type": "stream",
     "text": [
      "Data points considered outliers for the feature 'Open-7':\n"
     ]
    },
    {
     "data": {
      "text/plain": [
       "(74, 480)"
      ]
     },
     "metadata": {},
     "output_type": "display_data"
    },
    {
     "name": "stdout",
     "output_type": "stream",
     "text": [
      "Data points considered outliers for the feature 'High-7':\n"
     ]
    },
    {
     "data": {
      "text/plain": [
       "(83, 480)"
      ]
     },
     "metadata": {},
     "output_type": "display_data"
    },
    {
     "name": "stdout",
     "output_type": "stream",
     "text": [
      "Data points considered outliers for the feature 'Low-7':\n"
     ]
    },
    {
     "data": {
      "text/plain": [
       "(64, 480)"
      ]
     },
     "metadata": {},
     "output_type": "display_data"
    },
    {
     "name": "stdout",
     "output_type": "stream",
     "text": [
      "Data points considered outliers for the feature 'Close-7':\n"
     ]
    },
    {
     "data": {
      "text/plain": [
       "(71, 480)"
      ]
     },
     "metadata": {},
     "output_type": "display_data"
    },
    {
     "name": "stdout",
     "output_type": "stream",
     "text": [
      "Data points considered outliers for the feature 'Volume-7':\n"
     ]
    },
    {
     "data": {
      "text/plain": [
       "(73, 480)"
      ]
     },
     "metadata": {},
     "output_type": "display_data"
    },
    {
     "name": "stdout",
     "output_type": "stream",
     "text": [
      "Data points considered outliers for the feature 'Adj Close-7':\n"
     ]
    },
    {
     "data": {
      "text/plain": [
       "(70, 480)"
      ]
     },
     "metadata": {},
     "output_type": "display_data"
    },
    {
     "name": "stdout",
     "output_type": "stream",
     "text": [
      "Data points considered outliers for the feature 'Dow Jones index-7':\n"
     ]
    },
    {
     "data": {
      "text/plain": [
       "(92, 480)"
      ]
     },
     "metadata": {},
     "output_type": "display_data"
    },
    {
     "name": "stdout",
     "output_type": "stream",
     "text": [
      "Data points considered outliers for the feature 'Exchange Rate USD Sell-7':\n"
     ]
    },
    {
     "data": {
      "text/plain": [
       "(67, 480)"
      ]
     },
     "metadata": {},
     "output_type": "display_data"
    },
    {
     "name": "stdout",
     "output_type": "stream",
     "text": [
      "Data points considered outliers for the feature 'BM&F Gold gramme-7':\n"
     ]
    },
    {
     "data": {
      "text/plain": [
       "(59, 480)"
      ]
     },
     "metadata": {},
     "output_type": "display_data"
    },
    {
     "name": "stdout",
     "output_type": "stream",
     "text": [
      "Data points considered outliers for the feature 'Exchange Rate USD Buy-7':\n"
     ]
    },
    {
     "data": {
      "text/plain": [
       "(67, 480)"
      ]
     },
     "metadata": {},
     "output_type": "display_data"
    },
    {
     "name": "stdout",
     "output_type": "stream",
     "text": [
      "Data points considered outliers for the feature 'Selic-7':\n"
     ]
    },
    {
     "data": {
      "text/plain": [
       "(266, 480)"
      ]
     },
     "metadata": {},
     "output_type": "display_data"
    },
    {
     "name": "stdout",
     "output_type": "stream",
     "text": [
      "Data points considered outliers for the feature 'Bovespa index-7':\n"
     ]
    },
    {
     "data": {
      "text/plain": [
       "(27, 480)"
      ]
     },
     "metadata": {},
     "output_type": "display_data"
    },
    {
     "name": "stdout",
     "output_type": "stream",
     "text": [
      "Data points considered outliers for the feature 'Foreign exchange operations balance-7':\n"
     ]
    },
    {
     "data": {
      "text/plain": [
       "(272, 480)"
      ]
     },
     "metadata": {},
     "output_type": "display_data"
    },
    {
     "name": "stdout",
     "output_type": "stream",
     "text": [
      "Data points considered outliers for the feature 'Nasdaq index-7':\n"
     ]
    },
    {
     "data": {
      "text/plain": [
       "(80, 480)"
      ]
     },
     "metadata": {},
     "output_type": "display_data"
    },
    {
     "name": "stdout",
     "output_type": "stream",
     "text": [
      "Data points considered outliers for the feature 'Bovespa total volume-7':\n"
     ]
    },
    {
     "data": {
      "text/plain": [
       "(75, 480)"
      ]
     },
     "metadata": {},
     "output_type": "display_data"
    },
    {
     "name": "stdout",
     "output_type": "stream",
     "text": [
      "Data points considered outliers for the feature 'International Reserves-7':\n"
     ]
    },
    {
     "data": {
      "text/plain": [
       "(121, 480)"
      ]
     },
     "metadata": {},
     "output_type": "display_data"
    },
    {
     "name": "stdout",
     "output_type": "stream",
     "text": [
      "Data points considered outliers for the feature 'Open-8':\n"
     ]
    },
    {
     "data": {
      "text/plain": [
       "(72, 480)"
      ]
     },
     "metadata": {},
     "output_type": "display_data"
    },
    {
     "name": "stdout",
     "output_type": "stream",
     "text": [
      "Data points considered outliers for the feature 'High-8':\n"
     ]
    },
    {
     "data": {
      "text/plain": [
       "(85, 480)"
      ]
     },
     "metadata": {},
     "output_type": "display_data"
    },
    {
     "name": "stdout",
     "output_type": "stream",
     "text": [
      "Data points considered outliers for the feature 'Low-8':\n"
     ]
    },
    {
     "data": {
      "text/plain": [
       "(74, 480)"
      ]
     },
     "metadata": {},
     "output_type": "display_data"
    },
    {
     "name": "stdout",
     "output_type": "stream",
     "text": [
      "Data points considered outliers for the feature 'Close-8':\n"
     ]
    },
    {
     "data": {
      "text/plain": [
       "(70, 480)"
      ]
     },
     "metadata": {},
     "output_type": "display_data"
    },
    {
     "name": "stdout",
     "output_type": "stream",
     "text": [
      "Data points considered outliers for the feature 'Volume-8':\n"
     ]
    },
    {
     "data": {
      "text/plain": [
       "(72, 480)"
      ]
     },
     "metadata": {},
     "output_type": "display_data"
    },
    {
     "name": "stdout",
     "output_type": "stream",
     "text": [
      "Data points considered outliers for the feature 'Adj Close-8':\n"
     ]
    },
    {
     "data": {
      "text/plain": [
       "(70, 480)"
      ]
     },
     "metadata": {},
     "output_type": "display_data"
    },
    {
     "name": "stdout",
     "output_type": "stream",
     "text": [
      "Data points considered outliers for the feature 'Dow Jones index-8':\n"
     ]
    },
    {
     "data": {
      "text/plain": [
       "(82, 480)"
      ]
     },
     "metadata": {},
     "output_type": "display_data"
    },
    {
     "name": "stdout",
     "output_type": "stream",
     "text": [
      "Data points considered outliers for the feature 'Exchange Rate USD Sell-8':\n"
     ]
    },
    {
     "data": {
      "text/plain": [
       "(61, 480)"
      ]
     },
     "metadata": {},
     "output_type": "display_data"
    },
    {
     "name": "stdout",
     "output_type": "stream",
     "text": [
      "Data points considered outliers for the feature 'BM&F Gold gramme-8':\n"
     ]
    },
    {
     "data": {
      "text/plain": [
       "(58, 480)"
      ]
     },
     "metadata": {},
     "output_type": "display_data"
    },
    {
     "name": "stdout",
     "output_type": "stream",
     "text": [
      "Data points considered outliers for the feature 'Exchange Rate USD Buy-8':\n"
     ]
    },
    {
     "data": {
      "text/plain": [
       "(61, 480)"
      ]
     },
     "metadata": {},
     "output_type": "display_data"
    },
    {
     "name": "stdout",
     "output_type": "stream",
     "text": [
      "Data points considered outliers for the feature 'Selic-8':\n"
     ]
    },
    {
     "data": {
      "text/plain": [
       "(304, 480)"
      ]
     },
     "metadata": {},
     "output_type": "display_data"
    },
    {
     "name": "stdout",
     "output_type": "stream",
     "text": [
      "Data points considered outliers for the feature 'Bovespa index-8':\n"
     ]
    },
    {
     "data": {
      "text/plain": [
       "(30, 480)"
      ]
     },
     "metadata": {},
     "output_type": "display_data"
    },
    {
     "name": "stdout",
     "output_type": "stream",
     "text": [
      "Data points considered outliers for the feature 'Foreign exchange operations balance-8':\n"
     ]
    },
    {
     "data": {
      "text/plain": [
       "(297, 480)"
      ]
     },
     "metadata": {},
     "output_type": "display_data"
    },
    {
     "name": "stdout",
     "output_type": "stream",
     "text": [
      "Data points considered outliers for the feature 'Nasdaq index-8':\n"
     ]
    },
    {
     "data": {
      "text/plain": [
       "(78, 480)"
      ]
     },
     "metadata": {},
     "output_type": "display_data"
    },
    {
     "name": "stdout",
     "output_type": "stream",
     "text": [
      "Data points considered outliers for the feature 'Bovespa total volume-8':\n"
     ]
    },
    {
     "data": {
      "text/plain": [
       "(86, 480)"
      ]
     },
     "metadata": {},
     "output_type": "display_data"
    },
    {
     "name": "stdout",
     "output_type": "stream",
     "text": [
      "Data points considered outliers for the feature 'International Reserves-8':\n"
     ]
    },
    {
     "data": {
      "text/plain": [
       "(130, 480)"
      ]
     },
     "metadata": {},
     "output_type": "display_data"
    },
    {
     "name": "stdout",
     "output_type": "stream",
     "text": [
      "Data points considered outliers for the feature 'Open-9':\n"
     ]
    },
    {
     "data": {
      "text/plain": [
       "(75, 480)"
      ]
     },
     "metadata": {},
     "output_type": "display_data"
    },
    {
     "name": "stdout",
     "output_type": "stream",
     "text": [
      "Data points considered outliers for the feature 'High-9':\n"
     ]
    },
    {
     "data": {
      "text/plain": [
       "(71, 480)"
      ]
     },
     "metadata": {},
     "output_type": "display_data"
    },
    {
     "name": "stdout",
     "output_type": "stream",
     "text": [
      "Data points considered outliers for the feature 'Low-9':\n"
     ]
    },
    {
     "data": {
      "text/plain": [
       "(66, 480)"
      ]
     },
     "metadata": {},
     "output_type": "display_data"
    },
    {
     "name": "stdout",
     "output_type": "stream",
     "text": [
      "Data points considered outliers for the feature 'Close-9':\n"
     ]
    },
    {
     "data": {
      "text/plain": [
       "(67, 480)"
      ]
     },
     "metadata": {},
     "output_type": "display_data"
    },
    {
     "name": "stdout",
     "output_type": "stream",
     "text": [
      "Data points considered outliers for the feature 'Volume-9':\n"
     ]
    },
    {
     "data": {
      "text/plain": [
       "(67, 480)"
      ]
     },
     "metadata": {},
     "output_type": "display_data"
    },
    {
     "name": "stdout",
     "output_type": "stream",
     "text": [
      "Data points considered outliers for the feature 'Adj Close-9':\n"
     ]
    },
    {
     "data": {
      "text/plain": [
       "(69, 480)"
      ]
     },
     "metadata": {},
     "output_type": "display_data"
    },
    {
     "name": "stdout",
     "output_type": "stream",
     "text": [
      "Data points considered outliers for the feature 'Dow Jones index-9':\n"
     ]
    },
    {
     "data": {
      "text/plain": [
       "(80, 480)"
      ]
     },
     "metadata": {},
     "output_type": "display_data"
    },
    {
     "name": "stdout",
     "output_type": "stream",
     "text": [
      "Data points considered outliers for the feature 'Exchange Rate USD Sell-9':\n"
     ]
    },
    {
     "data": {
      "text/plain": [
       "(65, 480)"
      ]
     },
     "metadata": {},
     "output_type": "display_data"
    },
    {
     "name": "stdout",
     "output_type": "stream",
     "text": [
      "Data points considered outliers for the feature 'BM&F Gold gramme-9':\n"
     ]
    },
    {
     "data": {
      "text/plain": [
       "(64, 480)"
      ]
     },
     "metadata": {},
     "output_type": "display_data"
    },
    {
     "name": "stdout",
     "output_type": "stream",
     "text": [
      "Data points considered outliers for the feature 'Exchange Rate USD Buy-9':\n"
     ]
    },
    {
     "data": {
      "text/plain": [
       "(65, 480)"
      ]
     },
     "metadata": {},
     "output_type": "display_data"
    },
    {
     "name": "stdout",
     "output_type": "stream",
     "text": [
      "Data points considered outliers for the feature 'Selic-9':\n"
     ]
    },
    {
     "data": {
      "text/plain": [
       "(342, 480)"
      ]
     },
     "metadata": {},
     "output_type": "display_data"
    },
    {
     "name": "stdout",
     "output_type": "stream",
     "text": [
      "Data points considered outliers for the feature 'Bovespa index-9':\n"
     ]
    },
    {
     "data": {
      "text/plain": [
       "(27, 480)"
      ]
     },
     "metadata": {},
     "output_type": "display_data"
    },
    {
     "name": "stdout",
     "output_type": "stream",
     "text": [
      "Data points considered outliers for the feature 'Foreign exchange operations balance-9':\n"
     ]
    },
    {
     "data": {
      "text/plain": [
       "(287, 480)"
      ]
     },
     "metadata": {},
     "output_type": "display_data"
    },
    {
     "name": "stdout",
     "output_type": "stream",
     "text": [
      "Data points considered outliers for the feature 'Nasdaq index-9':\n"
     ]
    },
    {
     "data": {
      "text/plain": [
       "(82, 480)"
      ]
     },
     "metadata": {},
     "output_type": "display_data"
    },
    {
     "name": "stdout",
     "output_type": "stream",
     "text": [
      "Data points considered outliers for the feature 'Bovespa total volume-9':\n"
     ]
    },
    {
     "data": {
      "text/plain": [
       "(89, 480)"
      ]
     },
     "metadata": {},
     "output_type": "display_data"
    },
    {
     "name": "stdout",
     "output_type": "stream",
     "text": [
      "Data points considered outliers for the feature 'International Reserves-9':\n"
     ]
    },
    {
     "data": {
      "text/plain": [
       "(133, 480)"
      ]
     },
     "metadata": {},
     "output_type": "display_data"
    },
    {
     "name": "stdout",
     "output_type": "stream",
     "text": [
      "Data points considered outliers for the feature 'Open-10':\n"
     ]
    },
    {
     "data": {
      "text/plain": [
       "(75, 480)"
      ]
     },
     "metadata": {},
     "output_type": "display_data"
    },
    {
     "name": "stdout",
     "output_type": "stream",
     "text": [
      "Data points considered outliers for the feature 'High-10':\n"
     ]
    },
    {
     "data": {
      "text/plain": [
       "(81, 480)"
      ]
     },
     "metadata": {},
     "output_type": "display_data"
    },
    {
     "name": "stdout",
     "output_type": "stream",
     "text": [
      "Data points considered outliers for the feature 'Low-10':\n"
     ]
    },
    {
     "data": {
      "text/plain": [
       "(72, 480)"
      ]
     },
     "metadata": {},
     "output_type": "display_data"
    },
    {
     "name": "stdout",
     "output_type": "stream",
     "text": [
      "Data points considered outliers for the feature 'Close-10':\n"
     ]
    },
    {
     "data": {
      "text/plain": [
       "(73, 480)"
      ]
     },
     "metadata": {},
     "output_type": "display_data"
    },
    {
     "name": "stdout",
     "output_type": "stream",
     "text": [
      "Data points considered outliers for the feature 'Volume-10':\n"
     ]
    },
    {
     "data": {
      "text/plain": [
       "(89, 480)"
      ]
     },
     "metadata": {},
     "output_type": "display_data"
    },
    {
     "name": "stdout",
     "output_type": "stream",
     "text": [
      "Data points considered outliers for the feature 'Adj Close-10':\n"
     ]
    },
    {
     "data": {
      "text/plain": [
       "(73, 480)"
      ]
     },
     "metadata": {},
     "output_type": "display_data"
    },
    {
     "name": "stdout",
     "output_type": "stream",
     "text": [
      "Data points considered outliers for the feature 'Dow Jones index-10':\n"
     ]
    },
    {
     "data": {
      "text/plain": [
       "(80, 480)"
      ]
     },
     "metadata": {},
     "output_type": "display_data"
    },
    {
     "name": "stdout",
     "output_type": "stream",
     "text": [
      "Data points considered outliers for the feature 'Exchange Rate USD Sell-10':\n"
     ]
    },
    {
     "data": {
      "text/plain": [
       "(65, 480)"
      ]
     },
     "metadata": {},
     "output_type": "display_data"
    },
    {
     "name": "stdout",
     "output_type": "stream",
     "text": [
      "Data points considered outliers for the feature 'BM&F Gold gramme-10':\n"
     ]
    },
    {
     "data": {
      "text/plain": [
       "(65, 480)"
      ]
     },
     "metadata": {},
     "output_type": "display_data"
    },
    {
     "name": "stdout",
     "output_type": "stream",
     "text": [
      "Data points considered outliers for the feature 'Exchange Rate USD Buy-10':\n"
     ]
    },
    {
     "data": {
      "text/plain": [
       "(65, 480)"
      ]
     },
     "metadata": {},
     "output_type": "display_data"
    },
    {
     "name": "stdout",
     "output_type": "stream",
     "text": [
      "Data points considered outliers for the feature 'Selic-10':\n"
     ]
    },
    {
     "data": {
      "text/plain": [
       "(380, 480)"
      ]
     },
     "metadata": {},
     "output_type": "display_data"
    },
    {
     "name": "stdout",
     "output_type": "stream",
     "text": [
      "Data points considered outliers for the feature 'Bovespa index-10':\n"
     ]
    },
    {
     "data": {
      "text/plain": [
       "(26, 480)"
      ]
     },
     "metadata": {},
     "output_type": "display_data"
    },
    {
     "name": "stdout",
     "output_type": "stream",
     "text": [
      "Data points considered outliers for the feature 'Foreign exchange operations balance-10':\n"
     ]
    },
    {
     "data": {
      "text/plain": [
       "(284, 480)"
      ]
     },
     "metadata": {},
     "output_type": "display_data"
    },
    {
     "name": "stdout",
     "output_type": "stream",
     "text": [
      "Data points considered outliers for the feature 'Nasdaq index-10':\n"
     ]
    },
    {
     "data": {
      "text/plain": [
       "(67, 480)"
      ]
     },
     "metadata": {},
     "output_type": "display_data"
    },
    {
     "name": "stdout",
     "output_type": "stream",
     "text": [
      "Data points considered outliers for the feature 'Bovespa total volume-10':\n"
     ]
    },
    {
     "data": {
      "text/plain": [
       "(91, 480)"
      ]
     },
     "metadata": {},
     "output_type": "display_data"
    },
    {
     "name": "stdout",
     "output_type": "stream",
     "text": [
      "Data points considered outliers for the feature 'International Reserves-10':\n"
     ]
    },
    {
     "data": {
      "text/plain": [
       "(134, 480)"
      ]
     },
     "metadata": {},
     "output_type": "display_data"
    },
    {
     "name": "stdout",
     "output_type": "stream",
     "text": [
      "Data points considered outliers for the feature 'Open-11':\n"
     ]
    },
    {
     "data": {
      "text/plain": [
       "(71, 480)"
      ]
     },
     "metadata": {},
     "output_type": "display_data"
    },
    {
     "name": "stdout",
     "output_type": "stream",
     "text": [
      "Data points considered outliers for the feature 'High-11':\n"
     ]
    },
    {
     "data": {
      "text/plain": [
       "(75, 480)"
      ]
     },
     "metadata": {},
     "output_type": "display_data"
    },
    {
     "name": "stdout",
     "output_type": "stream",
     "text": [
      "Data points considered outliers for the feature 'Low-11':\n"
     ]
    },
    {
     "data": {
      "text/plain": [
       "(64, 480)"
      ]
     },
     "metadata": {},
     "output_type": "display_data"
    },
    {
     "name": "stdout",
     "output_type": "stream",
     "text": [
      "Data points considered outliers for the feature 'Close-11':\n"
     ]
    },
    {
     "data": {
      "text/plain": [
       "(69, 480)"
      ]
     },
     "metadata": {},
     "output_type": "display_data"
    },
    {
     "name": "stdout",
     "output_type": "stream",
     "text": [
      "Data points considered outliers for the feature 'Volume-11':\n"
     ]
    },
    {
     "data": {
      "text/plain": [
       "(66, 480)"
      ]
     },
     "metadata": {},
     "output_type": "display_data"
    },
    {
     "name": "stdout",
     "output_type": "stream",
     "text": [
      "Data points considered outliers for the feature 'Adj Close-11':\n"
     ]
    },
    {
     "data": {
      "text/plain": [
       "(72, 480)"
      ]
     },
     "metadata": {},
     "output_type": "display_data"
    },
    {
     "name": "stdout",
     "output_type": "stream",
     "text": [
      "Data points considered outliers for the feature 'Dow Jones index-11':\n"
     ]
    },
    {
     "data": {
      "text/plain": [
       "(80, 480)"
      ]
     },
     "metadata": {},
     "output_type": "display_data"
    },
    {
     "name": "stdout",
     "output_type": "stream",
     "text": [
      "Data points considered outliers for the feature 'Exchange Rate USD Sell-11':\n"
     ]
    },
    {
     "data": {
      "text/plain": [
       "(65, 480)"
      ]
     },
     "metadata": {},
     "output_type": "display_data"
    },
    {
     "name": "stdout",
     "output_type": "stream",
     "text": [
      "Data points considered outliers for the feature 'BM&F Gold gramme-11':\n"
     ]
    },
    {
     "data": {
      "text/plain": [
       "(58, 480)"
      ]
     },
     "metadata": {},
     "output_type": "display_data"
    },
    {
     "name": "stdout",
     "output_type": "stream",
     "text": [
      "Data points considered outliers for the feature 'Exchange Rate USD Buy-11':\n"
     ]
    },
    {
     "data": {
      "text/plain": [
       "(65, 480)"
      ]
     },
     "metadata": {},
     "output_type": "display_data"
    },
    {
     "name": "stdout",
     "output_type": "stream",
     "text": [
      "Data points considered outliers for the feature 'Selic-11':\n"
     ]
    },
    {
     "data": {
      "text/plain": [
       "(418, 480)"
      ]
     },
     "metadata": {},
     "output_type": "display_data"
    },
    {
     "name": "stdout",
     "output_type": "stream",
     "text": [
      "Data points considered outliers for the feature 'Bovespa index-11':\n"
     ]
    },
    {
     "data": {
      "text/plain": [
       "(23, 480)"
      ]
     },
     "metadata": {},
     "output_type": "display_data"
    },
    {
     "name": "stdout",
     "output_type": "stream",
     "text": [
      "Data points considered outliers for the feature 'Foreign exchange operations balance-11':\n"
     ]
    },
    {
     "data": {
      "text/plain": [
       "(256, 480)"
      ]
     },
     "metadata": {},
     "output_type": "display_data"
    },
    {
     "name": "stdout",
     "output_type": "stream",
     "text": [
      "Data points considered outliers for the feature 'Nasdaq index-11':\n"
     ]
    },
    {
     "data": {
      "text/plain": [
       "(73, 480)"
      ]
     },
     "metadata": {},
     "output_type": "display_data"
    },
    {
     "name": "stdout",
     "output_type": "stream",
     "text": [
      "Data points considered outliers for the feature 'Bovespa total volume-11':\n"
     ]
    },
    {
     "data": {
      "text/plain": [
       "(64, 480)"
      ]
     },
     "metadata": {},
     "output_type": "display_data"
    },
    {
     "name": "stdout",
     "output_type": "stream",
     "text": [
      "Data points considered outliers for the feature 'International Reserves-11':\n"
     ]
    },
    {
     "data": {
      "text/plain": [
       "(133, 480)"
      ]
     },
     "metadata": {},
     "output_type": "display_data"
    },
    {
     "name": "stdout",
     "output_type": "stream",
     "text": [
      "Data points considered outliers for the feature 'Open-12':\n"
     ]
    },
    {
     "data": {
      "text/plain": [
       "(62, 480)"
      ]
     },
     "metadata": {},
     "output_type": "display_data"
    },
    {
     "name": "stdout",
     "output_type": "stream",
     "text": [
      "Data points considered outliers for the feature 'High-12':\n"
     ]
    },
    {
     "data": {
      "text/plain": [
       "(70, 480)"
      ]
     },
     "metadata": {},
     "output_type": "display_data"
    },
    {
     "name": "stdout",
     "output_type": "stream",
     "text": [
      "Data points considered outliers for the feature 'Low-12':\n"
     ]
    },
    {
     "data": {
      "text/plain": [
       "(55, 480)"
      ]
     },
     "metadata": {},
     "output_type": "display_data"
    },
    {
     "name": "stdout",
     "output_type": "stream",
     "text": [
      "Data points considered outliers for the feature 'Close-12':\n"
     ]
    },
    {
     "data": {
      "text/plain": [
       "(60, 480)"
      ]
     },
     "metadata": {},
     "output_type": "display_data"
    },
    {
     "name": "stdout",
     "output_type": "stream",
     "text": [
      "Data points considered outliers for the feature 'Volume-12':\n"
     ]
    },
    {
     "data": {
      "text/plain": [
       "(88, 480)"
      ]
     },
     "metadata": {},
     "output_type": "display_data"
    },
    {
     "name": "stdout",
     "output_type": "stream",
     "text": [
      "Data points considered outliers for the feature 'Adj Close-12':\n"
     ]
    },
    {
     "data": {
      "text/plain": [
       "(64, 480)"
      ]
     },
     "metadata": {},
     "output_type": "display_data"
    },
    {
     "name": "stdout",
     "output_type": "stream",
     "text": [
      "Data points considered outliers for the feature 'Dow Jones index-12':\n"
     ]
    },
    {
     "data": {
      "text/plain": [
       "(77, 480)"
      ]
     },
     "metadata": {},
     "output_type": "display_data"
    },
    {
     "name": "stdout",
     "output_type": "stream",
     "text": [
      "Data points considered outliers for the feature 'Exchange Rate USD Sell-12':\n"
     ]
    },
    {
     "data": {
      "text/plain": [
       "(67, 480)"
      ]
     },
     "metadata": {},
     "output_type": "display_data"
    },
    {
     "name": "stdout",
     "output_type": "stream",
     "text": [
      "Data points considered outliers for the feature 'BM&F Gold gramme-12':\n"
     ]
    },
    {
     "data": {
      "text/plain": [
       "(53, 480)"
      ]
     },
     "metadata": {},
     "output_type": "display_data"
    },
    {
     "name": "stdout",
     "output_type": "stream",
     "text": [
      "Data points considered outliers for the feature 'Exchange Rate USD Buy-12':\n"
     ]
    },
    {
     "data": {
      "text/plain": [
       "(67, 480)"
      ]
     },
     "metadata": {},
     "output_type": "display_data"
    },
    {
     "name": "stdout",
     "output_type": "stream",
     "text": [
      "Data points considered outliers for the feature 'Selic-12':\n"
     ]
    },
    {
     "data": {
      "text/plain": [
       "(456, 480)"
      ]
     },
     "metadata": {},
     "output_type": "display_data"
    },
    {
     "name": "stdout",
     "output_type": "stream",
     "text": [
      "Data points considered outliers for the feature 'Bovespa index-12':\n"
     ]
    },
    {
     "data": {
      "text/plain": [
       "(28, 480)"
      ]
     },
     "metadata": {},
     "output_type": "display_data"
    },
    {
     "name": "stdout",
     "output_type": "stream",
     "text": [
      "Data points considered outliers for the feature 'Foreign exchange operations balance-12':\n"
     ]
    },
    {
     "data": {
      "text/plain": [
       "(258, 480)"
      ]
     },
     "metadata": {},
     "output_type": "display_data"
    },
    {
     "name": "stdout",
     "output_type": "stream",
     "text": [
      "Data points considered outliers for the feature 'Nasdaq index-12':\n"
     ]
    },
    {
     "data": {
      "text/plain": [
       "(74, 480)"
      ]
     },
     "metadata": {},
     "output_type": "display_data"
    },
    {
     "name": "stdout",
     "output_type": "stream",
     "text": [
      "Data points considered outliers for the feature 'Bovespa total volume-12':\n"
     ]
    },
    {
     "data": {
      "text/plain": [
       "(73, 480)"
      ]
     },
     "metadata": {},
     "output_type": "display_data"
    },
    {
     "name": "stdout",
     "output_type": "stream",
     "text": [
      "Data points considered outliers for the feature 'International Reserves-12':\n"
     ]
    },
    {
     "data": {
      "text/plain": [
       "(141, 480)"
      ]
     },
     "metadata": {},
     "output_type": "display_data"
    },
    {
     "name": "stdout",
     "output_type": "stream",
     "text": [
      "Data points considered outliers for the feature 'Open-13':\n"
     ]
    },
    {
     "data": {
      "text/plain": [
       "(62, 480)"
      ]
     },
     "metadata": {},
     "output_type": "display_data"
    },
    {
     "name": "stdout",
     "output_type": "stream",
     "text": [
      "Data points considered outliers for the feature 'High-13':\n"
     ]
    },
    {
     "data": {
      "text/plain": [
       "(68, 480)"
      ]
     },
     "metadata": {},
     "output_type": "display_data"
    },
    {
     "name": "stdout",
     "output_type": "stream",
     "text": [
      "Data points considered outliers for the feature 'Low-13':\n"
     ]
    },
    {
     "data": {
      "text/plain": [
       "(59, 480)"
      ]
     },
     "metadata": {},
     "output_type": "display_data"
    },
    {
     "name": "stdout",
     "output_type": "stream",
     "text": [
      "Data points considered outliers for the feature 'Close-13':\n"
     ]
    },
    {
     "data": {
      "text/plain": [
       "(64, 480)"
      ]
     },
     "metadata": {},
     "output_type": "display_data"
    },
    {
     "name": "stdout",
     "output_type": "stream",
     "text": [
      "Data points considered outliers for the feature 'Volume-13':\n"
     ]
    },
    {
     "data": {
      "text/plain": [
       "(63, 480)"
      ]
     },
     "metadata": {},
     "output_type": "display_data"
    },
    {
     "name": "stdout",
     "output_type": "stream",
     "text": [
      "Data points considered outliers for the feature 'Adj Close-13':\n"
     ]
    },
    {
     "data": {
      "text/plain": [
       "(66, 480)"
      ]
     },
     "metadata": {},
     "output_type": "display_data"
    },
    {
     "name": "stdout",
     "output_type": "stream",
     "text": [
      "Data points considered outliers for the feature 'Dow Jones index-13':\n"
     ]
    },
    {
     "data": {
      "text/plain": [
       "(75, 480)"
      ]
     },
     "metadata": {},
     "output_type": "display_data"
    },
    {
     "name": "stdout",
     "output_type": "stream",
     "text": [
      "Data points considered outliers for the feature 'Exchange Rate USD Sell-13':\n"
     ]
    },
    {
     "data": {
      "text/plain": [
       "(68, 480)"
      ]
     },
     "metadata": {},
     "output_type": "display_data"
    },
    {
     "name": "stdout",
     "output_type": "stream",
     "text": [
      "Data points considered outliers for the feature 'BM&F Gold gramme-13':\n"
     ]
    },
    {
     "data": {
      "text/plain": [
       "(53, 480)"
      ]
     },
     "metadata": {},
     "output_type": "display_data"
    },
    {
     "name": "stdout",
     "output_type": "stream",
     "text": [
      "Data points considered outliers for the feature 'Exchange Rate USD Buy-13':\n"
     ]
    },
    {
     "data": {
      "text/plain": [
       "(68, 480)"
      ]
     },
     "metadata": {},
     "output_type": "display_data"
    },
    {
     "name": "stdout",
     "output_type": "stream",
     "text": [
      "Data points considered outliers for the feature 'Selic-13':\n"
     ]
    },
    {
     "data": {
      "text/plain": [
       "(494, 480)"
      ]
     },
     "metadata": {},
     "output_type": "display_data"
    },
    {
     "name": "stdout",
     "output_type": "stream",
     "text": [
      "Data points considered outliers for the feature 'Bovespa index-13':\n"
     ]
    },
    {
     "data": {
      "text/plain": [
       "(29, 480)"
      ]
     },
     "metadata": {},
     "output_type": "display_data"
    },
    {
     "name": "stdout",
     "output_type": "stream",
     "text": [
      "Data points considered outliers for the feature 'Foreign exchange operations balance-13':\n"
     ]
    },
    {
     "data": {
      "text/plain": [
       "(259, 480)"
      ]
     },
     "metadata": {},
     "output_type": "display_data"
    },
    {
     "name": "stdout",
     "output_type": "stream",
     "text": [
      "Data points considered outliers for the feature 'Nasdaq index-13':\n"
     ]
    },
    {
     "data": {
      "text/plain": [
       "(67, 480)"
      ]
     },
     "metadata": {},
     "output_type": "display_data"
    },
    {
     "name": "stdout",
     "output_type": "stream",
     "text": [
      "Data points considered outliers for the feature 'Bovespa total volume-13':\n"
     ]
    },
    {
     "data": {
      "text/plain": [
       "(86, 480)"
      ]
     },
     "metadata": {},
     "output_type": "display_data"
    },
    {
     "name": "stdout",
     "output_type": "stream",
     "text": [
      "Data points considered outliers for the feature 'International Reserves-13':\n"
     ]
    },
    {
     "data": {
      "text/plain": [
       "(149, 480)"
      ]
     },
     "metadata": {},
     "output_type": "display_data"
    },
    {
     "name": "stdout",
     "output_type": "stream",
     "text": [
      "Data points considered outliers for the feature 'Open-14':\n"
     ]
    },
    {
     "data": {
      "text/plain": [
       "(64, 480)"
      ]
     },
     "metadata": {},
     "output_type": "display_data"
    },
    {
     "name": "stdout",
     "output_type": "stream",
     "text": [
      "Data points considered outliers for the feature 'High-14':\n"
     ]
    },
    {
     "data": {
      "text/plain": [
       "(64, 480)"
      ]
     },
     "metadata": {},
     "output_type": "display_data"
    },
    {
     "name": "stdout",
     "output_type": "stream",
     "text": [
      "Data points considered outliers for the feature 'Low-14':\n"
     ]
    },
    {
     "data": {
      "text/plain": [
       "(67, 480)"
      ]
     },
     "metadata": {},
     "output_type": "display_data"
    },
    {
     "name": "stdout",
     "output_type": "stream",
     "text": [
      "Data points considered outliers for the feature 'Close-14':\n"
     ]
    },
    {
     "data": {
      "text/plain": [
       "(65, 480)"
      ]
     },
     "metadata": {},
     "output_type": "display_data"
    },
    {
     "name": "stdout",
     "output_type": "stream",
     "text": [
      "Data points considered outliers for the feature 'Volume-14':\n"
     ]
    },
    {
     "data": {
      "text/plain": [
       "(79, 480)"
      ]
     },
     "metadata": {},
     "output_type": "display_data"
    },
    {
     "name": "stdout",
     "output_type": "stream",
     "text": [
      "Data points considered outliers for the feature 'Adj Close-14':\n"
     ]
    },
    {
     "data": {
      "text/plain": [
       "(64, 480)"
      ]
     },
     "metadata": {},
     "output_type": "display_data"
    },
    {
     "name": "stdout",
     "output_type": "stream",
     "text": [
      "Data points considered outliers for the feature 'Dow Jones index-14':\n"
     ]
    },
    {
     "data": {
      "text/plain": [
       "(81, 480)"
      ]
     },
     "metadata": {},
     "output_type": "display_data"
    },
    {
     "name": "stdout",
     "output_type": "stream",
     "text": [
      "Data points considered outliers for the feature 'Exchange Rate USD Sell-14':\n"
     ]
    },
    {
     "data": {
      "text/plain": [
       "(76, 480)"
      ]
     },
     "metadata": {},
     "output_type": "display_data"
    },
    {
     "name": "stdout",
     "output_type": "stream",
     "text": [
      "Data points considered outliers for the feature 'BM&F Gold gramme-14':\n"
     ]
    },
    {
     "data": {
      "text/plain": [
       "(48, 480)"
      ]
     },
     "metadata": {},
     "output_type": "display_data"
    },
    {
     "name": "stdout",
     "output_type": "stream",
     "text": [
      "Data points considered outliers for the feature 'Exchange Rate USD Buy-14':\n"
     ]
    },
    {
     "data": {
      "text/plain": [
       "(75, 480)"
      ]
     },
     "metadata": {},
     "output_type": "display_data"
    },
    {
     "name": "stdout",
     "output_type": "stream",
     "text": [
      "Data points considered outliers for the feature 'Selic-14':\n"
     ]
    },
    {
     "data": {
      "text/plain": [
       "(532, 480)"
      ]
     },
     "metadata": {},
     "output_type": "display_data"
    },
    {
     "name": "stdout",
     "output_type": "stream",
     "text": [
      "Data points considered outliers for the feature 'Bovespa index-14':\n"
     ]
    },
    {
     "data": {
      "text/plain": [
       "(25, 480)"
      ]
     },
     "metadata": {},
     "output_type": "display_data"
    },
    {
     "name": "stdout",
     "output_type": "stream",
     "text": [
      "Data points considered outliers for the feature 'Foreign exchange operations balance-14':\n"
     ]
    },
    {
     "data": {
      "text/plain": [
       "(267, 480)"
      ]
     },
     "metadata": {},
     "output_type": "display_data"
    },
    {
     "name": "stdout",
     "output_type": "stream",
     "text": [
      "Data points considered outliers for the feature 'Nasdaq index-14':\n"
     ]
    },
    {
     "data": {
      "text/plain": [
       "(68, 480)"
      ]
     },
     "metadata": {},
     "output_type": "display_data"
    },
    {
     "name": "stdout",
     "output_type": "stream",
     "text": [
      "Data points considered outliers for the feature 'Bovespa total volume-14':\n"
     ]
    },
    {
     "data": {
      "text/plain": [
       "(76, 480)"
      ]
     },
     "metadata": {},
     "output_type": "display_data"
    },
    {
     "name": "stdout",
     "output_type": "stream",
     "text": [
      "Data points considered outliers for the feature 'International Reserves-14':\n"
     ]
    },
    {
     "data": {
      "text/plain": [
       "(136, 480)"
      ]
     },
     "metadata": {},
     "output_type": "display_data"
    },
    {
     "name": "stdout",
     "output_type": "stream",
     "text": [
      "Data points considered outliers for the feature 'Open-15':\n"
     ]
    },
    {
     "data": {
      "text/plain": [
       "(64, 480)"
      ]
     },
     "metadata": {},
     "output_type": "display_data"
    },
    {
     "name": "stdout",
     "output_type": "stream",
     "text": [
      "Data points considered outliers for the feature 'High-15':\n"
     ]
    },
    {
     "data": {
      "text/plain": [
       "(61, 480)"
      ]
     },
     "metadata": {},
     "output_type": "display_data"
    },
    {
     "name": "stdout",
     "output_type": "stream",
     "text": [
      "Data points considered outliers for the feature 'Low-15':\n"
     ]
    },
    {
     "data": {
      "text/plain": [
       "(61, 480)"
      ]
     },
     "metadata": {},
     "output_type": "display_data"
    },
    {
     "name": "stdout",
     "output_type": "stream",
     "text": [
      "Data points considered outliers for the feature 'Close-15':\n"
     ]
    },
    {
     "data": {
      "text/plain": [
       "(57, 480)"
      ]
     },
     "metadata": {},
     "output_type": "display_data"
    },
    {
     "name": "stdout",
     "output_type": "stream",
     "text": [
      "Data points considered outliers for the feature 'Volume-15':\n"
     ]
    },
    {
     "data": {
      "text/plain": [
       "(82, 480)"
      ]
     },
     "metadata": {},
     "output_type": "display_data"
    },
    {
     "name": "stdout",
     "output_type": "stream",
     "text": [
      "Data points considered outliers for the feature 'Adj Close-15':\n"
     ]
    },
    {
     "data": {
      "text/plain": [
       "(61, 480)"
      ]
     },
     "metadata": {},
     "output_type": "display_data"
    },
    {
     "name": "stdout",
     "output_type": "stream",
     "text": [
      "Data points considered outliers for the feature 'Dow Jones index-15':\n"
     ]
    },
    {
     "data": {
      "text/plain": [
       "(89, 480)"
      ]
     },
     "metadata": {},
     "output_type": "display_data"
    },
    {
     "name": "stdout",
     "output_type": "stream",
     "text": [
      "Data points considered outliers for the feature 'Exchange Rate USD Sell-15':\n"
     ]
    },
    {
     "data": {
      "text/plain": [
       "(75, 480)"
      ]
     },
     "metadata": {},
     "output_type": "display_data"
    },
    {
     "name": "stdout",
     "output_type": "stream",
     "text": [
      "Data points considered outliers for the feature 'BM&F Gold gramme-15':\n"
     ]
    },
    {
     "data": {
      "text/plain": [
       "(52, 480)"
      ]
     },
     "metadata": {},
     "output_type": "display_data"
    },
    {
     "name": "stdout",
     "output_type": "stream",
     "text": [
      "Data points considered outliers for the feature 'Exchange Rate USD Buy-15':\n"
     ]
    },
    {
     "data": {
      "text/plain": [
       "(75, 480)"
      ]
     },
     "metadata": {},
     "output_type": "display_data"
    },
    {
     "name": "stdout",
     "output_type": "stream",
     "text": [
      "Data points considered outliers for the feature 'Selic-15':\n"
     ]
    },
    {
     "data": {
      "text/plain": [
       "(570, 480)"
      ]
     },
     "metadata": {},
     "output_type": "display_data"
    },
    {
     "name": "stdout",
     "output_type": "stream",
     "text": [
      "Data points considered outliers for the feature 'Bovespa index-15':\n"
     ]
    },
    {
     "data": {
      "text/plain": [
       "(29, 480)"
      ]
     },
     "metadata": {},
     "output_type": "display_data"
    },
    {
     "name": "stdout",
     "output_type": "stream",
     "text": [
      "Data points considered outliers for the feature 'Foreign exchange operations balance-15':\n"
     ]
    },
    {
     "data": {
      "text/plain": [
       "(289, 480)"
      ]
     },
     "metadata": {},
     "output_type": "display_data"
    },
    {
     "name": "stdout",
     "output_type": "stream",
     "text": [
      "Data points considered outliers for the feature 'Nasdaq index-15':\n"
     ]
    },
    {
     "data": {
      "text/plain": [
       "(74, 480)"
      ]
     },
     "metadata": {},
     "output_type": "display_data"
    },
    {
     "name": "stdout",
     "output_type": "stream",
     "text": [
      "Data points considered outliers for the feature 'Bovespa total volume-15':\n"
     ]
    },
    {
     "data": {
      "text/plain": [
       "(96, 480)"
      ]
     },
     "metadata": {},
     "output_type": "display_data"
    },
    {
     "name": "stdout",
     "output_type": "stream",
     "text": [
      "Data points considered outliers for the feature 'International Reserves-15':\n"
     ]
    },
    {
     "data": {
      "text/plain": [
       "(146, 480)"
      ]
     },
     "metadata": {},
     "output_type": "display_data"
    },
    {
     "name": "stdout",
     "output_type": "stream",
     "text": [
      "Data points considered outliers for the feature 'Open-16':\n"
     ]
    },
    {
     "data": {
      "text/plain": [
       "(67, 480)"
      ]
     },
     "metadata": {},
     "output_type": "display_data"
    },
    {
     "name": "stdout",
     "output_type": "stream",
     "text": [
      "Data points considered outliers for the feature 'High-16':\n"
     ]
    },
    {
     "data": {
      "text/plain": [
       "(63, 480)"
      ]
     },
     "metadata": {},
     "output_type": "display_data"
    },
    {
     "name": "stdout",
     "output_type": "stream",
     "text": [
      "Data points considered outliers for the feature 'Low-16':\n"
     ]
    },
    {
     "data": {
      "text/plain": [
       "(63, 480)"
      ]
     },
     "metadata": {},
     "output_type": "display_data"
    },
    {
     "name": "stdout",
     "output_type": "stream",
     "text": [
      "Data points considered outliers for the feature 'Close-16':\n"
     ]
    },
    {
     "data": {
      "text/plain": [
       "(63, 480)"
      ]
     },
     "metadata": {},
     "output_type": "display_data"
    },
    {
     "name": "stdout",
     "output_type": "stream",
     "text": [
      "Data points considered outliers for the feature 'Volume-16':\n"
     ]
    },
    {
     "data": {
      "text/plain": [
       "(72, 480)"
      ]
     },
     "metadata": {},
     "output_type": "display_data"
    },
    {
     "name": "stdout",
     "output_type": "stream",
     "text": [
      "Data points considered outliers for the feature 'Adj Close-16':\n"
     ]
    },
    {
     "data": {
      "text/plain": [
       "(61, 480)"
      ]
     },
     "metadata": {},
     "output_type": "display_data"
    },
    {
     "name": "stdout",
     "output_type": "stream",
     "text": [
      "Data points considered outliers for the feature 'Dow Jones index-16':\n"
     ]
    },
    {
     "data": {
      "text/plain": [
       "(93, 480)"
      ]
     },
     "metadata": {},
     "output_type": "display_data"
    },
    {
     "name": "stdout",
     "output_type": "stream",
     "text": [
      "Data points considered outliers for the feature 'Exchange Rate USD Sell-16':\n"
     ]
    },
    {
     "data": {
      "text/plain": [
       "(78, 480)"
      ]
     },
     "metadata": {},
     "output_type": "display_data"
    },
    {
     "name": "stdout",
     "output_type": "stream",
     "text": [
      "Data points considered outliers for the feature 'BM&F Gold gramme-16':\n"
     ]
    },
    {
     "data": {
      "text/plain": [
       "(49, 480)"
      ]
     },
     "metadata": {},
     "output_type": "display_data"
    },
    {
     "name": "stdout",
     "output_type": "stream",
     "text": [
      "Data points considered outliers for the feature 'Exchange Rate USD Buy-16':\n"
     ]
    },
    {
     "data": {
      "text/plain": [
       "(78, 480)"
      ]
     },
     "metadata": {},
     "output_type": "display_data"
    },
    {
     "name": "stdout",
     "output_type": "stream",
     "text": [
      "Data points considered outliers for the feature 'Selic-16':\n"
     ]
    },
    {
     "data": {
      "text/plain": [
       "(607, 480)"
      ]
     },
     "metadata": {},
     "output_type": "display_data"
    },
    {
     "name": "stdout",
     "output_type": "stream",
     "text": [
      "Data points considered outliers for the feature 'Bovespa index-16':\n"
     ]
    },
    {
     "data": {
      "text/plain": [
       "(26, 480)"
      ]
     },
     "metadata": {},
     "output_type": "display_data"
    },
    {
     "name": "stdout",
     "output_type": "stream",
     "text": [
      "Data points considered outliers for the feature 'Foreign exchange operations balance-16':\n"
     ]
    },
    {
     "data": {
      "text/plain": [
       "(284, 480)"
      ]
     },
     "metadata": {},
     "output_type": "display_data"
    },
    {
     "name": "stdout",
     "output_type": "stream",
     "text": [
      "Data points considered outliers for the feature 'Nasdaq index-16':\n"
     ]
    },
    {
     "data": {
      "text/plain": [
       "(80, 480)"
      ]
     },
     "metadata": {},
     "output_type": "display_data"
    },
    {
     "name": "stdout",
     "output_type": "stream",
     "text": [
      "Data points considered outliers for the feature 'Bovespa total volume-16':\n"
     ]
    },
    {
     "data": {
      "text/plain": [
       "(78, 480)"
      ]
     },
     "metadata": {},
     "output_type": "display_data"
    },
    {
     "name": "stdout",
     "output_type": "stream",
     "text": [
      "Data points considered outliers for the feature 'International Reserves-16':\n"
     ]
    },
    {
     "data": {
      "text/plain": [
       "(158, 480)"
      ]
     },
     "metadata": {},
     "output_type": "display_data"
    },
    {
     "name": "stdout",
     "output_type": "stream",
     "text": [
      "Data points considered outliers for the feature 'Open-17':\n"
     ]
    },
    {
     "data": {
      "text/plain": [
       "(72, 480)"
      ]
     },
     "metadata": {},
     "output_type": "display_data"
    },
    {
     "name": "stdout",
     "output_type": "stream",
     "text": [
      "Data points considered outliers for the feature 'High-17':\n"
     ]
    },
    {
     "data": {
      "text/plain": [
       "(72, 480)"
      ]
     },
     "metadata": {},
     "output_type": "display_data"
    },
    {
     "name": "stdout",
     "output_type": "stream",
     "text": [
      "Data points considered outliers for the feature 'Low-17':\n"
     ]
    },
    {
     "data": {
      "text/plain": [
       "(67, 480)"
      ]
     },
     "metadata": {},
     "output_type": "display_data"
    },
    {
     "name": "stdout",
     "output_type": "stream",
     "text": [
      "Data points considered outliers for the feature 'Close-17':\n"
     ]
    },
    {
     "data": {
      "text/plain": [
       "(68, 480)"
      ]
     },
     "metadata": {},
     "output_type": "display_data"
    },
    {
     "name": "stdout",
     "output_type": "stream",
     "text": [
      "Data points considered outliers for the feature 'Volume-17':\n"
     ]
    },
    {
     "data": {
      "text/plain": [
       "(77, 480)"
      ]
     },
     "metadata": {},
     "output_type": "display_data"
    },
    {
     "name": "stdout",
     "output_type": "stream",
     "text": [
      "Data points considered outliers for the feature 'Adj Close-17':\n"
     ]
    },
    {
     "data": {
      "text/plain": [
       "(74, 480)"
      ]
     },
     "metadata": {},
     "output_type": "display_data"
    },
    {
     "name": "stdout",
     "output_type": "stream",
     "text": [
      "Data points considered outliers for the feature 'Dow Jones index-17':\n"
     ]
    },
    {
     "data": {
      "text/plain": [
       "(99, 480)"
      ]
     },
     "metadata": {},
     "output_type": "display_data"
    },
    {
     "name": "stdout",
     "output_type": "stream",
     "text": [
      "Data points considered outliers for the feature 'Exchange Rate USD Sell-17':\n"
     ]
    },
    {
     "data": {
      "text/plain": [
       "(75, 480)"
      ]
     },
     "metadata": {},
     "output_type": "display_data"
    },
    {
     "name": "stdout",
     "output_type": "stream",
     "text": [
      "Data points considered outliers for the feature 'BM&F Gold gramme-17':\n"
     ]
    },
    {
     "data": {
      "text/plain": [
       "(56, 480)"
      ]
     },
     "metadata": {},
     "output_type": "display_data"
    },
    {
     "name": "stdout",
     "output_type": "stream",
     "text": [
      "Data points considered outliers for the feature 'Exchange Rate USD Buy-17':\n"
     ]
    },
    {
     "data": {
      "text/plain": [
       "(75, 480)"
      ]
     },
     "metadata": {},
     "output_type": "display_data"
    },
    {
     "name": "stdout",
     "output_type": "stream",
     "text": [
      "Data points considered outliers for the feature 'Selic-17':\n"
     ]
    },
    {
     "data": {
      "text/plain": [
       "(645, 480)"
      ]
     },
     "metadata": {},
     "output_type": "display_data"
    },
    {
     "name": "stdout",
     "output_type": "stream",
     "text": [
      "Data points considered outliers for the feature 'Bovespa index-17':\n"
     ]
    },
    {
     "data": {
      "text/plain": [
       "(27, 480)"
      ]
     },
     "metadata": {},
     "output_type": "display_data"
    },
    {
     "name": "stdout",
     "output_type": "stream",
     "text": [
      "Data points considered outliers for the feature 'Foreign exchange operations balance-17':\n"
     ]
    },
    {
     "data": {
      "text/plain": [
       "(291, 480)"
      ]
     },
     "metadata": {},
     "output_type": "display_data"
    },
    {
     "name": "stdout",
     "output_type": "stream",
     "text": [
      "Data points considered outliers for the feature 'Nasdaq index-17':\n"
     ]
    },
    {
     "data": {
      "text/plain": [
       "(74, 480)"
      ]
     },
     "metadata": {},
     "output_type": "display_data"
    },
    {
     "name": "stdout",
     "output_type": "stream",
     "text": [
      "Data points considered outliers for the feature 'Bovespa total volume-17':\n"
     ]
    },
    {
     "data": {
      "text/plain": [
       "(77, 480)"
      ]
     },
     "metadata": {},
     "output_type": "display_data"
    },
    {
     "name": "stdout",
     "output_type": "stream",
     "text": [
      "Data points considered outliers for the feature 'International Reserves-17':\n"
     ]
    },
    {
     "data": {
      "text/plain": [
       "(160, 480)"
      ]
     },
     "metadata": {},
     "output_type": "display_data"
    },
    {
     "name": "stdout",
     "output_type": "stream",
     "text": [
      "Data points considered outliers for the feature 'Open-18':\n"
     ]
    },
    {
     "data": {
      "text/plain": [
       "(69, 480)"
      ]
     },
     "metadata": {},
     "output_type": "display_data"
    },
    {
     "name": "stdout",
     "output_type": "stream",
     "text": [
      "Data points considered outliers for the feature 'High-18':\n"
     ]
    },
    {
     "data": {
      "text/plain": [
       "(67, 480)"
      ]
     },
     "metadata": {},
     "output_type": "display_data"
    },
    {
     "name": "stdout",
     "output_type": "stream",
     "text": [
      "Data points considered outliers for the feature 'Low-18':\n"
     ]
    },
    {
     "data": {
      "text/plain": [
       "(69, 480)"
      ]
     },
     "metadata": {},
     "output_type": "display_data"
    },
    {
     "name": "stdout",
     "output_type": "stream",
     "text": [
      "Data points considered outliers for the feature 'Close-18':\n"
     ]
    },
    {
     "data": {
      "text/plain": [
       "(69, 480)"
      ]
     },
     "metadata": {},
     "output_type": "display_data"
    },
    {
     "name": "stdout",
     "output_type": "stream",
     "text": [
      "Data points considered outliers for the feature 'Volume-18':\n"
     ]
    },
    {
     "data": {
      "text/plain": [
       "(76, 480)"
      ]
     },
     "metadata": {},
     "output_type": "display_data"
    },
    {
     "name": "stdout",
     "output_type": "stream",
     "text": [
      "Data points considered outliers for the feature 'Adj Close-18':\n"
     ]
    },
    {
     "data": {
      "text/plain": [
       "(75, 480)"
      ]
     },
     "metadata": {},
     "output_type": "display_data"
    },
    {
     "name": "stdout",
     "output_type": "stream",
     "text": [
      "Data points considered outliers for the feature 'Dow Jones index-18':\n"
     ]
    },
    {
     "data": {
      "text/plain": [
       "(88, 480)"
      ]
     },
     "metadata": {},
     "output_type": "display_data"
    },
    {
     "name": "stdout",
     "output_type": "stream",
     "text": [
      "Data points considered outliers for the feature 'Exchange Rate USD Sell-18':\n"
     ]
    },
    {
     "data": {
      "text/plain": [
       "(68, 480)"
      ]
     },
     "metadata": {},
     "output_type": "display_data"
    },
    {
     "name": "stdout",
     "output_type": "stream",
     "text": [
      "Data points considered outliers for the feature 'BM&F Gold gramme-18':\n"
     ]
    },
    {
     "data": {
      "text/plain": [
       "(57, 480)"
      ]
     },
     "metadata": {},
     "output_type": "display_data"
    },
    {
     "name": "stdout",
     "output_type": "stream",
     "text": [
      "Data points considered outliers for the feature 'Exchange Rate USD Buy-18':\n"
     ]
    },
    {
     "data": {
      "text/plain": [
       "(68, 480)"
      ]
     },
     "metadata": {},
     "output_type": "display_data"
    },
    {
     "name": "stdout",
     "output_type": "stream",
     "text": [
      "Data points considered outliers for the feature 'Selic-18':\n"
     ]
    },
    {
     "data": {
      "text/plain": [
       "(682, 480)"
      ]
     },
     "metadata": {},
     "output_type": "display_data"
    },
    {
     "name": "stdout",
     "output_type": "stream",
     "text": [
      "Data points considered outliers for the feature 'Bovespa index-18':\n"
     ]
    },
    {
     "data": {
      "text/plain": [
       "(36, 480)"
      ]
     },
     "metadata": {},
     "output_type": "display_data"
    },
    {
     "name": "stdout",
     "output_type": "stream",
     "text": [
      "Data points considered outliers for the feature 'Foreign exchange operations balance-18':\n"
     ]
    },
    {
     "data": {
      "text/plain": [
       "(283, 480)"
      ]
     },
     "metadata": {},
     "output_type": "display_data"
    },
    {
     "name": "stdout",
     "output_type": "stream",
     "text": [
      "Data points considered outliers for the feature 'Nasdaq index-18':\n"
     ]
    },
    {
     "data": {
      "text/plain": [
       "(74, 480)"
      ]
     },
     "metadata": {},
     "output_type": "display_data"
    },
    {
     "name": "stdout",
     "output_type": "stream",
     "text": [
      "Data points considered outliers for the feature 'Bovespa total volume-18':\n"
     ]
    },
    {
     "data": {
      "text/plain": [
       "(81, 480)"
      ]
     },
     "metadata": {},
     "output_type": "display_data"
    },
    {
     "name": "stdout",
     "output_type": "stream",
     "text": [
      "Data points considered outliers for the feature 'International Reserves-18':\n"
     ]
    },
    {
     "data": {
      "text/plain": [
       "(172, 480)"
      ]
     },
     "metadata": {},
     "output_type": "display_data"
    },
    {
     "name": "stdout",
     "output_type": "stream",
     "text": [
      "Data points considered outliers for the feature 'Open-19':\n"
     ]
    },
    {
     "data": {
      "text/plain": [
       "(68, 480)"
      ]
     },
     "metadata": {},
     "output_type": "display_data"
    },
    {
     "name": "stdout",
     "output_type": "stream",
     "text": [
      "Data points considered outliers for the feature 'High-19':\n"
     ]
    },
    {
     "data": {
      "text/plain": [
       "(64, 480)"
      ]
     },
     "metadata": {},
     "output_type": "display_data"
    },
    {
     "name": "stdout",
     "output_type": "stream",
     "text": [
      "Data points considered outliers for the feature 'Low-19':\n"
     ]
    },
    {
     "data": {
      "text/plain": [
       "(67, 480)"
      ]
     },
     "metadata": {},
     "output_type": "display_data"
    },
    {
     "name": "stdout",
     "output_type": "stream",
     "text": [
      "Data points considered outliers for the feature 'Close-19':\n"
     ]
    },
    {
     "data": {
      "text/plain": [
       "(67, 480)"
      ]
     },
     "metadata": {},
     "output_type": "display_data"
    },
    {
     "name": "stdout",
     "output_type": "stream",
     "text": [
      "Data points considered outliers for the feature 'Volume-19':\n"
     ]
    },
    {
     "data": {
      "text/plain": [
       "(78, 480)"
      ]
     },
     "metadata": {},
     "output_type": "display_data"
    },
    {
     "name": "stdout",
     "output_type": "stream",
     "text": [
      "Data points considered outliers for the feature 'Adj Close-19':\n"
     ]
    },
    {
     "data": {
      "text/plain": [
       "(70, 480)"
      ]
     },
     "metadata": {},
     "output_type": "display_data"
    },
    {
     "name": "stdout",
     "output_type": "stream",
     "text": [
      "Data points considered outliers for the feature 'Dow Jones index-19':\n"
     ]
    },
    {
     "data": {
      "text/plain": [
       "(88, 480)"
      ]
     },
     "metadata": {},
     "output_type": "display_data"
    },
    {
     "name": "stdout",
     "output_type": "stream",
     "text": [
      "Data points considered outliers for the feature 'Exchange Rate USD Sell-19':\n"
     ]
    },
    {
     "data": {
      "text/plain": [
       "(75, 480)"
      ]
     },
     "metadata": {},
     "output_type": "display_data"
    },
    {
     "name": "stdout",
     "output_type": "stream",
     "text": [
      "Data points considered outliers for the feature 'BM&F Gold gramme-19':\n"
     ]
    },
    {
     "data": {
      "text/plain": [
       "(67, 480)"
      ]
     },
     "metadata": {},
     "output_type": "display_data"
    },
    {
     "name": "stdout",
     "output_type": "stream",
     "text": [
      "Data points considered outliers for the feature 'Exchange Rate USD Buy-19':\n"
     ]
    },
    {
     "data": {
      "text/plain": [
       "(75, 480)"
      ]
     },
     "metadata": {},
     "output_type": "display_data"
    },
    {
     "name": "stdout",
     "output_type": "stream",
     "text": [
      "Data points considered outliers for the feature 'Selic-19':\n"
     ]
    },
    {
     "data": {
      "text/plain": [
       "(416, 480)"
      ]
     },
     "metadata": {},
     "output_type": "display_data"
    },
    {
     "name": "stdout",
     "output_type": "stream",
     "text": [
      "Data points considered outliers for the feature 'Bovespa index-19':\n"
     ]
    },
    {
     "data": {
      "text/plain": [
       "(39, 480)"
      ]
     },
     "metadata": {},
     "output_type": "display_data"
    },
    {
     "name": "stdout",
     "output_type": "stream",
     "text": [
      "Data points considered outliers for the feature 'Foreign exchange operations balance-19':\n"
     ]
    },
    {
     "data": {
      "text/plain": [
       "(266, 480)"
      ]
     },
     "metadata": {},
     "output_type": "display_data"
    },
    {
     "name": "stdout",
     "output_type": "stream",
     "text": [
      "Data points considered outliers for the feature 'Nasdaq index-19':\n"
     ]
    },
    {
     "data": {
      "text/plain": [
       "(75, 480)"
      ]
     },
     "metadata": {},
     "output_type": "display_data"
    },
    {
     "name": "stdout",
     "output_type": "stream",
     "text": [
      "Data points considered outliers for the feature 'Bovespa total volume-19':\n"
     ]
    },
    {
     "data": {
      "text/plain": [
       "(87, 480)"
      ]
     },
     "metadata": {},
     "output_type": "display_data"
    },
    {
     "name": "stdout",
     "output_type": "stream",
     "text": [
      "Data points considered outliers for the feature 'International Reserves-19':\n"
     ]
    },
    {
     "data": {
      "text/plain": [
       "(177, 480)"
      ]
     },
     "metadata": {},
     "output_type": "display_data"
    },
    {
     "name": "stdout",
     "output_type": "stream",
     "text": [
      "Data points considered outliers for the feature 'Open-20':\n"
     ]
    },
    {
     "data": {
      "text/plain": [
       "(66, 480)"
      ]
     },
     "metadata": {},
     "output_type": "display_data"
    },
    {
     "name": "stdout",
     "output_type": "stream",
     "text": [
      "Data points considered outliers for the feature 'High-20':\n"
     ]
    },
    {
     "data": {
      "text/plain": [
       "(70, 480)"
      ]
     },
     "metadata": {},
     "output_type": "display_data"
    },
    {
     "name": "stdout",
     "output_type": "stream",
     "text": [
      "Data points considered outliers for the feature 'Low-20':\n"
     ]
    },
    {
     "data": {
      "text/plain": [
       "(59, 480)"
      ]
     },
     "metadata": {},
     "output_type": "display_data"
    },
    {
     "name": "stdout",
     "output_type": "stream",
     "text": [
      "Data points considered outliers for the feature 'Close-20':\n"
     ]
    },
    {
     "data": {
      "text/plain": [
       "(64, 480)"
      ]
     },
     "metadata": {},
     "output_type": "display_data"
    },
    {
     "name": "stdout",
     "output_type": "stream",
     "text": [
      "Data points considered outliers for the feature 'Volume-20':\n"
     ]
    },
    {
     "data": {
      "text/plain": [
       "(82, 480)"
      ]
     },
     "metadata": {},
     "output_type": "display_data"
    },
    {
     "name": "stdout",
     "output_type": "stream",
     "text": [
      "Data points considered outliers for the feature 'Adj Close-20':\n"
     ]
    },
    {
     "data": {
      "text/plain": [
       "(66, 480)"
      ]
     },
     "metadata": {},
     "output_type": "display_data"
    },
    {
     "name": "stdout",
     "output_type": "stream",
     "text": [
      "Data points considered outliers for the feature 'Dow Jones index-20':\n"
     ]
    },
    {
     "data": {
      "text/plain": [
       "(87, 480)"
      ]
     },
     "metadata": {},
     "output_type": "display_data"
    },
    {
     "name": "stdout",
     "output_type": "stream",
     "text": [
      "Data points considered outliers for the feature 'Exchange Rate USD Sell-20':\n"
     ]
    },
    {
     "data": {
      "text/plain": [
       "(69, 480)"
      ]
     },
     "metadata": {},
     "output_type": "display_data"
    },
    {
     "name": "stdout",
     "output_type": "stream",
     "text": [
      "Data points considered outliers for the feature 'BM&F Gold gramme-20':\n"
     ]
    },
    {
     "data": {
      "text/plain": [
       "(56, 480)"
      ]
     },
     "metadata": {},
     "output_type": "display_data"
    },
    {
     "name": "stdout",
     "output_type": "stream",
     "text": [
      "Data points considered outliers for the feature 'Exchange Rate USD Buy-20':\n"
     ]
    },
    {
     "data": {
      "text/plain": [
       "(68, 480)"
      ]
     },
     "metadata": {},
     "output_type": "display_data"
    },
    {
     "name": "stdout",
     "output_type": "stream",
     "text": [
      "Data points considered outliers for the feature 'Selic-20':\n"
     ]
    },
    {
     "data": {
      "text/plain": [
       "(437, 480)"
      ]
     },
     "metadata": {},
     "output_type": "display_data"
    },
    {
     "name": "stdout",
     "output_type": "stream",
     "text": [
      "Data points considered outliers for the feature 'Bovespa index-20':\n"
     ]
    },
    {
     "data": {
      "text/plain": [
       "(36, 480)"
      ]
     },
     "metadata": {},
     "output_type": "display_data"
    },
    {
     "name": "stdout",
     "output_type": "stream",
     "text": [
      "Data points considered outliers for the feature 'Foreign exchange operations balance-20':\n"
     ]
    },
    {
     "data": {
      "text/plain": [
       "(270, 480)"
      ]
     },
     "metadata": {},
     "output_type": "display_data"
    },
    {
     "name": "stdout",
     "output_type": "stream",
     "text": [
      "Data points considered outliers for the feature 'Nasdaq index-20':\n"
     ]
    },
    {
     "data": {
      "text/plain": [
       "(70, 480)"
      ]
     },
     "metadata": {},
     "output_type": "display_data"
    },
    {
     "name": "stdout",
     "output_type": "stream",
     "text": [
      "Data points considered outliers for the feature 'Bovespa total volume-20':\n"
     ]
    },
    {
     "data": {
      "text/plain": [
       "(94, 480)"
      ]
     },
     "metadata": {},
     "output_type": "display_data"
    },
    {
     "name": "stdout",
     "output_type": "stream",
     "text": [
      "Data points considered outliers for the feature 'International Reserves-20':\n"
     ]
    },
    {
     "data": {
      "text/plain": [
       "(174, 480)"
      ]
     },
     "metadata": {},
     "output_type": "display_data"
    },
    {
     "name": "stdout",
     "output_type": "stream",
     "text": [
      "Data points considered outliers for the feature 'Open-21':\n"
     ]
    },
    {
     "data": {
      "text/plain": [
       "(60, 480)"
      ]
     },
     "metadata": {},
     "output_type": "display_data"
    },
    {
     "name": "stdout",
     "output_type": "stream",
     "text": [
      "Data points considered outliers for the feature 'High-21':\n"
     ]
    },
    {
     "data": {
      "text/plain": [
       "(63, 480)"
      ]
     },
     "metadata": {},
     "output_type": "display_data"
    },
    {
     "name": "stdout",
     "output_type": "stream",
     "text": [
      "Data points considered outliers for the feature 'Low-21':\n"
     ]
    },
    {
     "data": {
      "text/plain": [
       "(60, 480)"
      ]
     },
     "metadata": {},
     "output_type": "display_data"
    },
    {
     "name": "stdout",
     "output_type": "stream",
     "text": [
      "Data points considered outliers for the feature 'Close-21':\n"
     ]
    },
    {
     "data": {
      "text/plain": [
       "(64, 480)"
      ]
     },
     "metadata": {},
     "output_type": "display_data"
    },
    {
     "name": "stdout",
     "output_type": "stream",
     "text": [
      "Data points considered outliers for the feature 'Volume-21':\n"
     ]
    },
    {
     "data": {
      "text/plain": [
       "(65, 480)"
      ]
     },
     "metadata": {},
     "output_type": "display_data"
    },
    {
     "name": "stdout",
     "output_type": "stream",
     "text": [
      "Data points considered outliers for the feature 'Adj Close-21':\n"
     ]
    },
    {
     "data": {
      "text/plain": [
       "(69, 480)"
      ]
     },
     "metadata": {},
     "output_type": "display_data"
    },
    {
     "name": "stdout",
     "output_type": "stream",
     "text": [
      "Data points considered outliers for the feature 'Dow Jones index-21':\n"
     ]
    },
    {
     "data": {
      "text/plain": [
       "(87, 480)"
      ]
     },
     "metadata": {},
     "output_type": "display_data"
    },
    {
     "name": "stdout",
     "output_type": "stream",
     "text": [
      "Data points considered outliers for the feature 'Exchange Rate USD Sell-21':\n"
     ]
    },
    {
     "data": {
      "text/plain": [
       "(73, 480)"
      ]
     },
     "metadata": {},
     "output_type": "display_data"
    },
    {
     "name": "stdout",
     "output_type": "stream",
     "text": [
      "Data points considered outliers for the feature 'BM&F Gold gramme-21':\n"
     ]
    },
    {
     "data": {
      "text/plain": [
       "(58, 480)"
      ]
     },
     "metadata": {},
     "output_type": "display_data"
    },
    {
     "name": "stdout",
     "output_type": "stream",
     "text": [
      "Data points considered outliers for the feature 'Exchange Rate USD Buy-21':\n"
     ]
    },
    {
     "data": {
      "text/plain": [
       "(73, 480)"
      ]
     },
     "metadata": {},
     "output_type": "display_data"
    },
    {
     "name": "stdout",
     "output_type": "stream",
     "text": [
      "Data points considered outliers for the feature 'Selic-21':\n"
     ]
    },
    {
     "data": {
      "text/plain": [
       "(395, 480)"
      ]
     },
     "metadata": {},
     "output_type": "display_data"
    },
    {
     "name": "stdout",
     "output_type": "stream",
     "text": [
      "Data points considered outliers for the feature 'Bovespa index-21':\n"
     ]
    },
    {
     "data": {
      "text/plain": [
       "(34, 480)"
      ]
     },
     "metadata": {},
     "output_type": "display_data"
    },
    {
     "name": "stdout",
     "output_type": "stream",
     "text": [
      "Data points considered outliers for the feature 'Foreign exchange operations balance-21':\n"
     ]
    },
    {
     "data": {
      "text/plain": [
       "(254, 480)"
      ]
     },
     "metadata": {},
     "output_type": "display_data"
    },
    {
     "name": "stdout",
     "output_type": "stream",
     "text": [
      "Data points considered outliers for the feature 'Nasdaq index-21':\n"
     ]
    },
    {
     "data": {
      "text/plain": [
       "(71, 480)"
      ]
     },
     "metadata": {},
     "output_type": "display_data"
    },
    {
     "name": "stdout",
     "output_type": "stream",
     "text": [
      "Data points considered outliers for the feature 'Bovespa total volume-21':\n"
     ]
    },
    {
     "data": {
      "text/plain": [
       "(86, 480)"
      ]
     },
     "metadata": {},
     "output_type": "display_data"
    },
    {
     "name": "stdout",
     "output_type": "stream",
     "text": [
      "Data points considered outliers for the feature 'International Reserves-21':\n"
     ]
    },
    {
     "data": {
      "text/plain": [
       "(165, 480)"
      ]
     },
     "metadata": {},
     "output_type": "display_data"
    },
    {
     "name": "stdout",
     "output_type": "stream",
     "text": [
      "Data points considered outliers for the feature 'Open-22':\n"
     ]
    },
    {
     "data": {
      "text/plain": [
       "(54, 480)"
      ]
     },
     "metadata": {},
     "output_type": "display_data"
    },
    {
     "name": "stdout",
     "output_type": "stream",
     "text": [
      "Data points considered outliers for the feature 'High-22':\n"
     ]
    },
    {
     "data": {
      "text/plain": [
       "(60, 480)"
      ]
     },
     "metadata": {},
     "output_type": "display_data"
    },
    {
     "name": "stdout",
     "output_type": "stream",
     "text": [
      "Data points considered outliers for the feature 'Low-22':\n"
     ]
    },
    {
     "data": {
      "text/plain": [
       "(60, 480)"
      ]
     },
     "metadata": {},
     "output_type": "display_data"
    },
    {
     "name": "stdout",
     "output_type": "stream",
     "text": [
      "Data points considered outliers for the feature 'Close-22':\n"
     ]
    },
    {
     "data": {
      "text/plain": [
       "(65, 480)"
      ]
     },
     "metadata": {},
     "output_type": "display_data"
    },
    {
     "name": "stdout",
     "output_type": "stream",
     "text": [
      "Data points considered outliers for the feature 'Volume-22':\n"
     ]
    },
    {
     "data": {
      "text/plain": [
       "(68, 480)"
      ]
     },
     "metadata": {},
     "output_type": "display_data"
    },
    {
     "name": "stdout",
     "output_type": "stream",
     "text": [
      "Data points considered outliers for the feature 'Adj Close-22':\n"
     ]
    },
    {
     "data": {
      "text/plain": [
       "(67, 480)"
      ]
     },
     "metadata": {},
     "output_type": "display_data"
    },
    {
     "name": "stdout",
     "output_type": "stream",
     "text": [
      "Data points considered outliers for the feature 'Dow Jones index-22':\n"
     ]
    },
    {
     "data": {
      "text/plain": [
       "(85, 480)"
      ]
     },
     "metadata": {},
     "output_type": "display_data"
    },
    {
     "name": "stdout",
     "output_type": "stream",
     "text": [
      "Data points considered outliers for the feature 'Exchange Rate USD Sell-22':\n"
     ]
    },
    {
     "data": {
      "text/plain": [
       "(67, 480)"
      ]
     },
     "metadata": {},
     "output_type": "display_data"
    },
    {
     "name": "stdout",
     "output_type": "stream",
     "text": [
      "Data points considered outliers for the feature 'BM&F Gold gramme-22':\n"
     ]
    },
    {
     "data": {
      "text/plain": [
       "(65, 480)"
      ]
     },
     "metadata": {},
     "output_type": "display_data"
    },
    {
     "name": "stdout",
     "output_type": "stream",
     "text": [
      "Data points considered outliers for the feature 'Exchange Rate USD Buy-22':\n"
     ]
    },
    {
     "data": {
      "text/plain": [
       "(66, 480)"
      ]
     },
     "metadata": {},
     "output_type": "display_data"
    },
    {
     "name": "stdout",
     "output_type": "stream",
     "text": [
      "Data points considered outliers for the feature 'Selic-22':\n"
     ]
    },
    {
     "data": {
      "text/plain": [
       "(413, 480)"
      ]
     },
     "metadata": {},
     "output_type": "display_data"
    },
    {
     "name": "stdout",
     "output_type": "stream",
     "text": [
      "Data points considered outliers for the feature 'Bovespa index-22':\n"
     ]
    },
    {
     "data": {
      "text/plain": [
       "(41, 480)"
      ]
     },
     "metadata": {},
     "output_type": "display_data"
    },
    {
     "name": "stdout",
     "output_type": "stream",
     "text": [
      "Data points considered outliers for the feature 'Foreign exchange operations balance-22':\n"
     ]
    },
    {
     "data": {
      "text/plain": [
       "(278, 480)"
      ]
     },
     "metadata": {},
     "output_type": "display_data"
    },
    {
     "name": "stdout",
     "output_type": "stream",
     "text": [
      "Data points considered outliers for the feature 'Nasdaq index-22':\n"
     ]
    },
    {
     "data": {
      "text/plain": [
       "(64, 480)"
      ]
     },
     "metadata": {},
     "output_type": "display_data"
    },
    {
     "name": "stdout",
     "output_type": "stream",
     "text": [
      "Data points considered outliers for the feature 'Bovespa total volume-22':\n"
     ]
    },
    {
     "data": {
      "text/plain": [
       "(82, 480)"
      ]
     },
     "metadata": {},
     "output_type": "display_data"
    },
    {
     "name": "stdout",
     "output_type": "stream",
     "text": [
      "Data points considered outliers for the feature 'International Reserves-22':\n"
     ]
    },
    {
     "data": {
      "text/plain": [
       "(167, 480)"
      ]
     },
     "metadata": {},
     "output_type": "display_data"
    },
    {
     "name": "stdout",
     "output_type": "stream",
     "text": [
      "Data points considered outliers for the feature 'Open-23':\n"
     ]
    },
    {
     "data": {
      "text/plain": [
       "(61, 480)"
      ]
     },
     "metadata": {},
     "output_type": "display_data"
    },
    {
     "name": "stdout",
     "output_type": "stream",
     "text": [
      "Data points considered outliers for the feature 'High-23':\n"
     ]
    },
    {
     "data": {
      "text/plain": [
       "(62, 480)"
      ]
     },
     "metadata": {},
     "output_type": "display_data"
    },
    {
     "name": "stdout",
     "output_type": "stream",
     "text": [
      "Data points considered outliers for the feature 'Low-23':\n"
     ]
    },
    {
     "data": {
      "text/plain": [
       "(57, 480)"
      ]
     },
     "metadata": {},
     "output_type": "display_data"
    },
    {
     "name": "stdout",
     "output_type": "stream",
     "text": [
      "Data points considered outliers for the feature 'Close-23':\n"
     ]
    },
    {
     "data": {
      "text/plain": [
       "(64, 480)"
      ]
     },
     "metadata": {},
     "output_type": "display_data"
    },
    {
     "name": "stdout",
     "output_type": "stream",
     "text": [
      "Data points considered outliers for the feature 'Volume-23':\n"
     ]
    },
    {
     "data": {
      "text/plain": [
       "(92, 480)"
      ]
     },
     "metadata": {},
     "output_type": "display_data"
    },
    {
     "name": "stdout",
     "output_type": "stream",
     "text": [
      "Data points considered outliers for the feature 'Adj Close-23':\n"
     ]
    },
    {
     "data": {
      "text/plain": [
       "(64, 480)"
      ]
     },
     "metadata": {},
     "output_type": "display_data"
    },
    {
     "name": "stdout",
     "output_type": "stream",
     "text": [
      "Data points considered outliers for the feature 'Dow Jones index-23':\n"
     ]
    },
    {
     "data": {
      "text/plain": [
       "(81, 480)"
      ]
     },
     "metadata": {},
     "output_type": "display_data"
    },
    {
     "name": "stdout",
     "output_type": "stream",
     "text": [
      "Data points considered outliers for the feature 'Exchange Rate USD Sell-23':\n"
     ]
    },
    {
     "data": {
      "text/plain": [
       "(64, 480)"
      ]
     },
     "metadata": {},
     "output_type": "display_data"
    },
    {
     "name": "stdout",
     "output_type": "stream",
     "text": [
      "Data points considered outliers for the feature 'BM&F Gold gramme-23':\n"
     ]
    },
    {
     "data": {
      "text/plain": [
       "(67, 480)"
      ]
     },
     "metadata": {},
     "output_type": "display_data"
    },
    {
     "name": "stdout",
     "output_type": "stream",
     "text": [
      "Data points considered outliers for the feature 'Exchange Rate USD Buy-23':\n"
     ]
    },
    {
     "data": {
      "text/plain": [
       "(64, 480)"
      ]
     },
     "metadata": {},
     "output_type": "display_data"
    },
    {
     "name": "stdout",
     "output_type": "stream",
     "text": [
      "Data points considered outliers for the feature 'Selic-23':\n"
     ]
    },
    {
     "data": {
      "text/plain": [
       "(407, 480)"
      ]
     },
     "metadata": {},
     "output_type": "display_data"
    },
    {
     "name": "stdout",
     "output_type": "stream",
     "text": [
      "Data points considered outliers for the feature 'Bovespa index-23':\n"
     ]
    },
    {
     "data": {
      "text/plain": [
       "(40, 480)"
      ]
     },
     "metadata": {},
     "output_type": "display_data"
    },
    {
     "name": "stdout",
     "output_type": "stream",
     "text": [
      "Data points considered outliers for the feature 'Foreign exchange operations balance-23':\n"
     ]
    },
    {
     "data": {
      "text/plain": [
       "(263, 480)"
      ]
     },
     "metadata": {},
     "output_type": "display_data"
    },
    {
     "name": "stdout",
     "output_type": "stream",
     "text": [
      "Data points considered outliers for the feature 'Nasdaq index-23':\n"
     ]
    },
    {
     "data": {
      "text/plain": [
       "(67, 480)"
      ]
     },
     "metadata": {},
     "output_type": "display_data"
    },
    {
     "name": "stdout",
     "output_type": "stream",
     "text": [
      "Data points considered outliers for the feature 'Bovespa total volume-23':\n"
     ]
    },
    {
     "data": {
      "text/plain": [
       "(77, 480)"
      ]
     },
     "metadata": {},
     "output_type": "display_data"
    },
    {
     "name": "stdout",
     "output_type": "stream",
     "text": [
      "Data points considered outliers for the feature 'International Reserves-23':\n"
     ]
    },
    {
     "data": {
      "text/plain": [
       "(173, 480)"
      ]
     },
     "metadata": {},
     "output_type": "display_data"
    },
    {
     "name": "stdout",
     "output_type": "stream",
     "text": [
      "Data points considered outliers for the feature 'Open-24':\n"
     ]
    },
    {
     "data": {
      "text/plain": [
       "(58, 480)"
      ]
     },
     "metadata": {},
     "output_type": "display_data"
    },
    {
     "name": "stdout",
     "output_type": "stream",
     "text": [
      "Data points considered outliers for the feature 'High-24':\n"
     ]
    },
    {
     "data": {
      "text/plain": [
       "(64, 480)"
      ]
     },
     "metadata": {},
     "output_type": "display_data"
    },
    {
     "name": "stdout",
     "output_type": "stream",
     "text": [
      "Data points considered outliers for the feature 'Low-24':\n"
     ]
    },
    {
     "data": {
      "text/plain": [
       "(59, 480)"
      ]
     },
     "metadata": {},
     "output_type": "display_data"
    },
    {
     "name": "stdout",
     "output_type": "stream",
     "text": [
      "Data points considered outliers for the feature 'Close-24':\n"
     ]
    },
    {
     "data": {
      "text/plain": [
       "(57, 480)"
      ]
     },
     "metadata": {},
     "output_type": "display_data"
    },
    {
     "name": "stdout",
     "output_type": "stream",
     "text": [
      "Data points considered outliers for the feature 'Volume-24':\n"
     ]
    },
    {
     "data": {
      "text/plain": [
       "(89, 480)"
      ]
     },
     "metadata": {},
     "output_type": "display_data"
    },
    {
     "name": "stdout",
     "output_type": "stream",
     "text": [
      "Data points considered outliers for the feature 'Adj Close-24':\n"
     ]
    },
    {
     "data": {
      "text/plain": [
       "(61, 480)"
      ]
     },
     "metadata": {},
     "output_type": "display_data"
    },
    {
     "name": "stdout",
     "output_type": "stream",
     "text": [
      "Data points considered outliers for the feature 'Dow Jones index-24':\n"
     ]
    },
    {
     "data": {
      "text/plain": [
       "(86, 480)"
      ]
     },
     "metadata": {},
     "output_type": "display_data"
    },
    {
     "name": "stdout",
     "output_type": "stream",
     "text": [
      "Data points considered outliers for the feature 'Exchange Rate USD Sell-24':\n"
     ]
    },
    {
     "data": {
      "text/plain": [
       "(59, 480)"
      ]
     },
     "metadata": {},
     "output_type": "display_data"
    },
    {
     "name": "stdout",
     "output_type": "stream",
     "text": [
      "Data points considered outliers for the feature 'BM&F Gold gramme-24':\n"
     ]
    },
    {
     "data": {
      "text/plain": [
       "(64, 480)"
      ]
     },
     "metadata": {},
     "output_type": "display_data"
    },
    {
     "name": "stdout",
     "output_type": "stream",
     "text": [
      "Data points considered outliers for the feature 'Exchange Rate USD Buy-24':\n"
     ]
    },
    {
     "data": {
      "text/plain": [
       "(59, 480)"
      ]
     },
     "metadata": {},
     "output_type": "display_data"
    },
    {
     "name": "stdout",
     "output_type": "stream",
     "text": [
      "Data points considered outliers for the feature 'Selic-24':\n"
     ]
    },
    {
     "data": {
      "text/plain": [
       "(242, 480)"
      ]
     },
     "metadata": {},
     "output_type": "display_data"
    },
    {
     "name": "stdout",
     "output_type": "stream",
     "text": [
      "Data points considered outliers for the feature 'Bovespa index-24':\n"
     ]
    },
    {
     "data": {
      "text/plain": [
       "(36, 480)"
      ]
     },
     "metadata": {},
     "output_type": "display_data"
    },
    {
     "name": "stdout",
     "output_type": "stream",
     "text": [
      "Data points considered outliers for the feature 'Foreign exchange operations balance-24':\n"
     ]
    },
    {
     "data": {
      "text/plain": [
       "(271, 480)"
      ]
     },
     "metadata": {},
     "output_type": "display_data"
    },
    {
     "name": "stdout",
     "output_type": "stream",
     "text": [
      "Data points considered outliers for the feature 'Nasdaq index-24':\n"
     ]
    },
    {
     "data": {
      "text/plain": [
       "(67, 480)"
      ]
     },
     "metadata": {},
     "output_type": "display_data"
    },
    {
     "name": "stdout",
     "output_type": "stream",
     "text": [
      "Data points considered outliers for the feature 'Bovespa total volume-24':\n"
     ]
    },
    {
     "data": {
      "text/plain": [
       "(71, 480)"
      ]
     },
     "metadata": {},
     "output_type": "display_data"
    },
    {
     "name": "stdout",
     "output_type": "stream",
     "text": [
      "Data points considered outliers for the feature 'International Reserves-24':\n"
     ]
    },
    {
     "data": {
      "text/plain": [
       "(172, 480)"
      ]
     },
     "metadata": {},
     "output_type": "display_data"
    },
    {
     "name": "stdout",
     "output_type": "stream",
     "text": [
      "Data points considered outliers for the feature 'Open-25':\n"
     ]
    },
    {
     "data": {
      "text/plain": [
       "(68, 480)"
      ]
     },
     "metadata": {},
     "output_type": "display_data"
    },
    {
     "name": "stdout",
     "output_type": "stream",
     "text": [
      "Data points considered outliers for the feature 'High-25':\n"
     ]
    },
    {
     "data": {
      "text/plain": [
       "(65, 480)"
      ]
     },
     "metadata": {},
     "output_type": "display_data"
    },
    {
     "name": "stdout",
     "output_type": "stream",
     "text": [
      "Data points considered outliers for the feature 'Low-25':\n"
     ]
    },
    {
     "data": {
      "text/plain": [
       "(61, 480)"
      ]
     },
     "metadata": {},
     "output_type": "display_data"
    },
    {
     "name": "stdout",
     "output_type": "stream",
     "text": [
      "Data points considered outliers for the feature 'Close-25':\n"
     ]
    },
    {
     "data": {
      "text/plain": [
       "(58, 480)"
      ]
     },
     "metadata": {},
     "output_type": "display_data"
    },
    {
     "name": "stdout",
     "output_type": "stream",
     "text": [
      "Data points considered outliers for the feature 'Volume-25':\n"
     ]
    },
    {
     "data": {
      "text/plain": [
       "(77, 480)"
      ]
     },
     "metadata": {},
     "output_type": "display_data"
    },
    {
     "name": "stdout",
     "output_type": "stream",
     "text": [
      "Data points considered outliers for the feature 'Adj Close-25':\n"
     ]
    },
    {
     "data": {
      "text/plain": [
       "(62, 480)"
      ]
     },
     "metadata": {},
     "output_type": "display_data"
    },
    {
     "name": "stdout",
     "output_type": "stream",
     "text": [
      "Data points considered outliers for the feature 'Dow Jones index-25':\n"
     ]
    },
    {
     "data": {
      "text/plain": [
       "(92, 480)"
      ]
     },
     "metadata": {},
     "output_type": "display_data"
    },
    {
     "name": "stdout",
     "output_type": "stream",
     "text": [
      "Data points considered outliers for the feature 'Exchange Rate USD Sell-25':\n"
     ]
    },
    {
     "data": {
      "text/plain": [
       "(59, 480)"
      ]
     },
     "metadata": {},
     "output_type": "display_data"
    },
    {
     "name": "stdout",
     "output_type": "stream",
     "text": [
      "Data points considered outliers for the feature 'BM&F Gold gramme-25':\n"
     ]
    },
    {
     "data": {
      "text/plain": [
       "(67, 480)"
      ]
     },
     "metadata": {},
     "output_type": "display_data"
    },
    {
     "name": "stdout",
     "output_type": "stream",
     "text": [
      "Data points considered outliers for the feature 'Exchange Rate USD Buy-25':\n"
     ]
    },
    {
     "data": {
      "text/plain": [
       "(59, 480)"
      ]
     },
     "metadata": {},
     "output_type": "display_data"
    },
    {
     "name": "stdout",
     "output_type": "stream",
     "text": [
      "Data points considered outliers for the feature 'Selic-25':\n"
     ]
    },
    {
     "data": {
      "text/plain": [
       "(253, 480)"
      ]
     },
     "metadata": {},
     "output_type": "display_data"
    },
    {
     "name": "stdout",
     "output_type": "stream",
     "text": [
      "Data points considered outliers for the feature 'Bovespa index-25':\n"
     ]
    },
    {
     "data": {
      "text/plain": [
       "(38, 480)"
      ]
     },
     "metadata": {},
     "output_type": "display_data"
    },
    {
     "name": "stdout",
     "output_type": "stream",
     "text": [
      "Data points considered outliers for the feature 'Foreign exchange operations balance-25':\n"
     ]
    },
    {
     "data": {
      "text/plain": [
       "(265, 480)"
      ]
     },
     "metadata": {},
     "output_type": "display_data"
    },
    {
     "name": "stdout",
     "output_type": "stream",
     "text": [
      "Data points considered outliers for the feature 'Nasdaq index-25':\n"
     ]
    },
    {
     "data": {
      "text/plain": [
       "(72, 480)"
      ]
     },
     "metadata": {},
     "output_type": "display_data"
    },
    {
     "name": "stdout",
     "output_type": "stream",
     "text": [
      "Data points considered outliers for the feature 'Bovespa total volume-25':\n"
     ]
    },
    {
     "data": {
      "text/plain": [
       "(85, 480)"
      ]
     },
     "metadata": {},
     "output_type": "display_data"
    },
    {
     "name": "stdout",
     "output_type": "stream",
     "text": [
      "Data points considered outliers for the feature 'International Reserves-25':\n"
     ]
    },
    {
     "data": {
      "text/plain": [
       "(163, 480)"
      ]
     },
     "metadata": {},
     "output_type": "display_data"
    },
    {
     "name": "stdout",
     "output_type": "stream",
     "text": [
      "Data points considered outliers for the feature 'Open-26':\n"
     ]
    },
    {
     "data": {
      "text/plain": [
       "(63, 480)"
      ]
     },
     "metadata": {},
     "output_type": "display_data"
    },
    {
     "name": "stdout",
     "output_type": "stream",
     "text": [
      "Data points considered outliers for the feature 'High-26':\n"
     ]
    },
    {
     "data": {
      "text/plain": [
       "(61, 480)"
      ]
     },
     "metadata": {},
     "output_type": "display_data"
    },
    {
     "name": "stdout",
     "output_type": "stream",
     "text": [
      "Data points considered outliers for the feature 'Low-26':\n"
     ]
    },
    {
     "data": {
      "text/plain": [
       "(58, 480)"
      ]
     },
     "metadata": {},
     "output_type": "display_data"
    },
    {
     "name": "stdout",
     "output_type": "stream",
     "text": [
      "Data points considered outliers for the feature 'Close-26':\n"
     ]
    },
    {
     "data": {
      "text/plain": [
       "(60, 480)"
      ]
     },
     "metadata": {},
     "output_type": "display_data"
    },
    {
     "name": "stdout",
     "output_type": "stream",
     "text": [
      "Data points considered outliers for the feature 'Volume-26':\n"
     ]
    },
    {
     "data": {
      "text/plain": [
       "(89, 480)"
      ]
     },
     "metadata": {},
     "output_type": "display_data"
    },
    {
     "name": "stdout",
     "output_type": "stream",
     "text": [
      "Data points considered outliers for the feature 'Adj Close-26':\n"
     ]
    },
    {
     "data": {
      "text/plain": [
       "(61, 480)"
      ]
     },
     "metadata": {},
     "output_type": "display_data"
    },
    {
     "name": "stdout",
     "output_type": "stream",
     "text": [
      "Data points considered outliers for the feature 'Dow Jones index-26':\n"
     ]
    },
    {
     "data": {
      "text/plain": [
       "(87, 480)"
      ]
     },
     "metadata": {},
     "output_type": "display_data"
    },
    {
     "name": "stdout",
     "output_type": "stream",
     "text": [
      "Data points considered outliers for the feature 'Exchange Rate USD Sell-26':\n"
     ]
    },
    {
     "data": {
      "text/plain": [
       "(57, 480)"
      ]
     },
     "metadata": {},
     "output_type": "display_data"
    },
    {
     "name": "stdout",
     "output_type": "stream",
     "text": [
      "Data points considered outliers for the feature 'BM&F Gold gramme-26':\n"
     ]
    },
    {
     "data": {
      "text/plain": [
       "(66, 480)"
      ]
     },
     "metadata": {},
     "output_type": "display_data"
    },
    {
     "name": "stdout",
     "output_type": "stream",
     "text": [
      "Data points considered outliers for the feature 'Exchange Rate USD Buy-26':\n"
     ]
    },
    {
     "data": {
      "text/plain": [
       "(57, 480)"
      ]
     },
     "metadata": {},
     "output_type": "display_data"
    },
    {
     "name": "stdout",
     "output_type": "stream",
     "text": [
      "Data points considered outliers for the feature 'Selic-26':\n"
     ]
    },
    {
     "data": {
      "text/plain": [
       "(239, 480)"
      ]
     },
     "metadata": {},
     "output_type": "display_data"
    },
    {
     "name": "stdout",
     "output_type": "stream",
     "text": [
      "Data points considered outliers for the feature 'Bovespa index-26':\n"
     ]
    },
    {
     "data": {
      "text/plain": [
       "(38, 480)"
      ]
     },
     "metadata": {},
     "output_type": "display_data"
    },
    {
     "name": "stdout",
     "output_type": "stream",
     "text": [
      "Data points considered outliers for the feature 'Foreign exchange operations balance-26':\n"
     ]
    },
    {
     "data": {
      "text/plain": [
       "(277, 480)"
      ]
     },
     "metadata": {},
     "output_type": "display_data"
    },
    {
     "name": "stdout",
     "output_type": "stream",
     "text": [
      "Data points considered outliers for the feature 'Nasdaq index-26':\n"
     ]
    },
    {
     "data": {
      "text/plain": [
       "(71, 480)"
      ]
     },
     "metadata": {},
     "output_type": "display_data"
    },
    {
     "name": "stdout",
     "output_type": "stream",
     "text": [
      "Data points considered outliers for the feature 'Bovespa total volume-26':\n"
     ]
    },
    {
     "data": {
      "text/plain": [
       "(78, 480)"
      ]
     },
     "metadata": {},
     "output_type": "display_data"
    },
    {
     "name": "stdout",
     "output_type": "stream",
     "text": [
      "Data points considered outliers for the feature 'International Reserves-26':\n"
     ]
    },
    {
     "data": {
      "text/plain": [
       "(160, 480)"
      ]
     },
     "metadata": {},
     "output_type": "display_data"
    },
    {
     "name": "stdout",
     "output_type": "stream",
     "text": [
      "Data points considered outliers for the feature 'Open-27':\n"
     ]
    },
    {
     "data": {
      "text/plain": [
       "(65, 480)"
      ]
     },
     "metadata": {},
     "output_type": "display_data"
    },
    {
     "name": "stdout",
     "output_type": "stream",
     "text": [
      "Data points considered outliers for the feature 'High-27':\n"
     ]
    },
    {
     "data": {
      "text/plain": [
       "(65, 480)"
      ]
     },
     "metadata": {},
     "output_type": "display_data"
    },
    {
     "name": "stdout",
     "output_type": "stream",
     "text": [
      "Data points considered outliers for the feature 'Low-27':\n"
     ]
    },
    {
     "data": {
      "text/plain": [
       "(64, 480)"
      ]
     },
     "metadata": {},
     "output_type": "display_data"
    },
    {
     "name": "stdout",
     "output_type": "stream",
     "text": [
      "Data points considered outliers for the feature 'Close-27':\n"
     ]
    },
    {
     "data": {
      "text/plain": [
       "(63, 480)"
      ]
     },
     "metadata": {},
     "output_type": "display_data"
    },
    {
     "name": "stdout",
     "output_type": "stream",
     "text": [
      "Data points considered outliers for the feature 'Volume-27':\n"
     ]
    },
    {
     "data": {
      "text/plain": [
       "(80, 480)"
      ]
     },
     "metadata": {},
     "output_type": "display_data"
    },
    {
     "name": "stdout",
     "output_type": "stream",
     "text": [
      "Data points considered outliers for the feature 'Adj Close-27':\n"
     ]
    },
    {
     "data": {
      "text/plain": [
       "(67, 480)"
      ]
     },
     "metadata": {},
     "output_type": "display_data"
    },
    {
     "name": "stdout",
     "output_type": "stream",
     "text": [
      "Data points considered outliers for the feature 'Dow Jones index-27':\n"
     ]
    },
    {
     "data": {
      "text/plain": [
       "(82, 480)"
      ]
     },
     "metadata": {},
     "output_type": "display_data"
    },
    {
     "name": "stdout",
     "output_type": "stream",
     "text": [
      "Data points considered outliers for the feature 'Exchange Rate USD Sell-27':\n"
     ]
    },
    {
     "data": {
      "text/plain": [
       "(50, 480)"
      ]
     },
     "metadata": {},
     "output_type": "display_data"
    },
    {
     "name": "stdout",
     "output_type": "stream",
     "text": [
      "Data points considered outliers for the feature 'BM&F Gold gramme-27':\n"
     ]
    },
    {
     "data": {
      "text/plain": [
       "(77, 480)"
      ]
     },
     "metadata": {},
     "output_type": "display_data"
    },
    {
     "name": "stdout",
     "output_type": "stream",
     "text": [
      "Data points considered outliers for the feature 'Exchange Rate USD Buy-27':\n"
     ]
    },
    {
     "data": {
      "text/plain": [
       "(50, 480)"
      ]
     },
     "metadata": {},
     "output_type": "display_data"
    },
    {
     "name": "stdout",
     "output_type": "stream",
     "text": [
      "Data points considered outliers for the feature 'Selic-27':\n"
     ]
    },
    {
     "data": {
      "text/plain": [
       "(249, 480)"
      ]
     },
     "metadata": {},
     "output_type": "display_data"
    },
    {
     "name": "stdout",
     "output_type": "stream",
     "text": [
      "Data points considered outliers for the feature 'Bovespa index-27':\n"
     ]
    },
    {
     "data": {
      "text/plain": [
       "(41, 480)"
      ]
     },
     "metadata": {},
     "output_type": "display_data"
    },
    {
     "name": "stdout",
     "output_type": "stream",
     "text": [
      "Data points considered outliers for the feature 'Foreign exchange operations balance-27':\n"
     ]
    },
    {
     "data": {
      "text/plain": [
       "(250, 480)"
      ]
     },
     "metadata": {},
     "output_type": "display_data"
    },
    {
     "name": "stdout",
     "output_type": "stream",
     "text": [
      "Data points considered outliers for the feature 'Nasdaq index-27':\n"
     ]
    },
    {
     "data": {
      "text/plain": [
       "(73, 480)"
      ]
     },
     "metadata": {},
     "output_type": "display_data"
    },
    {
     "name": "stdout",
     "output_type": "stream",
     "text": [
      "Data points considered outliers for the feature 'Bovespa total volume-27':\n"
     ]
    },
    {
     "data": {
      "text/plain": [
       "(72, 480)"
      ]
     },
     "metadata": {},
     "output_type": "display_data"
    },
    {
     "name": "stdout",
     "output_type": "stream",
     "text": [
      "Data points considered outliers for the feature 'International Reserves-27':\n"
     ]
    },
    {
     "data": {
      "text/plain": [
       "(155, 480)"
      ]
     },
     "metadata": {},
     "output_type": "display_data"
    },
    {
     "name": "stdout",
     "output_type": "stream",
     "text": [
      "Data points considered outliers for the feature 'Open-28':\n"
     ]
    },
    {
     "data": {
      "text/plain": [
       "(60, 480)"
      ]
     },
     "metadata": {},
     "output_type": "display_data"
    },
    {
     "name": "stdout",
     "output_type": "stream",
     "text": [
      "Data points considered outliers for the feature 'High-28':\n"
     ]
    },
    {
     "data": {
      "text/plain": [
       "(59, 480)"
      ]
     },
     "metadata": {},
     "output_type": "display_data"
    },
    {
     "name": "stdout",
     "output_type": "stream",
     "text": [
      "Data points considered outliers for the feature 'Low-28':\n"
     ]
    },
    {
     "data": {
      "text/plain": [
       "(64, 480)"
      ]
     },
     "metadata": {},
     "output_type": "display_data"
    },
    {
     "name": "stdout",
     "output_type": "stream",
     "text": [
      "Data points considered outliers for the feature 'Close-28':\n"
     ]
    },
    {
     "data": {
      "text/plain": [
       "(58, 480)"
      ]
     },
     "metadata": {},
     "output_type": "display_data"
    },
    {
     "name": "stdout",
     "output_type": "stream",
     "text": [
      "Data points considered outliers for the feature 'Volume-28':\n"
     ]
    },
    {
     "data": {
      "text/plain": [
       "(76, 480)"
      ]
     },
     "metadata": {},
     "output_type": "display_data"
    },
    {
     "name": "stdout",
     "output_type": "stream",
     "text": [
      "Data points considered outliers for the feature 'Adj Close-28':\n"
     ]
    },
    {
     "data": {
      "text/plain": [
       "(60, 480)"
      ]
     },
     "metadata": {},
     "output_type": "display_data"
    },
    {
     "name": "stdout",
     "output_type": "stream",
     "text": [
      "Data points considered outliers for the feature 'Dow Jones index-28':\n"
     ]
    },
    {
     "data": {
      "text/plain": [
       "(85, 480)"
      ]
     },
     "metadata": {},
     "output_type": "display_data"
    },
    {
     "name": "stdout",
     "output_type": "stream",
     "text": [
      "Data points considered outliers for the feature 'Exchange Rate USD Sell-28':\n"
     ]
    },
    {
     "data": {
      "text/plain": [
       "(47, 480)"
      ]
     },
     "metadata": {},
     "output_type": "display_data"
    },
    {
     "name": "stdout",
     "output_type": "stream",
     "text": [
      "Data points considered outliers for the feature 'BM&F Gold gramme-28':\n"
     ]
    },
    {
     "data": {
      "text/plain": [
       "(84, 480)"
      ]
     },
     "metadata": {},
     "output_type": "display_data"
    },
    {
     "name": "stdout",
     "output_type": "stream",
     "text": [
      "Data points considered outliers for the feature 'Exchange Rate USD Buy-28':\n"
     ]
    },
    {
     "data": {
      "text/plain": [
       "(47, 480)"
      ]
     },
     "metadata": {},
     "output_type": "display_data"
    },
    {
     "name": "stdout",
     "output_type": "stream",
     "text": [
      "Data points considered outliers for the feature 'Selic-28':\n"
     ]
    },
    {
     "data": {
      "text/plain": [
       "(235, 480)"
      ]
     },
     "metadata": {},
     "output_type": "display_data"
    },
    {
     "name": "stdout",
     "output_type": "stream",
     "text": [
      "Data points considered outliers for the feature 'Bovespa index-28':\n"
     ]
    },
    {
     "data": {
      "text/plain": [
       "(47, 480)"
      ]
     },
     "metadata": {},
     "output_type": "display_data"
    },
    {
     "name": "stdout",
     "output_type": "stream",
     "text": [
      "Data points considered outliers for the feature 'Foreign exchange operations balance-28':\n"
     ]
    },
    {
     "data": {
      "text/plain": [
       "(270, 480)"
      ]
     },
     "metadata": {},
     "output_type": "display_data"
    },
    {
     "name": "stdout",
     "output_type": "stream",
     "text": [
      "Data points considered outliers for the feature 'Nasdaq index-28':\n"
     ]
    },
    {
     "data": {
      "text/plain": [
       "(69, 480)"
      ]
     },
     "metadata": {},
     "output_type": "display_data"
    },
    {
     "name": "stdout",
     "output_type": "stream",
     "text": [
      "Data points considered outliers for the feature 'Bovespa total volume-28':\n"
     ]
    },
    {
     "data": {
      "text/plain": [
       "(80, 480)"
      ]
     },
     "metadata": {},
     "output_type": "display_data"
    },
    {
     "name": "stdout",
     "output_type": "stream",
     "text": [
      "Data points considered outliers for the feature 'International Reserves-28':\n"
     ]
    },
    {
     "data": {
      "text/plain": [
       "(147, 480)"
      ]
     },
     "metadata": {},
     "output_type": "display_data"
    },
    {
     "name": "stdout",
     "output_type": "stream",
     "text": [
      "Data points considered outliers for the feature 'Open-29':\n"
     ]
    },
    {
     "data": {
      "text/plain": [
       "(53, 480)"
      ]
     },
     "metadata": {},
     "output_type": "display_data"
    },
    {
     "name": "stdout",
     "output_type": "stream",
     "text": [
      "Data points considered outliers for the feature 'High-29':\n"
     ]
    },
    {
     "data": {
      "text/plain": [
       "(57, 480)"
      ]
     },
     "metadata": {},
     "output_type": "display_data"
    },
    {
     "name": "stdout",
     "output_type": "stream",
     "text": [
      "Data points considered outliers for the feature 'Low-29':\n"
     ]
    },
    {
     "data": {
      "text/plain": [
       "(53, 480)"
      ]
     },
     "metadata": {},
     "output_type": "display_data"
    },
    {
     "name": "stdout",
     "output_type": "stream",
     "text": [
      "Data points considered outliers for the feature 'Close-29':\n"
     ]
    },
    {
     "data": {
      "text/plain": [
       "(56, 480)"
      ]
     },
     "metadata": {},
     "output_type": "display_data"
    },
    {
     "name": "stdout",
     "output_type": "stream",
     "text": [
      "Data points considered outliers for the feature 'Volume-29':\n"
     ]
    },
    {
     "data": {
      "text/plain": [
       "(76, 480)"
      ]
     },
     "metadata": {},
     "output_type": "display_data"
    },
    {
     "name": "stdout",
     "output_type": "stream",
     "text": [
      "Data points considered outliers for the feature 'Adj Close-29':\n"
     ]
    },
    {
     "data": {
      "text/plain": [
       "(59, 480)"
      ]
     },
     "metadata": {},
     "output_type": "display_data"
    },
    {
     "name": "stdout",
     "output_type": "stream",
     "text": [
      "Data points considered outliers for the feature 'Dow Jones index-29':\n"
     ]
    },
    {
     "data": {
      "text/plain": [
       "(82, 480)"
      ]
     },
     "metadata": {},
     "output_type": "display_data"
    },
    {
     "name": "stdout",
     "output_type": "stream",
     "text": [
      "Data points considered outliers for the feature 'Exchange Rate USD Sell-29':\n"
     ]
    },
    {
     "data": {
      "text/plain": [
       "(41, 480)"
      ]
     },
     "metadata": {},
     "output_type": "display_data"
    },
    {
     "name": "stdout",
     "output_type": "stream",
     "text": [
      "Data points considered outliers for the feature 'BM&F Gold gramme-29':\n"
     ]
    },
    {
     "data": {
      "text/plain": [
       "(81, 480)"
      ]
     },
     "metadata": {},
     "output_type": "display_data"
    },
    {
     "name": "stdout",
     "output_type": "stream",
     "text": [
      "Data points considered outliers for the feature 'Exchange Rate USD Buy-29':\n"
     ]
    },
    {
     "data": {
      "text/plain": [
       "(41, 480)"
      ]
     },
     "metadata": {},
     "output_type": "display_data"
    },
    {
     "name": "stdout",
     "output_type": "stream",
     "text": [
      "Data points considered outliers for the feature 'Selic-29':\n"
     ]
    },
    {
     "data": {
      "text/plain": [
       "(221, 480)"
      ]
     },
     "metadata": {},
     "output_type": "display_data"
    },
    {
     "name": "stdout",
     "output_type": "stream",
     "text": [
      "Data points considered outliers for the feature 'Bovespa index-29':\n"
     ]
    },
    {
     "data": {
      "text/plain": [
       "(43, 480)"
      ]
     },
     "metadata": {},
     "output_type": "display_data"
    },
    {
     "name": "stdout",
     "output_type": "stream",
     "text": [
      "Data points considered outliers for the feature 'Foreign exchange operations balance-29':\n"
     ]
    },
    {
     "data": {
      "text/plain": [
       "(270, 480)"
      ]
     },
     "metadata": {},
     "output_type": "display_data"
    },
    {
     "name": "stdout",
     "output_type": "stream",
     "text": [
      "Data points considered outliers for the feature 'Nasdaq index-29':\n"
     ]
    },
    {
     "data": {
      "text/plain": [
       "(79, 480)"
      ]
     },
     "metadata": {},
     "output_type": "display_data"
    },
    {
     "name": "stdout",
     "output_type": "stream",
     "text": [
      "Data points considered outliers for the feature 'Bovespa total volume-29':\n"
     ]
    },
    {
     "data": {
      "text/plain": [
       "(79, 480)"
      ]
     },
     "metadata": {},
     "output_type": "display_data"
    },
    {
     "name": "stdout",
     "output_type": "stream",
     "text": [
      "Data points considered outliers for the feature 'International Reserves-29':\n"
     ]
    },
    {
     "data": {
      "text/plain": [
       "(136, 480)"
      ]
     },
     "metadata": {},
     "output_type": "display_data"
    },
    {
     "name": "stdout",
     "output_type": "stream",
     "text": [
      "Data points considered outliers for the feature 'Open-30':\n"
     ]
    },
    {
     "data": {
      "text/plain": [
       "(55, 480)"
      ]
     },
     "metadata": {},
     "output_type": "display_data"
    },
    {
     "name": "stdout",
     "output_type": "stream",
     "text": [
      "Data points considered outliers for the feature 'High-30':\n"
     ]
    },
    {
     "data": {
      "text/plain": [
       "(55, 480)"
      ]
     },
     "metadata": {},
     "output_type": "display_data"
    },
    {
     "name": "stdout",
     "output_type": "stream",
     "text": [
      "Data points considered outliers for the feature 'Low-30':\n"
     ]
    },
    {
     "data": {
      "text/plain": [
       "(51, 480)"
      ]
     },
     "metadata": {},
     "output_type": "display_data"
    },
    {
     "name": "stdout",
     "output_type": "stream",
     "text": [
      "Data points considered outliers for the feature 'Close-30':\n"
     ]
    },
    {
     "data": {
      "text/plain": [
       "(57, 480)"
      ]
     },
     "metadata": {},
     "output_type": "display_data"
    },
    {
     "name": "stdout",
     "output_type": "stream",
     "text": [
      "Data points considered outliers for the feature 'Volume-30':\n"
     ]
    },
    {
     "data": {
      "text/plain": [
       "(70, 480)"
      ]
     },
     "metadata": {},
     "output_type": "display_data"
    },
    {
     "name": "stdout",
     "output_type": "stream",
     "text": [
      "Data points considered outliers for the feature 'Adj Close-30':\n"
     ]
    },
    {
     "data": {
      "text/plain": [
       "(63, 480)"
      ]
     },
     "metadata": {},
     "output_type": "display_data"
    },
    {
     "name": "stdout",
     "output_type": "stream",
     "text": [
      "Data points considered outliers for the feature 'Dow Jones index-30':\n"
     ]
    },
    {
     "data": {
      "text/plain": [
       "(89, 480)"
      ]
     },
     "metadata": {},
     "output_type": "display_data"
    },
    {
     "name": "stdout",
     "output_type": "stream",
     "text": [
      "Data points considered outliers for the feature 'Exchange Rate USD Sell-30':\n"
     ]
    },
    {
     "data": {
      "text/plain": [
       "(46, 480)"
      ]
     },
     "metadata": {},
     "output_type": "display_data"
    },
    {
     "name": "stdout",
     "output_type": "stream",
     "text": [
      "Data points considered outliers for the feature 'BM&F Gold gramme-30':\n"
     ]
    },
    {
     "data": {
      "text/plain": [
       "(77, 480)"
      ]
     },
     "metadata": {},
     "output_type": "display_data"
    },
    {
     "name": "stdout",
     "output_type": "stream",
     "text": [
      "Data points considered outliers for the feature 'Exchange Rate USD Buy-30':\n"
     ]
    },
    {
     "data": {
      "text/plain": [
       "(46, 480)"
      ]
     },
     "metadata": {},
     "output_type": "display_data"
    },
    {
     "name": "stdout",
     "output_type": "stream",
     "text": [
      "Data points considered outliers for the feature 'Selic-30':\n"
     ]
    },
    {
     "data": {
      "text/plain": [
       "(235, 480)"
      ]
     },
     "metadata": {},
     "output_type": "display_data"
    },
    {
     "name": "stdout",
     "output_type": "stream",
     "text": [
      "Data points considered outliers for the feature 'Bovespa index-30':\n"
     ]
    },
    {
     "data": {
      "text/plain": [
       "(43, 480)"
      ]
     },
     "metadata": {},
     "output_type": "display_data"
    },
    {
     "name": "stdout",
     "output_type": "stream",
     "text": [
      "Data points considered outliers for the feature 'Foreign exchange operations balance-30':\n"
     ]
    },
    {
     "data": {
      "text/plain": [
       "(260, 480)"
      ]
     },
     "metadata": {},
     "output_type": "display_data"
    },
    {
     "name": "stdout",
     "output_type": "stream",
     "text": [
      "Data points considered outliers for the feature 'Nasdaq index-30':\n"
     ]
    },
    {
     "data": {
      "text/plain": [
       "(81, 480)"
      ]
     },
     "metadata": {},
     "output_type": "display_data"
    },
    {
     "name": "stdout",
     "output_type": "stream",
     "text": [
      "Data points considered outliers for the feature 'Bovespa total volume-30':\n"
     ]
    },
    {
     "data": {
      "text/plain": [
       "(75, 480)"
      ]
     },
     "metadata": {},
     "output_type": "display_data"
    },
    {
     "name": "stdout",
     "output_type": "stream",
     "text": [
      "Data points considered outliers for the feature 'International Reserves-30':\n"
     ]
    },
    {
     "data": {
      "text/plain": [
       "(127, 480)"
      ]
     },
     "metadata": {},
     "output_type": "display_data"
    },
    {
     "name": "stdout",
     "output_type": "stream",
     "text": [
      "Total number of data points identified as outliers: 1652\n"
     ]
    },
    {
     "data": {
      "text/plain": [
       "defaultdict(int,\n",
       "            {numpy.datetime64('2008-10-14T00:00:00.000000000'): 167,\n",
       "             numpy.datetime64('2008-10-15T00:00:00.000000000'): 246,\n",
       "             numpy.datetime64('2009-06-02T00:00:00.000000000'): 45,\n",
       "             numpy.datetime64('2015-03-30T00:00:00.000000000'): 21,\n",
       "             numpy.datetime64('2009-08-20T00:00:00.000000000'): 11,\n",
       "             numpy.datetime64('2015-09-04T00:00:00.000000000'): 41,\n",
       "             numpy.datetime64('2010-07-02T00:00:00.000000000'): 30,\n",
       "             numpy.datetime64('2016-04-28T00:00:00.000000000'): 42,\n",
       "             numpy.datetime64('2010-07-26T00:00:00.000000000'): 28,\n",
       "             numpy.datetime64('2009-06-05T00:00:00.000000000'): 20,\n",
       "             numpy.datetime64('2013-04-24T00:00:00.000000000'): 17,\n",
       "             numpy.datetime64('2014-03-06T00:00:00.000000000'): 18,\n",
       "             numpy.datetime64('2010-01-11T00:00:00.000000000'): 4,\n",
       "             numpy.datetime64('2014-08-11T00:00:00.000000000'): 6,\n",
       "             numpy.datetime64('2014-10-29T00:00:00.000000000'): 70,\n",
       "             numpy.datetime64('2015-01-16T00:00:00.000000000'): 11,\n",
       "             numpy.datetime64('2009-11-13T00:00:00.000000000'): 26,\n",
       "             numpy.datetime64('2015-09-10T00:00:00.000000000'): 38,\n",
       "             numpy.datetime64('2010-07-08T00:00:00.000000000'): 8,\n",
       "             numpy.datetime64('2016-05-04T00:00:00.000000000'): 15,\n",
       "             numpy.datetime64('2010-12-13T00:00:00.000000000'): 18,\n",
       "             numpy.datetime64('2011-03-02T00:00:00.000000000'): 42,\n",
       "             numpy.datetime64('2009-10-08T00:00:00.000000000'): 41,\n",
       "             numpy.datetime64('2009-06-29T00:00:00.000000000'): 36,\n",
       "             numpy.datetime64('2012-06-12T00:00:00.000000000'): 24,\n",
       "             numpy.datetime64('2013-12-23T00:00:00.000000000'): 10,\n",
       "             numpy.datetime64('2010-07-22T00:00:00.000000000'): 34,\n",
       "             numpy.datetime64('2014-05-30T00:00:00.000000000'): 2,\n",
       "             numpy.datetime64('2009-03-27T00:00:00.000000000'): 59,\n",
       "             numpy.datetime64('2015-06-29T00:00:00.000000000'): 22,\n",
       "             numpy.datetime64('2015-03-19T00:00:00.000000000'): 58,\n",
       "             numpy.datetime64('2014-12-01T00:00:00.000000000'): 49,\n",
       "             numpy.datetime64('2010-04-26T00:00:00.000000000'): 15,\n",
       "             numpy.datetime64('2010-10-01T00:00:00.000000000'): 32,\n",
       "             numpy.datetime64('2011-05-26T00:00:00.000000000'): 4,\n",
       "             numpy.datetime64('2012-09-11T00:00:00.000000000'): 28,\n",
       "             numpy.datetime64('2012-11-29T00:00:00.000000000'): 3,\n",
       "             numpy.datetime64('2013-07-24T00:00:00.000000000'): 22,\n",
       "             numpy.datetime64('2009-04-02T00:00:00.000000000'): 74,\n",
       "             numpy.datetime64('2015-01-28T00:00:00.000000000'): 35,\n",
       "             numpy.datetime64('2012-08-30T00:00:00.000000000'): 34,\n",
       "             numpy.datetime64('2015-04-17T00:00:00.000000000'): 131,\n",
       "             numpy.datetime64('2015-09-22T00:00:00.000000000'): 75,\n",
       "             numpy.datetime64('2010-07-20T00:00:00.000000000'): 12,\n",
       "             numpy.datetime64('2016-05-16T00:00:00.000000000'): 6,\n",
       "             numpy.datetime64('2014-10-21T00:00:00.000000000'): 52,\n",
       "             numpy.datetime64('2012-01-24T00:00:00.000000000'): 32,\n",
       "             numpy.datetime64('2012-04-12T00:00:00.000000000'): 10,\n",
       "             numpy.datetime64('2012-12-05T00:00:00.000000000'): 7,\n",
       "             numpy.datetime64('2014-06-11T00:00:00.000000000'): 9,\n",
       "             numpy.datetime64('2014-08-29T00:00:00.000000000'): 23,\n",
       "             numpy.datetime64('2009-04-08T00:00:00.000000000'): 37,\n",
       "             numpy.datetime64('2015-02-03T00:00:00.000000000'): 35,\n",
       "             numpy.datetime64('2015-04-23T00:00:00.000000000'): 113,\n",
       "             numpy.datetime64('2009-05-05T00:00:00.000000000'): 76,\n",
       "             numpy.datetime64('2009-12-01T00:00:00.000000000'): 22,\n",
       "             numpy.datetime64('2010-02-18T00:00:00.000000000'): 5,\n",
       "             numpy.datetime64('2016-03-04T00:00:00.000000000'): 246,\n",
       "             numpy.datetime64('2009-11-25T00:00:00.000000000'): 19,\n",
       "             numpy.datetime64('2015-07-02T00:00:00.000000000'): 12,\n",
       "             numpy.datetime64('2011-06-07T00:00:00.000000000'): 21,\n",
       "             numpy.datetime64('2011-08-25T00:00:00.000000000'): 108,\n",
       "             numpy.datetime64('2012-01-30T00:00:00.000000000'): 19,\n",
       "             numpy.datetime64('2012-04-18T00:00:00.000000000'): 54,\n",
       "             numpy.datetime64('2012-07-06T00:00:00.000000000'): 22,\n",
       "             numpy.datetime64('2012-12-11T00:00:00.000000000'): 7,\n",
       "             numpy.datetime64('2013-02-28T00:00:00.000000000'): 7,\n",
       "             numpy.datetime64('2008-11-07T00:00:00.000000000'): 72,\n",
       "             numpy.datetime64('2015-04-14T00:00:00.000000000'): 124,\n",
       "             numpy.datetime64('2014-09-04T00:00:00.000000000'): 9,\n",
       "             numpy.datetime64('2009-07-02T00:00:00.000000000'): 41,\n",
       "             numpy.datetime64('2015-06-17T00:00:00.000000000'): 25,\n",
       "             numpy.datetime64('2009-12-07T00:00:00.000000000'): 3,\n",
       "             numpy.datetime64('2010-05-14T00:00:00.000000000'): 15,\n",
       "             numpy.datetime64('2016-03-10T00:00:00.000000000'): 195,\n",
       "             numpy.datetime64('2010-10-19T00:00:00.000000000'): 31,\n",
       "             numpy.datetime64('2011-06-13T00:00:00.000000000'): 17,\n",
       "             numpy.datetime64('2011-08-31T00:00:00.000000000'): 56,\n",
       "             numpy.datetime64('2011-11-18T00:00:00.000000000'): 13,\n",
       "             numpy.datetime64('2013-02-04T00:00:00.000000000'): 2,\n",
       "             numpy.datetime64('2012-04-24T00:00:00.000000000'): 30,\n",
       "             numpy.datetime64('2012-07-12T00:00:00.000000000'): 40,\n",
       "             numpy.datetime64('2012-12-17T00:00:00.000000000'): 18,\n",
       "             numpy.datetime64('2013-03-06T00:00:00.000000000'): 34,\n",
       "             numpy.datetime64('2013-05-24T00:00:00.000000000'): 2,\n",
       "             numpy.datetime64('2013-10-29T00:00:00.000000000'): 16,\n",
       "             numpy.datetime64('2014-01-16T00:00:00.000000000'): 22,\n",
       "             numpy.datetime64('2014-06-23T00:00:00.000000000'): 4,\n",
       "             numpy.datetime64('2014-09-10T00:00:00.000000000'): 10,\n",
       "             numpy.datetime64('2014-11-28T00:00:00.000000000'): 17,\n",
       "             numpy.datetime64('2009-07-08T00:00:00.000000000'): 32,\n",
       "             numpy.datetime64('2015-05-05T00:00:00.000000000'): 109,\n",
       "             numpy.datetime64('2015-07-23T00:00:00.000000000'): 20,\n",
       "             numpy.datetime64('2016-03-16T00:00:00.000000000'): 129,\n",
       "             numpy.datetime64('2010-10-25T00:00:00.000000000'): 20,\n",
       "             numpy.datetime64('2011-01-12T00:00:00.000000000'): 28,\n",
       "             numpy.datetime64('2011-09-06T00:00:00.000000000'): 82,\n",
       "             numpy.datetime64('2011-06-16T00:00:00.000000000'): 14,\n",
       "             numpy.datetime64('2012-04-30T00:00:00.000000000'): 32,\n",
       "             numpy.datetime64('2012-07-18T00:00:00.000000000'): 37,\n",
       "             numpy.datetime64('2012-10-05T00:00:00.000000000'): 14,\n",
       "             numpy.datetime64('2013-03-12T00:00:00.000000000'): 4,\n",
       "             numpy.datetime64('2009-11-09T00:00:00.000000000'): 16,\n",
       "             numpy.datetime64('2015-12-10T00:00:00.000000000'): 2,\n",
       "             numpy.datetime64('2013-11-04T00:00:00.000000000'): 3,\n",
       "             numpy.datetime64('2011-11-08T00:00:00.000000000'): 41,\n",
       "             numpy.datetime64('2014-01-22T00:00:00.000000000'): 33,\n",
       "             numpy.datetime64('2014-04-11T00:00:00.000000000'): 23,\n",
       "             numpy.datetime64('2008-11-19T00:00:00.000000000'): 151,\n",
       "             numpy.datetime64('2009-02-06T00:00:00.000000000'): 53,\n",
       "             numpy.datetime64('2014-12-04T00:00:00.000000000'): 21,\n",
       "             numpy.datetime64('2009-07-14T00:00:00.000000000'): 13,\n",
       "             numpy.datetime64('2015-05-11T00:00:00.000000000'): 48,\n",
       "             numpy.datetime64('2015-07-29T00:00:00.000000000'): 33,\n",
       "             numpy.datetime64('2010-03-08T00:00:00.000000000'): 3,\n",
       "             numpy.datetime64('2010-05-26T00:00:00.000000000'): 44,\n",
       "             numpy.datetime64('2016-03-22T00:00:00.000000000'): 124,\n",
       "             numpy.datetime64('2016-06-09T00:00:00.000000000'): 11,\n",
       "             numpy.datetime64('2011-01-18T00:00:00.000000000'): 8,\n",
       "             numpy.datetime64('2009-04-27T00:00:00.000000000'): 15,\n",
       "             numpy.datetime64('2016-03-29T00:00:00.000000000'): 104,\n",
       "             numpy.datetime64('2011-09-12T00:00:00.000000000'): 61,\n",
       "             numpy.datetime64('2011-11-30T00:00:00.000000000'): 29,\n",
       "             numpy.datetime64('2012-02-17T00:00:00.000000000'): 14,\n",
       "             numpy.datetime64('2012-08-24T00:00:00.000000000'): 7,\n",
       "             numpy.datetime64('2012-10-11T00:00:00.000000000'): 34,\n",
       "             numpy.datetime64('2013-06-05T00:00:00.000000000'): 28,\n",
       "             numpy.datetime64('2013-08-23T00:00:00.000000000'): 16,\n",
       "             numpy.datetime64('2014-01-28T00:00:00.000000000'): 13,\n",
       "             numpy.datetime64('2014-04-17T00:00:00.000000000'): 13,\n",
       "             numpy.datetime64('2008-11-25T00:00:00.000000000'): 58,\n",
       "             numpy.datetime64('2014-09-22T00:00:00.000000000'): 6,\n",
       "             numpy.datetime64('2013-07-12T00:00:00.000000000'): 27,\n",
       "             numpy.datetime64('2014-12-10T00:00:00.000000000'): 41,\n",
       "             numpy.datetime64('2009-07-20T00:00:00.000000000'): 28,\n",
       "             numpy.datetime64('2009-10-07T00:00:00.000000000'): 17,\n",
       "             numpy.datetime64('2015-08-04T00:00:00.000000000'): 35,\n",
       "             numpy.datetime64('2010-06-01T00:00:00.000000000'): 27,\n",
       "             numpy.datetime64('2016-03-28T00:00:00.000000000'): 110,\n",
       "             numpy.datetime64('2016-06-15T00:00:00.000000000'): 39,\n",
       "             numpy.datetime64('2011-01-24T00:00:00.000000000'): 23,\n",
       "             numpy.datetime64('2011-07-01T00:00:00.000000000'): 15,\n",
       "             numpy.datetime64('2011-12-06T00:00:00.000000000'): 31,\n",
       "             numpy.datetime64('2012-02-23T00:00:00.000000000'): 4,\n",
       "             numpy.datetime64('2012-07-30T00:00:00.000000000'): 29,\n",
       "             numpy.datetime64('2012-10-17T00:00:00.000000000'): 41,\n",
       "             numpy.datetime64('2013-01-04T00:00:00.000000000'): 12,\n",
       "             numpy.datetime64('2013-06-11T00:00:00.000000000'): 21,\n",
       "             numpy.datetime64('2013-08-29T00:00:00.000000000'): 32,\n",
       "             numpy.datetime64('2014-04-23T00:00:00.000000000'): 10,\n",
       "             numpy.datetime64('2014-07-11T00:00:00.000000000'): 7,\n",
       "             numpy.datetime64('2009-02-18T00:00:00.000000000'): 62,\n",
       "             numpy.datetime64('2014-12-16T00:00:00.000000000'): 147,\n",
       "             numpy.datetime64('2015-03-05T00:00:00.000000000'): 42,\n",
       "             numpy.datetime64('2009-10-13T00:00:00.000000000'): 55,\n",
       "             numpy.datetime64('2015-08-10T00:00:00.000000000'): 29,\n",
       "             numpy.datetime64('2010-06-07T00:00:00.000000000'): 36,\n",
       "             numpy.datetime64('2010-10-07T00:00:00.000000000'): 58,\n",
       "             numpy.datetime64('2010-08-25T00:00:00.000000000'): 4,\n",
       "             numpy.datetime64('2014-08-19T00:00:00.000000000'): 5,\n",
       "             numpy.datetime64('2010-11-12T00:00:00.000000000'): 5,\n",
       "             numpy.datetime64('2011-07-07T00:00:00.000000000'): 3,\n",
       "             numpy.datetime64('2011-09-14T00:00:00.000000000'): 54,\n",
       "             numpy.datetime64('2013-08-06T00:00:00.000000000'): 8,\n",
       "             numpy.datetime64('2012-02-29T00:00:00.000000000'): 8,\n",
       "             numpy.datetime64('2012-05-18T00:00:00.000000000'): 22,\n",
       "             numpy.datetime64('2012-10-23T00:00:00.000000000'): 16,\n",
       "             numpy.datetime64('2013-01-10T00:00:00.000000000'): 2,\n",
       "             numpy.datetime64('2010-10-08T00:00:00.000000000'): 29,\n",
       "             numpy.datetime64('2013-06-17T00:00:00.000000000'): 15,\n",
       "             numpy.datetime64('2013-09-04T00:00:00.000000000'): 24,\n",
       "             numpy.datetime64('2014-04-29T00:00:00.000000000'): 8,\n",
       "             numpy.datetime64('2014-07-17T00:00:00.000000000'): 23,\n",
       "             numpy.datetime64('2015-06-05T00:00:00.000000000'): 19,\n",
       "             numpy.datetime64('2009-05-14T00:00:00.000000000'): 37,\n",
       "             numpy.datetime64('2015-03-11T00:00:00.000000000'): 63,\n",
       "             numpy.datetime64('2015-05-29T00:00:00.000000000'): 4,\n",
       "             numpy.datetime64('2010-01-06T00:00:00.000000000'): 6,\n",
       "             numpy.datetime64('2010-03-26T00:00:00.000000000'): 13,\n",
       "             numpy.datetime64('2010-08-31T00:00:00.000000000'): 4,\n",
       "             numpy.datetime64('2015-02-27T00:00:00.000000000'): 13,\n",
       "             numpy.datetime64('2010-11-18T00:00:00.000000000'): 23,\n",
       "             numpy.datetime64('2011-09-30T00:00:00.000000000'): 47,\n",
       "             numpy.datetime64('2013-12-17T00:00:00.000000000'): 13,\n",
       "             numpy.datetime64('2012-03-06T00:00:00.000000000'): 6,\n",
       "             numpy.datetime64('2012-05-24T00:00:00.000000000'): 20,\n",
       "             numpy.datetime64('2013-01-16T00:00:00.000000000'): 1,\n",
       "             numpy.datetime64('2013-04-05T00:00:00.000000000'): 14,\n",
       "             numpy.datetime64('2013-09-10T00:00:00.000000000'): 18,\n",
       "             numpy.datetime64('2014-05-05T00:00:00.000000000'): 3,\n",
       "             numpy.datetime64('2014-07-23T00:00:00.000000000'): 8,\n",
       "             numpy.datetime64('2014-10-10T00:00:00.000000000'): 18,\n",
       "             numpy.datetime64('2009-05-20T00:00:00.000000000'): 22,\n",
       "             numpy.datetime64('2015-03-17T00:00:00.000000000'): 67,\n",
       "             numpy.datetime64('2010-01-12T00:00:00.000000000'): 11,\n",
       "             numpy.datetime64('2016-04-15T00:00:00.000000000'): 47,\n",
       "             numpy.datetime64('2010-11-24T00:00:00.000000000'): 11,\n",
       "             numpy.datetime64('2011-02-11T00:00:00.000000000'): 24,\n",
       "             numpy.datetime64('2011-07-19T00:00:00.000000000'): 1,\n",
       "             numpy.datetime64('2011-10-06T00:00:00.000000000'): 20,\n",
       "             numpy.datetime64('2012-03-12T00:00:00.000000000'): 34,\n",
       "             numpy.datetime64('2012-05-30T00:00:00.000000000'): 9,\n",
       "             numpy.datetime64('2015-06-01T00:00:00.000000000'): 1,\n",
       "             numpy.datetime64('2012-08-17T00:00:00.000000000'): 10,\n",
       "             numpy.datetime64('2013-01-22T00:00:00.000000000'): 5,\n",
       "             numpy.datetime64('2011-03-14T00:00:00.000000000'): 52,\n",
       "             numpy.datetime64('2013-04-11T00:00:00.000000000'): 10,\n",
       "             numpy.datetime64('2013-09-16T00:00:00.000000000'): 19,\n",
       "             numpy.datetime64('2013-12-04T00:00:00.000000000'): 30,\n",
       "             numpy.datetime64('2014-02-21T00:00:00.000000000'): 6,\n",
       "             numpy.datetime64('2008-12-19T00:00:00.000000000'): 38,\n",
       "             numpy.datetime64('2014-10-16T00:00:00.000000000'): 23,\n",
       "             numpy.datetime64('2009-05-26T00:00:00.000000000'): 22,\n",
       "             numpy.datetime64('2009-08-13T00:00:00.000000000'): 19,\n",
       "             numpy.datetime64('2015-06-10T00:00:00.000000000'): 19,\n",
       "             numpy.datetime64('2015-08-28T00:00:00.000000000'): 25,\n",
       "             numpy.datetime64('2010-04-07T00:00:00.000000000'): 2,\n",
       "             numpy.datetime64('2010-06-25T00:00:00.000000000'): 20,\n",
       "             numpy.datetime64('2010-11-30T00:00:00.000000000'): 9,\n",
       "             numpy.datetime64('2011-02-17T00:00:00.000000000'): 21,\n",
       "             numpy.datetime64('2011-07-25T00:00:00.000000000'): 19,\n",
       "             numpy.datetime64('2012-06-05T00:00:00.000000000'): 30,\n",
       "             numpy.datetime64('2012-08-23T00:00:00.000000000'): 5,\n",
       "             numpy.datetime64('2013-01-28T00:00:00.000000000'): 15,\n",
       "             numpy.datetime64('2013-04-17T00:00:00.000000000'): 53,\n",
       "             numpy.datetime64('2013-07-05T00:00:00.000000000'): 6,\n",
       "             numpy.datetime64('2013-12-10T00:00:00.000000000'): 20,\n",
       "             numpy.datetime64('2014-02-27T00:00:00.000000000'): 24,\n",
       "             numpy.datetime64('2011-06-01T00:00:00.000000000'): 5,\n",
       "             numpy.datetime64('2014-08-04T00:00:00.000000000'): 3,\n",
       "             numpy.datetime64('2014-10-22T00:00:00.000000000'): 33,\n",
       "             numpy.datetime64('2009-06-01T00:00:00.000000000'): 47,\n",
       "             numpy.datetime64('2009-08-19T00:00:00.000000000'): 15,\n",
       "             numpy.datetime64('2015-06-16T00:00:00.000000000'): 21,\n",
       "             numpy.datetime64('2015-09-03T00:00:00.000000000'): 21,\n",
       "             numpy.datetime64('2010-04-13T00:00:00.000000000'): 7,\n",
       "             numpy.datetime64('2010-07-01T00:00:00.000000000'): 33,\n",
       "             numpy.datetime64('2016-04-27T00:00:00.000000000'): 53,\n",
       "             numpy.datetime64('2010-12-06T00:00:00.000000000'): 1,\n",
       "             numpy.datetime64('2011-02-23T00:00:00.000000000'): 46,\n",
       "             numpy.datetime64('2011-10-18T00:00:00.000000000'): 8,\n",
       "             numpy.datetime64('2012-01-05T00:00:00.000000000'): 6,\n",
       "             numpy.datetime64('2012-06-11T00:00:00.000000000'): 25,\n",
       "             numpy.datetime64('2012-08-29T00:00:00.000000000'): 22,\n",
       "             numpy.datetime64('2012-11-16T00:00:00.000000000'): 8,\n",
       "             numpy.datetime64('2013-04-23T00:00:00.000000000'): 21,\n",
       "             numpy.datetime64('2013-07-11T00:00:00.000000000'): 29,\n",
       "             numpy.datetime64('2013-12-16T00:00:00.000000000'): 19,\n",
       "             numpy.datetime64('2014-03-05T00:00:00.000000000'): 21,\n",
       "             numpy.datetime64('2014-05-23T00:00:00.000000000'): 1,\n",
       "             numpy.datetime64('2009-03-20T00:00:00.000000000'): 39,\n",
       "             numpy.datetime64('2015-01-15T00:00:00.000000000'): 17,\n",
       "             numpy.datetime64('2009-08-25T00:00:00.000000000'): 6,\n",
       "             numpy.datetime64('2015-06-22T00:00:00.000000000'): 12,\n",
       "             numpy.datetime64('2015-09-09T00:00:00.000000000'): 6,\n",
       "             numpy.datetime64('2011-08-19T00:00:00.000000000'): 147,\n",
       "             numpy.datetime64('2015-11-27T00:00:00.000000000'): 5,\n",
       "             numpy.datetime64('2010-07-07T00:00:00.000000000'): 19,\n",
       "             numpy.datetime64('2016-05-03T00:00:00.000000000'): 17,\n",
       "             numpy.datetime64('2011-09-02T00:00:00.000000000'): 98,\n",
       "             numpy.datetime64('2011-03-01T00:00:00.000000000'): 39,\n",
       "             numpy.datetime64('2014-12-30T00:00:00.000000000'): 40,\n",
       "             numpy.datetime64('2012-01-11T00:00:00.000000000'): 6,\n",
       "             numpy.datetime64('2012-03-30T00:00:00.000000000'): 25,\n",
       "             numpy.datetime64('2010-10-14T00:00:00.000000000'): 41,\n",
       "             numpy.datetime64('2012-09-04T00:00:00.000000000'): 32,\n",
       "             numpy.datetime64('2013-04-29T00:00:00.000000000'): 48,\n",
       "             numpy.datetime64('2013-07-17T00:00:00.000000000'): 25,\n",
       "             numpy.datetime64('2013-10-04T00:00:00.000000000'): 6,\n",
       "             numpy.datetime64('2009-02-19T00:00:00.000000000'): 73,\n",
       "             numpy.datetime64('2014-03-11T00:00:00.000000000'): 16,\n",
       "             numpy.datetime64('2014-05-29T00:00:00.000000000'): 1,\n",
       "             numpy.datetime64('2009-01-06T00:00:00.000000000'): 151,\n",
       "             numpy.datetime64('2014-11-03T00:00:00.000000000'): 45,\n",
       "             numpy.datetime64('2015-01-21T00:00:00.000000000'): 6,\n",
       "             numpy.datetime64('2015-04-10T00:00:00.000000000'): 86,\n",
       "             numpy.datetime64('2009-11-18T00:00:00.000000000'): 31,\n",
       "             numpy.datetime64('2010-02-05T00:00:00.000000000'): 8,\n",
       "             numpy.datetime64('2015-12-03T00:00:00.000000000'): 6,\n",
       "             numpy.datetime64('2010-07-13T00:00:00.000000000'): 23,\n",
       "             numpy.datetime64('2010-09-30T00:00:00.000000000'): 43,\n",
       "             numpy.datetime64('2015-12-07T00:00:00.000000000'): 2,\n",
       "             numpy.datetime64('2011-05-25T00:00:00.000000000'): 10,\n",
       "             numpy.datetime64('2008-11-13T00:00:00.000000000'): 82,\n",
       "             numpy.datetime64('2012-04-05T00:00:00.000000000'): 22,\n",
       "             numpy.datetime64('2012-09-10T00:00:00.000000000'): 38,\n",
       "             numpy.datetime64('2012-11-28T00:00:00.000000000'): 2,\n",
       "             numpy.datetime64('2013-07-23T00:00:00.000000000'): 15,\n",
       "             numpy.datetime64('2013-10-10T00:00:00.000000000'): 39,\n",
       "             numpy.datetime64('2014-03-17T00:00:00.000000000'): 12,\n",
       "             numpy.datetime64('2014-06-04T00:00:00.000000000'): 3,\n",
       "             numpy.datetime64('2009-01-12T00:00:00.000000000'): 28,\n",
       "             numpy.datetime64('2009-04-01T00:00:00.000000000'): 38,\n",
       "             numpy.datetime64('2015-01-27T00:00:00.000000000'): 18,\n",
       "             numpy.datetime64('2015-04-16T00:00:00.000000000'): 144,\n",
       "             numpy.datetime64('2009-11-24T00:00:00.000000000'): 21,\n",
       "             numpy.datetime64('2015-09-21T00:00:00.000000000'): 44,\n",
       "             numpy.datetime64('2015-12-09T00:00:00.000000000'): 25,\n",
       "             numpy.datetime64('2016-02-26T00:00:00.000000000'): 17,\n",
       "             numpy.datetime64('2010-10-06T00:00:00.000000000'): 56,\n",
       "             numpy.datetime64('2011-05-31T00:00:00.000000000'): 5,\n",
       "             numpy.datetime64('2011-08-18T00:00:00.000000000'): 155,\n",
       "             numpy.datetime64('2012-01-23T00:00:00.000000000'): 35,\n",
       "             numpy.datetime64('2012-04-11T00:00:00.000000000'): 10,\n",
       "             numpy.datetime64('2012-06-29T00:00:00.000000000'): 26,\n",
       "             numpy.datetime64('2009-06-08T00:00:00.000000000'): 8,\n",
       "             numpy.datetime64('2013-02-21T00:00:00.000000000'): 10,\n",
       "             numpy.datetime64('2013-07-29T00:00:00.000000000'): 15,\n",
       "             numpy.datetime64('2013-10-16T00:00:00.000000000'): 54,\n",
       "             numpy.datetime64('2014-01-03T00:00:00.000000000'): 9,\n",
       "             numpy.datetime64('2014-07-21T00:00:00.000000000'): 36,\n",
       "             numpy.datetime64('2008-10-31T00:00:00.000000000'): 123,\n",
       "             numpy.datetime64('2014-08-28T00:00:00.000000000'): 35,\n",
       "             numpy.datetime64('2009-04-07T00:00:00.000000000'): 42,\n",
       "             numpy.datetime64('2009-06-25T00:00:00.000000000'): 23,\n",
       "             numpy.datetime64('2015-04-22T00:00:00.000000000'): 118,\n",
       "             numpy.datetime64('2015-07-10T00:00:00.000000000'): 10,\n",
       "             numpy.datetime64('2010-02-17T00:00:00.000000000'): 1,\n",
       "             numpy.datetime64('2015-12-15T00:00:00.000000000'): 30,\n",
       "             numpy.datetime64('2016-03-03T00:00:00.000000000'): 199,\n",
       "             numpy.datetime64('2010-12-30T00:00:00.000000000'): 17,\n",
       "             numpy.datetime64('2011-06-06T00:00:00.000000000'): 1,\n",
       "             numpy.datetime64('2011-08-24T00:00:00.000000000'): 98,\n",
       "             numpy.datetime64('2011-11-11T00:00:00.000000000'): 26,\n",
       "             numpy.datetime64('2012-04-17T00:00:00.000000000'): 20,\n",
       "             numpy.datetime64('2012-07-05T00:00:00.000000000'): 15,\n",
       "             numpy.datetime64('2012-12-10T00:00:00.000000000'): 5,\n",
       "             numpy.datetime64('2013-02-27T00:00:00.000000000'): 2,\n",
       "             numpy.datetime64('2014-12-22T00:00:00.000000000'): 46,\n",
       "             numpy.datetime64('2013-10-22T00:00:00.000000000'): 21,\n",
       "             numpy.datetime64('2014-01-09T00:00:00.000000000'): 4,\n",
       "             numpy.datetime64('2009-08-26T00:00:00.000000000'): 8,\n",
       "             numpy.datetime64('2008-11-06T00:00:00.000000000'): 87,\n",
       "             numpy.datetime64('2014-09-03T00:00:00.000000000'): 39,\n",
       "             numpy.datetime64('2014-11-21T00:00:00.000000000'): 38,\n",
       "             numpy.datetime64('2009-07-01T00:00:00.000000000'): 47,\n",
       "             numpy.datetime64('2015-04-28T00:00:00.000000000'): 99,\n",
       "             numpy.datetime64('2015-07-16T00:00:00.000000000'): 12,\n",
       "             numpy.datetime64('2010-02-23T00:00:00.000000000'): 3,\n",
       "             numpy.datetime64('2010-05-13T00:00:00.000000000'): 23,\n",
       "             numpy.datetime64('2016-03-09T00:00:00.000000000'): 189,\n",
       "             numpy.datetime64('2016-05-27T00:00:00.000000000'): 2,\n",
       "             numpy.datetime64('2011-01-05T00:00:00.000000000'): 3,\n",
       "             numpy.datetime64('2011-03-25T00:00:00.000000000'): 25,\n",
       "             numpy.datetime64('2011-08-30T00:00:00.000000000'): 73,\n",
       "             numpy.datetime64('2011-11-17T00:00:00.000000000'): 14,\n",
       "             numpy.datetime64('2012-04-23T00:00:00.000000000'): 36,\n",
       "             numpy.datetime64('2012-07-11T00:00:00.000000000'): 3,\n",
       "             numpy.datetime64('2012-09-28T00:00:00.000000000'): 14,\n",
       "             numpy.datetime64('2009-10-19T00:00:00.000000000'): 54,\n",
       "             numpy.datetime64('2013-05-23T00:00:00.000000000'): 5,\n",
       "             numpy.datetime64('2013-10-28T00:00:00.000000000'): 46,\n",
       "             numpy.datetime64('2014-01-15T00:00:00.000000000'): 6,\n",
       "             numpy.datetime64('2014-04-04T00:00:00.000000000'): 25,\n",
       "             numpy.datetime64('2008-11-12T00:00:00.000000000'): 116,\n",
       "             numpy.datetime64('2009-01-30T00:00:00.000000000'): 62,\n",
       "             numpy.datetime64('2014-11-27T00:00:00.000000000'): 6,\n",
       "             numpy.datetime64('2009-07-07T00:00:00.000000000'): 39,\n",
       "             numpy.datetime64('2015-05-04T00:00:00.000000000'): 98,\n",
       "             numpy.datetime64('2015-06-23T00:00:00.000000000'): 7,\n",
       "             numpy.datetime64('2015-07-22T00:00:00.000000000'): 13,\n",
       "             numpy.datetime64('2010-03-01T00:00:00.000000000'): 7,\n",
       "             numpy.datetime64('2010-05-19T00:00:00.000000000'): 12,\n",
       "             numpy.datetime64('2010-08-06T00:00:00.000000000'): 14,\n",
       "             numpy.datetime64('2011-01-11T00:00:00.000000000'): 1,\n",
       "             numpy.datetime64('2010-01-14T00:00:00.000000000'): 14,\n",
       "             numpy.datetime64('2011-11-23T00:00:00.000000000'): 35,\n",
       "             numpy.datetime64('2012-02-10T00:00:00.000000000'): 54,\n",
       "             numpy.datetime64('2012-07-17T00:00:00.000000000'): 46,\n",
       "             numpy.datetime64('2012-10-04T00:00:00.000000000'): 15,\n",
       "             numpy.datetime64('2013-03-11T00:00:00.000000000'): 5,\n",
       "             numpy.datetime64('2013-05-29T00:00:00.000000000'): 2,\n",
       "             numpy.datetime64('2013-08-16T00:00:00.000000000'): 25,\n",
       "             numpy.datetime64('2014-01-21T00:00:00.000000000'): 23,\n",
       "             numpy.datetime64('2014-04-10T00:00:00.000000000'): 30,\n",
       "             numpy.datetime64('2008-11-18T00:00:00.000000000'): 85,\n",
       "             numpy.datetime64('2009-02-05T00:00:00.000000000'): 40,\n",
       "             numpy.datetime64('2014-12-03T00:00:00.000000000'): 8,\n",
       "             numpy.datetime64('2009-07-13T00:00:00.000000000'): 28,\n",
       "             numpy.datetime64('2009-09-30T00:00:00.000000000'): 8,\n",
       "             numpy.datetime64('2009-12-18T00:00:00.000000000'): 4,\n",
       "             numpy.datetime64('2010-05-25T00:00:00.000000000'): 38,\n",
       "             numpy.datetime64('2016-03-21T00:00:00.000000000'): 147,\n",
       "             numpy.datetime64('2016-06-08T00:00:00.000000000'): 28,\n",
       "             numpy.datetime64('2014-10-28T00:00:00.000000000'): 59,\n",
       "             numpy.datetime64('2012-09-17T00:00:00.000000000'): 56,\n",
       "             numpy.datetime64('2009-03-26T00:00:00.000000000'): 63,\n",
       "             numpy.datetime64('2011-06-24T00:00:00.000000000'): 10,\n",
       "             numpy.datetime64('2015-09-11T00:00:00.000000000'): 34,\n",
       "             numpy.datetime64('2011-11-29T00:00:00.000000000'): 10,\n",
       "             numpy.datetime64('2012-02-16T00:00:00.000000000'): 17,\n",
       "             numpy.datetime64('2012-07-23T00:00:00.000000000'): 24,\n",
       "             numpy.datetime64('2012-10-10T00:00:00.000000000'): 44,\n",
       "             numpy.datetime64('2012-12-28T00:00:00.000000000'): 10,\n",
       "             numpy.datetime64('2009-08-07T00:00:00.000000000'): 25,\n",
       "             numpy.datetime64('2013-06-04T00:00:00.000000000'): 24,\n",
       "             numpy.datetime64('2010-02-11T00:00:00.000000000'): 2,\n",
       "             numpy.datetime64('2013-08-22T00:00:00.000000000'): 38,\n",
       "             numpy.datetime64('2014-01-27T00:00:00.000000000'): 17,\n",
       "             numpy.datetime64('2014-04-16T00:00:00.000000000'): 36,\n",
       "             numpy.datetime64('2008-11-24T00:00:00.000000000'): 129,\n",
       "             numpy.datetime64('2009-02-11T00:00:00.000000000'): 30,\n",
       "             numpy.datetime64('2014-12-09T00:00:00.000000000'): 47,\n",
       "             numpy.datetime64('2015-02-26T00:00:00.000000000'): 12,\n",
       "             numpy.datetime64('2009-10-06T00:00:00.000000000'): 12,\n",
       "             numpy.datetime64('2015-08-03T00:00:00.000000000'): 30,\n",
       "             numpy.datetime64('2010-08-18T00:00:00.000000000'): 22,\n",
       "             numpy.datetime64('2010-11-05T00:00:00.000000000'): 6,\n",
       "             numpy.datetime64('2011-06-30T00:00:00.000000000'): 13,\n",
       "             numpy.datetime64('2011-12-05T00:00:00.000000000'): 38,\n",
       "             numpy.datetime64('2012-05-11T00:00:00.000000000'): 17,\n",
       "             numpy.datetime64('2010-04-20T00:00:00.000000000'): 2,\n",
       "             numpy.datetime64('2012-10-16T00:00:00.000000000'): 22,\n",
       "             numpy.datetime64('2013-01-03T00:00:00.000000000'): 5,\n",
       "             numpy.datetime64('2013-06-10T00:00:00.000000000'): 21,\n",
       "             numpy.datetime64('2013-08-28T00:00:00.000000000'): 17,\n",
       "             numpy.datetime64('2014-04-22T00:00:00.000000000'): 11,\n",
       "             numpy.datetime64('2014-07-10T00:00:00.000000000'): 16,\n",
       "             numpy.datetime64('2014-10-24T00:00:00.000000000'): 44,\n",
       "             numpy.datetime64('2009-02-17T00:00:00.000000000'): 70,\n",
       "             numpy.datetime64('2009-05-07T00:00:00.000000000'): 37,\n",
       "             numpy.datetime64('2015-03-04T00:00:00.000000000'): 28,\n",
       "             numpy.datetime64('2015-05-22T00:00:00.000000000'): 8,\n",
       "             numpy.datetime64('2009-12-30T00:00:00.000000000'): 6,\n",
       "             numpy.datetime64('2010-03-19T00:00:00.000000000'): 4,\n",
       "             numpy.datetime64('2010-08-24T00:00:00.000000000'): 1,\n",
       "             numpy.datetime64('2014-07-18T00:00:00.000000000'): 61,\n",
       "             numpy.datetime64('2010-11-11T00:00:00.000000000'): 9,\n",
       "             numpy.datetime64('2011-07-06T00:00:00.000000000'): 16,\n",
       "             numpy.datetime64('2011-09-23T00:00:00.000000000'): 93,\n",
       "             numpy.datetime64('2012-02-28T00:00:00.000000000'): 10,\n",
       "             numpy.datetime64('2012-05-17T00:00:00.000000000'): 23,\n",
       "             numpy.datetime64('2012-10-22T00:00:00.000000000'): 19,\n",
       "             numpy.datetime64('2013-01-09T00:00:00.000000000'): 2,\n",
       "             numpy.datetime64('2013-09-03T00:00:00.000000000'): 23,\n",
       "             numpy.datetime64('2013-02-22T00:00:00.000000000'): 18,\n",
       "             numpy.datetime64('2013-11-21T00:00:00.000000000'): 12,\n",
       "             numpy.datetime64('2014-04-28T00:00:00.000000000'): 6,\n",
       "             numpy.datetime64('2014-07-16T00:00:00.000000000'): 15,\n",
       "             numpy.datetime64('2014-10-03T00:00:00.000000000'): 25,\n",
       "             numpy.datetime64('2009-05-13T00:00:00.000000000'): 29,\n",
       "             numpy.datetime64('2015-03-10T00:00:00.000000000'): 72,\n",
       "             numpy.datetime64('2015-05-28T00:00:00.000000000'): 12,\n",
       "             numpy.datetime64('2010-01-05T00:00:00.000000000'): 10,\n",
       "             numpy.datetime64('2010-08-30T00:00:00.000000000'): 5,\n",
       "             numpy.datetime64('2010-11-17T00:00:00.000000000'): 11,\n",
       "             numpy.datetime64('2011-02-04T00:00:00.000000000'): 30,\n",
       "             numpy.datetime64('2011-07-12T00:00:00.000000000'): 1,\n",
       "             numpy.datetime64('2011-09-29T00:00:00.000000000'): 47,\n",
       "             numpy.datetime64('2012-03-05T00:00:00.000000000'): 1,\n",
       "             numpy.datetime64('2012-05-23T00:00:00.000000000'): 42,\n",
       "             numpy.datetime64('2012-08-10T00:00:00.000000000'): 14,\n",
       "             numpy.datetime64('2009-11-16T00:00:00.000000000'): 26,\n",
       "             numpy.datetime64('2013-01-15T00:00:00.000000000'): 2,\n",
       "             numpy.datetime64('2013-04-04T00:00:00.000000000'): 6,\n",
       "             numpy.datetime64('2013-09-09T00:00:00.000000000'): 21,\n",
       "             numpy.datetime64('2013-11-27T00:00:00.000000000'): 9,\n",
       "             numpy.datetime64('2014-02-14T00:00:00.000000000'): 6,\n",
       "             numpy.datetime64('2014-07-22T00:00:00.000000000'): 37,\n",
       "             numpy.datetime64('2009-05-19T00:00:00.000000000'): 23,\n",
       "             numpy.datetime64('2010-05-20T00:00:00.000000000'): 69,\n",
       "             numpy.datetime64('2015-03-16T00:00:00.000000000'): 68,\n",
       "             numpy.datetime64('2015-06-03T00:00:00.000000000'): 1,\n",
       "             numpy.datetime64('2015-08-21T00:00:00.000000000'): 30,\n",
       "             numpy.datetime64('2010-03-31T00:00:00.000000000'): 4,\n",
       "             numpy.datetime64('2010-06-18T00:00:00.000000000'): 22,\n",
       "             numpy.datetime64('2016-04-14T00:00:00.000000000'): 53,\n",
       "             numpy.datetime64('2010-11-23T00:00:00.000000000'): 16,\n",
       "             numpy.datetime64('2011-07-18T00:00:00.000000000'): 4,\n",
       "             numpy.datetime64('2011-10-05T00:00:00.000000000'): 26,\n",
       "             numpy.datetime64('2011-12-23T00:00:00.000000000'): 11,\n",
       "             numpy.datetime64('2012-05-29T00:00:00.000000000'): 11,\n",
       "             numpy.datetime64('2009-01-26T00:00:00.000000000'): 54,\n",
       "             numpy.datetime64('2012-08-16T00:00:00.000000000'): 12,\n",
       "             numpy.datetime64('2013-04-10T00:00:00.000000000'): 7,\n",
       "             numpy.datetime64('2013-06-28T00:00:00.000000000'): 16,\n",
       "             numpy.datetime64('2013-12-03T00:00:00.000000000'): 35,\n",
       "             numpy.datetime64('2014-02-20T00:00:00.000000000'): 4,\n",
       "             numpy.datetime64('2008-12-18T00:00:00.000000000'): 55,\n",
       "             numpy.datetime64('2014-10-15T00:00:00.000000000'): 59,\n",
       "             numpy.datetime64('2015-01-02T00:00:00.000000000'): 41,\n",
       "             numpy.datetime64('2009-08-12T00:00:00.000000000'): 38,\n",
       "             numpy.datetime64('2009-10-30T00:00:00.000000000'): 21,\n",
       "             numpy.datetime64('2015-08-27T00:00:00.000000000'): 23,\n",
       "             numpy.datetime64('2010-06-24T00:00:00.000000000'): 22,\n",
       "             numpy.datetime64('2016-04-20T00:00:00.000000000'): 27,\n",
       "             numpy.datetime64('2013-07-30T00:00:00.000000000'): 11,\n",
       "             numpy.datetime64('2010-11-29T00:00:00.000000000'): 8,\n",
       "             numpy.datetime64('2011-02-16T00:00:00.000000000'): 34,\n",
       "             numpy.datetime64('2010-04-23T00:00:00.000000000'): 5,\n",
       "             numpy.datetime64('2011-10-11T00:00:00.000000000'): 10,\n",
       "             numpy.datetime64('2012-06-04T00:00:00.000000000'): 31,\n",
       "             numpy.datetime64('2009-08-06T00:00:00.000000000'): 30,\n",
       "             numpy.datetime64('2012-08-22T00:00:00.000000000'): 14,\n",
       "             numpy.datetime64('2012-11-09T00:00:00.000000000'): 13,\n",
       "             numpy.datetime64('2013-04-16T00:00:00.000000000'): 27,\n",
       "             numpy.datetime64('2013-12-09T00:00:00.000000000'): 18,\n",
       "             numpy.datetime64('2014-02-26T00:00:00.000000000'): 7,\n",
       "             numpy.datetime64('2014-05-16T00:00:00.000000000'): 1,\n",
       "             numpy.datetime64('2009-03-13T00:00:00.000000000'): 54,\n",
       "             numpy.datetime64('2015-01-08T00:00:00.000000000'): 35,\n",
       "             numpy.datetime64('2009-08-18T00:00:00.000000000'): 14,\n",
       "             numpy.datetime64('2009-11-05T00:00:00.000000000'): 14,\n",
       "             numpy.datetime64('2015-09-02T00:00:00.000000000'): 16,\n",
       "             numpy.datetime64('2010-04-12T00:00:00.000000000'): 13,\n",
       "             numpy.datetime64('2010-06-30T00:00:00.000000000'): 31,\n",
       "             numpy.datetime64('2010-09-17T00:00:00.000000000'): 29,\n",
       "             numpy.datetime64('2011-01-21T00:00:00.000000000'): 28,\n",
       "             numpy.datetime64('2011-02-22T00:00:00.000000000'): 25,\n",
       "             numpy.datetime64('2011-10-17T00:00:00.000000000'): 16,\n",
       "             numpy.datetime64('2012-01-04T00:00:00.000000000'): 5,\n",
       "             numpy.datetime64('2013-10-17T00:00:00.000000000'): 24,\n",
       "             numpy.datetime64('2012-03-23T00:00:00.000000000'): 28,\n",
       "             numpy.datetime64('2012-08-28T00:00:00.000000000'): 9,\n",
       "             numpy.datetime64('2009-11-12T00:00:00.000000000'): 17,\n",
       "             numpy.datetime64('2013-04-22T00:00:00.000000000'): 17,\n",
       "             numpy.datetime64('2013-07-10T00:00:00.000000000'): 1,\n",
       "             numpy.datetime64('2013-09-27T00:00:00.000000000'): 7,\n",
       "             numpy.datetime64('2008-12-30T00:00:00.000000000'): 40,\n",
       "             numpy.datetime64('2009-03-19T00:00:00.000000000'): 56,\n",
       "             numpy.datetime64('2015-01-14T00:00:00.000000000'): 11,\n",
       "             numpy.datetime64('2009-08-24T00:00:00.000000000'): 7,\n",
       "             numpy.datetime64('2009-11-11T00:00:00.000000000'): 16,\n",
       "             numpy.datetime64('2015-09-08T00:00:00.000000000'): 28,\n",
       "             numpy.datetime64('2010-07-06T00:00:00.000000000'): 20,\n",
       "             numpy.datetime64('2016-05-02T00:00:00.000000000'): 24,\n",
       "             numpy.datetime64('2011-02-28T00:00:00.000000000'): 44,\n",
       "             numpy.datetime64('2012-01-10T00:00:00.000000000'): 5,\n",
       "             numpy.datetime64('2012-03-29T00:00:00.000000000'): 24,\n",
       "             numpy.datetime64('2012-11-21T00:00:00.000000000'): 9,\n",
       "             numpy.datetime64('2013-02-08T00:00:00.000000000'): 7,\n",
       "             numpy.datetime64('2015-01-23T00:00:00.000000000'): 31,\n",
       "             numpy.datetime64('2013-07-16T00:00:00.000000000'): 21,\n",
       "             numpy.datetime64('2014-08-22T00:00:00.000000000'): 8,\n",
       "             numpy.datetime64('2009-09-18T00:00:00.000000000'): 17,\n",
       "             numpy.datetime64('2014-03-10T00:00:00.000000000'): 18,\n",
       "             numpy.datetime64('2014-05-28T00:00:00.000000000'): 2,\n",
       "             numpy.datetime64('2014-08-15T00:00:00.000000000'): 18,\n",
       "             numpy.datetime64('2009-03-25T00:00:00.000000000'): 50,\n",
       "             numpy.datetime64('2015-01-20T00:00:00.000000000'): 13,\n",
       "             numpy.datetime64('2015-04-09T00:00:00.000000000'): 62,\n",
       "             numpy.datetime64('2009-11-17T00:00:00.000000000'): 32,\n",
       "             numpy.datetime64('2015-09-14T00:00:00.000000000'): 28,\n",
       "             numpy.datetime64('2009-06-12T00:00:00.000000000'): 32,\n",
       "             numpy.datetime64('2015-12-02T00:00:00.000000000'): 1,\n",
       "             numpy.datetime64('2016-02-19T00:00:00.000000000'): 9,\n",
       "             numpy.datetime64('2010-09-29T00:00:00.000000000'): 57,\n",
       "             numpy.datetime64('2012-04-04T00:00:00.000000000'): 15,\n",
       "             numpy.datetime64('2012-06-22T00:00:00.000000000'): 13,\n",
       "             numpy.datetime64('2012-11-27T00:00:00.000000000'): 10,\n",
       "             numpy.datetime64('2013-02-14T00:00:00.000000000'): 2,\n",
       "             numpy.datetime64('2013-07-22T00:00:00.000000000'): 22,\n",
       "             numpy.datetime64('2013-10-09T00:00:00.000000000'): 8,\n",
       "             numpy.datetime64('2013-12-27T00:00:00.000000000'): 3,\n",
       "             numpy.datetime64('2008-10-24T00:00:00.000000000'): 254,\n",
       "             numpy.datetime64('2014-08-21T00:00:00.000000000'): 10,\n",
       "             numpy.datetime64('2014-03-24T00:00:00.000000000'): 8,\n",
       "             numpy.datetime64('2009-03-31T00:00:00.000000000'): 40,\n",
       "             numpy.datetime64('2015-01-26T00:00:00.000000000'): 23,\n",
       "             numpy.datetime64('2015-04-15T00:00:00.000000000'): 165,\n",
       "             numpy.datetime64('2009-11-23T00:00:00.000000000'): 26,\n",
       "             numpy.datetime64('2010-02-10T00:00:00.000000000'): 3,\n",
       "             numpy.datetime64('2010-04-30T00:00:00.000000000'): 30,\n",
       "             numpy.datetime64('2016-02-25T00:00:00.000000000'): 20,\n",
       "             numpy.datetime64('2010-10-05T00:00:00.000000000'): 36,\n",
       "             numpy.datetime64('2010-12-23T00:00:00.000000000'): 13,\n",
       "             numpy.datetime64('2011-08-17T00:00:00.000000000'): 163,\n",
       "             numpy.datetime64('2011-11-04T00:00:00.000000000'): 35,\n",
       "             numpy.datetime64('2012-04-10T00:00:00.000000000'): 11,\n",
       "             numpy.datetime64('2012-06-28T00:00:00.000000000'): 13,\n",
       "             numpy.datetime64('2011-09-13T00:00:00.000000000'): 59,\n",
       "             numpy.datetime64('2012-12-03T00:00:00.000000000'): 2,\n",
       "             numpy.datetime64('2013-02-20T00:00:00.000000000'): 5,\n",
       "             numpy.datetime64('2013-05-10T00:00:00.000000000'): 20,\n",
       "             numpy.datetime64('2013-10-15T00:00:00.000000000'): 28,\n",
       "             numpy.datetime64('2016-05-10T00:00:00.000000000'): 13,\n",
       "             numpy.datetime64('2014-01-02T00:00:00.000000000'): 7,\n",
       "             numpy.datetime64('2014-06-09T00:00:00.000000000'): 14,\n",
       "             numpy.datetime64('2014-08-27T00:00:00.000000000'): 26,\n",
       "             numpy.datetime64('2015-07-27T00:00:00.000000000'): 32,\n",
       "             numpy.datetime64('2014-11-14T00:00:00.000000000'): 46,\n",
       "             numpy.datetime64('2009-06-24T00:00:00.000000000'): 35,\n",
       "             numpy.datetime64('2009-09-11T00:00:00.000000000'): 24,\n",
       "             numpy.datetime64('2009-03-02T00:00:00.000000000'): 80,\n",
       "             numpy.datetime64('2015-12-14T00:00:00.000000000'): 3,\n",
       "             numpy.datetime64('2014-02-03T00:00:00.000000000'): 29,\n",
       "             numpy.datetime64('2016-03-02T00:00:00.000000000'): 48,\n",
       "             numpy.datetime64('2010-10-11T00:00:00.000000000'): 20,\n",
       "             numpy.datetime64('2010-12-29T00:00:00.000000000'): 1,\n",
       "             numpy.datetime64('2011-03-18T00:00:00.000000000'): 48,\n",
       "             numpy.datetime64('2011-08-23T00:00:00.000000000'): 111,\n",
       "             numpy.datetime64('2012-04-16T00:00:00.000000000'): 17,\n",
       "             numpy.datetime64('2012-09-21T00:00:00.000000000'): 18,\n",
       "             numpy.datetime64('2013-02-26T00:00:00.000000000'): 18,\n",
       "             numpy.datetime64('2013-05-16T00:00:00.000000000'): 9,\n",
       "             numpy.datetime64('2013-10-21T00:00:00.000000000'): 30,\n",
       "             numpy.datetime64('2014-03-28T00:00:00.000000000'): 26,\n",
       "             numpy.datetime64('2008-11-05T00:00:00.000000000'): 91,\n",
       "             numpy.datetime64('2009-01-23T00:00:00.000000000'): 60,\n",
       "             numpy.datetime64('2009-06-30T00:00:00.000000000'): 35,\n",
       "             numpy.datetime64('2015-04-27T00:00:00.000000000'): 75,\n",
       "             numpy.datetime64('2009-09-10T00:00:00.000000000'): 23,\n",
       "             numpy.datetime64('2015-07-15T00:00:00.000000000'): 4,\n",
       "             numpy.datetime64('2015-10-02T00:00:00.000000000'): 24,\n",
       "             numpy.datetime64('2010-05-12T00:00:00.000000000'): 27,\n",
       "             numpy.datetime64('2016-03-08T00:00:00.000000000'): 196,\n",
       "             numpy.datetime64('2011-01-04T00:00:00.000000000'): 13,\n",
       "             numpy.datetime64('2011-03-24T00:00:00.000000000'): 36,\n",
       "             numpy.datetime64('2015-01-06T00:00:00.000000000'): 106,\n",
       "             numpy.datetime64('2011-08-29T00:00:00.000000000'): 71,\n",
       "             numpy.datetime64('2012-01-12T00:00:00.000000000'): 12,\n",
       "             numpy.datetime64('2012-02-03T00:00:00.000000000'): 38,\n",
       "             numpy.datetime64('2012-07-10T00:00:00.000000000'): 4,\n",
       "             numpy.datetime64('2012-09-27T00:00:00.000000000'): 13,\n",
       "             numpy.datetime64('2013-05-17T00:00:00.000000000'): 7,\n",
       "             numpy.datetime64('2013-03-04T00:00:00.000000000'): 8,\n",
       "             numpy.datetime64('2013-05-22T00:00:00.000000000'): 5,\n",
       "             numpy.datetime64('2013-08-09T00:00:00.000000000'): 6,\n",
       "             numpy.datetime64('2014-01-14T00:00:00.000000000'): 3,\n",
       "             numpy.datetime64('2014-04-03T00:00:00.000000000'): 30,\n",
       "             numpy.datetime64('2008-11-11T00:00:00.000000000'): 63,\n",
       "             numpy.datetime64('2014-09-08T00:00:00.000000000'): 19,\n",
       "             numpy.datetime64('2014-11-26T00:00:00.000000000'): 7,\n",
       "             numpy.datetime64('2015-02-13T00:00:00.000000000'): 33,\n",
       "             numpy.datetime64('2009-09-23T00:00:00.000000000'): 30,\n",
       "             numpy.datetime64('2015-07-21T00:00:00.000000000'): 11,\n",
       "             numpy.datetime64('2015-10-08T00:00:00.000000000'): 51,\n",
       "             numpy.datetime64('2010-05-18T00:00:00.000000000'): 17,\n",
       "             numpy.datetime64('2016-03-14T00:00:00.000000000'): 172,\n",
       "             numpy.datetime64('2011-01-10T00:00:00.000000000'): 12,\n",
       "             numpy.datetime64('2011-06-17T00:00:00.000000000'): 15,\n",
       "             numpy.datetime64('2010-08-13T00:00:00.000000000'): 5,\n",
       "             numpy.datetime64('2011-11-22T00:00:00.000000000'): 11,\n",
       "             numpy.datetime64('2012-02-09T00:00:00.000000000'): 15,\n",
       "             numpy.datetime64('2012-10-03T00:00:00.000000000'): 11,\n",
       "             numpy.datetime64('2012-08-06T00:00:00.000000000'): 32,\n",
       "             numpy.datetime64('2013-05-28T00:00:00.000000000'): 6,\n",
       "             numpy.datetime64('2013-08-15T00:00:00.000000000'): 40,\n",
       "             numpy.datetime64('2014-04-09T00:00:00.000000000'): 23,\n",
       "             numpy.datetime64('2008-11-17T00:00:00.000000000'): 96,\n",
       "             numpy.datetime64('2009-02-04T00:00:00.000000000'): 61,\n",
       "             numpy.datetime64('2014-12-02T00:00:00.000000000'): 38,\n",
       "             numpy.datetime64('2015-02-19T00:00:00.000000000'): 18,\n",
       "             numpy.datetime64('2010-01-29T00:00:00.000000000'): 11,\n",
       "             numpy.datetime64('2009-12-17T00:00:00.000000000'): 4,\n",
       "             numpy.datetime64('2010-05-24T00:00:00.000000000'): 39,\n",
       "             numpy.datetime64('2010-08-11T00:00:00.000000000'): 16,\n",
       "             numpy.datetime64('2016-06-07T00:00:00.000000000'): 4,\n",
       "             numpy.datetime64('2010-08-09T00:00:00.000000000'): 8,\n",
       "             numpy.datetime64('2011-11-28T00:00:00.000000000'): 15,\n",
       "             numpy.datetime64('2012-02-15T00:00:00.000000000'): 50,\n",
       "             numpy.datetime64('2012-05-04T00:00:00.000000000'): 40,\n",
       "             numpy.datetime64('2012-10-09T00:00:00.000000000'): 4,\n",
       "             numpy.datetime64('2012-12-27T00:00:00.000000000'): 12,\n",
       "             numpy.datetime64('2013-06-03T00:00:00.000000000'): 29,\n",
       "             numpy.datetime64('2013-08-21T00:00:00.000000000'): 23,\n",
       "             numpy.datetime64('2013-11-08T00:00:00.000000000'): 10,\n",
       "             numpy.datetime64('2014-04-15T00:00:00.000000000'): 12,\n",
       "             numpy.datetime64('2009-06-26T00:00:00.000000000'): 27,\n",
       "             numpy.datetime64('2014-07-03T00:00:00.000000000'): 9,\n",
       "             numpy.datetime64('2009-02-10T00:00:00.000000000'): 43,\n",
       "             numpy.datetime64('2009-04-30T00:00:00.000000000'): 44,\n",
       "             numpy.datetime64('2015-02-25T00:00:00.000000000'): 19,\n",
       "             numpy.datetime64('2015-05-15T00:00:00.000000000'): 19,\n",
       "             numpy.datetime64('2009-12-23T00:00:00.000000000'): 9,\n",
       "             numpy.datetime64('2010-03-12T00:00:00.000000000'): 3,\n",
       "             numpy.datetime64('2010-08-17T00:00:00.000000000'): 9,\n",
       "             numpy.datetime64('2010-11-04T00:00:00.000000000'): 29,\n",
       "             numpy.datetime64('2015-04-06T00:00:00.000000000'): 31,\n",
       "             numpy.datetime64('2009-09-02T00:00:00.000000000'): 39,\n",
       "             numpy.datetime64('2011-06-29T00:00:00.000000000'): 13,\n",
       "             numpy.datetime64('2011-09-16T00:00:00.000000000'): 31,\n",
       "             numpy.datetime64('2012-05-10T00:00:00.000000000'): 34,\n",
       "             numpy.datetime64('2012-10-15T00:00:00.000000000'): 38,\n",
       "             numpy.datetime64('2013-01-02T00:00:00.000000000'): 8,\n",
       "             numpy.datetime64('2016-04-11T00:00:00.000000000'): 36,\n",
       "             numpy.datetime64('2013-08-27T00:00:00.000000000'): 22,\n",
       "             numpy.datetime64('2013-11-14T00:00:00.000000000'): 9,\n",
       "             numpy.datetime64('2014-09-26T00:00:00.000000000'): 8,\n",
       "             numpy.datetime64('2009-05-06T00:00:00.000000000'): 80,\n",
       "             numpy.datetime64('2009-07-24T00:00:00.000000000'): 45,\n",
       "             numpy.datetime64('2015-05-21T00:00:00.000000000'): 6,\n",
       "             numpy.datetime64('2012-09-05T00:00:00.000000000'): 34,\n",
       "             numpy.datetime64('2010-03-18T00:00:00.000000000'): 10,\n",
       "             numpy.datetime64('2016-04-01T00:00:00.000000000'): 61,\n",
       "             numpy.datetime64('2010-11-10T00:00:00.000000000'): 7,\n",
       "             numpy.datetime64('2011-01-28T00:00:00.000000000'): 37,\n",
       "             numpy.datetime64('2011-07-05T00:00:00.000000000'): 9,\n",
       "             numpy.datetime64('2011-09-22T00:00:00.000000000'): 123,\n",
       "             numpy.datetime64('2012-02-27T00:00:00.000000000'): 8,\n",
       "             numpy.datetime64('2012-05-16T00:00:00.000000000'): 44,\n",
       "             numpy.datetime64('2012-08-03T00:00:00.000000000'): 24,\n",
       "             numpy.datetime64('2009-04-06T00:00:00.000000000'): 64,\n",
       "             numpy.datetime64('2013-01-08T00:00:00.000000000'): 4,\n",
       "             numpy.datetime64('2010-08-05T00:00:00.000000000'): 12,\n",
       "             numpy.datetime64('2014-02-07T00:00:00.000000000'): 18,\n",
       "             numpy.datetime64('2014-07-15T00:00:00.000000000'): 6,\n",
       "             numpy.datetime64('2016-02-22T00:00:00.000000000'): 26,\n",
       "             numpy.datetime64('2014-10-02T00:00:00.000000000'): 29,\n",
       "             numpy.datetime64('2009-05-12T00:00:00.000000000'): 33,\n",
       "             numpy.datetime64('2009-07-30T00:00:00.000000000'): 32,\n",
       "             numpy.datetime64('2015-05-27T00:00:00.000000000'): 10,\n",
       "             numpy.datetime64('2010-01-04T00:00:00.000000000'): 3,\n",
       "             numpy.datetime64('2010-03-24T00:00:00.000000000'): 2,\n",
       "             numpy.datetime64('2010-06-11T00:00:00.000000000'): 27,\n",
       "             numpy.datetime64('2016-04-07T00:00:00.000000000'): 34,\n",
       "             numpy.datetime64('2010-11-16T00:00:00.000000000'): 21,\n",
       "             numpy.datetime64('2015-08-25T00:00:00.000000000'): 70,\n",
       "             numpy.datetime64('2011-02-03T00:00:00.000000000'): 31,\n",
       "             numpy.datetime64('2010-05-07T00:00:00.000000000'): 63,\n",
       "             numpy.datetime64('2012-11-23T00:00:00.000000000'): 3,\n",
       "             numpy.datetime64('2011-07-11T00:00:00.000000000'): 29,\n",
       "             numpy.datetime64('2011-09-28T00:00:00.000000000'): 53,\n",
       "             numpy.datetime64('2011-12-16T00:00:00.000000000'): 18,\n",
       "             numpy.datetime64('2012-05-22T00:00:00.000000000'): 18,\n",
       "             numpy.datetime64('2012-08-09T00:00:00.000000000'): 10,\n",
       "             numpy.datetime64('2013-01-14T00:00:00.000000000'): 5,\n",
       "             numpy.datetime64('2013-04-03T00:00:00.000000000'): 6,\n",
       "             numpy.datetime64('2013-06-21T00:00:00.000000000'): 32,\n",
       "             numpy.datetime64('2013-11-26T00:00:00.000000000'): 4,\n",
       "             numpy.datetime64('2014-02-13T00:00:00.000000000'): 6,\n",
       "             numpy.datetime64('2008-12-11T00:00:00.000000000'): 70,\n",
       "             numpy.datetime64('2014-10-08T00:00:00.000000000'): 24,\n",
       "             numpy.datetime64('2014-12-26T00:00:00.000000000'): 50,\n",
       "             numpy.datetime64('2009-08-05T00:00:00.000000000'): 33,\n",
       "             numpy.datetime64('2015-06-02T00:00:00.000000000'): 2,\n",
       "             numpy.datetime64('2012-11-05T00:00:00.000000000'): 12,\n",
       "             numpy.datetime64('2015-08-20T00:00:00.000000000'): 11,\n",
       "             numpy.datetime64('2010-06-17T00:00:00.000000000'): 26,\n",
       "             numpy.datetime64('2014-11-04T00:00:00.000000000'): 46,\n",
       "             numpy.datetime64('2016-04-13T00:00:00.000000000'): 98,\n",
       "             numpy.datetime64('2010-11-22T00:00:00.000000000'): 15,\n",
       "             numpy.datetime64('2011-10-04T00:00:00.000000000'): 49,\n",
       "             numpy.datetime64('2011-12-22T00:00:00.000000000'): 15,\n",
       "             numpy.datetime64('2014-07-29T00:00:00.000000000'): 6,\n",
       "             numpy.datetime64('2012-08-15T00:00:00.000000000'): 48,\n",
       "             numpy.datetime64('2015-09-28T00:00:00.000000000'): 53,\n",
       "             numpy.datetime64('2010-09-23T00:00:00.000000000'): 60,\n",
       "             numpy.datetime64('2013-04-09T00:00:00.000000000'): 6,\n",
       "             numpy.datetime64('2013-06-27T00:00:00.000000000'): 24,\n",
       "             numpy.datetime64('2013-12-02T00:00:00.000000000'): 65,\n",
       "             numpy.datetime64('2014-02-19T00:00:00.000000000'): 8,\n",
       "             numpy.datetime64('2008-12-17T00:00:00.000000000'): 108,\n",
       "             numpy.datetime64('2009-03-06T00:00:00.000000000'): 59,\n",
       "             numpy.datetime64('2009-08-11T00:00:00.000000000'): 25,\n",
       "             numpy.datetime64('2015-06-08T00:00:00.000000000'): 17,\n",
       "             numpy.datetime64('2015-08-26T00:00:00.000000000'): 32,\n",
       "             numpy.datetime64('2010-04-05T00:00:00.000000000'): 1,\n",
       "             numpy.datetime64('2010-06-23T00:00:00.000000000'): 16,\n",
       "             numpy.datetime64('2016-04-19T00:00:00.000000000'): 37,\n",
       "             numpy.datetime64('2011-02-15T00:00:00.000000000'): 20,\n",
       "             numpy.datetime64('2011-10-10T00:00:00.000000000'): 21,\n",
       "             numpy.datetime64('2011-12-28T00:00:00.000000000'): 10,\n",
       "             numpy.datetime64('2012-03-16T00:00:00.000000000'): 29,\n",
       "             numpy.datetime64('2012-08-21T00:00:00.000000000'): 8,\n",
       "             numpy.datetime64('2012-11-08T00:00:00.000000000'): 17,\n",
       "             numpy.datetime64('2013-04-15T00:00:00.000000000'): 54,\n",
       "             numpy.datetime64('2013-07-03T00:00:00.000000000'): 8,\n",
       "             numpy.datetime64('2013-09-20T00:00:00.000000000'): 14,\n",
       "             numpy.datetime64('2013-04-30T00:00:00.000000000'): 29,\n",
       "             numpy.datetime64('2014-02-25T00:00:00.000000000'): 3,\n",
       "             numpy.datetime64('2014-05-15T00:00:00.000000000'): 2,\n",
       "             numpy.datetime64('2008-12-23T00:00:00.000000000'): 13,\n",
       "             numpy.datetime64('2014-10-20T00:00:00.000000000'): 21,\n",
       "             numpy.datetime64('2015-01-07T00:00:00.000000000'): 84,\n",
       "             numpy.datetime64('2015-03-27T00:00:00.000000000'): 21,\n",
       "             numpy.datetime64('2009-11-04T00:00:00.000000000'): 16,\n",
       "             numpy.datetime64('2010-01-22T00:00:00.000000000'): 11,\n",
       "             numpy.datetime64('2010-06-29T00:00:00.000000000'): 37,\n",
       "             numpy.datetime64('2016-04-25T00:00:00.000000000'): 27,\n",
       "             numpy.datetime64('2012-01-03T00:00:00.000000000'): 15,\n",
       "             numpy.datetime64('2014-12-17T00:00:00.000000000'): 95,\n",
       "             numpy.datetime64('2012-03-22T00:00:00.000000000'): 33,\n",
       "             numpy.datetime64('2015-08-17T00:00:00.000000000'): 11,\n",
       "             numpy.datetime64('2012-01-06T00:00:00.000000000'): 3,\n",
       "             numpy.datetime64('2013-02-01T00:00:00.000000000'): 6,\n",
       "             numpy.datetime64('2013-09-26T00:00:00.000000000'): 24,\n",
       "             numpy.datetime64('2008-12-29T00:00:00.000000000'): 16,\n",
       "             numpy.datetime64('2009-03-18T00:00:00.000000000'): 58,\n",
       "             numpy.datetime64('2015-01-13T00:00:00.000000000'): 20,\n",
       "             numpy.datetime64('2015-04-02T00:00:00.000000000'): 34,\n",
       "             numpy.datetime64('2013-07-18T00:00:00.000000000'): 25,\n",
       "             numpy.datetime64('2009-11-10T00:00:00.000000000'): 21,\n",
       "             numpy.datetime64('2010-01-28T00:00:00.000000000'): 3,\n",
       "             numpy.datetime64('2015-02-02T00:00:00.000000000'): 30,\n",
       "             numpy.datetime64('2016-02-12T00:00:00.000000000'): 22,\n",
       "             numpy.datetime64('2010-09-22T00:00:00.000000000'): 46,\n",
       "             numpy.datetime64('2010-12-10T00:00:00.000000000'): 12,\n",
       "             numpy.datetime64('2014-10-27T00:00:00.000000000'): 133,\n",
       "             numpy.datetime64('2012-01-09T00:00:00.000000000'): 1,\n",
       "             numpy.datetime64('2012-03-28T00:00:00.000000000'): 35,\n",
       "             numpy.datetime64('2012-06-15T00:00:00.000000000'): 28,\n",
       "             numpy.datetime64('2013-02-07T00:00:00.000000000'): 2,\n",
       "             numpy.datetime64('2013-07-15T00:00:00.000000000'): 22,\n",
       "             numpy.datetime64('2013-10-02T00:00:00.000000000'): 10,\n",
       "             numpy.datetime64('2013-12-20T00:00:00.000000000'): 7,\n",
       "             numpy.datetime64('2009-07-06T00:00:00.000000000'): 35,\n",
       "             numpy.datetime64('2008-10-17T00:00:00.000000000'): 234,\n",
       "             numpy.datetime64('2014-08-14T00:00:00.000000000'): 5,\n",
       "             numpy.datetime64('2009-03-24T00:00:00.000000000'): 51,\n",
       "             numpy.datetime64('2015-04-08T00:00:00.000000000'): 25,\n",
       "             numpy.datetime64('2015-06-26T00:00:00.000000000'): 11,\n",
       "             numpy.datetime64('2010-02-03T00:00:00.000000000'): 2,\n",
       "             numpy.datetime64('2014-05-12T00:00:00.000000000'): 2,\n",
       "             numpy.datetime64('2015-12-01T00:00:00.000000000'): 5,\n",
       "             numpy.datetime64('2016-02-18T00:00:00.000000000'): 21,\n",
       "             numpy.datetime64('2010-09-28T00:00:00.000000000'): 33,\n",
       "             numpy.datetime64('2010-12-16T00:00:00.000000000'): 15,\n",
       "             numpy.datetime64('2010-10-13T00:00:00.000000000'): 52,\n",
       "             numpy.datetime64('2011-10-28T00:00:00.000000000'): 97,\n",
       "             numpy.datetime64('2012-04-03T00:00:00.000000000'): 17,\n",
       "             numpy.datetime64('2012-06-21T00:00:00.000000000'): 16,\n",
       "             numpy.datetime64('2012-11-26T00:00:00.000000000'): 5,\n",
       "             numpy.datetime64('2013-02-13T00:00:00.000000000'): 10,\n",
       "             numpy.datetime64('2013-05-03T00:00:00.000000000'): 20,\n",
       "             numpy.datetime64('2013-10-08T00:00:00.000000000'): 5,\n",
       "             numpy.datetime64('2013-12-26T00:00:00.000000000'): 5,\n",
       "             numpy.datetime64('2013-05-31T00:00:00.000000000'): 42,\n",
       "             numpy.datetime64('2014-06-02T00:00:00.000000000'): 7,\n",
       "             numpy.datetime64('2014-08-20T00:00:00.000000000'): 10,\n",
       "             numpy.datetime64('2009-03-30T00:00:00.000000000'): 48,\n",
       "             numpy.datetime64('2009-06-17T00:00:00.000000000'): 45,\n",
       "             numpy.datetime64('2009-09-04T00:00:00.000000000'): 28,\n",
       "             numpy.datetime64('2014-10-23T00:00:00.000000000'): 70,\n",
       "             numpy.datetime64('2010-02-09T00:00:00.000000000'): 3,\n",
       "             numpy.datetime64('2010-04-29T00:00:00.000000000'): 37,\n",
       "             numpy.datetime64('2016-02-24T00:00:00.000000000'): 41,\n",
       "             numpy.datetime64('2010-10-04T00:00:00.000000000'): 34,\n",
       "             numpy.datetime64('2010-12-22T00:00:00.000000000'): 16,\n",
       "             numpy.datetime64('2011-03-11T00:00:00.000000000'): 64,\n",
       "             numpy.datetime64('2011-11-03T00:00:00.000000000'): 44,\n",
       "             numpy.datetime64('2012-04-09T00:00:00.000000000'): 17,\n",
       "             numpy.datetime64('2011-11-16T00:00:00.000000000'): 20,\n",
       "             numpy.datetime64('2012-06-27T00:00:00.000000000'): 11,\n",
       "             numpy.datetime64('2012-09-14T00:00:00.000000000'): 56,\n",
       "             numpy.datetime64('2013-05-09T00:00:00.000000000'): 7,\n",
       "             numpy.datetime64('2013-10-14T00:00:00.000000000'): 26,\n",
       "             numpy.datetime64('2016-04-08T00:00:00.000000000'): 34,\n",
       "             numpy.datetime64('2014-03-21T00:00:00.000000000'): 9,\n",
       "             numpy.datetime64('2008-10-29T00:00:00.000000000'): 193,\n",
       "             numpy.datetime64('2014-08-26T00:00:00.000000000'): 13,\n",
       "             numpy.datetime64('2014-11-13T00:00:00.000000000'): 19,\n",
       "             numpy.datetime64('2009-06-23T00:00:00.000000000'): 38,\n",
       "             numpy.datetime64('2014-09-02T00:00:00.000000000'): 38,\n",
       "             numpy.datetime64('2009-01-29T00:00:00.000000000'): 60,\n",
       "             numpy.datetime64('2015-07-08T00:00:00.000000000'): 4,\n",
       "             numpy.datetime64('2009-09-29T00:00:00.000000000'): 8,\n",
       "             numpy.datetime64('2015-09-25T00:00:00.000000000'): 30,\n",
       "             numpy.datetime64('2010-05-05T00:00:00.000000000'): 42,\n",
       "             numpy.datetime64('2016-03-01T00:00:00.000000000'): 26,\n",
       "             numpy.datetime64('2016-05-19T00:00:00.000000000'): 3,\n",
       "             numpy.datetime64('2010-12-28T00:00:00.000000000'): 10,\n",
       "             numpy.datetime64('2011-03-17T00:00:00.000000000'): 53,\n",
       "             numpy.datetime64('2014-05-27T00:00:00.000000000'): 3,\n",
       "             numpy.datetime64('2008-10-23T00:00:00.000000000'): 214,\n",
       "             numpy.datetime64('2011-11-09T00:00:00.000000000'): 26,\n",
       "             numpy.datetime64('2012-01-27T00:00:00.000000000'): 21,\n",
       "             numpy.datetime64('2010-10-22T00:00:00.000000000'): 15,\n",
       "             numpy.datetime64('2012-07-03T00:00:00.000000000'): 9,\n",
       "             numpy.datetime64('2012-09-20T00:00:00.000000000'): 21,\n",
       "             numpy.datetime64('2013-02-25T00:00:00.000000000'): 2,\n",
       "             numpy.datetime64('2013-05-15T00:00:00.000000000'): 11,\n",
       "             numpy.datetime64('2013-08-02T00:00:00.000000000'): 10,\n",
       "             numpy.datetime64('2014-03-12T00:00:00.000000000'): 14,\n",
       "             numpy.datetime64('2010-07-16T00:00:00.000000000'): 17,\n",
       "             numpy.datetime64('2014-01-07T00:00:00.000000000'): 3,\n",
       "             numpy.datetime64('2014-03-27T00:00:00.000000000'): 45,\n",
       "             numpy.datetime64('2008-11-04T00:00:00.000000000'): 119,\n",
       "             numpy.datetime64('2009-01-22T00:00:00.000000000'): 56,\n",
       "             numpy.datetime64('2014-11-19T00:00:00.000000000'): 27,\n",
       "             numpy.datetime64('2015-02-06T00:00:00.000000000'): 36,\n",
       "             numpy.datetime64('2009-09-16T00:00:00.000000000'): 27,\n",
       "             numpy.datetime64('2015-07-14T00:00:00.000000000'): 4,\n",
       "             numpy.datetime64('2015-10-01T00:00:00.000000000'): 20,\n",
       "             numpy.datetime64('2010-05-11T00:00:00.000000000'): 31,\n",
       "             numpy.datetime64('2016-03-07T00:00:00.000000000'): 190,\n",
       "             numpy.datetime64('2016-05-25T00:00:00.000000000'): 3,\n",
       "             numpy.datetime64('2011-01-03T00:00:00.000000000'): 9,\n",
       "             numpy.datetime64('2011-06-10T00:00:00.000000000'): 18,\n",
       "             numpy.datetime64('2016-04-04T00:00:00.000000000'): 62,\n",
       "             numpy.datetime64('2012-02-02T00:00:00.000000000'): 20,\n",
       "             numpy.datetime64('2014-09-09T00:00:00.000000000'): 13,\n",
       "             numpy.datetime64('2012-09-26T00:00:00.000000000'): 24,\n",
       "             numpy.datetime64('2012-12-14T00:00:00.000000000'): 8,\n",
       "             numpy.datetime64('2013-05-21T00:00:00.000000000'): 5,\n",
       "             numpy.datetime64('2013-08-08T00:00:00.000000000'): 6,\n",
       "             numpy.datetime64('2014-04-02T00:00:00.000000000'): 43,\n",
       "             numpy.datetime64('2014-06-20T00:00:00.000000000'): 4,\n",
       "             numpy.datetime64('2009-01-28T00:00:00.000000000'): 56,\n",
       "             numpy.datetime64('2014-11-25T00:00:00.000000000'): 20,\n",
       "             numpy.datetime64('2008-10-20T00:00:00.000000000'): 181,\n",
       "             numpy.datetime64('2015-02-12T00:00:00.000000000'): 25,\n",
       "             numpy.datetime64('2009-09-22T00:00:00.000000000'): 14,\n",
       "             numpy.datetime64('2009-12-10T00:00:00.000000000'): 3,\n",
       "             numpy.datetime64('2010-10-18T00:00:00.000000000'): 36,\n",
       "             numpy.datetime64('2015-10-07T00:00:00.000000000'): 83,\n",
       "             numpy.datetime64('2010-05-17T00:00:00.000000000'): 21,\n",
       "             numpy.datetime64('2010-08-04T00:00:00.000000000'): 21,\n",
       "             numpy.datetime64('2016-05-31T00:00:00.000000000'): 8,\n",
       "             numpy.datetime64('2011-03-29T00:00:00.000000000'): 20,\n",
       "             numpy.datetime64('2015-01-05T00:00:00.000000000'): 89,\n",
       "             numpy.datetime64('2015-06-15T00:00:00.000000000'): 22,\n",
       "             numpy.datetime64('2010-07-12T00:00:00.000000000'): 7,\n",
       "             numpy.datetime64('2011-11-21T00:00:00.000000000'): 39,\n",
       "             numpy.datetime64('2012-02-08T00:00:00.000000000'): 40,\n",
       "             numpy.datetime64('2012-04-27T00:00:00.000000000'): 27,\n",
       "             numpy.datetime64('2012-10-02T00:00:00.000000000'): 9,\n",
       "             numpy.datetime64('2012-12-20T00:00:00.000000000'): 10,\n",
       "             numpy.datetime64('2008-12-05T00:00:00.000000000'): 74,\n",
       "             numpy.datetime64('2013-08-14T00:00:00.000000000'): 45,\n",
       "             numpy.datetime64('2013-11-01T00:00:00.000000000'): 17,\n",
       "             numpy.datetime64('2014-04-08T00:00:00.000000000'): 60,\n",
       "             numpy.datetime64('2014-06-26T00:00:00.000000000'): 6,\n",
       "             numpy.datetime64('2009-02-03T00:00:00.000000000'): 45,\n",
       "             numpy.datetime64('2009-04-23T00:00:00.000000000'): 20,\n",
       "             numpy.datetime64('2015-02-18T00:00:00.000000000'): 67,\n",
       "             numpy.datetime64('2015-05-08T00:00:00.000000000'): 56,\n",
       "             numpy.datetime64('2009-12-16T00:00:00.000000000'): 33,\n",
       "             numpy.datetime64('2010-03-05T00:00:00.000000000'): 6,\n",
       "             numpy.datetime64('2010-08-10T00:00:00.000000000'): 10,\n",
       "             numpy.datetime64('2009-01-07T00:00:00.000000000'): 67,\n",
       "             numpy.datetime64('2010-10-28T00:00:00.000000000'): 6,\n",
       "             numpy.datetime64('2014-08-25T00:00:00.000000000'): 13,\n",
       "             numpy.datetime64('2011-06-22T00:00:00.000000000'): 10,\n",
       "             numpy.datetime64('2011-09-09T00:00:00.000000000'): 71,\n",
       "             numpy.datetime64('2011-01-20T00:00:00.000000000'): 32,\n",
       "             numpy.datetime64('2012-02-14T00:00:00.000000000'): 23,\n",
       "             numpy.datetime64('2012-10-08T00:00:00.000000000'): 5,\n",
       "             numpy.datetime64('2012-12-26T00:00:00.000000000'): 18,\n",
       "             numpy.datetime64('2013-03-15T00:00:00.000000000'): 4,\n",
       "             numpy.datetime64('2013-08-20T00:00:00.000000000'): 10,\n",
       "             numpy.datetime64('2011-06-14T00:00:00.000000000'): 24,\n",
       "             numpy.datetime64('2014-04-14T00:00:00.000000000'): 26,\n",
       "             numpy.datetime64('2014-07-02T00:00:00.000000000'): 10,\n",
       "             numpy.datetime64('2009-02-09T00:00:00.000000000'): 36,\n",
       "             numpy.datetime64('2009-04-29T00:00:00.000000000'): 15,\n",
       "             numpy.datetime64('2009-07-17T00:00:00.000000000'): 15,\n",
       "             numpy.datetime64('2015-05-14T00:00:00.000000000'): 25,\n",
       "             numpy.datetime64('2009-12-22T00:00:00.000000000'): 8,\n",
       "             numpy.datetime64('2010-08-16T00:00:00.000000000'): 14,\n",
       "             numpy.datetime64('2010-11-03T00:00:00.000000000'): 13,\n",
       "             numpy.datetime64('2008-12-01T00:00:00.000000000'): 62,\n",
       "             numpy.datetime64('2011-06-28T00:00:00.000000000'): 7,\n",
       "             numpy.datetime64('2011-09-15T00:00:00.000000000'): 39,\n",
       "             numpy.datetime64('2009-10-05T00:00:00.000000000'): 4,\n",
       "             numpy.datetime64('2012-05-09T00:00:00.000000000'): 20,\n",
       "             numpy.datetime64('2012-07-27T00:00:00.000000000'): 29,\n",
       "             numpy.datetime64('2015-07-28T00:00:00.000000000'): 27,\n",
       "             numpy.datetime64('2013-03-21T00:00:00.000000000'): 10,\n",
       "             numpy.datetime64('2013-08-26T00:00:00.000000000'): 34,\n",
       "             numpy.datetime64('2013-11-13T00:00:00.000000000'): 12,\n",
       "             numpy.datetime64('2014-01-31T00:00:00.000000000'): 32,\n",
       "             numpy.datetime64('2008-11-28T00:00:00.000000000'): 40,\n",
       "             numpy.datetime64('2014-09-25T00:00:00.000000000'): 14,\n",
       "             numpy.datetime64('2009-09-17T00:00:00.000000000'): 31,\n",
       "             numpy.datetime64('2015-03-02T00:00:00.000000000'): 7,\n",
       "             numpy.datetime64('2015-05-20T00:00:00.000000000'): 8,\n",
       "             numpy.datetime64('2015-08-07T00:00:00.000000000'): 36,\n",
       "             numpy.datetime64('2010-03-17T00:00:00.000000000'): 6,\n",
       "             numpy.datetime64('2010-06-04T00:00:00.000000000'): 24,\n",
       "             numpy.datetime64('2016-03-31T00:00:00.000000000'): 73,\n",
       "             numpy.datetime64('2010-11-09T00:00:00.000000000'): 4,\n",
       "             numpy.datetime64('2011-01-27T00:00:00.000000000'): 31,\n",
       "             numpy.datetime64('2016-05-13T00:00:00.000000000'): 3,\n",
       "             numpy.datetime64('2011-09-21T00:00:00.000000000'): 93,\n",
       "             numpy.datetime64('2011-12-09T00:00:00.000000000'): 26,\n",
       "             numpy.datetime64('2012-05-15T00:00:00.000000000'): 18,\n",
       "             numpy.datetime64('2012-08-02T00:00:00.000000000'): 22,\n",
       "             numpy.datetime64('2014-10-07T00:00:00.000000000'): 34,\n",
       "             numpy.datetime64('2009-03-05T00:00:00.000000000'): 71,\n",
       "             numpy.datetime64('2013-01-07T00:00:00.000000000'): 5,\n",
       "             numpy.datetime64('2013-03-27T00:00:00.000000000'): 5,\n",
       "             numpy.datetime64('2015-01-22T00:00:00.000000000'): 47,\n",
       "             numpy.datetime64('2013-06-14T00:00:00.000000000'): 16,\n",
       "             numpy.datetime64('2013-11-19T00:00:00.000000000'): 19,\n",
       "             numpy.datetime64('2014-02-06T00:00:00.000000000'): 14,\n",
       "             numpy.datetime64('2014-07-01T00:00:00.000000000'): 2,\n",
       "             numpy.datetime64('2014-07-14T00:00:00.000000000'): 29,\n",
       "             numpy.datetime64('2014-10-01T00:00:00.000000000'): 39,\n",
       "             numpy.datetime64('2009-05-11T00:00:00.000000000'): 42,\n",
       "             numpy.datetime64('2009-07-29T00:00:00.000000000'): 30,\n",
       "             numpy.datetime64('2009-10-16T00:00:00.000000000'): 36,\n",
       "             numpy.datetime64('2015-08-13T00:00:00.000000000'): 23,\n",
       "             numpy.datetime64('2010-03-23T00:00:00.000000000'): 22,\n",
       "             numpy.datetime64('2013-07-25T00:00:00.000000000'): 22,\n",
       "             numpy.datetime64('2010-06-10T00:00:00.000000000'): 39,\n",
       "             numpy.datetime64('2016-04-06T00:00:00.000000000'): 40,\n",
       "             numpy.datetime64('2015-07-24T00:00:00.000000000'): 13,\n",
       "             numpy.datetime64('2011-02-02T00:00:00.000000000'): 40,\n",
       "             numpy.datetime64('2011-09-27T00:00:00.000000000'): 45,\n",
       "             numpy.datetime64('2011-12-15T00:00:00.000000000'): 22,\n",
       "             numpy.datetime64('2012-08-08T00:00:00.000000000'): 15,\n",
       "             numpy.datetime64('2012-10-26T00:00:00.000000000'): 23,\n",
       "             numpy.datetime64('2013-04-02T00:00:00.000000000'): 4,\n",
       "             numpy.datetime64('2013-06-20T00:00:00.000000000'): 40,\n",
       "             numpy.datetime64('2013-11-25T00:00:00.000000000'): 7,\n",
       "             numpy.datetime64('2014-02-12T00:00:00.000000000'): 31,\n",
       "             numpy.datetime64('2014-05-02T00:00:00.000000000'): 11,\n",
       "             numpy.datetime64('2015-01-09T00:00:00.000000000'): 24,\n",
       "             numpy.datetime64('2008-12-10T00:00:00.000000000'): 76,\n",
       "             ...})"
      ]
     },
     "execution_count": 180,
     "metadata": {},
     "output_type": "execute_result"
    }
   ],
   "source": [
    "# check and remove outliers\n",
    "# use Turkey's method - 1,5 * IQR\n",
    "\n",
    "outliers_count = defaultdict(int) \n",
    "for feature in df.columns:    \n",
    "    Q1 = np.percentile(df[feature], 25)\n",
    "    Q3 = np.percentile(df[feature], 75)\n",
    "    step = (Q3-Q1)*1.5\n",
    "    \n",
    "    # Display the outliers\n",
    "    print(\"Data points considered outliers for the feature '{}':\".format(feature))\n",
    "    outliers_for_feature = df[~((df[feature] >= Q1 - step) & (df[feature] <= Q3 + step))]\n",
    "    for idx in  outliers_for_feature.index.values:\n",
    "        outliers_count[idx] += 1\n",
    "    \n",
    "    (outliers_for_feature.shape)\n",
    "    \n",
    "# print the total list of outliers\n",
    "print(\"Total number of data points identified as outliers: {}\".format(len(outliers_count)))\n",
    "\n",
    "outliers_count\n",
    "# OPTIONAL: Select the indices for data points you wish to remove\n",
    "#outliers =  list(map(lambda (x,y):x, filter(lambda (x,y):y>1, outliers_count.items())))\n",
    "#print(\"Total number of data points identified as outliers in more than one data entry: {}\".format(len(outliers)))\n",
    "\n",
    "# Remove the outliers, if any were specified\n",
    "# good_data = log_data.drop(log_data.index[outliers]).reset_index(drop = True)\n",
    "#print(outliers)"
   ]
  }
 ],
 "metadata": {
  "anaconda-cloud": {},
  "kernelspec": {
   "display_name": "Python [conda env:python3]",
   "language": "python",
   "name": "conda-env-python3-py"
  },
  "language_info": {
   "codemirror_mode": {
    "name": "ipython",
    "version": 3
   },
   "file_extension": ".py",
   "mimetype": "text/x-python",
   "name": "python",
   "nbconvert_exporter": "python",
   "pygments_lexer": "ipython3",
   "version": "3.4.5"
  }
 },
 "nbformat": 4,
 "nbformat_minor": 1
}
