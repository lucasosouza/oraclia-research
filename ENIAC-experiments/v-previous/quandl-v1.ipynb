{
 "cells": [
  {
   "cell_type": "markdown",
   "metadata": {},
   "source": [
    "### Loading up required libraries and configurations"
   ]
  },
  {
   "cell_type": "code",
   "execution_count": 406,
   "metadata": {
    "collapsed": false
   },
   "outputs": [],
   "source": [
    "import quandl\n",
    "import pandas_datareader.data as web\n",
    "import datetime\n",
    "import pandas as pd\n",
    "import sklearn\n",
    "import numpy as np\n",
    "from collections import defaultdict\n",
    "from IPython.display import display\n",
    "import scipy as sp\n",
    "# evaluate usage\n",
    "pd.options.mode.chained_assignment = None  # default='warn'"
   ]
  },
  {
   "cell_type": "code",
   "execution_count": 407,
   "metadata": {
    "collapsed": true
   },
   "outputs": [],
   "source": [
    "\"\"\"\"\n",
    "usage of this API key is monitored\n",
    "please don't use this key for any other work, neither make it available on the web by any means\n",
    "if you would like to access the same API for a different project,\n",
    "please create an account in quandl.com (it is free) and generate your own API key\n",
    "\"\"\" \n",
    "quandl.ApiConfig.api_key = \"1513txcURR4fYyP5VDU3\""
   ]
  },
  {
   "cell_type": "markdown",
   "metadata": {},
   "source": [
    "### Getting the data"
   ]
  },
  {
   "cell_type": "markdown",
   "metadata": {},
   "source": [
    "#### Stock data"
   ]
  },
  {
   "cell_type": "markdown",
   "metadata": {},
   "source": [
    "For the stock market general data, we will use Yahoo API, which contains reliable free access data for a number of stock markets, including Bovespa."
   ]
  },
  {
   "cell_type": "code",
   "execution_count": 408,
   "metadata": {
    "collapsed": true
   },
   "outputs": [],
   "source": [
    "start_date = '1998-1-1'\n",
    "end_date = '2014-12-31'\n",
    "symbol = \"PETR4.SA\"\n",
    "df = web.DataReader(symbol, 'yahoo', start_date, end_date)"
   ]
  },
  {
   "cell_type": "markdown",
   "metadata": {},
   "source": [
    "#### General Market Data"
   ]
  },
  {
   "cell_type": "markdown",
   "metadata": {},
   "source": [
    "For the general market data, there is excelent data made available by Banco Central do Brasil (brazilian central bank). The data is available through a webservice, but there is a neat API quandl which makes it easier to access this same data. With a free profile we have limited access, but it is enough for the following tests.\n",
    "\n",
    "There are over 1,300 different indicators available, from different time periods including daily, weekly, monthly, yearly, etc. At the moment we will stick with 10 relevant indicators which are available daily, and then move on to add more data as we see fit."
   ]
  },
  {
   "cell_type": "code",
   "execution_count": null,
   "metadata": {
    "collapsed": true
   },
   "outputs": [],
   "source": [
    "daily = {\n",
    "    'Selic': 'BCB/432',\n",
    "    'Exchange Rate USD Sell': 'BCB/1',\n",
    "    'Exchange Rate USD Buy': 'BCB/10813',\n",
    "    'BM&F Gold gramme': 'BCB/4',\n",
    "    'Bovespa total volume': 'BCB/8',\n",
    "    'International Reserves': 'BCB/13621',\n",
    "    'Bovespa index': 'BCB/7',\n",
    "    'Foreign exchange operations balance': 'BCB/13961',\n",
    "    'Nasdaq index': 'BCB/7810',\n",
    "    'Dow Jones index': 'BCB/7809'\n",
    "}\n",
    "\n",
    "## removed montly indicators for now - to be added later\n",
    "# monthly = {\n",
    "#     'IPCA-E': 'BCB/10764',\n",
    "#     'IGP-M': 'BCB/7451',\n",
    "#     'IPCA-15': 'BCB/74/78',\n",
    "#     'Net public debt': 'BCB/4473'\n",
    "# }"
   ]
  },
  {
   "cell_type": "code",
   "execution_count": null,
   "metadata": {
    "collapsed": false
   },
   "outputs": [],
   "source": [
    "for var, code in daily.items():\n",
    "    df = pd.concat([df, quandl.get(code, start_date=start_date , end_date=end_date)], join='inner', axis=1)\n",
    "    df = df.rename(columns={'Value': var})    "
   ]
  },
  {
   "cell_type": "markdown",
   "metadata": {},
   "source": [
    "#### Trend indicators"
   ]
  },
  {
   "cell_type": "markdown",
   "metadata": {},
   "source": [
    "The trend indicators are borrowed from the field known as technical analysis, or graphism, that aims to find patterns by analyzing the trend of price and volume.\n",
    "\n",
    "We will start with the most known: Moving Averages (indicator: MACD, moving average convergence divergence), Momentum, Daily Returns, "
   ]
  },
  {
   "cell_type": "markdown",
   "metadata": {},
   "source": [
    "Already included in the dataset\n",
    "* Momentum: momentum is nothing but the current price, divided by the price X days earlier. The momentum is already included the dataset when we analyse the trend for Adj Close and all other variables\n",
    "* Daily Return: it is the same as the momentum, but for one day before."
   ]
  },
  {
   "cell_type": "markdown",
   "metadata": {},
   "source": [
    "To include:\n",
    "* Moving Average: moving average for X days. important to understand longer term trends\n",
    "* Bollinger Bands: 95% confidence interval for the moving averages.\n",
    "* CandleStick\n",
    "* Elliot Waves\n",
    "* Volume/Price"
   ]
  },
  {
   "cell_type": "code",
   "execution_count": null,
   "metadata": {
    "collapsed": false
   },
   "outputs": [],
   "source": [
    "# moving average and bollinger bands\n",
    "for n in range(10,61,10):\n",
    "    df['sma'+str(n)] = df['Adj Close'].rolling(window=n, center=False).mean()\n",
    "    std =df['Adj Close'].rolling(window=n, center=False).std()\n",
    "    df['bb_lower'+str(n)] = df['sma'+str(n)] - (2 * std)\n",
    "    df['bb_upper'+str(n)] = df['sma'+str(n)] + (2 * std)"
   ]
  },
  {
   "cell_type": "markdown",
   "metadata": {},
   "source": [
    "### Creating the labels"
   ]
  },
  {
   "cell_type": "markdown",
   "metadata": {},
   "source": [
    "The general approach to the stock market problem is to use non-linear regressors to predict future prices. Although it is easy to predict the price for the day ahead, as you move days further the r2_score sinks and the prediction becomes useless."
   ]
  },
  {
   "cell_type": "markdown",
   "metadata": {},
   "source": [
    "The inovative approach we will follow here is meant to treat this problem as a classification problem. In order to treat this problem as a classifier, we will pre-define a trading strategy, backtest it to the full dataset, and define the label to be whether this trading strategy results in a successful trade or not."
   ]
  },
  {
   "cell_type": "markdown",
   "metadata": {},
   "source": [
    "##### Swing Trade"
   ]
  },
  {
   "cell_type": "markdown",
   "metadata": {},
   "source": [
    "The first and most simple analysis is a swing trade strategy. We will buy the stock, and hold it for n days. If it reaches an upper boundary (+x%), we sell. If it reaches a lower boundary (-y%), we will also short our position.\n",
    "\n",
    "So the challenge is within the next n days the stock needs to reach the upper boundary, before it reaches the lower boundary. That will be counted as a successful trade. If it reaches the lower boundary before, or n days passes without reaching the upper boundary, the trading is considered a failure.\n",
    "\n",
    "The name swing trade means we are speculating on the week/bi-week pattern, the swing, not necessarily on the longer term trend.\n",
    "\n",
    "The parameters n, x, and y, will be optimized through a genetic algorithm to achieve the optimal trading strategy for this setup."
   ]
  },
  {
   "cell_type": "code",
   "execution_count": null,
   "metadata": {
    "collapsed": true
   },
   "outputs": [],
   "source": [
    "def create_labels(input_df, forward=10, profit_margin=.05, stop_loss=.05):\n",
    "    \n",
    "    df = input_df.copy()\n",
    "    for row in range(df.shape[0]-forward):\n",
    "\n",
    "        # initialize max and min ticks\n",
    "        max_uptick = 0\n",
    "        min_downtick = 0 \n",
    "\n",
    "        # move all days forward\n",
    "        for i in range(1,forward+1):\n",
    "            delta = (df.ix[row+i, 'Adj Close'] / df.ix[row, 'Adj Close'])-1\n",
    "            if delta > max_uptick:\n",
    "                max_uptick = delta\n",
    "            if delta < min_downtick:\n",
    "                min_downtick = delta\n",
    "\n",
    "        # evaluate ticks against predefined strategy parameters\n",
    "        if max_uptick >= profit_margin and min_downtick <= -stop_loss:\n",
    "            df.ix[row,'Label'] = 1\n",
    "        else:\n",
    "            df.ix[row,'Label'] = 0        \n",
    "\n",
    "    return df.dropna()\n"
   ]
  },
  {
   "cell_type": "code",
   "execution_count": null,
   "metadata": {
    "collapsed": false
   },
   "outputs": [],
   "source": [
    "df = create_labels(df)"
   ]
  },
  {
   "cell_type": "markdown",
   "metadata": {},
   "source": [
    "### Rounding up the features"
   ]
  },
  {
   "cell_type": "markdown",
   "metadata": {},
   "source": [
    "Now we've got the main data, and the label, let's start creating our features. There is also some innovation going on here, we are running from the traditional approach of stock price prediction."
   ]
  },
  {
   "cell_type": "markdown",
   "metadata": {},
   "source": [
    "The first and foremost difference is that instead of analyzing the raw data, I want to analyze the trend for each variable. So in a single day I will look at how the variable increased or decreased in the last N days."
   ]
  },
  {
   "cell_type": "markdown",
   "metadata": {},
   "source": [
    "To center at 0, for each variable I will calculate (value / value in n-1). The number of days I will look back may also vary, and it will also depend on the trading strategy to follow. But for simplicity we will start with a round number such as 60 days for the swing trading strategy of around 10 days."
   ]
  },
  {
   "cell_type": "code",
   "execution_count": null,
   "metadata": {
    "collapsed": true
   },
   "outputs": [],
   "source": [
    "def create_features(input_df, base = 60):\n",
    "    \"\"\" Receives a dataframe as input \n",
    "        Returns a new dataframe with ratios calculated\n",
    "    \"\"\"\n",
    "    # avoid modifying in place\n",
    "    df = input_df.copy() \n",
    "    # get all columns ubt the label\n",
    "    cols = list(df.columns)\n",
    "    cols.remove('Label')\n",
    "    # create the new columns for the number of days\n",
    "    for n in range(1,base+1):\n",
    "        new_cols = list(map(lambda x: \"{}-{}\".format(x,n), cols))\n",
    "        df[new_cols] = (df.loc[:, cols] / df.shift(n).loc[:, cols]) - 1\n",
    "    # remove inf and drop na\n",
    "    df.replace([np.inf, -np.inf], np.nan, inplace=True) \n",
    "    df.dropna(axis=0, inplace=True)\n",
    "   \n",
    "    # leave or remove original columns? for now I will leave them\n",
    "    #return df.drop(cols, axis=1)\n",
    "    return df"
   ]
  },
  {
   "cell_type": "code",
   "execution_count": null,
   "metadata": {
    "collapsed": false
   },
   "outputs": [],
   "source": [
    "df = create_features(df)\n",
    "df.shape"
   ]
  },
  {
   "cell_type": "markdown",
   "metadata": {},
   "source": [
    "### Understanding the label and features"
   ]
  },
  {
   "cell_type": "markdown",
   "metadata": {},
   "source": [
    "Let's start by analizying the label distribution. This will tell us a lot about the dataset, which optimal classifier to choose, and whether we will need to use a stratified approach when splitting the dataset for testing or cross-validation. "
   ]
  },
  {
   "cell_type": "code",
   "execution_count": null,
   "metadata": {
    "collapsed": false
   },
   "outputs": [],
   "source": [
    "# break up X and y arrays, convert to numpy array\n",
    "features = [x for x in df.columns if x != \"Label\"]\n",
    "X = df[features].values\n",
    "y = df['Label'].values\n",
    "X.shape, y.shape"
   ]
  },
  {
   "cell_type": "code",
   "execution_count": null,
   "metadata": {
    "collapsed": false
   },
   "outputs": [],
   "source": [
    "np.bincount(y.astype(int)) / len(y)"
   ]
  },
  {
   "cell_type": "markdown",
   "metadata": {},
   "source": [
    "As expected, there will be only a few occurrences where such a trading strategy results in success. Only 6,25% of the observations have label 1(success), while 93,75% have label 0 (failure). A stratified approach will be required when splitting the dataset later."
   ]
  },
  {
   "cell_type": "markdown",
   "metadata": {},
   "source": [
    "Next step is to take a look at the features we have. I will start standardizing to z-score, then checking and removing outliers, and finally analyse which features are most relevant and attempt to extract principal components."
   ]
  },
  {
   "cell_type": "markdown",
   "metadata": {},
   "source": [
    "For now, I will keep working with the full data, since I'm looking for understanding data, I'm doing predictions at this point. I will come back later to this point to divide the dataset "
   ]
  },
  {
   "cell_type": "code",
   "execution_count": null,
   "metadata": {
    "collapsed": false
   },
   "outputs": [],
   "source": [
    "# scaling\n",
    "from sklearn.preprocessing import StandardScaler\n",
    "scaler = StandardScaler()\n",
    "X = scaler.fit_transform(X)"
   ]
  },
  {
   "cell_type": "code",
   "execution_count": null,
   "metadata": {
    "collapsed": false
   },
   "outputs": [],
   "source": [
    "# feature selection\n",
    "from sklearn.feature_selection import SelectKBest\n",
    "f_selector = SelectKBest()\n",
    "f_selector.fit(X, y)\n",
    "sorted(zip(features, f_selector.scores_, f_selector.pvalues_), key=lambda x: -x[1])"
   ]
  },
  {
   "cell_type": "markdown",
   "metadata": {},
   "source": [
    "Strangely enough, it shows an incredible high importance for International Reserves features, as well for other features related to the outside market, such as Nasdaq, and Exchange Rate.\n",
    "\n",
    "Petrobras, the company being analyzed, is very influenced by the price and availability of USD in brazilian market. It is debts are most in dollar and the price of its main product, oil, is set globally. So these findings that my be accurate, just random noise, or due to some mistake in the data preprocessing\n",
    "\n",
    "Will come back later to this point if this correlation is not confirmed with other analysis."
   ]
  },
  {
   "cell_type": "code",
   "execution_count": null,
   "metadata": {
    "collapsed": false
   },
   "outputs": [],
   "source": [
    "# pca conversion\n",
    "# okay, I've got all these data points\n",
    "from sklearn.decomposition import PCA\n",
    "pca = PCA(n_components = 32)\n",
    "pca.fit(X)\n",
    "sum(pca.explained_variance_ratio_)\n",
    "\n",
    "# why 32? I'm aiming at 80% explained variance, with the minimum number of components\n",
    "# I just tried a few and got to the required number of components\n",
    "# this could also be optimized later, aimed at performance"
   ]
  },
  {
   "cell_type": "code",
   "execution_count": null,
   "metadata": {
    "collapsed": true
   },
   "outputs": [],
   "source": [
    "X_transformed = pca.transform(X)"
   ]
  },
  {
   "cell_type": "markdown",
   "metadata": {},
   "source": [
    "Okay, now we've transformed into fewer principal components, thus helping to avoid the curse of dimensionality, let's take a step back and see which are the main variables impacting each of the first components. Are they the same variables which stand out in the Anova F-value tests conducted before?"
   ]
  },
  {
   "cell_type": "code",
   "execution_count": null,
   "metadata": {
    "collapsed": false
   },
   "outputs": [],
   "source": [
    "# checking the variables with most impact on the first component\n",
    "i = np.identity(len(features)) # identity matrix\n",
    "coef = pca.transform(i)\n",
    "sorted(zip(features, coef[:, 1]), key=lambda x:-x[1])"
   ]
  },
  {
   "cell_type": "markdown",
   "metadata": {},
   "source": [
    "The results hardly show something relevant. The coefficientes between the features are very similar for the first principal component"
   ]
  },
  {
   "cell_type": "code",
   "execution_count": null,
   "metadata": {
    "collapsed": false
   },
   "outputs": [],
   "source": [
    "# I will try feature selection again, with the components\n",
    "from sklearn.feature_selection import f_classif\n",
    "f_selector = SelectKBest(f_classif)\n",
    "f_selector.fit(X_transformed,y)\n",
    "sorted(zip(f_selector.scores_, f_selector.pvalues_), key=lambda x: -x[0])"
   ]
  },
  {
   "cell_type": "markdown",
   "metadata": {},
   "source": [
    "The p values for the Anova F-value test, all above 0.5, tell a worrisome story. None has a verifiable correlation with the label. Nevertheless, let's push forward and see how good a prediction we can make with this data"
   ]
  },
  {
   "cell_type": "markdown",
   "metadata": {},
   "source": [
    "### Predicting"
   ]
  },
  {
   "cell_type": "markdown",
   "metadata": {},
   "source": [
    "Let's move on to prediction and see which results we can get with the work that is already done.\n",
    "\n",
    "A previous work was done using several classifiers, and Gradient Boosting was the most promising. It is a model that can fit well complex models, and is one of the top perfomer algorithms used in the wide. Let's start with it and check the results"
   ]
  },
  {
   "cell_type": "code",
   "execution_count": null,
   "metadata": {
    "collapsed": false
   },
   "outputs": [],
   "source": [
    "from sklearn.model_selection import StratifiedShuffleSplit\n",
    "from sklearn.ensemble import GradientBoostingClassifier as GBC\n",
    "from sklearn.neighbors import KNeighborsClassifier as kNN\n",
    "from sklearn.model_selection import cross_val_score\n",
    "import warnings; warnings.filterwarnings(\"ignore\")"
   ]
  },
  {
   "cell_type": "code",
   "execution_count": null,
   "metadata": {
    "collapsed": true
   },
   "outputs": [],
   "source": [
    "# define cross validation strategy\n",
    "cv = StratifiedShuffleSplit(n_splits=10, test_size=.1, random_state=42)"
   ]
  },
  {
   "cell_type": "code",
   "execution_count": null,
   "metadata": {
    "collapsed": false
   },
   "outputs": [],
   "source": [
    "# initiate, train and evaluate classifier\n",
    "clf = GBC(random_state=42)\n",
    "scores = cross_val_score(clf, X, y, cv=cv, scoring='precision')\n",
    "print(\"Precision: %0.2f (+/- %0.2f)\" % (scores.mean(), scores.std() * 2))"
   ]
  },
  {
   "cell_type": "code",
   "execution_count": null,
   "metadata": {
    "collapsed": false
   },
   "outputs": [],
   "source": [
    "# same, with kNN\n",
    "clf = kNN()\n",
    "scores = cross_val_score(clf, X, y, cv=cv, scoring='precision')\n",
    "print(\"Precision: %0.2f (+/- %0.2f)\" % (scores.mean(), scores.std() * 2))"
   ]
  },
  {
   "cell_type": "markdown",
   "metadata": {},
   "source": [
    "40% is a reasonable precision, considering it is a highly skewed dataset, with only 6,25% of the observations with label 'Succeess'. But still a lot of variation - with a 95% confidence interval, the precision can be as low as .17. Let's check with the principal components, to see if we can get better results.\n",
    "\n",
    "I will try with different number of components"
   ]
  },
  {
   "cell_type": "code",
   "execution_count": null,
   "metadata": {
    "collapsed": false
   },
   "outputs": [],
   "source": [
    "# components = [20,50,100,150,200,300,400,len(features)]\n",
    "components = [10,20,50,100, 200, 300]\n",
    "for n in components:\n",
    "    # pca\n",
    "    pca = PCA(n_components = n, random_state=42)\n",
    "    X_transformed = pca.fit_transform(X)\n",
    "    \n",
    "    # predict\n",
    "    clf = GBC(random_state=42)\n",
    "    scores = cross_val_score(clf, X_transformed, y, cv=cv, scoring='precision')\n",
    "    print(\"Precision {} components: {:0.2f} (+/- {:0.2f})\".format(\n",
    "            n, scores.mean(), scores.std() * 2))"
   ]
  },
  {
   "cell_type": "code",
   "execution_count": null,
   "metadata": {
    "collapsed": false
   },
   "outputs": [],
   "source": [
    "# same, with knn\n",
    "components = [10, 20, 50, 100, 200, 300]\n",
    "for n in components:\n",
    "    # pca\n",
    "    pca = PCA(n_components = n, random_state=42)\n",
    "    X_transformed = pca.fit_transform(X)\n",
    "    \n",
    "    # predict\n",
    "    clf = kNN()\n",
    "    scores = cross_val_score(clf, X_transformed, y, cv=cv, scoring='precision')\n",
    "    print(\"Precision {} components: {:0.2f} (+/- {:0.2f})\".format(\n",
    "            n, scores.mean(), scores.std() * 2))"
   ]
  },
  {
   "cell_type": "markdown",
   "metadata": {},
   "source": [
    "The results with the principal components doesn't seem any better. I've also tried with 20 folds in the cross validation to reduce the margin of error, and between 100 to 200 components I get a precision of around .38 and a margin of error of around .5, which too high."
   ]
  },
  {
   "cell_type": "markdown",
   "metadata": {},
   "source": [
    "### Optimizing parameters with genetic algorithm"
   ]
  },
  {
   "cell_type": "markdown",
   "metadata": {},
   "source": [
    "Well, next step is to change my strategy. In the swing trade strategy, if I set number of days 10, profit margin(x) to 5% and stop loss(y) to 5%, I have to be right at least 51% of the times to actually win some money. That is not the case, as my current precision lower boundary is 17%.\n",
    "\n",
    "But I might have a better chance identifying a different variation of this strategy. So as discussed before, let's try to optimize these 3 parameters: n, x and y. We will use a genetic algorithm which will use precision score from the cross validation function as its own scoring function, to determine which variation will perpetuate. "
   ]
  },
  {
   "cell_type": "markdown",
   "metadata": {},
   "source": [
    "In order to that, we will organize the code to create the dataset into classes and modules, along with the Genetic Algoritm, in the attached files stock.py and strategies.py, and import them to the notebook."
   ]
  },
  {
   "cell_type": "code",
   "execution_count": 405,
   "metadata": {
    "collapsed": false
   },
   "outputs": [
    {
     "ename": "KeyError",
     "evalue": "'Adj Close'",
     "output_type": "error",
     "traceback": [
      "\u001b[0;31m---------------------------------------------------------------------------\u001b[0m",
      "\u001b[0;31mTypeError\u001b[0m                                 Traceback (most recent call last)",
      "\u001b[0;32m/Users/lucasosouza/anaconda/envs/python3/lib/python3.4/site-packages/pandas/indexes/base.py\u001b[0m in \u001b[0;36mget_value\u001b[0;34m(self, series, key)\u001b[0m\n\u001b[1;32m   2144\u001b[0m             \u001b[0;32mtry\u001b[0m\u001b[0;34m:\u001b[0m\u001b[0;34m\u001b[0m\u001b[0m\n\u001b[0;32m-> 2145\u001b[0;31m                 \u001b[0;32mreturn\u001b[0m \u001b[0mtslib\u001b[0m\u001b[0;34m.\u001b[0m\u001b[0mget_value_box\u001b[0m\u001b[0;34m(\u001b[0m\u001b[0ms\u001b[0m\u001b[0;34m,\u001b[0m \u001b[0mkey\u001b[0m\u001b[0;34m)\u001b[0m\u001b[0;34m\u001b[0m\u001b[0m\n\u001b[0m\u001b[1;32m   2146\u001b[0m             \u001b[0;32mexcept\u001b[0m \u001b[0mIndexError\u001b[0m\u001b[0;34m:\u001b[0m\u001b[0;34m\u001b[0m\u001b[0m\n",
      "\u001b[0;32mpandas/tslib.pyx\u001b[0m in \u001b[0;36mpandas.tslib.get_value_box (pandas/tslib.c:17368)\u001b[0;34m()\u001b[0m\n",
      "\u001b[0;32mpandas/tslib.pyx\u001b[0m in \u001b[0;36mpandas.tslib.get_value_box (pandas/tslib.c:17042)\u001b[0;34m()\u001b[0m\n",
      "\u001b[0;31mTypeError\u001b[0m: 'str' object cannot be interpreted as an integer",
      "\nDuring handling of the above exception, another exception occurred:\n",
      "\u001b[0;31mKeyError\u001b[0m                                  Traceback (most recent call last)",
      "\u001b[0;32m<ipython-input-405-7d37681c4be9>\u001b[0m in \u001b[0;36m<module>\u001b[0;34m()\u001b[0m\n\u001b[1;32m      1\u001b[0m \u001b[0;32mfrom\u001b[0m \u001b[0mstrategies\u001b[0m \u001b[0;32mimport\u001b[0m \u001b[0;34m*\u001b[0m\u001b[0;34m\u001b[0m\u001b[0m\n\u001b[0;32m----> 2\u001b[0;31m \u001b[0mga\u001b[0m \u001b[0;34m=\u001b[0m \u001b[0mGA\u001b[0m\u001b[0;34m(\u001b[0m\u001b[0mdf\u001b[0m\u001b[0;34m)\u001b[0m\u001b[0;34m\u001b[0m\u001b[0m\n\u001b[0m\u001b[1;32m      3\u001b[0m \u001b[0mga\u001b[0m\u001b[0;34m.\u001b[0m\u001b[0mfit\u001b[0m\u001b[0;34m(\u001b[0m\u001b[0;36m20\u001b[0m\u001b[0;34m)\u001b[0m\u001b[0;34m\u001b[0m\u001b[0m\n\u001b[1;32m      4\u001b[0m \u001b[0mga\u001b[0m\u001b[0;34m.\u001b[0m\u001b[0mbest_strategy\u001b[0m\u001b[0;34m(\u001b[0m\u001b[0;34m)\u001b[0m\u001b[0;34m\u001b[0m\u001b[0m\n",
      "\u001b[0;32m/Users/lucasosouza/Documents/oraculo/ga/strategies.py\u001b[0m in \u001b[0;36m__init__\u001b[0;34m(self, df)\u001b[0m\n\u001b[1;32m     65\u001b[0m                 \u001b[0mself\u001b[0m\u001b[0;34m.\u001b[0m\u001b[0mstrategies\u001b[0m \u001b[0;34m=\u001b[0m \u001b[0mpd\u001b[0m\u001b[0;34m.\u001b[0m\u001b[0mDataFrame\u001b[0m\u001b[0;34m(\u001b[0m\u001b[0mnp\u001b[0m\u001b[0;34m.\u001b[0m\u001b[0mzeros\u001b[0m\u001b[0;34m(\u001b[0m\u001b[0;34m(\u001b[0m\u001b[0;36m2\u001b[0m\u001b[0;34m,\u001b[0m\u001b[0;36m2\u001b[0m\u001b[0;34m)\u001b[0m\u001b[0;34m)\u001b[0m\u001b[0;34m,\u001b[0m \u001b[0mcolumns\u001b[0m \u001b[0;34m=\u001b[0m \u001b[0;34m[\u001b[0m\u001b[0;34m'strat'\u001b[0m\u001b[0;34m,\u001b[0m \u001b[0;34m'score'\u001b[0m\u001b[0;34m]\u001b[0m\u001b[0;34m)\u001b[0m\u001b[0;34m\u001b[0m\u001b[0m\n\u001b[1;32m     66\u001b[0m                 \u001b[0mself\u001b[0m\u001b[0;34m.\u001b[0m\u001b[0mstrategies\u001b[0m\u001b[0;34m[\u001b[0m\u001b[0;34m'strat'\u001b[0m\u001b[0;34m]\u001b[0m \u001b[0;34m=\u001b[0m \u001b[0mself\u001b[0m\u001b[0;34m.\u001b[0m\u001b[0mstrategies\u001b[0m\u001b[0;34m[\u001b[0m\u001b[0;34m'strat'\u001b[0m\u001b[0;34m]\u001b[0m\u001b[0;34m.\u001b[0m\u001b[0mapply\u001b[0m\u001b[0;34m(\u001b[0m\u001b[0;32mlambda\u001b[0m \u001b[0mx\u001b[0m\u001b[0;34m:\u001b[0m\u001b[0mStrategy\u001b[0m\u001b[0;34m(\u001b[0m\u001b[0;34m)\u001b[0m\u001b[0;34m)\u001b[0m\u001b[0;34m\u001b[0m\u001b[0m\n\u001b[0;32m---> 67\u001b[0;31m                 \u001b[0mself\u001b[0m\u001b[0;34m.\u001b[0m\u001b[0mstrategies\u001b[0m\u001b[0;34m[\u001b[0m\u001b[0;34m'score'\u001b[0m\u001b[0;34m]\u001b[0m \u001b[0;34m=\u001b[0m \u001b[0mself\u001b[0m\u001b[0;34m.\u001b[0m\u001b[0mstrategies\u001b[0m\u001b[0;34m[\u001b[0m\u001b[0;34m'strat'\u001b[0m\u001b[0;34m]\u001b[0m\u001b[0;34m.\u001b[0m\u001b[0mapply\u001b[0m\u001b[0;34m(\u001b[0m\u001b[0mself\u001b[0m\u001b[0;34m.\u001b[0m\u001b[0mevaluate\u001b[0m\u001b[0;34m)\u001b[0m\u001b[0;34m\u001b[0m\u001b[0m\n\u001b[0m\u001b[1;32m     68\u001b[0m \u001b[0;34m\u001b[0m\u001b[0m\n\u001b[1;32m     69\u001b[0m \u001b[0;34m\u001b[0m\u001b[0m\n",
      "\u001b[0;32m/Users/lucasosouza/anaconda/envs/python3/lib/python3.4/site-packages/pandas/core/series.py\u001b[0m in \u001b[0;36mapply\u001b[0;34m(self, func, convert_dtype, args, **kwds)\u001b[0m\n\u001b[1;32m   2290\u001b[0m             \u001b[0;32melse\u001b[0m\u001b[0;34m:\u001b[0m\u001b[0;34m\u001b[0m\u001b[0m\n\u001b[1;32m   2291\u001b[0m                 \u001b[0mvalues\u001b[0m \u001b[0;34m=\u001b[0m \u001b[0mself\u001b[0m\u001b[0;34m.\u001b[0m\u001b[0masobject\u001b[0m\u001b[0;34m\u001b[0m\u001b[0m\n\u001b[0;32m-> 2292\u001b[0;31m                 \u001b[0mmapped\u001b[0m \u001b[0;34m=\u001b[0m \u001b[0mlib\u001b[0m\u001b[0;34m.\u001b[0m\u001b[0mmap_infer\u001b[0m\u001b[0;34m(\u001b[0m\u001b[0mvalues\u001b[0m\u001b[0;34m,\u001b[0m \u001b[0mf\u001b[0m\u001b[0;34m,\u001b[0m \u001b[0mconvert\u001b[0m\u001b[0;34m=\u001b[0m\u001b[0mconvert_dtype\u001b[0m\u001b[0;34m)\u001b[0m\u001b[0;34m\u001b[0m\u001b[0m\n\u001b[0m\u001b[1;32m   2293\u001b[0m \u001b[0;34m\u001b[0m\u001b[0m\n\u001b[1;32m   2294\u001b[0m         \u001b[0;32mif\u001b[0m \u001b[0mlen\u001b[0m\u001b[0;34m(\u001b[0m\u001b[0mmapped\u001b[0m\u001b[0;34m)\u001b[0m \u001b[0;32mand\u001b[0m \u001b[0misinstance\u001b[0m\u001b[0;34m(\u001b[0m\u001b[0mmapped\u001b[0m\u001b[0;34m[\u001b[0m\u001b[0;36m0\u001b[0m\u001b[0;34m]\u001b[0m\u001b[0;34m,\u001b[0m \u001b[0mSeries\u001b[0m\u001b[0;34m)\u001b[0m\u001b[0;34m:\u001b[0m\u001b[0;34m\u001b[0m\u001b[0m\n",
      "\u001b[0;32mpandas/src/inference.pyx\u001b[0m in \u001b[0;36mpandas.lib.map_infer (pandas/lib.c:63317)\u001b[0;34m()\u001b[0m\n",
      "\u001b[0;32m/Users/lucasosouza/Documents/oraculo/ga/strategies.py\u001b[0m in \u001b[0;36mevaluate\u001b[0;34m(self, strat)\u001b[0m\n\u001b[1;32m     88\u001b[0m                         \u001b[0mShould\u001b[0m \u001b[0mevaluate\u001b[0m \u001b[0monly\u001b[0m \u001b[0;32mfor\u001b[0m \u001b[0mthose\u001b[0m \u001b[0mwhich\u001b[0m \u001b[0mvalue\u001b[0m \u001b[0;32mis\u001b[0m \u001b[0mzero\u001b[0m\u001b[0;34m,\u001b[0m \u001b[0mto\u001b[0m \u001b[0mavoid\u001b[0m \u001b[0mthe\u001b[0m \u001b[0mcost\u001b[0m \u001b[0mof\u001b[0m \u001b[0mre\u001b[0m\u001b[0;34m-\u001b[0m\u001b[0mevaluating\u001b[0m\u001b[0;34m\u001b[0m\u001b[0m\n\u001b[1;32m     89\u001b[0m \t\t\"\"\"\n\u001b[0;32m---> 90\u001b[0;31m                 \u001b[0;32mreturn\u001b[0m \u001b[0mself\u001b[0m\u001b[0;34m.\u001b[0m\u001b[0mbacktester\u001b[0m\u001b[0;34m.\u001b[0m\u001b[0mevaluate\u001b[0m\u001b[0;34m(\u001b[0m\u001b[0;34m*\u001b[0m\u001b[0mstrat\u001b[0m\u001b[0;34m.\u001b[0m\u001b[0minform_params\u001b[0m\u001b[0;34m(\u001b[0m\u001b[0;34m)\u001b[0m\u001b[0;34m)\u001b[0m\u001b[0;34m\u001b[0m\u001b[0m\n\u001b[0m\u001b[1;32m     91\u001b[0m \u001b[0;34m\u001b[0m\u001b[0m\n\u001b[1;32m     92\u001b[0m         \u001b[0;32mdef\u001b[0m \u001b[0mreproduce\u001b[0m\u001b[0;34m(\u001b[0m\u001b[0mself\u001b[0m\u001b[0;34m)\u001b[0m\u001b[0;34m:\u001b[0m\u001b[0;34m\u001b[0m\u001b[0m\n",
      "\u001b[0;32m/Users/lucasosouza/Documents/oraculo/ga/stocks.py\u001b[0m in \u001b[0;36mevaluate\u001b[0;34m(self, forward, profit_margin, stop_loss)\u001b[0m\n\u001b[1;32m     52\u001b[0m \u001b[0;34m\u001b[0m\u001b[0m\n\u001b[1;32m     53\u001b[0m         \u001b[0;32mdef\u001b[0m \u001b[0mevaluate\u001b[0m\u001b[0;34m(\u001b[0m\u001b[0mself\u001b[0m\u001b[0;34m,\u001b[0m \u001b[0mforward\u001b[0m\u001b[0;34m,\u001b[0m \u001b[0mprofit_margin\u001b[0m\u001b[0;34m,\u001b[0m \u001b[0mstop_loss\u001b[0m\u001b[0;34m)\u001b[0m\u001b[0;34m:\u001b[0m\u001b[0;34m\u001b[0m\u001b[0m\n\u001b[0;32m---> 54\u001b[0;31m                 \u001b[0mself\u001b[0m\u001b[0;34m.\u001b[0m\u001b[0mcreate_labels\u001b[0m\u001b[0;34m(\u001b[0m\u001b[0mforward\u001b[0m\u001b[0;34m=\u001b[0m\u001b[0mforward\u001b[0m\u001b[0;34m,\u001b[0m \u001b[0mprofit_margin\u001b[0m\u001b[0;34m=\u001b[0m\u001b[0mprofit_margin\u001b[0m\u001b[0;34m,\u001b[0m \u001b[0mstop_loss\u001b[0m\u001b[0;34m=\u001b[0m\u001b[0mstop_loss\u001b[0m\u001b[0;34m)\u001b[0m\u001b[0;34m\u001b[0m\u001b[0m\n\u001b[0m\u001b[1;32m     55\u001b[0m                 \u001b[0mscore\u001b[0m \u001b[0;34m=\u001b[0m \u001b[0mself\u001b[0m\u001b[0;34m.\u001b[0m\u001b[0mscore\u001b[0m\u001b[0;34m(\u001b[0m\u001b[0;34m)\u001b[0m\u001b[0;34m\u001b[0m\u001b[0m\n\u001b[1;32m     56\u001b[0m \t\tprint(\"span: {}, profit_margin: {:.3f}, stop_loss: {:.3f} --  score: {:.3f}\".format(\n",
      "\u001b[0;32m/Users/lucasosouza/Documents/oraculo/ga/stocks.py\u001b[0m in \u001b[0;36mcreate_labels\u001b[0;34m(self, forward, profit_margin, stop_loss)\u001b[0m\n\u001b[1;32m     26\u001b[0m                 \u001b[0;31m# move all days forward\u001b[0m\u001b[0;34m\u001b[0m\u001b[0;34m\u001b[0m\u001b[0m\n\u001b[1;32m     27\u001b[0m                 \u001b[0;32mfor\u001b[0m \u001b[0mi\u001b[0m \u001b[0;32min\u001b[0m \u001b[0mrange\u001b[0m\u001b[0;34m(\u001b[0m\u001b[0;36m1\u001b[0m\u001b[0;34m,\u001b[0m\u001b[0mforward\u001b[0m\u001b[0;34m+\u001b[0m\u001b[0;36m1\u001b[0m\u001b[0;34m)\u001b[0m\u001b[0;34m:\u001b[0m\u001b[0;34m\u001b[0m\u001b[0m\n\u001b[0;32m---> 28\u001b[0;31m                     \u001b[0mdelta\u001b[0m \u001b[0;34m=\u001b[0m \u001b[0;34m(\u001b[0m\u001b[0mself\u001b[0m\u001b[0;34m.\u001b[0m\u001b[0mdf\u001b[0m\u001b[0;34m.\u001b[0m\u001b[0mix\u001b[0m\u001b[0;34m[\u001b[0m\u001b[0mrow\u001b[0m\u001b[0;34m+\u001b[0m\u001b[0mi\u001b[0m\u001b[0;34m,\u001b[0m \u001b[0;34m'Adj Close'\u001b[0m\u001b[0;34m]\u001b[0m \u001b[0;34m/\u001b[0m \u001b[0mself\u001b[0m\u001b[0;34m.\u001b[0m\u001b[0mdf\u001b[0m\u001b[0;34m.\u001b[0m\u001b[0mix\u001b[0m\u001b[0;34m[\u001b[0m\u001b[0mrow\u001b[0m\u001b[0;34m,\u001b[0m \u001b[0;34m'Adj Close'\u001b[0m\u001b[0;34m]\u001b[0m\u001b[0;34m)\u001b[0m\u001b[0;34m-\u001b[0m\u001b[0;36m1\u001b[0m\u001b[0;34m\u001b[0m\u001b[0m\n\u001b[0m\u001b[1;32m     29\u001b[0m                     \u001b[0;32mif\u001b[0m \u001b[0mdelta\u001b[0m \u001b[0;34m>\u001b[0m \u001b[0mmax_uptick\u001b[0m\u001b[0;34m:\u001b[0m\u001b[0;34m\u001b[0m\u001b[0m\n\u001b[1;32m     30\u001b[0m                         \u001b[0mmax_uptick\u001b[0m \u001b[0;34m=\u001b[0m \u001b[0mdelta\u001b[0m\u001b[0;34m\u001b[0m\u001b[0m\n",
      "\u001b[0;32m/Users/lucasosouza/anaconda/envs/python3/lib/python3.4/site-packages/pandas/core/indexing.py\u001b[0m in \u001b[0;36m__getitem__\u001b[0;34m(self, key)\u001b[0m\n\u001b[1;32m     81\u001b[0m                 \u001b[0;32mpass\u001b[0m\u001b[0;34m\u001b[0m\u001b[0m\n\u001b[1;32m     82\u001b[0m \u001b[0;34m\u001b[0m\u001b[0m\n\u001b[0;32m---> 83\u001b[0;31m             \u001b[0;32mreturn\u001b[0m \u001b[0mself\u001b[0m\u001b[0;34m.\u001b[0m\u001b[0m_getitem_tuple\u001b[0m\u001b[0;34m(\u001b[0m\u001b[0mkey\u001b[0m\u001b[0;34m)\u001b[0m\u001b[0;34m\u001b[0m\u001b[0m\n\u001b[0m\u001b[1;32m     84\u001b[0m         \u001b[0;32melse\u001b[0m\u001b[0;34m:\u001b[0m\u001b[0;34m\u001b[0m\u001b[0m\n\u001b[1;32m     85\u001b[0m             \u001b[0mkey\u001b[0m \u001b[0;34m=\u001b[0m \u001b[0mcom\u001b[0m\u001b[0;34m.\u001b[0m\u001b[0m_apply_if_callable\u001b[0m\u001b[0;34m(\u001b[0m\u001b[0mkey\u001b[0m\u001b[0;34m,\u001b[0m \u001b[0mself\u001b[0m\u001b[0;34m.\u001b[0m\u001b[0mobj\u001b[0m\u001b[0;34m)\u001b[0m\u001b[0;34m\u001b[0m\u001b[0m\n",
      "\u001b[0;32m/Users/lucasosouza/anaconda/envs/python3/lib/python3.4/site-packages/pandas/core/indexing.py\u001b[0m in \u001b[0;36m_getitem_tuple\u001b[0;34m(self, tup)\u001b[0m\n\u001b[1;32m    793\u001b[0m     \u001b[0;32mdef\u001b[0m \u001b[0m_getitem_tuple\u001b[0m\u001b[0;34m(\u001b[0m\u001b[0mself\u001b[0m\u001b[0;34m,\u001b[0m \u001b[0mtup\u001b[0m\u001b[0;34m)\u001b[0m\u001b[0;34m:\u001b[0m\u001b[0;34m\u001b[0m\u001b[0m\n\u001b[1;32m    794\u001b[0m         \u001b[0;32mtry\u001b[0m\u001b[0;34m:\u001b[0m\u001b[0;34m\u001b[0m\u001b[0m\n\u001b[0;32m--> 795\u001b[0;31m             \u001b[0;32mreturn\u001b[0m \u001b[0mself\u001b[0m\u001b[0;34m.\u001b[0m\u001b[0m_getitem_lowerdim\u001b[0m\u001b[0;34m(\u001b[0m\u001b[0mtup\u001b[0m\u001b[0;34m)\u001b[0m\u001b[0;34m\u001b[0m\u001b[0m\n\u001b[0m\u001b[1;32m    796\u001b[0m         \u001b[0;32mexcept\u001b[0m \u001b[0mIndexingError\u001b[0m\u001b[0;34m:\u001b[0m\u001b[0;34m\u001b[0m\u001b[0m\n\u001b[1;32m    797\u001b[0m             \u001b[0;32mpass\u001b[0m\u001b[0;34m\u001b[0m\u001b[0m\n",
      "\u001b[0;32m/Users/lucasosouza/anaconda/envs/python3/lib/python3.4/site-packages/pandas/core/indexing.py\u001b[0m in \u001b[0;36m_getitem_lowerdim\u001b[0;34m(self, tup)\u001b[0m\n\u001b[1;32m    944\u001b[0m \u001b[0;34m\u001b[0m\u001b[0m\n\u001b[1;32m    945\u001b[0m                 \u001b[0;31m# This is an elided recursive call to iloc/loc/etc'\u001b[0m\u001b[0;34m\u001b[0m\u001b[0;34m\u001b[0m\u001b[0m\n\u001b[0;32m--> 946\u001b[0;31m                 \u001b[0;32mreturn\u001b[0m \u001b[0mgetattr\u001b[0m\u001b[0;34m(\u001b[0m\u001b[0msection\u001b[0m\u001b[0;34m,\u001b[0m \u001b[0mself\u001b[0m\u001b[0;34m.\u001b[0m\u001b[0mname\u001b[0m\u001b[0;34m)\u001b[0m\u001b[0;34m[\u001b[0m\u001b[0mnew_key\u001b[0m\u001b[0;34m]\u001b[0m\u001b[0;34m\u001b[0m\u001b[0m\n\u001b[0m\u001b[1;32m    947\u001b[0m \u001b[0;34m\u001b[0m\u001b[0m\n\u001b[1;32m    948\u001b[0m         \u001b[0;32mraise\u001b[0m \u001b[0mIndexingError\u001b[0m\u001b[0;34m(\u001b[0m\u001b[0;34m'not applicable'\u001b[0m\u001b[0;34m)\u001b[0m\u001b[0;34m\u001b[0m\u001b[0m\n",
      "\u001b[0;32m/Users/lucasosouza/anaconda/envs/python3/lib/python3.4/site-packages/pandas/core/indexing.py\u001b[0m in \u001b[0;36m__getitem__\u001b[0;34m(self, key)\u001b[0m\n\u001b[1;32m     84\u001b[0m         \u001b[0;32melse\u001b[0m\u001b[0;34m:\u001b[0m\u001b[0;34m\u001b[0m\u001b[0m\n\u001b[1;32m     85\u001b[0m             \u001b[0mkey\u001b[0m \u001b[0;34m=\u001b[0m \u001b[0mcom\u001b[0m\u001b[0;34m.\u001b[0m\u001b[0m_apply_if_callable\u001b[0m\u001b[0;34m(\u001b[0m\u001b[0mkey\u001b[0m\u001b[0;34m,\u001b[0m \u001b[0mself\u001b[0m\u001b[0;34m.\u001b[0m\u001b[0mobj\u001b[0m\u001b[0;34m)\u001b[0m\u001b[0;34m\u001b[0m\u001b[0m\n\u001b[0;32m---> 86\u001b[0;31m             \u001b[0;32mreturn\u001b[0m \u001b[0mself\u001b[0m\u001b[0;34m.\u001b[0m\u001b[0m_getitem_axis\u001b[0m\u001b[0;34m(\u001b[0m\u001b[0mkey\u001b[0m\u001b[0;34m,\u001b[0m \u001b[0maxis\u001b[0m\u001b[0;34m=\u001b[0m\u001b[0;36m0\u001b[0m\u001b[0;34m)\u001b[0m\u001b[0;34m\u001b[0m\u001b[0m\n\u001b[0m\u001b[1;32m     87\u001b[0m \u001b[0;34m\u001b[0m\u001b[0m\n\u001b[1;32m     88\u001b[0m     \u001b[0;32mdef\u001b[0m \u001b[0m_get_label\u001b[0m\u001b[0;34m(\u001b[0m\u001b[0mself\u001b[0m\u001b[0;34m,\u001b[0m \u001b[0mlabel\u001b[0m\u001b[0;34m,\u001b[0m \u001b[0maxis\u001b[0m\u001b[0;34m=\u001b[0m\u001b[0;36m0\u001b[0m\u001b[0;34m)\u001b[0m\u001b[0;34m:\u001b[0m\u001b[0;34m\u001b[0m\u001b[0m\n",
      "\u001b[0;32m/Users/lucasosouza/anaconda/envs/python3/lib/python3.4/site-packages/pandas/core/indexing.py\u001b[0m in \u001b[0;36m_getitem_axis\u001b[0;34m(self, key, axis)\u001b[0m\n\u001b[1;32m   1029\u001b[0m                     \u001b[0;32mreturn\u001b[0m \u001b[0mself\u001b[0m\u001b[0;34m.\u001b[0m\u001b[0m_get_loc\u001b[0m\u001b[0;34m(\u001b[0m\u001b[0mkey\u001b[0m\u001b[0;34m,\u001b[0m \u001b[0maxis\u001b[0m\u001b[0;34m=\u001b[0m\u001b[0maxis\u001b[0m\u001b[0;34m)\u001b[0m\u001b[0;34m\u001b[0m\u001b[0m\n\u001b[1;32m   1030\u001b[0m \u001b[0;34m\u001b[0m\u001b[0m\n\u001b[0;32m-> 1031\u001b[0;31m             \u001b[0;32mreturn\u001b[0m \u001b[0mself\u001b[0m\u001b[0;34m.\u001b[0m\u001b[0m_get_label\u001b[0m\u001b[0;34m(\u001b[0m\u001b[0mkey\u001b[0m\u001b[0;34m,\u001b[0m \u001b[0maxis\u001b[0m\u001b[0;34m=\u001b[0m\u001b[0maxis\u001b[0m\u001b[0;34m)\u001b[0m\u001b[0;34m\u001b[0m\u001b[0m\n\u001b[0m\u001b[1;32m   1032\u001b[0m \u001b[0;34m\u001b[0m\u001b[0m\n\u001b[1;32m   1033\u001b[0m     \u001b[0;32mdef\u001b[0m \u001b[0m_getitem_iterable\u001b[0m\u001b[0;34m(\u001b[0m\u001b[0mself\u001b[0m\u001b[0;34m,\u001b[0m \u001b[0mkey\u001b[0m\u001b[0;34m,\u001b[0m \u001b[0maxis\u001b[0m\u001b[0;34m=\u001b[0m\u001b[0;36m0\u001b[0m\u001b[0;34m)\u001b[0m\u001b[0;34m:\u001b[0m\u001b[0;34m\u001b[0m\u001b[0m\n",
      "\u001b[0;32m/Users/lucasosouza/anaconda/envs/python3/lib/python3.4/site-packages/pandas/core/indexing.py\u001b[0m in \u001b[0;36m_get_label\u001b[0;34m(self, label, axis)\u001b[0m\n\u001b[1;32m     95\u001b[0m                 \u001b[0;32mreturn\u001b[0m \u001b[0mself\u001b[0m\u001b[0;34m.\u001b[0m\u001b[0mobj\u001b[0m\u001b[0;34m.\u001b[0m\u001b[0m_xs\u001b[0m\u001b[0;34m(\u001b[0m\u001b[0mlabel\u001b[0m\u001b[0;34m,\u001b[0m \u001b[0maxis\u001b[0m\u001b[0;34m=\u001b[0m\u001b[0maxis\u001b[0m\u001b[0;34m)\u001b[0m\u001b[0;34m\u001b[0m\u001b[0m\n\u001b[1;32m     96\u001b[0m             \u001b[0;32mexcept\u001b[0m\u001b[0;34m:\u001b[0m\u001b[0;34m\u001b[0m\u001b[0m\n\u001b[0;32m---> 97\u001b[0;31m                 \u001b[0;32mreturn\u001b[0m \u001b[0mself\u001b[0m\u001b[0;34m.\u001b[0m\u001b[0mobj\u001b[0m\u001b[0;34m[\u001b[0m\u001b[0mlabel\u001b[0m\u001b[0;34m]\u001b[0m\u001b[0;34m\u001b[0m\u001b[0m\n\u001b[0m\u001b[1;32m     98\u001b[0m         \u001b[0;32melif\u001b[0m \u001b[0misinstance\u001b[0m\u001b[0;34m(\u001b[0m\u001b[0mlabel\u001b[0m\u001b[0;34m,\u001b[0m \u001b[0mtuple\u001b[0m\u001b[0;34m)\u001b[0m \u001b[0;32mand\u001b[0m \u001b[0misinstance\u001b[0m\u001b[0;34m(\u001b[0m\u001b[0mlabel\u001b[0m\u001b[0;34m[\u001b[0m\u001b[0maxis\u001b[0m\u001b[0;34m]\u001b[0m\u001b[0;34m,\u001b[0m \u001b[0mslice\u001b[0m\u001b[0;34m)\u001b[0m\u001b[0;34m:\u001b[0m\u001b[0;34m\u001b[0m\u001b[0m\n\u001b[1;32m     99\u001b[0m             \u001b[0;32mraise\u001b[0m \u001b[0mIndexingError\u001b[0m\u001b[0;34m(\u001b[0m\u001b[0;34m'no slices here, handle elsewhere'\u001b[0m\u001b[0;34m)\u001b[0m\u001b[0;34m\u001b[0m\u001b[0m\n",
      "\u001b[0;32m/Users/lucasosouza/anaconda/envs/python3/lib/python3.4/site-packages/pandas/core/series.py\u001b[0m in \u001b[0;36m__getitem__\u001b[0;34m(self, key)\u001b[0m\n\u001b[1;32m    599\u001b[0m         \u001b[0mkey\u001b[0m \u001b[0;34m=\u001b[0m \u001b[0mcom\u001b[0m\u001b[0;34m.\u001b[0m\u001b[0m_apply_if_callable\u001b[0m\u001b[0;34m(\u001b[0m\u001b[0mkey\u001b[0m\u001b[0;34m,\u001b[0m \u001b[0mself\u001b[0m\u001b[0;34m)\u001b[0m\u001b[0;34m\u001b[0m\u001b[0m\n\u001b[1;32m    600\u001b[0m         \u001b[0;32mtry\u001b[0m\u001b[0;34m:\u001b[0m\u001b[0;34m\u001b[0m\u001b[0m\n\u001b[0;32m--> 601\u001b[0;31m             \u001b[0mresult\u001b[0m \u001b[0;34m=\u001b[0m \u001b[0mself\u001b[0m\u001b[0;34m.\u001b[0m\u001b[0mindex\u001b[0m\u001b[0;34m.\u001b[0m\u001b[0mget_value\u001b[0m\u001b[0;34m(\u001b[0m\u001b[0mself\u001b[0m\u001b[0;34m,\u001b[0m \u001b[0mkey\u001b[0m\u001b[0;34m)\u001b[0m\u001b[0;34m\u001b[0m\u001b[0m\n\u001b[0m\u001b[1;32m    602\u001b[0m \u001b[0;34m\u001b[0m\u001b[0m\n\u001b[1;32m    603\u001b[0m             \u001b[0;32mif\u001b[0m \u001b[0;32mnot\u001b[0m \u001b[0mis_scalar\u001b[0m\u001b[0;34m(\u001b[0m\u001b[0mresult\u001b[0m\u001b[0;34m)\u001b[0m\u001b[0;34m:\u001b[0m\u001b[0;34m\u001b[0m\u001b[0m\n",
      "\u001b[0;32m/Users/lucasosouza/anaconda/envs/python3/lib/python3.4/site-packages/pandas/indexes/base.py\u001b[0m in \u001b[0;36mget_value\u001b[0;34m(self, series, key)\u001b[0m\n\u001b[1;32m   2151\u001b[0m                     \u001b[0;32mraise\u001b[0m \u001b[0mInvalidIndexError\u001b[0m\u001b[0;34m(\u001b[0m\u001b[0mkey\u001b[0m\u001b[0;34m)\u001b[0m\u001b[0;34m\u001b[0m\u001b[0m\n\u001b[1;32m   2152\u001b[0m                 \u001b[0;32melse\u001b[0m\u001b[0;34m:\u001b[0m\u001b[0;34m\u001b[0m\u001b[0m\n\u001b[0;32m-> 2153\u001b[0;31m                     \u001b[0;32mraise\u001b[0m \u001b[0me1\u001b[0m\u001b[0;34m\u001b[0m\u001b[0m\n\u001b[0m\u001b[1;32m   2154\u001b[0m             \u001b[0;32mexcept\u001b[0m \u001b[0mException\u001b[0m\u001b[0;34m:\u001b[0m  \u001b[0;31m# pragma: no cover\u001b[0m\u001b[0;34m\u001b[0m\u001b[0m\n\u001b[1;32m   2155\u001b[0m                 \u001b[0;32mraise\u001b[0m \u001b[0me1\u001b[0m\u001b[0;34m\u001b[0m\u001b[0m\n",
      "\u001b[0;32m/Users/lucasosouza/anaconda/envs/python3/lib/python3.4/site-packages/pandas/indexes/base.py\u001b[0m in \u001b[0;36mget_value\u001b[0;34m(self, series, key)\u001b[0m\n\u001b[1;32m   2137\u001b[0m         \u001b[0;32mtry\u001b[0m\u001b[0;34m:\u001b[0m\u001b[0;34m\u001b[0m\u001b[0m\n\u001b[1;32m   2138\u001b[0m             return self._engine.get_value(s, k,\n\u001b[0;32m-> 2139\u001b[0;31m                                           tz=getattr(series.dtype, 'tz', None))\n\u001b[0m\u001b[1;32m   2140\u001b[0m         \u001b[0;32mexcept\u001b[0m \u001b[0mKeyError\u001b[0m \u001b[0;32mas\u001b[0m \u001b[0me1\u001b[0m\u001b[0;34m:\u001b[0m\u001b[0;34m\u001b[0m\u001b[0m\n\u001b[1;32m   2141\u001b[0m             \u001b[0;32mif\u001b[0m \u001b[0mlen\u001b[0m\u001b[0;34m(\u001b[0m\u001b[0mself\u001b[0m\u001b[0;34m)\u001b[0m \u001b[0;34m>\u001b[0m \u001b[0;36m0\u001b[0m \u001b[0;32mand\u001b[0m \u001b[0mself\u001b[0m\u001b[0;34m.\u001b[0m\u001b[0minferred_type\u001b[0m \u001b[0;32min\u001b[0m \u001b[0;34m[\u001b[0m\u001b[0;34m'integer'\u001b[0m\u001b[0;34m,\u001b[0m \u001b[0;34m'boolean'\u001b[0m\u001b[0;34m]\u001b[0m\u001b[0;34m:\u001b[0m\u001b[0;34m\u001b[0m\u001b[0m\n",
      "\u001b[0;32mpandas/index.pyx\u001b[0m in \u001b[0;36mpandas.index.IndexEngine.get_value (pandas/index.c:3338)\u001b[0;34m()\u001b[0m\n",
      "\u001b[0;32mpandas/index.pyx\u001b[0m in \u001b[0;36mpandas.index.IndexEngine.get_value (pandas/index.c:3041)\u001b[0;34m()\u001b[0m\n",
      "\u001b[0;32mpandas/index.pyx\u001b[0m in \u001b[0;36mpandas.index.IndexEngine.get_loc (pandas/index.c:4024)\u001b[0;34m()\u001b[0m\n",
      "\u001b[0;32mpandas/src/hashtable_class_helper.pxi\u001b[0m in \u001b[0;36mpandas.hashtable.PyObjectHashTable.get_item (pandas/hashtable.c:13161)\u001b[0;34m()\u001b[0m\n",
      "\u001b[0;32mpandas/src/hashtable_class_helper.pxi\u001b[0m in \u001b[0;36mpandas.hashtable.PyObjectHashTable.get_item (pandas/hashtable.c:13115)\u001b[0;34m()\u001b[0m\n",
      "\u001b[0;31mKeyError\u001b[0m: 'Adj Close'"
     ]
    }
   ],
   "source": [
    "from strategies import *\n",
    "ga = GA(df)\n",
    "ga.fit(20)\n",
    "ga.best_strategy()"
   ]
  },
  {
   "cell_type": "code",
   "execution_count": null,
   "metadata": {
    "collapsed": true
   },
   "outputs": [],
   "source": []
  },
  {
   "cell_type": "code",
   "execution_count": 260,
   "metadata": {
    "collapsed": true
   },
   "outputs": [],
   "source": [
    "# results with 10 folds (stratified), precision"
   ]
  },
  {
   "cell_type": "markdown",
   "metadata": {},
   "source": [
    "### Removed code"
   ]
  },
  {
   "cell_type": "code",
   "execution_count": 312,
   "metadata": {
    "collapsed": false
   },
   "outputs": [
    {
     "name": "stdout",
     "output_type": "stream",
     "text": [
      "[1417   95]\n",
      "[158  10]\n",
      "[1418   94]\n",
      "[157  11]\n",
      "[1418   94]\n",
      "[157  11]\n",
      "[1417   95]\n",
      "[158  10]\n",
      "[1417   95]\n",
      "[158  10]\n",
      "[1417   95]\n",
      "[158  10]\n",
      "[1417   95]\n",
      "[158  10]\n",
      "[1417   95]\n",
      "[158  10]\n",
      "[1418   94]\n",
      "[157  11]\n",
      "[1417   95]\n",
      "[158  10]\n"
     ]
    }
   ],
   "source": [
    "# this is just a test.\n",
    "# it shows the proportions have been kept in the training label\n",
    "# gotta find another explanation for the errors show in the PCA\n",
    "cv.get_n_splits(X_transformed, y)\n",
    "for train_index, test_index in cv.split(X_transformed, y):\n",
    "    y_train, y_test = y[train_index], y[test_index]\n",
    "    print(np.bincount(y_train.astype(int)))\n",
    "    print(np.bincount(y_test.astype(int)))"
   ]
  },
  {
   "cell_type": "code",
   "execution_count": 192,
   "metadata": {
    "collapsed": false
   },
   "outputs": [
    {
     "data": {
      "text/plain": [
       "Open-1                                     0.156083\n",
       "High-1                                     0.120690\n",
       "Low-1                                      0.132010\n",
       "Close-1                                    0.147989\n",
       "Volume-1                                   2.367895\n",
       "Adj Close-1                                0.147519\n",
       "Dow Jones index-1                          0.051414\n",
       "Exchange Rate USD Sell-1                   0.050253\n",
       "BM&F Gold gramme-1                         0.083007\n",
       "Exchange Rate USD Buy-1                    0.050178\n",
       "Selic-1                                    0.000000\n",
       "Bovespa index-1                            0.093836\n",
       "Foreign exchange operations balance-1      9.747550\n",
       "Nasdaq index-1                             0.062282\n",
       "Bovespa total volume-1                     1.586686\n",
       "International Reserves-1                   0.007990\n",
       "Open-2                                     0.214939\n",
       "High-2                                     0.203080\n",
       "Low-2                                      0.210523\n",
       "Close-2                                    0.209344\n",
       "Volume-2                                   2.612202\n",
       "Adj Close-2                                0.209776\n",
       "Dow Jones index-2                          0.076956\n",
       "Exchange Rate USD Sell-2                   0.076940\n",
       "BM&F Gold gramme-2                         0.106570\n",
       "Exchange Rate USD Buy-2                    0.076961\n",
       "Selic-2                                    0.000000\n",
       "Bovespa index-2                            0.143908\n",
       "Foreign exchange operations balance-2      9.902256\n",
       "Nasdaq index-2                             0.096183\n",
       "                                            ...    \n",
       "Low-29                                     0.966176\n",
       "Close-29                                   0.952885\n",
       "Volume-29                                  3.405761\n",
       "Adj Close-29                               0.956866\n",
       "Dow Jones index-29                         0.287918\n",
       "Exchange Rate USD Sell-29                  0.360136\n",
       "BM&F Gold gramme-29                        0.378698\n",
       "Exchange Rate USD Buy-29                   0.360311\n",
       "Selic-29                                   0.196078\n",
       "Bovespa index-29                           0.565755\n",
       "Foreign exchange operations balance-29    10.250626\n",
       "Nasdaq index-29                            0.335896\n",
       "Bovespa total volume-29                    2.188822\n",
       "International Reserves-29                  0.109573\n",
       "Open-30                                    0.981839\n",
       "High-30                                    0.976825\n",
       "Low-30                                     0.991814\n",
       "Close-30                                   0.966917\n",
       "Volume-30                                  3.458307\n",
       "Adj Close-30                               0.966178\n",
       "Dow Jones index-30                         0.287483\n",
       "Exchange Rate USD Sell-30                  0.361586\n",
       "BM&F Gold gramme-30                        0.391028\n",
       "Exchange Rate USD Buy-30                   0.361731\n",
       "Selic-30                                   0.196078\n",
       "Bovespa index-30                           0.583165\n",
       "Foreign exchange operations balance-30    10.223273\n",
       "Nasdaq index-30                            0.340875\n",
       "Bovespa total volume-30                    2.248923\n",
       "International Reserves-30                  0.114362\n",
       "dtype: float64"
      ]
     },
     "execution_count": 192,
     "metadata": {},
     "output_type": "execute_result"
    }
   ],
   "source": [
    "# outlier detection\n",
    "# vectorized\n",
    "# calculate step = (q3-q1*1.5)\n",
    "\n",
    "df.quantile(.5)\n",
    "(df.quantile(.75) - df.quantile(.25))*5\n",
    "\n",
    "# don't remove outliers for now. come back to this point later"
   ]
  },
  {
   "cell_type": "code",
   "execution_count": null,
   "metadata": {
    "collapsed": true
   },
   "outputs": [],
   "source": [
    "# okay, I've got a all this data - is a lot - I need to drop the original columns, they are irrelevant. \n",
    "# drop or scale. I will drop for now"
   ]
  },
  {
   "cell_type": "code",
   "execution_count": 94,
   "metadata": {
    "collapsed": false
   },
   "outputs": [
    {
     "name": "stdout",
     "output_type": "stream",
     "text": [
      "Open\n",
      "High\n",
      "Low\n",
      "Close\n",
      "Volume\n",
      "Adj Close\n",
      "Bovespa total volume\n",
      "Foreign exchange operations balance\n",
      "BM&F Gold gramme\n",
      "Bovespa index\n",
      "Exchange Rate USD Buy\n",
      "Dow Jones index\n",
      "International Reserves\n",
      "Selic\n",
      "Exchange Rate USD Sell\n",
      "Nasdaq index\n"
     ]
    }
   ],
   "source": [
    "for a,b in new_row.items():\n",
    "    print(a)"
   ]
  },
  {
   "cell_type": "code",
   "execution_count": null,
   "metadata": {
    "collapsed": true
   },
   "outputs": [],
   "source": []
  },
  {
   "cell_type": "code",
   "execution_count": 112,
   "metadata": {
    "collapsed": false
   },
   "outputs": [],
   "source": [
    "#testing\n",
    "#inspection_cols = ['Open', 'High', 'Low']\n",
    "#cols = list(inspection_cols) + \\\n",
    "#        list(map(lambda x: \"{}-{}\".format(x,1), inspection_cols)) + \\\n",
    "#        list(map(lambda x: \"{}-{}\".format(x,2), inspection_cols))"
   ]
  },
  {
   "cell_type": "code",
   "execution_count": 12,
   "metadata": {
    "collapsed": false
   },
   "outputs": [],
   "source": [
    "# will run forever. this will not work\n",
    "def create_features(df, base = 7):\n",
    "    \"\"\" - Get a basis, X days before, and calculate all the other variables on that basis\n",
    "        - Lookup_idx calculation: will look to 7 days before, including this one.\n",
    "            7 - (7-1) = 7 - 6 = 1\n",
    "            7 - (7-2) = 7 - 5 = 2\n",
    "            ...\n",
    "            7 - (7-7) = 7 -0 = 7  \n",
    "            \n",
    "        - Should not return n/as\n",
    "    \"\"\"\n",
    "    for idx, row in enumerate(df.iterrows()):\n",
    "        if idx>=base:\n",
    "            base_row = df.iloc[idx-base, :]\n",
    "            for n in range(1,base+1):\n",
    "                lookup_idx = idx-(base-n)\n",
    "                new_row = df.iloc[lookup_idx, :] / base_row\n",
    "                for col, value in new_row.items():\n",
    "                    df.ix[idx, col+\"-\"+str(n)] = value\n",
    "    return df\n"
   ]
  },
  {
   "cell_type": "code",
   "execution_count": 180,
   "metadata": {
    "collapsed": true
   },
   "outputs": [
    {
     "name": "stdout",
     "output_type": "stream",
     "text": [
      "Data points considered outliers for the feature 'Open-1':\n"
     ]
    },
    {
     "data": {
      "text/plain": [
       "(77, 480)"
      ]
     },
     "metadata": {},
     "output_type": "display_data"
    },
    {
     "name": "stdout",
     "output_type": "stream",
     "text": [
      "Data points considered outliers for the feature 'High-1':\n"
     ]
    },
    {
     "data": {
      "text/plain": [
       "(127, 480)"
      ]
     },
     "metadata": {},
     "output_type": "display_data"
    },
    {
     "name": "stdout",
     "output_type": "stream",
     "text": [
      "Data points considered outliers for the feature 'Low-1':\n"
     ]
    },
    {
     "data": {
      "text/plain": [
       "(93, 480)"
      ]
     },
     "metadata": {},
     "output_type": "display_data"
    },
    {
     "name": "stdout",
     "output_type": "stream",
     "text": [
      "Data points considered outliers for the feature 'Close-1':\n"
     ]
    },
    {
     "data": {
      "text/plain": [
       "(95, 480)"
      ]
     },
     "metadata": {},
     "output_type": "display_data"
    },
    {
     "name": "stdout",
     "output_type": "stream",
     "text": [
      "Data points considered outliers for the feature 'Volume-1':\n"
     ]
    },
    {
     "data": {
      "text/plain": [
       "(63, 480)"
      ]
     },
     "metadata": {},
     "output_type": "display_data"
    },
    {
     "name": "stdout",
     "output_type": "stream",
     "text": [
      "Data points considered outliers for the feature 'Adj Close-1':\n"
     ]
    },
    {
     "data": {
      "text/plain": [
       "(94, 480)"
      ]
     },
     "metadata": {},
     "output_type": "display_data"
    },
    {
     "name": "stdout",
     "output_type": "stream",
     "text": [
      "Data points considered outliers for the feature 'Dow Jones index-1':\n"
     ]
    },
    {
     "data": {
      "text/plain": [
       "(131, 480)"
      ]
     },
     "metadata": {},
     "output_type": "display_data"
    },
    {
     "name": "stdout",
     "output_type": "stream",
     "text": [
      "Data points considered outliers for the feature 'Exchange Rate USD Sell-1':\n"
     ]
    },
    {
     "data": {
      "text/plain": [
       "(94, 480)"
      ]
     },
     "metadata": {},
     "output_type": "display_data"
    },
    {
     "name": "stdout",
     "output_type": "stream",
     "text": [
      "Data points considered outliers for the feature 'BM&F Gold gramme-1':\n"
     ]
    },
    {
     "data": {
      "text/plain": [
       "(60, 480)"
      ]
     },
     "metadata": {},
     "output_type": "display_data"
    },
    {
     "name": "stdout",
     "output_type": "stream",
     "text": [
      "Data points considered outliers for the feature 'Exchange Rate USD Buy-1':\n"
     ]
    },
    {
     "data": {
      "text/plain": [
       "(96, 480)"
      ]
     },
     "metadata": {},
     "output_type": "display_data"
    },
    {
     "name": "stdout",
     "output_type": "stream",
     "text": [
      "Data points considered outliers for the feature 'Selic-1':\n"
     ]
    },
    {
     "data": {
      "text/plain": [
       "(38, 480)"
      ]
     },
     "metadata": {},
     "output_type": "display_data"
    },
    {
     "name": "stdout",
     "output_type": "stream",
     "text": [
      "Data points considered outliers for the feature 'Bovespa index-1':\n"
     ]
    },
    {
     "data": {
      "text/plain": [
       "(62, 480)"
      ]
     },
     "metadata": {},
     "output_type": "display_data"
    },
    {
     "name": "stdout",
     "output_type": "stream",
     "text": [
      "Data points considered outliers for the feature 'Foreign exchange operations balance-1':\n"
     ]
    },
    {
     "data": {
      "text/plain": [
       "(255, 480)"
      ]
     },
     "metadata": {},
     "output_type": "display_data"
    },
    {
     "name": "stdout",
     "output_type": "stream",
     "text": [
      "Data points considered outliers for the feature 'Nasdaq index-1':\n"
     ]
    },
    {
     "data": {
      "text/plain": [
       "(130, 480)"
      ]
     },
     "metadata": {},
     "output_type": "display_data"
    },
    {
     "name": "stdout",
     "output_type": "stream",
     "text": [
      "Data points considered outliers for the feature 'Bovespa total volume-1':\n"
     ]
    },
    {
     "data": {
      "text/plain": [
       "(95, 480)"
      ]
     },
     "metadata": {},
     "output_type": "display_data"
    },
    {
     "name": "stdout",
     "output_type": "stream",
     "text": [
      "Data points considered outliers for the feature 'International Reserves-1':\n"
     ]
    },
    {
     "data": {
      "text/plain": [
       "(158, 480)"
      ]
     },
     "metadata": {},
     "output_type": "display_data"
    },
    {
     "name": "stdout",
     "output_type": "stream",
     "text": [
      "Data points considered outliers for the feature 'Open-2':\n"
     ]
    },
    {
     "data": {
      "text/plain": [
       "(76, 480)"
      ]
     },
     "metadata": {},
     "output_type": "display_data"
    },
    {
     "name": "stdout",
     "output_type": "stream",
     "text": [
      "Data points considered outliers for the feature 'High-2':\n"
     ]
    },
    {
     "data": {
      "text/plain": [
       "(79, 480)"
      ]
     },
     "metadata": {},
     "output_type": "display_data"
    },
    {
     "name": "stdout",
     "output_type": "stream",
     "text": [
      "Data points considered outliers for the feature 'Low-2':\n"
     ]
    },
    {
     "data": {
      "text/plain": [
       "(77, 480)"
      ]
     },
     "metadata": {},
     "output_type": "display_data"
    },
    {
     "name": "stdout",
     "output_type": "stream",
     "text": [
      "Data points considered outliers for the feature 'Close-2':\n"
     ]
    },
    {
     "data": {
      "text/plain": [
       "(105, 480)"
      ]
     },
     "metadata": {},
     "output_type": "display_data"
    },
    {
     "name": "stdout",
     "output_type": "stream",
     "text": [
      "Data points considered outliers for the feature 'Volume-2':\n"
     ]
    },
    {
     "data": {
      "text/plain": [
       "(69, 480)"
      ]
     },
     "metadata": {},
     "output_type": "display_data"
    },
    {
     "name": "stdout",
     "output_type": "stream",
     "text": [
      "Data points considered outliers for the feature 'Adj Close-2':\n"
     ]
    },
    {
     "data": {
      "text/plain": [
       "(105, 480)"
      ]
     },
     "metadata": {},
     "output_type": "display_data"
    },
    {
     "name": "stdout",
     "output_type": "stream",
     "text": [
      "Data points considered outliers for the feature 'Dow Jones index-2':\n"
     ]
    },
    {
     "data": {
      "text/plain": [
       "(108, 480)"
      ]
     },
     "metadata": {},
     "output_type": "display_data"
    },
    {
     "name": "stdout",
     "output_type": "stream",
     "text": [
      "Data points considered outliers for the feature 'Exchange Rate USD Sell-2':\n"
     ]
    },
    {
     "data": {
      "text/plain": [
       "(82, 480)"
      ]
     },
     "metadata": {},
     "output_type": "display_data"
    },
    {
     "name": "stdout",
     "output_type": "stream",
     "text": [
      "Data points considered outliers for the feature 'BM&F Gold gramme-2':\n"
     ]
    },
    {
     "data": {
      "text/plain": [
       "(68, 480)"
      ]
     },
     "metadata": {},
     "output_type": "display_data"
    },
    {
     "name": "stdout",
     "output_type": "stream",
     "text": [
      "Data points considered outliers for the feature 'Exchange Rate USD Buy-2':\n"
     ]
    },
    {
     "data": {
      "text/plain": [
       "(82, 480)"
      ]
     },
     "metadata": {},
     "output_type": "display_data"
    },
    {
     "name": "stdout",
     "output_type": "stream",
     "text": [
      "Data points considered outliers for the feature 'Selic-2':\n"
     ]
    },
    {
     "data": {
      "text/plain": [
       "(76, 480)"
      ]
     },
     "metadata": {},
     "output_type": "display_data"
    },
    {
     "name": "stdout",
     "output_type": "stream",
     "text": [
      "Data points considered outliers for the feature 'Bovespa index-2':\n"
     ]
    },
    {
     "data": {
      "text/plain": [
       "(50, 480)"
      ]
     },
     "metadata": {},
     "output_type": "display_data"
    },
    {
     "name": "stdout",
     "output_type": "stream",
     "text": [
      "Data points considered outliers for the feature 'Foreign exchange operations balance-2':\n"
     ]
    },
    {
     "data": {
      "text/plain": [
       "(294, 480)"
      ]
     },
     "metadata": {},
     "output_type": "display_data"
    },
    {
     "name": "stdout",
     "output_type": "stream",
     "text": [
      "Data points considered outliers for the feature 'Nasdaq index-2':\n"
     ]
    },
    {
     "data": {
      "text/plain": [
       "(100, 480)"
      ]
     },
     "metadata": {},
     "output_type": "display_data"
    },
    {
     "name": "stdout",
     "output_type": "stream",
     "text": [
      "Data points considered outliers for the feature 'Bovespa total volume-2':\n"
     ]
    },
    {
     "data": {
      "text/plain": [
       "(88, 480)"
      ]
     },
     "metadata": {},
     "output_type": "display_data"
    },
    {
     "name": "stdout",
     "output_type": "stream",
     "text": [
      "Data points considered outliers for the feature 'International Reserves-2':\n"
     ]
    },
    {
     "data": {
      "text/plain": [
       "(137, 480)"
      ]
     },
     "metadata": {},
     "output_type": "display_data"
    },
    {
     "name": "stdout",
     "output_type": "stream",
     "text": [
      "Data points considered outliers for the feature 'Open-3':\n"
     ]
    },
    {
     "data": {
      "text/plain": [
       "(78, 480)"
      ]
     },
     "metadata": {},
     "output_type": "display_data"
    },
    {
     "name": "stdout",
     "output_type": "stream",
     "text": [
      "Data points considered outliers for the feature 'High-3':\n"
     ]
    },
    {
     "data": {
      "text/plain": [
       "(99, 480)"
      ]
     },
     "metadata": {},
     "output_type": "display_data"
    },
    {
     "name": "stdout",
     "output_type": "stream",
     "text": [
      "Data points considered outliers for the feature 'Low-3':\n"
     ]
    },
    {
     "data": {
      "text/plain": [
       "(75, 480)"
      ]
     },
     "metadata": {},
     "output_type": "display_data"
    },
    {
     "name": "stdout",
     "output_type": "stream",
     "text": [
      "Data points considered outliers for the feature 'Close-3':\n"
     ]
    },
    {
     "data": {
      "text/plain": [
       "(81, 480)"
      ]
     },
     "metadata": {},
     "output_type": "display_data"
    },
    {
     "name": "stdout",
     "output_type": "stream",
     "text": [
      "Data points considered outliers for the feature 'Volume-3':\n"
     ]
    },
    {
     "data": {
      "text/plain": [
       "(64, 480)"
      ]
     },
     "metadata": {},
     "output_type": "display_data"
    },
    {
     "name": "stdout",
     "output_type": "stream",
     "text": [
      "Data points considered outliers for the feature 'Adj Close-3':\n"
     ]
    },
    {
     "data": {
      "text/plain": [
       "(78, 480)"
      ]
     },
     "metadata": {},
     "output_type": "display_data"
    },
    {
     "name": "stdout",
     "output_type": "stream",
     "text": [
      "Data points considered outliers for the feature 'Dow Jones index-3':\n"
     ]
    },
    {
     "data": {
      "text/plain": [
       "(100, 480)"
      ]
     },
     "metadata": {},
     "output_type": "display_data"
    },
    {
     "name": "stdout",
     "output_type": "stream",
     "text": [
      "Data points considered outliers for the feature 'Exchange Rate USD Sell-3':\n"
     ]
    },
    {
     "data": {
      "text/plain": [
       "(80, 480)"
      ]
     },
     "metadata": {},
     "output_type": "display_data"
    },
    {
     "name": "stdout",
     "output_type": "stream",
     "text": [
      "Data points considered outliers for the feature 'BM&F Gold gramme-3':\n"
     ]
    },
    {
     "data": {
      "text/plain": [
       "(64, 480)"
      ]
     },
     "metadata": {},
     "output_type": "display_data"
    },
    {
     "name": "stdout",
     "output_type": "stream",
     "text": [
      "Data points considered outliers for the feature 'Exchange Rate USD Buy-3':\n"
     ]
    },
    {
     "data": {
      "text/plain": [
       "(80, 480)"
      ]
     },
     "metadata": {},
     "output_type": "display_data"
    },
    {
     "name": "stdout",
     "output_type": "stream",
     "text": [
      "Data points considered outliers for the feature 'Selic-3':\n"
     ]
    },
    {
     "data": {
      "text/plain": [
       "(114, 480)"
      ]
     },
     "metadata": {},
     "output_type": "display_data"
    },
    {
     "name": "stdout",
     "output_type": "stream",
     "text": [
      "Data points considered outliers for the feature 'Bovespa index-3':\n"
     ]
    },
    {
     "data": {
      "text/plain": [
       "(46, 480)"
      ]
     },
     "metadata": {},
     "output_type": "display_data"
    },
    {
     "name": "stdout",
     "output_type": "stream",
     "text": [
      "Data points considered outliers for the feature 'Foreign exchange operations balance-3':\n"
     ]
    },
    {
     "data": {
      "text/plain": [
       "(286, 480)"
      ]
     },
     "metadata": {},
     "output_type": "display_data"
    },
    {
     "name": "stdout",
     "output_type": "stream",
     "text": [
      "Data points considered outliers for the feature 'Nasdaq index-3':\n"
     ]
    },
    {
     "data": {
      "text/plain": [
       "(76, 480)"
      ]
     },
     "metadata": {},
     "output_type": "display_data"
    },
    {
     "name": "stdout",
     "output_type": "stream",
     "text": [
      "Data points considered outliers for the feature 'Bovespa total volume-3':\n"
     ]
    },
    {
     "data": {
      "text/plain": [
       "(76, 480)"
      ]
     },
     "metadata": {},
     "output_type": "display_data"
    },
    {
     "name": "stdout",
     "output_type": "stream",
     "text": [
      "Data points considered outliers for the feature 'International Reserves-3':\n"
     ]
    },
    {
     "data": {
      "text/plain": [
       "(115, 480)"
      ]
     },
     "metadata": {},
     "output_type": "display_data"
    },
    {
     "name": "stdout",
     "output_type": "stream",
     "text": [
      "Data points considered outliers for the feature 'Open-4':\n"
     ]
    },
    {
     "data": {
      "text/plain": [
       "(85, 480)"
      ]
     },
     "metadata": {},
     "output_type": "display_data"
    },
    {
     "name": "stdout",
     "output_type": "stream",
     "text": [
      "Data points considered outliers for the feature 'High-4':\n"
     ]
    },
    {
     "data": {
      "text/plain": [
       "(100, 480)"
      ]
     },
     "metadata": {},
     "output_type": "display_data"
    },
    {
     "name": "stdout",
     "output_type": "stream",
     "text": [
      "Data points considered outliers for the feature 'Low-4':\n"
     ]
    },
    {
     "data": {
      "text/plain": [
       "(70, 480)"
      ]
     },
     "metadata": {},
     "output_type": "display_data"
    },
    {
     "name": "stdout",
     "output_type": "stream",
     "text": [
      "Data points considered outliers for the feature 'Close-4':\n"
     ]
    },
    {
     "data": {
      "text/plain": [
       "(82, 480)"
      ]
     },
     "metadata": {},
     "output_type": "display_data"
    },
    {
     "name": "stdout",
     "output_type": "stream",
     "text": [
      "Data points considered outliers for the feature 'Volume-4':\n"
     ]
    },
    {
     "data": {
      "text/plain": [
       "(65, 480)"
      ]
     },
     "metadata": {},
     "output_type": "display_data"
    },
    {
     "name": "stdout",
     "output_type": "stream",
     "text": [
      "Data points considered outliers for the feature 'Adj Close-4':\n"
     ]
    },
    {
     "data": {
      "text/plain": [
       "(82, 480)"
      ]
     },
     "metadata": {},
     "output_type": "display_data"
    },
    {
     "name": "stdout",
     "output_type": "stream",
     "text": [
      "Data points considered outliers for the feature 'Dow Jones index-4':\n"
     ]
    },
    {
     "data": {
      "text/plain": [
       "(96, 480)"
      ]
     },
     "metadata": {},
     "output_type": "display_data"
    },
    {
     "name": "stdout",
     "output_type": "stream",
     "text": [
      "Data points considered outliers for the feature 'Exchange Rate USD Sell-4':\n"
     ]
    },
    {
     "data": {
      "text/plain": [
       "(68, 480)"
      ]
     },
     "metadata": {},
     "output_type": "display_data"
    },
    {
     "name": "stdout",
     "output_type": "stream",
     "text": [
      "Data points considered outliers for the feature 'BM&F Gold gramme-4':\n"
     ]
    },
    {
     "data": {
      "text/plain": [
       "(64, 480)"
      ]
     },
     "metadata": {},
     "output_type": "display_data"
    },
    {
     "name": "stdout",
     "output_type": "stream",
     "text": [
      "Data points considered outliers for the feature 'Exchange Rate USD Buy-4':\n"
     ]
    },
    {
     "data": {
      "text/plain": [
       "(68, 480)"
      ]
     },
     "metadata": {},
     "output_type": "display_data"
    },
    {
     "name": "stdout",
     "output_type": "stream",
     "text": [
      "Data points considered outliers for the feature 'Selic-4':\n"
     ]
    },
    {
     "data": {
      "text/plain": [
       "(152, 480)"
      ]
     },
     "metadata": {},
     "output_type": "display_data"
    },
    {
     "name": "stdout",
     "output_type": "stream",
     "text": [
      "Data points considered outliers for the feature 'Bovespa index-4':\n"
     ]
    },
    {
     "data": {
      "text/plain": [
       "(43, 480)"
      ]
     },
     "metadata": {},
     "output_type": "display_data"
    },
    {
     "name": "stdout",
     "output_type": "stream",
     "text": [
      "Data points considered outliers for the feature 'Foreign exchange operations balance-4':\n"
     ]
    },
    {
     "data": {
      "text/plain": [
       "(257, 480)"
      ]
     },
     "metadata": {},
     "output_type": "display_data"
    },
    {
     "name": "stdout",
     "output_type": "stream",
     "text": [
      "Data points considered outliers for the feature 'Nasdaq index-4':\n"
     ]
    },
    {
     "data": {
      "text/plain": [
       "(81, 480)"
      ]
     },
     "metadata": {},
     "output_type": "display_data"
    },
    {
     "name": "stdout",
     "output_type": "stream",
     "text": [
      "Data points considered outliers for the feature 'Bovespa total volume-4':\n"
     ]
    },
    {
     "data": {
      "text/plain": [
       "(85, 480)"
      ]
     },
     "metadata": {},
     "output_type": "display_data"
    },
    {
     "name": "stdout",
     "output_type": "stream",
     "text": [
      "Data points considered outliers for the feature 'International Reserves-4':\n"
     ]
    },
    {
     "data": {
      "text/plain": [
       "(124, 480)"
      ]
     },
     "metadata": {},
     "output_type": "display_data"
    },
    {
     "name": "stdout",
     "output_type": "stream",
     "text": [
      "Data points considered outliers for the feature 'Open-5':\n"
     ]
    },
    {
     "data": {
      "text/plain": [
       "(77, 480)"
      ]
     },
     "metadata": {},
     "output_type": "display_data"
    },
    {
     "name": "stdout",
     "output_type": "stream",
     "text": [
      "Data points considered outliers for the feature 'High-5':\n"
     ]
    },
    {
     "data": {
      "text/plain": [
       "(95, 480)"
      ]
     },
     "metadata": {},
     "output_type": "display_data"
    },
    {
     "name": "stdout",
     "output_type": "stream",
     "text": [
      "Data points considered outliers for the feature 'Low-5':\n"
     ]
    },
    {
     "data": {
      "text/plain": [
       "(68, 480)"
      ]
     },
     "metadata": {},
     "output_type": "display_data"
    },
    {
     "name": "stdout",
     "output_type": "stream",
     "text": [
      "Data points considered outliers for the feature 'Close-5':\n"
     ]
    },
    {
     "data": {
      "text/plain": [
       "(70, 480)"
      ]
     },
     "metadata": {},
     "output_type": "display_data"
    },
    {
     "name": "stdout",
     "output_type": "stream",
     "text": [
      "Data points considered outliers for the feature 'Volume-5':\n"
     ]
    },
    {
     "data": {
      "text/plain": [
       "(70, 480)"
      ]
     },
     "metadata": {},
     "output_type": "display_data"
    },
    {
     "name": "stdout",
     "output_type": "stream",
     "text": [
      "Data points considered outliers for the feature 'Adj Close-5':\n"
     ]
    },
    {
     "data": {
      "text/plain": [
       "(71, 480)"
      ]
     },
     "metadata": {},
     "output_type": "display_data"
    },
    {
     "name": "stdout",
     "output_type": "stream",
     "text": [
      "Data points considered outliers for the feature 'Dow Jones index-5':\n"
     ]
    },
    {
     "data": {
      "text/plain": [
       "(89, 480)"
      ]
     },
     "metadata": {},
     "output_type": "display_data"
    },
    {
     "name": "stdout",
     "output_type": "stream",
     "text": [
      "Data points considered outliers for the feature 'Exchange Rate USD Sell-5':\n"
     ]
    },
    {
     "data": {
      "text/plain": [
       "(67, 480)"
      ]
     },
     "metadata": {},
     "output_type": "display_data"
    },
    {
     "name": "stdout",
     "output_type": "stream",
     "text": [
      "Data points considered outliers for the feature 'BM&F Gold gramme-5':\n"
     ]
    },
    {
     "data": {
      "text/plain": [
       "(59, 480)"
      ]
     },
     "metadata": {},
     "output_type": "display_data"
    },
    {
     "name": "stdout",
     "output_type": "stream",
     "text": [
      "Data points considered outliers for the feature 'Exchange Rate USD Buy-5':\n"
     ]
    },
    {
     "data": {
      "text/plain": [
       "(67, 480)"
      ]
     },
     "metadata": {},
     "output_type": "display_data"
    },
    {
     "name": "stdout",
     "output_type": "stream",
     "text": [
      "Data points considered outliers for the feature 'Selic-5':\n"
     ]
    },
    {
     "data": {
      "text/plain": [
       "(190, 480)"
      ]
     },
     "metadata": {},
     "output_type": "display_data"
    },
    {
     "name": "stdout",
     "output_type": "stream",
     "text": [
      "Data points considered outliers for the feature 'Bovespa index-5':\n"
     ]
    },
    {
     "data": {
      "text/plain": [
       "(29, 480)"
      ]
     },
     "metadata": {},
     "output_type": "display_data"
    },
    {
     "name": "stdout",
     "output_type": "stream",
     "text": [
      "Data points considered outliers for the feature 'Foreign exchange operations balance-5':\n"
     ]
    },
    {
     "data": {
      "text/plain": [
       "(251, 480)"
      ]
     },
     "metadata": {},
     "output_type": "display_data"
    },
    {
     "name": "stdout",
     "output_type": "stream",
     "text": [
      "Data points considered outliers for the feature 'Nasdaq index-5':\n"
     ]
    },
    {
     "data": {
      "text/plain": [
       "(71, 480)"
      ]
     },
     "metadata": {},
     "output_type": "display_data"
    },
    {
     "name": "stdout",
     "output_type": "stream",
     "text": [
      "Data points considered outliers for the feature 'Bovespa total volume-5':\n"
     ]
    },
    {
     "data": {
      "text/plain": [
       "(83, 480)"
      ]
     },
     "metadata": {},
     "output_type": "display_data"
    },
    {
     "name": "stdout",
     "output_type": "stream",
     "text": [
      "Data points considered outliers for the feature 'International Reserves-5':\n"
     ]
    },
    {
     "data": {
      "text/plain": [
       "(117, 480)"
      ]
     },
     "metadata": {},
     "output_type": "display_data"
    },
    {
     "name": "stdout",
     "output_type": "stream",
     "text": [
      "Data points considered outliers for the feature 'Open-6':\n"
     ]
    },
    {
     "data": {
      "text/plain": [
       "(71, 480)"
      ]
     },
     "metadata": {},
     "output_type": "display_data"
    },
    {
     "name": "stdout",
     "output_type": "stream",
     "text": [
      "Data points considered outliers for the feature 'High-6':\n"
     ]
    },
    {
     "data": {
      "text/plain": [
       "(76, 480)"
      ]
     },
     "metadata": {},
     "output_type": "display_data"
    },
    {
     "name": "stdout",
     "output_type": "stream",
     "text": [
      "Data points considered outliers for the feature 'Low-6':\n"
     ]
    },
    {
     "data": {
      "text/plain": [
       "(62, 480)"
      ]
     },
     "metadata": {},
     "output_type": "display_data"
    },
    {
     "name": "stdout",
     "output_type": "stream",
     "text": [
      "Data points considered outliers for the feature 'Close-6':\n"
     ]
    },
    {
     "data": {
      "text/plain": [
       "(67, 480)"
      ]
     },
     "metadata": {},
     "output_type": "display_data"
    },
    {
     "name": "stdout",
     "output_type": "stream",
     "text": [
      "Data points considered outliers for the feature 'Volume-6':\n"
     ]
    },
    {
     "data": {
      "text/plain": [
       "(69, 480)"
      ]
     },
     "metadata": {},
     "output_type": "display_data"
    },
    {
     "name": "stdout",
     "output_type": "stream",
     "text": [
      "Data points considered outliers for the feature 'Adj Close-6':\n"
     ]
    },
    {
     "data": {
      "text/plain": [
       "(67, 480)"
      ]
     },
     "metadata": {},
     "output_type": "display_data"
    },
    {
     "name": "stdout",
     "output_type": "stream",
     "text": [
      "Data points considered outliers for the feature 'Dow Jones index-6':\n"
     ]
    },
    {
     "data": {
      "text/plain": [
       "(90, 480)"
      ]
     },
     "metadata": {},
     "output_type": "display_data"
    },
    {
     "name": "stdout",
     "output_type": "stream",
     "text": [
      "Data points considered outliers for the feature 'Exchange Rate USD Sell-6':\n"
     ]
    },
    {
     "data": {
      "text/plain": [
       "(68, 480)"
      ]
     },
     "metadata": {},
     "output_type": "display_data"
    },
    {
     "name": "stdout",
     "output_type": "stream",
     "text": [
      "Data points considered outliers for the feature 'BM&F Gold gramme-6':\n"
     ]
    },
    {
     "data": {
      "text/plain": [
       "(58, 480)"
      ]
     },
     "metadata": {},
     "output_type": "display_data"
    },
    {
     "name": "stdout",
     "output_type": "stream",
     "text": [
      "Data points considered outliers for the feature 'Exchange Rate USD Buy-6':\n"
     ]
    },
    {
     "data": {
      "text/plain": [
       "(68, 480)"
      ]
     },
     "metadata": {},
     "output_type": "display_data"
    },
    {
     "name": "stdout",
     "output_type": "stream",
     "text": [
      "Data points considered outliers for the feature 'Selic-6':\n"
     ]
    },
    {
     "data": {
      "text/plain": [
       "(228, 480)"
      ]
     },
     "metadata": {},
     "output_type": "display_data"
    },
    {
     "name": "stdout",
     "output_type": "stream",
     "text": [
      "Data points considered outliers for the feature 'Bovespa index-6':\n"
     ]
    },
    {
     "data": {
      "text/plain": [
       "(30, 480)"
      ]
     },
     "metadata": {},
     "output_type": "display_data"
    },
    {
     "name": "stdout",
     "output_type": "stream",
     "text": [
      "Data points considered outliers for the feature 'Foreign exchange operations balance-6':\n"
     ]
    },
    {
     "data": {
      "text/plain": [
       "(271, 480)"
      ]
     },
     "metadata": {},
     "output_type": "display_data"
    },
    {
     "name": "stdout",
     "output_type": "stream",
     "text": [
      "Data points considered outliers for the feature 'Nasdaq index-6':\n"
     ]
    },
    {
     "data": {
      "text/plain": [
       "(74, 480)"
      ]
     },
     "metadata": {},
     "output_type": "display_data"
    },
    {
     "name": "stdout",
     "output_type": "stream",
     "text": [
      "Data points considered outliers for the feature 'Bovespa total volume-6':\n"
     ]
    },
    {
     "data": {
      "text/plain": [
       "(77, 480)"
      ]
     },
     "metadata": {},
     "output_type": "display_data"
    },
    {
     "name": "stdout",
     "output_type": "stream",
     "text": [
      "Data points considered outliers for the feature 'International Reserves-6':\n"
     ]
    },
    {
     "data": {
      "text/plain": [
       "(124, 480)"
      ]
     },
     "metadata": {},
     "output_type": "display_data"
    },
    {
     "name": "stdout",
     "output_type": "stream",
     "text": [
      "Data points considered outliers for the feature 'Open-7':\n"
     ]
    },
    {
     "data": {
      "text/plain": [
       "(74, 480)"
      ]
     },
     "metadata": {},
     "output_type": "display_data"
    },
    {
     "name": "stdout",
     "output_type": "stream",
     "text": [
      "Data points considered outliers for the feature 'High-7':\n"
     ]
    },
    {
     "data": {
      "text/plain": [
       "(83, 480)"
      ]
     },
     "metadata": {},
     "output_type": "display_data"
    },
    {
     "name": "stdout",
     "output_type": "stream",
     "text": [
      "Data points considered outliers for the feature 'Low-7':\n"
     ]
    },
    {
     "data": {
      "text/plain": [
       "(64, 480)"
      ]
     },
     "metadata": {},
     "output_type": "display_data"
    },
    {
     "name": "stdout",
     "output_type": "stream",
     "text": [
      "Data points considered outliers for the feature 'Close-7':\n"
     ]
    },
    {
     "data": {
      "text/plain": [
       "(71, 480)"
      ]
     },
     "metadata": {},
     "output_type": "display_data"
    },
    {
     "name": "stdout",
     "output_type": "stream",
     "text": [
      "Data points considered outliers for the feature 'Volume-7':\n"
     ]
    },
    {
     "data": {
      "text/plain": [
       "(73, 480)"
      ]
     },
     "metadata": {},
     "output_type": "display_data"
    },
    {
     "name": "stdout",
     "output_type": "stream",
     "text": [
      "Data points considered outliers for the feature 'Adj Close-7':\n"
     ]
    },
    {
     "data": {
      "text/plain": [
       "(70, 480)"
      ]
     },
     "metadata": {},
     "output_type": "display_data"
    },
    {
     "name": "stdout",
     "output_type": "stream",
     "text": [
      "Data points considered outliers for the feature 'Dow Jones index-7':\n"
     ]
    },
    {
     "data": {
      "text/plain": [
       "(92, 480)"
      ]
     },
     "metadata": {},
     "output_type": "display_data"
    },
    {
     "name": "stdout",
     "output_type": "stream",
     "text": [
      "Data points considered outliers for the feature 'Exchange Rate USD Sell-7':\n"
     ]
    },
    {
     "data": {
      "text/plain": [
       "(67, 480)"
      ]
     },
     "metadata": {},
     "output_type": "display_data"
    },
    {
     "name": "stdout",
     "output_type": "stream",
     "text": [
      "Data points considered outliers for the feature 'BM&F Gold gramme-7':\n"
     ]
    },
    {
     "data": {
      "text/plain": [
       "(59, 480)"
      ]
     },
     "metadata": {},
     "output_type": "display_data"
    },
    {
     "name": "stdout",
     "output_type": "stream",
     "text": [
      "Data points considered outliers for the feature 'Exchange Rate USD Buy-7':\n"
     ]
    },
    {
     "data": {
      "text/plain": [
       "(67, 480)"
      ]
     },
     "metadata": {},
     "output_type": "display_data"
    },
    {
     "name": "stdout",
     "output_type": "stream",
     "text": [
      "Data points considered outliers for the feature 'Selic-7':\n"
     ]
    },
    {
     "data": {
      "text/plain": [
       "(266, 480)"
      ]
     },
     "metadata": {},
     "output_type": "display_data"
    },
    {
     "name": "stdout",
     "output_type": "stream",
     "text": [
      "Data points considered outliers for the feature 'Bovespa index-7':\n"
     ]
    },
    {
     "data": {
      "text/plain": [
       "(27, 480)"
      ]
     },
     "metadata": {},
     "output_type": "display_data"
    },
    {
     "name": "stdout",
     "output_type": "stream",
     "text": [
      "Data points considered outliers for the feature 'Foreign exchange operations balance-7':\n"
     ]
    },
    {
     "data": {
      "text/plain": [
       "(272, 480)"
      ]
     },
     "metadata": {},
     "output_type": "display_data"
    },
    {
     "name": "stdout",
     "output_type": "stream",
     "text": [
      "Data points considered outliers for the feature 'Nasdaq index-7':\n"
     ]
    },
    {
     "data": {
      "text/plain": [
       "(80, 480)"
      ]
     },
     "metadata": {},
     "output_type": "display_data"
    },
    {
     "name": "stdout",
     "output_type": "stream",
     "text": [
      "Data points considered outliers for the feature 'Bovespa total volume-7':\n"
     ]
    },
    {
     "data": {
      "text/plain": [
       "(75, 480)"
      ]
     },
     "metadata": {},
     "output_type": "display_data"
    },
    {
     "name": "stdout",
     "output_type": "stream",
     "text": [
      "Data points considered outliers for the feature 'International Reserves-7':\n"
     ]
    },
    {
     "data": {
      "text/plain": [
       "(121, 480)"
      ]
     },
     "metadata": {},
     "output_type": "display_data"
    },
    {
     "name": "stdout",
     "output_type": "stream",
     "text": [
      "Data points considered outliers for the feature 'Open-8':\n"
     ]
    },
    {
     "data": {
      "text/plain": [
       "(72, 480)"
      ]
     },
     "metadata": {},
     "output_type": "display_data"
    },
    {
     "name": "stdout",
     "output_type": "stream",
     "text": [
      "Data points considered outliers for the feature 'High-8':\n"
     ]
    },
    {
     "data": {
      "text/plain": [
       "(85, 480)"
      ]
     },
     "metadata": {},
     "output_type": "display_data"
    },
    {
     "name": "stdout",
     "output_type": "stream",
     "text": [
      "Data points considered outliers for the feature 'Low-8':\n"
     ]
    },
    {
     "data": {
      "text/plain": [
       "(74, 480)"
      ]
     },
     "metadata": {},
     "output_type": "display_data"
    },
    {
     "name": "stdout",
     "output_type": "stream",
     "text": [
      "Data points considered outliers for the feature 'Close-8':\n"
     ]
    },
    {
     "data": {
      "text/plain": [
       "(70, 480)"
      ]
     },
     "metadata": {},
     "output_type": "display_data"
    },
    {
     "name": "stdout",
     "output_type": "stream",
     "text": [
      "Data points considered outliers for the feature 'Volume-8':\n"
     ]
    },
    {
     "data": {
      "text/plain": [
       "(72, 480)"
      ]
     },
     "metadata": {},
     "output_type": "display_data"
    },
    {
     "name": "stdout",
     "output_type": "stream",
     "text": [
      "Data points considered outliers for the feature 'Adj Close-8':\n"
     ]
    },
    {
     "data": {
      "text/plain": [
       "(70, 480)"
      ]
     },
     "metadata": {},
     "output_type": "display_data"
    },
    {
     "name": "stdout",
     "output_type": "stream",
     "text": [
      "Data points considered outliers for the feature 'Dow Jones index-8':\n"
     ]
    },
    {
     "data": {
      "text/plain": [
       "(82, 480)"
      ]
     },
     "metadata": {},
     "output_type": "display_data"
    },
    {
     "name": "stdout",
     "output_type": "stream",
     "text": [
      "Data points considered outliers for the feature 'Exchange Rate USD Sell-8':\n"
     ]
    },
    {
     "data": {
      "text/plain": [
       "(61, 480)"
      ]
     },
     "metadata": {},
     "output_type": "display_data"
    },
    {
     "name": "stdout",
     "output_type": "stream",
     "text": [
      "Data points considered outliers for the feature 'BM&F Gold gramme-8':\n"
     ]
    },
    {
     "data": {
      "text/plain": [
       "(58, 480)"
      ]
     },
     "metadata": {},
     "output_type": "display_data"
    },
    {
     "name": "stdout",
     "output_type": "stream",
     "text": [
      "Data points considered outliers for the feature 'Exchange Rate USD Buy-8':\n"
     ]
    },
    {
     "data": {
      "text/plain": [
       "(61, 480)"
      ]
     },
     "metadata": {},
     "output_type": "display_data"
    },
    {
     "name": "stdout",
     "output_type": "stream",
     "text": [
      "Data points considered outliers for the feature 'Selic-8':\n"
     ]
    },
    {
     "data": {
      "text/plain": [
       "(304, 480)"
      ]
     },
     "metadata": {},
     "output_type": "display_data"
    },
    {
     "name": "stdout",
     "output_type": "stream",
     "text": [
      "Data points considered outliers for the feature 'Bovespa index-8':\n"
     ]
    },
    {
     "data": {
      "text/plain": [
       "(30, 480)"
      ]
     },
     "metadata": {},
     "output_type": "display_data"
    },
    {
     "name": "stdout",
     "output_type": "stream",
     "text": [
      "Data points considered outliers for the feature 'Foreign exchange operations balance-8':\n"
     ]
    },
    {
     "data": {
      "text/plain": [
       "(297, 480)"
      ]
     },
     "metadata": {},
     "output_type": "display_data"
    },
    {
     "name": "stdout",
     "output_type": "stream",
     "text": [
      "Data points considered outliers for the feature 'Nasdaq index-8':\n"
     ]
    },
    {
     "data": {
      "text/plain": [
       "(78, 480)"
      ]
     },
     "metadata": {},
     "output_type": "display_data"
    },
    {
     "name": "stdout",
     "output_type": "stream",
     "text": [
      "Data points considered outliers for the feature 'Bovespa total volume-8':\n"
     ]
    },
    {
     "data": {
      "text/plain": [
       "(86, 480)"
      ]
     },
     "metadata": {},
     "output_type": "display_data"
    },
    {
     "name": "stdout",
     "output_type": "stream",
     "text": [
      "Data points considered outliers for the feature 'International Reserves-8':\n"
     ]
    },
    {
     "data": {
      "text/plain": [
       "(130, 480)"
      ]
     },
     "metadata": {},
     "output_type": "display_data"
    },
    {
     "name": "stdout",
     "output_type": "stream",
     "text": [
      "Data points considered outliers for the feature 'Open-9':\n"
     ]
    },
    {
     "data": {
      "text/plain": [
       "(75, 480)"
      ]
     },
     "metadata": {},
     "output_type": "display_data"
    },
    {
     "name": "stdout",
     "output_type": "stream",
     "text": [
      "Data points considered outliers for the feature 'High-9':\n"
     ]
    },
    {
     "data": {
      "text/plain": [
       "(71, 480)"
      ]
     },
     "metadata": {},
     "output_type": "display_data"
    },
    {
     "name": "stdout",
     "output_type": "stream",
     "text": [
      "Data points considered outliers for the feature 'Low-9':\n"
     ]
    },
    {
     "data": {
      "text/plain": [
       "(66, 480)"
      ]
     },
     "metadata": {},
     "output_type": "display_data"
    },
    {
     "name": "stdout",
     "output_type": "stream",
     "text": [
      "Data points considered outliers for the feature 'Close-9':\n"
     ]
    },
    {
     "data": {
      "text/plain": [
       "(67, 480)"
      ]
     },
     "metadata": {},
     "output_type": "display_data"
    },
    {
     "name": "stdout",
     "output_type": "stream",
     "text": [
      "Data points considered outliers for the feature 'Volume-9':\n"
     ]
    },
    {
     "data": {
      "text/plain": [
       "(67, 480)"
      ]
     },
     "metadata": {},
     "output_type": "display_data"
    },
    {
     "name": "stdout",
     "output_type": "stream",
     "text": [
      "Data points considered outliers for the feature 'Adj Close-9':\n"
     ]
    },
    {
     "data": {
      "text/plain": [
       "(69, 480)"
      ]
     },
     "metadata": {},
     "output_type": "display_data"
    },
    {
     "name": "stdout",
     "output_type": "stream",
     "text": [
      "Data points considered outliers for the feature 'Dow Jones index-9':\n"
     ]
    },
    {
     "data": {
      "text/plain": [
       "(80, 480)"
      ]
     },
     "metadata": {},
     "output_type": "display_data"
    },
    {
     "name": "stdout",
     "output_type": "stream",
     "text": [
      "Data points considered outliers for the feature 'Exchange Rate USD Sell-9':\n"
     ]
    },
    {
     "data": {
      "text/plain": [
       "(65, 480)"
      ]
     },
     "metadata": {},
     "output_type": "display_data"
    },
    {
     "name": "stdout",
     "output_type": "stream",
     "text": [
      "Data points considered outliers for the feature 'BM&F Gold gramme-9':\n"
     ]
    },
    {
     "data": {
      "text/plain": [
       "(64, 480)"
      ]
     },
     "metadata": {},
     "output_type": "display_data"
    },
    {
     "name": "stdout",
     "output_type": "stream",
     "text": [
      "Data points considered outliers for the feature 'Exchange Rate USD Buy-9':\n"
     ]
    },
    {
     "data": {
      "text/plain": [
       "(65, 480)"
      ]
     },
     "metadata": {},
     "output_type": "display_data"
    },
    {
     "name": "stdout",
     "output_type": "stream",
     "text": [
      "Data points considered outliers for the feature 'Selic-9':\n"
     ]
    },
    {
     "data": {
      "text/plain": [
       "(342, 480)"
      ]
     },
     "metadata": {},
     "output_type": "display_data"
    },
    {
     "name": "stdout",
     "output_type": "stream",
     "text": [
      "Data points considered outliers for the feature 'Bovespa index-9':\n"
     ]
    },
    {
     "data": {
      "text/plain": [
       "(27, 480)"
      ]
     },
     "metadata": {},
     "output_type": "display_data"
    },
    {
     "name": "stdout",
     "output_type": "stream",
     "text": [
      "Data points considered outliers for the feature 'Foreign exchange operations balance-9':\n"
     ]
    },
    {
     "data": {
      "text/plain": [
       "(287, 480)"
      ]
     },
     "metadata": {},
     "output_type": "display_data"
    },
    {
     "name": "stdout",
     "output_type": "stream",
     "text": [
      "Data points considered outliers for the feature 'Nasdaq index-9':\n"
     ]
    },
    {
     "data": {
      "text/plain": [
       "(82, 480)"
      ]
     },
     "metadata": {},
     "output_type": "display_data"
    },
    {
     "name": "stdout",
     "output_type": "stream",
     "text": [
      "Data points considered outliers for the feature 'Bovespa total volume-9':\n"
     ]
    },
    {
     "data": {
      "text/plain": [
       "(89, 480)"
      ]
     },
     "metadata": {},
     "output_type": "display_data"
    },
    {
     "name": "stdout",
     "output_type": "stream",
     "text": [
      "Data points considered outliers for the feature 'International Reserves-9':\n"
     ]
    },
    {
     "data": {
      "text/plain": [
       "(133, 480)"
      ]
     },
     "metadata": {},
     "output_type": "display_data"
    },
    {
     "name": "stdout",
     "output_type": "stream",
     "text": [
      "Data points considered outliers for the feature 'Open-10':\n"
     ]
    },
    {
     "data": {
      "text/plain": [
       "(75, 480)"
      ]
     },
     "metadata": {},
     "output_type": "display_data"
    },
    {
     "name": "stdout",
     "output_type": "stream",
     "text": [
      "Data points considered outliers for the feature 'High-10':\n"
     ]
    },
    {
     "data": {
      "text/plain": [
       "(81, 480)"
      ]
     },
     "metadata": {},
     "output_type": "display_data"
    },
    {
     "name": "stdout",
     "output_type": "stream",
     "text": [
      "Data points considered outliers for the feature 'Low-10':\n"
     ]
    },
    {
     "data": {
      "text/plain": [
       "(72, 480)"
      ]
     },
     "metadata": {},
     "output_type": "display_data"
    },
    {
     "name": "stdout",
     "output_type": "stream",
     "text": [
      "Data points considered outliers for the feature 'Close-10':\n"
     ]
    },
    {
     "data": {
      "text/plain": [
       "(73, 480)"
      ]
     },
     "metadata": {},
     "output_type": "display_data"
    },
    {
     "name": "stdout",
     "output_type": "stream",
     "text": [
      "Data points considered outliers for the feature 'Volume-10':\n"
     ]
    },
    {
     "data": {
      "text/plain": [
       "(89, 480)"
      ]
     },
     "metadata": {},
     "output_type": "display_data"
    },
    {
     "name": "stdout",
     "output_type": "stream",
     "text": [
      "Data points considered outliers for the feature 'Adj Close-10':\n"
     ]
    },
    {
     "data": {
      "text/plain": [
       "(73, 480)"
      ]
     },
     "metadata": {},
     "output_type": "display_data"
    },
    {
     "name": "stdout",
     "output_type": "stream",
     "text": [
      "Data points considered outliers for the feature 'Dow Jones index-10':\n"
     ]
    },
    {
     "data": {
      "text/plain": [
       "(80, 480)"
      ]
     },
     "metadata": {},
     "output_type": "display_data"
    },
    {
     "name": "stdout",
     "output_type": "stream",
     "text": [
      "Data points considered outliers for the feature 'Exchange Rate USD Sell-10':\n"
     ]
    },
    {
     "data": {
      "text/plain": [
       "(65, 480)"
      ]
     },
     "metadata": {},
     "output_type": "display_data"
    },
    {
     "name": "stdout",
     "output_type": "stream",
     "text": [
      "Data points considered outliers for the feature 'BM&F Gold gramme-10':\n"
     ]
    },
    {
     "data": {
      "text/plain": [
       "(65, 480)"
      ]
     },
     "metadata": {},
     "output_type": "display_data"
    },
    {
     "name": "stdout",
     "output_type": "stream",
     "text": [
      "Data points considered outliers for the feature 'Exchange Rate USD Buy-10':\n"
     ]
    },
    {
     "data": {
      "text/plain": [
       "(65, 480)"
      ]
     },
     "metadata": {},
     "output_type": "display_data"
    },
    {
     "name": "stdout",
     "output_type": "stream",
     "text": [
      "Data points considered outliers for the feature 'Selic-10':\n"
     ]
    },
    {
     "data": {
      "text/plain": [
       "(380, 480)"
      ]
     },
     "metadata": {},
     "output_type": "display_data"
    },
    {
     "name": "stdout",
     "output_type": "stream",
     "text": [
      "Data points considered outliers for the feature 'Bovespa index-10':\n"
     ]
    },
    {
     "data": {
      "text/plain": [
       "(26, 480)"
      ]
     },
     "metadata": {},
     "output_type": "display_data"
    },
    {
     "name": "stdout",
     "output_type": "stream",
     "text": [
      "Data points considered outliers for the feature 'Foreign exchange operations balance-10':\n"
     ]
    },
    {
     "data": {
      "text/plain": [
       "(284, 480)"
      ]
     },
     "metadata": {},
     "output_type": "display_data"
    },
    {
     "name": "stdout",
     "output_type": "stream",
     "text": [
      "Data points considered outliers for the feature 'Nasdaq index-10':\n"
     ]
    },
    {
     "data": {
      "text/plain": [
       "(67, 480)"
      ]
     },
     "metadata": {},
     "output_type": "display_data"
    },
    {
     "name": "stdout",
     "output_type": "stream",
     "text": [
      "Data points considered outliers for the feature 'Bovespa total volume-10':\n"
     ]
    },
    {
     "data": {
      "text/plain": [
       "(91, 480)"
      ]
     },
     "metadata": {},
     "output_type": "display_data"
    },
    {
     "name": "stdout",
     "output_type": "stream",
     "text": [
      "Data points considered outliers for the feature 'International Reserves-10':\n"
     ]
    },
    {
     "data": {
      "text/plain": [
       "(134, 480)"
      ]
     },
     "metadata": {},
     "output_type": "display_data"
    },
    {
     "name": "stdout",
     "output_type": "stream",
     "text": [
      "Data points considered outliers for the feature 'Open-11':\n"
     ]
    },
    {
     "data": {
      "text/plain": [
       "(71, 480)"
      ]
     },
     "metadata": {},
     "output_type": "display_data"
    },
    {
     "name": "stdout",
     "output_type": "stream",
     "text": [
      "Data points considered outliers for the feature 'High-11':\n"
     ]
    },
    {
     "data": {
      "text/plain": [
       "(75, 480)"
      ]
     },
     "metadata": {},
     "output_type": "display_data"
    },
    {
     "name": "stdout",
     "output_type": "stream",
     "text": [
      "Data points considered outliers for the feature 'Low-11':\n"
     ]
    },
    {
     "data": {
      "text/plain": [
       "(64, 480)"
      ]
     },
     "metadata": {},
     "output_type": "display_data"
    },
    {
     "name": "stdout",
     "output_type": "stream",
     "text": [
      "Data points considered outliers for the feature 'Close-11':\n"
     ]
    },
    {
     "data": {
      "text/plain": [
       "(69, 480)"
      ]
     },
     "metadata": {},
     "output_type": "display_data"
    },
    {
     "name": "stdout",
     "output_type": "stream",
     "text": [
      "Data points considered outliers for the feature 'Volume-11':\n"
     ]
    },
    {
     "data": {
      "text/plain": [
       "(66, 480)"
      ]
     },
     "metadata": {},
     "output_type": "display_data"
    },
    {
     "name": "stdout",
     "output_type": "stream",
     "text": [
      "Data points considered outliers for the feature 'Adj Close-11':\n"
     ]
    },
    {
     "data": {
      "text/plain": [
       "(72, 480)"
      ]
     },
     "metadata": {},
     "output_type": "display_data"
    },
    {
     "name": "stdout",
     "output_type": "stream",
     "text": [
      "Data points considered outliers for the feature 'Dow Jones index-11':\n"
     ]
    },
    {
     "data": {
      "text/plain": [
       "(80, 480)"
      ]
     },
     "metadata": {},
     "output_type": "display_data"
    },
    {
     "name": "stdout",
     "output_type": "stream",
     "text": [
      "Data points considered outliers for the feature 'Exchange Rate USD Sell-11':\n"
     ]
    },
    {
     "data": {
      "text/plain": [
       "(65, 480)"
      ]
     },
     "metadata": {},
     "output_type": "display_data"
    },
    {
     "name": "stdout",
     "output_type": "stream",
     "text": [
      "Data points considered outliers for the feature 'BM&F Gold gramme-11':\n"
     ]
    },
    {
     "data": {
      "text/plain": [
       "(58, 480)"
      ]
     },
     "metadata": {},
     "output_type": "display_data"
    },
    {
     "name": "stdout",
     "output_type": "stream",
     "text": [
      "Data points considered outliers for the feature 'Exchange Rate USD Buy-11':\n"
     ]
    },
    {
     "data": {
      "text/plain": [
       "(65, 480)"
      ]
     },
     "metadata": {},
     "output_type": "display_data"
    },
    {
     "name": "stdout",
     "output_type": "stream",
     "text": [
      "Data points considered outliers for the feature 'Selic-11':\n"
     ]
    },
    {
     "data": {
      "text/plain": [
       "(418, 480)"
      ]
     },
     "metadata": {},
     "output_type": "display_data"
    },
    {
     "name": "stdout",
     "output_type": "stream",
     "text": [
      "Data points considered outliers for the feature 'Bovespa index-11':\n"
     ]
    },
    {
     "data": {
      "text/plain": [
       "(23, 480)"
      ]
     },
     "metadata": {},
     "output_type": "display_data"
    },
    {
     "name": "stdout",
     "output_type": "stream",
     "text": [
      "Data points considered outliers for the feature 'Foreign exchange operations balance-11':\n"
     ]
    },
    {
     "data": {
      "text/plain": [
       "(256, 480)"
      ]
     },
     "metadata": {},
     "output_type": "display_data"
    },
    {
     "name": "stdout",
     "output_type": "stream",
     "text": [
      "Data points considered outliers for the feature 'Nasdaq index-11':\n"
     ]
    },
    {
     "data": {
      "text/plain": [
       "(73, 480)"
      ]
     },
     "metadata": {},
     "output_type": "display_data"
    },
    {
     "name": "stdout",
     "output_type": "stream",
     "text": [
      "Data points considered outliers for the feature 'Bovespa total volume-11':\n"
     ]
    },
    {
     "data": {
      "text/plain": [
       "(64, 480)"
      ]
     },
     "metadata": {},
     "output_type": "display_data"
    },
    {
     "name": "stdout",
     "output_type": "stream",
     "text": [
      "Data points considered outliers for the feature 'International Reserves-11':\n"
     ]
    },
    {
     "data": {
      "text/plain": [
       "(133, 480)"
      ]
     },
     "metadata": {},
     "output_type": "display_data"
    },
    {
     "name": "stdout",
     "output_type": "stream",
     "text": [
      "Data points considered outliers for the feature 'Open-12':\n"
     ]
    },
    {
     "data": {
      "text/plain": [
       "(62, 480)"
      ]
     },
     "metadata": {},
     "output_type": "display_data"
    },
    {
     "name": "stdout",
     "output_type": "stream",
     "text": [
      "Data points considered outliers for the feature 'High-12':\n"
     ]
    },
    {
     "data": {
      "text/plain": [
       "(70, 480)"
      ]
     },
     "metadata": {},
     "output_type": "display_data"
    },
    {
     "name": "stdout",
     "output_type": "stream",
     "text": [
      "Data points considered outliers for the feature 'Low-12':\n"
     ]
    },
    {
     "data": {
      "text/plain": [
       "(55, 480)"
      ]
     },
     "metadata": {},
     "output_type": "display_data"
    },
    {
     "name": "stdout",
     "output_type": "stream",
     "text": [
      "Data points considered outliers for the feature 'Close-12':\n"
     ]
    },
    {
     "data": {
      "text/plain": [
       "(60, 480)"
      ]
     },
     "metadata": {},
     "output_type": "display_data"
    },
    {
     "name": "stdout",
     "output_type": "stream",
     "text": [
      "Data points considered outliers for the feature 'Volume-12':\n"
     ]
    },
    {
     "data": {
      "text/plain": [
       "(88, 480)"
      ]
     },
     "metadata": {},
     "output_type": "display_data"
    },
    {
     "name": "stdout",
     "output_type": "stream",
     "text": [
      "Data points considered outliers for the feature 'Adj Close-12':\n"
     ]
    },
    {
     "data": {
      "text/plain": [
       "(64, 480)"
      ]
     },
     "metadata": {},
     "output_type": "display_data"
    },
    {
     "name": "stdout",
     "output_type": "stream",
     "text": [
      "Data points considered outliers for the feature 'Dow Jones index-12':\n"
     ]
    },
    {
     "data": {
      "text/plain": [
       "(77, 480)"
      ]
     },
     "metadata": {},
     "output_type": "display_data"
    },
    {
     "name": "stdout",
     "output_type": "stream",
     "text": [
      "Data points considered outliers for the feature 'Exchange Rate USD Sell-12':\n"
     ]
    },
    {
     "data": {
      "text/plain": [
       "(67, 480)"
      ]
     },
     "metadata": {},
     "output_type": "display_data"
    },
    {
     "name": "stdout",
     "output_type": "stream",
     "text": [
      "Data points considered outliers for the feature 'BM&F Gold gramme-12':\n"
     ]
    },
    {
     "data": {
      "text/plain": [
       "(53, 480)"
      ]
     },
     "metadata": {},
     "output_type": "display_data"
    },
    {
     "name": "stdout",
     "output_type": "stream",
     "text": [
      "Data points considered outliers for the feature 'Exchange Rate USD Buy-12':\n"
     ]
    },
    {
     "data": {
      "text/plain": [
       "(67, 480)"
      ]
     },
     "metadata": {},
     "output_type": "display_data"
    },
    {
     "name": "stdout",
     "output_type": "stream",
     "text": [
      "Data points considered outliers for the feature 'Selic-12':\n"
     ]
    },
    {
     "data": {
      "text/plain": [
       "(456, 480)"
      ]
     },
     "metadata": {},
     "output_type": "display_data"
    },
    {
     "name": "stdout",
     "output_type": "stream",
     "text": [
      "Data points considered outliers for the feature 'Bovespa index-12':\n"
     ]
    },
    {
     "data": {
      "text/plain": [
       "(28, 480)"
      ]
     },
     "metadata": {},
     "output_type": "display_data"
    },
    {
     "name": "stdout",
     "output_type": "stream",
     "text": [
      "Data points considered outliers for the feature 'Foreign exchange operations balance-12':\n"
     ]
    },
    {
     "data": {
      "text/plain": [
       "(258, 480)"
      ]
     },
     "metadata": {},
     "output_type": "display_data"
    },
    {
     "name": "stdout",
     "output_type": "stream",
     "text": [
      "Data points considered outliers for the feature 'Nasdaq index-12':\n"
     ]
    },
    {
     "data": {
      "text/plain": [
       "(74, 480)"
      ]
     },
     "metadata": {},
     "output_type": "display_data"
    },
    {
     "name": "stdout",
     "output_type": "stream",
     "text": [
      "Data points considered outliers for the feature 'Bovespa total volume-12':\n"
     ]
    },
    {
     "data": {
      "text/plain": [
       "(73, 480)"
      ]
     },
     "metadata": {},
     "output_type": "display_data"
    },
    {
     "name": "stdout",
     "output_type": "stream",
     "text": [
      "Data points considered outliers for the feature 'International Reserves-12':\n"
     ]
    },
    {
     "data": {
      "text/plain": [
       "(141, 480)"
      ]
     },
     "metadata": {},
     "output_type": "display_data"
    },
    {
     "name": "stdout",
     "output_type": "stream",
     "text": [
      "Data points considered outliers for the feature 'Open-13':\n"
     ]
    },
    {
     "data": {
      "text/plain": [
       "(62, 480)"
      ]
     },
     "metadata": {},
     "output_type": "display_data"
    },
    {
     "name": "stdout",
     "output_type": "stream",
     "text": [
      "Data points considered outliers for the feature 'High-13':\n"
     ]
    },
    {
     "data": {
      "text/plain": [
       "(68, 480)"
      ]
     },
     "metadata": {},
     "output_type": "display_data"
    },
    {
     "name": "stdout",
     "output_type": "stream",
     "text": [
      "Data points considered outliers for the feature 'Low-13':\n"
     ]
    },
    {
     "data": {
      "text/plain": [
       "(59, 480)"
      ]
     },
     "metadata": {},
     "output_type": "display_data"
    },
    {
     "name": "stdout",
     "output_type": "stream",
     "text": [
      "Data points considered outliers for the feature 'Close-13':\n"
     ]
    },
    {
     "data": {
      "text/plain": [
       "(64, 480)"
      ]
     },
     "metadata": {},
     "output_type": "display_data"
    },
    {
     "name": "stdout",
     "output_type": "stream",
     "text": [
      "Data points considered outliers for the feature 'Volume-13':\n"
     ]
    },
    {
     "data": {
      "text/plain": [
       "(63, 480)"
      ]
     },
     "metadata": {},
     "output_type": "display_data"
    },
    {
     "name": "stdout",
     "output_type": "stream",
     "text": [
      "Data points considered outliers for the feature 'Adj Close-13':\n"
     ]
    },
    {
     "data": {
      "text/plain": [
       "(66, 480)"
      ]
     },
     "metadata": {},
     "output_type": "display_data"
    },
    {
     "name": "stdout",
     "output_type": "stream",
     "text": [
      "Data points considered outliers for the feature 'Dow Jones index-13':\n"
     ]
    },
    {
     "data": {
      "text/plain": [
       "(75, 480)"
      ]
     },
     "metadata": {},
     "output_type": "display_data"
    },
    {
     "name": "stdout",
     "output_type": "stream",
     "text": [
      "Data points considered outliers for the feature 'Exchange Rate USD Sell-13':\n"
     ]
    },
    {
     "data": {
      "text/plain": [
       "(68, 480)"
      ]
     },
     "metadata": {},
     "output_type": "display_data"
    },
    {
     "name": "stdout",
     "output_type": "stream",
     "text": [
      "Data points considered outliers for the feature 'BM&F Gold gramme-13':\n"
     ]
    },
    {
     "data": {
      "text/plain": [
       "(53, 480)"
      ]
     },
     "metadata": {},
     "output_type": "display_data"
    },
    {
     "name": "stdout",
     "output_type": "stream",
     "text": [
      "Data points considered outliers for the feature 'Exchange Rate USD Buy-13':\n"
     ]
    },
    {
     "data": {
      "text/plain": [
       "(68, 480)"
      ]
     },
     "metadata": {},
     "output_type": "display_data"
    },
    {
     "name": "stdout",
     "output_type": "stream",
     "text": [
      "Data points considered outliers for the feature 'Selic-13':\n"
     ]
    },
    {
     "data": {
      "text/plain": [
       "(494, 480)"
      ]
     },
     "metadata": {},
     "output_type": "display_data"
    },
    {
     "name": "stdout",
     "output_type": "stream",
     "text": [
      "Data points considered outliers for the feature 'Bovespa index-13':\n"
     ]
    },
    {
     "data": {
      "text/plain": [
       "(29, 480)"
      ]
     },
     "metadata": {},
     "output_type": "display_data"
    },
    {
     "name": "stdout",
     "output_type": "stream",
     "text": [
      "Data points considered outliers for the feature 'Foreign exchange operations balance-13':\n"
     ]
    },
    {
     "data": {
      "text/plain": [
       "(259, 480)"
      ]
     },
     "metadata": {},
     "output_type": "display_data"
    },
    {
     "name": "stdout",
     "output_type": "stream",
     "text": [
      "Data points considered outliers for the feature 'Nasdaq index-13':\n"
     ]
    },
    {
     "data": {
      "text/plain": [
       "(67, 480)"
      ]
     },
     "metadata": {},
     "output_type": "display_data"
    },
    {
     "name": "stdout",
     "output_type": "stream",
     "text": [
      "Data points considered outliers for the feature 'Bovespa total volume-13':\n"
     ]
    },
    {
     "data": {
      "text/plain": [
       "(86, 480)"
      ]
     },
     "metadata": {},
     "output_type": "display_data"
    },
    {
     "name": "stdout",
     "output_type": "stream",
     "text": [
      "Data points considered outliers for the feature 'International Reserves-13':\n"
     ]
    },
    {
     "data": {
      "text/plain": [
       "(149, 480)"
      ]
     },
     "metadata": {},
     "output_type": "display_data"
    },
    {
     "name": "stdout",
     "output_type": "stream",
     "text": [
      "Data points considered outliers for the feature 'Open-14':\n"
     ]
    },
    {
     "data": {
      "text/plain": [
       "(64, 480)"
      ]
     },
     "metadata": {},
     "output_type": "display_data"
    },
    {
     "name": "stdout",
     "output_type": "stream",
     "text": [
      "Data points considered outliers for the feature 'High-14':\n"
     ]
    },
    {
     "data": {
      "text/plain": [
       "(64, 480)"
      ]
     },
     "metadata": {},
     "output_type": "display_data"
    },
    {
     "name": "stdout",
     "output_type": "stream",
     "text": [
      "Data points considered outliers for the feature 'Low-14':\n"
     ]
    },
    {
     "data": {
      "text/plain": [
       "(67, 480)"
      ]
     },
     "metadata": {},
     "output_type": "display_data"
    },
    {
     "name": "stdout",
     "output_type": "stream",
     "text": [
      "Data points considered outliers for the feature 'Close-14':\n"
     ]
    },
    {
     "data": {
      "text/plain": [
       "(65, 480)"
      ]
     },
     "metadata": {},
     "output_type": "display_data"
    },
    {
     "name": "stdout",
     "output_type": "stream",
     "text": [
      "Data points considered outliers for the feature 'Volume-14':\n"
     ]
    },
    {
     "data": {
      "text/plain": [
       "(79, 480)"
      ]
     },
     "metadata": {},
     "output_type": "display_data"
    },
    {
     "name": "stdout",
     "output_type": "stream",
     "text": [
      "Data points considered outliers for the feature 'Adj Close-14':\n"
     ]
    },
    {
     "data": {
      "text/plain": [
       "(64, 480)"
      ]
     },
     "metadata": {},
     "output_type": "display_data"
    },
    {
     "name": "stdout",
     "output_type": "stream",
     "text": [
      "Data points considered outliers for the feature 'Dow Jones index-14':\n"
     ]
    },
    {
     "data": {
      "text/plain": [
       "(81, 480)"
      ]
     },
     "metadata": {},
     "output_type": "display_data"
    },
    {
     "name": "stdout",
     "output_type": "stream",
     "text": [
      "Data points considered outliers for the feature 'Exchange Rate USD Sell-14':\n"
     ]
    },
    {
     "data": {
      "text/plain": [
       "(76, 480)"
      ]
     },
     "metadata": {},
     "output_type": "display_data"
    },
    {
     "name": "stdout",
     "output_type": "stream",
     "text": [
      "Data points considered outliers for the feature 'BM&F Gold gramme-14':\n"
     ]
    },
    {
     "data": {
      "text/plain": [
       "(48, 480)"
      ]
     },
     "metadata": {},
     "output_type": "display_data"
    },
    {
     "name": "stdout",
     "output_type": "stream",
     "text": [
      "Data points considered outliers for the feature 'Exchange Rate USD Buy-14':\n"
     ]
    },
    {
     "data": {
      "text/plain": [
       "(75, 480)"
      ]
     },
     "metadata": {},
     "output_type": "display_data"
    },
    {
     "name": "stdout",
     "output_type": "stream",
     "text": [
      "Data points considered outliers for the feature 'Selic-14':\n"
     ]
    },
    {
     "data": {
      "text/plain": [
       "(532, 480)"
      ]
     },
     "metadata": {},
     "output_type": "display_data"
    },
    {
     "name": "stdout",
     "output_type": "stream",
     "text": [
      "Data points considered outliers for the feature 'Bovespa index-14':\n"
     ]
    },
    {
     "data": {
      "text/plain": [
       "(25, 480)"
      ]
     },
     "metadata": {},
     "output_type": "display_data"
    },
    {
     "name": "stdout",
     "output_type": "stream",
     "text": [
      "Data points considered outliers for the feature 'Foreign exchange operations balance-14':\n"
     ]
    },
    {
     "data": {
      "text/plain": [
       "(267, 480)"
      ]
     },
     "metadata": {},
     "output_type": "display_data"
    },
    {
     "name": "stdout",
     "output_type": "stream",
     "text": [
      "Data points considered outliers for the feature 'Nasdaq index-14':\n"
     ]
    },
    {
     "data": {
      "text/plain": [
       "(68, 480)"
      ]
     },
     "metadata": {},
     "output_type": "display_data"
    },
    {
     "name": "stdout",
     "output_type": "stream",
     "text": [
      "Data points considered outliers for the feature 'Bovespa total volume-14':\n"
     ]
    },
    {
     "data": {
      "text/plain": [
       "(76, 480)"
      ]
     },
     "metadata": {},
     "output_type": "display_data"
    },
    {
     "name": "stdout",
     "output_type": "stream",
     "text": [
      "Data points considered outliers for the feature 'International Reserves-14':\n"
     ]
    },
    {
     "data": {
      "text/plain": [
       "(136, 480)"
      ]
     },
     "metadata": {},
     "output_type": "display_data"
    },
    {
     "name": "stdout",
     "output_type": "stream",
     "text": [
      "Data points considered outliers for the feature 'Open-15':\n"
     ]
    },
    {
     "data": {
      "text/plain": [
       "(64, 480)"
      ]
     },
     "metadata": {},
     "output_type": "display_data"
    },
    {
     "name": "stdout",
     "output_type": "stream",
     "text": [
      "Data points considered outliers for the feature 'High-15':\n"
     ]
    },
    {
     "data": {
      "text/plain": [
       "(61, 480)"
      ]
     },
     "metadata": {},
     "output_type": "display_data"
    },
    {
     "name": "stdout",
     "output_type": "stream",
     "text": [
      "Data points considered outliers for the feature 'Low-15':\n"
     ]
    },
    {
     "data": {
      "text/plain": [
       "(61, 480)"
      ]
     },
     "metadata": {},
     "output_type": "display_data"
    },
    {
     "name": "stdout",
     "output_type": "stream",
     "text": [
      "Data points considered outliers for the feature 'Close-15':\n"
     ]
    },
    {
     "data": {
      "text/plain": [
       "(57, 480)"
      ]
     },
     "metadata": {},
     "output_type": "display_data"
    },
    {
     "name": "stdout",
     "output_type": "stream",
     "text": [
      "Data points considered outliers for the feature 'Volume-15':\n"
     ]
    },
    {
     "data": {
      "text/plain": [
       "(82, 480)"
      ]
     },
     "metadata": {},
     "output_type": "display_data"
    },
    {
     "name": "stdout",
     "output_type": "stream",
     "text": [
      "Data points considered outliers for the feature 'Adj Close-15':\n"
     ]
    },
    {
     "data": {
      "text/plain": [
       "(61, 480)"
      ]
     },
     "metadata": {},
     "output_type": "display_data"
    },
    {
     "name": "stdout",
     "output_type": "stream",
     "text": [
      "Data points considered outliers for the feature 'Dow Jones index-15':\n"
     ]
    },
    {
     "data": {
      "text/plain": [
       "(89, 480)"
      ]
     },
     "metadata": {},
     "output_type": "display_data"
    },
    {
     "name": "stdout",
     "output_type": "stream",
     "text": [
      "Data points considered outliers for the feature 'Exchange Rate USD Sell-15':\n"
     ]
    },
    {
     "data": {
      "text/plain": [
       "(75, 480)"
      ]
     },
     "metadata": {},
     "output_type": "display_data"
    },
    {
     "name": "stdout",
     "output_type": "stream",
     "text": [
      "Data points considered outliers for the feature 'BM&F Gold gramme-15':\n"
     ]
    },
    {
     "data": {
      "text/plain": [
       "(52, 480)"
      ]
     },
     "metadata": {},
     "output_type": "display_data"
    },
    {
     "name": "stdout",
     "output_type": "stream",
     "text": [
      "Data points considered outliers for the feature 'Exchange Rate USD Buy-15':\n"
     ]
    },
    {
     "data": {
      "text/plain": [
       "(75, 480)"
      ]
     },
     "metadata": {},
     "output_type": "display_data"
    },
    {
     "name": "stdout",
     "output_type": "stream",
     "text": [
      "Data points considered outliers for the feature 'Selic-15':\n"
     ]
    },
    {
     "data": {
      "text/plain": [
       "(570, 480)"
      ]
     },
     "metadata": {},
     "output_type": "display_data"
    },
    {
     "name": "stdout",
     "output_type": "stream",
     "text": [
      "Data points considered outliers for the feature 'Bovespa index-15':\n"
     ]
    },
    {
     "data": {
      "text/plain": [
       "(29, 480)"
      ]
     },
     "metadata": {},
     "output_type": "display_data"
    },
    {
     "name": "stdout",
     "output_type": "stream",
     "text": [
      "Data points considered outliers for the feature 'Foreign exchange operations balance-15':\n"
     ]
    },
    {
     "data": {
      "text/plain": [
       "(289, 480)"
      ]
     },
     "metadata": {},
     "output_type": "display_data"
    },
    {
     "name": "stdout",
     "output_type": "stream",
     "text": [
      "Data points considered outliers for the feature 'Nasdaq index-15':\n"
     ]
    },
    {
     "data": {
      "text/plain": [
       "(74, 480)"
      ]
     },
     "metadata": {},
     "output_type": "display_data"
    },
    {
     "name": "stdout",
     "output_type": "stream",
     "text": [
      "Data points considered outliers for the feature 'Bovespa total volume-15':\n"
     ]
    },
    {
     "data": {
      "text/plain": [
       "(96, 480)"
      ]
     },
     "metadata": {},
     "output_type": "display_data"
    },
    {
     "name": "stdout",
     "output_type": "stream",
     "text": [
      "Data points considered outliers for the feature 'International Reserves-15':\n"
     ]
    },
    {
     "data": {
      "text/plain": [
       "(146, 480)"
      ]
     },
     "metadata": {},
     "output_type": "display_data"
    },
    {
     "name": "stdout",
     "output_type": "stream",
     "text": [
      "Data points considered outliers for the feature 'Open-16':\n"
     ]
    },
    {
     "data": {
      "text/plain": [
       "(67, 480)"
      ]
     },
     "metadata": {},
     "output_type": "display_data"
    },
    {
     "name": "stdout",
     "output_type": "stream",
     "text": [
      "Data points considered outliers for the feature 'High-16':\n"
     ]
    },
    {
     "data": {
      "text/plain": [
       "(63, 480)"
      ]
     },
     "metadata": {},
     "output_type": "display_data"
    },
    {
     "name": "stdout",
     "output_type": "stream",
     "text": [
      "Data points considered outliers for the feature 'Low-16':\n"
     ]
    },
    {
     "data": {
      "text/plain": [
       "(63, 480)"
      ]
     },
     "metadata": {},
     "output_type": "display_data"
    },
    {
     "name": "stdout",
     "output_type": "stream",
     "text": [
      "Data points considered outliers for the feature 'Close-16':\n"
     ]
    },
    {
     "data": {
      "text/plain": [
       "(63, 480)"
      ]
     },
     "metadata": {},
     "output_type": "display_data"
    },
    {
     "name": "stdout",
     "output_type": "stream",
     "text": [
      "Data points considered outliers for the feature 'Volume-16':\n"
     ]
    },
    {
     "data": {
      "text/plain": [
       "(72, 480)"
      ]
     },
     "metadata": {},
     "output_type": "display_data"
    },
    {
     "name": "stdout",
     "output_type": "stream",
     "text": [
      "Data points considered outliers for the feature 'Adj Close-16':\n"
     ]
    },
    {
     "data": {
      "text/plain": [
       "(61, 480)"
      ]
     },
     "metadata": {},
     "output_type": "display_data"
    },
    {
     "name": "stdout",
     "output_type": "stream",
     "text": [
      "Data points considered outliers for the feature 'Dow Jones index-16':\n"
     ]
    },
    {
     "data": {
      "text/plain": [
       "(93, 480)"
      ]
     },
     "metadata": {},
     "output_type": "display_data"
    },
    {
     "name": "stdout",
     "output_type": "stream",
     "text": [
      "Data points considered outliers for the feature 'Exchange Rate USD Sell-16':\n"
     ]
    },
    {
     "data": {
      "text/plain": [
       "(78, 480)"
      ]
     },
     "metadata": {},
     "output_type": "display_data"
    },
    {
     "name": "stdout",
     "output_type": "stream",
     "text": [
      "Data points considered outliers for the feature 'BM&F Gold gramme-16':\n"
     ]
    },
    {
     "data": {
      "text/plain": [
       "(49, 480)"
      ]
     },
     "metadata": {},
     "output_type": "display_data"
    },
    {
     "name": "stdout",
     "output_type": "stream",
     "text": [
      "Data points considered outliers for the feature 'Exchange Rate USD Buy-16':\n"
     ]
    },
    {
     "data": {
      "text/plain": [
       "(78, 480)"
      ]
     },
     "metadata": {},
     "output_type": "display_data"
    },
    {
     "name": "stdout",
     "output_type": "stream",
     "text": [
      "Data points considered outliers for the feature 'Selic-16':\n"
     ]
    },
    {
     "data": {
      "text/plain": [
       "(607, 480)"
      ]
     },
     "metadata": {},
     "output_type": "display_data"
    },
    {
     "name": "stdout",
     "output_type": "stream",
     "text": [
      "Data points considered outliers for the feature 'Bovespa index-16':\n"
     ]
    },
    {
     "data": {
      "text/plain": [
       "(26, 480)"
      ]
     },
     "metadata": {},
     "output_type": "display_data"
    },
    {
     "name": "stdout",
     "output_type": "stream",
     "text": [
      "Data points considered outliers for the feature 'Foreign exchange operations balance-16':\n"
     ]
    },
    {
     "data": {
      "text/plain": [
       "(284, 480)"
      ]
     },
     "metadata": {},
     "output_type": "display_data"
    },
    {
     "name": "stdout",
     "output_type": "stream",
     "text": [
      "Data points considered outliers for the feature 'Nasdaq index-16':\n"
     ]
    },
    {
     "data": {
      "text/plain": [
       "(80, 480)"
      ]
     },
     "metadata": {},
     "output_type": "display_data"
    },
    {
     "name": "stdout",
     "output_type": "stream",
     "text": [
      "Data points considered outliers for the feature 'Bovespa total volume-16':\n"
     ]
    },
    {
     "data": {
      "text/plain": [
       "(78, 480)"
      ]
     },
     "metadata": {},
     "output_type": "display_data"
    },
    {
     "name": "stdout",
     "output_type": "stream",
     "text": [
      "Data points considered outliers for the feature 'International Reserves-16':\n"
     ]
    },
    {
     "data": {
      "text/plain": [
       "(158, 480)"
      ]
     },
     "metadata": {},
     "output_type": "display_data"
    },
    {
     "name": "stdout",
     "output_type": "stream",
     "text": [
      "Data points considered outliers for the feature 'Open-17':\n"
     ]
    },
    {
     "data": {
      "text/plain": [
       "(72, 480)"
      ]
     },
     "metadata": {},
     "output_type": "display_data"
    },
    {
     "name": "stdout",
     "output_type": "stream",
     "text": [
      "Data points considered outliers for the feature 'High-17':\n"
     ]
    },
    {
     "data": {
      "text/plain": [
       "(72, 480)"
      ]
     },
     "metadata": {},
     "output_type": "display_data"
    },
    {
     "name": "stdout",
     "output_type": "stream",
     "text": [
      "Data points considered outliers for the feature 'Low-17':\n"
     ]
    },
    {
     "data": {
      "text/plain": [
       "(67, 480)"
      ]
     },
     "metadata": {},
     "output_type": "display_data"
    },
    {
     "name": "stdout",
     "output_type": "stream",
     "text": [
      "Data points considered outliers for the feature 'Close-17':\n"
     ]
    },
    {
     "data": {
      "text/plain": [
       "(68, 480)"
      ]
     },
     "metadata": {},
     "output_type": "display_data"
    },
    {
     "name": "stdout",
     "output_type": "stream",
     "text": [
      "Data points considered outliers for the feature 'Volume-17':\n"
     ]
    },
    {
     "data": {
      "text/plain": [
       "(77, 480)"
      ]
     },
     "metadata": {},
     "output_type": "display_data"
    },
    {
     "name": "stdout",
     "output_type": "stream",
     "text": [
      "Data points considered outliers for the feature 'Adj Close-17':\n"
     ]
    },
    {
     "data": {
      "text/plain": [
       "(74, 480)"
      ]
     },
     "metadata": {},
     "output_type": "display_data"
    },
    {
     "name": "stdout",
     "output_type": "stream",
     "text": [
      "Data points considered outliers for the feature 'Dow Jones index-17':\n"
     ]
    },
    {
     "data": {
      "text/plain": [
       "(99, 480)"
      ]
     },
     "metadata": {},
     "output_type": "display_data"
    },
    {
     "name": "stdout",
     "output_type": "stream",
     "text": [
      "Data points considered outliers for the feature 'Exchange Rate USD Sell-17':\n"
     ]
    },
    {
     "data": {
      "text/plain": [
       "(75, 480)"
      ]
     },
     "metadata": {},
     "output_type": "display_data"
    },
    {
     "name": "stdout",
     "output_type": "stream",
     "text": [
      "Data points considered outliers for the feature 'BM&F Gold gramme-17':\n"
     ]
    },
    {
     "data": {
      "text/plain": [
       "(56, 480)"
      ]
     },
     "metadata": {},
     "output_type": "display_data"
    },
    {
     "name": "stdout",
     "output_type": "stream",
     "text": [
      "Data points considered outliers for the feature 'Exchange Rate USD Buy-17':\n"
     ]
    },
    {
     "data": {
      "text/plain": [
       "(75, 480)"
      ]
     },
     "metadata": {},
     "output_type": "display_data"
    },
    {
     "name": "stdout",
     "output_type": "stream",
     "text": [
      "Data points considered outliers for the feature 'Selic-17':\n"
     ]
    },
    {
     "data": {
      "text/plain": [
       "(645, 480)"
      ]
     },
     "metadata": {},
     "output_type": "display_data"
    },
    {
     "name": "stdout",
     "output_type": "stream",
     "text": [
      "Data points considered outliers for the feature 'Bovespa index-17':\n"
     ]
    },
    {
     "data": {
      "text/plain": [
       "(27, 480)"
      ]
     },
     "metadata": {},
     "output_type": "display_data"
    },
    {
     "name": "stdout",
     "output_type": "stream",
     "text": [
      "Data points considered outliers for the feature 'Foreign exchange operations balance-17':\n"
     ]
    },
    {
     "data": {
      "text/plain": [
       "(291, 480)"
      ]
     },
     "metadata": {},
     "output_type": "display_data"
    },
    {
     "name": "stdout",
     "output_type": "stream",
     "text": [
      "Data points considered outliers for the feature 'Nasdaq index-17':\n"
     ]
    },
    {
     "data": {
      "text/plain": [
       "(74, 480)"
      ]
     },
     "metadata": {},
     "output_type": "display_data"
    },
    {
     "name": "stdout",
     "output_type": "stream",
     "text": [
      "Data points considered outliers for the feature 'Bovespa total volume-17':\n"
     ]
    },
    {
     "data": {
      "text/plain": [
       "(77, 480)"
      ]
     },
     "metadata": {},
     "output_type": "display_data"
    },
    {
     "name": "stdout",
     "output_type": "stream",
     "text": [
      "Data points considered outliers for the feature 'International Reserves-17':\n"
     ]
    },
    {
     "data": {
      "text/plain": [
       "(160, 480)"
      ]
     },
     "metadata": {},
     "output_type": "display_data"
    },
    {
     "name": "stdout",
     "output_type": "stream",
     "text": [
      "Data points considered outliers for the feature 'Open-18':\n"
     ]
    },
    {
     "data": {
      "text/plain": [
       "(69, 480)"
      ]
     },
     "metadata": {},
     "output_type": "display_data"
    },
    {
     "name": "stdout",
     "output_type": "stream",
     "text": [
      "Data points considered outliers for the feature 'High-18':\n"
     ]
    },
    {
     "data": {
      "text/plain": [
       "(67, 480)"
      ]
     },
     "metadata": {},
     "output_type": "display_data"
    },
    {
     "name": "stdout",
     "output_type": "stream",
     "text": [
      "Data points considered outliers for the feature 'Low-18':\n"
     ]
    },
    {
     "data": {
      "text/plain": [
       "(69, 480)"
      ]
     },
     "metadata": {},
     "output_type": "display_data"
    },
    {
     "name": "stdout",
     "output_type": "stream",
     "text": [
      "Data points considered outliers for the feature 'Close-18':\n"
     ]
    },
    {
     "data": {
      "text/plain": [
       "(69, 480)"
      ]
     },
     "metadata": {},
     "output_type": "display_data"
    },
    {
     "name": "stdout",
     "output_type": "stream",
     "text": [
      "Data points considered outliers for the feature 'Volume-18':\n"
     ]
    },
    {
     "data": {
      "text/plain": [
       "(76, 480)"
      ]
     },
     "metadata": {},
     "output_type": "display_data"
    },
    {
     "name": "stdout",
     "output_type": "stream",
     "text": [
      "Data points considered outliers for the feature 'Adj Close-18':\n"
     ]
    },
    {
     "data": {
      "text/plain": [
       "(75, 480)"
      ]
     },
     "metadata": {},
     "output_type": "display_data"
    },
    {
     "name": "stdout",
     "output_type": "stream",
     "text": [
      "Data points considered outliers for the feature 'Dow Jones index-18':\n"
     ]
    },
    {
     "data": {
      "text/plain": [
       "(88, 480)"
      ]
     },
     "metadata": {},
     "output_type": "display_data"
    },
    {
     "name": "stdout",
     "output_type": "stream",
     "text": [
      "Data points considered outliers for the feature 'Exchange Rate USD Sell-18':\n"
     ]
    },
    {
     "data": {
      "text/plain": [
       "(68, 480)"
      ]
     },
     "metadata": {},
     "output_type": "display_data"
    },
    {
     "name": "stdout",
     "output_type": "stream",
     "text": [
      "Data points considered outliers for the feature 'BM&F Gold gramme-18':\n"
     ]
    },
    {
     "data": {
      "text/plain": [
       "(57, 480)"
      ]
     },
     "metadata": {},
     "output_type": "display_data"
    },
    {
     "name": "stdout",
     "output_type": "stream",
     "text": [
      "Data points considered outliers for the feature 'Exchange Rate USD Buy-18':\n"
     ]
    },
    {
     "data": {
      "text/plain": [
       "(68, 480)"
      ]
     },
     "metadata": {},
     "output_type": "display_data"
    },
    {
     "name": "stdout",
     "output_type": "stream",
     "text": [
      "Data points considered outliers for the feature 'Selic-18':\n"
     ]
    },
    {
     "data": {
      "text/plain": [
       "(682, 480)"
      ]
     },
     "metadata": {},
     "output_type": "display_data"
    },
    {
     "name": "stdout",
     "output_type": "stream",
     "text": [
      "Data points considered outliers for the feature 'Bovespa index-18':\n"
     ]
    },
    {
     "data": {
      "text/plain": [
       "(36, 480)"
      ]
     },
     "metadata": {},
     "output_type": "display_data"
    },
    {
     "name": "stdout",
     "output_type": "stream",
     "text": [
      "Data points considered outliers for the feature 'Foreign exchange operations balance-18':\n"
     ]
    },
    {
     "data": {
      "text/plain": [
       "(283, 480)"
      ]
     },
     "metadata": {},
     "output_type": "display_data"
    },
    {
     "name": "stdout",
     "output_type": "stream",
     "text": [
      "Data points considered outliers for the feature 'Nasdaq index-18':\n"
     ]
    },
    {
     "data": {
      "text/plain": [
       "(74, 480)"
      ]
     },
     "metadata": {},
     "output_type": "display_data"
    },
    {
     "name": "stdout",
     "output_type": "stream",
     "text": [
      "Data points considered outliers for the feature 'Bovespa total volume-18':\n"
     ]
    },
    {
     "data": {
      "text/plain": [
       "(81, 480)"
      ]
     },
     "metadata": {},
     "output_type": "display_data"
    },
    {
     "name": "stdout",
     "output_type": "stream",
     "text": [
      "Data points considered outliers for the feature 'International Reserves-18':\n"
     ]
    },
    {
     "data": {
      "text/plain": [
       "(172, 480)"
      ]
     },
     "metadata": {},
     "output_type": "display_data"
    },
    {
     "name": "stdout",
     "output_type": "stream",
     "text": [
      "Data points considered outliers for the feature 'Open-19':\n"
     ]
    },
    {
     "data": {
      "text/plain": [
       "(68, 480)"
      ]
     },
     "metadata": {},
     "output_type": "display_data"
    },
    {
     "name": "stdout",
     "output_type": "stream",
     "text": [
      "Data points considered outliers for the feature 'High-19':\n"
     ]
    },
    {
     "data": {
      "text/plain": [
       "(64, 480)"
      ]
     },
     "metadata": {},
     "output_type": "display_data"
    },
    {
     "name": "stdout",
     "output_type": "stream",
     "text": [
      "Data points considered outliers for the feature 'Low-19':\n"
     ]
    },
    {
     "data": {
      "text/plain": [
       "(67, 480)"
      ]
     },
     "metadata": {},
     "output_type": "display_data"
    },
    {
     "name": "stdout",
     "output_type": "stream",
     "text": [
      "Data points considered outliers for the feature 'Close-19':\n"
     ]
    },
    {
     "data": {
      "text/plain": [
       "(67, 480)"
      ]
     },
     "metadata": {},
     "output_type": "display_data"
    },
    {
     "name": "stdout",
     "output_type": "stream",
     "text": [
      "Data points considered outliers for the feature 'Volume-19':\n"
     ]
    },
    {
     "data": {
      "text/plain": [
       "(78, 480)"
      ]
     },
     "metadata": {},
     "output_type": "display_data"
    },
    {
     "name": "stdout",
     "output_type": "stream",
     "text": [
      "Data points considered outliers for the feature 'Adj Close-19':\n"
     ]
    },
    {
     "data": {
      "text/plain": [
       "(70, 480)"
      ]
     },
     "metadata": {},
     "output_type": "display_data"
    },
    {
     "name": "stdout",
     "output_type": "stream",
     "text": [
      "Data points considered outliers for the feature 'Dow Jones index-19':\n"
     ]
    },
    {
     "data": {
      "text/plain": [
       "(88, 480)"
      ]
     },
     "metadata": {},
     "output_type": "display_data"
    },
    {
     "name": "stdout",
     "output_type": "stream",
     "text": [
      "Data points considered outliers for the feature 'Exchange Rate USD Sell-19':\n"
     ]
    },
    {
     "data": {
      "text/plain": [
       "(75, 480)"
      ]
     },
     "metadata": {},
     "output_type": "display_data"
    },
    {
     "name": "stdout",
     "output_type": "stream",
     "text": [
      "Data points considered outliers for the feature 'BM&F Gold gramme-19':\n"
     ]
    },
    {
     "data": {
      "text/plain": [
       "(67, 480)"
      ]
     },
     "metadata": {},
     "output_type": "display_data"
    },
    {
     "name": "stdout",
     "output_type": "stream",
     "text": [
      "Data points considered outliers for the feature 'Exchange Rate USD Buy-19':\n"
     ]
    },
    {
     "data": {
      "text/plain": [
       "(75, 480)"
      ]
     },
     "metadata": {},
     "output_type": "display_data"
    },
    {
     "name": "stdout",
     "output_type": "stream",
     "text": [
      "Data points considered outliers for the feature 'Selic-19':\n"
     ]
    },
    {
     "data": {
      "text/plain": [
       "(416, 480)"
      ]
     },
     "metadata": {},
     "output_type": "display_data"
    },
    {
     "name": "stdout",
     "output_type": "stream",
     "text": [
      "Data points considered outliers for the feature 'Bovespa index-19':\n"
     ]
    },
    {
     "data": {
      "text/plain": [
       "(39, 480)"
      ]
     },
     "metadata": {},
     "output_type": "display_data"
    },
    {
     "name": "stdout",
     "output_type": "stream",
     "text": [
      "Data points considered outliers for the feature 'Foreign exchange operations balance-19':\n"
     ]
    },
    {
     "data": {
      "text/plain": [
       "(266, 480)"
      ]
     },
     "metadata": {},
     "output_type": "display_data"
    },
    {
     "name": "stdout",
     "output_type": "stream",
     "text": [
      "Data points considered outliers for the feature 'Nasdaq index-19':\n"
     ]
    },
    {
     "data": {
      "text/plain": [
       "(75, 480)"
      ]
     },
     "metadata": {},
     "output_type": "display_data"
    },
    {
     "name": "stdout",
     "output_type": "stream",
     "text": [
      "Data points considered outliers for the feature 'Bovespa total volume-19':\n"
     ]
    },
    {
     "data": {
      "text/plain": [
       "(87, 480)"
      ]
     },
     "metadata": {},
     "output_type": "display_data"
    },
    {
     "name": "stdout",
     "output_type": "stream",
     "text": [
      "Data points considered outliers for the feature 'International Reserves-19':\n"
     ]
    },
    {
     "data": {
      "text/plain": [
       "(177, 480)"
      ]
     },
     "metadata": {},
     "output_type": "display_data"
    },
    {
     "name": "stdout",
     "output_type": "stream",
     "text": [
      "Data points considered outliers for the feature 'Open-20':\n"
     ]
    },
    {
     "data": {
      "text/plain": [
       "(66, 480)"
      ]
     },
     "metadata": {},
     "output_type": "display_data"
    },
    {
     "name": "stdout",
     "output_type": "stream",
     "text": [
      "Data points considered outliers for the feature 'High-20':\n"
     ]
    },
    {
     "data": {
      "text/plain": [
       "(70, 480)"
      ]
     },
     "metadata": {},
     "output_type": "display_data"
    },
    {
     "name": "stdout",
     "output_type": "stream",
     "text": [
      "Data points considered outliers for the feature 'Low-20':\n"
     ]
    },
    {
     "data": {
      "text/plain": [
       "(59, 480)"
      ]
     },
     "metadata": {},
     "output_type": "display_data"
    },
    {
     "name": "stdout",
     "output_type": "stream",
     "text": [
      "Data points considered outliers for the feature 'Close-20':\n"
     ]
    },
    {
     "data": {
      "text/plain": [
       "(64, 480)"
      ]
     },
     "metadata": {},
     "output_type": "display_data"
    },
    {
     "name": "stdout",
     "output_type": "stream",
     "text": [
      "Data points considered outliers for the feature 'Volume-20':\n"
     ]
    },
    {
     "data": {
      "text/plain": [
       "(82, 480)"
      ]
     },
     "metadata": {},
     "output_type": "display_data"
    },
    {
     "name": "stdout",
     "output_type": "stream",
     "text": [
      "Data points considered outliers for the feature 'Adj Close-20':\n"
     ]
    },
    {
     "data": {
      "text/plain": [
       "(66, 480)"
      ]
     },
     "metadata": {},
     "output_type": "display_data"
    },
    {
     "name": "stdout",
     "output_type": "stream",
     "text": [
      "Data points considered outliers for the feature 'Dow Jones index-20':\n"
     ]
    },
    {
     "data": {
      "text/plain": [
       "(87, 480)"
      ]
     },
     "metadata": {},
     "output_type": "display_data"
    },
    {
     "name": "stdout",
     "output_type": "stream",
     "text": [
      "Data points considered outliers for the feature 'Exchange Rate USD Sell-20':\n"
     ]
    },
    {
     "data": {
      "text/plain": [
       "(69, 480)"
      ]
     },
     "metadata": {},
     "output_type": "display_data"
    },
    {
     "name": "stdout",
     "output_type": "stream",
     "text": [
      "Data points considered outliers for the feature 'BM&F Gold gramme-20':\n"
     ]
    },
    {
     "data": {
      "text/plain": [
       "(56, 480)"
      ]
     },
     "metadata": {},
     "output_type": "display_data"
    },
    {
     "name": "stdout",
     "output_type": "stream",
     "text": [
      "Data points considered outliers for the feature 'Exchange Rate USD Buy-20':\n"
     ]
    },
    {
     "data": {
      "text/plain": [
       "(68, 480)"
      ]
     },
     "metadata": {},
     "output_type": "display_data"
    },
    {
     "name": "stdout",
     "output_type": "stream",
     "text": [
      "Data points considered outliers for the feature 'Selic-20':\n"
     ]
    },
    {
     "data": {
      "text/plain": [
       "(437, 480)"
      ]
     },
     "metadata": {},
     "output_type": "display_data"
    },
    {
     "name": "stdout",
     "output_type": "stream",
     "text": [
      "Data points considered outliers for the feature 'Bovespa index-20':\n"
     ]
    },
    {
     "data": {
      "text/plain": [
       "(36, 480)"
      ]
     },
     "metadata": {},
     "output_type": "display_data"
    },
    {
     "name": "stdout",
     "output_type": "stream",
     "text": [
      "Data points considered outliers for the feature 'Foreign exchange operations balance-20':\n"
     ]
    },
    {
     "data": {
      "text/plain": [
       "(270, 480)"
      ]
     },
     "metadata": {},
     "output_type": "display_data"
    },
    {
     "name": "stdout",
     "output_type": "stream",
     "text": [
      "Data points considered outliers for the feature 'Nasdaq index-20':\n"
     ]
    },
    {
     "data": {
      "text/plain": [
       "(70, 480)"
      ]
     },
     "metadata": {},
     "output_type": "display_data"
    },
    {
     "name": "stdout",
     "output_type": "stream",
     "text": [
      "Data points considered outliers for the feature 'Bovespa total volume-20':\n"
     ]
    },
    {
     "data": {
      "text/plain": [
       "(94, 480)"
      ]
     },
     "metadata": {},
     "output_type": "display_data"
    },
    {
     "name": "stdout",
     "output_type": "stream",
     "text": [
      "Data points considered outliers for the feature 'International Reserves-20':\n"
     ]
    },
    {
     "data": {
      "text/plain": [
       "(174, 480)"
      ]
     },
     "metadata": {},
     "output_type": "display_data"
    },
    {
     "name": "stdout",
     "output_type": "stream",
     "text": [
      "Data points considered outliers for the feature 'Open-21':\n"
     ]
    },
    {
     "data": {
      "text/plain": [
       "(60, 480)"
      ]
     },
     "metadata": {},
     "output_type": "display_data"
    },
    {
     "name": "stdout",
     "output_type": "stream",
     "text": [
      "Data points considered outliers for the feature 'High-21':\n"
     ]
    },
    {
     "data": {
      "text/plain": [
       "(63, 480)"
      ]
     },
     "metadata": {},
     "output_type": "display_data"
    },
    {
     "name": "stdout",
     "output_type": "stream",
     "text": [
      "Data points considered outliers for the feature 'Low-21':\n"
     ]
    },
    {
     "data": {
      "text/plain": [
       "(60, 480)"
      ]
     },
     "metadata": {},
     "output_type": "display_data"
    },
    {
     "name": "stdout",
     "output_type": "stream",
     "text": [
      "Data points considered outliers for the feature 'Close-21':\n"
     ]
    },
    {
     "data": {
      "text/plain": [
       "(64, 480)"
      ]
     },
     "metadata": {},
     "output_type": "display_data"
    },
    {
     "name": "stdout",
     "output_type": "stream",
     "text": [
      "Data points considered outliers for the feature 'Volume-21':\n"
     ]
    },
    {
     "data": {
      "text/plain": [
       "(65, 480)"
      ]
     },
     "metadata": {},
     "output_type": "display_data"
    },
    {
     "name": "stdout",
     "output_type": "stream",
     "text": [
      "Data points considered outliers for the feature 'Adj Close-21':\n"
     ]
    },
    {
     "data": {
      "text/plain": [
       "(69, 480)"
      ]
     },
     "metadata": {},
     "output_type": "display_data"
    },
    {
     "name": "stdout",
     "output_type": "stream",
     "text": [
      "Data points considered outliers for the feature 'Dow Jones index-21':\n"
     ]
    },
    {
     "data": {
      "text/plain": [
       "(87, 480)"
      ]
     },
     "metadata": {},
     "output_type": "display_data"
    },
    {
     "name": "stdout",
     "output_type": "stream",
     "text": [
      "Data points considered outliers for the feature 'Exchange Rate USD Sell-21':\n"
     ]
    },
    {
     "data": {
      "text/plain": [
       "(73, 480)"
      ]
     },
     "metadata": {},
     "output_type": "display_data"
    },
    {
     "name": "stdout",
     "output_type": "stream",
     "text": [
      "Data points considered outliers for the feature 'BM&F Gold gramme-21':\n"
     ]
    },
    {
     "data": {
      "text/plain": [
       "(58, 480)"
      ]
     },
     "metadata": {},
     "output_type": "display_data"
    },
    {
     "name": "stdout",
     "output_type": "stream",
     "text": [
      "Data points considered outliers for the feature 'Exchange Rate USD Buy-21':\n"
     ]
    },
    {
     "data": {
      "text/plain": [
       "(73, 480)"
      ]
     },
     "metadata": {},
     "output_type": "display_data"
    },
    {
     "name": "stdout",
     "output_type": "stream",
     "text": [
      "Data points considered outliers for the feature 'Selic-21':\n"
     ]
    },
    {
     "data": {
      "text/plain": [
       "(395, 480)"
      ]
     },
     "metadata": {},
     "output_type": "display_data"
    },
    {
     "name": "stdout",
     "output_type": "stream",
     "text": [
      "Data points considered outliers for the feature 'Bovespa index-21':\n"
     ]
    },
    {
     "data": {
      "text/plain": [
       "(34, 480)"
      ]
     },
     "metadata": {},
     "output_type": "display_data"
    },
    {
     "name": "stdout",
     "output_type": "stream",
     "text": [
      "Data points considered outliers for the feature 'Foreign exchange operations balance-21':\n"
     ]
    },
    {
     "data": {
      "text/plain": [
       "(254, 480)"
      ]
     },
     "metadata": {},
     "output_type": "display_data"
    },
    {
     "name": "stdout",
     "output_type": "stream",
     "text": [
      "Data points considered outliers for the feature 'Nasdaq index-21':\n"
     ]
    },
    {
     "data": {
      "text/plain": [
       "(71, 480)"
      ]
     },
     "metadata": {},
     "output_type": "display_data"
    },
    {
     "name": "stdout",
     "output_type": "stream",
     "text": [
      "Data points considered outliers for the feature 'Bovespa total volume-21':\n"
     ]
    },
    {
     "data": {
      "text/plain": [
       "(86, 480)"
      ]
     },
     "metadata": {},
     "output_type": "display_data"
    },
    {
     "name": "stdout",
     "output_type": "stream",
     "text": [
      "Data points considered outliers for the feature 'International Reserves-21':\n"
     ]
    },
    {
     "data": {
      "text/plain": [
       "(165, 480)"
      ]
     },
     "metadata": {},
     "output_type": "display_data"
    },
    {
     "name": "stdout",
     "output_type": "stream",
     "text": [
      "Data points considered outliers for the feature 'Open-22':\n"
     ]
    },
    {
     "data": {
      "text/plain": [
       "(54, 480)"
      ]
     },
     "metadata": {},
     "output_type": "display_data"
    },
    {
     "name": "stdout",
     "output_type": "stream",
     "text": [
      "Data points considered outliers for the feature 'High-22':\n"
     ]
    },
    {
     "data": {
      "text/plain": [
       "(60, 480)"
      ]
     },
     "metadata": {},
     "output_type": "display_data"
    },
    {
     "name": "stdout",
     "output_type": "stream",
     "text": [
      "Data points considered outliers for the feature 'Low-22':\n"
     ]
    },
    {
     "data": {
      "text/plain": [
       "(60, 480)"
      ]
     },
     "metadata": {},
     "output_type": "display_data"
    },
    {
     "name": "stdout",
     "output_type": "stream",
     "text": [
      "Data points considered outliers for the feature 'Close-22':\n"
     ]
    },
    {
     "data": {
      "text/plain": [
       "(65, 480)"
      ]
     },
     "metadata": {},
     "output_type": "display_data"
    },
    {
     "name": "stdout",
     "output_type": "stream",
     "text": [
      "Data points considered outliers for the feature 'Volume-22':\n"
     ]
    },
    {
     "data": {
      "text/plain": [
       "(68, 480)"
      ]
     },
     "metadata": {},
     "output_type": "display_data"
    },
    {
     "name": "stdout",
     "output_type": "stream",
     "text": [
      "Data points considered outliers for the feature 'Adj Close-22':\n"
     ]
    },
    {
     "data": {
      "text/plain": [
       "(67, 480)"
      ]
     },
     "metadata": {},
     "output_type": "display_data"
    },
    {
     "name": "stdout",
     "output_type": "stream",
     "text": [
      "Data points considered outliers for the feature 'Dow Jones index-22':\n"
     ]
    },
    {
     "data": {
      "text/plain": [
       "(85, 480)"
      ]
     },
     "metadata": {},
     "output_type": "display_data"
    },
    {
     "name": "stdout",
     "output_type": "stream",
     "text": [
      "Data points considered outliers for the feature 'Exchange Rate USD Sell-22':\n"
     ]
    },
    {
     "data": {
      "text/plain": [
       "(67, 480)"
      ]
     },
     "metadata": {},
     "output_type": "display_data"
    },
    {
     "name": "stdout",
     "output_type": "stream",
     "text": [
      "Data points considered outliers for the feature 'BM&F Gold gramme-22':\n"
     ]
    },
    {
     "data": {
      "text/plain": [
       "(65, 480)"
      ]
     },
     "metadata": {},
     "output_type": "display_data"
    },
    {
     "name": "stdout",
     "output_type": "stream",
     "text": [
      "Data points considered outliers for the feature 'Exchange Rate USD Buy-22':\n"
     ]
    },
    {
     "data": {
      "text/plain": [
       "(66, 480)"
      ]
     },
     "metadata": {},
     "output_type": "display_data"
    },
    {
     "name": "stdout",
     "output_type": "stream",
     "text": [
      "Data points considered outliers for the feature 'Selic-22':\n"
     ]
    },
    {
     "data": {
      "text/plain": [
       "(413, 480)"
      ]
     },
     "metadata": {},
     "output_type": "display_data"
    },
    {
     "name": "stdout",
     "output_type": "stream",
     "text": [
      "Data points considered outliers for the feature 'Bovespa index-22':\n"
     ]
    },
    {
     "data": {
      "text/plain": [
       "(41, 480)"
      ]
     },
     "metadata": {},
     "output_type": "display_data"
    },
    {
     "name": "stdout",
     "output_type": "stream",
     "text": [
      "Data points considered outliers for the feature 'Foreign exchange operations balance-22':\n"
     ]
    },
    {
     "data": {
      "text/plain": [
       "(278, 480)"
      ]
     },
     "metadata": {},
     "output_type": "display_data"
    },
    {
     "name": "stdout",
     "output_type": "stream",
     "text": [
      "Data points considered outliers for the feature 'Nasdaq index-22':\n"
     ]
    },
    {
     "data": {
      "text/plain": [
       "(64, 480)"
      ]
     },
     "metadata": {},
     "output_type": "display_data"
    },
    {
     "name": "stdout",
     "output_type": "stream",
     "text": [
      "Data points considered outliers for the feature 'Bovespa total volume-22':\n"
     ]
    },
    {
     "data": {
      "text/plain": [
       "(82, 480)"
      ]
     },
     "metadata": {},
     "output_type": "display_data"
    },
    {
     "name": "stdout",
     "output_type": "stream",
     "text": [
      "Data points considered outliers for the feature 'International Reserves-22':\n"
     ]
    },
    {
     "data": {
      "text/plain": [
       "(167, 480)"
      ]
     },
     "metadata": {},
     "output_type": "display_data"
    },
    {
     "name": "stdout",
     "output_type": "stream",
     "text": [
      "Data points considered outliers for the feature 'Open-23':\n"
     ]
    },
    {
     "data": {
      "text/plain": [
       "(61, 480)"
      ]
     },
     "metadata": {},
     "output_type": "display_data"
    },
    {
     "name": "stdout",
     "output_type": "stream",
     "text": [
      "Data points considered outliers for the feature 'High-23':\n"
     ]
    },
    {
     "data": {
      "text/plain": [
       "(62, 480)"
      ]
     },
     "metadata": {},
     "output_type": "display_data"
    },
    {
     "name": "stdout",
     "output_type": "stream",
     "text": [
      "Data points considered outliers for the feature 'Low-23':\n"
     ]
    },
    {
     "data": {
      "text/plain": [
       "(57, 480)"
      ]
     },
     "metadata": {},
     "output_type": "display_data"
    },
    {
     "name": "stdout",
     "output_type": "stream",
     "text": [
      "Data points considered outliers for the feature 'Close-23':\n"
     ]
    },
    {
     "data": {
      "text/plain": [
       "(64, 480)"
      ]
     },
     "metadata": {},
     "output_type": "display_data"
    },
    {
     "name": "stdout",
     "output_type": "stream",
     "text": [
      "Data points considered outliers for the feature 'Volume-23':\n"
     ]
    },
    {
     "data": {
      "text/plain": [
       "(92, 480)"
      ]
     },
     "metadata": {},
     "output_type": "display_data"
    },
    {
     "name": "stdout",
     "output_type": "stream",
     "text": [
      "Data points considered outliers for the feature 'Adj Close-23':\n"
     ]
    },
    {
     "data": {
      "text/plain": [
       "(64, 480)"
      ]
     },
     "metadata": {},
     "output_type": "display_data"
    },
    {
     "name": "stdout",
     "output_type": "stream",
     "text": [
      "Data points considered outliers for the feature 'Dow Jones index-23':\n"
     ]
    },
    {
     "data": {
      "text/plain": [
       "(81, 480)"
      ]
     },
     "metadata": {},
     "output_type": "display_data"
    },
    {
     "name": "stdout",
     "output_type": "stream",
     "text": [
      "Data points considered outliers for the feature 'Exchange Rate USD Sell-23':\n"
     ]
    },
    {
     "data": {
      "text/plain": [
       "(64, 480)"
      ]
     },
     "metadata": {},
     "output_type": "display_data"
    },
    {
     "name": "stdout",
     "output_type": "stream",
     "text": [
      "Data points considered outliers for the feature 'BM&F Gold gramme-23':\n"
     ]
    },
    {
     "data": {
      "text/plain": [
       "(67, 480)"
      ]
     },
     "metadata": {},
     "output_type": "display_data"
    },
    {
     "name": "stdout",
     "output_type": "stream",
     "text": [
      "Data points considered outliers for the feature 'Exchange Rate USD Buy-23':\n"
     ]
    },
    {
     "data": {
      "text/plain": [
       "(64, 480)"
      ]
     },
     "metadata": {},
     "output_type": "display_data"
    },
    {
     "name": "stdout",
     "output_type": "stream",
     "text": [
      "Data points considered outliers for the feature 'Selic-23':\n"
     ]
    },
    {
     "data": {
      "text/plain": [
       "(407, 480)"
      ]
     },
     "metadata": {},
     "output_type": "display_data"
    },
    {
     "name": "stdout",
     "output_type": "stream",
     "text": [
      "Data points considered outliers for the feature 'Bovespa index-23':\n"
     ]
    },
    {
     "data": {
      "text/plain": [
       "(40, 480)"
      ]
     },
     "metadata": {},
     "output_type": "display_data"
    },
    {
     "name": "stdout",
     "output_type": "stream",
     "text": [
      "Data points considered outliers for the feature 'Foreign exchange operations balance-23':\n"
     ]
    },
    {
     "data": {
      "text/plain": [
       "(263, 480)"
      ]
     },
     "metadata": {},
     "output_type": "display_data"
    },
    {
     "name": "stdout",
     "output_type": "stream",
     "text": [
      "Data points considered outliers for the feature 'Nasdaq index-23':\n"
     ]
    },
    {
     "data": {
      "text/plain": [
       "(67, 480)"
      ]
     },
     "metadata": {},
     "output_type": "display_data"
    },
    {
     "name": "stdout",
     "output_type": "stream",
     "text": [
      "Data points considered outliers for the feature 'Bovespa total volume-23':\n"
     ]
    },
    {
     "data": {
      "text/plain": [
       "(77, 480)"
      ]
     },
     "metadata": {},
     "output_type": "display_data"
    },
    {
     "name": "stdout",
     "output_type": "stream",
     "text": [
      "Data points considered outliers for the feature 'International Reserves-23':\n"
     ]
    },
    {
     "data": {
      "text/plain": [
       "(173, 480)"
      ]
     },
     "metadata": {},
     "output_type": "display_data"
    },
    {
     "name": "stdout",
     "output_type": "stream",
     "text": [
      "Data points considered outliers for the feature 'Open-24':\n"
     ]
    },
    {
     "data": {
      "text/plain": [
       "(58, 480)"
      ]
     },
     "metadata": {},
     "output_type": "display_data"
    },
    {
     "name": "stdout",
     "output_type": "stream",
     "text": [
      "Data points considered outliers for the feature 'High-24':\n"
     ]
    },
    {
     "data": {
      "text/plain": [
       "(64, 480)"
      ]
     },
     "metadata": {},
     "output_type": "display_data"
    },
    {
     "name": "stdout",
     "output_type": "stream",
     "text": [
      "Data points considered outliers for the feature 'Low-24':\n"
     ]
    },
    {
     "data": {
      "text/plain": [
       "(59, 480)"
      ]
     },
     "metadata": {},
     "output_type": "display_data"
    },
    {
     "name": "stdout",
     "output_type": "stream",
     "text": [
      "Data points considered outliers for the feature 'Close-24':\n"
     ]
    },
    {
     "data": {
      "text/plain": [
       "(57, 480)"
      ]
     },
     "metadata": {},
     "output_type": "display_data"
    },
    {
     "name": "stdout",
     "output_type": "stream",
     "text": [
      "Data points considered outliers for the feature 'Volume-24':\n"
     ]
    },
    {
     "data": {
      "text/plain": [
       "(89, 480)"
      ]
     },
     "metadata": {},
     "output_type": "display_data"
    },
    {
     "name": "stdout",
     "output_type": "stream",
     "text": [
      "Data points considered outliers for the feature 'Adj Close-24':\n"
     ]
    },
    {
     "data": {
      "text/plain": [
       "(61, 480)"
      ]
     },
     "metadata": {},
     "output_type": "display_data"
    },
    {
     "name": "stdout",
     "output_type": "stream",
     "text": [
      "Data points considered outliers for the feature 'Dow Jones index-24':\n"
     ]
    },
    {
     "data": {
      "text/plain": [
       "(86, 480)"
      ]
     },
     "metadata": {},
     "output_type": "display_data"
    },
    {
     "name": "stdout",
     "output_type": "stream",
     "text": [
      "Data points considered outliers for the feature 'Exchange Rate USD Sell-24':\n"
     ]
    },
    {
     "data": {
      "text/plain": [
       "(59, 480)"
      ]
     },
     "metadata": {},
     "output_type": "display_data"
    },
    {
     "name": "stdout",
     "output_type": "stream",
     "text": [
      "Data points considered outliers for the feature 'BM&F Gold gramme-24':\n"
     ]
    },
    {
     "data": {
      "text/plain": [
       "(64, 480)"
      ]
     },
     "metadata": {},
     "output_type": "display_data"
    },
    {
     "name": "stdout",
     "output_type": "stream",
     "text": [
      "Data points considered outliers for the feature 'Exchange Rate USD Buy-24':\n"
     ]
    },
    {
     "data": {
      "text/plain": [
       "(59, 480)"
      ]
     },
     "metadata": {},
     "output_type": "display_data"
    },
    {
     "name": "stdout",
     "output_type": "stream",
     "text": [
      "Data points considered outliers for the feature 'Selic-24':\n"
     ]
    },
    {
     "data": {
      "text/plain": [
       "(242, 480)"
      ]
     },
     "metadata": {},
     "output_type": "display_data"
    },
    {
     "name": "stdout",
     "output_type": "stream",
     "text": [
      "Data points considered outliers for the feature 'Bovespa index-24':\n"
     ]
    },
    {
     "data": {
      "text/plain": [
       "(36, 480)"
      ]
     },
     "metadata": {},
     "output_type": "display_data"
    },
    {
     "name": "stdout",
     "output_type": "stream",
     "text": [
      "Data points considered outliers for the feature 'Foreign exchange operations balance-24':\n"
     ]
    },
    {
     "data": {
      "text/plain": [
       "(271, 480)"
      ]
     },
     "metadata": {},
     "output_type": "display_data"
    },
    {
     "name": "stdout",
     "output_type": "stream",
     "text": [
      "Data points considered outliers for the feature 'Nasdaq index-24':\n"
     ]
    },
    {
     "data": {
      "text/plain": [
       "(67, 480)"
      ]
     },
     "metadata": {},
     "output_type": "display_data"
    },
    {
     "name": "stdout",
     "output_type": "stream",
     "text": [
      "Data points considered outliers for the feature 'Bovespa total volume-24':\n"
     ]
    },
    {
     "data": {
      "text/plain": [
       "(71, 480)"
      ]
     },
     "metadata": {},
     "output_type": "display_data"
    },
    {
     "name": "stdout",
     "output_type": "stream",
     "text": [
      "Data points considered outliers for the feature 'International Reserves-24':\n"
     ]
    },
    {
     "data": {
      "text/plain": [
       "(172, 480)"
      ]
     },
     "metadata": {},
     "output_type": "display_data"
    },
    {
     "name": "stdout",
     "output_type": "stream",
     "text": [
      "Data points considered outliers for the feature 'Open-25':\n"
     ]
    },
    {
     "data": {
      "text/plain": [
       "(68, 480)"
      ]
     },
     "metadata": {},
     "output_type": "display_data"
    },
    {
     "name": "stdout",
     "output_type": "stream",
     "text": [
      "Data points considered outliers for the feature 'High-25':\n"
     ]
    },
    {
     "data": {
      "text/plain": [
       "(65, 480)"
      ]
     },
     "metadata": {},
     "output_type": "display_data"
    },
    {
     "name": "stdout",
     "output_type": "stream",
     "text": [
      "Data points considered outliers for the feature 'Low-25':\n"
     ]
    },
    {
     "data": {
      "text/plain": [
       "(61, 480)"
      ]
     },
     "metadata": {},
     "output_type": "display_data"
    },
    {
     "name": "stdout",
     "output_type": "stream",
     "text": [
      "Data points considered outliers for the feature 'Close-25':\n"
     ]
    },
    {
     "data": {
      "text/plain": [
       "(58, 480)"
      ]
     },
     "metadata": {},
     "output_type": "display_data"
    },
    {
     "name": "stdout",
     "output_type": "stream",
     "text": [
      "Data points considered outliers for the feature 'Volume-25':\n"
     ]
    },
    {
     "data": {
      "text/plain": [
       "(77, 480)"
      ]
     },
     "metadata": {},
     "output_type": "display_data"
    },
    {
     "name": "stdout",
     "output_type": "stream",
     "text": [
      "Data points considered outliers for the feature 'Adj Close-25':\n"
     ]
    },
    {
     "data": {
      "text/plain": [
       "(62, 480)"
      ]
     },
     "metadata": {},
     "output_type": "display_data"
    },
    {
     "name": "stdout",
     "output_type": "stream",
     "text": [
      "Data points considered outliers for the feature 'Dow Jones index-25':\n"
     ]
    },
    {
     "data": {
      "text/plain": [
       "(92, 480)"
      ]
     },
     "metadata": {},
     "output_type": "display_data"
    },
    {
     "name": "stdout",
     "output_type": "stream",
     "text": [
      "Data points considered outliers for the feature 'Exchange Rate USD Sell-25':\n"
     ]
    },
    {
     "data": {
      "text/plain": [
       "(59, 480)"
      ]
     },
     "metadata": {},
     "output_type": "display_data"
    },
    {
     "name": "stdout",
     "output_type": "stream",
     "text": [
      "Data points considered outliers for the feature 'BM&F Gold gramme-25':\n"
     ]
    },
    {
     "data": {
      "text/plain": [
       "(67, 480)"
      ]
     },
     "metadata": {},
     "output_type": "display_data"
    },
    {
     "name": "stdout",
     "output_type": "stream",
     "text": [
      "Data points considered outliers for the feature 'Exchange Rate USD Buy-25':\n"
     ]
    },
    {
     "data": {
      "text/plain": [
       "(59, 480)"
      ]
     },
     "metadata": {},
     "output_type": "display_data"
    },
    {
     "name": "stdout",
     "output_type": "stream",
     "text": [
      "Data points considered outliers for the feature 'Selic-25':\n"
     ]
    },
    {
     "data": {
      "text/plain": [
       "(253, 480)"
      ]
     },
     "metadata": {},
     "output_type": "display_data"
    },
    {
     "name": "stdout",
     "output_type": "stream",
     "text": [
      "Data points considered outliers for the feature 'Bovespa index-25':\n"
     ]
    },
    {
     "data": {
      "text/plain": [
       "(38, 480)"
      ]
     },
     "metadata": {},
     "output_type": "display_data"
    },
    {
     "name": "stdout",
     "output_type": "stream",
     "text": [
      "Data points considered outliers for the feature 'Foreign exchange operations balance-25':\n"
     ]
    },
    {
     "data": {
      "text/plain": [
       "(265, 480)"
      ]
     },
     "metadata": {},
     "output_type": "display_data"
    },
    {
     "name": "stdout",
     "output_type": "stream",
     "text": [
      "Data points considered outliers for the feature 'Nasdaq index-25':\n"
     ]
    },
    {
     "data": {
      "text/plain": [
       "(72, 480)"
      ]
     },
     "metadata": {},
     "output_type": "display_data"
    },
    {
     "name": "stdout",
     "output_type": "stream",
     "text": [
      "Data points considered outliers for the feature 'Bovespa total volume-25':\n"
     ]
    },
    {
     "data": {
      "text/plain": [
       "(85, 480)"
      ]
     },
     "metadata": {},
     "output_type": "display_data"
    },
    {
     "name": "stdout",
     "output_type": "stream",
     "text": [
      "Data points considered outliers for the feature 'International Reserves-25':\n"
     ]
    },
    {
     "data": {
      "text/plain": [
       "(163, 480)"
      ]
     },
     "metadata": {},
     "output_type": "display_data"
    },
    {
     "name": "stdout",
     "output_type": "stream",
     "text": [
      "Data points considered outliers for the feature 'Open-26':\n"
     ]
    },
    {
     "data": {
      "text/plain": [
       "(63, 480)"
      ]
     },
     "metadata": {},
     "output_type": "display_data"
    },
    {
     "name": "stdout",
     "output_type": "stream",
     "text": [
      "Data points considered outliers for the feature 'High-26':\n"
     ]
    },
    {
     "data": {
      "text/plain": [
       "(61, 480)"
      ]
     },
     "metadata": {},
     "output_type": "display_data"
    },
    {
     "name": "stdout",
     "output_type": "stream",
     "text": [
      "Data points considered outliers for the feature 'Low-26':\n"
     ]
    },
    {
     "data": {
      "text/plain": [
       "(58, 480)"
      ]
     },
     "metadata": {},
     "output_type": "display_data"
    },
    {
     "name": "stdout",
     "output_type": "stream",
     "text": [
      "Data points considered outliers for the feature 'Close-26':\n"
     ]
    },
    {
     "data": {
      "text/plain": [
       "(60, 480)"
      ]
     },
     "metadata": {},
     "output_type": "display_data"
    },
    {
     "name": "stdout",
     "output_type": "stream",
     "text": [
      "Data points considered outliers for the feature 'Volume-26':\n"
     ]
    },
    {
     "data": {
      "text/plain": [
       "(89, 480)"
      ]
     },
     "metadata": {},
     "output_type": "display_data"
    },
    {
     "name": "stdout",
     "output_type": "stream",
     "text": [
      "Data points considered outliers for the feature 'Adj Close-26':\n"
     ]
    },
    {
     "data": {
      "text/plain": [
       "(61, 480)"
      ]
     },
     "metadata": {},
     "output_type": "display_data"
    },
    {
     "name": "stdout",
     "output_type": "stream",
     "text": [
      "Data points considered outliers for the feature 'Dow Jones index-26':\n"
     ]
    },
    {
     "data": {
      "text/plain": [
       "(87, 480)"
      ]
     },
     "metadata": {},
     "output_type": "display_data"
    },
    {
     "name": "stdout",
     "output_type": "stream",
     "text": [
      "Data points considered outliers for the feature 'Exchange Rate USD Sell-26':\n"
     ]
    },
    {
     "data": {
      "text/plain": [
       "(57, 480)"
      ]
     },
     "metadata": {},
     "output_type": "display_data"
    },
    {
     "name": "stdout",
     "output_type": "stream",
     "text": [
      "Data points considered outliers for the feature 'BM&F Gold gramme-26':\n"
     ]
    },
    {
     "data": {
      "text/plain": [
       "(66, 480)"
      ]
     },
     "metadata": {},
     "output_type": "display_data"
    },
    {
     "name": "stdout",
     "output_type": "stream",
     "text": [
      "Data points considered outliers for the feature 'Exchange Rate USD Buy-26':\n"
     ]
    },
    {
     "data": {
      "text/plain": [
       "(57, 480)"
      ]
     },
     "metadata": {},
     "output_type": "display_data"
    },
    {
     "name": "stdout",
     "output_type": "stream",
     "text": [
      "Data points considered outliers for the feature 'Selic-26':\n"
     ]
    },
    {
     "data": {
      "text/plain": [
       "(239, 480)"
      ]
     },
     "metadata": {},
     "output_type": "display_data"
    },
    {
     "name": "stdout",
     "output_type": "stream",
     "text": [
      "Data points considered outliers for the feature 'Bovespa index-26':\n"
     ]
    },
    {
     "data": {
      "text/plain": [
       "(38, 480)"
      ]
     },
     "metadata": {},
     "output_type": "display_data"
    },
    {
     "name": "stdout",
     "output_type": "stream",
     "text": [
      "Data points considered outliers for the feature 'Foreign exchange operations balance-26':\n"
     ]
    },
    {
     "data": {
      "text/plain": [
       "(277, 480)"
      ]
     },
     "metadata": {},
     "output_type": "display_data"
    },
    {
     "name": "stdout",
     "output_type": "stream",
     "text": [
      "Data points considered outliers for the feature 'Nasdaq index-26':\n"
     ]
    },
    {
     "data": {
      "text/plain": [
       "(71, 480)"
      ]
     },
     "metadata": {},
     "output_type": "display_data"
    },
    {
     "name": "stdout",
     "output_type": "stream",
     "text": [
      "Data points considered outliers for the feature 'Bovespa total volume-26':\n"
     ]
    },
    {
     "data": {
      "text/plain": [
       "(78, 480)"
      ]
     },
     "metadata": {},
     "output_type": "display_data"
    },
    {
     "name": "stdout",
     "output_type": "stream",
     "text": [
      "Data points considered outliers for the feature 'International Reserves-26':\n"
     ]
    },
    {
     "data": {
      "text/plain": [
       "(160, 480)"
      ]
     },
     "metadata": {},
     "output_type": "display_data"
    },
    {
     "name": "stdout",
     "output_type": "stream",
     "text": [
      "Data points considered outliers for the feature 'Open-27':\n"
     ]
    },
    {
     "data": {
      "text/plain": [
       "(65, 480)"
      ]
     },
     "metadata": {},
     "output_type": "display_data"
    },
    {
     "name": "stdout",
     "output_type": "stream",
     "text": [
      "Data points considered outliers for the feature 'High-27':\n"
     ]
    },
    {
     "data": {
      "text/plain": [
       "(65, 480)"
      ]
     },
     "metadata": {},
     "output_type": "display_data"
    },
    {
     "name": "stdout",
     "output_type": "stream",
     "text": [
      "Data points considered outliers for the feature 'Low-27':\n"
     ]
    },
    {
     "data": {
      "text/plain": [
       "(64, 480)"
      ]
     },
     "metadata": {},
     "output_type": "display_data"
    },
    {
     "name": "stdout",
     "output_type": "stream",
     "text": [
      "Data points considered outliers for the feature 'Close-27':\n"
     ]
    },
    {
     "data": {
      "text/plain": [
       "(63, 480)"
      ]
     },
     "metadata": {},
     "output_type": "display_data"
    },
    {
     "name": "stdout",
     "output_type": "stream",
     "text": [
      "Data points considered outliers for the feature 'Volume-27':\n"
     ]
    },
    {
     "data": {
      "text/plain": [
       "(80, 480)"
      ]
     },
     "metadata": {},
     "output_type": "display_data"
    },
    {
     "name": "stdout",
     "output_type": "stream",
     "text": [
      "Data points considered outliers for the feature 'Adj Close-27':\n"
     ]
    },
    {
     "data": {
      "text/plain": [
       "(67, 480)"
      ]
     },
     "metadata": {},
     "output_type": "display_data"
    },
    {
     "name": "stdout",
     "output_type": "stream",
     "text": [
      "Data points considered outliers for the feature 'Dow Jones index-27':\n"
     ]
    },
    {
     "data": {
      "text/plain": [
       "(82, 480)"
      ]
     },
     "metadata": {},
     "output_type": "display_data"
    },
    {
     "name": "stdout",
     "output_type": "stream",
     "text": [
      "Data points considered outliers for the feature 'Exchange Rate USD Sell-27':\n"
     ]
    },
    {
     "data": {
      "text/plain": [
       "(50, 480)"
      ]
     },
     "metadata": {},
     "output_type": "display_data"
    },
    {
     "name": "stdout",
     "output_type": "stream",
     "text": [
      "Data points considered outliers for the feature 'BM&F Gold gramme-27':\n"
     ]
    },
    {
     "data": {
      "text/plain": [
       "(77, 480)"
      ]
     },
     "metadata": {},
     "output_type": "display_data"
    },
    {
     "name": "stdout",
     "output_type": "stream",
     "text": [
      "Data points considered outliers for the feature 'Exchange Rate USD Buy-27':\n"
     ]
    },
    {
     "data": {
      "text/plain": [
       "(50, 480)"
      ]
     },
     "metadata": {},
     "output_type": "display_data"
    },
    {
     "name": "stdout",
     "output_type": "stream",
     "text": [
      "Data points considered outliers for the feature 'Selic-27':\n"
     ]
    },
    {
     "data": {
      "text/plain": [
       "(249, 480)"
      ]
     },
     "metadata": {},
     "output_type": "display_data"
    },
    {
     "name": "stdout",
     "output_type": "stream",
     "text": [
      "Data points considered outliers for the feature 'Bovespa index-27':\n"
     ]
    },
    {
     "data": {
      "text/plain": [
       "(41, 480)"
      ]
     },
     "metadata": {},
     "output_type": "display_data"
    },
    {
     "name": "stdout",
     "output_type": "stream",
     "text": [
      "Data points considered outliers for the feature 'Foreign exchange operations balance-27':\n"
     ]
    },
    {
     "data": {
      "text/plain": [
       "(250, 480)"
      ]
     },
     "metadata": {},
     "output_type": "display_data"
    },
    {
     "name": "stdout",
     "output_type": "stream",
     "text": [
      "Data points considered outliers for the feature 'Nasdaq index-27':\n"
     ]
    },
    {
     "data": {
      "text/plain": [
       "(73, 480)"
      ]
     },
     "metadata": {},
     "output_type": "display_data"
    },
    {
     "name": "stdout",
     "output_type": "stream",
     "text": [
      "Data points considered outliers for the feature 'Bovespa total volume-27':\n"
     ]
    },
    {
     "data": {
      "text/plain": [
       "(72, 480)"
      ]
     },
     "metadata": {},
     "output_type": "display_data"
    },
    {
     "name": "stdout",
     "output_type": "stream",
     "text": [
      "Data points considered outliers for the feature 'International Reserves-27':\n"
     ]
    },
    {
     "data": {
      "text/plain": [
       "(155, 480)"
      ]
     },
     "metadata": {},
     "output_type": "display_data"
    },
    {
     "name": "stdout",
     "output_type": "stream",
     "text": [
      "Data points considered outliers for the feature 'Open-28':\n"
     ]
    },
    {
     "data": {
      "text/plain": [
       "(60, 480)"
      ]
     },
     "metadata": {},
     "output_type": "display_data"
    },
    {
     "name": "stdout",
     "output_type": "stream",
     "text": [
      "Data points considered outliers for the feature 'High-28':\n"
     ]
    },
    {
     "data": {
      "text/plain": [
       "(59, 480)"
      ]
     },
     "metadata": {},
     "output_type": "display_data"
    },
    {
     "name": "stdout",
     "output_type": "stream",
     "text": [
      "Data points considered outliers for the feature 'Low-28':\n"
     ]
    },
    {
     "data": {
      "text/plain": [
       "(64, 480)"
      ]
     },
     "metadata": {},
     "output_type": "display_data"
    },
    {
     "name": "stdout",
     "output_type": "stream",
     "text": [
      "Data points considered outliers for the feature 'Close-28':\n"
     ]
    },
    {
     "data": {
      "text/plain": [
       "(58, 480)"
      ]
     },
     "metadata": {},
     "output_type": "display_data"
    },
    {
     "name": "stdout",
     "output_type": "stream",
     "text": [
      "Data points considered outliers for the feature 'Volume-28':\n"
     ]
    },
    {
     "data": {
      "text/plain": [
       "(76, 480)"
      ]
     },
     "metadata": {},
     "output_type": "display_data"
    },
    {
     "name": "stdout",
     "output_type": "stream",
     "text": [
      "Data points considered outliers for the feature 'Adj Close-28':\n"
     ]
    },
    {
     "data": {
      "text/plain": [
       "(60, 480)"
      ]
     },
     "metadata": {},
     "output_type": "display_data"
    },
    {
     "name": "stdout",
     "output_type": "stream",
     "text": [
      "Data points considered outliers for the feature 'Dow Jones index-28':\n"
     ]
    },
    {
     "data": {
      "text/plain": [
       "(85, 480)"
      ]
     },
     "metadata": {},
     "output_type": "display_data"
    },
    {
     "name": "stdout",
     "output_type": "stream",
     "text": [
      "Data points considered outliers for the feature 'Exchange Rate USD Sell-28':\n"
     ]
    },
    {
     "data": {
      "text/plain": [
       "(47, 480)"
      ]
     },
     "metadata": {},
     "output_type": "display_data"
    },
    {
     "name": "stdout",
     "output_type": "stream",
     "text": [
      "Data points considered outliers for the feature 'BM&F Gold gramme-28':\n"
     ]
    },
    {
     "data": {
      "text/plain": [
       "(84, 480)"
      ]
     },
     "metadata": {},
     "output_type": "display_data"
    },
    {
     "name": "stdout",
     "output_type": "stream",
     "text": [
      "Data points considered outliers for the feature 'Exchange Rate USD Buy-28':\n"
     ]
    },
    {
     "data": {
      "text/plain": [
       "(47, 480)"
      ]
     },
     "metadata": {},
     "output_type": "display_data"
    },
    {
     "name": "stdout",
     "output_type": "stream",
     "text": [
      "Data points considered outliers for the feature 'Selic-28':\n"
     ]
    },
    {
     "data": {
      "text/plain": [
       "(235, 480)"
      ]
     },
     "metadata": {},
     "output_type": "display_data"
    },
    {
     "name": "stdout",
     "output_type": "stream",
     "text": [
      "Data points considered outliers for the feature 'Bovespa index-28':\n"
     ]
    },
    {
     "data": {
      "text/plain": [
       "(47, 480)"
      ]
     },
     "metadata": {},
     "output_type": "display_data"
    },
    {
     "name": "stdout",
     "output_type": "stream",
     "text": [
      "Data points considered outliers for the feature 'Foreign exchange operations balance-28':\n"
     ]
    },
    {
     "data": {
      "text/plain": [
       "(270, 480)"
      ]
     },
     "metadata": {},
     "output_type": "display_data"
    },
    {
     "name": "stdout",
     "output_type": "stream",
     "text": [
      "Data points considered outliers for the feature 'Nasdaq index-28':\n"
     ]
    },
    {
     "data": {
      "text/plain": [
       "(69, 480)"
      ]
     },
     "metadata": {},
     "output_type": "display_data"
    },
    {
     "name": "stdout",
     "output_type": "stream",
     "text": [
      "Data points considered outliers for the feature 'Bovespa total volume-28':\n"
     ]
    },
    {
     "data": {
      "text/plain": [
       "(80, 480)"
      ]
     },
     "metadata": {},
     "output_type": "display_data"
    },
    {
     "name": "stdout",
     "output_type": "stream",
     "text": [
      "Data points considered outliers for the feature 'International Reserves-28':\n"
     ]
    },
    {
     "data": {
      "text/plain": [
       "(147, 480)"
      ]
     },
     "metadata": {},
     "output_type": "display_data"
    },
    {
     "name": "stdout",
     "output_type": "stream",
     "text": [
      "Data points considered outliers for the feature 'Open-29':\n"
     ]
    },
    {
     "data": {
      "text/plain": [
       "(53, 480)"
      ]
     },
     "metadata": {},
     "output_type": "display_data"
    },
    {
     "name": "stdout",
     "output_type": "stream",
     "text": [
      "Data points considered outliers for the feature 'High-29':\n"
     ]
    },
    {
     "data": {
      "text/plain": [
       "(57, 480)"
      ]
     },
     "metadata": {},
     "output_type": "display_data"
    },
    {
     "name": "stdout",
     "output_type": "stream",
     "text": [
      "Data points considered outliers for the feature 'Low-29':\n"
     ]
    },
    {
     "data": {
      "text/plain": [
       "(53, 480)"
      ]
     },
     "metadata": {},
     "output_type": "display_data"
    },
    {
     "name": "stdout",
     "output_type": "stream",
     "text": [
      "Data points considered outliers for the feature 'Close-29':\n"
     ]
    },
    {
     "data": {
      "text/plain": [
       "(56, 480)"
      ]
     },
     "metadata": {},
     "output_type": "display_data"
    },
    {
     "name": "stdout",
     "output_type": "stream",
     "text": [
      "Data points considered outliers for the feature 'Volume-29':\n"
     ]
    },
    {
     "data": {
      "text/plain": [
       "(76, 480)"
      ]
     },
     "metadata": {},
     "output_type": "display_data"
    },
    {
     "name": "stdout",
     "output_type": "stream",
     "text": [
      "Data points considered outliers for the feature 'Adj Close-29':\n"
     ]
    },
    {
     "data": {
      "text/plain": [
       "(59, 480)"
      ]
     },
     "metadata": {},
     "output_type": "display_data"
    },
    {
     "name": "stdout",
     "output_type": "stream",
     "text": [
      "Data points considered outliers for the feature 'Dow Jones index-29':\n"
     ]
    },
    {
     "data": {
      "text/plain": [
       "(82, 480)"
      ]
     },
     "metadata": {},
     "output_type": "display_data"
    },
    {
     "name": "stdout",
     "output_type": "stream",
     "text": [
      "Data points considered outliers for the feature 'Exchange Rate USD Sell-29':\n"
     ]
    },
    {
     "data": {
      "text/plain": [
       "(41, 480)"
      ]
     },
     "metadata": {},
     "output_type": "display_data"
    },
    {
     "name": "stdout",
     "output_type": "stream",
     "text": [
      "Data points considered outliers for the feature 'BM&F Gold gramme-29':\n"
     ]
    },
    {
     "data": {
      "text/plain": [
       "(81, 480)"
      ]
     },
     "metadata": {},
     "output_type": "display_data"
    },
    {
     "name": "stdout",
     "output_type": "stream",
     "text": [
      "Data points considered outliers for the feature 'Exchange Rate USD Buy-29':\n"
     ]
    },
    {
     "data": {
      "text/plain": [
       "(41, 480)"
      ]
     },
     "metadata": {},
     "output_type": "display_data"
    },
    {
     "name": "stdout",
     "output_type": "stream",
     "text": [
      "Data points considered outliers for the feature 'Selic-29':\n"
     ]
    },
    {
     "data": {
      "text/plain": [
       "(221, 480)"
      ]
     },
     "metadata": {},
     "output_type": "display_data"
    },
    {
     "name": "stdout",
     "output_type": "stream",
     "text": [
      "Data points considered outliers for the feature 'Bovespa index-29':\n"
     ]
    },
    {
     "data": {
      "text/plain": [
       "(43, 480)"
      ]
     },
     "metadata": {},
     "output_type": "display_data"
    },
    {
     "name": "stdout",
     "output_type": "stream",
     "text": [
      "Data points considered outliers for the feature 'Foreign exchange operations balance-29':\n"
     ]
    },
    {
     "data": {
      "text/plain": [
       "(270, 480)"
      ]
     },
     "metadata": {},
     "output_type": "display_data"
    },
    {
     "name": "stdout",
     "output_type": "stream",
     "text": [
      "Data points considered outliers for the feature 'Nasdaq index-29':\n"
     ]
    },
    {
     "data": {
      "text/plain": [
       "(79, 480)"
      ]
     },
     "metadata": {},
     "output_type": "display_data"
    },
    {
     "name": "stdout",
     "output_type": "stream",
     "text": [
      "Data points considered outliers for the feature 'Bovespa total volume-29':\n"
     ]
    },
    {
     "data": {
      "text/plain": [
       "(79, 480)"
      ]
     },
     "metadata": {},
     "output_type": "display_data"
    },
    {
     "name": "stdout",
     "output_type": "stream",
     "text": [
      "Data points considered outliers for the feature 'International Reserves-29':\n"
     ]
    },
    {
     "data": {
      "text/plain": [
       "(136, 480)"
      ]
     },
     "metadata": {},
     "output_type": "display_data"
    },
    {
     "name": "stdout",
     "output_type": "stream",
     "text": [
      "Data points considered outliers for the feature 'Open-30':\n"
     ]
    },
    {
     "data": {
      "text/plain": [
       "(55, 480)"
      ]
     },
     "metadata": {},
     "output_type": "display_data"
    },
    {
     "name": "stdout",
     "output_type": "stream",
     "text": [
      "Data points considered outliers for the feature 'High-30':\n"
     ]
    },
    {
     "data": {
      "text/plain": [
       "(55, 480)"
      ]
     },
     "metadata": {},
     "output_type": "display_data"
    },
    {
     "name": "stdout",
     "output_type": "stream",
     "text": [
      "Data points considered outliers for the feature 'Low-30':\n"
     ]
    },
    {
     "data": {
      "text/plain": [
       "(51, 480)"
      ]
     },
     "metadata": {},
     "output_type": "display_data"
    },
    {
     "name": "stdout",
     "output_type": "stream",
     "text": [
      "Data points considered outliers for the feature 'Close-30':\n"
     ]
    },
    {
     "data": {
      "text/plain": [
       "(57, 480)"
      ]
     },
     "metadata": {},
     "output_type": "display_data"
    },
    {
     "name": "stdout",
     "output_type": "stream",
     "text": [
      "Data points considered outliers for the feature 'Volume-30':\n"
     ]
    },
    {
     "data": {
      "text/plain": [
       "(70, 480)"
      ]
     },
     "metadata": {},
     "output_type": "display_data"
    },
    {
     "name": "stdout",
     "output_type": "stream",
     "text": [
      "Data points considered outliers for the feature 'Adj Close-30':\n"
     ]
    },
    {
     "data": {
      "text/plain": [
       "(63, 480)"
      ]
     },
     "metadata": {},
     "output_type": "display_data"
    },
    {
     "name": "stdout",
     "output_type": "stream",
     "text": [
      "Data points considered outliers for the feature 'Dow Jones index-30':\n"
     ]
    },
    {
     "data": {
      "text/plain": [
       "(89, 480)"
      ]
     },
     "metadata": {},
     "output_type": "display_data"
    },
    {
     "name": "stdout",
     "output_type": "stream",
     "text": [
      "Data points considered outliers for the feature 'Exchange Rate USD Sell-30':\n"
     ]
    },
    {
     "data": {
      "text/plain": [
       "(46, 480)"
      ]
     },
     "metadata": {},
     "output_type": "display_data"
    },
    {
     "name": "stdout",
     "output_type": "stream",
     "text": [
      "Data points considered outliers for the feature 'BM&F Gold gramme-30':\n"
     ]
    },
    {
     "data": {
      "text/plain": [
       "(77, 480)"
      ]
     },
     "metadata": {},
     "output_type": "display_data"
    },
    {
     "name": "stdout",
     "output_type": "stream",
     "text": [
      "Data points considered outliers for the feature 'Exchange Rate USD Buy-30':\n"
     ]
    },
    {
     "data": {
      "text/plain": [
       "(46, 480)"
      ]
     },
     "metadata": {},
     "output_type": "display_data"
    },
    {
     "name": "stdout",
     "output_type": "stream",
     "text": [
      "Data points considered outliers for the feature 'Selic-30':\n"
     ]
    },
    {
     "data": {
      "text/plain": [
       "(235, 480)"
      ]
     },
     "metadata": {},
     "output_type": "display_data"
    },
    {
     "name": "stdout",
     "output_type": "stream",
     "text": [
      "Data points considered outliers for the feature 'Bovespa index-30':\n"
     ]
    },
    {
     "data": {
      "text/plain": [
       "(43, 480)"
      ]
     },
     "metadata": {},
     "output_type": "display_data"
    },
    {
     "name": "stdout",
     "output_type": "stream",
     "text": [
      "Data points considered outliers for the feature 'Foreign exchange operations balance-30':\n"
     ]
    },
    {
     "data": {
      "text/plain": [
       "(260, 480)"
      ]
     },
     "metadata": {},
     "output_type": "display_data"
    },
    {
     "name": "stdout",
     "output_type": "stream",
     "text": [
      "Data points considered outliers for the feature 'Nasdaq index-30':\n"
     ]
    },
    {
     "data": {
      "text/plain": [
       "(81, 480)"
      ]
     },
     "metadata": {},
     "output_type": "display_data"
    },
    {
     "name": "stdout",
     "output_type": "stream",
     "text": [
      "Data points considered outliers for the feature 'Bovespa total volume-30':\n"
     ]
    },
    {
     "data": {
      "text/plain": [
       "(75, 480)"
      ]
     },
     "metadata": {},
     "output_type": "display_data"
    },
    {
     "name": "stdout",
     "output_type": "stream",
     "text": [
      "Data points considered outliers for the feature 'International Reserves-30':\n"
     ]
    },
    {
     "data": {
      "text/plain": [
       "(127, 480)"
      ]
     },
     "metadata": {},
     "output_type": "display_data"
    },
    {
     "name": "stdout",
     "output_type": "stream",
     "text": [
      "Total number of data points identified as outliers: 1652\n"
     ]
    },
    {
     "data": {
      "text/plain": [
       "defaultdict(int,\n",
       "            {numpy.datetime64('2008-10-14T00:00:00.000000000'): 167,\n",
       "             numpy.datetime64('2008-10-15T00:00:00.000000000'): 246,\n",
       "             numpy.datetime64('2009-06-02T00:00:00.000000000'): 45,\n",
       "             numpy.datetime64('2015-03-30T00:00:00.000000000'): 21,\n",
       "             numpy.datetime64('2009-08-20T00:00:00.000000000'): 11,\n",
       "             numpy.datetime64('2015-09-04T00:00:00.000000000'): 41,\n",
       "             numpy.datetime64('2010-07-02T00:00:00.000000000'): 30,\n",
       "             numpy.datetime64('2016-04-28T00:00:00.000000000'): 42,\n",
       "             numpy.datetime64('2010-07-26T00:00:00.000000000'): 28,\n",
       "             numpy.datetime64('2009-06-05T00:00:00.000000000'): 20,\n",
       "             numpy.datetime64('2013-04-24T00:00:00.000000000'): 17,\n",
       "             numpy.datetime64('2014-03-06T00:00:00.000000000'): 18,\n",
       "             numpy.datetime64('2010-01-11T00:00:00.000000000'): 4,\n",
       "             numpy.datetime64('2014-08-11T00:00:00.000000000'): 6,\n",
       "             numpy.datetime64('2014-10-29T00:00:00.000000000'): 70,\n",
       "             numpy.datetime64('2015-01-16T00:00:00.000000000'): 11,\n",
       "             numpy.datetime64('2009-11-13T00:00:00.000000000'): 26,\n",
       "             numpy.datetime64('2015-09-10T00:00:00.000000000'): 38,\n",
       "             numpy.datetime64('2010-07-08T00:00:00.000000000'): 8,\n",
       "             numpy.datetime64('2016-05-04T00:00:00.000000000'): 15,\n",
       "             numpy.datetime64('2010-12-13T00:00:00.000000000'): 18,\n",
       "             numpy.datetime64('2011-03-02T00:00:00.000000000'): 42,\n",
       "             numpy.datetime64('2009-10-08T00:00:00.000000000'): 41,\n",
       "             numpy.datetime64('2009-06-29T00:00:00.000000000'): 36,\n",
       "             numpy.datetime64('2012-06-12T00:00:00.000000000'): 24,\n",
       "             numpy.datetime64('2013-12-23T00:00:00.000000000'): 10,\n",
       "             numpy.datetime64('2010-07-22T00:00:00.000000000'): 34,\n",
       "             numpy.datetime64('2014-05-30T00:00:00.000000000'): 2,\n",
       "             numpy.datetime64('2009-03-27T00:00:00.000000000'): 59,\n",
       "             numpy.datetime64('2015-06-29T00:00:00.000000000'): 22,\n",
       "             numpy.datetime64('2015-03-19T00:00:00.000000000'): 58,\n",
       "             numpy.datetime64('2014-12-01T00:00:00.000000000'): 49,\n",
       "             numpy.datetime64('2010-04-26T00:00:00.000000000'): 15,\n",
       "             numpy.datetime64('2010-10-01T00:00:00.000000000'): 32,\n",
       "             numpy.datetime64('2011-05-26T00:00:00.000000000'): 4,\n",
       "             numpy.datetime64('2012-09-11T00:00:00.000000000'): 28,\n",
       "             numpy.datetime64('2012-11-29T00:00:00.000000000'): 3,\n",
       "             numpy.datetime64('2013-07-24T00:00:00.000000000'): 22,\n",
       "             numpy.datetime64('2009-04-02T00:00:00.000000000'): 74,\n",
       "             numpy.datetime64('2015-01-28T00:00:00.000000000'): 35,\n",
       "             numpy.datetime64('2012-08-30T00:00:00.000000000'): 34,\n",
       "             numpy.datetime64('2015-04-17T00:00:00.000000000'): 131,\n",
       "             numpy.datetime64('2015-09-22T00:00:00.000000000'): 75,\n",
       "             numpy.datetime64('2010-07-20T00:00:00.000000000'): 12,\n",
       "             numpy.datetime64('2016-05-16T00:00:00.000000000'): 6,\n",
       "             numpy.datetime64('2014-10-21T00:00:00.000000000'): 52,\n",
       "             numpy.datetime64('2012-01-24T00:00:00.000000000'): 32,\n",
       "             numpy.datetime64('2012-04-12T00:00:00.000000000'): 10,\n",
       "             numpy.datetime64('2012-12-05T00:00:00.000000000'): 7,\n",
       "             numpy.datetime64('2014-06-11T00:00:00.000000000'): 9,\n",
       "             numpy.datetime64('2014-08-29T00:00:00.000000000'): 23,\n",
       "             numpy.datetime64('2009-04-08T00:00:00.000000000'): 37,\n",
       "             numpy.datetime64('2015-02-03T00:00:00.000000000'): 35,\n",
       "             numpy.datetime64('2015-04-23T00:00:00.000000000'): 113,\n",
       "             numpy.datetime64('2009-05-05T00:00:00.000000000'): 76,\n",
       "             numpy.datetime64('2009-12-01T00:00:00.000000000'): 22,\n",
       "             numpy.datetime64('2010-02-18T00:00:00.000000000'): 5,\n",
       "             numpy.datetime64('2016-03-04T00:00:00.000000000'): 246,\n",
       "             numpy.datetime64('2009-11-25T00:00:00.000000000'): 19,\n",
       "             numpy.datetime64('2015-07-02T00:00:00.000000000'): 12,\n",
       "             numpy.datetime64('2011-06-07T00:00:00.000000000'): 21,\n",
       "             numpy.datetime64('2011-08-25T00:00:00.000000000'): 108,\n",
       "             numpy.datetime64('2012-01-30T00:00:00.000000000'): 19,\n",
       "             numpy.datetime64('2012-04-18T00:00:00.000000000'): 54,\n",
       "             numpy.datetime64('2012-07-06T00:00:00.000000000'): 22,\n",
       "             numpy.datetime64('2012-12-11T00:00:00.000000000'): 7,\n",
       "             numpy.datetime64('2013-02-28T00:00:00.000000000'): 7,\n",
       "             numpy.datetime64('2008-11-07T00:00:00.000000000'): 72,\n",
       "             numpy.datetime64('2015-04-14T00:00:00.000000000'): 124,\n",
       "             numpy.datetime64('2014-09-04T00:00:00.000000000'): 9,\n",
       "             numpy.datetime64('2009-07-02T00:00:00.000000000'): 41,\n",
       "             numpy.datetime64('2015-06-17T00:00:00.000000000'): 25,\n",
       "             numpy.datetime64('2009-12-07T00:00:00.000000000'): 3,\n",
       "             numpy.datetime64('2010-05-14T00:00:00.000000000'): 15,\n",
       "             numpy.datetime64('2016-03-10T00:00:00.000000000'): 195,\n",
       "             numpy.datetime64('2010-10-19T00:00:00.000000000'): 31,\n",
       "             numpy.datetime64('2011-06-13T00:00:00.000000000'): 17,\n",
       "             numpy.datetime64('2011-08-31T00:00:00.000000000'): 56,\n",
       "             numpy.datetime64('2011-11-18T00:00:00.000000000'): 13,\n",
       "             numpy.datetime64('2013-02-04T00:00:00.000000000'): 2,\n",
       "             numpy.datetime64('2012-04-24T00:00:00.000000000'): 30,\n",
       "             numpy.datetime64('2012-07-12T00:00:00.000000000'): 40,\n",
       "             numpy.datetime64('2012-12-17T00:00:00.000000000'): 18,\n",
       "             numpy.datetime64('2013-03-06T00:00:00.000000000'): 34,\n",
       "             numpy.datetime64('2013-05-24T00:00:00.000000000'): 2,\n",
       "             numpy.datetime64('2013-10-29T00:00:00.000000000'): 16,\n",
       "             numpy.datetime64('2014-01-16T00:00:00.000000000'): 22,\n",
       "             numpy.datetime64('2014-06-23T00:00:00.000000000'): 4,\n",
       "             numpy.datetime64('2014-09-10T00:00:00.000000000'): 10,\n",
       "             numpy.datetime64('2014-11-28T00:00:00.000000000'): 17,\n",
       "             numpy.datetime64('2009-07-08T00:00:00.000000000'): 32,\n",
       "             numpy.datetime64('2015-05-05T00:00:00.000000000'): 109,\n",
       "             numpy.datetime64('2015-07-23T00:00:00.000000000'): 20,\n",
       "             numpy.datetime64('2016-03-16T00:00:00.000000000'): 129,\n",
       "             numpy.datetime64('2010-10-25T00:00:00.000000000'): 20,\n",
       "             numpy.datetime64('2011-01-12T00:00:00.000000000'): 28,\n",
       "             numpy.datetime64('2011-09-06T00:00:00.000000000'): 82,\n",
       "             numpy.datetime64('2011-06-16T00:00:00.000000000'): 14,\n",
       "             numpy.datetime64('2012-04-30T00:00:00.000000000'): 32,\n",
       "             numpy.datetime64('2012-07-18T00:00:00.000000000'): 37,\n",
       "             numpy.datetime64('2012-10-05T00:00:00.000000000'): 14,\n",
       "             numpy.datetime64('2013-03-12T00:00:00.000000000'): 4,\n",
       "             numpy.datetime64('2009-11-09T00:00:00.000000000'): 16,\n",
       "             numpy.datetime64('2015-12-10T00:00:00.000000000'): 2,\n",
       "             numpy.datetime64('2013-11-04T00:00:00.000000000'): 3,\n",
       "             numpy.datetime64('2011-11-08T00:00:00.000000000'): 41,\n",
       "             numpy.datetime64('2014-01-22T00:00:00.000000000'): 33,\n",
       "             numpy.datetime64('2014-04-11T00:00:00.000000000'): 23,\n",
       "             numpy.datetime64('2008-11-19T00:00:00.000000000'): 151,\n",
       "             numpy.datetime64('2009-02-06T00:00:00.000000000'): 53,\n",
       "             numpy.datetime64('2014-12-04T00:00:00.000000000'): 21,\n",
       "             numpy.datetime64('2009-07-14T00:00:00.000000000'): 13,\n",
       "             numpy.datetime64('2015-05-11T00:00:00.000000000'): 48,\n",
       "             numpy.datetime64('2015-07-29T00:00:00.000000000'): 33,\n",
       "             numpy.datetime64('2010-03-08T00:00:00.000000000'): 3,\n",
       "             numpy.datetime64('2010-05-26T00:00:00.000000000'): 44,\n",
       "             numpy.datetime64('2016-03-22T00:00:00.000000000'): 124,\n",
       "             numpy.datetime64('2016-06-09T00:00:00.000000000'): 11,\n",
       "             numpy.datetime64('2011-01-18T00:00:00.000000000'): 8,\n",
       "             numpy.datetime64('2009-04-27T00:00:00.000000000'): 15,\n",
       "             numpy.datetime64('2016-03-29T00:00:00.000000000'): 104,\n",
       "             numpy.datetime64('2011-09-12T00:00:00.000000000'): 61,\n",
       "             numpy.datetime64('2011-11-30T00:00:00.000000000'): 29,\n",
       "             numpy.datetime64('2012-02-17T00:00:00.000000000'): 14,\n",
       "             numpy.datetime64('2012-08-24T00:00:00.000000000'): 7,\n",
       "             numpy.datetime64('2012-10-11T00:00:00.000000000'): 34,\n",
       "             numpy.datetime64('2013-06-05T00:00:00.000000000'): 28,\n",
       "             numpy.datetime64('2013-08-23T00:00:00.000000000'): 16,\n",
       "             numpy.datetime64('2014-01-28T00:00:00.000000000'): 13,\n",
       "             numpy.datetime64('2014-04-17T00:00:00.000000000'): 13,\n",
       "             numpy.datetime64('2008-11-25T00:00:00.000000000'): 58,\n",
       "             numpy.datetime64('2014-09-22T00:00:00.000000000'): 6,\n",
       "             numpy.datetime64('2013-07-12T00:00:00.000000000'): 27,\n",
       "             numpy.datetime64('2014-12-10T00:00:00.000000000'): 41,\n",
       "             numpy.datetime64('2009-07-20T00:00:00.000000000'): 28,\n",
       "             numpy.datetime64('2009-10-07T00:00:00.000000000'): 17,\n",
       "             numpy.datetime64('2015-08-04T00:00:00.000000000'): 35,\n",
       "             numpy.datetime64('2010-06-01T00:00:00.000000000'): 27,\n",
       "             numpy.datetime64('2016-03-28T00:00:00.000000000'): 110,\n",
       "             numpy.datetime64('2016-06-15T00:00:00.000000000'): 39,\n",
       "             numpy.datetime64('2011-01-24T00:00:00.000000000'): 23,\n",
       "             numpy.datetime64('2011-07-01T00:00:00.000000000'): 15,\n",
       "             numpy.datetime64('2011-12-06T00:00:00.000000000'): 31,\n",
       "             numpy.datetime64('2012-02-23T00:00:00.000000000'): 4,\n",
       "             numpy.datetime64('2012-07-30T00:00:00.000000000'): 29,\n",
       "             numpy.datetime64('2012-10-17T00:00:00.000000000'): 41,\n",
       "             numpy.datetime64('2013-01-04T00:00:00.000000000'): 12,\n",
       "             numpy.datetime64('2013-06-11T00:00:00.000000000'): 21,\n",
       "             numpy.datetime64('2013-08-29T00:00:00.000000000'): 32,\n",
       "             numpy.datetime64('2014-04-23T00:00:00.000000000'): 10,\n",
       "             numpy.datetime64('2014-07-11T00:00:00.000000000'): 7,\n",
       "             numpy.datetime64('2009-02-18T00:00:00.000000000'): 62,\n",
       "             numpy.datetime64('2014-12-16T00:00:00.000000000'): 147,\n",
       "             numpy.datetime64('2015-03-05T00:00:00.000000000'): 42,\n",
       "             numpy.datetime64('2009-10-13T00:00:00.000000000'): 55,\n",
       "             numpy.datetime64('2015-08-10T00:00:00.000000000'): 29,\n",
       "             numpy.datetime64('2010-06-07T00:00:00.000000000'): 36,\n",
       "             numpy.datetime64('2010-10-07T00:00:00.000000000'): 58,\n",
       "             numpy.datetime64('2010-08-25T00:00:00.000000000'): 4,\n",
       "             numpy.datetime64('2014-08-19T00:00:00.000000000'): 5,\n",
       "             numpy.datetime64('2010-11-12T00:00:00.000000000'): 5,\n",
       "             numpy.datetime64('2011-07-07T00:00:00.000000000'): 3,\n",
       "             numpy.datetime64('2011-09-14T00:00:00.000000000'): 54,\n",
       "             numpy.datetime64('2013-08-06T00:00:00.000000000'): 8,\n",
       "             numpy.datetime64('2012-02-29T00:00:00.000000000'): 8,\n",
       "             numpy.datetime64('2012-05-18T00:00:00.000000000'): 22,\n",
       "             numpy.datetime64('2012-10-23T00:00:00.000000000'): 16,\n",
       "             numpy.datetime64('2013-01-10T00:00:00.000000000'): 2,\n",
       "             numpy.datetime64('2010-10-08T00:00:00.000000000'): 29,\n",
       "             numpy.datetime64('2013-06-17T00:00:00.000000000'): 15,\n",
       "             numpy.datetime64('2013-09-04T00:00:00.000000000'): 24,\n",
       "             numpy.datetime64('2014-04-29T00:00:00.000000000'): 8,\n",
       "             numpy.datetime64('2014-07-17T00:00:00.000000000'): 23,\n",
       "             numpy.datetime64('2015-06-05T00:00:00.000000000'): 19,\n",
       "             numpy.datetime64('2009-05-14T00:00:00.000000000'): 37,\n",
       "             numpy.datetime64('2015-03-11T00:00:00.000000000'): 63,\n",
       "             numpy.datetime64('2015-05-29T00:00:00.000000000'): 4,\n",
       "             numpy.datetime64('2010-01-06T00:00:00.000000000'): 6,\n",
       "             numpy.datetime64('2010-03-26T00:00:00.000000000'): 13,\n",
       "             numpy.datetime64('2010-08-31T00:00:00.000000000'): 4,\n",
       "             numpy.datetime64('2015-02-27T00:00:00.000000000'): 13,\n",
       "             numpy.datetime64('2010-11-18T00:00:00.000000000'): 23,\n",
       "             numpy.datetime64('2011-09-30T00:00:00.000000000'): 47,\n",
       "             numpy.datetime64('2013-12-17T00:00:00.000000000'): 13,\n",
       "             numpy.datetime64('2012-03-06T00:00:00.000000000'): 6,\n",
       "             numpy.datetime64('2012-05-24T00:00:00.000000000'): 20,\n",
       "             numpy.datetime64('2013-01-16T00:00:00.000000000'): 1,\n",
       "             numpy.datetime64('2013-04-05T00:00:00.000000000'): 14,\n",
       "             numpy.datetime64('2013-09-10T00:00:00.000000000'): 18,\n",
       "             numpy.datetime64('2014-05-05T00:00:00.000000000'): 3,\n",
       "             numpy.datetime64('2014-07-23T00:00:00.000000000'): 8,\n",
       "             numpy.datetime64('2014-10-10T00:00:00.000000000'): 18,\n",
       "             numpy.datetime64('2009-05-20T00:00:00.000000000'): 22,\n",
       "             numpy.datetime64('2015-03-17T00:00:00.000000000'): 67,\n",
       "             numpy.datetime64('2010-01-12T00:00:00.000000000'): 11,\n",
       "             numpy.datetime64('2016-04-15T00:00:00.000000000'): 47,\n",
       "             numpy.datetime64('2010-11-24T00:00:00.000000000'): 11,\n",
       "             numpy.datetime64('2011-02-11T00:00:00.000000000'): 24,\n",
       "             numpy.datetime64('2011-07-19T00:00:00.000000000'): 1,\n",
       "             numpy.datetime64('2011-10-06T00:00:00.000000000'): 20,\n",
       "             numpy.datetime64('2012-03-12T00:00:00.000000000'): 34,\n",
       "             numpy.datetime64('2012-05-30T00:00:00.000000000'): 9,\n",
       "             numpy.datetime64('2015-06-01T00:00:00.000000000'): 1,\n",
       "             numpy.datetime64('2012-08-17T00:00:00.000000000'): 10,\n",
       "             numpy.datetime64('2013-01-22T00:00:00.000000000'): 5,\n",
       "             numpy.datetime64('2011-03-14T00:00:00.000000000'): 52,\n",
       "             numpy.datetime64('2013-04-11T00:00:00.000000000'): 10,\n",
       "             numpy.datetime64('2013-09-16T00:00:00.000000000'): 19,\n",
       "             numpy.datetime64('2013-12-04T00:00:00.000000000'): 30,\n",
       "             numpy.datetime64('2014-02-21T00:00:00.000000000'): 6,\n",
       "             numpy.datetime64('2008-12-19T00:00:00.000000000'): 38,\n",
       "             numpy.datetime64('2014-10-16T00:00:00.000000000'): 23,\n",
       "             numpy.datetime64('2009-05-26T00:00:00.000000000'): 22,\n",
       "             numpy.datetime64('2009-08-13T00:00:00.000000000'): 19,\n",
       "             numpy.datetime64('2015-06-10T00:00:00.000000000'): 19,\n",
       "             numpy.datetime64('2015-08-28T00:00:00.000000000'): 25,\n",
       "             numpy.datetime64('2010-04-07T00:00:00.000000000'): 2,\n",
       "             numpy.datetime64('2010-06-25T00:00:00.000000000'): 20,\n",
       "             numpy.datetime64('2010-11-30T00:00:00.000000000'): 9,\n",
       "             numpy.datetime64('2011-02-17T00:00:00.000000000'): 21,\n",
       "             numpy.datetime64('2011-07-25T00:00:00.000000000'): 19,\n",
       "             numpy.datetime64('2012-06-05T00:00:00.000000000'): 30,\n",
       "             numpy.datetime64('2012-08-23T00:00:00.000000000'): 5,\n",
       "             numpy.datetime64('2013-01-28T00:00:00.000000000'): 15,\n",
       "             numpy.datetime64('2013-04-17T00:00:00.000000000'): 53,\n",
       "             numpy.datetime64('2013-07-05T00:00:00.000000000'): 6,\n",
       "             numpy.datetime64('2013-12-10T00:00:00.000000000'): 20,\n",
       "             numpy.datetime64('2014-02-27T00:00:00.000000000'): 24,\n",
       "             numpy.datetime64('2011-06-01T00:00:00.000000000'): 5,\n",
       "             numpy.datetime64('2014-08-04T00:00:00.000000000'): 3,\n",
       "             numpy.datetime64('2014-10-22T00:00:00.000000000'): 33,\n",
       "             numpy.datetime64('2009-06-01T00:00:00.000000000'): 47,\n",
       "             numpy.datetime64('2009-08-19T00:00:00.000000000'): 15,\n",
       "             numpy.datetime64('2015-06-16T00:00:00.000000000'): 21,\n",
       "             numpy.datetime64('2015-09-03T00:00:00.000000000'): 21,\n",
       "             numpy.datetime64('2010-04-13T00:00:00.000000000'): 7,\n",
       "             numpy.datetime64('2010-07-01T00:00:00.000000000'): 33,\n",
       "             numpy.datetime64('2016-04-27T00:00:00.000000000'): 53,\n",
       "             numpy.datetime64('2010-12-06T00:00:00.000000000'): 1,\n",
       "             numpy.datetime64('2011-02-23T00:00:00.000000000'): 46,\n",
       "             numpy.datetime64('2011-10-18T00:00:00.000000000'): 8,\n",
       "             numpy.datetime64('2012-01-05T00:00:00.000000000'): 6,\n",
       "             numpy.datetime64('2012-06-11T00:00:00.000000000'): 25,\n",
       "             numpy.datetime64('2012-08-29T00:00:00.000000000'): 22,\n",
       "             numpy.datetime64('2012-11-16T00:00:00.000000000'): 8,\n",
       "             numpy.datetime64('2013-04-23T00:00:00.000000000'): 21,\n",
       "             numpy.datetime64('2013-07-11T00:00:00.000000000'): 29,\n",
       "             numpy.datetime64('2013-12-16T00:00:00.000000000'): 19,\n",
       "             numpy.datetime64('2014-03-05T00:00:00.000000000'): 21,\n",
       "             numpy.datetime64('2014-05-23T00:00:00.000000000'): 1,\n",
       "             numpy.datetime64('2009-03-20T00:00:00.000000000'): 39,\n",
       "             numpy.datetime64('2015-01-15T00:00:00.000000000'): 17,\n",
       "             numpy.datetime64('2009-08-25T00:00:00.000000000'): 6,\n",
       "             numpy.datetime64('2015-06-22T00:00:00.000000000'): 12,\n",
       "             numpy.datetime64('2015-09-09T00:00:00.000000000'): 6,\n",
       "             numpy.datetime64('2011-08-19T00:00:00.000000000'): 147,\n",
       "             numpy.datetime64('2015-11-27T00:00:00.000000000'): 5,\n",
       "             numpy.datetime64('2010-07-07T00:00:00.000000000'): 19,\n",
       "             numpy.datetime64('2016-05-03T00:00:00.000000000'): 17,\n",
       "             numpy.datetime64('2011-09-02T00:00:00.000000000'): 98,\n",
       "             numpy.datetime64('2011-03-01T00:00:00.000000000'): 39,\n",
       "             numpy.datetime64('2014-12-30T00:00:00.000000000'): 40,\n",
       "             numpy.datetime64('2012-01-11T00:00:00.000000000'): 6,\n",
       "             numpy.datetime64('2012-03-30T00:00:00.000000000'): 25,\n",
       "             numpy.datetime64('2010-10-14T00:00:00.000000000'): 41,\n",
       "             numpy.datetime64('2012-09-04T00:00:00.000000000'): 32,\n",
       "             numpy.datetime64('2013-04-29T00:00:00.000000000'): 48,\n",
       "             numpy.datetime64('2013-07-17T00:00:00.000000000'): 25,\n",
       "             numpy.datetime64('2013-10-04T00:00:00.000000000'): 6,\n",
       "             numpy.datetime64('2009-02-19T00:00:00.000000000'): 73,\n",
       "             numpy.datetime64('2014-03-11T00:00:00.000000000'): 16,\n",
       "             numpy.datetime64('2014-05-29T00:00:00.000000000'): 1,\n",
       "             numpy.datetime64('2009-01-06T00:00:00.000000000'): 151,\n",
       "             numpy.datetime64('2014-11-03T00:00:00.000000000'): 45,\n",
       "             numpy.datetime64('2015-01-21T00:00:00.000000000'): 6,\n",
       "             numpy.datetime64('2015-04-10T00:00:00.000000000'): 86,\n",
       "             numpy.datetime64('2009-11-18T00:00:00.000000000'): 31,\n",
       "             numpy.datetime64('2010-02-05T00:00:00.000000000'): 8,\n",
       "             numpy.datetime64('2015-12-03T00:00:00.000000000'): 6,\n",
       "             numpy.datetime64('2010-07-13T00:00:00.000000000'): 23,\n",
       "             numpy.datetime64('2010-09-30T00:00:00.000000000'): 43,\n",
       "             numpy.datetime64('2015-12-07T00:00:00.000000000'): 2,\n",
       "             numpy.datetime64('2011-05-25T00:00:00.000000000'): 10,\n",
       "             numpy.datetime64('2008-11-13T00:00:00.000000000'): 82,\n",
       "             numpy.datetime64('2012-04-05T00:00:00.000000000'): 22,\n",
       "             numpy.datetime64('2012-09-10T00:00:00.000000000'): 38,\n",
       "             numpy.datetime64('2012-11-28T00:00:00.000000000'): 2,\n",
       "             numpy.datetime64('2013-07-23T00:00:00.000000000'): 15,\n",
       "             numpy.datetime64('2013-10-10T00:00:00.000000000'): 39,\n",
       "             numpy.datetime64('2014-03-17T00:00:00.000000000'): 12,\n",
       "             numpy.datetime64('2014-06-04T00:00:00.000000000'): 3,\n",
       "             numpy.datetime64('2009-01-12T00:00:00.000000000'): 28,\n",
       "             numpy.datetime64('2009-04-01T00:00:00.000000000'): 38,\n",
       "             numpy.datetime64('2015-01-27T00:00:00.000000000'): 18,\n",
       "             numpy.datetime64('2015-04-16T00:00:00.000000000'): 144,\n",
       "             numpy.datetime64('2009-11-24T00:00:00.000000000'): 21,\n",
       "             numpy.datetime64('2015-09-21T00:00:00.000000000'): 44,\n",
       "             numpy.datetime64('2015-12-09T00:00:00.000000000'): 25,\n",
       "             numpy.datetime64('2016-02-26T00:00:00.000000000'): 17,\n",
       "             numpy.datetime64('2010-10-06T00:00:00.000000000'): 56,\n",
       "             numpy.datetime64('2011-05-31T00:00:00.000000000'): 5,\n",
       "             numpy.datetime64('2011-08-18T00:00:00.000000000'): 155,\n",
       "             numpy.datetime64('2012-01-23T00:00:00.000000000'): 35,\n",
       "             numpy.datetime64('2012-04-11T00:00:00.000000000'): 10,\n",
       "             numpy.datetime64('2012-06-29T00:00:00.000000000'): 26,\n",
       "             numpy.datetime64('2009-06-08T00:00:00.000000000'): 8,\n",
       "             numpy.datetime64('2013-02-21T00:00:00.000000000'): 10,\n",
       "             numpy.datetime64('2013-07-29T00:00:00.000000000'): 15,\n",
       "             numpy.datetime64('2013-10-16T00:00:00.000000000'): 54,\n",
       "             numpy.datetime64('2014-01-03T00:00:00.000000000'): 9,\n",
       "             numpy.datetime64('2014-07-21T00:00:00.000000000'): 36,\n",
       "             numpy.datetime64('2008-10-31T00:00:00.000000000'): 123,\n",
       "             numpy.datetime64('2014-08-28T00:00:00.000000000'): 35,\n",
       "             numpy.datetime64('2009-04-07T00:00:00.000000000'): 42,\n",
       "             numpy.datetime64('2009-06-25T00:00:00.000000000'): 23,\n",
       "             numpy.datetime64('2015-04-22T00:00:00.000000000'): 118,\n",
       "             numpy.datetime64('2015-07-10T00:00:00.000000000'): 10,\n",
       "             numpy.datetime64('2010-02-17T00:00:00.000000000'): 1,\n",
       "             numpy.datetime64('2015-12-15T00:00:00.000000000'): 30,\n",
       "             numpy.datetime64('2016-03-03T00:00:00.000000000'): 199,\n",
       "             numpy.datetime64('2010-12-30T00:00:00.000000000'): 17,\n",
       "             numpy.datetime64('2011-06-06T00:00:00.000000000'): 1,\n",
       "             numpy.datetime64('2011-08-24T00:00:00.000000000'): 98,\n",
       "             numpy.datetime64('2011-11-11T00:00:00.000000000'): 26,\n",
       "             numpy.datetime64('2012-04-17T00:00:00.000000000'): 20,\n",
       "             numpy.datetime64('2012-07-05T00:00:00.000000000'): 15,\n",
       "             numpy.datetime64('2012-12-10T00:00:00.000000000'): 5,\n",
       "             numpy.datetime64('2013-02-27T00:00:00.000000000'): 2,\n",
       "             numpy.datetime64('2014-12-22T00:00:00.000000000'): 46,\n",
       "             numpy.datetime64('2013-10-22T00:00:00.000000000'): 21,\n",
       "             numpy.datetime64('2014-01-09T00:00:00.000000000'): 4,\n",
       "             numpy.datetime64('2009-08-26T00:00:00.000000000'): 8,\n",
       "             numpy.datetime64('2008-11-06T00:00:00.000000000'): 87,\n",
       "             numpy.datetime64('2014-09-03T00:00:00.000000000'): 39,\n",
       "             numpy.datetime64('2014-11-21T00:00:00.000000000'): 38,\n",
       "             numpy.datetime64('2009-07-01T00:00:00.000000000'): 47,\n",
       "             numpy.datetime64('2015-04-28T00:00:00.000000000'): 99,\n",
       "             numpy.datetime64('2015-07-16T00:00:00.000000000'): 12,\n",
       "             numpy.datetime64('2010-02-23T00:00:00.000000000'): 3,\n",
       "             numpy.datetime64('2010-05-13T00:00:00.000000000'): 23,\n",
       "             numpy.datetime64('2016-03-09T00:00:00.000000000'): 189,\n",
       "             numpy.datetime64('2016-05-27T00:00:00.000000000'): 2,\n",
       "             numpy.datetime64('2011-01-05T00:00:00.000000000'): 3,\n",
       "             numpy.datetime64('2011-03-25T00:00:00.000000000'): 25,\n",
       "             numpy.datetime64('2011-08-30T00:00:00.000000000'): 73,\n",
       "             numpy.datetime64('2011-11-17T00:00:00.000000000'): 14,\n",
       "             numpy.datetime64('2012-04-23T00:00:00.000000000'): 36,\n",
       "             numpy.datetime64('2012-07-11T00:00:00.000000000'): 3,\n",
       "             numpy.datetime64('2012-09-28T00:00:00.000000000'): 14,\n",
       "             numpy.datetime64('2009-10-19T00:00:00.000000000'): 54,\n",
       "             numpy.datetime64('2013-05-23T00:00:00.000000000'): 5,\n",
       "             numpy.datetime64('2013-10-28T00:00:00.000000000'): 46,\n",
       "             numpy.datetime64('2014-01-15T00:00:00.000000000'): 6,\n",
       "             numpy.datetime64('2014-04-04T00:00:00.000000000'): 25,\n",
       "             numpy.datetime64('2008-11-12T00:00:00.000000000'): 116,\n",
       "             numpy.datetime64('2009-01-30T00:00:00.000000000'): 62,\n",
       "             numpy.datetime64('2014-11-27T00:00:00.000000000'): 6,\n",
       "             numpy.datetime64('2009-07-07T00:00:00.000000000'): 39,\n",
       "             numpy.datetime64('2015-05-04T00:00:00.000000000'): 98,\n",
       "             numpy.datetime64('2015-06-23T00:00:00.000000000'): 7,\n",
       "             numpy.datetime64('2015-07-22T00:00:00.000000000'): 13,\n",
       "             numpy.datetime64('2010-03-01T00:00:00.000000000'): 7,\n",
       "             numpy.datetime64('2010-05-19T00:00:00.000000000'): 12,\n",
       "             numpy.datetime64('2010-08-06T00:00:00.000000000'): 14,\n",
       "             numpy.datetime64('2011-01-11T00:00:00.000000000'): 1,\n",
       "             numpy.datetime64('2010-01-14T00:00:00.000000000'): 14,\n",
       "             numpy.datetime64('2011-11-23T00:00:00.000000000'): 35,\n",
       "             numpy.datetime64('2012-02-10T00:00:00.000000000'): 54,\n",
       "             numpy.datetime64('2012-07-17T00:00:00.000000000'): 46,\n",
       "             numpy.datetime64('2012-10-04T00:00:00.000000000'): 15,\n",
       "             numpy.datetime64('2013-03-11T00:00:00.000000000'): 5,\n",
       "             numpy.datetime64('2013-05-29T00:00:00.000000000'): 2,\n",
       "             numpy.datetime64('2013-08-16T00:00:00.000000000'): 25,\n",
       "             numpy.datetime64('2014-01-21T00:00:00.000000000'): 23,\n",
       "             numpy.datetime64('2014-04-10T00:00:00.000000000'): 30,\n",
       "             numpy.datetime64('2008-11-18T00:00:00.000000000'): 85,\n",
       "             numpy.datetime64('2009-02-05T00:00:00.000000000'): 40,\n",
       "             numpy.datetime64('2014-12-03T00:00:00.000000000'): 8,\n",
       "             numpy.datetime64('2009-07-13T00:00:00.000000000'): 28,\n",
       "             numpy.datetime64('2009-09-30T00:00:00.000000000'): 8,\n",
       "             numpy.datetime64('2009-12-18T00:00:00.000000000'): 4,\n",
       "             numpy.datetime64('2010-05-25T00:00:00.000000000'): 38,\n",
       "             numpy.datetime64('2016-03-21T00:00:00.000000000'): 147,\n",
       "             numpy.datetime64('2016-06-08T00:00:00.000000000'): 28,\n",
       "             numpy.datetime64('2014-10-28T00:00:00.000000000'): 59,\n",
       "             numpy.datetime64('2012-09-17T00:00:00.000000000'): 56,\n",
       "             numpy.datetime64('2009-03-26T00:00:00.000000000'): 63,\n",
       "             numpy.datetime64('2011-06-24T00:00:00.000000000'): 10,\n",
       "             numpy.datetime64('2015-09-11T00:00:00.000000000'): 34,\n",
       "             numpy.datetime64('2011-11-29T00:00:00.000000000'): 10,\n",
       "             numpy.datetime64('2012-02-16T00:00:00.000000000'): 17,\n",
       "             numpy.datetime64('2012-07-23T00:00:00.000000000'): 24,\n",
       "             numpy.datetime64('2012-10-10T00:00:00.000000000'): 44,\n",
       "             numpy.datetime64('2012-12-28T00:00:00.000000000'): 10,\n",
       "             numpy.datetime64('2009-08-07T00:00:00.000000000'): 25,\n",
       "             numpy.datetime64('2013-06-04T00:00:00.000000000'): 24,\n",
       "             numpy.datetime64('2010-02-11T00:00:00.000000000'): 2,\n",
       "             numpy.datetime64('2013-08-22T00:00:00.000000000'): 38,\n",
       "             numpy.datetime64('2014-01-27T00:00:00.000000000'): 17,\n",
       "             numpy.datetime64('2014-04-16T00:00:00.000000000'): 36,\n",
       "             numpy.datetime64('2008-11-24T00:00:00.000000000'): 129,\n",
       "             numpy.datetime64('2009-02-11T00:00:00.000000000'): 30,\n",
       "             numpy.datetime64('2014-12-09T00:00:00.000000000'): 47,\n",
       "             numpy.datetime64('2015-02-26T00:00:00.000000000'): 12,\n",
       "             numpy.datetime64('2009-10-06T00:00:00.000000000'): 12,\n",
       "             numpy.datetime64('2015-08-03T00:00:00.000000000'): 30,\n",
       "             numpy.datetime64('2010-08-18T00:00:00.000000000'): 22,\n",
       "             numpy.datetime64('2010-11-05T00:00:00.000000000'): 6,\n",
       "             numpy.datetime64('2011-06-30T00:00:00.000000000'): 13,\n",
       "             numpy.datetime64('2011-12-05T00:00:00.000000000'): 38,\n",
       "             numpy.datetime64('2012-05-11T00:00:00.000000000'): 17,\n",
       "             numpy.datetime64('2010-04-20T00:00:00.000000000'): 2,\n",
       "             numpy.datetime64('2012-10-16T00:00:00.000000000'): 22,\n",
       "             numpy.datetime64('2013-01-03T00:00:00.000000000'): 5,\n",
       "             numpy.datetime64('2013-06-10T00:00:00.000000000'): 21,\n",
       "             numpy.datetime64('2013-08-28T00:00:00.000000000'): 17,\n",
       "             numpy.datetime64('2014-04-22T00:00:00.000000000'): 11,\n",
       "             numpy.datetime64('2014-07-10T00:00:00.000000000'): 16,\n",
       "             numpy.datetime64('2014-10-24T00:00:00.000000000'): 44,\n",
       "             numpy.datetime64('2009-02-17T00:00:00.000000000'): 70,\n",
       "             numpy.datetime64('2009-05-07T00:00:00.000000000'): 37,\n",
       "             numpy.datetime64('2015-03-04T00:00:00.000000000'): 28,\n",
       "             numpy.datetime64('2015-05-22T00:00:00.000000000'): 8,\n",
       "             numpy.datetime64('2009-12-30T00:00:00.000000000'): 6,\n",
       "             numpy.datetime64('2010-03-19T00:00:00.000000000'): 4,\n",
       "             numpy.datetime64('2010-08-24T00:00:00.000000000'): 1,\n",
       "             numpy.datetime64('2014-07-18T00:00:00.000000000'): 61,\n",
       "             numpy.datetime64('2010-11-11T00:00:00.000000000'): 9,\n",
       "             numpy.datetime64('2011-07-06T00:00:00.000000000'): 16,\n",
       "             numpy.datetime64('2011-09-23T00:00:00.000000000'): 93,\n",
       "             numpy.datetime64('2012-02-28T00:00:00.000000000'): 10,\n",
       "             numpy.datetime64('2012-05-17T00:00:00.000000000'): 23,\n",
       "             numpy.datetime64('2012-10-22T00:00:00.000000000'): 19,\n",
       "             numpy.datetime64('2013-01-09T00:00:00.000000000'): 2,\n",
       "             numpy.datetime64('2013-09-03T00:00:00.000000000'): 23,\n",
       "             numpy.datetime64('2013-02-22T00:00:00.000000000'): 18,\n",
       "             numpy.datetime64('2013-11-21T00:00:00.000000000'): 12,\n",
       "             numpy.datetime64('2014-04-28T00:00:00.000000000'): 6,\n",
       "             numpy.datetime64('2014-07-16T00:00:00.000000000'): 15,\n",
       "             numpy.datetime64('2014-10-03T00:00:00.000000000'): 25,\n",
       "             numpy.datetime64('2009-05-13T00:00:00.000000000'): 29,\n",
       "             numpy.datetime64('2015-03-10T00:00:00.000000000'): 72,\n",
       "             numpy.datetime64('2015-05-28T00:00:00.000000000'): 12,\n",
       "             numpy.datetime64('2010-01-05T00:00:00.000000000'): 10,\n",
       "             numpy.datetime64('2010-08-30T00:00:00.000000000'): 5,\n",
       "             numpy.datetime64('2010-11-17T00:00:00.000000000'): 11,\n",
       "             numpy.datetime64('2011-02-04T00:00:00.000000000'): 30,\n",
       "             numpy.datetime64('2011-07-12T00:00:00.000000000'): 1,\n",
       "             numpy.datetime64('2011-09-29T00:00:00.000000000'): 47,\n",
       "             numpy.datetime64('2012-03-05T00:00:00.000000000'): 1,\n",
       "             numpy.datetime64('2012-05-23T00:00:00.000000000'): 42,\n",
       "             numpy.datetime64('2012-08-10T00:00:00.000000000'): 14,\n",
       "             numpy.datetime64('2009-11-16T00:00:00.000000000'): 26,\n",
       "             numpy.datetime64('2013-01-15T00:00:00.000000000'): 2,\n",
       "             numpy.datetime64('2013-04-04T00:00:00.000000000'): 6,\n",
       "             numpy.datetime64('2013-09-09T00:00:00.000000000'): 21,\n",
       "             numpy.datetime64('2013-11-27T00:00:00.000000000'): 9,\n",
       "             numpy.datetime64('2014-02-14T00:00:00.000000000'): 6,\n",
       "             numpy.datetime64('2014-07-22T00:00:00.000000000'): 37,\n",
       "             numpy.datetime64('2009-05-19T00:00:00.000000000'): 23,\n",
       "             numpy.datetime64('2010-05-20T00:00:00.000000000'): 69,\n",
       "             numpy.datetime64('2015-03-16T00:00:00.000000000'): 68,\n",
       "             numpy.datetime64('2015-06-03T00:00:00.000000000'): 1,\n",
       "             numpy.datetime64('2015-08-21T00:00:00.000000000'): 30,\n",
       "             numpy.datetime64('2010-03-31T00:00:00.000000000'): 4,\n",
       "             numpy.datetime64('2010-06-18T00:00:00.000000000'): 22,\n",
       "             numpy.datetime64('2016-04-14T00:00:00.000000000'): 53,\n",
       "             numpy.datetime64('2010-11-23T00:00:00.000000000'): 16,\n",
       "             numpy.datetime64('2011-07-18T00:00:00.000000000'): 4,\n",
       "             numpy.datetime64('2011-10-05T00:00:00.000000000'): 26,\n",
       "             numpy.datetime64('2011-12-23T00:00:00.000000000'): 11,\n",
       "             numpy.datetime64('2012-05-29T00:00:00.000000000'): 11,\n",
       "             numpy.datetime64('2009-01-26T00:00:00.000000000'): 54,\n",
       "             numpy.datetime64('2012-08-16T00:00:00.000000000'): 12,\n",
       "             numpy.datetime64('2013-04-10T00:00:00.000000000'): 7,\n",
       "             numpy.datetime64('2013-06-28T00:00:00.000000000'): 16,\n",
       "             numpy.datetime64('2013-12-03T00:00:00.000000000'): 35,\n",
       "             numpy.datetime64('2014-02-20T00:00:00.000000000'): 4,\n",
       "             numpy.datetime64('2008-12-18T00:00:00.000000000'): 55,\n",
       "             numpy.datetime64('2014-10-15T00:00:00.000000000'): 59,\n",
       "             numpy.datetime64('2015-01-02T00:00:00.000000000'): 41,\n",
       "             numpy.datetime64('2009-08-12T00:00:00.000000000'): 38,\n",
       "             numpy.datetime64('2009-10-30T00:00:00.000000000'): 21,\n",
       "             numpy.datetime64('2015-08-27T00:00:00.000000000'): 23,\n",
       "             numpy.datetime64('2010-06-24T00:00:00.000000000'): 22,\n",
       "             numpy.datetime64('2016-04-20T00:00:00.000000000'): 27,\n",
       "             numpy.datetime64('2013-07-30T00:00:00.000000000'): 11,\n",
       "             numpy.datetime64('2010-11-29T00:00:00.000000000'): 8,\n",
       "             numpy.datetime64('2011-02-16T00:00:00.000000000'): 34,\n",
       "             numpy.datetime64('2010-04-23T00:00:00.000000000'): 5,\n",
       "             numpy.datetime64('2011-10-11T00:00:00.000000000'): 10,\n",
       "             numpy.datetime64('2012-06-04T00:00:00.000000000'): 31,\n",
       "             numpy.datetime64('2009-08-06T00:00:00.000000000'): 30,\n",
       "             numpy.datetime64('2012-08-22T00:00:00.000000000'): 14,\n",
       "             numpy.datetime64('2012-11-09T00:00:00.000000000'): 13,\n",
       "             numpy.datetime64('2013-04-16T00:00:00.000000000'): 27,\n",
       "             numpy.datetime64('2013-12-09T00:00:00.000000000'): 18,\n",
       "             numpy.datetime64('2014-02-26T00:00:00.000000000'): 7,\n",
       "             numpy.datetime64('2014-05-16T00:00:00.000000000'): 1,\n",
       "             numpy.datetime64('2009-03-13T00:00:00.000000000'): 54,\n",
       "             numpy.datetime64('2015-01-08T00:00:00.000000000'): 35,\n",
       "             numpy.datetime64('2009-08-18T00:00:00.000000000'): 14,\n",
       "             numpy.datetime64('2009-11-05T00:00:00.000000000'): 14,\n",
       "             numpy.datetime64('2015-09-02T00:00:00.000000000'): 16,\n",
       "             numpy.datetime64('2010-04-12T00:00:00.000000000'): 13,\n",
       "             numpy.datetime64('2010-06-30T00:00:00.000000000'): 31,\n",
       "             numpy.datetime64('2010-09-17T00:00:00.000000000'): 29,\n",
       "             numpy.datetime64('2011-01-21T00:00:00.000000000'): 28,\n",
       "             numpy.datetime64('2011-02-22T00:00:00.000000000'): 25,\n",
       "             numpy.datetime64('2011-10-17T00:00:00.000000000'): 16,\n",
       "             numpy.datetime64('2012-01-04T00:00:00.000000000'): 5,\n",
       "             numpy.datetime64('2013-10-17T00:00:00.000000000'): 24,\n",
       "             numpy.datetime64('2012-03-23T00:00:00.000000000'): 28,\n",
       "             numpy.datetime64('2012-08-28T00:00:00.000000000'): 9,\n",
       "             numpy.datetime64('2009-11-12T00:00:00.000000000'): 17,\n",
       "             numpy.datetime64('2013-04-22T00:00:00.000000000'): 17,\n",
       "             numpy.datetime64('2013-07-10T00:00:00.000000000'): 1,\n",
       "             numpy.datetime64('2013-09-27T00:00:00.000000000'): 7,\n",
       "             numpy.datetime64('2008-12-30T00:00:00.000000000'): 40,\n",
       "             numpy.datetime64('2009-03-19T00:00:00.000000000'): 56,\n",
       "             numpy.datetime64('2015-01-14T00:00:00.000000000'): 11,\n",
       "             numpy.datetime64('2009-08-24T00:00:00.000000000'): 7,\n",
       "             numpy.datetime64('2009-11-11T00:00:00.000000000'): 16,\n",
       "             numpy.datetime64('2015-09-08T00:00:00.000000000'): 28,\n",
       "             numpy.datetime64('2010-07-06T00:00:00.000000000'): 20,\n",
       "             numpy.datetime64('2016-05-02T00:00:00.000000000'): 24,\n",
       "             numpy.datetime64('2011-02-28T00:00:00.000000000'): 44,\n",
       "             numpy.datetime64('2012-01-10T00:00:00.000000000'): 5,\n",
       "             numpy.datetime64('2012-03-29T00:00:00.000000000'): 24,\n",
       "             numpy.datetime64('2012-11-21T00:00:00.000000000'): 9,\n",
       "             numpy.datetime64('2013-02-08T00:00:00.000000000'): 7,\n",
       "             numpy.datetime64('2015-01-23T00:00:00.000000000'): 31,\n",
       "             numpy.datetime64('2013-07-16T00:00:00.000000000'): 21,\n",
       "             numpy.datetime64('2014-08-22T00:00:00.000000000'): 8,\n",
       "             numpy.datetime64('2009-09-18T00:00:00.000000000'): 17,\n",
       "             numpy.datetime64('2014-03-10T00:00:00.000000000'): 18,\n",
       "             numpy.datetime64('2014-05-28T00:00:00.000000000'): 2,\n",
       "             numpy.datetime64('2014-08-15T00:00:00.000000000'): 18,\n",
       "             numpy.datetime64('2009-03-25T00:00:00.000000000'): 50,\n",
       "             numpy.datetime64('2015-01-20T00:00:00.000000000'): 13,\n",
       "             numpy.datetime64('2015-04-09T00:00:00.000000000'): 62,\n",
       "             numpy.datetime64('2009-11-17T00:00:00.000000000'): 32,\n",
       "             numpy.datetime64('2015-09-14T00:00:00.000000000'): 28,\n",
       "             numpy.datetime64('2009-06-12T00:00:00.000000000'): 32,\n",
       "             numpy.datetime64('2015-12-02T00:00:00.000000000'): 1,\n",
       "             numpy.datetime64('2016-02-19T00:00:00.000000000'): 9,\n",
       "             numpy.datetime64('2010-09-29T00:00:00.000000000'): 57,\n",
       "             numpy.datetime64('2012-04-04T00:00:00.000000000'): 15,\n",
       "             numpy.datetime64('2012-06-22T00:00:00.000000000'): 13,\n",
       "             numpy.datetime64('2012-11-27T00:00:00.000000000'): 10,\n",
       "             numpy.datetime64('2013-02-14T00:00:00.000000000'): 2,\n",
       "             numpy.datetime64('2013-07-22T00:00:00.000000000'): 22,\n",
       "             numpy.datetime64('2013-10-09T00:00:00.000000000'): 8,\n",
       "             numpy.datetime64('2013-12-27T00:00:00.000000000'): 3,\n",
       "             numpy.datetime64('2008-10-24T00:00:00.000000000'): 254,\n",
       "             numpy.datetime64('2014-08-21T00:00:00.000000000'): 10,\n",
       "             numpy.datetime64('2014-03-24T00:00:00.000000000'): 8,\n",
       "             numpy.datetime64('2009-03-31T00:00:00.000000000'): 40,\n",
       "             numpy.datetime64('2015-01-26T00:00:00.000000000'): 23,\n",
       "             numpy.datetime64('2015-04-15T00:00:00.000000000'): 165,\n",
       "             numpy.datetime64('2009-11-23T00:00:00.000000000'): 26,\n",
       "             numpy.datetime64('2010-02-10T00:00:00.000000000'): 3,\n",
       "             numpy.datetime64('2010-04-30T00:00:00.000000000'): 30,\n",
       "             numpy.datetime64('2016-02-25T00:00:00.000000000'): 20,\n",
       "             numpy.datetime64('2010-10-05T00:00:00.000000000'): 36,\n",
       "             numpy.datetime64('2010-12-23T00:00:00.000000000'): 13,\n",
       "             numpy.datetime64('2011-08-17T00:00:00.000000000'): 163,\n",
       "             numpy.datetime64('2011-11-04T00:00:00.000000000'): 35,\n",
       "             numpy.datetime64('2012-04-10T00:00:00.000000000'): 11,\n",
       "             numpy.datetime64('2012-06-28T00:00:00.000000000'): 13,\n",
       "             numpy.datetime64('2011-09-13T00:00:00.000000000'): 59,\n",
       "             numpy.datetime64('2012-12-03T00:00:00.000000000'): 2,\n",
       "             numpy.datetime64('2013-02-20T00:00:00.000000000'): 5,\n",
       "             numpy.datetime64('2013-05-10T00:00:00.000000000'): 20,\n",
       "             numpy.datetime64('2013-10-15T00:00:00.000000000'): 28,\n",
       "             numpy.datetime64('2016-05-10T00:00:00.000000000'): 13,\n",
       "             numpy.datetime64('2014-01-02T00:00:00.000000000'): 7,\n",
       "             numpy.datetime64('2014-06-09T00:00:00.000000000'): 14,\n",
       "             numpy.datetime64('2014-08-27T00:00:00.000000000'): 26,\n",
       "             numpy.datetime64('2015-07-27T00:00:00.000000000'): 32,\n",
       "             numpy.datetime64('2014-11-14T00:00:00.000000000'): 46,\n",
       "             numpy.datetime64('2009-06-24T00:00:00.000000000'): 35,\n",
       "             numpy.datetime64('2009-09-11T00:00:00.000000000'): 24,\n",
       "             numpy.datetime64('2009-03-02T00:00:00.000000000'): 80,\n",
       "             numpy.datetime64('2015-12-14T00:00:00.000000000'): 3,\n",
       "             numpy.datetime64('2014-02-03T00:00:00.000000000'): 29,\n",
       "             numpy.datetime64('2016-03-02T00:00:00.000000000'): 48,\n",
       "             numpy.datetime64('2010-10-11T00:00:00.000000000'): 20,\n",
       "             numpy.datetime64('2010-12-29T00:00:00.000000000'): 1,\n",
       "             numpy.datetime64('2011-03-18T00:00:00.000000000'): 48,\n",
       "             numpy.datetime64('2011-08-23T00:00:00.000000000'): 111,\n",
       "             numpy.datetime64('2012-04-16T00:00:00.000000000'): 17,\n",
       "             numpy.datetime64('2012-09-21T00:00:00.000000000'): 18,\n",
       "             numpy.datetime64('2013-02-26T00:00:00.000000000'): 18,\n",
       "             numpy.datetime64('2013-05-16T00:00:00.000000000'): 9,\n",
       "             numpy.datetime64('2013-10-21T00:00:00.000000000'): 30,\n",
       "             numpy.datetime64('2014-03-28T00:00:00.000000000'): 26,\n",
       "             numpy.datetime64('2008-11-05T00:00:00.000000000'): 91,\n",
       "             numpy.datetime64('2009-01-23T00:00:00.000000000'): 60,\n",
       "             numpy.datetime64('2009-06-30T00:00:00.000000000'): 35,\n",
       "             numpy.datetime64('2015-04-27T00:00:00.000000000'): 75,\n",
       "             numpy.datetime64('2009-09-10T00:00:00.000000000'): 23,\n",
       "             numpy.datetime64('2015-07-15T00:00:00.000000000'): 4,\n",
       "             numpy.datetime64('2015-10-02T00:00:00.000000000'): 24,\n",
       "             numpy.datetime64('2010-05-12T00:00:00.000000000'): 27,\n",
       "             numpy.datetime64('2016-03-08T00:00:00.000000000'): 196,\n",
       "             numpy.datetime64('2011-01-04T00:00:00.000000000'): 13,\n",
       "             numpy.datetime64('2011-03-24T00:00:00.000000000'): 36,\n",
       "             numpy.datetime64('2015-01-06T00:00:00.000000000'): 106,\n",
       "             numpy.datetime64('2011-08-29T00:00:00.000000000'): 71,\n",
       "             numpy.datetime64('2012-01-12T00:00:00.000000000'): 12,\n",
       "             numpy.datetime64('2012-02-03T00:00:00.000000000'): 38,\n",
       "             numpy.datetime64('2012-07-10T00:00:00.000000000'): 4,\n",
       "             numpy.datetime64('2012-09-27T00:00:00.000000000'): 13,\n",
       "             numpy.datetime64('2013-05-17T00:00:00.000000000'): 7,\n",
       "             numpy.datetime64('2013-03-04T00:00:00.000000000'): 8,\n",
       "             numpy.datetime64('2013-05-22T00:00:00.000000000'): 5,\n",
       "             numpy.datetime64('2013-08-09T00:00:00.000000000'): 6,\n",
       "             numpy.datetime64('2014-01-14T00:00:00.000000000'): 3,\n",
       "             numpy.datetime64('2014-04-03T00:00:00.000000000'): 30,\n",
       "             numpy.datetime64('2008-11-11T00:00:00.000000000'): 63,\n",
       "             numpy.datetime64('2014-09-08T00:00:00.000000000'): 19,\n",
       "             numpy.datetime64('2014-11-26T00:00:00.000000000'): 7,\n",
       "             numpy.datetime64('2015-02-13T00:00:00.000000000'): 33,\n",
       "             numpy.datetime64('2009-09-23T00:00:00.000000000'): 30,\n",
       "             numpy.datetime64('2015-07-21T00:00:00.000000000'): 11,\n",
       "             numpy.datetime64('2015-10-08T00:00:00.000000000'): 51,\n",
       "             numpy.datetime64('2010-05-18T00:00:00.000000000'): 17,\n",
       "             numpy.datetime64('2016-03-14T00:00:00.000000000'): 172,\n",
       "             numpy.datetime64('2011-01-10T00:00:00.000000000'): 12,\n",
       "             numpy.datetime64('2011-06-17T00:00:00.000000000'): 15,\n",
       "             numpy.datetime64('2010-08-13T00:00:00.000000000'): 5,\n",
       "             numpy.datetime64('2011-11-22T00:00:00.000000000'): 11,\n",
       "             numpy.datetime64('2012-02-09T00:00:00.000000000'): 15,\n",
       "             numpy.datetime64('2012-10-03T00:00:00.000000000'): 11,\n",
       "             numpy.datetime64('2012-08-06T00:00:00.000000000'): 32,\n",
       "             numpy.datetime64('2013-05-28T00:00:00.000000000'): 6,\n",
       "             numpy.datetime64('2013-08-15T00:00:00.000000000'): 40,\n",
       "             numpy.datetime64('2014-04-09T00:00:00.000000000'): 23,\n",
       "             numpy.datetime64('2008-11-17T00:00:00.000000000'): 96,\n",
       "             numpy.datetime64('2009-02-04T00:00:00.000000000'): 61,\n",
       "             numpy.datetime64('2014-12-02T00:00:00.000000000'): 38,\n",
       "             numpy.datetime64('2015-02-19T00:00:00.000000000'): 18,\n",
       "             numpy.datetime64('2010-01-29T00:00:00.000000000'): 11,\n",
       "             numpy.datetime64('2009-12-17T00:00:00.000000000'): 4,\n",
       "             numpy.datetime64('2010-05-24T00:00:00.000000000'): 39,\n",
       "             numpy.datetime64('2010-08-11T00:00:00.000000000'): 16,\n",
       "             numpy.datetime64('2016-06-07T00:00:00.000000000'): 4,\n",
       "             numpy.datetime64('2010-08-09T00:00:00.000000000'): 8,\n",
       "             numpy.datetime64('2011-11-28T00:00:00.000000000'): 15,\n",
       "             numpy.datetime64('2012-02-15T00:00:00.000000000'): 50,\n",
       "             numpy.datetime64('2012-05-04T00:00:00.000000000'): 40,\n",
       "             numpy.datetime64('2012-10-09T00:00:00.000000000'): 4,\n",
       "             numpy.datetime64('2012-12-27T00:00:00.000000000'): 12,\n",
       "             numpy.datetime64('2013-06-03T00:00:00.000000000'): 29,\n",
       "             numpy.datetime64('2013-08-21T00:00:00.000000000'): 23,\n",
       "             numpy.datetime64('2013-11-08T00:00:00.000000000'): 10,\n",
       "             numpy.datetime64('2014-04-15T00:00:00.000000000'): 12,\n",
       "             numpy.datetime64('2009-06-26T00:00:00.000000000'): 27,\n",
       "             numpy.datetime64('2014-07-03T00:00:00.000000000'): 9,\n",
       "             numpy.datetime64('2009-02-10T00:00:00.000000000'): 43,\n",
       "             numpy.datetime64('2009-04-30T00:00:00.000000000'): 44,\n",
       "             numpy.datetime64('2015-02-25T00:00:00.000000000'): 19,\n",
       "             numpy.datetime64('2015-05-15T00:00:00.000000000'): 19,\n",
       "             numpy.datetime64('2009-12-23T00:00:00.000000000'): 9,\n",
       "             numpy.datetime64('2010-03-12T00:00:00.000000000'): 3,\n",
       "             numpy.datetime64('2010-08-17T00:00:00.000000000'): 9,\n",
       "             numpy.datetime64('2010-11-04T00:00:00.000000000'): 29,\n",
       "             numpy.datetime64('2015-04-06T00:00:00.000000000'): 31,\n",
       "             numpy.datetime64('2009-09-02T00:00:00.000000000'): 39,\n",
       "             numpy.datetime64('2011-06-29T00:00:00.000000000'): 13,\n",
       "             numpy.datetime64('2011-09-16T00:00:00.000000000'): 31,\n",
       "             numpy.datetime64('2012-05-10T00:00:00.000000000'): 34,\n",
       "             numpy.datetime64('2012-10-15T00:00:00.000000000'): 38,\n",
       "             numpy.datetime64('2013-01-02T00:00:00.000000000'): 8,\n",
       "             numpy.datetime64('2016-04-11T00:00:00.000000000'): 36,\n",
       "             numpy.datetime64('2013-08-27T00:00:00.000000000'): 22,\n",
       "             numpy.datetime64('2013-11-14T00:00:00.000000000'): 9,\n",
       "             numpy.datetime64('2014-09-26T00:00:00.000000000'): 8,\n",
       "             numpy.datetime64('2009-05-06T00:00:00.000000000'): 80,\n",
       "             numpy.datetime64('2009-07-24T00:00:00.000000000'): 45,\n",
       "             numpy.datetime64('2015-05-21T00:00:00.000000000'): 6,\n",
       "             numpy.datetime64('2012-09-05T00:00:00.000000000'): 34,\n",
       "             numpy.datetime64('2010-03-18T00:00:00.000000000'): 10,\n",
       "             numpy.datetime64('2016-04-01T00:00:00.000000000'): 61,\n",
       "             numpy.datetime64('2010-11-10T00:00:00.000000000'): 7,\n",
       "             numpy.datetime64('2011-01-28T00:00:00.000000000'): 37,\n",
       "             numpy.datetime64('2011-07-05T00:00:00.000000000'): 9,\n",
       "             numpy.datetime64('2011-09-22T00:00:00.000000000'): 123,\n",
       "             numpy.datetime64('2012-02-27T00:00:00.000000000'): 8,\n",
       "             numpy.datetime64('2012-05-16T00:00:00.000000000'): 44,\n",
       "             numpy.datetime64('2012-08-03T00:00:00.000000000'): 24,\n",
       "             numpy.datetime64('2009-04-06T00:00:00.000000000'): 64,\n",
       "             numpy.datetime64('2013-01-08T00:00:00.000000000'): 4,\n",
       "             numpy.datetime64('2010-08-05T00:00:00.000000000'): 12,\n",
       "             numpy.datetime64('2014-02-07T00:00:00.000000000'): 18,\n",
       "             numpy.datetime64('2014-07-15T00:00:00.000000000'): 6,\n",
       "             numpy.datetime64('2016-02-22T00:00:00.000000000'): 26,\n",
       "             numpy.datetime64('2014-10-02T00:00:00.000000000'): 29,\n",
       "             numpy.datetime64('2009-05-12T00:00:00.000000000'): 33,\n",
       "             numpy.datetime64('2009-07-30T00:00:00.000000000'): 32,\n",
       "             numpy.datetime64('2015-05-27T00:00:00.000000000'): 10,\n",
       "             numpy.datetime64('2010-01-04T00:00:00.000000000'): 3,\n",
       "             numpy.datetime64('2010-03-24T00:00:00.000000000'): 2,\n",
       "             numpy.datetime64('2010-06-11T00:00:00.000000000'): 27,\n",
       "             numpy.datetime64('2016-04-07T00:00:00.000000000'): 34,\n",
       "             numpy.datetime64('2010-11-16T00:00:00.000000000'): 21,\n",
       "             numpy.datetime64('2015-08-25T00:00:00.000000000'): 70,\n",
       "             numpy.datetime64('2011-02-03T00:00:00.000000000'): 31,\n",
       "             numpy.datetime64('2010-05-07T00:00:00.000000000'): 63,\n",
       "             numpy.datetime64('2012-11-23T00:00:00.000000000'): 3,\n",
       "             numpy.datetime64('2011-07-11T00:00:00.000000000'): 29,\n",
       "             numpy.datetime64('2011-09-28T00:00:00.000000000'): 53,\n",
       "             numpy.datetime64('2011-12-16T00:00:00.000000000'): 18,\n",
       "             numpy.datetime64('2012-05-22T00:00:00.000000000'): 18,\n",
       "             numpy.datetime64('2012-08-09T00:00:00.000000000'): 10,\n",
       "             numpy.datetime64('2013-01-14T00:00:00.000000000'): 5,\n",
       "             numpy.datetime64('2013-04-03T00:00:00.000000000'): 6,\n",
       "             numpy.datetime64('2013-06-21T00:00:00.000000000'): 32,\n",
       "             numpy.datetime64('2013-11-26T00:00:00.000000000'): 4,\n",
       "             numpy.datetime64('2014-02-13T00:00:00.000000000'): 6,\n",
       "             numpy.datetime64('2008-12-11T00:00:00.000000000'): 70,\n",
       "             numpy.datetime64('2014-10-08T00:00:00.000000000'): 24,\n",
       "             numpy.datetime64('2014-12-26T00:00:00.000000000'): 50,\n",
       "             numpy.datetime64('2009-08-05T00:00:00.000000000'): 33,\n",
       "             numpy.datetime64('2015-06-02T00:00:00.000000000'): 2,\n",
       "             numpy.datetime64('2012-11-05T00:00:00.000000000'): 12,\n",
       "             numpy.datetime64('2015-08-20T00:00:00.000000000'): 11,\n",
       "             numpy.datetime64('2010-06-17T00:00:00.000000000'): 26,\n",
       "             numpy.datetime64('2014-11-04T00:00:00.000000000'): 46,\n",
       "             numpy.datetime64('2016-04-13T00:00:00.000000000'): 98,\n",
       "             numpy.datetime64('2010-11-22T00:00:00.000000000'): 15,\n",
       "             numpy.datetime64('2011-10-04T00:00:00.000000000'): 49,\n",
       "             numpy.datetime64('2011-12-22T00:00:00.000000000'): 15,\n",
       "             numpy.datetime64('2014-07-29T00:00:00.000000000'): 6,\n",
       "             numpy.datetime64('2012-08-15T00:00:00.000000000'): 48,\n",
       "             numpy.datetime64('2015-09-28T00:00:00.000000000'): 53,\n",
       "             numpy.datetime64('2010-09-23T00:00:00.000000000'): 60,\n",
       "             numpy.datetime64('2013-04-09T00:00:00.000000000'): 6,\n",
       "             numpy.datetime64('2013-06-27T00:00:00.000000000'): 24,\n",
       "             numpy.datetime64('2013-12-02T00:00:00.000000000'): 65,\n",
       "             numpy.datetime64('2014-02-19T00:00:00.000000000'): 8,\n",
       "             numpy.datetime64('2008-12-17T00:00:00.000000000'): 108,\n",
       "             numpy.datetime64('2009-03-06T00:00:00.000000000'): 59,\n",
       "             numpy.datetime64('2009-08-11T00:00:00.000000000'): 25,\n",
       "             numpy.datetime64('2015-06-08T00:00:00.000000000'): 17,\n",
       "             numpy.datetime64('2015-08-26T00:00:00.000000000'): 32,\n",
       "             numpy.datetime64('2010-04-05T00:00:00.000000000'): 1,\n",
       "             numpy.datetime64('2010-06-23T00:00:00.000000000'): 16,\n",
       "             numpy.datetime64('2016-04-19T00:00:00.000000000'): 37,\n",
       "             numpy.datetime64('2011-02-15T00:00:00.000000000'): 20,\n",
       "             numpy.datetime64('2011-10-10T00:00:00.000000000'): 21,\n",
       "             numpy.datetime64('2011-12-28T00:00:00.000000000'): 10,\n",
       "             numpy.datetime64('2012-03-16T00:00:00.000000000'): 29,\n",
       "             numpy.datetime64('2012-08-21T00:00:00.000000000'): 8,\n",
       "             numpy.datetime64('2012-11-08T00:00:00.000000000'): 17,\n",
       "             numpy.datetime64('2013-04-15T00:00:00.000000000'): 54,\n",
       "             numpy.datetime64('2013-07-03T00:00:00.000000000'): 8,\n",
       "             numpy.datetime64('2013-09-20T00:00:00.000000000'): 14,\n",
       "             numpy.datetime64('2013-04-30T00:00:00.000000000'): 29,\n",
       "             numpy.datetime64('2014-02-25T00:00:00.000000000'): 3,\n",
       "             numpy.datetime64('2014-05-15T00:00:00.000000000'): 2,\n",
       "             numpy.datetime64('2008-12-23T00:00:00.000000000'): 13,\n",
       "             numpy.datetime64('2014-10-20T00:00:00.000000000'): 21,\n",
       "             numpy.datetime64('2015-01-07T00:00:00.000000000'): 84,\n",
       "             numpy.datetime64('2015-03-27T00:00:00.000000000'): 21,\n",
       "             numpy.datetime64('2009-11-04T00:00:00.000000000'): 16,\n",
       "             numpy.datetime64('2010-01-22T00:00:00.000000000'): 11,\n",
       "             numpy.datetime64('2010-06-29T00:00:00.000000000'): 37,\n",
       "             numpy.datetime64('2016-04-25T00:00:00.000000000'): 27,\n",
       "             numpy.datetime64('2012-01-03T00:00:00.000000000'): 15,\n",
       "             numpy.datetime64('2014-12-17T00:00:00.000000000'): 95,\n",
       "             numpy.datetime64('2012-03-22T00:00:00.000000000'): 33,\n",
       "             numpy.datetime64('2015-08-17T00:00:00.000000000'): 11,\n",
       "             numpy.datetime64('2012-01-06T00:00:00.000000000'): 3,\n",
       "             numpy.datetime64('2013-02-01T00:00:00.000000000'): 6,\n",
       "             numpy.datetime64('2013-09-26T00:00:00.000000000'): 24,\n",
       "             numpy.datetime64('2008-12-29T00:00:00.000000000'): 16,\n",
       "             numpy.datetime64('2009-03-18T00:00:00.000000000'): 58,\n",
       "             numpy.datetime64('2015-01-13T00:00:00.000000000'): 20,\n",
       "             numpy.datetime64('2015-04-02T00:00:00.000000000'): 34,\n",
       "             numpy.datetime64('2013-07-18T00:00:00.000000000'): 25,\n",
       "             numpy.datetime64('2009-11-10T00:00:00.000000000'): 21,\n",
       "             numpy.datetime64('2010-01-28T00:00:00.000000000'): 3,\n",
       "             numpy.datetime64('2015-02-02T00:00:00.000000000'): 30,\n",
       "             numpy.datetime64('2016-02-12T00:00:00.000000000'): 22,\n",
       "             numpy.datetime64('2010-09-22T00:00:00.000000000'): 46,\n",
       "             numpy.datetime64('2010-12-10T00:00:00.000000000'): 12,\n",
       "             numpy.datetime64('2014-10-27T00:00:00.000000000'): 133,\n",
       "             numpy.datetime64('2012-01-09T00:00:00.000000000'): 1,\n",
       "             numpy.datetime64('2012-03-28T00:00:00.000000000'): 35,\n",
       "             numpy.datetime64('2012-06-15T00:00:00.000000000'): 28,\n",
       "             numpy.datetime64('2013-02-07T00:00:00.000000000'): 2,\n",
       "             numpy.datetime64('2013-07-15T00:00:00.000000000'): 22,\n",
       "             numpy.datetime64('2013-10-02T00:00:00.000000000'): 10,\n",
       "             numpy.datetime64('2013-12-20T00:00:00.000000000'): 7,\n",
       "             numpy.datetime64('2009-07-06T00:00:00.000000000'): 35,\n",
       "             numpy.datetime64('2008-10-17T00:00:00.000000000'): 234,\n",
       "             numpy.datetime64('2014-08-14T00:00:00.000000000'): 5,\n",
       "             numpy.datetime64('2009-03-24T00:00:00.000000000'): 51,\n",
       "             numpy.datetime64('2015-04-08T00:00:00.000000000'): 25,\n",
       "             numpy.datetime64('2015-06-26T00:00:00.000000000'): 11,\n",
       "             numpy.datetime64('2010-02-03T00:00:00.000000000'): 2,\n",
       "             numpy.datetime64('2014-05-12T00:00:00.000000000'): 2,\n",
       "             numpy.datetime64('2015-12-01T00:00:00.000000000'): 5,\n",
       "             numpy.datetime64('2016-02-18T00:00:00.000000000'): 21,\n",
       "             numpy.datetime64('2010-09-28T00:00:00.000000000'): 33,\n",
       "             numpy.datetime64('2010-12-16T00:00:00.000000000'): 15,\n",
       "             numpy.datetime64('2010-10-13T00:00:00.000000000'): 52,\n",
       "             numpy.datetime64('2011-10-28T00:00:00.000000000'): 97,\n",
       "             numpy.datetime64('2012-04-03T00:00:00.000000000'): 17,\n",
       "             numpy.datetime64('2012-06-21T00:00:00.000000000'): 16,\n",
       "             numpy.datetime64('2012-11-26T00:00:00.000000000'): 5,\n",
       "             numpy.datetime64('2013-02-13T00:00:00.000000000'): 10,\n",
       "             numpy.datetime64('2013-05-03T00:00:00.000000000'): 20,\n",
       "             numpy.datetime64('2013-10-08T00:00:00.000000000'): 5,\n",
       "             numpy.datetime64('2013-12-26T00:00:00.000000000'): 5,\n",
       "             numpy.datetime64('2013-05-31T00:00:00.000000000'): 42,\n",
       "             numpy.datetime64('2014-06-02T00:00:00.000000000'): 7,\n",
       "             numpy.datetime64('2014-08-20T00:00:00.000000000'): 10,\n",
       "             numpy.datetime64('2009-03-30T00:00:00.000000000'): 48,\n",
       "             numpy.datetime64('2009-06-17T00:00:00.000000000'): 45,\n",
       "             numpy.datetime64('2009-09-04T00:00:00.000000000'): 28,\n",
       "             numpy.datetime64('2014-10-23T00:00:00.000000000'): 70,\n",
       "             numpy.datetime64('2010-02-09T00:00:00.000000000'): 3,\n",
       "             numpy.datetime64('2010-04-29T00:00:00.000000000'): 37,\n",
       "             numpy.datetime64('2016-02-24T00:00:00.000000000'): 41,\n",
       "             numpy.datetime64('2010-10-04T00:00:00.000000000'): 34,\n",
       "             numpy.datetime64('2010-12-22T00:00:00.000000000'): 16,\n",
       "             numpy.datetime64('2011-03-11T00:00:00.000000000'): 64,\n",
       "             numpy.datetime64('2011-11-03T00:00:00.000000000'): 44,\n",
       "             numpy.datetime64('2012-04-09T00:00:00.000000000'): 17,\n",
       "             numpy.datetime64('2011-11-16T00:00:00.000000000'): 20,\n",
       "             numpy.datetime64('2012-06-27T00:00:00.000000000'): 11,\n",
       "             numpy.datetime64('2012-09-14T00:00:00.000000000'): 56,\n",
       "             numpy.datetime64('2013-05-09T00:00:00.000000000'): 7,\n",
       "             numpy.datetime64('2013-10-14T00:00:00.000000000'): 26,\n",
       "             numpy.datetime64('2016-04-08T00:00:00.000000000'): 34,\n",
       "             numpy.datetime64('2014-03-21T00:00:00.000000000'): 9,\n",
       "             numpy.datetime64('2008-10-29T00:00:00.000000000'): 193,\n",
       "             numpy.datetime64('2014-08-26T00:00:00.000000000'): 13,\n",
       "             numpy.datetime64('2014-11-13T00:00:00.000000000'): 19,\n",
       "             numpy.datetime64('2009-06-23T00:00:00.000000000'): 38,\n",
       "             numpy.datetime64('2014-09-02T00:00:00.000000000'): 38,\n",
       "             numpy.datetime64('2009-01-29T00:00:00.000000000'): 60,\n",
       "             numpy.datetime64('2015-07-08T00:00:00.000000000'): 4,\n",
       "             numpy.datetime64('2009-09-29T00:00:00.000000000'): 8,\n",
       "             numpy.datetime64('2015-09-25T00:00:00.000000000'): 30,\n",
       "             numpy.datetime64('2010-05-05T00:00:00.000000000'): 42,\n",
       "             numpy.datetime64('2016-03-01T00:00:00.000000000'): 26,\n",
       "             numpy.datetime64('2016-05-19T00:00:00.000000000'): 3,\n",
       "             numpy.datetime64('2010-12-28T00:00:00.000000000'): 10,\n",
       "             numpy.datetime64('2011-03-17T00:00:00.000000000'): 53,\n",
       "             numpy.datetime64('2014-05-27T00:00:00.000000000'): 3,\n",
       "             numpy.datetime64('2008-10-23T00:00:00.000000000'): 214,\n",
       "             numpy.datetime64('2011-11-09T00:00:00.000000000'): 26,\n",
       "             numpy.datetime64('2012-01-27T00:00:00.000000000'): 21,\n",
       "             numpy.datetime64('2010-10-22T00:00:00.000000000'): 15,\n",
       "             numpy.datetime64('2012-07-03T00:00:00.000000000'): 9,\n",
       "             numpy.datetime64('2012-09-20T00:00:00.000000000'): 21,\n",
       "             numpy.datetime64('2013-02-25T00:00:00.000000000'): 2,\n",
       "             numpy.datetime64('2013-05-15T00:00:00.000000000'): 11,\n",
       "             numpy.datetime64('2013-08-02T00:00:00.000000000'): 10,\n",
       "             numpy.datetime64('2014-03-12T00:00:00.000000000'): 14,\n",
       "             numpy.datetime64('2010-07-16T00:00:00.000000000'): 17,\n",
       "             numpy.datetime64('2014-01-07T00:00:00.000000000'): 3,\n",
       "             numpy.datetime64('2014-03-27T00:00:00.000000000'): 45,\n",
       "             numpy.datetime64('2008-11-04T00:00:00.000000000'): 119,\n",
       "             numpy.datetime64('2009-01-22T00:00:00.000000000'): 56,\n",
       "             numpy.datetime64('2014-11-19T00:00:00.000000000'): 27,\n",
       "             numpy.datetime64('2015-02-06T00:00:00.000000000'): 36,\n",
       "             numpy.datetime64('2009-09-16T00:00:00.000000000'): 27,\n",
       "             numpy.datetime64('2015-07-14T00:00:00.000000000'): 4,\n",
       "             numpy.datetime64('2015-10-01T00:00:00.000000000'): 20,\n",
       "             numpy.datetime64('2010-05-11T00:00:00.000000000'): 31,\n",
       "             numpy.datetime64('2016-03-07T00:00:00.000000000'): 190,\n",
       "             numpy.datetime64('2016-05-25T00:00:00.000000000'): 3,\n",
       "             numpy.datetime64('2011-01-03T00:00:00.000000000'): 9,\n",
       "             numpy.datetime64('2011-06-10T00:00:00.000000000'): 18,\n",
       "             numpy.datetime64('2016-04-04T00:00:00.000000000'): 62,\n",
       "             numpy.datetime64('2012-02-02T00:00:00.000000000'): 20,\n",
       "             numpy.datetime64('2014-09-09T00:00:00.000000000'): 13,\n",
       "             numpy.datetime64('2012-09-26T00:00:00.000000000'): 24,\n",
       "             numpy.datetime64('2012-12-14T00:00:00.000000000'): 8,\n",
       "             numpy.datetime64('2013-05-21T00:00:00.000000000'): 5,\n",
       "             numpy.datetime64('2013-08-08T00:00:00.000000000'): 6,\n",
       "             numpy.datetime64('2014-04-02T00:00:00.000000000'): 43,\n",
       "             numpy.datetime64('2014-06-20T00:00:00.000000000'): 4,\n",
       "             numpy.datetime64('2009-01-28T00:00:00.000000000'): 56,\n",
       "             numpy.datetime64('2014-11-25T00:00:00.000000000'): 20,\n",
       "             numpy.datetime64('2008-10-20T00:00:00.000000000'): 181,\n",
       "             numpy.datetime64('2015-02-12T00:00:00.000000000'): 25,\n",
       "             numpy.datetime64('2009-09-22T00:00:00.000000000'): 14,\n",
       "             numpy.datetime64('2009-12-10T00:00:00.000000000'): 3,\n",
       "             numpy.datetime64('2010-10-18T00:00:00.000000000'): 36,\n",
       "             numpy.datetime64('2015-10-07T00:00:00.000000000'): 83,\n",
       "             numpy.datetime64('2010-05-17T00:00:00.000000000'): 21,\n",
       "             numpy.datetime64('2010-08-04T00:00:00.000000000'): 21,\n",
       "             numpy.datetime64('2016-05-31T00:00:00.000000000'): 8,\n",
       "             numpy.datetime64('2011-03-29T00:00:00.000000000'): 20,\n",
       "             numpy.datetime64('2015-01-05T00:00:00.000000000'): 89,\n",
       "             numpy.datetime64('2015-06-15T00:00:00.000000000'): 22,\n",
       "             numpy.datetime64('2010-07-12T00:00:00.000000000'): 7,\n",
       "             numpy.datetime64('2011-11-21T00:00:00.000000000'): 39,\n",
       "             numpy.datetime64('2012-02-08T00:00:00.000000000'): 40,\n",
       "             numpy.datetime64('2012-04-27T00:00:00.000000000'): 27,\n",
       "             numpy.datetime64('2012-10-02T00:00:00.000000000'): 9,\n",
       "             numpy.datetime64('2012-12-20T00:00:00.000000000'): 10,\n",
       "             numpy.datetime64('2008-12-05T00:00:00.000000000'): 74,\n",
       "             numpy.datetime64('2013-08-14T00:00:00.000000000'): 45,\n",
       "             numpy.datetime64('2013-11-01T00:00:00.000000000'): 17,\n",
       "             numpy.datetime64('2014-04-08T00:00:00.000000000'): 60,\n",
       "             numpy.datetime64('2014-06-26T00:00:00.000000000'): 6,\n",
       "             numpy.datetime64('2009-02-03T00:00:00.000000000'): 45,\n",
       "             numpy.datetime64('2009-04-23T00:00:00.000000000'): 20,\n",
       "             numpy.datetime64('2015-02-18T00:00:00.000000000'): 67,\n",
       "             numpy.datetime64('2015-05-08T00:00:00.000000000'): 56,\n",
       "             numpy.datetime64('2009-12-16T00:00:00.000000000'): 33,\n",
       "             numpy.datetime64('2010-03-05T00:00:00.000000000'): 6,\n",
       "             numpy.datetime64('2010-08-10T00:00:00.000000000'): 10,\n",
       "             numpy.datetime64('2009-01-07T00:00:00.000000000'): 67,\n",
       "             numpy.datetime64('2010-10-28T00:00:00.000000000'): 6,\n",
       "             numpy.datetime64('2014-08-25T00:00:00.000000000'): 13,\n",
       "             numpy.datetime64('2011-06-22T00:00:00.000000000'): 10,\n",
       "             numpy.datetime64('2011-09-09T00:00:00.000000000'): 71,\n",
       "             numpy.datetime64('2011-01-20T00:00:00.000000000'): 32,\n",
       "             numpy.datetime64('2012-02-14T00:00:00.000000000'): 23,\n",
       "             numpy.datetime64('2012-10-08T00:00:00.000000000'): 5,\n",
       "             numpy.datetime64('2012-12-26T00:00:00.000000000'): 18,\n",
       "             numpy.datetime64('2013-03-15T00:00:00.000000000'): 4,\n",
       "             numpy.datetime64('2013-08-20T00:00:00.000000000'): 10,\n",
       "             numpy.datetime64('2011-06-14T00:00:00.000000000'): 24,\n",
       "             numpy.datetime64('2014-04-14T00:00:00.000000000'): 26,\n",
       "             numpy.datetime64('2014-07-02T00:00:00.000000000'): 10,\n",
       "             numpy.datetime64('2009-02-09T00:00:00.000000000'): 36,\n",
       "             numpy.datetime64('2009-04-29T00:00:00.000000000'): 15,\n",
       "             numpy.datetime64('2009-07-17T00:00:00.000000000'): 15,\n",
       "             numpy.datetime64('2015-05-14T00:00:00.000000000'): 25,\n",
       "             numpy.datetime64('2009-12-22T00:00:00.000000000'): 8,\n",
       "             numpy.datetime64('2010-08-16T00:00:00.000000000'): 14,\n",
       "             numpy.datetime64('2010-11-03T00:00:00.000000000'): 13,\n",
       "             numpy.datetime64('2008-12-01T00:00:00.000000000'): 62,\n",
       "             numpy.datetime64('2011-06-28T00:00:00.000000000'): 7,\n",
       "             numpy.datetime64('2011-09-15T00:00:00.000000000'): 39,\n",
       "             numpy.datetime64('2009-10-05T00:00:00.000000000'): 4,\n",
       "             numpy.datetime64('2012-05-09T00:00:00.000000000'): 20,\n",
       "             numpy.datetime64('2012-07-27T00:00:00.000000000'): 29,\n",
       "             numpy.datetime64('2015-07-28T00:00:00.000000000'): 27,\n",
       "             numpy.datetime64('2013-03-21T00:00:00.000000000'): 10,\n",
       "             numpy.datetime64('2013-08-26T00:00:00.000000000'): 34,\n",
       "             numpy.datetime64('2013-11-13T00:00:00.000000000'): 12,\n",
       "             numpy.datetime64('2014-01-31T00:00:00.000000000'): 32,\n",
       "             numpy.datetime64('2008-11-28T00:00:00.000000000'): 40,\n",
       "             numpy.datetime64('2014-09-25T00:00:00.000000000'): 14,\n",
       "             numpy.datetime64('2009-09-17T00:00:00.000000000'): 31,\n",
       "             numpy.datetime64('2015-03-02T00:00:00.000000000'): 7,\n",
       "             numpy.datetime64('2015-05-20T00:00:00.000000000'): 8,\n",
       "             numpy.datetime64('2015-08-07T00:00:00.000000000'): 36,\n",
       "             numpy.datetime64('2010-03-17T00:00:00.000000000'): 6,\n",
       "             numpy.datetime64('2010-06-04T00:00:00.000000000'): 24,\n",
       "             numpy.datetime64('2016-03-31T00:00:00.000000000'): 73,\n",
       "             numpy.datetime64('2010-11-09T00:00:00.000000000'): 4,\n",
       "             numpy.datetime64('2011-01-27T00:00:00.000000000'): 31,\n",
       "             numpy.datetime64('2016-05-13T00:00:00.000000000'): 3,\n",
       "             numpy.datetime64('2011-09-21T00:00:00.000000000'): 93,\n",
       "             numpy.datetime64('2011-12-09T00:00:00.000000000'): 26,\n",
       "             numpy.datetime64('2012-05-15T00:00:00.000000000'): 18,\n",
       "             numpy.datetime64('2012-08-02T00:00:00.000000000'): 22,\n",
       "             numpy.datetime64('2014-10-07T00:00:00.000000000'): 34,\n",
       "             numpy.datetime64('2009-03-05T00:00:00.000000000'): 71,\n",
       "             numpy.datetime64('2013-01-07T00:00:00.000000000'): 5,\n",
       "             numpy.datetime64('2013-03-27T00:00:00.000000000'): 5,\n",
       "             numpy.datetime64('2015-01-22T00:00:00.000000000'): 47,\n",
       "             numpy.datetime64('2013-06-14T00:00:00.000000000'): 16,\n",
       "             numpy.datetime64('2013-11-19T00:00:00.000000000'): 19,\n",
       "             numpy.datetime64('2014-02-06T00:00:00.000000000'): 14,\n",
       "             numpy.datetime64('2014-07-01T00:00:00.000000000'): 2,\n",
       "             numpy.datetime64('2014-07-14T00:00:00.000000000'): 29,\n",
       "             numpy.datetime64('2014-10-01T00:00:00.000000000'): 39,\n",
       "             numpy.datetime64('2009-05-11T00:00:00.000000000'): 42,\n",
       "             numpy.datetime64('2009-07-29T00:00:00.000000000'): 30,\n",
       "             numpy.datetime64('2009-10-16T00:00:00.000000000'): 36,\n",
       "             numpy.datetime64('2015-08-13T00:00:00.000000000'): 23,\n",
       "             numpy.datetime64('2010-03-23T00:00:00.000000000'): 22,\n",
       "             numpy.datetime64('2013-07-25T00:00:00.000000000'): 22,\n",
       "             numpy.datetime64('2010-06-10T00:00:00.000000000'): 39,\n",
       "             numpy.datetime64('2016-04-06T00:00:00.000000000'): 40,\n",
       "             numpy.datetime64('2015-07-24T00:00:00.000000000'): 13,\n",
       "             numpy.datetime64('2011-02-02T00:00:00.000000000'): 40,\n",
       "             numpy.datetime64('2011-09-27T00:00:00.000000000'): 45,\n",
       "             numpy.datetime64('2011-12-15T00:00:00.000000000'): 22,\n",
       "             numpy.datetime64('2012-08-08T00:00:00.000000000'): 15,\n",
       "             numpy.datetime64('2012-10-26T00:00:00.000000000'): 23,\n",
       "             numpy.datetime64('2013-04-02T00:00:00.000000000'): 4,\n",
       "             numpy.datetime64('2013-06-20T00:00:00.000000000'): 40,\n",
       "             numpy.datetime64('2013-11-25T00:00:00.000000000'): 7,\n",
       "             numpy.datetime64('2014-02-12T00:00:00.000000000'): 31,\n",
       "             numpy.datetime64('2014-05-02T00:00:00.000000000'): 11,\n",
       "             numpy.datetime64('2015-01-09T00:00:00.000000000'): 24,\n",
       "             numpy.datetime64('2008-12-10T00:00:00.000000000'): 76,\n",
       "             ...})"
      ]
     },
     "execution_count": 180,
     "metadata": {},
     "output_type": "execute_result"
    }
   ],
   "source": [
    "# check and remove outliers\n",
    "# use Turkey's method - 1,5 * IQR\n",
    "\n",
    "outliers_count = defaultdict(int) \n",
    "for feature in df.columns:    \n",
    "    Q1 = np.percentile(df[feature], 25)\n",
    "    Q3 = np.percentile(df[feature], 75)\n",
    "    step = (Q3-Q1)*1.5\n",
    "    \n",
    "    # Display the outliers\n",
    "    print(\"Data points considered outliers for the feature '{}':\".format(feature))\n",
    "    outliers_for_feature = df[~((df[feature] >= Q1 - step) & (df[feature] <= Q3 + step))]\n",
    "    for idx in  outliers_for_feature.index.values:\n",
    "        outliers_count[idx] += 1\n",
    "    \n",
    "    (outliers_for_feature.shape)\n",
    "    \n",
    "# print the total list of outliers\n",
    "print(\"Total number of data points identified as outliers: {}\".format(len(outliers_count)))\n",
    "\n",
    "outliers_count\n",
    "# OPTIONAL: Select the indices for data points you wish to remove\n",
    "#outliers =  list(map(lambda (x,y):x, filter(lambda (x,y):y>1, outliers_count.items())))\n",
    "#print(\"Total number of data points identified as outliers in more than one data entry: {}\".format(len(outliers)))\n",
    "\n",
    "# Remove the outliers, if any were specified\n",
    "# good_data = log_data.drop(log_data.index[outliers]).reset_index(drop = True)\n",
    "#print(outliers)"
   ]
  }
 ],
 "metadata": {
  "anaconda-cloud": {},
  "kernelspec": {
   "display_name": "Python [conda env:python3]",
   "language": "python",
   "name": "conda-env-python3-py"
  },
  "language_info": {
   "codemirror_mode": {
    "name": "ipython",
    "version": 3
   },
   "file_extension": ".py",
   "mimetype": "text/x-python",
   "name": "python",
   "nbconvert_exporter": "python",
   "pygments_lexer": "ipython3",
   "version": "3.4.5"
  }
 },
 "nbformat": 4,
 "nbformat_minor": 1
}
